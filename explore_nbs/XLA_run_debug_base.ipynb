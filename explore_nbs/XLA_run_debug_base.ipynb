{
  "nbformat": 4,
  "nbformat_minor": 0,
  "metadata": {
    "kernelspec": {
      "display_name": "Python 3",
      "language": "python",
      "name": "python3"
    },
    "language_info": {
      "codemirror_mode": {
        "name": "ipython",
        "version": 3
      },
      "file_extension": ".py",
      "mimetype": "text/x-python",
      "name": "python",
      "nbconvert_exporter": "python",
      "pygments_lexer": "ipython3",
      "version": "3.7.7"
    },
    "varInspector": {
      "cols": {
        "lenName": 16,
        "lenType": 16,
        "lenVar": 40
      },
      "kernels_config": {
        "python": {
          "delete_cmd_postfix": "",
          "delete_cmd_prefix": "del ",
          "library": "var_list.py",
          "varRefreshCmd": "print(var_dic_list())"
        },
        "r": {
          "delete_cmd_postfix": ") ",
          "delete_cmd_prefix": "rm(",
          "library": "var_list.r",
          "varRefreshCmd": "cat(var_dic_list()) "
        }
      },
      "types_to_exclude": [
        "module",
        "function",
        "builtin_function_or_method",
        "instance",
        "_Feature"
      ],
      "window_display": false
    },
    "colab": {
      "name": "XLA-run_debug-base",
      "provenance": [],
      "collapsed_sections": [],
      "toc_visible": true,
      "include_colab_link": true
    },
    "accelerator": "TPU"
  },
  "cells": [
    {
      "cell_type": "markdown",
      "metadata": {
        "id": "view-in-github",
        "colab_type": "text"
      },
      "source": [
        "<a href=\"https://colab.research.google.com/github/tyoc213/fastai_xla_extensions/blob/XLA-run_debug/explore_nbs/XLA_run_debug_base.ipynb\" target=\"_parent\"><img src=\"https://colab.research.google.com/assets/colab-badge.svg\" alt=\"Open In Colab\"/></a>"
      ]
    },
    {
      "cell_type": "markdown",
      "metadata": {
        "id": "iMuZ97eQUU3l",
        "colab_type": "text"
      },
      "source": [
        "# Install things to have them available in the environment"
      ]
    },
    {
      "cell_type": "code",
      "metadata": {
        "id": "ikqUIGIMaw_9",
        "colab_type": "code",
        "colab": {}
      },
      "source": [
        "#colab\n",
        "%%bash\n",
        "pip install fastai2 --upgrade > /dev/null"
      ],
      "execution_count": null,
      "outputs": []
    },
    {
      "cell_type": "code",
      "metadata": {
        "id": "xfDBmIS6axAJ",
        "colab_type": "code",
        "colab": {
          "base_uri": "https://localhost:8080/",
          "height": 34
        },
        "outputId": "6a12c524-6f38-4856-e5d5-b0ef4e6dada4"
      },
      "source": [
        "#colab\n",
        "%%bash\n",
        "pip install git+https://github.com/butchland/fastai_xla_extensions > /dev/null"
      ],
      "execution_count": null,
      "outputs": [
        {
          "output_type": "stream",
          "text": [
            "  Running command git clone -q https://github.com/butchland/fastai_xla_extensions /tmp/pip-req-build-tlrl3vhc\n"
          ],
          "name": "stderr"
        }
      ]
    },
    {
      "cell_type": "code",
      "metadata": {
        "id": "yDbv4w3UaxAg",
        "colab_type": "code",
        "colab": {
          "base_uri": "https://localhost:8080/",
          "height": 34
        },
        "outputId": "c12b436a-8cfd-4b0e-e247-0079357bf95a"
      },
      "source": [
        "#colab\n",
        "%%bash\n",
        "pip install git+https://github.com/butchland/my_timesaver_utils > /dev/null"
      ],
      "execution_count": null,
      "outputs": [
        {
          "output_type": "stream",
          "text": [
            "  Running command git clone -q https://github.com/butchland/my_timesaver_utils /tmp/pip-req-build-s_lji2p4\n"
          ],
          "name": "stderr"
        }
      ]
    },
    {
      "cell_type": "code",
      "metadata": {
        "id": "tQ4fEm30axAm",
        "colab_type": "code",
        "colab": {
          "base_uri": "https://localhost:8080/",
          "height": 255
        },
        "outputId": "9d0cc612-1cba-4618-a0bc-fa5db277bdb9"
      },
      "source": [
        "#colab\n",
        "# install pytorch xla\n",
        "VERSION = \"20200707\"  #@param [\"1.5\" , \"20200516\",\"20200707\", \"nightly\"]\n",
        "!curl https://raw.githubusercontent.com/pytorch/xla/master/contrib/scripts/env-setup.py -o pytorch-xla-env-setup.py\n",
        "!python pytorch-xla-env-setup.py --version $VERSION > /dev/null"
      ],
      "execution_count": null,
      "outputs": [
        {
          "output_type": "stream",
          "text": [
            "  % Total    % Received % Xferd  Average Speed   Time    Time     Time  Current\n",
            "                                 Dload  Upload   Total   Spent    Left  Speed\n",
            "100  5115  100  5115    0     0  22239      0 --:--:-- --:--:-- --:--:-- 22533\n",
            "Copying gs://tpu-pytorch/wheels/torch-nightly+20200707-cp36-cp36m-linux_x86_64.whl...\n",
            "- [1 files][107.5 MiB/107.5 MiB]                                                \n",
            "Operation completed over 1 objects/107.5 MiB.                                    \n",
            "Copying gs://tpu-pytorch/wheels/torch_xla-nightly+20200707-cp36-cp36m-linux_x86_64.whl...\n",
            "\\ [1 files][123.8 MiB/123.8 MiB]                                                \n",
            "Operation completed over 1 objects/123.8 MiB.                                    \n",
            "Copying gs://tpu-pytorch/wheels/torchvision-nightly+20200707-cp36-cp36m-linux_x86_64.whl...\n",
            "/ [1 files][  2.2 MiB/  2.2 MiB]                                                \n",
            "Operation completed over 1 objects/2.2 MiB.                                      \n",
            "\u001b[31mERROR: fastai2 0.0.21 requires torchvision>=0.7, which is not installed.\u001b[0m\n",
            "\u001b[31mERROR: fastai 1.0.61 requires torchvision, which is not installed.\u001b[0m\n"
          ],
          "name": "stdout"
        }
      ]
    },
    {
      "cell_type": "code",
      "metadata": {
        "id": "kpHgWzP3axAt",
        "colab_type": "code",
        "colab": {}
      },
      "source": [
        "import os\n",
        "assert os.environ['COLAB_TPU_ADDR'], 'Make sure to select TPU from Edit > Notebook settings > Hardware accelerator'"
      ],
      "execution_count": null,
      "outputs": []
    },
    {
      "cell_type": "code",
      "metadata": {
        "id": "dNGLC--9bg2S",
        "colab_type": "code",
        "colab": {
          "base_uri": "https://localhost:8080/",
          "height": 119
        },
        "outputId": "105d2fba-588b-41f1-e9d1-5bcd0c0a8be9"
      },
      "source": [
        "%%bash\n",
        "pip freeze | grep torch\n",
        "pip freeze | grep fastai2"
      ],
      "execution_count": null,
      "outputs": [
        {
          "output_type": "stream",
          "text": [
            "torch==1.7.0a0+12b5bdc\n",
            "torch-xla==1.6+5430aca\n",
            "torchsummary==1.5.1\n",
            "torchtext==0.3.1\n",
            "torchvision==0.8.0a0+86b6c3e\n",
            "fastai2==0.0.21\n"
          ],
          "name": "stdout"
        }
      ]
    },
    {
      "cell_type": "code",
      "metadata": {
        "id": "Y6HtxzrLaxAz",
        "colab_type": "code",
        "colab": {}
      },
      "source": [
        "import fastai_xla_extensions.core"
      ],
      "execution_count": null,
      "outputs": []
    },
    {
      "cell_type": "markdown",
      "metadata": {
        "id": "hYoWAY5oUZfr",
        "colab_type": "text"
      },
      "source": [
        "# We will work on /tmp (output files)\n",
        "\n",
        "But script could be in google drive..."
      ]
    },
    {
      "cell_type": "code",
      "metadata": {
        "id": "MDBqf6fCTN57",
        "colab_type": "code",
        "colab": {
          "base_uri": "https://localhost:8080/",
          "height": 34
        },
        "outputId": "85ca4fb1-df74-4e60-cbfb-3c9f8648bf4b"
      },
      "source": [
        "%cd /tmp"
      ],
      "execution_count": null,
      "outputs": [
        {
          "output_type": "stream",
          "text": [
            "/tmp\n"
          ],
          "name": "stdout"
        }
      ]
    },
    {
      "cell_type": "markdown",
      "metadata": {
        "id": "ApyJrnmqUO79",
        "colab_type": "text"
      },
      "source": [
        "# Download important scripts from xla"
      ]
    },
    {
      "cell_type": "code",
      "metadata": {
        "id": "ah6TSxgxTThu",
        "colab_type": "code",
        "colab": {
          "base_uri": "https://localhost:8080/",
          "height": 578
        },
        "outputId": "c74fb90e-7f3e-4712-9b8b-4c1fb168bddd"
      },
      "source": [
        "!wget https://raw.githubusercontent.com/pytorch/xla/master/scripts/debug_run.py > /dev/null\n",
        "!wget https://raw.githubusercontent.com/pytorch/xla/master/scripts/grab_graphs.py > /dev/null\n",
        "!wget https://raw.githubusercontent.com/pytorch/xla/master/scripts/grab_metrics.py > /dev/null\n",
        "%mkdir out_debug_run"
      ],
      "execution_count": null,
      "outputs": [
        {
          "output_type": "stream",
          "text": [
            "--2020-08-05 20:27:18--  https://raw.githubusercontent.com/pytorch/xla/master/scripts/debug_run.py\n",
            "Resolving raw.githubusercontent.com (raw.githubusercontent.com)... 151.101.0.133, 151.101.64.133, 151.101.128.133, ...\n",
            "Connecting to raw.githubusercontent.com (raw.githubusercontent.com)|151.101.0.133|:443... connected.\n",
            "HTTP request sent, awaiting response... 200 OK\n",
            "Length: 6176 (6.0K) [text/plain]\n",
            "Saving to: ‘debug_run.py.3’\n",
            "\n",
            "\rdebug_run.py.3        0%[                    ]       0  --.-KB/s               \rdebug_run.py.3      100%[===================>]   6.03K  --.-KB/s    in 0s      \n",
            "\n",
            "2020-08-05 20:27:18 (54.8 MB/s) - ‘debug_run.py.3’ saved [6176/6176]\n",
            "\n",
            "--2020-08-05 20:27:19--  https://raw.githubusercontent.com/pytorch/xla/master/scripts/grab_graphs.py\n",
            "Resolving raw.githubusercontent.com (raw.githubusercontent.com)... 151.101.0.133, 151.101.64.133, 151.101.128.133, ...\n",
            "Connecting to raw.githubusercontent.com (raw.githubusercontent.com)|151.101.0.133|:443... connected.\n",
            "HTTP request sent, awaiting response... 200 OK\n",
            "Length: 5216 (5.1K) [text/plain]\n",
            "Saving to: ‘grab_graphs.py.2’\n",
            "\n",
            "grab_graphs.py.2    100%[===================>]   5.09K  --.-KB/s    in 0s      \n",
            "\n",
            "2020-08-05 20:27:19 (56.5 MB/s) - ‘grab_graphs.py.2’ saved [5216/5216]\n",
            "\n",
            "--2020-08-05 20:27:20--  https://raw.githubusercontent.com/pytorch/xla/master/scripts/grab_metrics.py\n",
            "Resolving raw.githubusercontent.com (raw.githubusercontent.com)... 151.101.0.133, 151.101.64.133, 151.101.128.133, ...\n",
            "Connecting to raw.githubusercontent.com (raw.githubusercontent.com)|151.101.0.133|:443... connected.\n",
            "HTTP request sent, awaiting response... 200 OK\n",
            "Length: 4614 (4.5K) [text/plain]\n",
            "Saving to: ‘grab_metrics.py.1’\n",
            "\n",
            "grab_metrics.py.1   100%[===================>]   4.51K  --.-KB/s    in 0s      \n",
            "\n",
            "2020-08-05 20:27:20 (53.8 MB/s) - ‘grab_metrics.py.1’ saved [4614/4614]\n",
            "\n"
          ],
          "name": "stdout"
        }
      ]
    },
    {
      "cell_type": "markdown",
      "metadata": {
        "id": "A_JHfMuOT9f2",
        "colab_type": "text"
      },
      "source": [
        "# Generate debug just change target single_profile.py\n",
        "\n",
        "---\n",
        "\n",
        "In this case code to be tested is /content/drive/My\\ Drive/single_profile.py"
      ]
    },
    {
      "cell_type": "code",
      "metadata": {
        "id": "H-BUFH39FQnK",
        "colab_type": "code",
        "colab": {
          "base_uri": "https://localhost:8080/",
          "height": 1000
        },
        "outputId": "2ca0f116-dc31-4815-d78c-a5da30e1416f"
      },
      "source": [
        "!python debug_run.py --outfile /tmp/out_debug_run_1/debug_run.tar.gz -- python -u /content/drive/My\\ Drive/single_profile.py"
      ],
      "execution_count": null,
      "outputs": [
        {
          "output_type": "stream",
          "text": [
            "Writing run results to /tmp/debug_run-f74fb13da3db-root-3\n",
            "XLA Environment:\n",
            "  XRT_TPU_CONFIG=tpu_worker;0;10.89.45.18:8470\n",
            "  TF_FORCE_GPU_ALLOW_GROWTH=true\n",
            "  TF_CPP_MIN_LOG_LEVEL=0\n",
            "  TF_GRPC_DEFAULT_OPTIONS=grpc.keepalive_time_ms=60000,grpc.keepalive_timeout_ms=14400000,grpc.http2.max_pings_without_data=0,grpc.http2.min_ping_interval_without_data_ms=300000\n",
            "  XLA_FLAGS= --xla_cpu_enable_fast_math=false\n",
            "  XLA_IR_DEBUG=1\n",
            "  XLA_HLO_DEBUG=1\n",
            "  TF_CPP_LOG_THREAD_ID=1\n",
            "  XLA_DUMP_FATAL_STACK=1\n",
            "  TF_CPP_VMODULE=tensor=5,computation_client=5,xrt_computation_client=5,aten_xla_type=1\n",
            "  XLA_SAVE_TENSORS_FILE=/tmp/debug_run-f74fb13da3db-root-3/graphs\n",
            "  XLA_METRICS_FILE=/tmp/debug_run-f74fb13da3db-root-3/metrics\n",
            "2020-08-05 20:28:05.216198: I    4367 torch_xla/csrc/aten_xla_type.cpp:119] PyTorch GIT revision: 12b5bdc60194b4991d699a42a9ee5e56efa6e2f6\n",
            "2020-08-05 20:28:05.216281: I    4367 torch_xla/csrc/aten_xla_type.cpp:120] XLA GIT revision: 5430aca79ffdd1e0084c151a0d0302d40e5f55b3\n",
            "2020-08-05 20:28:05.486101: I    4367 tensorflow/compiler/xla/xla_client/xrt_computation_client.cc:257] XRT device (LOCAL) CPU:0 -> /job:tpu_worker/replica:0/task:0/device:XLA_CPU:0\n",
            "2020-08-05 20:28:05.486198: I    4367 tensorflow/compiler/xla/xla_client/xrt_computation_client.cc:257] XRT device (LOCAL) TPU:0 -> /job:tpu_worker/replica:0/task:0/device:TPU:0\n",
            "2020-08-05 20:28:05.486213: I    4367 tensorflow/compiler/xla/xla_client/xrt_computation_client.cc:257] XRT device (LOCAL) TPU:1 -> /job:tpu_worker/replica:0/task:0/device:TPU:1\n",
            "2020-08-05 20:28:05.486220: I    4367 tensorflow/compiler/xla/xla_client/xrt_computation_client.cc:257] XRT device (LOCAL) TPU:2 -> /job:tpu_worker/replica:0/task:0/device:TPU:2\n",
            "2020-08-05 20:28:05.486228: I    4367 tensorflow/compiler/xla/xla_client/xrt_computation_client.cc:257] XRT device (LOCAL) TPU:3 -> /job:tpu_worker/replica:0/task:0/device:TPU:3\n",
            "2020-08-05 20:28:05.486235: I    4367 tensorflow/compiler/xla/xla_client/xrt_computation_client.cc:257] XRT device (LOCAL) TPU:4 -> /job:tpu_worker/replica:0/task:0/device:TPU:4\n",
            "2020-08-05 20:28:05.486242: I    4367 tensorflow/compiler/xla/xla_client/xrt_computation_client.cc:257] XRT device (LOCAL) TPU:5 -> /job:tpu_worker/replica:0/task:0/device:TPU:5\n",
            "2020-08-05 20:28:05.486249: I    4367 tensorflow/compiler/xla/xla_client/xrt_computation_client.cc:257] XRT device (LOCAL) TPU:6 -> /job:tpu_worker/replica:0/task:0/device:TPU:6\n",
            "2020-08-05 20:28:05.486256: I    4367 tensorflow/compiler/xla/xla_client/xrt_computation_client.cc:257] XRT device (LOCAL) TPU:7 -> /job:tpu_worker/replica:0/task:0/device:TPU:7\n",
            "2020-08-05 20:28:05.486271: I    4367 tensorflow/compiler/xla/xla_client/xrt_computation_client.cc:261] Worker grpc://10.89.45.18:8470 for /job:tpu_worker/replica:0/task:0\n",
            "2020-08-05 20:28:05.486279: I    4367 tensorflow/compiler/xla/xla_client/xrt_computation_client.cc:265] XRT default device: TPU:0\n",
            "2020-08-05 20:28:05.486296: I    4367 tensorflow/compiler/xla/xla_client/xrt_computation_client.cc:1247] Configuring TPU for master worker tpu_worker:0 at grpc://10.89.45.18:8470\n",
            "2020-08-05 20:28:12.377109: I    4367 tensorflow/compiler/xla/xla_client/xrt_computation_client.cc:1258] TPU topology: mesh_shape: 2\n",
            "mesh_shape: 2\n",
            "mesh_shape: 1\n",
            "mesh_shape: 2\n",
            "num_tasks: 1\n",
            "num_tpu_devices_per_task: 8\n",
            "device_coordinates: 0\n",
            "device_coordinates: 0\n",
            "device_coordinates: 0\n",
            "device_coordinates: 0\n",
            "device_coordinates: 0\n",
            "device_coordinates: 0\n",
            "device_coordinates: 0\n",
            "device_coordinates: 1\n",
            "device_coordinates: 1\n",
            "device_coordinates: 0\n",
            "device_coordinates: 0\n",
            "device_coordinates: 0\n",
            "device_coordinates: 1\n",
            "device_coordinates: 0\n",
            "device_coordinates: 0\n",
            "device_coordinates: 1\n",
            "device_coordinates: 0\n",
            "device_coordinates: 1\n",
            "device_coordinates: 0\n",
            "device_coordinates: 0\n",
            "device_coordinates: 0\n",
            "device_coordinates: 1\n",
            "device_coordinates: 0\n",
            "device_coordinates: 1\n",
            "device_coordinates: 1\n",
            "device_coordinates: 1\n",
            "device_coordinates: 0\n",
            "device_coordinates: 0\n",
            "device_coordinates: 1\n",
            "device_coordinates: 1\n",
            "device_coordinates: 0\n",
            "device_coordinates: 1\n",
            "\n",
            "running on default_device() & cuda is False\n",
            "--- 10 image tensor loops:\n",
            "--- ---------------------------------\n",
            "2020-08-05 20:28:13.336934: I    4367 torch_xla/csrc/tensor.cpp:1099] Waiting on device barrier for device TPU:0 ...\n",
            "2020-08-05 20:28:13.337015: I    4367 torch_xla/csrc/tensor.cpp:1105] Waiting on device barrier for device TPU:0 done!\n",
            "2020-08-05 20:28:13.337183: I    4367 torch_xla/csrc/tensor.cpp:1144] Tensors graph hash c22bbfda94620fa85049813e6a030570 on device TPU:0\n",
            "2020-08-05 20:28:13.352882: I    4367 torch_xla/csrc/tensor.cpp:1553] Parameter sequence graph hash 99f265ec7307ebccc77dae150538b94c\n",
            "2020-08-05 20:28:13.353810: I    4367 torch_xla/csrc/tensor.cpp:1519] Compiling IR graph hash 99f265ec7307ebccc77dae150538b94c on device TPU:0 ...\n",
            "2020-08-05 20:28:13.552470: I    4367 torch_xla/csrc/tensor.cpp:1524] Compiling IR graph hash 99f265ec7307ebccc77dae150538b94c on device TPU:0 done!\n",
            "2020-08-05 20:28:13.552706: I    4367 torch_xla/csrc/tensor.cpp:1526] Graph hash 99f265ec7307ebccc77dae150538b94c is computation hash 77560bcba9b4e8c28f12e69c6674fe56\n",
            "2020-08-05 20:28:13.552831: I    4367 torch_xla/csrc/tensor.cpp:1563] TensorsGraphSize=111\n",
            "2020-08-05 20:28:13.552910: I    4401 torch_xla/csrc/tensor.cpp:1272] Executing IR graph hash 99f265ec7307ebccc77dae150538b94c on device TPU:0 ...\n",
            "2020-08-05 20:28:13.565297: I    4401 torch_xla/csrc/tensor.cpp:1277] Executing IR graph hash 99f265ec7307ebccc77dae150538b94c on device TPU:0 done!\n",
            "2020-08-05 20:28:17.221059: I    4367 torch_xla/csrc/tensor.cpp:1099] Waiting on device barrier for device TPU:0 ...\n",
            "2020-08-05 20:28:17.221202: I    4367 torch_xla/csrc/tensor.cpp:1105] Waiting on device barrier for device TPU:0 done!\n",
            "2020-08-05 20:28:17.221246: I    4367 torch_xla/csrc/tensor.cpp:1144] Tensors graph hash 85856bd5f86ae566a31cc6629fa2beb4 on device TPU:0\n",
            "2020-08-05 20:28:17.221978: I    4367 torch_xla/csrc/tensor.cpp:1553] Parameter sequence graph hash a69e2fdb3af76c0e43a68fe37b334539\n",
            "2020-08-05 20:28:17.222299: I    4367 torch_xla/csrc/tensor.cpp:1519] Compiling IR graph hash a69e2fdb3af76c0e43a68fe37b334539 on device TPU:0 ...\n",
            "2020-08-05 20:28:17.357195: I    4367 torch_xla/csrc/tensor.cpp:1524] Compiling IR graph hash a69e2fdb3af76c0e43a68fe37b334539 on device TPU:0 done!\n",
            "2020-08-05 20:28:17.357350: I    4367 torch_xla/csrc/tensor.cpp:1526] Graph hash a69e2fdb3af76c0e43a68fe37b334539 is computation hash 98039ba7b72767e42dd81dd3b9912a7f\n",
            "2020-08-05 20:28:17.357386: I    4367 torch_xla/csrc/tensor.cpp:1563] TensorsGraphSize=6\n",
            "2020-08-05 20:28:17.357462: I    4401 torch_xla/csrc/tensor.cpp:1272] Executing IR graph hash a69e2fdb3af76c0e43a68fe37b334539 on device TPU:0 ...\n",
            "2020-08-05 20:28:17.396494: I    4401 torch_xla/csrc/tensor.cpp:1277] Executing IR graph hash a69e2fdb3af76c0e43a68fe37b334539 on device TPU:0 done!\n",
            "2020-08-05 20:28:17.399473: I    4367 torch_xla/csrc/tensor.cpp:1099] Waiting on device barrier for device TPU:0 ...\n",
            "2020-08-05 20:28:17.399562: I    4367 torch_xla/csrc/tensor.cpp:1105] Waiting on device barrier for device TPU:0 done!\n",
            "2020-08-05 20:28:17.399587: I    4367 torch_xla/csrc/tensor.cpp:1144] Tensors graph hash ca692ea24595637a49f7808537094ec1 on device TPU:0\n",
            "2020-08-05 20:28:17.400949: I    4367 torch_xla/csrc/tensor.cpp:1553] Parameter sequence graph hash a2013a45019d58e2397d89f572a80bdc\n",
            "2020-08-05 20:28:17.401286: I    4367 torch_xla/csrc/tensor.cpp:1519] Compiling IR graph hash a2013a45019d58e2397d89f572a80bdc on device TPU:0 ...\n",
            "2020-08-05 20:28:17.518560: I    4367 torch_xla/csrc/tensor.cpp:1524] Compiling IR graph hash a2013a45019d58e2397d89f572a80bdc on device TPU:0 done!\n",
            "2020-08-05 20:28:17.518738: I    4367 torch_xla/csrc/tensor.cpp:1526] Graph hash a2013a45019d58e2397d89f572a80bdc is computation hash b0a425f9905b0e54948fa8c891f79cac\n",
            "2020-08-05 20:28:17.518766: I    4367 torch_xla/csrc/tensor.cpp:1563] TensorsGraphSize=7\n",
            "2020-08-05 20:28:17.518845: I    4402 torch_xla/csrc/tensor.cpp:1272] Executing IR graph hash a2013a45019d58e2397d89f572a80bdc on device TPU:0 ...\n",
            "2020-08-05 20:28:17.523549: I    4402 torch_xla/csrc/tensor.cpp:1277] Executing IR graph hash a2013a45019d58e2397d89f572a80bdc on device TPU:0 done!\n",
            "--- ---------------------------------\n",
            "2020-08-05 20:28:22.938823: I    4367 torch_xla/csrc/tensor.cpp:1099] Waiting on device barrier for device TPU:0 ...\n",
            "2020-08-05 20:28:22.938921: I    4367 torch_xla/csrc/tensor.cpp:1105] Waiting on device barrier for device TPU:0 done!\n",
            "2020-08-05 20:28:22.939015: I    4367 torch_xla/csrc/tensor.cpp:1144] Tensors graph hash c22bbfda94620fa85049813e6a030570 on device TPU:0\n",
            "2020-08-05 20:28:22.954613: I    4367 torch_xla/csrc/tensor.cpp:1553] Parameter sequence graph hash 99f265ec7307ebccc77dae150538b94c\n",
            "2020-08-05 20:28:22.954766: I    4367 torch_xla/csrc/tensor.cpp:1157] Graph hash 99f265ec7307ebccc77dae150538b94c is computation hash 77560bcba9b4e8c28f12e69c6674fe56\n",
            "2020-08-05 20:28:22.954793: I    4367 torch_xla/csrc/tensor.cpp:1176] TensorsGraphSize=111\n",
            "2020-08-05 20:28:22.954898: I    4402 torch_xla/csrc/tensor.cpp:1272] Executing IR graph hash 99f265ec7307ebccc77dae150538b94c on device TPU:0 ...\n",
            "2020-08-05 20:28:22.959352: I    4402 torch_xla/csrc/tensor.cpp:1277] Executing IR graph hash 99f265ec7307ebccc77dae150538b94c on device TPU:0 done!\n",
            "2020-08-05 20:28:26.122338: I    4367 torch_xla/csrc/tensor.cpp:1099] Waiting on device barrier for device TPU:0 ...\n",
            "2020-08-05 20:28:26.122428: I    4367 torch_xla/csrc/tensor.cpp:1105] Waiting on device barrier for device TPU:0 done!\n",
            "2020-08-05 20:28:26.122453: I    4367 torch_xla/csrc/tensor.cpp:1144] Tensors graph hash 85856bd5f86ae566a31cc6629fa2beb4 on device TPU:0\n",
            "2020-08-05 20:28:26.123216: I    4367 torch_xla/csrc/tensor.cpp:1553] Parameter sequence graph hash a69e2fdb3af76c0e43a68fe37b334539\n",
            "2020-08-05 20:28:26.123281: I    4367 torch_xla/csrc/tensor.cpp:1157] Graph hash a69e2fdb3af76c0e43a68fe37b334539 is computation hash 98039ba7b72767e42dd81dd3b9912a7f\n",
            "2020-08-05 20:28:26.123291: I    4367 torch_xla/csrc/tensor.cpp:1176] TensorsGraphSize=6\n",
            "2020-08-05 20:28:26.123347: I    4401 torch_xla/csrc/tensor.cpp:1272] Executing IR graph hash a69e2fdb3af76c0e43a68fe37b334539 on device TPU:0 ...\n",
            "2020-08-05 20:28:26.133415: I    4401 torch_xla/csrc/tensor.cpp:1277] Executing IR graph hash a69e2fdb3af76c0e43a68fe37b334539 on device TPU:0 done!\n",
            "2020-08-05 20:28:26.135684: I    4367 torch_xla/csrc/tensor.cpp:1099] Waiting on device barrier for device TPU:0 ...\n",
            "2020-08-05 20:28:26.135741: I    4367 torch_xla/csrc/tensor.cpp:1105] Waiting on device barrier for device TPU:0 done!\n",
            "2020-08-05 20:28:26.135762: I    4367 torch_xla/csrc/tensor.cpp:1144] Tensors graph hash ca692ea24595637a49f7808537094ec1 on device TPU:0\n",
            "2020-08-05 20:28:26.137047: I    4367 torch_xla/csrc/tensor.cpp:1553] Parameter sequence graph hash a2013a45019d58e2397d89f572a80bdc\n",
            "2020-08-05 20:28:26.137108: I    4367 torch_xla/csrc/tensor.cpp:1157] Graph hash a2013a45019d58e2397d89f572a80bdc is computation hash b0a425f9905b0e54948fa8c891f79cac\n",
            "2020-08-05 20:28:26.137119: I    4367 torch_xla/csrc/tensor.cpp:1176] TensorsGraphSize=7\n",
            "2020-08-05 20:28:26.137194: I    4401 torch_xla/csrc/tensor.cpp:1272] Executing IR graph hash a2013a45019d58e2397d89f572a80bdc on device TPU:0 ...\n",
            "2020-08-05 20:28:26.141561: I    4401 torch_xla/csrc/tensor.cpp:1277] Executing IR graph hash a2013a45019d58e2397d89f572a80bdc on device TPU:0 done!\n",
            "--- ---------------------------------\n",
            "2020-08-05 20:28:31.053072: I    4367 torch_xla/csrc/tensor.cpp:1099] Waiting on device barrier for device TPU:0 ...\n",
            "2020-08-05 20:28:31.053164: I    4367 torch_xla/csrc/tensor.cpp:1105] Waiting on device barrier for device TPU:0 done!\n",
            "2020-08-05 20:28:31.053266: I    4367 torch_xla/csrc/tensor.cpp:1144] Tensors graph hash c22bbfda94620fa85049813e6a030570 on device TPU:0\n",
            "2020-08-05 20:28:31.069066: I    4367 torch_xla/csrc/tensor.cpp:1553] Parameter sequence graph hash 99f265ec7307ebccc77dae150538b94c\n",
            "2020-08-05 20:28:31.069267: I    4367 torch_xla/csrc/tensor.cpp:1157] Graph hash 99f265ec7307ebccc77dae150538b94c is computation hash 77560bcba9b4e8c28f12e69c6674fe56\n",
            "2020-08-05 20:28:31.069292: I    4367 torch_xla/csrc/tensor.cpp:1176] TensorsGraphSize=111\n",
            "2020-08-05 20:28:31.069353: I    4401 torch_xla/csrc/tensor.cpp:1272] Executing IR graph hash 99f265ec7307ebccc77dae150538b94c on device TPU:0 ...\n",
            "2020-08-05 20:28:31.073231: I    4401 torch_xla/csrc/tensor.cpp:1277] Executing IR graph hash 99f265ec7307ebccc77dae150538b94c on device TPU:0 done!\n",
            "2020-08-05 20:28:34.098573: I    4367 torch_xla/csrc/tensor.cpp:1099] Waiting on device barrier for device TPU:0 ...\n",
            "2020-08-05 20:28:34.098657: I    4367 torch_xla/csrc/tensor.cpp:1105] Waiting on device barrier for device TPU:0 done!\n",
            "2020-08-05 20:28:34.098681: I    4367 torch_xla/csrc/tensor.cpp:1144] Tensors graph hash 85856bd5f86ae566a31cc6629fa2beb4 on device TPU:0\n",
            "2020-08-05 20:28:34.099425: I    4367 torch_xla/csrc/tensor.cpp:1553] Parameter sequence graph hash a69e2fdb3af76c0e43a68fe37b334539\n",
            "2020-08-05 20:28:34.099486: I    4367 torch_xla/csrc/tensor.cpp:1157] Graph hash a69e2fdb3af76c0e43a68fe37b334539 is computation hash 98039ba7b72767e42dd81dd3b9912a7f\n",
            "2020-08-05 20:28:34.099501: I    4367 torch_xla/csrc/tensor.cpp:1176] TensorsGraphSize=6\n",
            "2020-08-05 20:28:34.099565: I    4402 torch_xla/csrc/tensor.cpp:1272] Executing IR graph hash a69e2fdb3af76c0e43a68fe37b334539 on device TPU:0 ...\n",
            "2020-08-05 20:28:34.107327: I    4402 torch_xla/csrc/tensor.cpp:1277] Executing IR graph hash a69e2fdb3af76c0e43a68fe37b334539 on device TPU:0 done!\n",
            "2020-08-05 20:28:34.109597: I    4367 torch_xla/csrc/tensor.cpp:1099] Waiting on device barrier for device TPU:0 ...\n",
            "2020-08-05 20:28:34.109652: I    4367 torch_xla/csrc/tensor.cpp:1105] Waiting on device barrier for device TPU:0 done!\n",
            "2020-08-05 20:28:34.109677: I    4367 torch_xla/csrc/tensor.cpp:1144] Tensors graph hash ca692ea24595637a49f7808537094ec1 on device TPU:0\n",
            "2020-08-05 20:28:34.111010: I    4367 torch_xla/csrc/tensor.cpp:1553] Parameter sequence graph hash a2013a45019d58e2397d89f572a80bdc\n",
            "2020-08-05 20:28:34.111070: I    4367 torch_xla/csrc/tensor.cpp:1157] Graph hash a2013a45019d58e2397d89f572a80bdc is computation hash b0a425f9905b0e54948fa8c891f79cac\n",
            "2020-08-05 20:28:34.111080: I    4367 torch_xla/csrc/tensor.cpp:1176] TensorsGraphSize=7\n",
            "2020-08-05 20:28:34.111164: I    4402 torch_xla/csrc/tensor.cpp:1272] Executing IR graph hash a2013a45019d58e2397d89f572a80bdc on device TPU:0 ...\n",
            "2020-08-05 20:28:34.115542: I    4402 torch_xla/csrc/tensor.cpp:1277] Executing IR graph hash a2013a45019d58e2397d89f572a80bdc on device TPU:0 done!\n",
            "--- ---------------------------------\n",
            "2020-08-05 20:28:38.898329: I    4367 torch_xla/csrc/tensor.cpp:1099] Waiting on device barrier for device TPU:0 ...\n",
            "2020-08-05 20:28:38.898414: I    4367 torch_xla/csrc/tensor.cpp:1105] Waiting on device barrier for device TPU:0 done!\n",
            "2020-08-05 20:28:38.898540: I    4367 torch_xla/csrc/tensor.cpp:1144] Tensors graph hash c22bbfda94620fa85049813e6a030570 on device TPU:0\n",
            "2020-08-05 20:28:38.914615: I    4367 torch_xla/csrc/tensor.cpp:1553] Parameter sequence graph hash 99f265ec7307ebccc77dae150538b94c\n",
            "2020-08-05 20:28:38.914811: I    4367 torch_xla/csrc/tensor.cpp:1157] Graph hash 99f265ec7307ebccc77dae150538b94c is computation hash 77560bcba9b4e8c28f12e69c6674fe56\n",
            "2020-08-05 20:28:38.914828: I    4367 torch_xla/csrc/tensor.cpp:1176] TensorsGraphSize=111\n",
            "2020-08-05 20:28:38.914968: I    4402 torch_xla/csrc/tensor.cpp:1272] Executing IR graph hash 99f265ec7307ebccc77dae150538b94c on device TPU:0 ...\n",
            "2020-08-05 20:28:38.919692: I    4402 torch_xla/csrc/tensor.cpp:1277] Executing IR graph hash 99f265ec7307ebccc77dae150538b94c on device TPU:0 done!\n",
            "2020-08-05 20:28:42.164033: I    4367 torch_xla/csrc/tensor.cpp:1099] Waiting on device barrier for device TPU:0 ...\n",
            "2020-08-05 20:28:42.164162: I    4367 torch_xla/csrc/tensor.cpp:1105] Waiting on device barrier for device TPU:0 done!\n",
            "2020-08-05 20:28:42.164199: I    4367 torch_xla/csrc/tensor.cpp:1144] Tensors graph hash 85856bd5f86ae566a31cc6629fa2beb4 on device TPU:0\n",
            "2020-08-05 20:28:42.164943: I    4367 torch_xla/csrc/tensor.cpp:1553] Parameter sequence graph hash a69e2fdb3af76c0e43a68fe37b334539\n",
            "2020-08-05 20:28:42.165017: I    4367 torch_xla/csrc/tensor.cpp:1157] Graph hash a69e2fdb3af76c0e43a68fe37b334539 is computation hash 98039ba7b72767e42dd81dd3b9912a7f\n",
            "2020-08-05 20:28:42.165029: I    4367 torch_xla/csrc/tensor.cpp:1176] TensorsGraphSize=6\n",
            "2020-08-05 20:28:42.165177: I    4401 torch_xla/csrc/tensor.cpp:1272] Executing IR graph hash a69e2fdb3af76c0e43a68fe37b334539 on device TPU:0 ...\n",
            "2020-08-05 20:28:42.172533: I    4401 torch_xla/csrc/tensor.cpp:1277] Executing IR graph hash a69e2fdb3af76c0e43a68fe37b334539 on device TPU:0 done!\n",
            "2020-08-05 20:28:42.174945: I    4367 torch_xla/csrc/tensor.cpp:1099] Waiting on device barrier for device TPU:0 ...\n",
            "2020-08-05 20:28:42.175013: I    4367 torch_xla/csrc/tensor.cpp:1105] Waiting on device barrier for device TPU:0 done!\n",
            "2020-08-05 20:28:42.175035: I    4367 torch_xla/csrc/tensor.cpp:1144] Tensors graph hash ca692ea24595637a49f7808537094ec1 on device TPU:0\n",
            "2020-08-05 20:28:42.176426: I    4367 torch_xla/csrc/tensor.cpp:1553] Parameter sequence graph hash a2013a45019d58e2397d89f572a80bdc\n",
            "2020-08-05 20:28:42.176505: I    4367 torch_xla/csrc/tensor.cpp:1157] Graph hash a2013a45019d58e2397d89f572a80bdc is computation hash b0a425f9905b0e54948fa8c891f79cac\n",
            "2020-08-05 20:28:42.176516: I    4367 torch_xla/csrc/tensor.cpp:1176] TensorsGraphSize=7\n",
            "2020-08-05 20:28:42.176604: I    4401 torch_xla/csrc/tensor.cpp:1272] Executing IR graph hash a2013a45019d58e2397d89f572a80bdc on device TPU:0 ...\n",
            "2020-08-05 20:28:42.180292: I    4401 torch_xla/csrc/tensor.cpp:1277] Executing IR graph hash a2013a45019d58e2397d89f572a80bdc on device TPU:0 done!\n",
            "--- ---------------------------------\n",
            "2020-08-05 20:28:47.180492: I    4367 torch_xla/csrc/tensor.cpp:1099] Waiting on device barrier for device TPU:0 ...\n",
            "2020-08-05 20:28:47.180589: I    4367 torch_xla/csrc/tensor.cpp:1105] Waiting on device barrier for device TPU:0 done!\n",
            "2020-08-05 20:28:47.180703: I    4367 torch_xla/csrc/tensor.cpp:1144] Tensors graph hash c22bbfda94620fa85049813e6a030570 on device TPU:0\n",
            "2020-08-05 20:28:47.196479: I    4367 torch_xla/csrc/tensor.cpp:1553] Parameter sequence graph hash 99f265ec7307ebccc77dae150538b94c\n",
            "2020-08-05 20:28:47.196682: I    4367 torch_xla/csrc/tensor.cpp:1157] Graph hash 99f265ec7307ebccc77dae150538b94c is computation hash 77560bcba9b4e8c28f12e69c6674fe56\n",
            "2020-08-05 20:28:47.196697: I    4367 torch_xla/csrc/tensor.cpp:1176] TensorsGraphSize=111\n",
            "2020-08-05 20:28:47.196782: I    4401 torch_xla/csrc/tensor.cpp:1272] Executing IR graph hash 99f265ec7307ebccc77dae150538b94c on device TPU:0 ...\n",
            "2020-08-05 20:28:47.200776: I    4401 torch_xla/csrc/tensor.cpp:1277] Executing IR graph hash 99f265ec7307ebccc77dae150538b94c on device TPU:0 done!\n",
            "2020-08-05 20:28:50.358202: I    4367 torch_xla/csrc/tensor.cpp:1099] Waiting on device barrier for device TPU:0 ...\n",
            "2020-08-05 20:28:50.358314: I    4367 torch_xla/csrc/tensor.cpp:1105] Waiting on device barrier for device TPU:0 done!\n",
            "2020-08-05 20:28:50.358366: I    4367 torch_xla/csrc/tensor.cpp:1144] Tensors graph hash 85856bd5f86ae566a31cc6629fa2beb4 on device TPU:0\n",
            "2020-08-05 20:28:50.359194: I    4367 torch_xla/csrc/tensor.cpp:1553] Parameter sequence graph hash a69e2fdb3af76c0e43a68fe37b334539\n",
            "2020-08-05 20:28:50.359282: I    4367 torch_xla/csrc/tensor.cpp:1157] Graph hash a69e2fdb3af76c0e43a68fe37b334539 is computation hash 98039ba7b72767e42dd81dd3b9912a7f\n",
            "2020-08-05 20:28:50.359299: I    4367 torch_xla/csrc/tensor.cpp:1176] TensorsGraphSize=6\n",
            "2020-08-05 20:28:50.359370: I    4402 torch_xla/csrc/tensor.cpp:1272] Executing IR graph hash a69e2fdb3af76c0e43a68fe37b334539 on device TPU:0 ...\n",
            "2020-08-05 20:28:50.368428: I    4402 torch_xla/csrc/tensor.cpp:1277] Executing IR graph hash a69e2fdb3af76c0e43a68fe37b334539 on device TPU:0 done!\n",
            "2020-08-05 20:28:50.370673: I    4367 torch_xla/csrc/tensor.cpp:1099] Waiting on device barrier for device TPU:0 ...\n",
            "2020-08-05 20:28:50.370724: I    4367 torch_xla/csrc/tensor.cpp:1105] Waiting on device barrier for device TPU:0 done!\n",
            "2020-08-05 20:28:50.370744: I    4367 torch_xla/csrc/tensor.cpp:1144] Tensors graph hash ca692ea24595637a49f7808537094ec1 on device TPU:0\n",
            "2020-08-05 20:28:50.372063: I    4367 torch_xla/csrc/tensor.cpp:1553] Parameter sequence graph hash a2013a45019d58e2397d89f572a80bdc\n",
            "2020-08-05 20:28:50.372128: I    4367 torch_xla/csrc/tensor.cpp:1157] Graph hash a2013a45019d58e2397d89f572a80bdc is computation hash b0a425f9905b0e54948fa8c891f79cac\n",
            "2020-08-05 20:28:50.372167: I    4367 torch_xla/csrc/tensor.cpp:1176] TensorsGraphSize=7\n",
            "2020-08-05 20:28:50.372225: I    4402 torch_xla/csrc/tensor.cpp:1272] Executing IR graph hash a2013a45019d58e2397d89f572a80bdc on device TPU:0 ...\n",
            "2020-08-05 20:28:50.377234: I    4402 torch_xla/csrc/tensor.cpp:1277] Executing IR graph hash a2013a45019d58e2397d89f572a80bdc on device TPU:0 done!\n",
            "--- ---------------------------------\n",
            "2020-08-05 20:28:55.378619: I    4367 torch_xla/csrc/tensor.cpp:1099] Waiting on device barrier for device TPU:0 ...\n",
            "2020-08-05 20:28:55.378719: I    4367 torch_xla/csrc/tensor.cpp:1105] Waiting on device barrier for device TPU:0 done!\n",
            "2020-08-05 20:28:55.378918: I    4367 torch_xla/csrc/tensor.cpp:1144] Tensors graph hash c22bbfda94620fa85049813e6a030570 on device TPU:0\n",
            "2020-08-05 20:28:55.394704: I    4367 torch_xla/csrc/tensor.cpp:1553] Parameter sequence graph hash 99f265ec7307ebccc77dae150538b94c\n",
            "2020-08-05 20:28:55.394882: I    4367 torch_xla/csrc/tensor.cpp:1157] Graph hash 99f265ec7307ebccc77dae150538b94c is computation hash 77560bcba9b4e8c28f12e69c6674fe56\n",
            "2020-08-05 20:28:55.394896: I    4367 torch_xla/csrc/tensor.cpp:1176] TensorsGraphSize=111\n",
            "2020-08-05 20:28:55.394966: I    4402 torch_xla/csrc/tensor.cpp:1272] Executing IR graph hash 99f265ec7307ebccc77dae150538b94c on device TPU:0 ...\n",
            "2020-08-05 20:28:55.399325: I    4402 torch_xla/csrc/tensor.cpp:1277] Executing IR graph hash 99f265ec7307ebccc77dae150538b94c on device TPU:0 done!\n",
            "2020-08-05 20:28:58.510059: I    4367 torch_xla/csrc/tensor.cpp:1099] Waiting on device barrier for device TPU:0 ...\n",
            "2020-08-05 20:28:58.510173: I    4367 torch_xla/csrc/tensor.cpp:1105] Waiting on device barrier for device TPU:0 done!\n",
            "2020-08-05 20:28:58.510211: I    4367 torch_xla/csrc/tensor.cpp:1144] Tensors graph hash 85856bd5f86ae566a31cc6629fa2beb4 on device TPU:0\n",
            "2020-08-05 20:28:58.510962: I    4367 torch_xla/csrc/tensor.cpp:1553] Parameter sequence graph hash a69e2fdb3af76c0e43a68fe37b334539\n",
            "2020-08-05 20:28:58.511030: I    4367 torch_xla/csrc/tensor.cpp:1157] Graph hash a69e2fdb3af76c0e43a68fe37b334539 is computation hash 98039ba7b72767e42dd81dd3b9912a7f\n",
            "2020-08-05 20:28:58.511040: I    4367 torch_xla/csrc/tensor.cpp:1176] TensorsGraphSize=6\n",
            "2020-08-05 20:28:58.511102: I    4401 torch_xla/csrc/tensor.cpp:1272] Executing IR graph hash a69e2fdb3af76c0e43a68fe37b334539 on device TPU:0 ...\n",
            "2020-08-05 20:28:58.520290: I    4401 torch_xla/csrc/tensor.cpp:1277] Executing IR graph hash a69e2fdb3af76c0e43a68fe37b334539 on device TPU:0 done!\n",
            "2020-08-05 20:28:58.522515: I    4367 torch_xla/csrc/tensor.cpp:1099] Waiting on device barrier for device TPU:0 ...\n",
            "2020-08-05 20:28:58.522559: I    4367 torch_xla/csrc/tensor.cpp:1105] Waiting on device barrier for device TPU:0 done!\n",
            "2020-08-05 20:28:58.522577: I    4367 torch_xla/csrc/tensor.cpp:1144] Tensors graph hash ca692ea24595637a49f7808537094ec1 on device TPU:0\n",
            "2020-08-05 20:28:58.523856: I    4367 torch_xla/csrc/tensor.cpp:1553] Parameter sequence graph hash a2013a45019d58e2397d89f572a80bdc\n",
            "2020-08-05 20:28:58.523916: I    4367 torch_xla/csrc/tensor.cpp:1157] Graph hash a2013a45019d58e2397d89f572a80bdc is computation hash b0a425f9905b0e54948fa8c891f79cac\n",
            "2020-08-05 20:28:58.523926: I    4367 torch_xla/csrc/tensor.cpp:1176] TensorsGraphSize=7\n",
            "2020-08-05 20:28:58.524000: I    4401 torch_xla/csrc/tensor.cpp:1272] Executing IR graph hash a2013a45019d58e2397d89f572a80bdc on device TPU:0 ...\n",
            "2020-08-05 20:28:58.527971: I    4401 torch_xla/csrc/tensor.cpp:1277] Executing IR graph hash a2013a45019d58e2397d89f572a80bdc on device TPU:0 done!\n",
            "--- ---------------------------------\n",
            "2020-08-05 20:29:03.033088: I    4367 torch_xla/csrc/tensor.cpp:1099] Waiting on device barrier for device TPU:0 ...\n",
            "2020-08-05 20:29:03.033194: I    4367 torch_xla/csrc/tensor.cpp:1105] Waiting on device barrier for device TPU:0 done!\n",
            "2020-08-05 20:29:03.033312: I    4367 torch_xla/csrc/tensor.cpp:1144] Tensors graph hash c22bbfda94620fa85049813e6a030570 on device TPU:0\n",
            "2020-08-05 20:29:03.048967: I    4367 torch_xla/csrc/tensor.cpp:1553] Parameter sequence graph hash 99f265ec7307ebccc77dae150538b94c\n",
            "2020-08-05 20:29:03.049165: I    4367 torch_xla/csrc/tensor.cpp:1157] Graph hash 99f265ec7307ebccc77dae150538b94c is computation hash 77560bcba9b4e8c28f12e69c6674fe56\n",
            "2020-08-05 20:29:03.049183: I    4367 torch_xla/csrc/tensor.cpp:1176] TensorsGraphSize=111\n",
            "2020-08-05 20:29:03.049258: I    4401 torch_xla/csrc/tensor.cpp:1272] Executing IR graph hash 99f265ec7307ebccc77dae150538b94c on device TPU:0 ...\n",
            "2020-08-05 20:29:03.053427: I    4401 torch_xla/csrc/tensor.cpp:1277] Executing IR graph hash 99f265ec7307ebccc77dae150538b94c on device TPU:0 done!\n",
            "2020-08-05 20:29:06.067613: I    4367 torch_xla/csrc/tensor.cpp:1099] Waiting on device barrier for device TPU:0 ...\n",
            "2020-08-05 20:29:06.067700: I    4367 torch_xla/csrc/tensor.cpp:1105] Waiting on device barrier for device TPU:0 done!\n",
            "2020-08-05 20:29:06.067727: I    4367 torch_xla/csrc/tensor.cpp:1144] Tensors graph hash 85856bd5f86ae566a31cc6629fa2beb4 on device TPU:0\n",
            "2020-08-05 20:29:06.068486: I    4367 torch_xla/csrc/tensor.cpp:1553] Parameter sequence graph hash a69e2fdb3af76c0e43a68fe37b334539\n",
            "2020-08-05 20:29:06.068553: I    4367 torch_xla/csrc/tensor.cpp:1157] Graph hash a69e2fdb3af76c0e43a68fe37b334539 is computation hash 98039ba7b72767e42dd81dd3b9912a7f\n",
            "2020-08-05 20:29:06.068564: I    4367 torch_xla/csrc/tensor.cpp:1176] TensorsGraphSize=6\n",
            "2020-08-05 20:29:06.068628: I    4402 torch_xla/csrc/tensor.cpp:1272] Executing IR graph hash a69e2fdb3af76c0e43a68fe37b334539 on device TPU:0 ...\n",
            "2020-08-05 20:29:06.078060: I    4402 torch_xla/csrc/tensor.cpp:1277] Executing IR graph hash a69e2fdb3af76c0e43a68fe37b334539 on device TPU:0 done!\n",
            "2020-08-05 20:29:06.080484: I    4367 torch_xla/csrc/tensor.cpp:1099] Waiting on device barrier for device TPU:0 ...\n",
            "2020-08-05 20:29:06.080536: I    4367 torch_xla/csrc/tensor.cpp:1105] Waiting on device barrier for device TPU:0 done!\n",
            "2020-08-05 20:29:06.080556: I    4367 torch_xla/csrc/tensor.cpp:1144] Tensors graph hash ca692ea24595637a49f7808537094ec1 on device TPU:0\n",
            "2020-08-05 20:29:06.081854: I    4367 torch_xla/csrc/tensor.cpp:1553] Parameter sequence graph hash a2013a45019d58e2397d89f572a80bdc\n",
            "2020-08-05 20:29:06.081916: I    4367 torch_xla/csrc/tensor.cpp:1157] Graph hash a2013a45019d58e2397d89f572a80bdc is computation hash b0a425f9905b0e54948fa8c891f79cac\n",
            "2020-08-05 20:29:06.081926: I    4367 torch_xla/csrc/tensor.cpp:1176] TensorsGraphSize=7\n",
            "2020-08-05 20:29:06.081979: I    4402 torch_xla/csrc/tensor.cpp:1272] Executing IR graph hash a2013a45019d58e2397d89f572a80bdc on device TPU:0 ...\n",
            "2020-08-05 20:29:06.086413: I    4402 torch_xla/csrc/tensor.cpp:1277] Executing IR graph hash a2013a45019d58e2397d89f572a80bdc on device TPU:0 done!\n",
            "--- ---------------------------------\n",
            "2020-08-05 20:29:11.233395: I    4367 torch_xla/csrc/tensor.cpp:1099] Waiting on device barrier for device TPU:0 ...\n",
            "2020-08-05 20:29:11.233476: I    4367 torch_xla/csrc/tensor.cpp:1105] Waiting on device barrier for device TPU:0 done!\n",
            "2020-08-05 20:29:11.233585: I    4367 torch_xla/csrc/tensor.cpp:1144] Tensors graph hash c22bbfda94620fa85049813e6a030570 on device TPU:0\n",
            "2020-08-05 20:29:11.249160: I    4367 torch_xla/csrc/tensor.cpp:1553] Parameter sequence graph hash 99f265ec7307ebccc77dae150538b94c\n",
            "2020-08-05 20:29:11.249388: I    4367 torch_xla/csrc/tensor.cpp:1157] Graph hash 99f265ec7307ebccc77dae150538b94c is computation hash 77560bcba9b4e8c28f12e69c6674fe56\n",
            "2020-08-05 20:29:11.249419: I    4367 torch_xla/csrc/tensor.cpp:1176] TensorsGraphSize=111\n",
            "2020-08-05 20:29:11.249546: I    4402 torch_xla/csrc/tensor.cpp:1272] Executing IR graph hash 99f265ec7307ebccc77dae150538b94c on device TPU:0 ...\n",
            "2020-08-05 20:29:11.254191: I    4402 torch_xla/csrc/tensor.cpp:1277] Executing IR graph hash 99f265ec7307ebccc77dae150538b94c on device TPU:0 done!\n",
            "2020-08-05 20:29:14.364634: I    4367 torch_xla/csrc/tensor.cpp:1099] Waiting on device barrier for device TPU:0 ...\n",
            "2020-08-05 20:29:14.364717: I    4367 torch_xla/csrc/tensor.cpp:1105] Waiting on device barrier for device TPU:0 done!\n",
            "2020-08-05 20:29:14.364743: I    4367 torch_xla/csrc/tensor.cpp:1144] Tensors graph hash 85856bd5f86ae566a31cc6629fa2beb4 on device TPU:0\n",
            "2020-08-05 20:29:14.365442: I    4367 torch_xla/csrc/tensor.cpp:1553] Parameter sequence graph hash a69e2fdb3af76c0e43a68fe37b334539\n",
            "2020-08-05 20:29:14.365497: I    4367 torch_xla/csrc/tensor.cpp:1157] Graph hash a69e2fdb3af76c0e43a68fe37b334539 is computation hash 98039ba7b72767e42dd81dd3b9912a7f\n",
            "2020-08-05 20:29:14.365508: I    4367 torch_xla/csrc/tensor.cpp:1176] TensorsGraphSize=6\n",
            "2020-08-05 20:29:14.365634: I    4401 torch_xla/csrc/tensor.cpp:1272] Executing IR graph hash a69e2fdb3af76c0e43a68fe37b334539 on device TPU:0 ...\n",
            "2020-08-05 20:29:14.375764: I    4401 torch_xla/csrc/tensor.cpp:1277] Executing IR graph hash a69e2fdb3af76c0e43a68fe37b334539 on device TPU:0 done!\n",
            "2020-08-05 20:29:14.378086: I    4367 torch_xla/csrc/tensor.cpp:1099] Waiting on device barrier for device TPU:0 ...\n",
            "2020-08-05 20:29:14.378170: I    4367 torch_xla/csrc/tensor.cpp:1105] Waiting on device barrier for device TPU:0 done!\n",
            "2020-08-05 20:29:14.378194: I    4367 torch_xla/csrc/tensor.cpp:1144] Tensors graph hash ca692ea24595637a49f7808537094ec1 on device TPU:0\n",
            "2020-08-05 20:29:14.379591: I    4367 torch_xla/csrc/tensor.cpp:1553] Parameter sequence graph hash a2013a45019d58e2397d89f572a80bdc\n",
            "2020-08-05 20:29:14.379649: I    4367 torch_xla/csrc/tensor.cpp:1157] Graph hash a2013a45019d58e2397d89f572a80bdc is computation hash b0a425f9905b0e54948fa8c891f79cac\n",
            "2020-08-05 20:29:14.379660: I    4367 torch_xla/csrc/tensor.cpp:1176] TensorsGraphSize=7\n",
            "2020-08-05 20:29:14.379747: I    4401 torch_xla/csrc/tensor.cpp:1272] Executing IR graph hash a2013a45019d58e2397d89f572a80bdc on device TPU:0 ...\n",
            "2020-08-05 20:29:14.383597: I    4401 torch_xla/csrc/tensor.cpp:1277] Executing IR graph hash a2013a45019d58e2397d89f572a80bdc on device TPU:0 done!\n",
            "--- ---------------------------------\n",
            "2020-08-05 20:29:18.944487: I    4367 torch_xla/csrc/tensor.cpp:1099] Waiting on device barrier for device TPU:0 ...\n",
            "2020-08-05 20:29:18.944578: I    4367 torch_xla/csrc/tensor.cpp:1105] Waiting on device barrier for device TPU:0 done!\n",
            "2020-08-05 20:29:18.944684: I    4367 torch_xla/csrc/tensor.cpp:1144] Tensors graph hash c22bbfda94620fa85049813e6a030570 on device TPU:0\n",
            "2020-08-05 20:29:18.960198: I    4367 torch_xla/csrc/tensor.cpp:1553] Parameter sequence graph hash 99f265ec7307ebccc77dae150538b94c\n",
            "2020-08-05 20:29:18.960382: I    4367 torch_xla/csrc/tensor.cpp:1157] Graph hash 99f265ec7307ebccc77dae150538b94c is computation hash 77560bcba9b4e8c28f12e69c6674fe56\n",
            "2020-08-05 20:29:18.960397: I    4367 torch_xla/csrc/tensor.cpp:1176] TensorsGraphSize=111\n",
            "2020-08-05 20:29:18.960467: I    4401 torch_xla/csrc/tensor.cpp:1272] Executing IR graph hash 99f265ec7307ebccc77dae150538b94c on device TPU:0 ...\n",
            "2020-08-05 20:29:18.964627: I    4401 torch_xla/csrc/tensor.cpp:1277] Executing IR graph hash 99f265ec7307ebccc77dae150538b94c on device TPU:0 done!\n",
            "2020-08-05 20:29:22.116676: I    4367 torch_xla/csrc/tensor.cpp:1099] Waiting on device barrier for device TPU:0 ...\n",
            "2020-08-05 20:29:22.116787: I    4367 torch_xla/csrc/tensor.cpp:1105] Waiting on device barrier for device TPU:0 done!\n",
            "2020-08-05 20:29:22.116823: I    4367 torch_xla/csrc/tensor.cpp:1144] Tensors graph hash 85856bd5f86ae566a31cc6629fa2beb4 on device TPU:0\n",
            "2020-08-05 20:29:22.117618: I    4367 torch_xla/csrc/tensor.cpp:1553] Parameter sequence graph hash a69e2fdb3af76c0e43a68fe37b334539\n",
            "2020-08-05 20:29:22.117695: I    4367 torch_xla/csrc/tensor.cpp:1157] Graph hash a69e2fdb3af76c0e43a68fe37b334539 is computation hash 98039ba7b72767e42dd81dd3b9912a7f\n",
            "2020-08-05 20:29:22.117706: I    4367 torch_xla/csrc/tensor.cpp:1176] TensorsGraphSize=6\n",
            "2020-08-05 20:29:22.117768: I    4402 torch_xla/csrc/tensor.cpp:1272] Executing IR graph hash a69e2fdb3af76c0e43a68fe37b334539 on device TPU:0 ...\n",
            "2020-08-05 20:29:22.125341: I    4402 torch_xla/csrc/tensor.cpp:1277] Executing IR graph hash a69e2fdb3af76c0e43a68fe37b334539 on device TPU:0 done!\n",
            "2020-08-05 20:29:22.127561: I    4367 torch_xla/csrc/tensor.cpp:1099] Waiting on device barrier for device TPU:0 ...\n",
            "2020-08-05 20:29:22.127621: I    4367 torch_xla/csrc/tensor.cpp:1105] Waiting on device barrier for device TPU:0 done!\n",
            "2020-08-05 20:29:22.127644: I    4367 torch_xla/csrc/tensor.cpp:1144] Tensors graph hash ca692ea24595637a49f7808537094ec1 on device TPU:0\n",
            "2020-08-05 20:29:22.129060: I    4367 torch_xla/csrc/tensor.cpp:1553] Parameter sequence graph hash a2013a45019d58e2397d89f572a80bdc\n",
            "2020-08-05 20:29:22.129146: I    4367 torch_xla/csrc/tensor.cpp:1157] Graph hash a2013a45019d58e2397d89f572a80bdc is computation hash b0a425f9905b0e54948fa8c891f79cac\n",
            "2020-08-05 20:29:22.129166: I    4367 torch_xla/csrc/tensor.cpp:1176] TensorsGraphSize=7\n",
            "2020-08-05 20:29:22.129226: I    4402 torch_xla/csrc/tensor.cpp:1272] Executing IR graph hash a2013a45019d58e2397d89f572a80bdc on device TPU:0 ...\n",
            "2020-08-05 20:29:22.133090: I    4402 torch_xla/csrc/tensor.cpp:1277] Executing IR graph hash a2013a45019d58e2397d89f572a80bdc on device TPU:0 done!\n",
            "--- ---------------------------------\n",
            "2020-08-05 20:29:27.203487: I    4367 torch_xla/csrc/tensor.cpp:1099] Waiting on device barrier for device TPU:0 ...\n",
            "2020-08-05 20:29:27.203580: I    4367 torch_xla/csrc/tensor.cpp:1105] Waiting on device barrier for device TPU:0 done!\n",
            "2020-08-05 20:29:27.203827: I    4367 torch_xla/csrc/tensor.cpp:1144] Tensors graph hash c22bbfda94620fa85049813e6a030570 on device TPU:0\n",
            "2020-08-05 20:29:27.220703: I    4367 torch_xla/csrc/tensor.cpp:1553] Parameter sequence graph hash 99f265ec7307ebccc77dae150538b94c\n",
            "2020-08-05 20:29:27.220894: I    4367 torch_xla/csrc/tensor.cpp:1157] Graph hash 99f265ec7307ebccc77dae150538b94c is computation hash 77560bcba9b4e8c28f12e69c6674fe56\n",
            "2020-08-05 20:29:27.220908: I    4367 torch_xla/csrc/tensor.cpp:1176] TensorsGraphSize=111\n",
            "2020-08-05 20:29:27.220972: I    4402 torch_xla/csrc/tensor.cpp:1272] Executing IR graph hash 99f265ec7307ebccc77dae150538b94c on device TPU:0 ...\n",
            "2020-08-05 20:29:27.225429: I    4402 torch_xla/csrc/tensor.cpp:1277] Executing IR graph hash 99f265ec7307ebccc77dae150538b94c on device TPU:0 done!\n",
            "2020-08-05 20:29:30.379998: I    4367 torch_xla/csrc/tensor.cpp:1099] Waiting on device barrier for device TPU:0 ...\n",
            "2020-08-05 20:29:30.380085: I    4367 torch_xla/csrc/tensor.cpp:1105] Waiting on device barrier for device TPU:0 done!\n",
            "2020-08-05 20:29:30.380111: I    4367 torch_xla/csrc/tensor.cpp:1144] Tensors graph hash 85856bd5f86ae566a31cc6629fa2beb4 on device TPU:0\n",
            "2020-08-05 20:29:30.380865: I    4367 torch_xla/csrc/tensor.cpp:1553] Parameter sequence graph hash a69e2fdb3af76c0e43a68fe37b334539\n",
            "2020-08-05 20:29:30.380942: I    4367 torch_xla/csrc/tensor.cpp:1157] Graph hash a69e2fdb3af76c0e43a68fe37b334539 is computation hash 98039ba7b72767e42dd81dd3b9912a7f\n",
            "2020-08-05 20:29:30.380954: I    4367 torch_xla/csrc/tensor.cpp:1176] TensorsGraphSize=6\n",
            "2020-08-05 20:29:30.381014: I    4401 torch_xla/csrc/tensor.cpp:1272] Executing IR graph hash a69e2fdb3af76c0e43a68fe37b334539 on device TPU:0 ...\n",
            "2020-08-05 20:29:30.438042: I    4401 torch_xla/csrc/tensor.cpp:1277] Executing IR graph hash a69e2fdb3af76c0e43a68fe37b334539 on device TPU:0 done!\n",
            "2020-08-05 20:29:30.440427: I    4367 torch_xla/csrc/tensor.cpp:1099] Waiting on device barrier for device TPU:0 ...\n",
            "2020-08-05 20:29:30.440478: I    4367 torch_xla/csrc/tensor.cpp:1105] Waiting on device barrier for device TPU:0 done!\n",
            "2020-08-05 20:29:30.440498: I    4367 torch_xla/csrc/tensor.cpp:1144] Tensors graph hash ca692ea24595637a49f7808537094ec1 on device TPU:0\n",
            "2020-08-05 20:29:30.441769: I    4367 torch_xla/csrc/tensor.cpp:1553] Parameter sequence graph hash a2013a45019d58e2397d89f572a80bdc\n",
            "2020-08-05 20:29:30.441831: I    4367 torch_xla/csrc/tensor.cpp:1157] Graph hash a2013a45019d58e2397d89f572a80bdc is computation hash b0a425f9905b0e54948fa8c891f79cac\n",
            "2020-08-05 20:29:30.441841: I    4367 torch_xla/csrc/tensor.cpp:1176] TensorsGraphSize=7\n",
            "2020-08-05 20:29:30.441892: I    4401 torch_xla/csrc/tensor.cpp:1272] Executing IR graph hash a2013a45019d58e2397d89f572a80bdc on device TPU:0 ...\n",
            "2020-08-05 20:29:30.488867: I    4401 torch_xla/csrc/tensor.cpp:1277] Executing IR graph hash a2013a45019d58e2397d89f572a80bdc on device TPU:0 done!\n",
            "--- \n",
            "Function grid_sample called 10 times.\n",
            "Execution time max: 5.525, average: 4.882\n",
            "Function mtest called 10 times.\n",
            "Execution time max: 9.607, average: 8.145\n",
            "2020-08-05 20:29:34.862120: I    4367 tensorflow/compiler/xla/xla_client/xrt_computation_client.cc:1539] Waiting XRT handle releaser thread ...\n",
            "2020-08-05 20:29:34.862292: I    4367 tensorflow/compiler/xla/xla_client/xrt_computation_client.cc:1542] Waiting XRT handle releaser thread ... done!\n"
          ],
          "name": "stdout"
        }
      ]
    },
    {
      "cell_type": "code",
      "metadata": {
        "id": "nNPflk9SH8hR",
        "colab_type": "code",
        "colab": {}
      },
      "source": [
        ""
      ],
      "execution_count": null,
      "outputs": []
    },
    {
      "cell_type": "code",
      "metadata": {
        "id": "UD3G83-uId6g",
        "colab_type": "code",
        "colab": {
          "base_uri": "https://localhost:8080/",
          "height": 34
        },
        "outputId": "54a73ec3-5bfe-4d85-a59c-3b81b202b056"
      },
      "source": [
        "!ls /tmp"
      ],
      "execution_count": null,
      "outputs": [
        {
          "output_type": "stream",
          "text": [
            "drivefs_ipc.0  drivefs_ipc.0_shell  tmpmwhrvbyh\n"
          ],
          "name": "stdout"
        }
      ]
    },
    {
      "cell_type": "code",
      "metadata": {
        "id": "iA8Ta7_2IfV8",
        "colab_type": "code",
        "colab": {
          "base_uri": "https://localhost:8080/",
          "height": 34
        },
        "outputId": "4d440c9d-aec5-4ad9-e784-d69bd499f225"
      },
      "source": [
        "%cd /tmp"
      ],
      "execution_count": null,
      "outputs": [
        {
          "output_type": "stream",
          "text": [
            "/tmp\n"
          ],
          "name": "stdout"
        }
      ]
    },
    {
      "cell_type": "code",
      "metadata": {
        "id": "Yzr4foSRJIz3",
        "colab_type": "code",
        "colab": {
          "base_uri": "https://localhost:8080/",
          "height": 51
        },
        "outputId": "ae9e1f8b-2ff8-4615-bd97-42e67b1fb532"
      },
      "source": [
        "!chmod +c *.py"
      ],
      "execution_count": null,
      "outputs": [
        {
          "output_type": "stream",
          "text": [
            "chmod: invalid mode: ‘+c’\n",
            "Try 'chmod --help' for more information.\n"
          ],
          "name": "stdout"
        }
      ]
    },
    {
      "cell_type": "code",
      "metadata": {
        "id": "5qsoOaE_J-T9",
        "colab_type": "code",
        "colab": {
          "base_uri": "https://localhost:8080/",
          "height": 1000
        },
        "outputId": "dcdfa146-c3d3-45ad-98dd-910b20f1a0ca"
      },
      "source": [
        "!python ./debug_run.py --outfile /tmp/out_debug_run_1/debug_run.tar.gz -- python -u /content/drive/My\\ Drive/single_profile.py"
      ],
      "execution_count": null,
      "outputs": [
        {
          "output_type": "stream",
          "text": [
            "Writing run results to /tmp/debug_run-f74fb13da3db-root-2\n",
            "XLA Environment:\n",
            "  XRT_TPU_CONFIG=tpu_worker;0;10.89.45.18:8470\n",
            "  TF_FORCE_GPU_ALLOW_GROWTH=true\n",
            "  TF_CPP_MIN_LOG_LEVEL=0\n",
            "  TF_GRPC_DEFAULT_OPTIONS=grpc.keepalive_time_ms=60000,grpc.keepalive_timeout_ms=14400000,grpc.http2.max_pings_without_data=0,grpc.http2.min_ping_interval_without_data_ms=300000\n",
            "  XLA_FLAGS= --xla_cpu_enable_fast_math=false\n",
            "  XLA_IR_DEBUG=1\n",
            "  XLA_HLO_DEBUG=1\n",
            "  TF_CPP_LOG_THREAD_ID=1\n",
            "  XLA_DUMP_FATAL_STACK=1\n",
            "  TF_CPP_VMODULE=tensor=5,computation_client=5,xrt_computation_client=5,aten_xla_type=1\n",
            "  XLA_SAVE_TENSORS_FILE=/tmp/debug_run-f74fb13da3db-root-2/graphs\n",
            "  XLA_METRICS_FILE=/tmp/debug_run-f74fb13da3db-root-2/metrics\n",
            "2020-08-05 19:54:27.318225: I    3124 torch_xla/csrc/aten_xla_type.cpp:119] PyTorch GIT revision: 12b5bdc60194b4991d699a42a9ee5e56efa6e2f6\n",
            "2020-08-05 19:54:27.318304: I    3124 torch_xla/csrc/aten_xla_type.cpp:120] XLA GIT revision: 5430aca79ffdd1e0084c151a0d0302d40e5f55b3\n",
            "2020-08-05 19:54:27.581110: I    3124 tensorflow/compiler/xla/xla_client/xrt_computation_client.cc:257] XRT device (LOCAL) CPU:0 -> /job:tpu_worker/replica:0/task:0/device:XLA_CPU:0\n",
            "2020-08-05 19:54:27.581205: I    3124 tensorflow/compiler/xla/xla_client/xrt_computation_client.cc:257] XRT device (LOCAL) TPU:0 -> /job:tpu_worker/replica:0/task:0/device:TPU:0\n",
            "2020-08-05 19:54:27.581218: I    3124 tensorflow/compiler/xla/xla_client/xrt_computation_client.cc:257] XRT device (LOCAL) TPU:1 -> /job:tpu_worker/replica:0/task:0/device:TPU:1\n",
            "2020-08-05 19:54:27.581226: I    3124 tensorflow/compiler/xla/xla_client/xrt_computation_client.cc:257] XRT device (LOCAL) TPU:2 -> /job:tpu_worker/replica:0/task:0/device:TPU:2\n",
            "2020-08-05 19:54:27.581234: I    3124 tensorflow/compiler/xla/xla_client/xrt_computation_client.cc:257] XRT device (LOCAL) TPU:3 -> /job:tpu_worker/replica:0/task:0/device:TPU:3\n",
            "2020-08-05 19:54:27.581241: I    3124 tensorflow/compiler/xla/xla_client/xrt_computation_client.cc:257] XRT device (LOCAL) TPU:4 -> /job:tpu_worker/replica:0/task:0/device:TPU:4\n",
            "2020-08-05 19:54:27.581248: I    3124 tensorflow/compiler/xla/xla_client/xrt_computation_client.cc:257] XRT device (LOCAL) TPU:5 -> /job:tpu_worker/replica:0/task:0/device:TPU:5\n",
            "2020-08-05 19:54:27.581256: I    3124 tensorflow/compiler/xla/xla_client/xrt_computation_client.cc:257] XRT device (LOCAL) TPU:6 -> /job:tpu_worker/replica:0/task:0/device:TPU:6\n",
            "2020-08-05 19:54:27.581263: I    3124 tensorflow/compiler/xla/xla_client/xrt_computation_client.cc:257] XRT device (LOCAL) TPU:7 -> /job:tpu_worker/replica:0/task:0/device:TPU:7\n",
            "2020-08-05 19:54:27.581279: I    3124 tensorflow/compiler/xla/xla_client/xrt_computation_client.cc:261] Worker grpc://10.89.45.18:8470 for /job:tpu_worker/replica:0/task:0\n",
            "2020-08-05 19:54:27.581287: I    3124 tensorflow/compiler/xla/xla_client/xrt_computation_client.cc:265] XRT default device: TPU:0\n",
            "2020-08-05 19:54:27.581303: I    3124 tensorflow/compiler/xla/xla_client/xrt_computation_client.cc:1247] Configuring TPU for master worker tpu_worker:0 at grpc://10.89.45.18:8470\n",
            "2020-08-05 19:54:54.228635: I    3124 tensorflow/compiler/xla/xla_client/xrt_computation_client.cc:1258] TPU topology: mesh_shape: 2\n",
            "mesh_shape: 2\n",
            "mesh_shape: 1\n",
            "mesh_shape: 2\n",
            "num_tasks: 1\n",
            "num_tpu_devices_per_task: 8\n",
            "device_coordinates: 0\n",
            "device_coordinates: 0\n",
            "device_coordinates: 0\n",
            "device_coordinates: 0\n",
            "device_coordinates: 0\n",
            "device_coordinates: 0\n",
            "device_coordinates: 0\n",
            "device_coordinates: 1\n",
            "device_coordinates: 1\n",
            "device_coordinates: 0\n",
            "device_coordinates: 0\n",
            "device_coordinates: 0\n",
            "device_coordinates: 1\n",
            "device_coordinates: 0\n",
            "device_coordinates: 0\n",
            "device_coordinates: 1\n",
            "device_coordinates: 0\n",
            "device_coordinates: 1\n",
            "device_coordinates: 0\n",
            "device_coordinates: 0\n",
            "device_coordinates: 0\n",
            "device_coordinates: 1\n",
            "device_coordinates: 0\n",
            "device_coordinates: 1\n",
            "device_coordinates: 1\n",
            "device_coordinates: 1\n",
            "device_coordinates: 0\n",
            "device_coordinates: 0\n",
            "device_coordinates: 1\n",
            "device_coordinates: 1\n",
            "device_coordinates: 0\n",
            "device_coordinates: 1\n",
            "\n",
            "running on default_device() & cuda is False\n",
            "--- 10 image tensor loops:\n",
            "--- ---------------------------------\n",
            "2020-08-05 19:54:55.116350: I    3124 torch_xla/csrc/tensor.cpp:1099] Waiting on device barrier for device TPU:0 ...\n",
            "2020-08-05 19:54:55.116436: I    3124 torch_xla/csrc/tensor.cpp:1105] Waiting on device barrier for device TPU:0 done!\n",
            "2020-08-05 19:54:55.116584: I    3124 torch_xla/csrc/tensor.cpp:1144] Tensors graph hash c22bbfda94620fa85049813e6a030570 on device TPU:0\n",
            "2020-08-05 19:54:55.132536: I    3124 torch_xla/csrc/tensor.cpp:1553] Parameter sequence graph hash 99f265ec7307ebccc77dae150538b94c\n",
            "2020-08-05 19:54:55.133480: I    3124 torch_xla/csrc/tensor.cpp:1519] Compiling IR graph hash 99f265ec7307ebccc77dae150538b94c on device TPU:0 ...\n",
            "2020-08-05 19:54:55.203980: I    3124 torch_xla/csrc/tensor.cpp:1524] Compiling IR graph hash 99f265ec7307ebccc77dae150538b94c on device TPU:0 done!\n",
            "2020-08-05 19:54:55.204245: I    3124 torch_xla/csrc/tensor.cpp:1526] Graph hash 99f265ec7307ebccc77dae150538b94c is computation hash 77560bcba9b4e8c28f12e69c6674fe56\n",
            "2020-08-05 19:54:55.204383: I    3124 torch_xla/csrc/tensor.cpp:1563] TensorsGraphSize=111\n",
            "2020-08-05 19:54:55.204466: I    3166 torch_xla/csrc/tensor.cpp:1272] Executing IR graph hash 99f265ec7307ebccc77dae150538b94c on device TPU:0 ...\n",
            "2020-08-05 19:54:55.218387: I    3166 torch_xla/csrc/tensor.cpp:1277] Executing IR graph hash 99f265ec7307ebccc77dae150538b94c on device TPU:0 done!\n",
            "2020-08-05 19:54:58.635988: I    3124 torch_xla/csrc/tensor.cpp:1099] Waiting on device barrier for device TPU:0 ...\n",
            "2020-08-05 19:54:58.636079: I    3124 torch_xla/csrc/tensor.cpp:1105] Waiting on device barrier for device TPU:0 done!\n",
            "2020-08-05 19:54:58.636106: I    3124 torch_xla/csrc/tensor.cpp:1144] Tensors graph hash 85856bd5f86ae566a31cc6629fa2beb4 on device TPU:0\n",
            "2020-08-05 19:54:58.636815: I    3124 torch_xla/csrc/tensor.cpp:1553] Parameter sequence graph hash a69e2fdb3af76c0e43a68fe37b334539\n",
            "2020-08-05 19:54:58.637040: I    3124 torch_xla/csrc/tensor.cpp:1519] Compiling IR graph hash a69e2fdb3af76c0e43a68fe37b334539 on device TPU:0 ...\n",
            "2020-08-05 19:54:58.639036: I    3124 torch_xla/csrc/tensor.cpp:1524] Compiling IR graph hash a69e2fdb3af76c0e43a68fe37b334539 on device TPU:0 done!\n",
            "2020-08-05 19:54:58.639152: I    3124 torch_xla/csrc/tensor.cpp:1526] Graph hash a69e2fdb3af76c0e43a68fe37b334539 is computation hash 98039ba7b72767e42dd81dd3b9912a7f\n",
            "2020-08-05 19:54:58.639182: I    3124 torch_xla/csrc/tensor.cpp:1563] TensorsGraphSize=6\n",
            "2020-08-05 19:54:58.639237: I    3166 torch_xla/csrc/tensor.cpp:1272] Executing IR graph hash a69e2fdb3af76c0e43a68fe37b334539 on device TPU:0 ...\n",
            "2020-08-05 19:54:58.643442: I    3166 torch_xla/csrc/tensor.cpp:1277] Executing IR graph hash a69e2fdb3af76c0e43a68fe37b334539 on device TPU:0 done!\n",
            "2020-08-05 19:54:58.645666: I    3124 torch_xla/csrc/tensor.cpp:1099] Waiting on device barrier for device TPU:0 ...\n",
            "2020-08-05 19:54:58.645724: I    3124 torch_xla/csrc/tensor.cpp:1105] Waiting on device barrier for device TPU:0 done!\n",
            "2020-08-05 19:54:58.645745: I    3124 torch_xla/csrc/tensor.cpp:1144] Tensors graph hash ca692ea24595637a49f7808537094ec1 on device TPU:0\n",
            "2020-08-05 19:54:58.647024: I    3124 torch_xla/csrc/tensor.cpp:1553] Parameter sequence graph hash a2013a45019d58e2397d89f572a80bdc\n",
            "2020-08-05 19:54:58.647287: I    3124 torch_xla/csrc/tensor.cpp:1519] Compiling IR graph hash a2013a45019d58e2397d89f572a80bdc on device TPU:0 ...\n",
            "2020-08-05 19:54:58.648758: I    3124 torch_xla/csrc/tensor.cpp:1524] Compiling IR graph hash a2013a45019d58e2397d89f572a80bdc on device TPU:0 done!\n",
            "2020-08-05 19:54:58.648829: I    3124 torch_xla/csrc/tensor.cpp:1526] Graph hash a2013a45019d58e2397d89f572a80bdc is computation hash b0a425f9905b0e54948fa8c891f79cac\n",
            "2020-08-05 19:54:58.648847: I    3124 torch_xla/csrc/tensor.cpp:1563] TensorsGraphSize=7\n",
            "2020-08-05 19:54:58.648902: I    3167 torch_xla/csrc/tensor.cpp:1272] Executing IR graph hash a2013a45019d58e2397d89f572a80bdc on device TPU:0 ...\n",
            "2020-08-05 19:54:58.652808: I    3167 torch_xla/csrc/tensor.cpp:1277] Executing IR graph hash a2013a45019d58e2397d89f572a80bdc on device TPU:0 done!\n",
            "--- ---------------------------------\n",
            "2020-08-05 19:55:03.429191: I    3124 torch_xla/csrc/tensor.cpp:1099] Waiting on device barrier for device TPU:0 ...\n",
            "2020-08-05 19:55:03.429261: I    3124 torch_xla/csrc/tensor.cpp:1105] Waiting on device barrier for device TPU:0 done!\n",
            "2020-08-05 19:55:03.429362: I    3124 torch_xla/csrc/tensor.cpp:1144] Tensors graph hash c22bbfda94620fa85049813e6a030570 on device TPU:0\n",
            "2020-08-05 19:55:03.444718: I    3124 torch_xla/csrc/tensor.cpp:1553] Parameter sequence graph hash 99f265ec7307ebccc77dae150538b94c\n",
            "2020-08-05 19:55:03.444865: I    3124 torch_xla/csrc/tensor.cpp:1157] Graph hash 99f265ec7307ebccc77dae150538b94c is computation hash 77560bcba9b4e8c28f12e69c6674fe56\n",
            "2020-08-05 19:55:03.444885: I    3124 torch_xla/csrc/tensor.cpp:1176] TensorsGraphSize=111\n",
            "2020-08-05 19:55:03.444965: I    3167 torch_xla/csrc/tensor.cpp:1272] Executing IR graph hash 99f265ec7307ebccc77dae150538b94c on device TPU:0 ...\n",
            "2020-08-05 19:55:03.448701: I    3167 torch_xla/csrc/tensor.cpp:1277] Executing IR graph hash 99f265ec7307ebccc77dae150538b94c on device TPU:0 done!\n",
            "2020-08-05 19:55:06.470095: I    3124 torch_xla/csrc/tensor.cpp:1099] Waiting on device barrier for device TPU:0 ...\n",
            "2020-08-05 19:55:06.470193: I    3124 torch_xla/csrc/tensor.cpp:1105] Waiting on device barrier for device TPU:0 done!\n",
            "2020-08-05 19:55:06.470218: I    3124 torch_xla/csrc/tensor.cpp:1144] Tensors graph hash 85856bd5f86ae566a31cc6629fa2beb4 on device TPU:0\n",
            "2020-08-05 19:55:06.470908: I    3124 torch_xla/csrc/tensor.cpp:1553] Parameter sequence graph hash a69e2fdb3af76c0e43a68fe37b334539\n",
            "2020-08-05 19:55:06.470963: I    3124 torch_xla/csrc/tensor.cpp:1157] Graph hash a69e2fdb3af76c0e43a68fe37b334539 is computation hash 98039ba7b72767e42dd81dd3b9912a7f\n",
            "2020-08-05 19:55:06.470973: I    3124 torch_xla/csrc/tensor.cpp:1176] TensorsGraphSize=6\n",
            "2020-08-05 19:55:06.471044: I    3166 torch_xla/csrc/tensor.cpp:1272] Executing IR graph hash a69e2fdb3af76c0e43a68fe37b334539 on device TPU:0 ...\n",
            "2020-08-05 19:55:06.475761: I    3166 torch_xla/csrc/tensor.cpp:1277] Executing IR graph hash a69e2fdb3af76c0e43a68fe37b334539 on device TPU:0 done!\n",
            "2020-08-05 19:55:06.478396: I    3124 torch_xla/csrc/tensor.cpp:1099] Waiting on device barrier for device TPU:0 ...\n",
            "2020-08-05 19:55:06.478444: I    3124 torch_xla/csrc/tensor.cpp:1105] Waiting on device barrier for device TPU:0 done!\n",
            "2020-08-05 19:55:06.478464: I    3124 torch_xla/csrc/tensor.cpp:1144] Tensors graph hash ca692ea24595637a49f7808537094ec1 on device TPU:0\n",
            "2020-08-05 19:55:06.479802: I    3124 torch_xla/csrc/tensor.cpp:1553] Parameter sequence graph hash a2013a45019d58e2397d89f572a80bdc\n",
            "2020-08-05 19:55:06.479860: I    3124 torch_xla/csrc/tensor.cpp:1157] Graph hash a2013a45019d58e2397d89f572a80bdc is computation hash b0a425f9905b0e54948fa8c891f79cac\n",
            "2020-08-05 19:55:06.479870: I    3124 torch_xla/csrc/tensor.cpp:1176] TensorsGraphSize=7\n",
            "2020-08-05 19:55:06.479925: I    3166 torch_xla/csrc/tensor.cpp:1272] Executing IR graph hash a2013a45019d58e2397d89f572a80bdc on device TPU:0 ...\n",
            "2020-08-05 19:55:06.483756: I    3166 torch_xla/csrc/tensor.cpp:1277] Executing IR graph hash a2013a45019d58e2397d89f572a80bdc on device TPU:0 done!\n",
            "--- ---------------------------------\n",
            "2020-08-05 19:55:11.029481: I    3124 torch_xla/csrc/tensor.cpp:1099] Waiting on device barrier for device TPU:0 ...\n",
            "2020-08-05 19:55:11.029555: I    3124 torch_xla/csrc/tensor.cpp:1105] Waiting on device barrier for device TPU:0 done!\n",
            "2020-08-05 19:55:11.029647: I    3124 torch_xla/csrc/tensor.cpp:1144] Tensors graph hash c22bbfda94620fa85049813e6a030570 on device TPU:0\n",
            "2020-08-05 19:55:11.045184: I    3124 torch_xla/csrc/tensor.cpp:1553] Parameter sequence graph hash 99f265ec7307ebccc77dae150538b94c\n",
            "2020-08-05 19:55:11.045338: I    3124 torch_xla/csrc/tensor.cpp:1157] Graph hash 99f265ec7307ebccc77dae150538b94c is computation hash 77560bcba9b4e8c28f12e69c6674fe56\n",
            "2020-08-05 19:55:11.045352: I    3124 torch_xla/csrc/tensor.cpp:1176] TensorsGraphSize=111\n",
            "2020-08-05 19:55:11.045419: I    3166 torch_xla/csrc/tensor.cpp:1272] Executing IR graph hash 99f265ec7307ebccc77dae150538b94c on device TPU:0 ...\n",
            "2020-08-05 19:55:11.049964: I    3166 torch_xla/csrc/tensor.cpp:1277] Executing IR graph hash 99f265ec7307ebccc77dae150538b94c on device TPU:0 done!\n",
            "2020-08-05 19:55:14.057631: I    3124 torch_xla/csrc/tensor.cpp:1099] Waiting on device barrier for device TPU:0 ...\n",
            "2020-08-05 19:55:14.057716: I    3124 torch_xla/csrc/tensor.cpp:1105] Waiting on device barrier for device TPU:0 done!\n",
            "2020-08-05 19:55:14.057740: I    3124 torch_xla/csrc/tensor.cpp:1144] Tensors graph hash 85856bd5f86ae566a31cc6629fa2beb4 on device TPU:0\n",
            "2020-08-05 19:55:14.058456: I    3124 torch_xla/csrc/tensor.cpp:1553] Parameter sequence graph hash a69e2fdb3af76c0e43a68fe37b334539\n",
            "2020-08-05 19:55:14.058515: I    3124 torch_xla/csrc/tensor.cpp:1157] Graph hash a69e2fdb3af76c0e43a68fe37b334539 is computation hash 98039ba7b72767e42dd81dd3b9912a7f\n",
            "2020-08-05 19:55:14.058530: I    3124 torch_xla/csrc/tensor.cpp:1176] TensorsGraphSize=6\n",
            "2020-08-05 19:55:14.058600: I    3167 torch_xla/csrc/tensor.cpp:1272] Executing IR graph hash a69e2fdb3af76c0e43a68fe37b334539 on device TPU:0 ...\n",
            "2020-08-05 19:55:14.062519: I    3167 torch_xla/csrc/tensor.cpp:1277] Executing IR graph hash a69e2fdb3af76c0e43a68fe37b334539 on device TPU:0 done!\n",
            "2020-08-05 19:55:14.064872: I    3124 torch_xla/csrc/tensor.cpp:1099] Waiting on device barrier for device TPU:0 ...\n",
            "2020-08-05 19:55:14.064918: I    3124 torch_xla/csrc/tensor.cpp:1105] Waiting on device barrier for device TPU:0 done!\n",
            "2020-08-05 19:55:14.064937: I    3124 torch_xla/csrc/tensor.cpp:1144] Tensors graph hash ca692ea24595637a49f7808537094ec1 on device TPU:0\n",
            "2020-08-05 19:55:14.066205: I    3124 torch_xla/csrc/tensor.cpp:1553] Parameter sequence graph hash a2013a45019d58e2397d89f572a80bdc\n",
            "2020-08-05 19:55:14.066268: I    3124 torch_xla/csrc/tensor.cpp:1157] Graph hash a2013a45019d58e2397d89f572a80bdc is computation hash b0a425f9905b0e54948fa8c891f79cac\n",
            "2020-08-05 19:55:14.066280: I    3124 torch_xla/csrc/tensor.cpp:1176] TensorsGraphSize=7\n",
            "2020-08-05 19:55:14.066330: I    3167 torch_xla/csrc/tensor.cpp:1272] Executing IR graph hash a2013a45019d58e2397d89f572a80bdc on device TPU:0 ...\n",
            "2020-08-05 19:55:14.070454: I    3167 torch_xla/csrc/tensor.cpp:1277] Executing IR graph hash a2013a45019d58e2397d89f572a80bdc on device TPU:0 done!\n",
            "--- ---------------------------------\n",
            "2020-08-05 19:55:18.601390: I    3124 torch_xla/csrc/tensor.cpp:1099] Waiting on device barrier for device TPU:0 ...\n",
            "2020-08-05 19:55:18.601463: I    3124 torch_xla/csrc/tensor.cpp:1105] Waiting on device barrier for device TPU:0 done!\n",
            "2020-08-05 19:55:18.601559: I    3124 torch_xla/csrc/tensor.cpp:1144] Tensors graph hash c22bbfda94620fa85049813e6a030570 on device TPU:0\n",
            "2020-08-05 19:55:18.616961: I    3124 torch_xla/csrc/tensor.cpp:1553] Parameter sequence graph hash 99f265ec7307ebccc77dae150538b94c\n",
            "2020-08-05 19:55:18.617113: I    3124 torch_xla/csrc/tensor.cpp:1157] Graph hash 99f265ec7307ebccc77dae150538b94c is computation hash 77560bcba9b4e8c28f12e69c6674fe56\n",
            "2020-08-05 19:55:18.617128: I    3124 torch_xla/csrc/tensor.cpp:1176] TensorsGraphSize=111\n",
            "2020-08-05 19:55:18.617209: I    3167 torch_xla/csrc/tensor.cpp:1272] Executing IR graph hash 99f265ec7307ebccc77dae150538b94c on device TPU:0 ...\n",
            "2020-08-05 19:55:18.621914: I    3167 torch_xla/csrc/tensor.cpp:1277] Executing IR graph hash 99f265ec7307ebccc77dae150538b94c on device TPU:0 done!\n",
            "2020-08-05 19:55:21.618761: I    3124 torch_xla/csrc/tensor.cpp:1099] Waiting on device barrier for device TPU:0 ...\n",
            "2020-08-05 19:55:21.618836: I    3124 torch_xla/csrc/tensor.cpp:1105] Waiting on device barrier for device TPU:0 done!\n",
            "2020-08-05 19:55:21.618859: I    3124 torch_xla/csrc/tensor.cpp:1144] Tensors graph hash 85856bd5f86ae566a31cc6629fa2beb4 on device TPU:0\n",
            "2020-08-05 19:55:21.619552: I    3124 torch_xla/csrc/tensor.cpp:1553] Parameter sequence graph hash a69e2fdb3af76c0e43a68fe37b334539\n",
            "2020-08-05 19:55:21.619623: I    3124 torch_xla/csrc/tensor.cpp:1157] Graph hash a69e2fdb3af76c0e43a68fe37b334539 is computation hash 98039ba7b72767e42dd81dd3b9912a7f\n",
            "2020-08-05 19:55:21.619634: I    3124 torch_xla/csrc/tensor.cpp:1176] TensorsGraphSize=6\n",
            "2020-08-05 19:55:21.619695: I    3166 torch_xla/csrc/tensor.cpp:1272] Executing IR graph hash a69e2fdb3af76c0e43a68fe37b334539 on device TPU:0 ...\n",
            "2020-08-05 19:55:21.623415: I    3166 torch_xla/csrc/tensor.cpp:1277] Executing IR graph hash a69e2fdb3af76c0e43a68fe37b334539 on device TPU:0 done!\n",
            "2020-08-05 19:55:21.625283: I    3124 torch_xla/csrc/tensor.cpp:1099] Waiting on device barrier for device TPU:0 ...\n",
            "2020-08-05 19:55:21.625330: I    3124 torch_xla/csrc/tensor.cpp:1105] Waiting on device barrier for device TPU:0 done!\n",
            "2020-08-05 19:55:21.625349: I    3124 torch_xla/csrc/tensor.cpp:1144] Tensors graph hash ca692ea24595637a49f7808537094ec1 on device TPU:0\n",
            "2020-08-05 19:55:21.626626: I    3124 torch_xla/csrc/tensor.cpp:1553] Parameter sequence graph hash a2013a45019d58e2397d89f572a80bdc\n",
            "2020-08-05 19:55:21.626683: I    3124 torch_xla/csrc/tensor.cpp:1157] Graph hash a2013a45019d58e2397d89f572a80bdc is computation hash b0a425f9905b0e54948fa8c891f79cac\n",
            "2020-08-05 19:55:21.626693: I    3124 torch_xla/csrc/tensor.cpp:1176] TensorsGraphSize=7\n",
            "2020-08-05 19:55:21.626743: I    3166 torch_xla/csrc/tensor.cpp:1272] Executing IR graph hash a2013a45019d58e2397d89f572a80bdc on device TPU:0 ...\n",
            "2020-08-05 19:55:21.631404: I    3166 torch_xla/csrc/tensor.cpp:1277] Executing IR graph hash a2013a45019d58e2397d89f572a80bdc on device TPU:0 done!\n",
            "--- ---------------------------------\n",
            "2020-08-05 19:55:25.883952: I    3124 torch_xla/csrc/tensor.cpp:1099] Waiting on device barrier for device TPU:0 ...\n",
            "2020-08-05 19:55:25.884035: I    3124 torch_xla/csrc/tensor.cpp:1105] Waiting on device barrier for device TPU:0 done!\n",
            "2020-08-05 19:55:25.884130: I    3124 torch_xla/csrc/tensor.cpp:1144] Tensors graph hash c22bbfda94620fa85049813e6a030570 on device TPU:0\n",
            "2020-08-05 19:55:25.899846: I    3124 torch_xla/csrc/tensor.cpp:1553] Parameter sequence graph hash 99f265ec7307ebccc77dae150538b94c\n",
            "2020-08-05 19:55:25.900001: I    3124 torch_xla/csrc/tensor.cpp:1157] Graph hash 99f265ec7307ebccc77dae150538b94c is computation hash 77560bcba9b4e8c28f12e69c6674fe56\n",
            "2020-08-05 19:55:25.900015: I    3124 torch_xla/csrc/tensor.cpp:1176] TensorsGraphSize=111\n",
            "2020-08-05 19:55:25.900089: I    3166 torch_xla/csrc/tensor.cpp:1272] Executing IR graph hash 99f265ec7307ebccc77dae150538b94c on device TPU:0 ...\n",
            "2020-08-05 19:55:25.904927: I    3166 torch_xla/csrc/tensor.cpp:1277] Executing IR graph hash 99f265ec7307ebccc77dae150538b94c on device TPU:0 done!\n",
            "2020-08-05 19:55:28.909011: I    3124 torch_xla/csrc/tensor.cpp:1099] Waiting on device barrier for device TPU:0 ...\n",
            "2020-08-05 19:55:28.909092: I    3124 torch_xla/csrc/tensor.cpp:1105] Waiting on device barrier for device TPU:0 done!\n",
            "2020-08-05 19:55:28.909115: I    3124 torch_xla/csrc/tensor.cpp:1144] Tensors graph hash 85856bd5f86ae566a31cc6629fa2beb4 on device TPU:0\n",
            "2020-08-05 19:55:28.909833: I    3124 torch_xla/csrc/tensor.cpp:1553] Parameter sequence graph hash a69e2fdb3af76c0e43a68fe37b334539\n",
            "2020-08-05 19:55:28.909889: I    3124 torch_xla/csrc/tensor.cpp:1157] Graph hash a69e2fdb3af76c0e43a68fe37b334539 is computation hash 98039ba7b72767e42dd81dd3b9912a7f\n",
            "2020-08-05 19:55:28.909899: I    3124 torch_xla/csrc/tensor.cpp:1176] TensorsGraphSize=6\n",
            "2020-08-05 19:55:28.909959: I    3167 torch_xla/csrc/tensor.cpp:1272] Executing IR graph hash a69e2fdb3af76c0e43a68fe37b334539 on device TPU:0 ...\n",
            "2020-08-05 19:55:28.914802: I    3167 torch_xla/csrc/tensor.cpp:1277] Executing IR graph hash a69e2fdb3af76c0e43a68fe37b334539 on device TPU:0 done!\n",
            "2020-08-05 19:55:28.917108: I    3124 torch_xla/csrc/tensor.cpp:1099] Waiting on device barrier for device TPU:0 ...\n",
            "2020-08-05 19:55:28.917170: I    3124 torch_xla/csrc/tensor.cpp:1105] Waiting on device barrier for device TPU:0 done!\n",
            "2020-08-05 19:55:28.917190: I    3124 torch_xla/csrc/tensor.cpp:1144] Tensors graph hash ca692ea24595637a49f7808537094ec1 on device TPU:0\n",
            "2020-08-05 19:55:28.918483: I    3124 torch_xla/csrc/tensor.cpp:1553] Parameter sequence graph hash a2013a45019d58e2397d89f572a80bdc\n",
            "2020-08-05 19:55:28.918549: I    3124 torch_xla/csrc/tensor.cpp:1157] Graph hash a2013a45019d58e2397d89f572a80bdc is computation hash b0a425f9905b0e54948fa8c891f79cac\n",
            "2020-08-05 19:55:28.918560: I    3124 torch_xla/csrc/tensor.cpp:1176] TensorsGraphSize=7\n",
            "2020-08-05 19:55:28.918614: I    3167 torch_xla/csrc/tensor.cpp:1272] Executing IR graph hash a2013a45019d58e2397d89f572a80bdc on device TPU:0 ...\n",
            "2020-08-05 19:55:28.922475: I    3167 torch_xla/csrc/tensor.cpp:1277] Executing IR graph hash a2013a45019d58e2397d89f572a80bdc on device TPU:0 done!\n",
            "--- ---------------------------------\n",
            "2020-08-05 19:55:33.213491: I    3124 torch_xla/csrc/tensor.cpp:1099] Waiting on device barrier for device TPU:0 ...\n",
            "2020-08-05 19:55:33.213582: I    3124 torch_xla/csrc/tensor.cpp:1105] Waiting on device barrier for device TPU:0 done!\n",
            "2020-08-05 19:55:33.213683: I    3124 torch_xla/csrc/tensor.cpp:1144] Tensors graph hash c22bbfda94620fa85049813e6a030570 on device TPU:0\n",
            "2020-08-05 19:55:33.229399: I    3124 torch_xla/csrc/tensor.cpp:1553] Parameter sequence graph hash 99f265ec7307ebccc77dae150538b94c\n",
            "2020-08-05 19:55:33.229550: I    3124 torch_xla/csrc/tensor.cpp:1157] Graph hash 99f265ec7307ebccc77dae150538b94c is computation hash 77560bcba9b4e8c28f12e69c6674fe56\n",
            "2020-08-05 19:55:33.229564: I    3124 torch_xla/csrc/tensor.cpp:1176] TensorsGraphSize=111\n",
            "2020-08-05 19:55:33.229634: I    3167 torch_xla/csrc/tensor.cpp:1272] Executing IR graph hash 99f265ec7307ebccc77dae150538b94c on device TPU:0 ...\n",
            "2020-08-05 19:55:33.234838: I    3167 torch_xla/csrc/tensor.cpp:1277] Executing IR graph hash 99f265ec7307ebccc77dae150538b94c on device TPU:0 done!\n",
            "2020-08-05 19:55:36.250593: I    3124 torch_xla/csrc/tensor.cpp:1099] Waiting on device barrier for device TPU:0 ...\n",
            "2020-08-05 19:55:36.250678: I    3124 torch_xla/csrc/tensor.cpp:1105] Waiting on device barrier for device TPU:0 done!\n",
            "2020-08-05 19:55:36.250703: I    3124 torch_xla/csrc/tensor.cpp:1144] Tensors graph hash 85856bd5f86ae566a31cc6629fa2beb4 on device TPU:0\n",
            "2020-08-05 19:55:36.251397: I    3124 torch_xla/csrc/tensor.cpp:1553] Parameter sequence graph hash a69e2fdb3af76c0e43a68fe37b334539\n",
            "2020-08-05 19:55:36.251459: I    3124 torch_xla/csrc/tensor.cpp:1157] Graph hash a69e2fdb3af76c0e43a68fe37b334539 is computation hash 98039ba7b72767e42dd81dd3b9912a7f\n",
            "2020-08-05 19:55:36.251471: I    3124 torch_xla/csrc/tensor.cpp:1176] TensorsGraphSize=6\n",
            "2020-08-05 19:55:36.251545: I    3166 torch_xla/csrc/tensor.cpp:1272] Executing IR graph hash a69e2fdb3af76c0e43a68fe37b334539 on device TPU:0 ...\n",
            "2020-08-05 19:55:36.255342: I    3166 torch_xla/csrc/tensor.cpp:1277] Executing IR graph hash a69e2fdb3af76c0e43a68fe37b334539 on device TPU:0 done!\n",
            "2020-08-05 19:55:36.257747: I    3124 torch_xla/csrc/tensor.cpp:1099] Waiting on device barrier for device TPU:0 ...\n",
            "2020-08-05 19:55:36.257794: I    3124 torch_xla/csrc/tensor.cpp:1105] Waiting on device barrier for device TPU:0 done!\n",
            "2020-08-05 19:55:36.257812: I    3124 torch_xla/csrc/tensor.cpp:1144] Tensors graph hash ca692ea24595637a49f7808537094ec1 on device TPU:0\n",
            "2020-08-05 19:55:36.259073: I    3124 torch_xla/csrc/tensor.cpp:1553] Parameter sequence graph hash a2013a45019d58e2397d89f572a80bdc\n",
            "2020-08-05 19:55:36.259144: I    3124 torch_xla/csrc/tensor.cpp:1157] Graph hash a2013a45019d58e2397d89f572a80bdc is computation hash b0a425f9905b0e54948fa8c891f79cac\n",
            "2020-08-05 19:55:36.259157: I    3124 torch_xla/csrc/tensor.cpp:1176] TensorsGraphSize=7\n",
            "2020-08-05 19:55:36.259212: I    3166 torch_xla/csrc/tensor.cpp:1272] Executing IR graph hash a2013a45019d58e2397d89f572a80bdc on device TPU:0 ...\n",
            "2020-08-05 19:55:36.263068: I    3166 torch_xla/csrc/tensor.cpp:1277] Executing IR graph hash a2013a45019d58e2397d89f572a80bdc on device TPU:0 done!\n",
            "--- ---------------------------------\n",
            "2020-08-05 19:55:40.884123: I    3124 torch_xla/csrc/tensor.cpp:1099] Waiting on device barrier for device TPU:0 ...\n",
            "2020-08-05 19:55:40.884222: I    3124 torch_xla/csrc/tensor.cpp:1105] Waiting on device barrier for device TPU:0 done!\n",
            "2020-08-05 19:55:40.884331: I    3124 torch_xla/csrc/tensor.cpp:1144] Tensors graph hash c22bbfda94620fa85049813e6a030570 on device TPU:0\n",
            "2020-08-05 19:55:40.910689: I    3124 torch_xla/csrc/tensor.cpp:1553] Parameter sequence graph hash 99f265ec7307ebccc77dae150538b94c\n",
            "2020-08-05 19:55:40.910851: I    3124 torch_xla/csrc/tensor.cpp:1157] Graph hash 99f265ec7307ebccc77dae150538b94c is computation hash 77560bcba9b4e8c28f12e69c6674fe56\n",
            "2020-08-05 19:55:40.910871: I    3124 torch_xla/csrc/tensor.cpp:1176] TensorsGraphSize=111\n",
            "2020-08-05 19:55:40.910946: I    3166 torch_xla/csrc/tensor.cpp:1272] Executing IR graph hash 99f265ec7307ebccc77dae150538b94c on device TPU:0 ...\n",
            "2020-08-05 19:55:40.915416: I    3166 torch_xla/csrc/tensor.cpp:1277] Executing IR graph hash 99f265ec7307ebccc77dae150538b94c on device TPU:0 done!\n",
            "2020-08-05 19:55:43.918973: I    3124 torch_xla/csrc/tensor.cpp:1099] Waiting on device barrier for device TPU:0 ...\n",
            "2020-08-05 19:55:43.919052: I    3124 torch_xla/csrc/tensor.cpp:1105] Waiting on device barrier for device TPU:0 done!\n",
            "2020-08-05 19:55:43.919077: I    3124 torch_xla/csrc/tensor.cpp:1144] Tensors graph hash 85856bd5f86ae566a31cc6629fa2beb4 on device TPU:0\n",
            "2020-08-05 19:55:43.919831: I    3124 torch_xla/csrc/tensor.cpp:1553] Parameter sequence graph hash a69e2fdb3af76c0e43a68fe37b334539\n",
            "2020-08-05 19:55:43.919887: I    3124 torch_xla/csrc/tensor.cpp:1157] Graph hash a69e2fdb3af76c0e43a68fe37b334539 is computation hash 98039ba7b72767e42dd81dd3b9912a7f\n",
            "2020-08-05 19:55:43.919898: I    3124 torch_xla/csrc/tensor.cpp:1176] TensorsGraphSize=6\n",
            "2020-08-05 19:55:43.919956: I    3167 torch_xla/csrc/tensor.cpp:1272] Executing IR graph hash a69e2fdb3af76c0e43a68fe37b334539 on device TPU:0 ...\n",
            "2020-08-05 19:55:43.924509: I    3167 torch_xla/csrc/tensor.cpp:1277] Executing IR graph hash a69e2fdb3af76c0e43a68fe37b334539 on device TPU:0 done!\n",
            "2020-08-05 19:55:43.926599: I    3124 torch_xla/csrc/tensor.cpp:1099] Waiting on device barrier for device TPU:0 ...\n",
            "2020-08-05 19:55:43.926648: I    3124 torch_xla/csrc/tensor.cpp:1105] Waiting on device barrier for device TPU:0 done!\n",
            "2020-08-05 19:55:43.926669: I    3124 torch_xla/csrc/tensor.cpp:1144] Tensors graph hash ca692ea24595637a49f7808537094ec1 on device TPU:0\n",
            "2020-08-05 19:55:43.928101: I    3124 torch_xla/csrc/tensor.cpp:1553] Parameter sequence graph hash a2013a45019d58e2397d89f572a80bdc\n",
            "2020-08-05 19:55:43.928196: I    3124 torch_xla/csrc/tensor.cpp:1157] Graph hash a2013a45019d58e2397d89f572a80bdc is computation hash b0a425f9905b0e54948fa8c891f79cac\n",
            "2020-08-05 19:55:43.928213: I    3124 torch_xla/csrc/tensor.cpp:1176] TensorsGraphSize=7\n",
            "2020-08-05 19:55:43.928253: I    3167 torch_xla/csrc/tensor.cpp:1272] Executing IR graph hash a2013a45019d58e2397d89f572a80bdc on device TPU:0 ...\n",
            "2020-08-05 19:55:43.932691: I    3167 torch_xla/csrc/tensor.cpp:1277] Executing IR graph hash a2013a45019d58e2397d89f572a80bdc on device TPU:0 done!\n",
            "--- ---------------------------------\n",
            "2020-08-05 19:55:48.181310: I    3124 torch_xla/csrc/tensor.cpp:1099] Waiting on device barrier for device TPU:0 ...\n",
            "2020-08-05 19:55:48.181377: I    3124 torch_xla/csrc/tensor.cpp:1105] Waiting on device barrier for device TPU:0 done!\n",
            "2020-08-05 19:55:48.181481: I    3124 torch_xla/csrc/tensor.cpp:1144] Tensors graph hash c22bbfda94620fa85049813e6a030570 on device TPU:0\n",
            "2020-08-05 19:55:48.196843: I    3124 torch_xla/csrc/tensor.cpp:1553] Parameter sequence graph hash 99f265ec7307ebccc77dae150538b94c\n",
            "2020-08-05 19:55:48.196982: I    3124 torch_xla/csrc/tensor.cpp:1157] Graph hash 99f265ec7307ebccc77dae150538b94c is computation hash 77560bcba9b4e8c28f12e69c6674fe56\n",
            "2020-08-05 19:55:48.196995: I    3124 torch_xla/csrc/tensor.cpp:1176] TensorsGraphSize=111\n",
            "2020-08-05 19:55:48.197080: I    3167 torch_xla/csrc/tensor.cpp:1272] Executing IR graph hash 99f265ec7307ebccc77dae150538b94c on device TPU:0 ...\n",
            "2020-08-05 19:55:48.201257: I    3167 torch_xla/csrc/tensor.cpp:1277] Executing IR graph hash 99f265ec7307ebccc77dae150538b94c on device TPU:0 done!\n",
            "2020-08-05 19:55:51.212868: I    3124 torch_xla/csrc/tensor.cpp:1099] Waiting on device barrier for device TPU:0 ...\n",
            "2020-08-05 19:55:51.212950: I    3124 torch_xla/csrc/tensor.cpp:1105] Waiting on device barrier for device TPU:0 done!\n",
            "2020-08-05 19:55:51.212974: I    3124 torch_xla/csrc/tensor.cpp:1144] Tensors graph hash 85856bd5f86ae566a31cc6629fa2beb4 on device TPU:0\n",
            "2020-08-05 19:55:51.213682: I    3124 torch_xla/csrc/tensor.cpp:1553] Parameter sequence graph hash a69e2fdb3af76c0e43a68fe37b334539\n",
            "2020-08-05 19:55:51.213744: I    3124 torch_xla/csrc/tensor.cpp:1157] Graph hash a69e2fdb3af76c0e43a68fe37b334539 is computation hash 98039ba7b72767e42dd81dd3b9912a7f\n",
            "2020-08-05 19:55:51.213755: I    3124 torch_xla/csrc/tensor.cpp:1176] TensorsGraphSize=6\n",
            "2020-08-05 19:55:51.213817: I    3166 torch_xla/csrc/tensor.cpp:1272] Executing IR graph hash a69e2fdb3af76c0e43a68fe37b334539 on device TPU:0 ...\n",
            "2020-08-05 19:55:51.218070: I    3166 torch_xla/csrc/tensor.cpp:1277] Executing IR graph hash a69e2fdb3af76c0e43a68fe37b334539 on device TPU:0 done!\n",
            "2020-08-05 19:55:51.220427: I    3124 torch_xla/csrc/tensor.cpp:1099] Waiting on device barrier for device TPU:0 ...\n",
            "2020-08-05 19:55:51.220477: I    3124 torch_xla/csrc/tensor.cpp:1105] Waiting on device barrier for device TPU:0 done!\n",
            "2020-08-05 19:55:51.220496: I    3124 torch_xla/csrc/tensor.cpp:1144] Tensors graph hash ca692ea24595637a49f7808537094ec1 on device TPU:0\n",
            "2020-08-05 19:55:51.221817: I    3124 torch_xla/csrc/tensor.cpp:1553] Parameter sequence graph hash a2013a45019d58e2397d89f572a80bdc\n",
            "2020-08-05 19:55:51.221877: I    3124 torch_xla/csrc/tensor.cpp:1157] Graph hash a2013a45019d58e2397d89f572a80bdc is computation hash b0a425f9905b0e54948fa8c891f79cac\n",
            "2020-08-05 19:55:51.221887: I    3124 torch_xla/csrc/tensor.cpp:1176] TensorsGraphSize=7\n",
            "2020-08-05 19:55:51.221940: I    3166 torch_xla/csrc/tensor.cpp:1272] Executing IR graph hash a2013a45019d58e2397d89f572a80bdc on device TPU:0 ...\n",
            "2020-08-05 19:55:51.225930: I    3166 torch_xla/csrc/tensor.cpp:1277] Executing IR graph hash a2013a45019d58e2397d89f572a80bdc on device TPU:0 done!\n",
            "--- ---------------------------------\n",
            "2020-08-05 19:55:55.414682: I    3124 torch_xla/csrc/tensor.cpp:1099] Waiting on device barrier for device TPU:0 ...\n",
            "2020-08-05 19:55:55.414752: I    3124 torch_xla/csrc/tensor.cpp:1105] Waiting on device barrier for device TPU:0 done!\n",
            "2020-08-05 19:55:55.414849: I    3124 torch_xla/csrc/tensor.cpp:1144] Tensors graph hash c22bbfda94620fa85049813e6a030570 on device TPU:0\n",
            "2020-08-05 19:55:55.430450: I    3124 torch_xla/csrc/tensor.cpp:1553] Parameter sequence graph hash 99f265ec7307ebccc77dae150538b94c\n",
            "2020-08-05 19:55:55.430600: I    3124 torch_xla/csrc/tensor.cpp:1157] Graph hash 99f265ec7307ebccc77dae150538b94c is computation hash 77560bcba9b4e8c28f12e69c6674fe56\n",
            "2020-08-05 19:55:55.430613: I    3124 torch_xla/csrc/tensor.cpp:1176] TensorsGraphSize=111\n",
            "2020-08-05 19:55:55.430689: I    3166 torch_xla/csrc/tensor.cpp:1272] Executing IR graph hash 99f265ec7307ebccc77dae150538b94c on device TPU:0 ...\n",
            "2020-08-05 19:55:55.434625: I    3166 torch_xla/csrc/tensor.cpp:1277] Executing IR graph hash 99f265ec7307ebccc77dae150538b94c on device TPU:0 done!\n",
            "2020-08-05 19:55:58.438701: I    3124 torch_xla/csrc/tensor.cpp:1099] Waiting on device barrier for device TPU:0 ...\n",
            "2020-08-05 19:55:58.438781: I    3124 torch_xla/csrc/tensor.cpp:1105] Waiting on device barrier for device TPU:0 done!\n",
            "2020-08-05 19:55:58.438804: I    3124 torch_xla/csrc/tensor.cpp:1144] Tensors graph hash 85856bd5f86ae566a31cc6629fa2beb4 on device TPU:0\n",
            "2020-08-05 19:55:58.439521: I    3124 torch_xla/csrc/tensor.cpp:1553] Parameter sequence graph hash a69e2fdb3af76c0e43a68fe37b334539\n",
            "2020-08-05 19:55:58.439576: I    3124 torch_xla/csrc/tensor.cpp:1157] Graph hash a69e2fdb3af76c0e43a68fe37b334539 is computation hash 98039ba7b72767e42dd81dd3b9912a7f\n",
            "2020-08-05 19:55:58.439586: I    3124 torch_xla/csrc/tensor.cpp:1176] TensorsGraphSize=6\n",
            "2020-08-05 19:55:58.439644: I    3167 torch_xla/csrc/tensor.cpp:1272] Executing IR graph hash a69e2fdb3af76c0e43a68fe37b334539 on device TPU:0 ...\n",
            "2020-08-05 19:55:58.443967: I    3167 torch_xla/csrc/tensor.cpp:1277] Executing IR graph hash a69e2fdb3af76c0e43a68fe37b334539 on device TPU:0 done!\n",
            "2020-08-05 19:55:58.445810: I    3124 torch_xla/csrc/tensor.cpp:1099] Waiting on device barrier for device TPU:0 ...\n",
            "2020-08-05 19:55:58.445849: I    3124 torch_xla/csrc/tensor.cpp:1105] Waiting on device barrier for device TPU:0 done!\n",
            "2020-08-05 19:55:58.445867: I    3124 torch_xla/csrc/tensor.cpp:1144] Tensors graph hash ca692ea24595637a49f7808537094ec1 on device TPU:0\n",
            "2020-08-05 19:55:58.447182: I    3124 torch_xla/csrc/tensor.cpp:1553] Parameter sequence graph hash a2013a45019d58e2397d89f572a80bdc\n",
            "2020-08-05 19:55:58.447238: I    3124 torch_xla/csrc/tensor.cpp:1157] Graph hash a2013a45019d58e2397d89f572a80bdc is computation hash b0a425f9905b0e54948fa8c891f79cac\n",
            "2020-08-05 19:55:58.447253: I    3124 torch_xla/csrc/tensor.cpp:1176] TensorsGraphSize=7\n",
            "2020-08-05 19:55:58.447304: I    3167 torch_xla/csrc/tensor.cpp:1272] Executing IR graph hash a2013a45019d58e2397d89f572a80bdc on device TPU:0 ...\n",
            "2020-08-05 19:55:58.451402: I    3167 torch_xla/csrc/tensor.cpp:1277] Executing IR graph hash a2013a45019d58e2397d89f572a80bdc on device TPU:0 done!\n",
            "--- ---------------------------------\n",
            "2020-08-05 19:56:02.773524: I    3124 torch_xla/csrc/tensor.cpp:1099] Waiting on device barrier for device TPU:0 ...\n",
            "2020-08-05 19:56:02.773590: I    3124 torch_xla/csrc/tensor.cpp:1105] Waiting on device barrier for device TPU:0 done!\n",
            "2020-08-05 19:56:02.773686: I    3124 torch_xla/csrc/tensor.cpp:1144] Tensors graph hash c22bbfda94620fa85049813e6a030570 on device TPU:0\n",
            "2020-08-05 19:56:02.789253: I    3124 torch_xla/csrc/tensor.cpp:1553] Parameter sequence graph hash 99f265ec7307ebccc77dae150538b94c\n",
            "2020-08-05 19:56:02.789410: I    3124 torch_xla/csrc/tensor.cpp:1157] Graph hash 99f265ec7307ebccc77dae150538b94c is computation hash 77560bcba9b4e8c28f12e69c6674fe56\n",
            "2020-08-05 19:56:02.789423: I    3124 torch_xla/csrc/tensor.cpp:1176] TensorsGraphSize=111\n",
            "2020-08-05 19:56:02.789499: I    3167 torch_xla/csrc/tensor.cpp:1272] Executing IR graph hash 99f265ec7307ebccc77dae150538b94c on device TPU:0 ...\n",
            "2020-08-05 19:56:02.793447: I    3167 torch_xla/csrc/tensor.cpp:1277] Executing IR graph hash 99f265ec7307ebccc77dae150538b94c on device TPU:0 done!\n",
            "2020-08-05 19:56:05.791551: I    3124 torch_xla/csrc/tensor.cpp:1099] Waiting on device barrier for device TPU:0 ...\n",
            "2020-08-05 19:56:05.791633: I    3124 torch_xla/csrc/tensor.cpp:1105] Waiting on device barrier for device TPU:0 done!\n",
            "2020-08-05 19:56:05.791658: I    3124 torch_xla/csrc/tensor.cpp:1144] Tensors graph hash 85856bd5f86ae566a31cc6629fa2beb4 on device TPU:0\n",
            "2020-08-05 19:56:05.792343: I    3124 torch_xla/csrc/tensor.cpp:1553] Parameter sequence graph hash a69e2fdb3af76c0e43a68fe37b334539\n",
            "2020-08-05 19:56:05.792399: I    3124 torch_xla/csrc/tensor.cpp:1157] Graph hash a69e2fdb3af76c0e43a68fe37b334539 is computation hash 98039ba7b72767e42dd81dd3b9912a7f\n",
            "2020-08-05 19:56:05.792409: I    3124 torch_xla/csrc/tensor.cpp:1176] TensorsGraphSize=6\n",
            "2020-08-05 19:56:05.792485: I    3166 torch_xla/csrc/tensor.cpp:1272] Executing IR graph hash a69e2fdb3af76c0e43a68fe37b334539 on device TPU:0 ...\n",
            "2020-08-05 19:56:05.796686: I    3166 torch_xla/csrc/tensor.cpp:1277] Executing IR graph hash a69e2fdb3af76c0e43a68fe37b334539 on device TPU:0 done!\n",
            "2020-08-05 19:56:05.799038: I    3124 torch_xla/csrc/tensor.cpp:1099] Waiting on device barrier for device TPU:0 ...\n",
            "2020-08-05 19:56:05.799088: I    3124 torch_xla/csrc/tensor.cpp:1105] Waiting on device barrier for device TPU:0 done!\n",
            "2020-08-05 19:56:05.799109: I    3124 torch_xla/csrc/tensor.cpp:1144] Tensors graph hash ca692ea24595637a49f7808537094ec1 on device TPU:0\n",
            "2020-08-05 19:56:05.800389: I    3124 torch_xla/csrc/tensor.cpp:1553] Parameter sequence graph hash a2013a45019d58e2397d89f572a80bdc\n",
            "2020-08-05 19:56:05.800453: I    3124 torch_xla/csrc/tensor.cpp:1157] Graph hash a2013a45019d58e2397d89f572a80bdc is computation hash b0a425f9905b0e54948fa8c891f79cac\n",
            "2020-08-05 19:56:05.800465: I    3124 torch_xla/csrc/tensor.cpp:1176] TensorsGraphSize=7\n",
            "2020-08-05 19:56:05.800520: I    3166 torch_xla/csrc/tensor.cpp:1272] Executing IR graph hash a2013a45019d58e2397d89f572a80bdc on device TPU:0 ...\n",
            "2020-08-05 19:56:05.804455: I    3166 torch_xla/csrc/tensor.cpp:1277] Executing IR graph hash a2013a45019d58e2397d89f572a80bdc on device TPU:0 done!\n",
            "--- \n",
            "Function grid_sample called 10 times.\n",
            "Execution time max: 4.769, average: 4.389\n",
            "Function mtest called 10 times.\n",
            "Execution time max: 8.318, average: 7.481\n",
            "2020-08-05 19:56:09.966855: I    3124 tensorflow/compiler/xla/xla_client/xrt_computation_client.cc:1539] Waiting XRT handle releaser thread ...\n",
            "2020-08-05 19:56:09.967044: I    3124 tensorflow/compiler/xla/xla_client/xrt_computation_client.cc:1542] Waiting XRT handle releaser thread ... done!\n"
          ],
          "name": "stdout"
        }
      ]
    },
    {
      "cell_type": "code",
      "metadata": {
        "id": "fnLlimXIL7Ck",
        "colab_type": "code",
        "colab": {
          "base_uri": "https://localhost:8080/",
          "height": 238
        },
        "outputId": "a2d1d0a6-9cca-4746-cf83-486decf28ab1"
      },
      "source": [
        "!ls -la"
      ],
      "execution_count": null,
      "outputs": [
        {
          "output_type": "stream",
          "text": [
            "total 48\n",
            "drwxrwxrwt 1 root root 4096 Aug  5 19:53 .\n",
            "drwxr-xr-x 1 root root 4096 Aug  5 18:46 ..\n",
            "drwxr-xr-x 2 root root 4096 Aug  5 19:39 debug_run-f74fb13da3db-root\n",
            "drwxr-xr-x 2 root root 4096 Aug  5 19:46 debug_run-f74fb13da3db-root-0\n",
            "drwxr-xr-x 2 root root 4096 Aug  5 19:50 debug_run-f74fb13da3db-root-1\n",
            "-rwx--x--x 1 root root 6175 Aug  5 19:52 debug_run.py\n",
            "srw------- 1 root root    0 Aug  5 19:05 drivefs_ipc.0\n",
            "srw------- 1 root root    0 Aug  5 19:05 drivefs_ipc.0_shell\n",
            "-rwx--x--x 1 root root 5215 Aug  5 19:29 grab_graphs.py\n",
            "drwxr-xr-x 2 root root 4096 Aug  5 19:37 .ipynb_checkpoints\n",
            "drwxr-xr-x 2 root root 4096 Aug  5 19:49 out_debug_run_1\n",
            "drwx------ 2 root root 4096 Aug  5 18:59 tmpmwhrvbyh\n"
          ],
          "name": "stdout"
        }
      ]
    },
    {
      "cell_type": "code",
      "metadata": {
        "id": "WWQTJ3uwL7sJ",
        "colab_type": "code",
        "colab": {}
      },
      "source": [
        "!chmod +x *.py"
      ],
      "execution_count": null,
      "outputs": []
    },
    {
      "cell_type": "code",
      "metadata": {
        "id": "cb8y0ieyMAsz",
        "colab_type": "code",
        "colab": {}
      },
      "source": [
        "!cp /tmp/out_debug_run_1/debug_run.tar.gz /content/drive/My\\ Drive/ooo"
      ],
      "execution_count": null,
      "outputs": []
    },
    {
      "cell_type": "code",
      "metadata": {
        "id": "OJxX13meNYHH",
        "colab_type": "code",
        "colab": {
          "base_uri": "https://localhost:8080/",
          "height": 34
        },
        "outputId": "4592d4d4-b867-43a5-f20f-a97637b85fce"
      },
      "source": [
        "!ls /content/drive/My\\ Drive/ooo"
      ],
      "execution_count": null,
      "outputs": [
        {
          "output_type": "stream",
          "text": [
            "'/content/drive/My Drive/ooo'\n"
          ],
          "name": "stdout"
        }
      ]
    },
    {
      "cell_type": "code",
      "metadata": {
        "id": "TSwraZ3WN9kg",
        "colab_type": "code",
        "colab": {}
      },
      "source": [
        ""
      ],
      "execution_count": null,
      "outputs": []
    }
  ]
}