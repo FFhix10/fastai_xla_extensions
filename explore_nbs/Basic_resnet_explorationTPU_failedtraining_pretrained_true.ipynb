{
  "nbformat": 4,
  "nbformat_minor": 0,
  "metadata": {
    "accelerator": "TPU",
    "colab": {
      "name": "Basic_resnet_explorationTPU-failedtraining-pretrained-true.ipynb",
      "provenance": [],
      "collapsed_sections": [],
      "toc_visible": true,
      "include_colab_link": true
    },
    "kernelspec": {
      "display_name": "Python 3",
      "language": "python",
      "name": "python3"
    },
    "language_info": {
      "codemirror_mode": {
        "name": "ipython",
        "version": 3
      },
      "file_extension": ".py",
      "mimetype": "text/x-python",
      "name": "python",
      "nbconvert_exporter": "python",
      "pygments_lexer": "ipython3",
      "version": "3.7.7"
    }
  },
  "cells": [
    {
      "cell_type": "markdown",
      "metadata": {
        "id": "view-in-github",
        "colab_type": "text"
      },
      "source": [
        "<a href=\"https://colab.research.google.com/github/butchland/fastai_xla_extensions/blob/master/explore_nbs/Basic_resnet_explorationTPU_failedtraining_pretrained_true.ipynb\" target=\"_parent\"><img src=\"https://colab.research.google.com/assets/colab-badge.svg\" alt=\"Open In Colab\"/></a>"
      ]
    },
    {
      "cell_type": "markdown",
      "metadata": {
        "colab_type": "text",
        "id": "BmnUX_l8lQ6B"
      },
      "source": [
        "# Install fastai2 from github"
      ]
    },
    {
      "cell_type": "code",
      "metadata": {
        "colab_type": "code",
        "id": "Q5DZXcBNJoy1",
        "colab": {
          "base_uri": "https://localhost:8080/",
          "height": 52
        },
        "outputId": "2a72744f-175d-4bed-bfa7-7513ba8c389e"
      },
      "source": [
        "!pip install -Uqq fastcore --upgrade\n",
        "!pip install -Uqq fastai --upgrade \n",
        "!pip install -Uqq git+https://github.com/butchland/fastai_xla_extensions"
      ],
      "execution_count": 1,
      "outputs": [
        {
          "output_type": "stream",
          "text": [
            "\u001b[?25l\r\u001b[K     |█                               | 10kB 19.4MB/s eta 0:00:01\r\u001b[K     |█▉                              | 20kB 2.0MB/s eta 0:00:01\r\u001b[K     |██▉                             | 30kB 2.5MB/s eta 0:00:01\r\u001b[K     |███▊                            | 40kB 3.0MB/s eta 0:00:01\r\u001b[K     |████▊                           | 51kB 2.3MB/s eta 0:00:01\r\u001b[K     |█████▋                          | 61kB 2.6MB/s eta 0:00:01\r\u001b[K     |██████▌                         | 71kB 2.8MB/s eta 0:00:01\r\u001b[K     |███████▌                        | 81kB 3.1MB/s eta 0:00:01\r\u001b[K     |████████▍                       | 92kB 3.4MB/s eta 0:00:01\r\u001b[K     |█████████▍                      | 102kB 3.3MB/s eta 0:00:01\r\u001b[K     |██████████▎                     | 112kB 3.3MB/s eta 0:00:01\r\u001b[K     |███████████▏                    | 122kB 3.3MB/s eta 0:00:01\r\u001b[K     |████████████▏                   | 133kB 3.3MB/s eta 0:00:01\r\u001b[K     |█████████████                   | 143kB 3.3MB/s eta 0:00:01\r\u001b[K     |██████████████                  | 153kB 3.3MB/s eta 0:00:01\r\u001b[K     |███████████████                 | 163kB 3.3MB/s eta 0:00:01\r\u001b[K     |███████████████▉                | 174kB 3.3MB/s eta 0:00:01\r\u001b[K     |████████████████▉               | 184kB 3.3MB/s eta 0:00:01\r\u001b[K     |█████████████████▊              | 194kB 3.3MB/s eta 0:00:01\r\u001b[K     |██████████████████▊             | 204kB 3.3MB/s eta 0:00:01\r\u001b[K     |███████████████████▋            | 215kB 3.3MB/s eta 0:00:01\r\u001b[K     |████████████████████▌           | 225kB 3.3MB/s eta 0:00:01\r\u001b[K     |█████████████████████▌          | 235kB 3.3MB/s eta 0:00:01\r\u001b[K     |██████████████████████▍         | 245kB 3.3MB/s eta 0:00:01\r\u001b[K     |███████████████████████▍        | 256kB 3.3MB/s eta 0:00:01\r\u001b[K     |████████████████████████▎       | 266kB 3.3MB/s eta 0:00:01\r\u001b[K     |█████████████████████████▏      | 276kB 3.3MB/s eta 0:00:01\r\u001b[K     |██████████████████████████▏     | 286kB 3.3MB/s eta 0:00:01\r\u001b[K     |███████████████████████████     | 296kB 3.3MB/s eta 0:00:01\r\u001b[K     |████████████████████████████    | 307kB 3.3MB/s eta 0:00:01\r\u001b[K     |█████████████████████████████   | 317kB 3.3MB/s eta 0:00:01\r\u001b[K     |██████████████████████████████  | 327kB 3.3MB/s eta 0:00:01\r\u001b[K     |██████████████████████████████▉ | 337kB 3.3MB/s eta 0:00:01\r\u001b[K     |███████████████████████████████▊| 348kB 3.3MB/s eta 0:00:01\r\u001b[K     |████████████████████████████████| 358kB 3.3MB/s \n",
            "\u001b[?25h  Building wheel for fastai-xla-extensions (setup.py) ... \u001b[?25l\u001b[?25hdone\n"
          ],
          "name": "stdout"
        }
      ]
    },
    {
      "cell_type": "code",
      "metadata": {
        "colab_type": "code",
        "id": "GucdOzF7r6ch",
        "colab": {
          "base_uri": "https://localhost:8080/",
          "height": 69
        },
        "outputId": "05f45541-b138-4fc2-ef7b-432c7df202ea"
      },
      "source": [
        "VERSION = \"20200707\"  #\"20200515\" @param [\"1.5\" , \"20200325\", \"nightly\"]\n",
        "!curl https://raw.githubusercontent.com/pytorch/xla/master/contrib/scripts/env-setup.py -o pytorch-xla-env-setup.py"
      ],
      "execution_count": 2,
      "outputs": [
        {
          "output_type": "stream",
          "text": [
            "  % Total    % Received % Xferd  Average Speed   Time    Time     Time  Current\n",
            "                                 Dload  Upload   Total   Spent    Left  Speed\n",
            "\r  0     0    0     0    0     0      0      0 --:--:-- --:--:-- --:--:--     0\r100  5115  100  5115    0     0  32169      0 --:--:-- --:--:-- --:--:-- 32169\n"
          ],
          "name": "stdout"
        }
      ]
    },
    {
      "cell_type": "code",
      "metadata": {
        "colab_type": "code",
        "id": "BxoA3fJusV17",
        "colab": {
          "base_uri": "https://localhost:8080/",
          "height": 1000
        },
        "outputId": "6ebb13df-569d-4b5c-c111-2d8657fae916"
      },
      "source": [
        "#!TORCH_SHOW_CPP_STACKTRACES=1 python pytorch-xla-env-setup.py --apt-packages libomp5 libopenblas-dev\n",
        "!python pytorch-xla-env-setup.py  --version $VERSION --apt-packages libomp5 libopenblas-dev"
      ],
      "execution_count": 3,
      "outputs": [
        {
          "output_type": "stream",
          "text": [
            "Updating... This may take around 2 minutes.\n",
            "Updating TPU runtime to pytorch-dev20200707 ...\n",
            "Collecting cloud-tpu-client\n",
            "  Downloading https://files.pythonhosted.org/packages/56/9f/7b1958c2886db06feb5de5b2c191096f9e619914b6c31fdf93999fdbbd8b/cloud_tpu_client-0.10-py3-none-any.whl\n",
            "Collecting google-api-python-client==1.8.0\n",
            "\u001b[?25l  Downloading https://files.pythonhosted.org/packages/9a/b4/a955f393b838bc47cbb6ae4643b9d0f90333d3b4db4dc1e819f36aad18cc/google_api_python_client-1.8.0-py3-none-any.whl (57kB)\n",
            "\u001b[K     |████████████████████████████████| 61kB 2.5MB/s \n",
            "\u001b[?25hRequirement already satisfied: oauth2client in /usr/local/lib/python3.6/dist-packages (from cloud-tpu-client) (4.1.3)\n",
            "Requirement already satisfied: six<2dev,>=1.6.1 in /usr/local/lib/python3.6/dist-packages (from google-api-python-client==1.8.0->cloud-tpu-client) (1.15.0)\n",
            "Requirement already satisfied: google-auth-httplib2>=0.0.3 in /usr/local/lib/python3.6/dist-packages (from google-api-python-client==1.8.0->cloud-tpu-client) (0.0.4)\n",
            "Requirement already satisfied: httplib2<1dev,>=0.9.2 in /usr/local/lib/python3.6/dist-packages (from google-api-python-client==1.8.0->cloud-tpu-client) (0.17.4)\n",
            "Requirement already satisfied: google-api-core<2dev,>=1.13.0 in /usr/local/lib/python3.6/dist-packages (from google-api-python-client==1.8.0->cloud-tpu-client) (1.16.0)\n",
            "Requirement already satisfied: uritemplate<4dev,>=3.0.0 in /usr/local/lib/python3.6/dist-packages (from google-api-python-client==1.8.0->cloud-tpu-client) (3.0.1)\n",
            "Requirement already satisfied: google-auth>=1.4.1 in /usr/local/lib/python3.6/dist-packages (from google-api-python-client==1.8.0->cloud-tpu-client) (1.17.2)\n",
            "Requirement already satisfied: pyasn1-modules>=0.0.5 in /usr/local/lib/python3.6/dist-packages (from oauth2client->cloud-tpu-client) (0.2.8)\n",
            "Requirement already satisfied: rsa>=3.1.4 in /usr/local/lib/python3.6/dist-packages (from oauth2client->cloud-tpu-client) (4.6)\n",
            "Requirement already satisfied: pyasn1>=0.1.7 in /usr/local/lib/python3.6/dist-packages (from oauth2client->cloud-tpu-client) (0.4.8)\n",
            "Requirement already satisfied: googleapis-common-protos<2.0dev,>=1.6.0 in /usr/local/lib/python3.6/dist-packages (from google-api-core<2dev,>=1.13.0->google-api-python-client==1.8.0->cloud-tpu-client) (1.52.0)\n",
            "Requirement already satisfied: pytz in /usr/local/lib/python3.6/dist-packages (from google-api-core<2dev,>=1.13.0->google-api-python-client==1.8.0->cloud-tpu-client) (2018.9)\n",
            "Requirement already satisfied: protobuf>=3.4.0 in /usr/local/lib/python3.6/dist-packages (from google-api-core<2dev,>=1.13.0->google-api-python-client==1.8.0->cloud-tpu-client) (3.12.4)\n",
            "Requirement already satisfied: requests<3.0.0dev,>=2.18.0 in /usr/local/lib/python3.6/dist-packages (from google-api-core<2dev,>=1.13.0->google-api-python-client==1.8.0->cloud-tpu-client) (2.23.0)\n",
            "Requirement already satisfied: setuptools>=34.0.0 in /usr/local/lib/python3.6/dist-packages (from google-api-core<2dev,>=1.13.0->google-api-python-client==1.8.0->cloud-tpu-client) (49.6.0)\n",
            "Uninstalling torch-1.6.0+cu101:\n",
            "Requirement already satisfied: cachetools<5.0,>=2.0.0 in /usr/local/lib/python3.6/dist-packages (from google-auth>=1.4.1->google-api-python-client==1.8.0->cloud-tpu-client) (4.1.1)\n",
            "Requirement already satisfied: idna<3,>=2.5 in /usr/local/lib/python3.6/dist-packages (from requests<3.0.0dev,>=2.18.0->google-api-core<2dev,>=1.13.0->google-api-python-client==1.8.0->cloud-tpu-client) (2.10)\n",
            "Requirement already satisfied: urllib3!=1.25.0,!=1.25.1,<1.26,>=1.21.1 in /usr/local/lib/python3.6/dist-packages (from requests<3.0.0dev,>=2.18.0->google-api-core<2dev,>=1.13.0->google-api-python-client==1.8.0->cloud-tpu-client) (1.24.3)\n",
            "Requirement already satisfied: certifi>=2017.4.17 in /usr/local/lib/python3.6/dist-packages (from requests<3.0.0dev,>=2.18.0->google-api-core<2dev,>=1.13.0->google-api-python-client==1.8.0->cloud-tpu-client) (2020.6.20)\n",
            "Requirement already satisfied: chardet<4,>=3.0.2 in /usr/local/lib/python3.6/dist-packages (from requests<3.0.0dev,>=2.18.0->google-api-core<2dev,>=1.13.0->google-api-python-client==1.8.0->cloud-tpu-client) (3.0.4)\n",
            "Installing collected packages: google-api-python-client, cloud-tpu-client\n",
            "  Found existing installation: google-api-python-client 1.7.12\n",
            "    Uninstalling google-api-python-client-1.7.12:\n",
            "      Successfully uninstalled google-api-python-client-1.7.12\n",
            "Successfully installed cloud-tpu-client-0.10 google-api-python-client-1.8.0\n",
            "Done updating TPU runtime\n",
            "  Successfully uninstalled torch-1.6.0+cu101\n",
            "Uninstalling torchvision-0.7.0+cu101:\n",
            "  Successfully uninstalled torchvision-0.7.0+cu101\n",
            "Copying gs://tpu-pytorch/wheels/torch-nightly+20200707-cp36-cp36m-linux_x86_64.whl...\n",
            "- [1 files][107.5 MiB/107.5 MiB]                                                \n",
            "Operation completed over 1 objects/107.5 MiB.                                    \n",
            "Copying gs://tpu-pytorch/wheels/torch_xla-nightly+20200707-cp36-cp36m-linux_x86_64.whl...\n",
            "\\ [1 files][123.8 MiB/123.8 MiB]                                                \n",
            "Operation completed over 1 objects/123.8 MiB.                                    \n",
            "Copying gs://tpu-pytorch/wheels/torchvision-nightly+20200707-cp36-cp36m-linux_x86_64.whl...\n",
            "/ [1 files][  2.2 MiB/  2.2 MiB]                                                \n",
            "Operation completed over 1 objects/2.2 MiB.                                      \n",
            "Processing ./torch-nightly+20200707-cp36-cp36m-linux_x86_64.whl\n",
            "Requirement already satisfied: future in /usr/local/lib/python3.6/dist-packages (from torch==nightly+20200707) (0.16.0)\n",
            "Requirement already satisfied: numpy in /usr/local/lib/python3.6/dist-packages (from torch==nightly+20200707) (1.18.5)\n",
            "\u001b[31mERROR: fastai 2.0.0 requires torchvision>=0.7, which is not installed.\u001b[0m\n",
            "Installing collected packages: torch\n",
            "Successfully installed torch-1.7.0a0+12b5bdc\n",
            "Processing ./torch_xla-nightly+20200707-cp36-cp36m-linux_x86_64.whl\n",
            "Installing collected packages: torch-xla\n",
            "Successfully installed torch-xla-1.6+5430aca\n",
            "Processing ./torchvision-nightly+20200707-cp36-cp36m-linux_x86_64.whl\n",
            "Requirement already satisfied: pillow>=4.1.1 in /usr/local/lib/python3.6/dist-packages (from torchvision==nightly+20200707) (7.0.0)\n",
            "Requirement already satisfied: torch in /usr/local/lib/python3.6/dist-packages (from torchvision==nightly+20200707) (1.7.0a0+12b5bdc)\n",
            "Requirement already satisfied: numpy in /usr/local/lib/python3.6/dist-packages (from torchvision==nightly+20200707) (1.18.5)\n",
            "Requirement already satisfied: future in /usr/local/lib/python3.6/dist-packages (from torch->torchvision==nightly+20200707) (0.16.0)\n",
            "Installing collected packages: torchvision\n",
            "Successfully installed torchvision-0.8.0a0+86b6c3e\n",
            "Reading package lists... Done\n",
            "Building dependency tree       \n",
            "Reading state information... Done\n",
            "libopenblas-dev is already the newest version (0.2.20+ds-4).\n",
            "The following package was automatically installed and is no longer required:\n",
            "  libnvidia-common-440\n",
            "Use 'apt autoremove' to remove it.\n",
            "The following NEW packages will be installed:\n",
            "  libomp5\n",
            "0 upgraded, 1 newly installed, 0 to remove and 39 not upgraded.\n",
            "Need to get 234 kB of archives.\n",
            "After this operation, 774 kB of additional disk space will be used.\n",
            "Get:1 http://archive.ubuntu.com/ubuntu bionic/universe amd64 libomp5 amd64 5.0.1-1 [234 kB]\n",
            "Fetched 234 kB in 1s (393 kB/s)\n",
            "Selecting previously unselected package libomp5:amd64.\n",
            "(Reading database ... 144579 files and directories currently installed.)\n",
            "Preparing to unpack .../libomp5_5.0.1-1_amd64.deb ...\n",
            "Unpacking libomp5:amd64 (5.0.1-1) ...\n",
            "Setting up libomp5:amd64 (5.0.1-1) ...\n",
            "Processing triggers for libc-bin (2.27-3ubuntu1) ...\n",
            "/sbin/ldconfig.real: /usr/local/lib/python3.6/dist-packages/ideep4py/lib/libmkldnn.so.0 is not a symbolic link\n",
            "\n"
          ],
          "name": "stdout"
        }
      ]
    },
    {
      "cell_type": "code",
      "metadata": {
        "colab_type": "code",
        "id": "aJMhjxPPaPo8",
        "colab": {
          "base_uri": "https://localhost:8080/",
          "height": 156
        },
        "outputId": "e8c617ea-92fd-4134-ba8c-8a0e4a5263c5"
      },
      "source": [
        "!pip freeze | grep torch \n",
        "!pip freeze | grep fastcore\n",
        "!pip freeze | grep fastai"
      ],
      "execution_count": 4,
      "outputs": [
        {
          "output_type": "stream",
          "text": [
            "torch==1.7.0a0+12b5bdc\n",
            "torch-xla==1.6+5430aca\n",
            "torchsummary==1.5.1\n",
            "torchtext==0.3.1\n",
            "torchvision==0.8.0a0+86b6c3e\n",
            "fastcore==1.0.0\n",
            "fastai==2.0.0\n",
            "fastai-xla-extensions==0.0.1\n"
          ],
          "name": "stdout"
        }
      ]
    },
    {
      "cell_type": "code",
      "metadata": {
        "id": "O5vVQw3JM7yA",
        "colab_type": "code",
        "colab": {}
      },
      "source": [
        "import fastai_xla_extensions.core"
      ],
      "execution_count": 1,
      "outputs": []
    },
    {
      "cell_type": "code",
      "metadata": {
        "colab_type": "code",
        "id": "mlAKa0RsbOei",
        "colab": {}
      },
      "source": [
        "from fastai.vision.all import *"
      ],
      "execution_count": 2,
      "outputs": []
    },
    {
      "cell_type": "code",
      "metadata": {
        "id": "yP0SuTY0xBrb",
        "colab_type": "code",
        "colab": {}
      },
      "source": [
        "from fastai_xla_extensions.core import default_device, to_device"
      ],
      "execution_count": 3,
      "outputs": []
    },
    {
      "cell_type": "code",
      "metadata": {
        "colab_type": "code",
        "id": "OD7QTq_ulNZK",
        "colab": {
          "base_uri": "https://localhost:8080/",
          "height": 34
        },
        "outputId": "70b367d8-37f9-4ca1-9755-4bb90be6bc7f"
      },
      "source": [
        "path = untar_data(URLs.MNIST_SAMPLE)\n",
        "Path.BASE_PATH = path; path.ls()"
      ],
      "execution_count": 4,
      "outputs": [
        {
          "output_type": "execute_result",
          "data": {
            "text/plain": [
              "(#3) [Path('valid'),Path('train'),Path('labels.csv')]"
            ]
          },
          "metadata": {
            "tags": []
          },
          "execution_count": 4
        }
      ]
    },
    {
      "cell_type": "markdown",
      "metadata": {
        "colab_type": "text",
        "id": "p1MkLSk4rGXa"
      },
      "source": [
        "# Load in TPU"
      ]
    },
    {
      "cell_type": "markdown",
      "metadata": {
        "id": "iGGltCFpN0Gs",
        "colab_type": "text"
      },
      "source": [
        ""
      ]
    },
    {
      "cell_type": "code",
      "metadata": {
        "colab_type": "code",
        "id": "xEERTzNRN5qh",
        "colab": {}
      },
      "source": [
        "dblock = DataBlock(\n",
        "    splitter = GrandparentSplitter(),\n",
        "    item_tfms = Resize(28),\n",
        "    blocks = (ImageBlock, CategoryBlock),\n",
        "    get_items = get_image_files,\n",
        "    get_y = parent_label,\n",
        "    batch_tfms = []\n",
        ")\n"
      ],
      "execution_count": 5,
      "outputs": []
    },
    {
      "cell_type": "code",
      "metadata": {
        "colab_type": "code",
        "id": "H9FuvQ7qrEqd",
        "colab": {
          "base_uri": "https://localhost:8080/",
          "height": 34
        },
        "outputId": "a327d2a1-ce91-4ae9-daba-a75f15f4ac2b"
      },
      "source": [
        "dls_tpu = dblock.dataloaders(path, device=default_device())\n",
        "dls_tpu.device"
      ],
      "execution_count": 6,
      "outputs": [
        {
          "output_type": "execute_result",
          "data": {
            "text/plain": [
              "device(type='xla', index=1)"
            ]
          },
          "metadata": {
            "tags": []
          },
          "execution_count": 6
        }
      ]
    },
    {
      "cell_type": "code",
      "metadata": {
        "id": "i6V8S-tq40vS",
        "colab_type": "code",
        "colab": {}
      },
      "source": [
        "tpu_learner = cnn_learner(dls_tpu, resnet18, pretrained=True, metrics=accuracy)"
      ],
      "execution_count": 7,
      "outputs": []
    },
    {
      "cell_type": "code",
      "metadata": {
        "colab_type": "code",
        "id": "npau0oogyXRN",
        "colab": {
          "base_uri": "https://localhost:8080/",
          "height": 1000
        },
        "outputId": "96ae7461-b396-4a8f-ec06-aa22052373b8"
      },
      "source": [
        "tpu_learner.summary()"
      ],
      "execution_count": 8,
      "outputs": [
        {
          "output_type": "display_data",
          "data": {
            "text/html": [
              "<table border=\"1\" class=\"dataframe\">\n",
              "  <thead>\n",
              "    <tr style=\"text-align: left;\">\n",
              "      <th>epoch</th>\n",
              "      <th>train_loss</th>\n",
              "      <th>valid_loss</th>\n",
              "      <th>accuracy</th>\n",
              "      <th>time</th>\n",
              "    </tr>\n",
              "  </thead>\n",
              "  <tbody>\n",
              "    <tr>\n",
              "      <td>0</td>\n",
              "      <td>None</td>\n",
              "      <td>None</td>\n",
              "      <td>00:00</td>\n",
              "    </tr>\n",
              "  </tbody>\n",
              "</table>"
            ],
            "text/plain": [
              "<IPython.core.display.HTML object>"
            ]
          },
          "metadata": {
            "tags": []
          }
        },
        {
          "output_type": "execute_result",
          "data": {
            "application/vnd.google.colaboratory.intrinsic+json": {
              "type": "string"
            },
            "text/plain": [
              "Sequential (Input shape: ['64 x 3 x 28 x 28'])\n",
              "================================================================\n",
              "Layer (type)         Output Shape         Param #    Trainable \n",
              "================================================================\n",
              "Conv2d               64 x 64 x 14 x 14    9,408      False     \n",
              "________________________________________________________________\n",
              "BatchNorm2d          64 x 64 x 14 x 14    128        True      \n",
              "________________________________________________________________\n",
              "ReLU                 64 x 64 x 14 x 14    0          False     \n",
              "________________________________________________________________\n",
              "MaxPool2d            64 x 64 x 7 x 7      0          False     \n",
              "________________________________________________________________\n",
              "Conv2d               64 x 64 x 7 x 7      36,864     False     \n",
              "________________________________________________________________\n",
              "BatchNorm2d          64 x 64 x 7 x 7      128        True      \n",
              "________________________________________________________________\n",
              "ReLU                 64 x 64 x 7 x 7      0          False     \n",
              "________________________________________________________________\n",
              "Conv2d               64 x 64 x 7 x 7      36,864     False     \n",
              "________________________________________________________________\n",
              "BatchNorm2d          64 x 64 x 7 x 7      128        True      \n",
              "________________________________________________________________\n",
              "Conv2d               64 x 64 x 7 x 7      36,864     False     \n",
              "________________________________________________________________\n",
              "BatchNorm2d          64 x 64 x 7 x 7      128        True      \n",
              "________________________________________________________________\n",
              "ReLU                 64 x 64 x 7 x 7      0          False     \n",
              "________________________________________________________________\n",
              "Conv2d               64 x 64 x 7 x 7      36,864     False     \n",
              "________________________________________________________________\n",
              "BatchNorm2d          64 x 64 x 7 x 7      128        True      \n",
              "________________________________________________________________\n",
              "Conv2d               64 x 128 x 4 x 4     73,728     False     \n",
              "________________________________________________________________\n",
              "BatchNorm2d          64 x 128 x 4 x 4     256        True      \n",
              "________________________________________________________________\n",
              "ReLU                 64 x 128 x 4 x 4     0          False     \n",
              "________________________________________________________________\n",
              "Conv2d               64 x 128 x 4 x 4     147,456    False     \n",
              "________________________________________________________________\n",
              "BatchNorm2d          64 x 128 x 4 x 4     256        True      \n",
              "________________________________________________________________\n",
              "Conv2d               64 x 128 x 4 x 4     8,192      False     \n",
              "________________________________________________________________\n",
              "BatchNorm2d          64 x 128 x 4 x 4     256        True      \n",
              "________________________________________________________________\n",
              "Conv2d               64 x 128 x 4 x 4     147,456    False     \n",
              "________________________________________________________________\n",
              "BatchNorm2d          64 x 128 x 4 x 4     256        True      \n",
              "________________________________________________________________\n",
              "ReLU                 64 x 128 x 4 x 4     0          False     \n",
              "________________________________________________________________\n",
              "Conv2d               64 x 128 x 4 x 4     147,456    False     \n",
              "________________________________________________________________\n",
              "BatchNorm2d          64 x 128 x 4 x 4     256        True      \n",
              "________________________________________________________________\n",
              "Conv2d               64 x 256 x 2 x 2     294,912    False     \n",
              "________________________________________________________________\n",
              "BatchNorm2d          64 x 256 x 2 x 2     512        True      \n",
              "________________________________________________________________\n",
              "ReLU                 64 x 256 x 2 x 2     0          False     \n",
              "________________________________________________________________\n",
              "Conv2d               64 x 256 x 2 x 2     589,824    False     \n",
              "________________________________________________________________\n",
              "BatchNorm2d          64 x 256 x 2 x 2     512        True      \n",
              "________________________________________________________________\n",
              "Conv2d               64 x 256 x 2 x 2     32,768     False     \n",
              "________________________________________________________________\n",
              "BatchNorm2d          64 x 256 x 2 x 2     512        True      \n",
              "________________________________________________________________\n",
              "Conv2d               64 x 256 x 2 x 2     589,824    False     \n",
              "________________________________________________________________\n",
              "BatchNorm2d          64 x 256 x 2 x 2     512        True      \n",
              "________________________________________________________________\n",
              "ReLU                 64 x 256 x 2 x 2     0          False     \n",
              "________________________________________________________________\n",
              "Conv2d               64 x 256 x 2 x 2     589,824    False     \n",
              "________________________________________________________________\n",
              "BatchNorm2d          64 x 256 x 2 x 2     512        True      \n",
              "________________________________________________________________\n",
              "Conv2d               64 x 512 x 1 x 1     1,179,648  False     \n",
              "________________________________________________________________\n",
              "BatchNorm2d          64 x 512 x 1 x 1     1,024      True      \n",
              "________________________________________________________________\n",
              "ReLU                 64 x 512 x 1 x 1     0          False     \n",
              "________________________________________________________________\n",
              "Conv2d               64 x 512 x 1 x 1     2,359,296  False     \n",
              "________________________________________________________________\n",
              "BatchNorm2d          64 x 512 x 1 x 1     1,024      True      \n",
              "________________________________________________________________\n",
              "Conv2d               64 x 512 x 1 x 1     131,072    False     \n",
              "________________________________________________________________\n",
              "BatchNorm2d          64 x 512 x 1 x 1     1,024      True      \n",
              "________________________________________________________________\n",
              "Conv2d               64 x 512 x 1 x 1     2,359,296  False     \n",
              "________________________________________________________________\n",
              "BatchNorm2d          64 x 512 x 1 x 1     1,024      True      \n",
              "________________________________________________________________\n",
              "ReLU                 64 x 512 x 1 x 1     0          False     \n",
              "________________________________________________________________\n",
              "Conv2d               64 x 512 x 1 x 1     2,359,296  False     \n",
              "________________________________________________________________\n",
              "BatchNorm2d          64 x 512 x 1 x 1     1,024      True      \n",
              "________________________________________________________________\n",
              "AdaptiveAvgPool2d    64 x 512 x 1 x 1     0          False     \n",
              "________________________________________________________________\n",
              "AdaptiveMaxPool2d    64 x 512 x 1 x 1     0          False     \n",
              "________________________________________________________________\n",
              "Flatten              64 x 1024            0          False     \n",
              "________________________________________________________________\n",
              "BatchNorm1d          64 x 1024            2,048      True      \n",
              "________________________________________________________________\n",
              "Dropout              64 x 1024            0          False     \n",
              "________________________________________________________________\n",
              "Linear               64 x 512             524,288    True      \n",
              "________________________________________________________________\n",
              "ReLU                 64 x 512             0          False     \n",
              "________________________________________________________________\n",
              "BatchNorm1d          64 x 512             1,024      True      \n",
              "________________________________________________________________\n",
              "Dropout              64 x 512             0          False     \n",
              "________________________________________________________________\n",
              "Linear               64 x 2               1,024      True      \n",
              "________________________________________________________________\n",
              "\n",
              "Total params: 11,704,896\n",
              "Total trainable params: 537,984\n",
              "Total non-trainable params: 11,166,912\n",
              "\n",
              "Optimizer used: <function Adam at 0x7f1865955ae8>\n",
              "Loss function: FlattenedLoss of CrossEntropyLoss()\n",
              "\n",
              "Model frozen up to parameter group #2\n",
              "\n",
              "Callbacks:\n",
              "  - TrainEvalCallback\n",
              "  - XLAOptCallback\n",
              "  - Recorder\n",
              "  - ProgressCallback"
            ]
          },
          "metadata": {
            "tags": []
          },
          "execution_count": 8
        }
      ]
    },
    {
      "cell_type": "code",
      "metadata": {
        "colab_type": "code",
        "id": "-Z-exyB0zrk6",
        "colab": {
          "base_uri": "https://localhost:8080/",
          "height": 590
        },
        "outputId": "6169cf82-8751-4135-cee6-362455dfaf84"
      },
      "source": [
        "tpu_learner.show_training_loop()"
      ],
      "execution_count": 9,
      "outputs": [
        {
          "output_type": "stream",
          "text": [
            "Start Fit\n",
            "   - before_fit     : [TrainEvalCallback, XLAOptCallback, Recorder, ProgressCallback]\n",
            "  Start Epoch Loop\n",
            "     - before_epoch   : [Recorder, ProgressCallback]\n",
            "    Start Train\n",
            "       - before_train   : [TrainEvalCallback, Recorder, ProgressCallback]\n",
            "      Start Batch Loop\n",
            "         - before_batch   : []\n",
            "         - after_pred     : []\n",
            "         - after_loss     : []\n",
            "         - before_backward: []\n",
            "         - after_backward : []\n",
            "         - after_step     : []\n",
            "         - after_cancel_batch: []\n",
            "         - after_batch    : [TrainEvalCallback, Recorder, ProgressCallback]\n",
            "      End Batch Loop\n",
            "    End Train\n",
            "     - after_cancel_train: [Recorder]\n",
            "     - after_train    : [Recorder, ProgressCallback]\n",
            "    Start Valid\n",
            "       - before_validate: [TrainEvalCallback, Recorder, ProgressCallback]\n",
            "      Start Batch Loop\n",
            "         - **CBs same as train batch**: []\n",
            "      End Batch Loop\n",
            "    End Valid\n",
            "     - after_cancel_validate: [Recorder]\n",
            "     - after_validate : [Recorder, ProgressCallback]\n",
            "  End Epoch Loop\n",
            "   - after_cancel_epoch: []\n",
            "   - after_epoch    : [Recorder]\n",
            "End Fit\n",
            " - after_cancel_fit: []\n",
            " - after_fit      : [XLAOptCallback, ProgressCallback]\n"
          ],
          "name": "stdout"
        }
      ]
    },
    {
      "cell_type": "markdown",
      "metadata": {
        "colab_type": "text",
        "id": "f_vRFNZts9GB"
      },
      "source": [
        "# Call fit\n",
        "\n",
        "Will fail in `self.loss.backward(); `?"
      ]
    },
    {
      "cell_type": "code",
      "metadata": {
        "colab_type": "code",
        "id": "oKrHpX9eu4S_",
        "colab": {
          "base_uri": "https://localhost:8080/",
          "height": 81
        },
        "outputId": "25e13710-8517-42eb-f7a4-0510cd461a3e"
      },
      "source": [
        "tpu_learner.fit(1)"
      ],
      "execution_count": 10,
      "outputs": [
        {
          "output_type": "display_data",
          "data": {
            "text/html": [
              "<table border=\"1\" class=\"dataframe\">\n",
              "  <thead>\n",
              "    <tr style=\"text-align: left;\">\n",
              "      <th>epoch</th>\n",
              "      <th>train_loss</th>\n",
              "      <th>valid_loss</th>\n",
              "      <th>accuracy</th>\n",
              "      <th>time</th>\n",
              "    </tr>\n",
              "  </thead>\n",
              "  <tbody>\n",
              "    <tr>\n",
              "      <td>0</td>\n",
              "      <td>1.137379</td>\n",
              "      <td>0.833501</td>\n",
              "      <td>0.585868</td>\n",
              "      <td>00:23</td>\n",
              "    </tr>\n",
              "  </tbody>\n",
              "</table>"
            ],
            "text/plain": [
              "<IPython.core.display.HTML object>"
            ]
          },
          "metadata": {
            "tags": []
          }
        }
      ]
    },
    {
      "cell_type": "code",
      "metadata": {
        "colab_type": "code",
        "id": "59-jZT0-vDcI",
        "colab": {
          "base_uri": "https://localhost:8080/",
          "height": 265
        },
        "outputId": "d012126f-b695-4005-cef7-b8b239613be6"
      },
      "source": [
        "tpu_learner.recorder.plot_loss()"
      ],
      "execution_count": 11,
      "outputs": [
        {
          "output_type": "display_data",
          "data": {
            "image/png": "[encoded data removed]",
            "text/plain": [
              "<Figure size 432x288 with 1 Axes>"
            ]
          },
          "metadata": {
            "tags": [],
            "needs_background": "light"
          }
        }
      ]
    },
    {
      "cell_type": "code",
      "metadata": {
        "id": "Uei-_fSpP2VJ",
        "colab_type": "code",
        "colab": {}
      },
      "source": [
        "tpu_learner.unfreeze()"
      ],
      "execution_count": 13,
      "outputs": []
    },
    {
      "cell_type": "code",
      "metadata": {
        "id": "d4afo3XOZzFD",
        "colab_type": "code",
        "colab": {
          "base_uri": "https://localhost:8080/",
          "height": 115
        },
        "outputId": "15e62ab6-bb60-45e9-90ce-422dbbd2dbef"
      },
      "source": [
        "%%time\n",
        "tpu_learner.fit_one_cycle(1)"
      ],
      "execution_count": 14,
      "outputs": [
        {
          "output_type": "display_data",
          "data": {
            "text/html": [
              "<table border=\"1\" class=\"dataframe\">\n",
              "  <thead>\n",
              "    <tr style=\"text-align: left;\">\n",
              "      <th>epoch</th>\n",
              "      <th>train_loss</th>\n",
              "      <th>valid_loss</th>\n",
              "      <th>accuracy</th>\n",
              "      <th>time</th>\n",
              "    </tr>\n",
              "  </thead>\n",
              "  <tbody>\n",
              "    <tr>\n",
              "      <td>0</td>\n",
              "      <td>1.121667</td>\n",
              "      <td>0.840853</td>\n",
              "      <td>0.580962</td>\n",
              "      <td>00:23</td>\n",
              "    </tr>\n",
              "  </tbody>\n",
              "</table>"
            ],
            "text/plain": [
              "<IPython.core.display.HTML object>"
            ]
          },
          "metadata": {
            "tags": []
          }
        },
        {
          "output_type": "stream",
          "text": [
            "CPU times: user 7.11 s, sys: 876 ms, total: 7.99 s\n",
            "Wall time: 23.6 s\n"
          ],
          "name": "stdout"
        }
      ]
    },
    {
      "cell_type": "code",
      "metadata": {
        "id": "chSdvdcZQGqK",
        "colab_type": "code",
        "colab": {
          "base_uri": "https://localhost:8080/",
          "height": 363
        },
        "outputId": "b84dd81f-9be3-4b2b-c978-1a97f0c64bf7"
      },
      "source": [
        "tpu_learner.fit_one_cycle(10)"
      ],
      "execution_count": 15,
      "outputs": [
        {
          "output_type": "display_data",
          "data": {
            "text/html": [
              "<table border=\"1\" class=\"dataframe\">\n",
              "  <thead>\n",
              "    <tr style=\"text-align: left;\">\n",
              "      <th>epoch</th>\n",
              "      <th>train_loss</th>\n",
              "      <th>valid_loss</th>\n",
              "      <th>accuracy</th>\n",
              "      <th>time</th>\n",
              "    </tr>\n",
              "  </thead>\n",
              "  <tbody>\n",
              "    <tr>\n",
              "      <td>0</td>\n",
              "      <td>1.119356</td>\n",
              "      <td>0.845768</td>\n",
              "      <td>0.577036</td>\n",
              "      <td>00:21</td>\n",
              "    </tr>\n",
              "    <tr>\n",
              "      <td>1</td>\n",
              "      <td>1.108155</td>\n",
              "      <td>0.823684</td>\n",
              "      <td>0.582434</td>\n",
              "      <td>00:21</td>\n",
              "    </tr>\n",
              "    <tr>\n",
              "      <td>2</td>\n",
              "      <td>1.143584</td>\n",
              "      <td>0.835649</td>\n",
              "      <td>0.589303</td>\n",
              "      <td>00:21</td>\n",
              "    </tr>\n",
              "    <tr>\n",
              "      <td>3</td>\n",
              "      <td>1.112138</td>\n",
              "      <td>0.856550</td>\n",
              "      <td>0.574583</td>\n",
              "      <td>00:21</td>\n",
              "    </tr>\n",
              "    <tr>\n",
              "      <td>4</td>\n",
              "      <td>1.103486</td>\n",
              "      <td>0.843878</td>\n",
              "      <td>0.578999</td>\n",
              "      <td>00:21</td>\n",
              "    </tr>\n",
              "    <tr>\n",
              "      <td>5</td>\n",
              "      <td>1.108675</td>\n",
              "      <td>0.857935</td>\n",
              "      <td>0.571148</td>\n",
              "      <td>00:23</td>\n",
              "    </tr>\n",
              "    <tr>\n",
              "      <td>6</td>\n",
              "      <td>1.139158</td>\n",
              "      <td>0.836596</td>\n",
              "      <td>0.580962</td>\n",
              "      <td>00:21</td>\n",
              "    </tr>\n",
              "    <tr>\n",
              "      <td>7</td>\n",
              "      <td>1.126376</td>\n",
              "      <td>0.846665</td>\n",
              "      <td>0.583415</td>\n",
              "      <td>00:21</td>\n",
              "    </tr>\n",
              "    <tr>\n",
              "      <td>8</td>\n",
              "      <td>1.141315</td>\n",
              "      <td>0.837974</td>\n",
              "      <td>0.578508</td>\n",
              "      <td>00:21</td>\n",
              "    </tr>\n",
              "    <tr>\n",
              "      <td>9</td>\n",
              "      <td>1.119917</td>\n",
              "      <td>0.826240</td>\n",
              "      <td>0.581943</td>\n",
              "      <td>00:20</td>\n",
              "    </tr>\n",
              "  </tbody>\n",
              "</table>"
            ],
            "text/plain": [
              "<IPython.core.display.HTML object>"
            ]
          },
          "metadata": {
            "tags": []
          }
        }
      ]
    },
    {
      "cell_type": "code",
      "metadata": {
        "id": "kJ0U9lv0gNX9",
        "colab_type": "code",
        "colab": {}
      },
      "source": [
        "class DeviceCheckCallback(Callback):\n",
        "    \n",
        "    def after_pred(self):\n",
        "        print(f'xb device: {first(self.learn.xb).device}')\n",
        "        print(f'model device: {one_param(self.learn.model).device}')\n"
      ],
      "execution_count": 22,
      "outputs": []
    },
    {
      "cell_type": "code",
      "metadata": {
        "id": "2vv__tRKAyqI",
        "colab_type": "code",
        "colab": {
          "base_uri": "https://localhost:8080/",
          "height": 1000
        },
        "outputId": "d133cc20-e86f-41cd-d6ab-87cab8403d7c"
      },
      "source": [
        "tpu_learner.fit_one_cycle(1, cbs=[DeviceCheckCallback()])"
      ],
      "execution_count": 23,
      "outputs": [
        {
          "output_type": "display_data",
          "data": {
            "text/html": [
              "<table border=\"1\" class=\"dataframe\">\n",
              "  <thead>\n",
              "    <tr style=\"text-align: left;\">\n",
              "      <th>epoch</th>\n",
              "      <th>train_loss</th>\n",
              "      <th>valid_loss</th>\n",
              "      <th>accuracy</th>\n",
              "      <th>time</th>\n",
              "    </tr>\n",
              "  </thead>\n",
              "  <tbody>\n",
              "    <tr>\n",
              "      <td>0</td>\n",
              "      <td>0.019918</td>\n",
              "      <td>0.005847</td>\n",
              "      <td>0.998037</td>\n",
              "      <td>00:26</td>\n",
              "    </tr>\n",
              "  </tbody>\n",
              "</table>"
            ],
            "text/plain": [
              "<IPython.core.display.HTML object>"
            ]
          },
          "metadata": {
            "tags": []
          }
        },
        {
          "output_type": "stream",
          "text": [
            "xb device: xla:1\n",
            "model device: xla:1\n",
            "xb device: xla:1\n",
            "model device: xla:1\n",
            "xb device: xla:1\n",
            "model device: xla:1\n",
            "xb device: xla:1\n",
            "model device: xla:1\n",
            "xb device: xla:1\n",
            "model device: xla:1\n",
            "xb device: xla:1\n",
            "model device: xla:1\n",
            "xb device: xla:1\n",
            "model device: xla:1\n",
            "xb device: xla:1\n",
            "model device: xla:1\n",
            "xb device: xla:1\n",
            "model device: xla:1\n",
            "xb device: xla:1\n",
            "model device: xla:1\n",
            "xb device: xla:1\n",
            "model device: xla:1\n",
            "xb device: xla:1\n",
            "model device: xla:1\n",
            "xb device: xla:1\n",
            "model device: xla:1\n",
            "xb device: xla:1\n",
            "model device: xla:1\n",
            "xb device: xla:1\n",
            "model device: xla:1\n",
            "xb device: xla:1\n",
            "model device: xla:1\n",
            "xb device: xla:1\n",
            "model device: xla:1\n",
            "xb device: xla:1\n",
            "model device: xla:1\n",
            "xb device: xla:1\n",
            "model device: xla:1\n",
            "xb device: xla:1\n",
            "model device: xla:1\n",
            "xb device: xla:1\n",
            "model device: xla:1\n",
            "xb device: xla:1\n",
            "model device: xla:1\n",
            "xb device: xla:1\n",
            "model device: xla:1\n",
            "xb device: xla:1\n",
            "model device: xla:1\n",
            "xb device: xla:1\n",
            "model device: xla:1\n",
            "xb device: xla:1\n",
            "model device: xla:1\n",
            "xb device: xla:1\n",
            "model device: xla:1\n",
            "xb device: xla:1\n",
            "model device: xla:1\n",
            "xb device: xla:1\n",
            "model device: xla:1\n",
            "xb device: xla:1\n",
            "model device: xla:1\n",
            "xb device: xla:1\n",
            "model device: xla:1\n",
            "xb device: xla:1\n",
            "model device: xla:1\n",
            "xb device: xla:1\n",
            "model device: xla:1\n",
            "xb device: xla:1\n",
            "model device: xla:1\n",
            "xb device: xla:1\n",
            "model device: xla:1\n",
            "xb device: xla:1\n",
            "model device: xla:1\n",
            "xb device: xla:1\n",
            "model device: xla:1\n",
            "xb device: xla:1\n",
            "model device: xla:1\n",
            "xb device: xla:1\n",
            "model device: xla:1\n",
            "xb device: xla:1\n",
            "model device: xla:1\n",
            "xb device: xla:1\n",
            "model device: xla:1\n",
            "xb device: xla:1\n",
            "model device: xla:1\n",
            "xb device: xla:1\n",
            "model device: xla:1\n",
            "xb device: xla:1\n",
            "model device: xla:1\n",
            "xb device: xla:1\n",
            "model device: xla:1\n",
            "xb device: xla:1\n",
            "model device: xla:1\n",
            "xb device: xla:1\n",
            "model device: xla:1\n",
            "xb device: xla:1\n",
            "model device: xla:1\n",
            "xb device: xla:1\n",
            "model device: xla:1\n",
            "xb device: xla:1\n",
            "model device: xla:1\n",
            "xb device: xla:1\n",
            "model device: xla:1\n",
            "xb device: xla:1\n",
            "model device: xla:1\n",
            "xb device: xla:1\n",
            "model device: xla:1\n",
            "xb device: xla:1\n",
            "model device: xla:1\n",
            "xb device: xla:1\n",
            "model device: xla:1\n",
            "xb device: xla:1\n",
            "model device: xla:1\n",
            "xb device: xla:1\n",
            "model device: xla:1\n",
            "xb device: xla:1\n",
            "model device: xla:1\n",
            "xb device: xla:1\n",
            "model device: xla:1\n",
            "xb device: xla:1\n",
            "model device: xla:1\n",
            "xb device: xla:1\n",
            "model device: xla:1\n",
            "xb device: xla:1\n",
            "model device: xla:1\n",
            "xb device: xla:1\n",
            "model device: xla:1\n",
            "xb device: xla:1\n",
            "model device: xla:1\n",
            "xb device: xla:1\n",
            "model device: xla:1\n",
            "xb device: xla:1\n",
            "model device: xla:1\n",
            "xb device: xla:1\n",
            "model device: xla:1\n",
            "xb device: xla:1\n",
            "model device: xla:1\n",
            "xb device: xla:1\n",
            "model device: xla:1\n",
            "xb device: xla:1\n",
            "model device: xla:1\n",
            "xb device: xla:1\n",
            "model device: xla:1\n",
            "xb device: xla:1\n",
            "model device: xla:1\n",
            "xb device: xla:1\n",
            "model device: xla:1\n",
            "xb device: xla:1\n",
            "model device: xla:1\n",
            "xb device: xla:1\n",
            "model device: xla:1\n",
            "xb device: xla:1\n",
            "model device: xla:1\n",
            "xb device: xla:1\n",
            "model device: xla:1\n",
            "xb device: xla:1\n",
            "model device: xla:1\n",
            "xb device: xla:1\n",
            "model device: xla:1\n",
            "xb device: xla:1\n",
            "model device: xla:1\n",
            "xb device: xla:1\n",
            "model device: xla:1\n",
            "xb device: xla:1\n",
            "model device: xla:1\n",
            "xb device: xla:1\n",
            "model device: xla:1\n",
            "xb device: xla:1\n",
            "model device: xla:1\n",
            "xb device: xla:1\n",
            "model device: xla:1\n",
            "xb device: xla:1\n",
            "model device: xla:1\n",
            "xb device: xla:1\n",
            "model device: xla:1\n",
            "xb device: xla:1\n",
            "model device: xla:1\n",
            "xb device: xla:1\n",
            "model device: xla:1\n",
            "xb device: xla:1\n",
            "model device: xla:1\n",
            "xb device: xla:1\n",
            "model device: xla:1\n",
            "xb device: xla:1\n",
            "model device: xla:1\n",
            "xb device: xla:1\n",
            "model device: xla:1\n",
            "xb device: xla:1\n",
            "model device: xla:1\n",
            "xb device: xla:1\n",
            "model device: xla:1\n",
            "xb device: xla:1\n",
            "model device: xla:1\n",
            "xb device: xla:1\n",
            "model device: xla:1\n",
            "xb device: xla:1\n",
            "model device: xla:1\n",
            "xb device: xla:1\n",
            "model device: xla:1\n",
            "xb device: xla:1\n",
            "model device: xla:1\n",
            "xb device: xla:1\n",
            "model device: xla:1\n",
            "xb device: xla:1\n",
            "model device: xla:1\n",
            "xb device: xla:1\n",
            "model device: xla:1\n",
            "xb device: xla:1\n",
            "model device: xla:1\n",
            "xb device: xla:1\n",
            "model device: xla:1\n",
            "xb device: xla:1\n",
            "model device: xla:1\n",
            "xb device: xla:1\n",
            "model device: xla:1\n",
            "xb device: xla:1\n",
            "model device: xla:1\n",
            "xb device: xla:1\n",
            "model device: xla:1\n",
            "xb device: xla:1\n",
            "model device: xla:1\n",
            "xb device: xla:1\n",
            "model device: xla:1\n",
            "xb device: xla:1\n",
            "model device: xla:1\n",
            "xb device: xla:1\n",
            "model device: xla:1\n",
            "xb device: xla:1\n",
            "model device: xla:1\n",
            "xb device: xla:1\n",
            "model device: xla:1\n",
            "xb device: xla:1\n",
            "model device: xla:1\n",
            "xb device: xla:1\n",
            "model device: xla:1\n",
            "xb device: xla:1\n",
            "model device: xla:1\n",
            "xb device: xla:1\n",
            "model device: xla:1\n",
            "xb device: xla:1\n",
            "model device: xla:1\n",
            "xb device: xla:1\n",
            "model device: xla:1\n",
            "xb device: xla:1\n",
            "model device: xla:1\n",
            "xb device: xla:1\n",
            "model device: xla:1\n",
            "xb device: xla:1\n",
            "model device: xla:1\n",
            "xb device: xla:1\n",
            "model device: xla:1\n",
            "xb device: xla:1\n",
            "model device: xla:1\n",
            "xb device: xla:1\n",
            "model device: xla:1\n",
            "xb device: xla:1\n",
            "model device: xla:1\n",
            "xb device: xla:1\n",
            "model device: xla:1\n",
            "xb device: xla:1\n",
            "model device: xla:1\n",
            "xb device: xla:1\n",
            "model device: xla:1\n",
            "xb device: xla:1\n",
            "model device: xla:1\n",
            "xb device: xla:1\n",
            "model device: xla:1\n",
            "xb device: xla:1\n",
            "model device: xla:1\n",
            "xb device: xla:1\n",
            "model device: xla:1\n",
            "xb device: xla:1\n",
            "model device: xla:1\n",
            "xb device: xla:1\n",
            "model device: xla:1\n",
            "xb device: xla:1\n",
            "model device: xla:1\n",
            "xb device: xla:1\n",
            "model device: xla:1\n",
            "xb device: xla:1\n",
            "model device: xla:1\n",
            "xb device: xla:1\n",
            "model device: xla:1\n",
            "xb device: xla:1\n",
            "model device: xla:1\n",
            "xb device: xla:1\n",
            "model device: xla:1\n",
            "xb device: xla:1\n",
            "model device: xla:1\n",
            "xb device: xla:1\n",
            "model device: xla:1\n",
            "xb device: xla:1\n",
            "model device: xla:1\n",
            "xb device: xla:1\n",
            "model device: xla:1\n",
            "xb device: xla:1\n",
            "model device: xla:1\n",
            "xb device: xla:1\n",
            "model device: xla:1\n",
            "xb device: xla:1\n",
            "model device: xla:1\n",
            "xb device: xla:1\n",
            "model device: xla:1\n",
            "xb device: xla:1\n",
            "model device: xla:1\n",
            "xb device: xla:1\n",
            "model device: xla:1\n",
            "xb device: xla:1\n",
            "model device: xla:1\n",
            "xb device: xla:1\n",
            "model device: xla:1\n",
            "xb device: xla:1\n",
            "model device: xla:1\n",
            "xb device: xla:1\n",
            "model device: xla:1\n",
            "xb device: xla:1\n",
            "model device: xla:1\n",
            "xb device: xla:1\n",
            "model device: xla:1\n",
            "xb device: xla:1\n",
            "model device: xla:1\n",
            "xb device: xla:1\n",
            "model device: xla:1\n",
            "xb device: xla:1\n",
            "model device: xla:1\n",
            "xb device: xla:1\n",
            "model device: xla:1\n",
            "xb device: xla:1\n",
            "model device: xla:1\n",
            "xb device: xla:1\n",
            "model device: xla:1\n",
            "xb device: xla:1\n",
            "model device: xla:1\n",
            "xb device: xla:1\n",
            "model device: xla:1\n",
            "xb device: xla:1\n",
            "model device: xla:1\n",
            "xb device: xla:1\n",
            "model device: xla:1\n",
            "xb device: xla:1\n",
            "model device: xla:1\n",
            "xb device: xla:1\n",
            "model device: xla:1\n",
            "xb device: xla:1\n",
            "model device: xla:1\n",
            "xb device: xla:1\n",
            "model device: xla:1\n",
            "xb device: xla:1\n",
            "model device: xla:1\n",
            "xb device: xla:1\n",
            "model device: xla:1\n",
            "xb device: xla:1\n",
            "model device: xla:1\n",
            "xb device: xla:1\n",
            "model device: xla:1\n",
            "xb device: xla:1\n",
            "model device: xla:1\n",
            "xb device: xla:1\n",
            "model device: xla:1\n",
            "xb device: xla:1\n",
            "model device: xla:1\n",
            "xb device: xla:1\n",
            "model device: xla:1\n",
            "xb device: xla:1\n",
            "model device: xla:1\n",
            "xb device: xla:1\n",
            "model device: xla:1\n",
            "xb device: xla:1\n",
            "model device: xla:1\n",
            "xb device: xla:1\n",
            "model device: xla:1\n",
            "xb device: xla:1\n",
            "model device: xla:1\n",
            "xb device: xla:1\n",
            "model device: xla:1\n",
            "xb device: xla:1\n",
            "model device: xla:1\n",
            "xb device: xla:1\n",
            "model device: xla:1\n",
            "xb device: xla:1\n",
            "model device: xla:1\n",
            "xb device: xla:1\n",
            "model device: xla:1\n",
            "xb device: xla:1\n",
            "model device: xla:1\n",
            "xb device: xla:1\n",
            "model device: xla:1\n",
            "xb device: xla:1\n",
            "model device: xla:1\n",
            "xb device: xla:1\n",
            "model device: xla:1\n",
            "xb device: xla:1\n",
            "model device: xla:1\n",
            "xb device: xla:1\n",
            "model device: xla:1\n",
            "xb device: xla:1\n",
            "model device: xla:1\n",
            "xb device: xla:1\n",
            "model device: xla:1\n",
            "xb device: xla:1\n",
            "model device: xla:1\n",
            "xb device: xla:1\n",
            "model device: xla:1\n",
            "xb device: xla:1\n",
            "model device: xla:1\n",
            "xb device: xla:1\n",
            "model device: xla:1\n",
            "xb device: xla:1\n",
            "model device: xla:1\n",
            "xb device: xla:1\n",
            "model device: xla:1\n",
            "xb device: xla:1\n",
            "model device: xla:1\n",
            "xb device: xla:1\n",
            "model device: xla:1\n",
            "xb device: xla:1\n",
            "model device: xla:1\n",
            "xb device: xla:1\n",
            "model device: xla:1\n",
            "xb device: xla:1\n",
            "model device: xla:1\n",
            "xb device: xla:1\n",
            "model device: xla:1\n",
            "xb device: xla:1\n",
            "model device: xla:1\n",
            "xb device: xla:1\n",
            "model device: xla:1\n",
            "xb device: xla:1\n",
            "model device: xla:1\n",
            "xb device: xla:1\n",
            "model device: xla:1\n",
            "xb device: xla:1\n",
            "model device: xla:1\n",
            "xb device: xla:1\n",
            "model device: xla:1\n",
            "xb device: xla:1\n",
            "model device: xla:1\n",
            "xb device: xla:1\n",
            "model device: xla:1\n",
            "xb device: xla:1\n",
            "model device: xla:1\n",
            "xb device: xla:1\n",
            "model device: xla:1\n",
            "xb device: xla:1\n",
            "model device: xla:1\n",
            "xb device: xla:1\n",
            "model device: xla:1\n",
            "xb device: xla:1\n",
            "model device: xla:1\n",
            "xb device: xla:1\n",
            "model device: xla:1\n"
          ],
          "name": "stdout"
        }
      ]
    },
    {
      "cell_type": "code",
      "metadata": {
        "id": "FwqEIE9aA9ZT",
        "colab_type": "code",
        "colab": {}
      },
      "source": [
        ""
      ],
      "execution_count": null,
      "outputs": []
    }
  ]
}