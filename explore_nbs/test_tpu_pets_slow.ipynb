{
  "nbformat": 4,
  "nbformat_minor": 0,
  "metadata": {
    "colab": {
      "name": "test-tpu-pets-slow.ipynb",
      "provenance": [],
      "authorship_tag": "ABX9TyMTfmq3IrKtwEPAqux+8+rS",
      "include_colab_link": true
    },
    "kernelspec": {
      "name": "python3",
      "display_name": "Python 3"
    },
    "accelerator": "TPU",
    "widgets": {
      "application/vnd.jupyter.widget-state+json": {
        "33f91eaa0bd5473aacb4cea623043094": {
          "model_module": "@jupyter-widgets/controls",
          "model_name": "HBoxModel",
          "state": {
            "_view_name": "HBoxView",
            "_dom_classes": [],
            "_model_name": "HBoxModel",
            "_view_module": "@jupyter-widgets/controls",
            "_model_module_version": "1.5.0",
            "_view_count": null,
            "_view_module_version": "1.5.0",
            "box_style": "",
            "layout": "IPY_MODEL_f11dc1303da743008d9f67883df7fa11",
            "_model_module": "@jupyter-widgets/controls",
            "children": [
              "IPY_MODEL_9a462e1be9d74476bc9dec5acecd7642",
              "IPY_MODEL_5df8cb6d24be44908408f249c45f2198"
            ]
          }
        },
        "f11dc1303da743008d9f67883df7fa11": {
          "model_module": "@jupyter-widgets/base",
          "model_name": "LayoutModel",
          "state": {
            "_view_name": "LayoutView",
            "grid_template_rows": null,
            "right": null,
            "justify_content": null,
            "_view_module": "@jupyter-widgets/base",
            "overflow": null,
            "_model_module_version": "1.2.0",
            "_view_count": null,
            "flex_flow": null,
            "width": null,
            "min_width": null,
            "border": null,
            "align_items": null,
            "bottom": null,
            "_model_module": "@jupyter-widgets/base",
            "top": null,
            "grid_column": null,
            "overflow_y": null,
            "overflow_x": null,
            "grid_auto_flow": null,
            "grid_area": null,
            "grid_template_columns": null,
            "flex": null,
            "_model_name": "LayoutModel",
            "justify_items": null,
            "grid_row": null,
            "max_height": null,
            "align_content": null,
            "visibility": null,
            "align_self": null,
            "height": null,
            "min_height": null,
            "padding": null,
            "grid_auto_rows": null,
            "grid_gap": null,
            "max_width": null,
            "order": null,
            "_view_module_version": "1.2.0",
            "grid_template_areas": null,
            "object_position": null,
            "object_fit": null,
            "grid_auto_columns": null,
            "margin": null,
            "display": null,
            "left": null
          }
        },
        "9a462e1be9d74476bc9dec5acecd7642": {
          "model_module": "@jupyter-widgets/controls",
          "model_name": "FloatProgressModel",
          "state": {
            "_view_name": "ProgressView",
            "style": "IPY_MODEL_906a47b2879a482ea8a4cac062fd2d6e",
            "_dom_classes": [],
            "description": "100%",
            "_model_name": "FloatProgressModel",
            "bar_style": "success",
            "max": 87306240,
            "_view_module": "@jupyter-widgets/controls",
            "_model_module_version": "1.5.0",
            "value": 87306240,
            "_view_count": null,
            "_view_module_version": "1.5.0",
            "orientation": "horizontal",
            "min": 0,
            "description_tooltip": null,
            "_model_module": "@jupyter-widgets/controls",
            "layout": "IPY_MODEL_08fc4802d2124c59931863ed9853c849"
          }
        },
        "5df8cb6d24be44908408f249c45f2198": {
          "model_module": "@jupyter-widgets/controls",
          "model_name": "HTMLModel",
          "state": {
            "_view_name": "HTMLView",
            "style": "IPY_MODEL_1305baa17ccc4fceba4c80dc630dd734",
            "_dom_classes": [],
            "description": "",
            "_model_name": "HTMLModel",
            "placeholder": "​",
            "_view_module": "@jupyter-widgets/controls",
            "_model_module_version": "1.5.0",
            "value": " 83.3M/83.3M [00:11&lt;00:00, 7.55MB/s]",
            "_view_count": null,
            "_view_module_version": "1.5.0",
            "description_tooltip": null,
            "_model_module": "@jupyter-widgets/controls",
            "layout": "IPY_MODEL_dabeffd38cd54ca583e8696e80b49165"
          }
        },
        "906a47b2879a482ea8a4cac062fd2d6e": {
          "model_module": "@jupyter-widgets/controls",
          "model_name": "ProgressStyleModel",
          "state": {
            "_view_name": "StyleView",
            "_model_name": "ProgressStyleModel",
            "description_width": "initial",
            "_view_module": "@jupyter-widgets/base",
            "_model_module_version": "1.5.0",
            "_view_count": null,
            "_view_module_version": "1.2.0",
            "bar_color": null,
            "_model_module": "@jupyter-widgets/controls"
          }
        },
        "08fc4802d2124c59931863ed9853c849": {
          "model_module": "@jupyter-widgets/base",
          "model_name": "LayoutModel",
          "state": {
            "_view_name": "LayoutView",
            "grid_template_rows": null,
            "right": null,
            "justify_content": null,
            "_view_module": "@jupyter-widgets/base",
            "overflow": null,
            "_model_module_version": "1.2.0",
            "_view_count": null,
            "flex_flow": null,
            "width": null,
            "min_width": null,
            "border": null,
            "align_items": null,
            "bottom": null,
            "_model_module": "@jupyter-widgets/base",
            "top": null,
            "grid_column": null,
            "overflow_y": null,
            "overflow_x": null,
            "grid_auto_flow": null,
            "grid_area": null,
            "grid_template_columns": null,
            "flex": null,
            "_model_name": "LayoutModel",
            "justify_items": null,
            "grid_row": null,
            "max_height": null,
            "align_content": null,
            "visibility": null,
            "align_self": null,
            "height": null,
            "min_height": null,
            "padding": null,
            "grid_auto_rows": null,
            "grid_gap": null,
            "max_width": null,
            "order": null,
            "_view_module_version": "1.2.0",
            "grid_template_areas": null,
            "object_position": null,
            "object_fit": null,
            "grid_auto_columns": null,
            "margin": null,
            "display": null,
            "left": null
          }
        },
        "1305baa17ccc4fceba4c80dc630dd734": {
          "model_module": "@jupyter-widgets/controls",
          "model_name": "DescriptionStyleModel",
          "state": {
            "_view_name": "StyleView",
            "_model_name": "DescriptionStyleModel",
            "description_width": "",
            "_view_module": "@jupyter-widgets/base",
            "_model_module_version": "1.5.0",
            "_view_count": null,
            "_view_module_version": "1.2.0",
            "_model_module": "@jupyter-widgets/controls"
          }
        },
        "dabeffd38cd54ca583e8696e80b49165": {
          "model_module": "@jupyter-widgets/base",
          "model_name": "LayoutModel",
          "state": {
            "_view_name": "LayoutView",
            "grid_template_rows": null,
            "right": null,
            "justify_content": null,
            "_view_module": "@jupyter-widgets/base",
            "overflow": null,
            "_model_module_version": "1.2.0",
            "_view_count": null,
            "flex_flow": null,
            "width": null,
            "min_width": null,
            "border": null,
            "align_items": null,
            "bottom": null,
            "_model_module": "@jupyter-widgets/base",
            "top": null,
            "grid_column": null,
            "overflow_y": null,
            "overflow_x": null,
            "grid_auto_flow": null,
            "grid_area": null,
            "grid_template_columns": null,
            "flex": null,
            "_model_name": "LayoutModel",
            "justify_items": null,
            "grid_row": null,
            "max_height": null,
            "align_content": null,
            "visibility": null,
            "align_self": null,
            "height": null,
            "min_height": null,
            "padding": null,
            "grid_auto_rows": null,
            "grid_gap": null,
            "max_width": null,
            "order": null,
            "_view_module_version": "1.2.0",
            "grid_template_areas": null,
            "object_position": null,
            "object_fit": null,
            "grid_auto_columns": null,
            "margin": null,
            "display": null,
            "left": null
          }
        }
      }
    }
  },
  "cells": [
    {
      "cell_type": "markdown",
      "metadata": {
        "id": "view-in-github",
        "colab_type": "text"
      },
      "source": [
        "<a href=\"https://colab.research.google.com/github/butchland/fastai_xla_extensions/blob/master/explore_nbs/test_tpu_pets_slow.ipynb\" target=\"_parent\"><img src=\"https://colab.research.google.com/assets/colab-badge.svg\" alt=\"Open In Colab\"/></a>"
      ]
    },
    {
      "cell_type": "markdown",
      "metadata": {
        "id": "p3hHrGAIqFPF"
      },
      "source": [
        ""
      ]
    },
    {
      "cell_type": "code",
      "metadata": {
        "id": "O53lrJMDn9Rd",
        "colab": {
          "base_uri": "https://localhost:8080/"
        },
        "outputId": "5e73930d-82cf-41ef-9fc8-e6f40ca5e66a"
      },
      "source": [
        "!pip install -Uqq cloud-tpu-client==0.10 https://storage.googleapis.com/tpu-pytorch/wheels/torch_xla-1.7-cp36-cp36m-linux_x86_64.whl"
      ],
      "execution_count": 1,
      "outputs": [
        {
          "output_type": "stream",
          "text": [
            "\u001b[K     |████████████████████████████████| 133.6MB 75kB/s \n",
            "\u001b[K     |████████████████████████████████| 61kB 3.3MB/s \n",
            "\u001b[?25h"
          ],
          "name": "stdout"
        }
      ]
    },
    {
      "cell_type": "code",
      "metadata": {
        "id": "n5brhMy3uzfS",
        "colab": {
          "base_uri": "https://localhost:8080/"
        },
        "outputId": "3bd08b59-774f-4c42-cb87-b2c3f9289e8e"
      },
      "source": [
        "# !pip install -Uqq git+https://github.com/fastai/fastai.git \n",
        "!pip install -Uqq fastai --upgrade"
      ],
      "execution_count": 2,
      "outputs": [
        {
          "output_type": "stream",
          "text": [
            "\u001b[K     |████████████████████████████████| 194kB 5.3MB/s \n",
            "\u001b[K     |████████████████████████████████| 61kB 7.2MB/s \n",
            "\u001b[?25h"
          ],
          "name": "stdout"
        }
      ]
    },
    {
      "cell_type": "code",
      "metadata": {
        "id": "hrVR2QGNFj9-",
        "colab": {
          "base_uri": "https://localhost:8080/"
        },
        "outputId": "60d0b30e-8624-46b5-89d0-dbb966d27374"
      },
      "source": [
        "!pip install -Uqq git+https://github.com/butchland/fastai_xla_extensions.git"
      ],
      "execution_count": 3,
      "outputs": [
        {
          "output_type": "stream",
          "text": [
            "  Building wheel for fastai-xla-extensions (setup.py) ... \u001b[?25l\u001b[?25hdone\n"
          ],
          "name": "stdout"
        }
      ]
    },
    {
      "cell_type": "code",
      "metadata": {
        "id": "8HYizmSonC3r",
        "colab": {
          "base_uri": "https://localhost:8080/"
        },
        "outputId": "ba642540-dcb8-4ee8-c966-196533f575b8"
      },
      "source": [
        "!pip install -Uqq git+https://github.com/butchland/my_timesaver_utils.git"
      ],
      "execution_count": 4,
      "outputs": [
        {
          "output_type": "stream",
          "text": [
            "  Building wheel for my-timesaver-utils (setup.py) ... \u001b[?25l\u001b[?25hdone\n"
          ],
          "name": "stdout"
        }
      ]
    },
    {
      "cell_type": "code",
      "metadata": {
        "id": "-maBHnlmDPVw",
        "colab": {
          "base_uri": "https://localhost:8080/"
        },
        "outputId": "2a7997de-9ac0-4716-9551-ace532488893"
      },
      "source": [
        "!curl -s https://course19.fast.ai/setup/colab | bash"
      ],
      "execution_count": 5,
      "outputs": [
        {
          "output_type": "stream",
          "text": [
            "Updating fastai...\n",
            "Done.\n"
          ],
          "name": "stdout"
        }
      ]
    },
    {
      "cell_type": "code",
      "metadata": {
        "id": "cfLJEMVZFS2d",
        "colab": {
          "base_uri": "https://localhost:8080/"
        },
        "outputId": "505837ae-e4fe-4b73-80c2-ca7cf27d8e7b"
      },
      "source": [
        "!pip freeze | grep torch\n",
        "!pip freeze | grep fast"
      ],
      "execution_count": 6,
      "outputs": [
        {
          "output_type": "stream",
          "text": [
            "torch==1.7.0+cu101\n",
            "torch-xla==1.7\n",
            "torchsummary==1.5.1\n",
            "torchtext==0.3.1\n",
            "torchvision==0.8.1+cu101\n",
            "fastai==2.2.5\n",
            "fastai-xla-extensions==0.0.7\n",
            "fastcore==1.3.19\n",
            "fastdtw==0.3.4\n",
            "fastprogress==1.0.0\n",
            "fastrlock==0.5\n"
          ],
          "name": "stdout"
        }
      ]
    },
    {
      "cell_type": "markdown",
      "metadata": {
        "id": "0uss85pmquco"
      },
      "source": [
        "Start of kernel"
      ]
    },
    {
      "cell_type": "code",
      "metadata": {
        "colab": {
          "base_uri": "https://localhost:8080/"
        },
        "id": "mthnTtwhFsSw",
        "outputId": "8a44a3cb-9ff5-4318-8349-c7428309ff66"
      },
      "source": [
        "from fastai.vision.all import *\n",
        "from fastai_xla_extensions.multi_core import *\n",
        "import torch_xla.core.xla_model as xm\n",
        "import torch_xla.distributed.xla_multiprocessing as xmp"
      ],
      "execution_count": 7,
      "outputs": [
        {
          "output_type": "stream",
          "text": [
            "WARNING:root:Waiting for TPU to be start up with version pytorch-1.7...\n",
            "WARNING:root:Waiting for TPU to be start up with version pytorch-1.7...\n",
            "WARNING:root:TPU has started up successfully with version pytorch-1.7\n"
          ],
          "name": "stderr"
        }
      ]
    },
    {
      "cell_type": "code",
      "metadata": {
        "id": "glVlA5AVff2i"
      },
      "source": [
        "import os\n",
        "FLAGS = {}\n",
        "FLAGS['image_size'] = 224\n",
        "FLAGS['batch_size'] = 64\n",
        "FLAGS['num_workers'] = 4\n",
        "FLAGS['num_epochs'] = 5\n",
        "FLAGS['num_procs'] =  8 if os.environ.get('TPU_NAME',False) else 1\n",
        "FLAGS['learning_rate'] = 5e-3 * 8\n",
        "FLAGS['weight_decay'] = 5e-4\n",
        "FLAGS['momentum'] = (0.9, 0.85, 0.9)\n",
        "FLAGS['sync_valid'] = True\n"
      ],
      "execution_count": 8,
      "outputs": []
    },
    {
      "cell_type": "code",
      "metadata": {
        "id": "9ROElP9hhVnj"
      },
      "source": [
        "ARCH = resnet34\n",
        "LOSS_FUNC = nn.CrossEntropyLoss()\n",
        "OPT_FUNC = Adam"
      ],
      "execution_count": 9,
      "outputs": []
    },
    {
      "cell_type": "code",
      "metadata": {
        "id": "gcii1vtKGAyt",
        "colab": {
          "base_uri": "https://localhost:8080/",
          "height": 17
        },
        "outputId": "eab5181c-b4db-44f7-f208-480bf111f1ff"
      },
      "source": [
        "PATH = untar_data(URLs.PETS)/'images'\n",
        "pat = r'(.+)_\\d+.jpg$'\n",
        "fname_labeller = FileNamePatternLabeller(pat)\n",
        "image_size = FLAGS['image_size']\n",
        "DATA = DataBlock(\n",
        "    blocks=(ImageBlock, CategoryBlock),\n",
        "    get_items=get_image_files,\n",
        "    get_y=fname_labeller,\n",
        "    splitter=RandomSplitter(seed=42),\n",
        "    item_tfms=[Resize(image_size),],\n",
        "    batch_tfms=[]\n",
        ")\n"
      ],
      "execution_count": 10,
      "outputs": [
        {
          "output_type": "display_data",
          "data": {
            "text/html": [
              ""
            ],
            "text/plain": [
              "<IPython.core.display.HTML object>"
            ]
          },
          "metadata": {
            "tags": []
          }
        }
      ]
    },
    {
      "cell_type": "code",
      "metadata": {
        "id": "aEg7FA-cg2FE"
      },
      "source": [
        "vocab = CategoryMap(get_image_files(PATH).map(fname_labeller))\n",
        "N_OUT = len(vocab)"
      ],
      "execution_count": 11,
      "outputs": []
    },
    {
      "cell_type": "code",
      "metadata": {
        "id": "f2qfEq_ahRUp",
        "colab": {
          "base_uri": "https://localhost:8080/",
          "height": 104,
          "referenced_widgets": [
            "33f91eaa0bd5473aacb4cea623043094",
            "f11dc1303da743008d9f67883df7fa11",
            "9a462e1be9d74476bc9dec5acecd7642",
            "5df8cb6d24be44908408f249c45f2198",
            "906a47b2879a482ea8a4cac062fd2d6e",
            "08fc4802d2124c59931863ed9853c849",
            "1305baa17ccc4fceba4c80dc630dd734",
            "dabeffd38cd54ca583e8696e80b49165"
          ]
        },
        "outputId": "7d881678-46f0-43dd-e04a-ef20fd00f78e"
      },
      "source": [
        "custom_model = create_cnn_model(ARCH, N_OUT, pretrained=True, concat_pool=False)"
      ],
      "execution_count": 12,
      "outputs": [
        {
          "output_type": "stream",
          "text": [
            "Downloading: \"https://download.pytorch.org/models/resnet34-333f7ec4.pth\" to /root/.cache/torch/hub/checkpoints/resnet34-333f7ec4.pth\n"
          ],
          "name": "stderr"
        },
        {
          "output_type": "display_data",
          "data": {
            "application/vnd.jupyter.widget-view+json": {
              "model_id": "33f91eaa0bd5473aacb4cea623043094",
              "version_minor": 0,
              "version_major": 2
            },
            "text/plain": [
              "HBox(children=(FloatProgress(value=0.0, max=87306240.0), HTML(value='')))"
            ]
          },
          "metadata": {
            "tags": []
          }
        },
        {
          "output_type": "stream",
          "text": [
            "\n"
          ],
          "name": "stdout"
        }
      ]
    },
    {
      "cell_type": "code",
      "metadata": {
        "id": "RIONM_avhoRc"
      },
      "source": [
        "WRAPPED_MODEL = xmp.MpModelWrapper(custom_model)"
      ],
      "execution_count": 13,
      "outputs": []
    },
    {
      "cell_type": "code",
      "metadata": {
        "id": "QdM8UwOnhvKe"
      },
      "source": [
        "def train_model(rank, flags):\n",
        "    xm.master_print('start train_model')\n",
        "    world_size = xm.xrt_world_size()\n",
        "    device = xm.xla_device()\n",
        "    bs = flags['batch_size']\n",
        "    sync_valid = flags['sync_valid']\n",
        "    dls = make_fastai_dataloaders(\n",
        "                DATA,\n",
        "                PATH, \n",
        "                rank=rank, \n",
        "                world_size=world_size,\n",
        "                sync_valid=sync_valid,\n",
        "                bs=bs)\n",
        "    model = WRAPPED_MODEL.to(device)\n",
        "    loss_func = LOSS_FUNC\n",
        "    opt_func = OPT_FUNC\n",
        "    wd = flags['weight_decay']\n",
        "    moms = flags['momentum']\n",
        "    learner = Learner(dls, \n",
        "                      model,\n",
        "                      loss_func=loss_func, \n",
        "                      opt_func=opt_func,\n",
        "                      splitter=default_split,\n",
        "                      wd=wd,\n",
        "                      moms=moms,\n",
        "                      metrics=accuracy\n",
        "                    )\n",
        "    learner.to_xla(device,rank=rank,sync_valid=sync_valid)\n",
        "    learner.freeze()\n",
        "    lr = flags['learning_rate']\n",
        "    epochs = flags['num_epochs']\n",
        "    learner.fit_one_cycle(epochs, lr_max=slice(lr))\n",
        "    learner.save('stage-1')"
      ],
      "execution_count": 14,
      "outputs": []
    },
    {
      "cell_type": "code",
      "metadata": {
        "colab": {
          "base_uri": "https://localhost:8080/",
          "height": 241
        },
        "id": "EH7uiS8UqHza",
        "outputId": "4b5082c4-0a2d-47f8-a4c2-06f05c9861a9"
      },
      "source": [
        "# %%time\n",
        "xmp.spawn(train_model, args=(FLAGS,), nprocs=FLAGS['num_procs'], start_method='fork')"
      ],
      "execution_count": 15,
      "outputs": [
        {
          "output_type": "stream",
          "text": [
            "start train_model\n",
            "start fit\n"
          ],
          "name": "stdout"
        },
        {
          "output_type": "display_data",
          "data": {
            "text/html": [
              "<table border=\"1\" class=\"dataframe\">\n",
              "  <thead>\n",
              "    <tr style=\"text-align: left;\">\n",
              "      <th>epoch</th>\n",
              "      <th>train_loss</th>\n",
              "      <th>valid_loss</th>\n",
              "      <th>accuracy</th>\n",
              "      <th>time</th>\n",
              "    </tr>\n",
              "  </thead>\n",
              "  <tbody>\n",
              "    <tr>\n",
              "      <td>0</td>\n",
              "      <td>1.870138</td>\n",
              "      <td>0.831724</td>\n",
              "      <td>0.815541</td>\n",
              "      <td>01:37</td>\n",
              "    </tr>\n",
              "    <tr>\n",
              "      <td>1</td>\n",
              "      <td>1.202719</td>\n",
              "      <td>0.828390</td>\n",
              "      <td>0.827703</td>\n",
              "      <td>01:19</td>\n",
              "    </tr>\n",
              "    <tr>\n",
              "      <td>2</td>\n",
              "      <td>0.937062</td>\n",
              "      <td>0.421658</td>\n",
              "      <td>0.898649</td>\n",
              "      <td>01:19</td>\n",
              "    </tr>\n",
              "    <tr>\n",
              "      <td>3</td>\n",
              "      <td>0.706549</td>\n",
              "      <td>0.285118</td>\n",
              "      <td>0.929730</td>\n",
              "      <td>01:18</td>\n",
              "    </tr>\n",
              "    <tr>\n",
              "      <td>4</td>\n",
              "      <td>0.574680</td>\n",
              "      <td>0.261792</td>\n",
              "      <td>0.933784</td>\n",
              "      <td>01:19</td>\n",
              "    </tr>\n",
              "  </tbody>\n",
              "</table>"
            ],
            "text/plain": [
              "<IPython.core.display.HTML object>"
            ]
          },
          "metadata": {
            "tags": []
          }
        }
      ]
    },
    {
      "cell_type": "code",
      "metadata": {
        "id": "WYL1oFyQp--n"
      },
      "source": [
        ""
      ],
      "execution_count": 15,
      "outputs": []
    }
  ]
}