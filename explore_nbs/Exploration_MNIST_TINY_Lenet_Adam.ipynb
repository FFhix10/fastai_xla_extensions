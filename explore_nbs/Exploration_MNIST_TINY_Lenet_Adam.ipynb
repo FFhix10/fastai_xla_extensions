{
 "cells": [
  {
   "cell_type": "markdown",
   "metadata": {},
   "source": [
    "# Install fastai2 if needed"
   ]
  },
  {
   "cell_type": "code",
   "execution_count": null,
   "metadata": {},
   "outputs": [],
   "source": [
    "#!pip uninstall fastai\n",
    "#!pip install torchvision\n",
    "!pip install git+https://github.com/fastai/fastcore\n",
    "!pip install git+https://github.com/fastai/fastai2"
   ]
  },
  {
   "cell_type": "code",
   "execution_count": 1,
   "metadata": {},
   "outputs": [],
   "source": [
    "from fastai2.vision.all import *"
   ]
  },
  {
   "cell_type": "code",
   "execution_count": 3,
   "metadata": {},
   "outputs": [
    {
     "name": "stdout",
     "output_type": "stream",
     "text": [
      "Setting-up type transforms pipelines\n",
      "Collecting items from /home/tyoc213/.fastai/data/mnist_tiny\n",
      "Found 1428 items\n",
      "2 datasets of sizes 709,699\n",
      "Setting up Pipeline: PILBase.create\n",
      "Setting up Pipeline: parent_label -> Categorize\n",
      "\n",
      "Building one sample\n",
      "  Pipeline: PILBase.create\n",
      "    starting from\n",
      "      /home/tyoc213/.fastai/data/mnist_tiny/train/7/9274.png\n",
      "    applying PILBase.create gives\n",
      "      PILImageBW mode=L size=28x28\n",
      "  Pipeline: parent_label -> Categorize\n",
      "    starting from\n",
      "      /home/tyoc213/.fastai/data/mnist_tiny/train/7/9274.png\n",
      "    applying parent_label gives\n",
      "      7\n",
      "    applying Categorize gives\n",
      "      TensorCategory(1)\n",
      "\n",
      "Final sample: (PILImageBW mode=L size=28x28, TensorCategory(1))\n",
      "\n",
      "\n",
      "Setting up after_item: Pipeline: Resize -> ToTensor\n",
      "Setting up before_batch: Pipeline: \n",
      "Setting up after_batch: Pipeline: IntToFloatTensor\n",
      "\n",
      "Building one batch\n",
      "Applying item_tfms to the first sample:\n",
      "  Pipeline: Resize -> ToTensor\n",
      "    starting from\n",
      "      (PILImageBW mode=L size=28x28, TensorCategory(1))\n",
      "    applying Resize gives\n",
      "      (PILImageBW mode=L size=28x28, TensorCategory(1))\n",
      "    applying ToTensor gives\n",
      "      (TensorImageBW of size 1x28x28, TensorCategory(1))\n",
      "\n",
      "Adding the next 3 samples\n",
      "\n",
      "No before_batch transform to apply\n",
      "\n",
      "Collating items in a batch\n",
      "\n",
      "Applying batch_tfms to the batch built\n",
      "  Pipeline: IntToFloatTensor\n",
      "    starting from\n",
      "      (TensorImageBW of size 4x1x28x28, TensorCategory([1, 1, 1, 1], device='cuda:0'))\n",
      "    applying IntToFloatTensor gives\n",
      "      (TensorImageBW of size 4x1x28x28, TensorCategory([1, 1, 1, 1], device='cuda:0'))\n"
     ]
    }
   ],
   "source": [
    "path = untar_data(URLs.MNIST_TINY)\n",
    "datablock = DataBlock(\n",
    "    blocks=(ImageBlock(cls=PILImageBW),CategoryBlock),\n",
    "    get_items=get_image_files,\n",
    "    get_y=parent_label,\n",
    "    splitter=GrandparentSplitter(),\n",
    "    item_tfms=Resize(28),\n",
    "    batch_tfms=[]\n",
    ")\n",
    "datablock.summary(path)"
   ]
  },
  {
   "cell_type": "code",
   "execution_count": 6,
   "metadata": {},
   "outputs": [
    {
     "data": {
      "text/plain": [
       "(device(type='cuda', index=0), (#2) ['3','7'], None)"
      ]
     },
     "execution_count": 6,
     "metadata": {},
     "output_type": "execute_result"
    },
    {
     "data": {
      "image/png": "[encoded data removed]",
      "text/plain": [
       "<Figure size 648x648 with 9 Axes>"
      ]
     },
     "metadata": {
      "needs_background": "light"
     },
     "output_type": "display_data"
    }
   ],
   "source": [
    "dls = datablock.dataloaders(path)\n",
    "dls.device, dls.vocab, dls.show_batch()"
   ]
  },
  {
   "cell_type": "markdown",
   "metadata": {},
   "source": [
    "## Lenet implementations"
   ]
  },
  {
   "cell_type": "code",
   "execution_count": 15,
   "metadata": {},
   "outputs": [],
   "source": [
    "class MyLenet(nn.Module):\n",
    "    \"\"\"Lenet with convs and F.max_pool2d\"\"\"\n",
    "    def __init__(self):\n",
    "        super(MyLenet, self).__init__()\n",
    "        self.conv1 = nn.Conv2d(1, 6, 3) # set 3 for first item if RGB\n",
    "        self.conv2 = nn.Conv2d(6,16,3)\n",
    "        self.hiden4 = nn.Linear(400, 2) # 2 outputs (3 and 7) instead of 10\n",
    "    def forward(self, x):\n",
    "        x = F.max_pool2d(F.relu(self.conv1(x)), (2, 2))\n",
    "        x = F.max_pool2d(F.relu(self.conv2(x)), 2)\n",
    "        x = x.view(-1, self.num_flat_features(x))\n",
    "        x = self.hiden4(x)\n",
    "        return x\n",
    "    \n",
    "    def num_flat_features(self, x):\n",
    "        size = x.size()[1:]  # all dimensions except the batch dimension\n",
    "        num_features = 1\n",
    "        for s in size:\n",
    "            num_features *= s\n",
    "        return num_features\n",
    "\n",
    "class Lenet2(nn.Module):\n",
    "    \"\"\"Lenet with layers\"\"\"\n",
    "    def __init__(self):\n",
    "        super(Lenet2, self).__init__()\n",
    "        self.conv1 = nn.Conv2d(1, 6, 3) # set 3 for first item if RGB\n",
    "        self.conv2 = nn.Conv2d(6, 16, 3)\n",
    "        self.fc1 = nn.Linear(400, 120)\n",
    "        self.fc2 = nn.Linear(120, 84)\n",
    "        self.fc3 = nn.Linear(84, 2) # Only 2 outputs (3 and 7) instead of 10\n",
    "    def forward(self, x):\n",
    "        # Max pooling over a (2, 2) window\n",
    "        x = F.max_pool2d(F.relu(self.conv1(x)), (2, 2))\n",
    "        # If the size is a square you can only specify a single number\n",
    "        x = F.max_pool2d(F.relu(self.conv2(x)), 2)\n",
    "        x = x.view(-1, self.num_flat_features(x))\n",
    "        x = F.relu(self.fc1(x))\n",
    "        x = F.relu(self.fc2(x))\n",
    "        x = self.fc3(x)\n",
    "        return x\n",
    "\n",
    "    def num_flat_features(self, x):\n",
    "        size = x.size()[1:]  # all dimensions except the batch dimension\n",
    "        num_features = 1\n",
    "        for s in size:\n",
    "            num_features *= s\n",
    "        return num_features"
   ]
  },
  {
   "cell_type": "markdown",
   "metadata": {},
   "source": [
    "## Lenet2 training"
   ]
  },
  {
   "cell_type": "code",
   "execution_count": 38,
   "metadata": {},
   "outputs": [
    {
     "data": {
      "text/plain": [
       "Lenet2 (Input shape: ['64 x 1 x 28 x 28'])\n",
       "================================================================\n",
       "Layer (type)         Output Shape         Param #    Trainable \n",
       "================================================================\n",
       "Conv2d               64 x 6 x 26 x 26     60         True      \n",
       "________________________________________________________________\n",
       "Conv2d               64 x 16 x 11 x 11    880        True      \n",
       "________________________________________________________________\n",
       "Linear               64 x 120             48,120     True      \n",
       "________________________________________________________________\n",
       "Linear               64 x 84              10,164     True      \n",
       "________________________________________________________________\n",
       "Linear               64 x 2               170        True      \n",
       "________________________________________________________________\n",
       "\n",
       "Total params: 59,394\n",
       "Total trainable params: 59,394\n",
       "Total non-trainable params: 0\n",
       "\n",
       "Optimizer used: <function Adam at 0x7fe698f02dd0>\n",
       "Loss function: FlattenedLoss of CrossEntropyLoss()\n",
       "\n",
       "Callbacks:\n",
       "  - TrainEvalCallback\n",
       "  - Recorder\n",
       "  - ProgressCallback"
      ]
     },
     "execution_count": 38,
     "metadata": {},
     "output_type": "execute_result"
    }
   ],
   "source": [
    "learner = Learner(dls, Lenet2(), metrics=accuracy, opt_func=Adam)\n",
    "learner.summary()"
   ]
  },
  {
   "cell_type": "code",
   "execution_count": 39,
   "metadata": {},
   "outputs": [
    {
     "name": "stdout",
     "output_type": "stream",
     "text": [
      "CPU times: user 5 µs, sys: 4 µs, total: 9 µs\n",
      "Wall time: 25 µs\n"
     ]
    },
    {
     "data": {
      "text/html": [],
      "text/plain": [
       "<IPython.core.display.HTML object>"
      ]
     },
     "metadata": {},
     "output_type": "display_data"
    },
    {
     "data": {
      "text/plain": [
       "SuggestedLRs(lr_min=0.010000000149011612, lr_steep=0.0063095735386013985)"
      ]
     },
     "execution_count": 39,
     "metadata": {},
     "output_type": "execute_result"
    },
    {
     "data": {
      "image/png": "[encoded data removed]",
      "text/plain": [
       "<Figure size 432x288 with 1 Axes>"
      ]
     },
     "metadata": {
      "needs_background": "light"
     },
     "output_type": "display_data"
    }
   ],
   "source": [
    "%time\n",
    "learner.lr_find()"
   ]
  },
  {
   "cell_type": "code",
   "execution_count": 40,
   "metadata": {},
   "outputs": [
    {
     "data": {
      "text/html": [
       "<table border=\"1\" class=\"dataframe\">\n",
       "  <thead>\n",
       "    <tr style=\"text-align: left;\">\n",
       "      <th>epoch</th>\n",
       "      <th>train_loss</th>\n",
       "      <th>valid_loss</th>\n",
       "      <th>accuracy</th>\n",
       "      <th>time</th>\n",
       "    </tr>\n",
       "  </thead>\n",
       "  <tbody>\n",
       "    <tr>\n",
       "      <td>0</td>\n",
       "      <td>0.800355</td>\n",
       "      <td>0.327434</td>\n",
       "      <td>0.959943</td>\n",
       "      <td>00:00</td>\n",
       "    </tr>\n",
       "    <tr>\n",
       "      <td>1</td>\n",
       "      <td>0.472445</td>\n",
       "      <td>0.052613</td>\n",
       "      <td>0.984263</td>\n",
       "      <td>00:00</td>\n",
       "    </tr>\n",
       "    <tr>\n",
       "      <td>2</td>\n",
       "      <td>0.319850</td>\n",
       "      <td>0.086929</td>\n",
       "      <td>0.977110</td>\n",
       "      <td>00:00</td>\n",
       "    </tr>\n",
       "    <tr>\n",
       "      <td>3</td>\n",
       "      <td>0.240990</td>\n",
       "      <td>0.059701</td>\n",
       "      <td>0.979971</td>\n",
       "      <td>00:00</td>\n",
       "    </tr>\n",
       "    <tr>\n",
       "      <td>4</td>\n",
       "      <td>0.190471</td>\n",
       "      <td>0.042913</td>\n",
       "      <td>0.987124</td>\n",
       "      <td>00:00</td>\n",
       "    </tr>\n",
       "    <tr>\n",
       "      <td>5</td>\n",
       "      <td>0.156513</td>\n",
       "      <td>0.051378</td>\n",
       "      <td>0.982833</td>\n",
       "      <td>00:00</td>\n",
       "    </tr>\n",
       "    <tr>\n",
       "      <td>6</td>\n",
       "      <td>0.133904</td>\n",
       "      <td>0.088141</td>\n",
       "      <td>0.977110</td>\n",
       "      <td>00:00</td>\n",
       "    </tr>\n",
       "    <tr>\n",
       "      <td>7</td>\n",
       "      <td>0.114094</td>\n",
       "      <td>0.104081</td>\n",
       "      <td>0.984263</td>\n",
       "      <td>00:00</td>\n",
       "    </tr>\n",
       "    <tr>\n",
       "      <td>8</td>\n",
       "      <td>0.102420</td>\n",
       "      <td>0.046226</td>\n",
       "      <td>0.987124</td>\n",
       "      <td>00:00</td>\n",
       "    </tr>\n",
       "    <tr>\n",
       "      <td>9</td>\n",
       "      <td>0.090814</td>\n",
       "      <td>0.088048</td>\n",
       "      <td>0.979971</td>\n",
       "      <td>00:00</td>\n",
       "    </tr>\n",
       "  </tbody>\n",
       "</table>"
      ],
      "text/plain": [
       "<IPython.core.display.HTML object>"
      ]
     },
     "metadata": {},
     "output_type": "display_data"
    }
   ],
   "source": [
    "learner.fit(10, lr=0.05)"
   ]
  },
  {
   "cell_type": "markdown",
   "metadata": {},
   "source": [
    "# Setup all for TPU"
   ]
  },
  {
   "cell_type": "code",
   "execution_count": null,
   "metadata": {},
   "outputs": [],
   "source": [
    "VERSION = \"20200325\"  #\"20200515\" @param [\"1.5\" , \"20200325\", \"nightly\"]\n",
    "!curl https://raw.githubusercontent.com/pytorch/xla/master/contrib/scripts/env-setup.py -o pytorch-xla-env-setup.py"
   ]
  },
  {
   "cell_type": "code",
   "execution_count": null,
   "metadata": {},
   "outputs": [],
   "source": [
    "#!TORCH_SHOW_CPP_STACKTRACES=1 python pytorch-xla-env-setup.py --apt-packages libomp5 libopenblas-dev\n",
    "!python pytorch-xla-env-setup.py"
   ]
  },
  {
   "cell_type": "code",
   "execution_count": 41,
   "metadata": {},
   "outputs": [
    {
     "name": "stdout",
     "output_type": "stream",
     "text": [
      "Collecting git+https://github.com/butchland/fastai_xla_extensions\n",
      "  Cloning https://github.com/butchland/fastai_xla_extensions to /tmp/pip-req-build-dxb4i3sb\n",
      "  Running command git clone -q https://github.com/butchland/fastai_xla_extensions /tmp/pip-req-build-dxb4i3sb\n",
      "Requirement already satisfied: fastai2 in /home/tyoc213/Documentos/github/fastai2 (from fastai-xla-extensions==0.0.1) (0.0.18)\n",
      "Requirement already satisfied: nbdev in /home/tyoc213/miniconda3/envs/fastai2/lib/python3.7/site-packages (from fastai-xla-extensions==0.0.1) (0.2.18)\n",
      "Requirement already satisfied: fastcore in /home/tyoc213/Documentos/github/fastcore (from fastai2->fastai-xla-extensions==0.0.1) (0.1.18)\n",
      "Requirement already satisfied: torch>=1.3.0 in /home/tyoc213/miniconda3/envs/fastai2/lib/python3.7/site-packages (from fastai2->fastai-xla-extensions==0.0.1) (1.5.0)\n",
      "Requirement already satisfied: torchvision>=0.5 in /home/tyoc213/miniconda3/envs/fastai2/lib/python3.7/site-packages (from fastai2->fastai-xla-extensions==0.0.1) (0.6.0a0+82fd1c8)\n",
      "Requirement already satisfied: matplotlib in /home/tyoc213/miniconda3/envs/fastai2/lib/python3.7/site-packages (from fastai2->fastai-xla-extensions==0.0.1) (3.2.2)\n",
      "Requirement already satisfied: pandas in /home/tyoc213/miniconda3/envs/fastai2/lib/python3.7/site-packages (from fastai2->fastai-xla-extensions==0.0.1) (0.25.3)\n",
      "Requirement already satisfied: requests in /home/tyoc213/miniconda3/envs/fastai2/lib/python3.7/site-packages (from fastai2->fastai-xla-extensions==0.0.1) (2.23.0)\n",
      "Requirement already satisfied: pyyaml in /home/tyoc213/miniconda3/envs/fastai2/lib/python3.7/site-packages (from fastai2->fastai-xla-extensions==0.0.1) (5.3.1)\n",
      "Requirement already satisfied: fastprogress>=0.1.22 in /home/tyoc213/miniconda3/envs/fastai2/lib/python3.7/site-packages (from fastai2->fastai-xla-extensions==0.0.1) (0.2.2)\n",
      "Requirement already satisfied: pillow in /home/tyoc213/miniconda3/envs/fastai2/lib/python3.7/site-packages (from fastai2->fastai-xla-extensions==0.0.1) (7.1.2)\n",
      "Requirement already satisfied: scikit-learn in /home/tyoc213/miniconda3/envs/fastai2/lib/python3.7/site-packages (from fastai2->fastai-xla-extensions==0.0.1) (0.22.1)\n",
      "Requirement already satisfied: scipy in /home/tyoc213/miniconda3/envs/fastai2/lib/python3.7/site-packages (from fastai2->fastai-xla-extensions==0.0.1) (1.4.1)\n",
      "Requirement already satisfied: spacy in /home/tyoc213/miniconda3/envs/fastai2/lib/python3.7/site-packages (from fastai2->fastai-xla-extensions==0.0.1) (2.1.8)\n",
      "Requirement already satisfied: packaging in /home/tyoc213/miniconda3/envs/fastai2/lib/python3.7/site-packages (from nbdev->fastai-xla-extensions==0.0.1) (20.4)\n",
      "Requirement already satisfied: fastscript in /home/tyoc213/miniconda3/envs/fastai2/lib/python3.7/site-packages (from nbdev->fastai-xla-extensions==0.0.1) (0.1.4)\n",
      "Requirement already satisfied: nbconvert>=5.6.1 in /home/tyoc213/miniconda3/envs/fastai2/lib/python3.7/site-packages (from nbdev->fastai-xla-extensions==0.0.1) (5.6.1)\n",
      "Requirement already satisfied: nbformat>=4.4.0 in /home/tyoc213/miniconda3/envs/fastai2/lib/python3.7/site-packages (from nbdev->fastai-xla-extensions==0.0.1) (5.0.6)\n",
      "Requirement already satisfied: numpy in /home/tyoc213/miniconda3/envs/fastai2/lib/python3.7/site-packages (from fastcore->fastai2->fastai-xla-extensions==0.0.1) (1.18.1)\n",
      "Requirement already satisfied: future in /home/tyoc213/miniconda3/envs/fastai2/lib/python3.7/site-packages (from torch>=1.3.0->fastai2->fastai-xla-extensions==0.0.1) (0.18.2)\n",
      "Requirement already satisfied: python-dateutil>=2.1 in /home/tyoc213/miniconda3/envs/fastai2/lib/python3.7/site-packages (from matplotlib->fastai2->fastai-xla-extensions==0.0.1) (2.8.1)\n",
      "Requirement already satisfied: cycler>=0.10 in /home/tyoc213/miniconda3/envs/fastai2/lib/python3.7/site-packages (from matplotlib->fastai2->fastai-xla-extensions==0.0.1) (0.10.0)\n",
      "Requirement already satisfied: kiwisolver>=1.0.1 in /home/tyoc213/miniconda3/envs/fastai2/lib/python3.7/site-packages (from matplotlib->fastai2->fastai-xla-extensions==0.0.1) (1.2.0)\n",
      "Requirement already satisfied: pyparsing!=2.0.4,!=2.1.2,!=2.1.6,>=2.0.1 in /home/tyoc213/miniconda3/envs/fastai2/lib/python3.7/site-packages (from matplotlib->fastai2->fastai-xla-extensions==0.0.1) (2.4.7)\n",
      "Requirement already satisfied: pytz>=2017.2 in /home/tyoc213/miniconda3/envs/fastai2/lib/python3.7/site-packages (from pandas->fastai2->fastai-xla-extensions==0.0.1) (2020.1)\n",
      "Requirement already satisfied: certifi>=2017.4.17 in /home/tyoc213/miniconda3/envs/fastai2/lib/python3.7/site-packages (from requests->fastai2->fastai-xla-extensions==0.0.1) (2020.4.5.2)\n",
      "Requirement already satisfied: idna<3,>=2.5 in /home/tyoc213/miniconda3/envs/fastai2/lib/python3.7/site-packages (from requests->fastai2->fastai-xla-extensions==0.0.1) (2.9)\n",
      "Requirement already satisfied: urllib3!=1.25.0,!=1.25.1,<1.26,>=1.21.1 in /home/tyoc213/miniconda3/envs/fastai2/lib/python3.7/site-packages (from requests->fastai2->fastai-xla-extensions==0.0.1) (1.25.9)\n",
      "Requirement already satisfied: chardet<4,>=3.0.2 in /home/tyoc213/miniconda3/envs/fastai2/lib/python3.7/site-packages (from requests->fastai2->fastai-xla-extensions==0.0.1) (3.0.4)\n",
      "Requirement already satisfied: joblib>=0.11 in /home/tyoc213/miniconda3/envs/fastai2/lib/python3.7/site-packages (from scikit-learn->fastai2->fastai-xla-extensions==0.0.1) (0.14.1)\n",
      "Requirement already satisfied: preshed<2.1.0,>=2.0.1 in /home/tyoc213/miniconda3/envs/fastai2/lib/python3.7/site-packages (from spacy->fastai2->fastai-xla-extensions==0.0.1) (2.0.1)\n",
      "Requirement already satisfied: srsly<1.1.0,>=0.0.6 in /home/tyoc213/miniconda3/envs/fastai2/lib/python3.7/site-packages (from spacy->fastai2->fastai-xla-extensions==0.0.1) (0.1.0)\n",
      "Requirement already satisfied: wasabi<1.1.0,>=0.2.0 in /home/tyoc213/miniconda3/envs/fastai2/lib/python3.7/site-packages (from spacy->fastai2->fastai-xla-extensions==0.0.1) (0.2.2)\n",
      "Requirement already satisfied: plac<1.0.0,>=0.9.6 in /home/tyoc213/miniconda3/envs/fastai2/lib/python3.7/site-packages (from spacy->fastai2->fastai-xla-extensions==0.0.1) (0.9.6)\n",
      "Requirement already satisfied: blis<0.3.0,>=0.2.2 in /home/tyoc213/miniconda3/envs/fastai2/lib/python3.7/site-packages (from spacy->fastai2->fastai-xla-extensions==0.0.1) (0.2.4)\n",
      "Requirement already satisfied: murmurhash<1.1.0,>=0.28.0 in /home/tyoc213/miniconda3/envs/fastai2/lib/python3.7/site-packages (from spacy->fastai2->fastai-xla-extensions==0.0.1) (1.0.2)\n",
      "Requirement already satisfied: cymem<2.1.0,>=2.0.2 in /home/tyoc213/miniconda3/envs/fastai2/lib/python3.7/site-packages (from spacy->fastai2->fastai-xla-extensions==0.0.1) (2.0.2)\n",
      "Requirement already satisfied: thinc<7.1.0,>=7.0.8 in /home/tyoc213/miniconda3/envs/fastai2/lib/python3.7/site-packages (from spacy->fastai2->fastai-xla-extensions==0.0.1) (7.0.8)\n",
      "Requirement already satisfied: six in /home/tyoc213/miniconda3/envs/fastai2/lib/python3.7/site-packages (from packaging->nbdev->fastai-xla-extensions==0.0.1) (1.14.0)\n",
      "Requirement already satisfied: mistune<2,>=0.8.1 in /home/tyoc213/miniconda3/envs/fastai2/lib/python3.7/site-packages (from nbconvert>=5.6.1->nbdev->fastai-xla-extensions==0.0.1) (0.8.4)\n",
      "Requirement already satisfied: traitlets>=4.2 in /home/tyoc213/miniconda3/envs/fastai2/lib/python3.7/site-packages (from nbconvert>=5.6.1->nbdev->fastai-xla-extensions==0.0.1) (4.3.3)\n",
      "Requirement already satisfied: pandocfilters>=1.4.1 in /home/tyoc213/miniconda3/envs/fastai2/lib/python3.7/site-packages (from nbconvert>=5.6.1->nbdev->fastai-xla-extensions==0.0.1) (1.4.2)\n",
      "Requirement already satisfied: jupyter-core in /home/tyoc213/miniconda3/envs/fastai2/lib/python3.7/site-packages (from nbconvert>=5.6.1->nbdev->fastai-xla-extensions==0.0.1) (4.6.3)\n",
      "Requirement already satisfied: bleach in /home/tyoc213/miniconda3/envs/fastai2/lib/python3.7/site-packages (from nbconvert>=5.6.1->nbdev->fastai-xla-extensions==0.0.1) (3.1.4)\n",
      "Requirement already satisfied: jinja2>=2.4 in /home/tyoc213/miniconda3/envs/fastai2/lib/python3.7/site-packages (from nbconvert>=5.6.1->nbdev->fastai-xla-extensions==0.0.1) (2.11.2)\n",
      "Requirement already satisfied: pygments in /home/tyoc213/miniconda3/envs/fastai2/lib/python3.7/site-packages (from nbconvert>=5.6.1->nbdev->fastai-xla-extensions==0.0.1) (2.6.1)\n",
      "Requirement already satisfied: entrypoints>=0.2.2 in /home/tyoc213/miniconda3/envs/fastai2/lib/python3.7/site-packages (from nbconvert>=5.6.1->nbdev->fastai-xla-extensions==0.0.1) (0.3)\n",
      "Requirement already satisfied: defusedxml in /home/tyoc213/miniconda3/envs/fastai2/lib/python3.7/site-packages (from nbconvert>=5.6.1->nbdev->fastai-xla-extensions==0.0.1) (0.6.0)\n",
      "Requirement already satisfied: testpath in /home/tyoc213/miniconda3/envs/fastai2/lib/python3.7/site-packages (from nbconvert>=5.6.1->nbdev->fastai-xla-extensions==0.0.1) (0.4.4)\n",
      "Requirement already satisfied: jsonschema!=2.5.0,>=2.4 in /home/tyoc213/miniconda3/envs/fastai2/lib/python3.7/site-packages (from nbformat>=4.4.0->nbdev->fastai-xla-extensions==0.0.1) (3.2.0)\n",
      "Requirement already satisfied: ipython-genutils in /home/tyoc213/miniconda3/envs/fastai2/lib/python3.7/site-packages (from nbformat>=4.4.0->nbdev->fastai-xla-extensions==0.0.1) (0.2.0)\n",
      "Requirement already satisfied: tqdm<5.0.0,>=4.10.0 in /home/tyoc213/miniconda3/envs/fastai2/lib/python3.7/site-packages (from thinc<7.1.0,>=7.0.8->spacy->fastai2->fastai-xla-extensions==0.0.1) (4.46.0)\n",
      "Requirement already satisfied: decorator in /home/tyoc213/miniconda3/envs/fastai2/lib/python3.7/site-packages (from traitlets>=4.2->nbconvert>=5.6.1->nbdev->fastai-xla-extensions==0.0.1) (4.4.2)\n",
      "Requirement already satisfied: webencodings in /home/tyoc213/miniconda3/envs/fastai2/lib/python3.7/site-packages (from bleach->nbconvert>=5.6.1->nbdev->fastai-xla-extensions==0.0.1) (0.5.1)\n",
      "Requirement already satisfied: MarkupSafe>=0.23 in /home/tyoc213/miniconda3/envs/fastai2/lib/python3.7/site-packages (from jinja2>=2.4->nbconvert>=5.6.1->nbdev->fastai-xla-extensions==0.0.1) (1.1.1)\n"
     ]
    },
    {
     "name": "stdout",
     "output_type": "stream",
     "text": [
      "Requirement already satisfied: attrs>=17.4.0 in /home/tyoc213/miniconda3/envs/fastai2/lib/python3.7/site-packages (from jsonschema!=2.5.0,>=2.4->nbformat>=4.4.0->nbdev->fastai-xla-extensions==0.0.1) (19.3.0)\n",
      "Requirement already satisfied: importlib-metadata; python_version < \"3.8\" in /home/tyoc213/miniconda3/envs/fastai2/lib/python3.7/site-packages (from jsonschema!=2.5.0,>=2.4->nbformat>=4.4.0->nbdev->fastai-xla-extensions==0.0.1) (1.6.1)\n",
      "Requirement already satisfied: setuptools in /home/tyoc213/miniconda3/envs/fastai2/lib/python3.7/site-packages (from jsonschema!=2.5.0,>=2.4->nbformat>=4.4.0->nbdev->fastai-xla-extensions==0.0.1) (46.1.3.post20200330)\n",
      "Requirement already satisfied: pyrsistent>=0.14.0 in /home/tyoc213/miniconda3/envs/fastai2/lib/python3.7/site-packages (from jsonschema!=2.5.0,>=2.4->nbformat>=4.4.0->nbdev->fastai-xla-extensions==0.0.1) (0.16.0)\n",
      "Requirement already satisfied: zipp>=0.5 in /home/tyoc213/miniconda3/envs/fastai2/lib/python3.7/site-packages (from importlib-metadata; python_version < \"3.8\"->jsonschema!=2.5.0,>=2.4->nbformat>=4.4.0->nbdev->fastai-xla-extensions==0.0.1) (3.1.0)\n",
      "Building wheels for collected packages: fastai-xla-extensions\n",
      "  Building wheel for fastai-xla-extensions (setup.py) ... \u001b[?25ldone\n",
      "\u001b[?25h  Created wheel for fastai-xla-extensions: filename=fastai_xla_extensions-0.0.1-py3-none-any.whl size=10845 sha256=e1edcc5ef11c16ab8d442be623d5f7bfa452454411248d28efc6dee743ec51c8\n",
      "  Stored in directory: /tmp/pip-ephem-wheel-cache-85xecena/wheels/bc/e6/55/735127e1a9cb2e8131557223b31754c6184d6eee09cf3f7a8e\n",
      "Successfully built fastai-xla-extensions\n",
      "Installing collected packages: fastai-xla-extensions\n",
      "Successfully installed fastai-xla-extensions-0.0.1\n"
     ]
    }
   ],
   "source": [
    "!pip install git+https://github.com/butchland/fastai_xla_extensions"
   ]
  },
  {
   "cell_type": "markdown",
   "metadata": {},
   "source": [
    "## Load via TPU"
   ]
  },
  {
   "cell_type": "code",
   "execution_count": null,
   "metadata": {},
   "outputs": [],
   "source": [
    "tpu_device = xm.xla_device()\n",
    "# Use same datablock, but load with TPU\n",
    "dls_tpu = datablock.dataloaders(path, device=tpu_device)\n",
    "dls.device, dls.vocab, dls.show_batch()"
   ]
  },
  {
   "cell_type": "markdown",
   "metadata": {},
   "source": [
    "## learner train on TPU"
   ]
  },
  {
   "cell_type": "code",
   "execution_count": null,
   "metadata": {},
   "outputs": [],
   "source": [
    "learner = Learner(dls, Lenet2(), metrics=accuracy, opt_func=Adam)\n",
    "learner.summary()"
   ]
  },
  {
   "cell_type": "code",
   "execution_count": null,
   "metadata": {},
   "outputs": [],
   "source": [
    "%time\n",
    "learner.lr_find()"
   ]
  },
  {
   "cell_type": "code",
   "execution_count": null,
   "metadata": {},
   "outputs": [],
   "source": [
    "learner.fit(10, lr=0.05) # 0.5 comes from GPU lr_find"
   ]
  },
  {
   "cell_type": "code",
   "execution_count": null,
   "metadata": {},
   "outputs": [],
   "source": []
  },
  {
   "cell_type": "code",
   "execution_count": null,
   "metadata": {},
   "outputs": [],
   "source": []
  },
  {
   "cell_type": "code",
   "execution_count": null,
   "metadata": {},
   "outputs": [],
   "source": []
  }
 ],
 "metadata": {
  "kernelspec": {
   "display_name": "Python 3",
   "language": "python",
   "name": "python3"
  },
  "language_info": {
   "codemirror_mode": {
    "name": "ipython",
    "version": 3
   },
   "file_extension": ".py",
   "mimetype": "text/x-python",
   "name": "python",
   "nbconvert_exporter": "python",
   "pygments_lexer": "ipython3",
   "version": "3.7.6"
  }
 },
 "nbformat": 4,
 "nbformat_minor": 4
}
