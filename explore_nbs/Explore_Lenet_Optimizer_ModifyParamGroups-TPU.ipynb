{
 "cells": [
  {
   "cell_type": "code",
   "execution_count": null,
   "metadata": {
    "scrolled": true
   },
   "outputs": [],
   "source": [
    "# !curl -s https://course19.fast.ai/setup/colab | bash"
   ]
  },
  {
   "cell_type": "code",
   "execution_count": null,
   "metadata": {},
   "outputs": [],
   "source": [
    "pip install -Uqq fastai fastcore fastprogress --upgrade"
   ]
  },
  {
   "cell_type": "code",
   "execution_count": null,
   "metadata": {},
   "outputs": [],
   "source": [
    "!pip install cloud-tpu-client==0.10 https://storage.googleapis.com/tpu-pytorch/wheels/torch_xla-1.6-cp36-cp36m-linux_x86_64.whl"
   ]
  },
  {
   "cell_type": "code",
   "execution_count": null,
   "metadata": {},
   "outputs": [],
   "source": [
    "from fastai.vision.all import *"
   ]
  },
  {
   "cell_type": "code",
   "execution_count": null,
   "metadata": {},
   "outputs": [],
   "source": [
    "path = untar_data(URLs.MNIST_TINY)"
   ]
  },
  {
   "cell_type": "code",
   "execution_count": null,
   "metadata": {},
   "outputs": [],
   "source": [
    "Path.BASE_PATH = path"
   ]
  },
  {
   "cell_type": "code",
   "execution_count": null,
   "metadata": {},
   "outputs": [],
   "source": [
    "path.ls()"
   ]
  },
  {
   "cell_type": "code",
   "execution_count": null,
   "metadata": {},
   "outputs": [],
   "source": [
    "(path/'test').ls()"
   ]
  },
  {
   "cell_type": "code",
   "execution_count": null,
   "metadata": {},
   "outputs": [],
   "source": [
    "test_images = get_image_files(path/'test')"
   ]
  },
  {
   "cell_type": "code",
   "execution_count": null,
   "metadata": {},
   "outputs": [],
   "source": [
    "datablock = DataBlock(\n",
    "    blocks=(ImageBlock, CategoryBlock),\n",
    "    get_items=get_image_files,\n",
    "    get_y=parent_label,\n",
    "    splitter=GrandparentSplitter(),\n",
    "    item_tfms=Resize(28),\n",
    "    batch_tfms=[]\n",
    ")"
   ]
  },
  {
   "cell_type": "code",
   "execution_count": null,
   "metadata": {},
   "outputs": [],
   "source": [
    "dls = datablock.dataloaders(path)"
   ]
  },
  {
   "cell_type": "code",
   "execution_count": null,
   "metadata": {},
   "outputs": [],
   "source": [
    "dls.show_batch()"
   ]
  },
  {
   "cell_type": "code",
   "execution_count": null,
   "metadata": {},
   "outputs": [],
   "source": [
    "import torch_xla.core.model as xm\n",
    "\n",
    "class XLAOptimProxy:\n",
    "    \"Proxy optimizer to override `opt.step` with Pytorch XLA sync method `xm.optimizer_step` \"  \n",
    "    def __init__(self,opt, barrier=True):\n",
    "        self.opt = opt\n",
    "        self._barrier = barrier\n",
    "        \n",
    "    def xla_step(self):\n",
    "        xm.optimizer_step(self.opt,barrier=self._barrier) # sync on gradient update\n",
    "        \n",
    "    def __getattr__(self,name):\n",
    "        if name == 'step': # override proxying for step\n",
    "            return getattr(self,'xla_step')\n",
    "        if name in ('barrier','_barrier'):\n",
    "            return getattr(self,name)\n",
    "      \n",
    "        # proxy everything else\n",
    "        return getattr(self.opt,name)\n",
    "    @property\n",
    "    def barrier(self): return self._barrier\n",
    "    @barrier.setter\n",
    "    def barrier(self,v): self._barrier = v "
   ]
  },
  {
   "cell_type": "code",
   "execution_count": null,
   "metadata": {},
   "outputs": [],
   "source": [
    "from fastai.callback.core import Callback\n",
    "from fastai.data.core import DataLoaders\n",
    "from fastai.vision.all import to_device\n",
    "\n",
    "class XLAOptCallback(Callback):\n",
    "    'Callback to replace `opt.step` with `xm.optimizer_step(opt)` as required to run on TPU'\n",
    "    def __init__(self, barrier=True):\n",
    "        self._barrier = barrier\n",
    "\n",
    "    def before_fit(self):\n",
    "        'replace opt with proxy which calls `xm.optimizer_step` instead of `opt.step` and set `dls.device` and model to `xla_device`'\n",
    "        to_device(self.dls, device=xm.xla_device())\n",
    "        self.model.to(self.dls.device)\n",
    "        if self.learn.opt is not None:\n",
    "            if not isinstance(self.learn.opt,XLAOptimProxy):\n",
    "                opt = self.learn.opt\n",
    "                self.learn.opt = XLAOptimProxy(opt, barrier=self._barrier)\n",
    "                \n",
    "    def after_fit(self):\n",
    "        'restore original opt '\n",
    "        if isinstance(self.learn.opt, XLAOptimProxy):\n",
    "            opt = self.learn.opt.opt\n",
    "            self.learn.opt = opt\n",
    "#         to_device(self.dls, default_device())\n",
    "#         self.model.to(self.dls.device)\n",
    "    @property\n",
    "    def barrier(self): return self._barrier"
   ]
  },
  {
   "cell_type": "code",
   "execution_count": null,
   "metadata": {},
   "outputs": [],
   "source": [
    "def myconv(conv_args=None, maxpool_args=None):\n",
    "    conv = nn.Conv2d(*conv_args) if conv_args is not None else None\n",
    "    relu = nn.ReLU()\n",
    "    maxpool = nn.MaxPool2d(*maxpool_args) if maxpool_args is not None else None\n",
    "    layers = filter(lambda layer: layer is not None, [conv,relu, maxpool])\n",
    "    seq = nn.Sequential(*layers)\n",
    "    return seq\n",
    "\n",
    "def mylinear(lin_args=None):\n",
    "    layers = []\n",
    "    for i,lin_arg in enumerate(lin_args):\n",
    "        layers += [nn.Linear(*lin_arg)]\n",
    "        if i < len(lin_args) - 1: # add relu to layers between\n",
    "            layers += [nn.ReLU()]\n",
    "    seq = nn.Sequential(*layers)\n",
    "    return seq\n",
    "  \n",
    "    \n",
    "class Lenet2(Module):\n",
    "    def __init__(self):\n",
    "        self.conv1 = myconv(conv_args=(3,6,3),maxpool_args=(2,2))\n",
    "        self.conv2 = myconv(conv_args=(6,16,3),maxpool_args=(2,))\n",
    "        self.lin1 = mylinear(lin_args=[(400,120),(120,84),(84,2)])\n",
    "    def forward(self, x):\n",
    "        x = self.conv1(x)\n",
    "        x = self.conv2(x)\n",
    "        # flatten\n",
    "        x = x.view(-1, self.num_flat_features(x))\n",
    "        x = self.lin1(x)\n",
    "        return x\n",
    "\n",
    "    def num_flat_features(self, x):\n",
    "        size = x.size()[1:]  # all dimensions except the batch dimension\n",
    "        num_features = 1\n",
    "        for s in size:\n",
    "            num_features *= s\n",
    "        return num_features\n"
   ]
  },
  {
   "cell_type": "code",
   "execution_count": null,
   "metadata": {},
   "outputs": [],
   "source": [
    "def lenet_split(model):\n",
    "    m = L(model.modules())\n",
    "    groups = L([m[1],m[5],m[9]])\n",
    "    return groups.map(params)"
   ]
  },
  {
   "cell_type": "code",
   "execution_count": null,
   "metadata": {},
   "outputs": [],
   "source": [
    "lenet2 = Lenet2()"
   ]
  },
  {
   "cell_type": "code",
   "execution_count": null,
   "metadata": {},
   "outputs": [],
   "source": [
    "learn = Learner(dls, lenet2, splitter=lenet_split, metrics=accuracy)"
   ]
  },
  {
   "cell_type": "code",
   "execution_count": null,
   "metadata": {},
   "outputs": [],
   "source": [
    "learn.summary()"
   ]
  },
  {
   "cell_type": "code",
   "execution_count": null,
   "metadata": {},
   "outputs": [],
   "source": [
    "valid_preds,valid_targs = learn.get_preds(dl=dls.valid)"
   ]
  },
  {
   "cell_type": "code",
   "execution_count": null,
   "metadata": {},
   "outputs": [],
   "source": [
    "len(valid_preds)"
   ]
  },
  {
   "cell_type": "code",
   "execution_count": null,
   "metadata": {},
   "outputs": [],
   "source": [
    "len(valid_targs)"
   ]
  },
  {
   "cell_type": "code",
   "execution_count": null,
   "metadata": {},
   "outputs": [],
   "source": [
    "valid_acc = accuracy(valid_preds,valid_targs);valid_acc"
   ]
  },
  {
   "cell_type": "markdown",
   "metadata": {},
   "source": [
    "Make a test dataloader and predict an untrained learner"
   ]
  },
  {
   "cell_type": "code",
   "execution_count": null,
   "metadata": {},
   "outputs": [],
   "source": [
    "test_dl = learn.dls.test_dl(test_images,with_labels=True)"
   ]
  },
  {
   "cell_type": "code",
   "execution_count": null,
   "metadata": {},
   "outputs": [],
   "source": [
    "preds,targs = learn.get_preds(dl=test_dl)"
   ]
  },
  {
   "cell_type": "markdown",
   "metadata": {},
   "source": [
    "Accuracy should be no better than random (0.5)"
   ]
  },
  {
   "cell_type": "code",
   "execution_count": null,
   "metadata": {},
   "outputs": [],
   "source": [
    "test_acc = accuracy(preds, targs);test_acc"
   ]
  },
  {
   "cell_type": "markdown",
   "metadata": {},
   "source": [
    "Load learner or train model"
   ]
  },
  {
   "cell_type": "code",
   "execution_count": null,
   "metadata": {},
   "outputs": [],
   "source": [
    "learn.fit_one_cycle(10)"
   ]
  },
  {
   "cell_type": "code",
   "execution_count": null,
   "metadata": {},
   "outputs": [],
   "source": [
    "learn.save('lenet2-stage1a')"
   ]
  },
  {
   "cell_type": "code",
   "execution_count": null,
   "metadata": {},
   "outputs": [],
   "source": [
    "# learn.load('lenet2-stage1a')"
   ]
  },
  {
   "cell_type": "code",
   "execution_count": null,
   "metadata": {},
   "outputs": [],
   "source": [
    "valid_preds2,valid_targs2 = learn.get_preds(dl=dls.valid)"
   ]
  },
  {
   "cell_type": "code",
   "execution_count": null,
   "metadata": {},
   "outputs": [],
   "source": [
    "valid_acc2 = accuracy(valid_preds2,valid_targs2);valid_acc2"
   ]
  },
  {
   "cell_type": "code",
   "execution_count": null,
   "metadata": {},
   "outputs": [],
   "source": [
    "learn.freeze()"
   ]
  },
  {
   "cell_type": "code",
   "execution_count": null,
   "metadata": {},
   "outputs": [],
   "source": [
    "learn.summary()"
   ]
  },
  {
   "cell_type": "markdown",
   "metadata": {},
   "source": [
    "Make a prediction on pretrained learner"
   ]
  },
  {
   "cell_type": "code",
   "execution_count": null,
   "metadata": {},
   "outputs": [],
   "source": [
    "preds2,targs2 = learn.get_preds(dl=test_dl)"
   ]
  },
  {
   "cell_type": "markdown",
   "metadata": {},
   "source": [
    "Expect high accuracy on pretrained learner"
   ]
  },
  {
   "cell_type": "code",
   "execution_count": null,
   "metadata": {},
   "outputs": [],
   "source": [
    "test_acc2 = accuracy(preds2, targs2);test_acc2"
   ]
  },
  {
   "cell_type": "code",
   "execution_count": null,
   "metadata": {},
   "outputs": [],
   "source": [
    "len(learn.opt.param_groups)"
   ]
  },
  {
   "cell_type": "code",
   "execution_count": null,
   "metadata": {},
   "outputs": [],
   "source": [
    "model = learn.model"
   ]
  },
  {
   "cell_type": "code",
   "execution_count": null,
   "metadata": {},
   "outputs": [],
   "source": [
    "learn.fine_tune(1)"
   ]
  },
  {
   "cell_type": "code",
   "execution_count": null,
   "metadata": {},
   "outputs": [],
   "source": []
  }
 ],
 "metadata": {
  "kernelspec": {
   "display_name": "Python 3",
   "language": "python",
   "name": "python3"
  },
  "language_info": {
   "codemirror_mode": {
    "name": "ipython",
    "version": 3
   },
   "file_extension": ".py",
   "mimetype": "text/x-python",
   "name": "python",
   "nbconvert_exporter": "python",
   "pygments_lexer": "ipython3",
   "version": "3.7.7"
  },
  "varInspector": {
   "cols": {
    "lenName": 16,
    "lenType": 16,
    "lenVar": 40
   },
   "kernels_config": {
    "python": {
     "delete_cmd_postfix": "",
     "delete_cmd_prefix": "del ",
     "library": "var_list.py",
     "varRefreshCmd": "print(var_dic_list())"
    },
    "r": {
     "delete_cmd_postfix": ") ",
     "delete_cmd_prefix": "rm(",
     "library": "var_list.r",
     "varRefreshCmd": "cat(var_dic_list()) "
    }
   },
   "types_to_exclude": [
    "module",
    "function",
    "builtin_function_or_method",
    "instance",
    "_Feature"
   ],
   "window_display": false
  }
 },
 "nbformat": 4,
 "nbformat_minor": 4
}
