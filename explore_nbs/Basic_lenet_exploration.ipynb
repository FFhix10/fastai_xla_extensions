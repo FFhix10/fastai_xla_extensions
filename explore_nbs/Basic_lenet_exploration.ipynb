{
 "cells": [
  {
   "cell_type": "markdown",
   "metadata": {
    "colab_type": "text",
    "id": "view-in-github"
   },
   "source": [
    "<a href=\"https://colab.research.google.com/github/tyoc213/fastai_xla_extensions/blob/master/explore_nbs/Basic_lenet_exploration.ipynb\" target=\"_parent\"><img src=\"https://colab.research.google.com/assets/colab-badge.svg\" alt=\"Open In Colab\"/></a>"
   ]
  },
  {
   "cell_type": "markdown",
   "metadata": {
    "colab_type": "text",
    "id": "BmnUX_l8lQ6B"
   },
   "source": [
    "# Install fastai2 from github"
   ]
  },
  {
   "cell_type": "code",
   "execution_count": null,
   "metadata": {
    "colab": {
     "base_uri": "https://localhost:8080/",
     "height": 104
    },
    "colab_type": "code",
    "id": "Q5DZXcBNJoy1",
    "outputId": "169d4ea3-7503-4202-fde9-ff287e59d85f"
   },
   "outputs": [],
   "source": [
    "!pip uninstall -y fastai fastai2 fastcore"
   ]
  },
  {
   "cell_type": "code",
   "execution_count": null,
   "metadata": {
    "colab": {
     "base_uri": "https://localhost:8080/",
     "height": 69
    },
    "colab_type": "code",
    "id": "GucdOzF7r6ch",
    "outputId": "a0282b28-8ec8-44ee-df32-592aacfc4de4"
   },
   "outputs": [],
   "source": [
    "VERSION = \"20200707\"  #\"20200515\" @param [\"1.5\" , \"20200325\", \"nightly\"]\n",
    "!curl https://raw.githubusercontent.com/pytorch/xla/master/contrib/scripts/env-setup.py -o pytorch-xla-env-setup.py"
   ]
  },
  {
   "cell_type": "code",
   "execution_count": null,
   "metadata": {
    "colab": {
     "base_uri": "https://localhost:8080/",
     "height": 764
    },
    "colab_type": "code",
    "id": "BxoA3fJusV17",
    "outputId": "ff7d8bba-7362-4411-ea16-1d0f5b089560"
   },
   "outputs": [],
   "source": [
    "#!TORCH_SHOW_CPP_STACKTRACES=1 python pytorch-xla-env-setup.py --apt-packages libomp5 libopenblas-dev\n",
    "!python pytorch-xla-env-setup.py  --version $VERSION --apt-packages libomp5 libopenblas-dev"
   ]
  },
  {
   "cell_type": "code",
   "execution_count": null,
   "metadata": {
    "colab": {},
    "colab_type": "code",
    "id": "_Ja-ah6qIEZj"
   },
   "outputs": [],
   "source": [
    "import torch\n",
    "import torch_xla\n",
    "import torch_xla.core.xla_model as xm"
   ]
  },
  {
   "cell_type": "code",
   "execution_count": null,
   "metadata": {
    "colab": {
     "base_uri": "https://localhost:8080/",
     "height": 1000
    },
    "colab_type": "code",
    "id": "aJMhjxPPaPo8",
    "outputId": "12ea55a2-acfc-4413-da72-96657e72c14e"
   },
   "outputs": [],
   "source": [
    "!pip install git+https://github.com/fastai/fastcore\n",
    "!pip install git+https://github.com/fastai/fastai"
   ]
  },
  {
   "cell_type": "code",
   "execution_count": null,
   "metadata": {
    "colab": {},
    "colab_type": "code",
    "id": "mlAKa0RsbOei"
   },
   "outputs": [],
   "source": [
    "from fastai.vision.all import *"
   ]
  },
  {
   "cell_type": "code",
   "execution_count": null,
   "metadata": {
    "colab": {
     "base_uri": "https://localhost:8080/",
     "height": 34
    },
    "colab_type": "code",
    "id": "OD7QTq_ulNZK",
    "outputId": "5e583100-b1a2-434c-a642-da7b5fc2d67b"
   },
   "outputs": [],
   "source": [
    "path = untar_data(URLs.MNIST_SAMPLE)\n",
    "path.ls()[2].ls()"
   ]
  },
  {
   "cell_type": "code",
   "execution_count": null,
   "metadata": {
    "colab": {},
    "colab_type": "code",
    "id": "0wHQmbWTpm9M"
   },
   "outputs": [],
   "source": [
    "def get_my_labels(fname):\n",
    "    return int(fname.parent.name[0])\n",
    "\n",
    "dblock = DataBlock(\n",
    "    splitter = RandomSplitter(),\n",
    "    #item_tfms = Resize(128),\n",
    "    blocks = (ImageBlock, CategoryBlock),\n",
    "    get_items = get_image_files,\n",
    "    get_y = get_my_labels\n",
    ")\n"
   ]
  },
  {
   "cell_type": "code",
   "execution_count": null,
   "metadata": {
    "colab": {
     "base_uri": "https://localhost:8080/",
     "height": 34
    },
    "colab_type": "code",
    "id": "Uq56ddzFZX-c",
    "outputId": "3424c902-6d22-4c7b-c3eb-13ee49f5ad1e"
   },
   "outputs": [],
   "source": [
    "dls_normal = dblock.dataloaders(path)\n",
    "dls_normal.vocab"
   ]
  },
  {
   "cell_type": "markdown",
   "metadata": {
    "colab_type": "text",
    "id": "PoJrJqx8BO30"
   },
   "source": [
    "# Lenet with convs and F.max_pool2d"
   ]
  },
  {
   "cell_type": "code",
   "execution_count": null,
   "metadata": {
    "colab": {},
    "colab_type": "code",
    "id": "sfJVAsAerFku"
   },
   "outputs": [],
   "source": [
    "class MyLenet(nn.Module):\n",
    "    def __init__(self):\n",
    "        super(MyLenet, self).__init__()\n",
    "        self.conv1 = nn.Conv2d(3, 6, 3)\n",
    "        self.conv2 = nn.Conv2d(6,16,3)\n",
    "        self.hiden4 = nn.Linear(400, 2) # 2 outputs instead of 10\n",
    "    def forward(self, x):\n",
    "        x = F.max_pool2d(F.relu(self.conv1(x)), (2, 2))\n",
    "        x = F.max_pool2d(F.relu(self.conv2(x)), 2)\n",
    "        x = x.view(-1, self.num_flat_features(x))\n",
    "        x = self.hiden4(x)\n",
    "        return x\n",
    "    \n",
    "    def num_flat_features(self, x):\n",
    "        size = x.size()[1:]  # all dimensions except the batch dimension\n",
    "        num_features = 1\n",
    "        for s in size:\n",
    "            num_features *= s\n",
    "        return num_features\n",
    "\n",
    "lenet = MyLenet()\n",
    "learn = Learner(dls_normal, lenet, metrics=[error_rate, accuracy])\n",
    "\n"
   ]
  },
  {
   "cell_type": "code",
   "execution_count": null,
   "metadata": {
    "colab": {
     "base_uri": "https://localhost:8080/",
     "height": 98
    },
    "colab_type": "code",
    "id": "VoJpiJ4lr6WA",
    "outputId": "f76ff566-397b-435b-9eb6-bc8005783fc6"
   },
   "outputs": [],
   "source": [
    "%%time\n",
    "learn.fit_one_cycle(1)\n",
    "learn.validate()"
   ]
  },
  {
   "cell_type": "markdown",
   "metadata": {
    "colab_type": "text",
    "id": "YujM_GLxBW4_"
   },
   "source": [
    "# Lenet with layers"
   ]
  },
  {
   "cell_type": "code",
   "execution_count": null,
   "metadata": {
    "colab": {},
    "colab_type": "code",
    "id": "RETI5TWYyn6C"
   },
   "outputs": [],
   "source": [
    "class Lenet2(nn.Module):\n",
    "    def __init__(self):\n",
    "        super(Lenet2, self).__init__()\n",
    "        self.conv1 = nn.Conv2d(3, 6, 3)\n",
    "        self.conv2 = nn.Conv2d(6, 16, 3)\n",
    "        self.fc1 = nn.Linear(400, 120)\n",
    "        self.fc2 = nn.Linear(120, 84)\n",
    "        self.fc3 = nn.Linear(84, 2) # Only 2 outputs instead of 10\n",
    "    def forward(self, x):\n",
    "        # Max pooling over a (2, 2) window\n",
    "        x = F.max_pool2d(F.relu(self.conv1(x)), (2, 2))\n",
    "        # If the size is a square you can only specify a single number\n",
    "        x = F.max_pool2d(F.relu(self.conv2(x)), 2)\n",
    "        x = x.view(-1, self.num_flat_features(x))\n",
    "        x = F.relu(self.fc1(x))\n",
    "        x = F.relu(self.fc2(x))\n",
    "        x = self.fc3(x)\n",
    "        return x\n",
    "\n",
    "    def num_flat_features(self, x):\n",
    "        size = x.size()[1:]  # all dimensions except the batch dimension\n",
    "        num_features = 1\n",
    "        for s in size:\n",
    "            num_features *= s\n",
    "        return num_features\n",
    "\n",
    "\n",
    "\n",
    "lenet2 = Lenet2()\n",
    "learn2 = Learner(dls_normal, lenet2, metrics=[error_rate, accuracy])\n",
    "\n"
   ]
  },
  {
   "cell_type": "code",
   "execution_count": null,
   "metadata": {
    "colab": {
     "base_uri": "https://localhost:8080/",
     "height": 98
    },
    "colab_type": "code",
    "id": "d5hVwXWH0DW0",
    "outputId": "55e3bd61-9aa4-4191-c5b9-1559d697f217"
   },
   "outputs": [],
   "source": [
    "%%time\n",
    "learn2.fit_one_cycle(1)\n",
    "learn.validate()"
   ]
  },
  {
   "cell_type": "markdown",
   "metadata": {
    "colab_type": "text",
    "id": "esGnoThVr5sm"
   },
   "source": [
    "# Current TPU implementation callbacks\n",
    "\n",
    "Just import fastai_xla_extensions"
   ]
  },
  {
   "cell_type": "code",
   "execution_count": null,
   "metadata": {},
   "outputs": [],
   "source": [
    "import fastai_xla_extensions.core"
   ]
  },
  {
   "cell_type": "markdown",
   "metadata": {
    "colab_type": "text",
    "id": "p1MkLSk4rGXa"
   },
   "source": [
    "# Load in TPU"
   ]
  },
  {
   "cell_type": "code",
   "execution_count": null,
   "metadata": {
    "colab": {
     "base_uri": "https://localhost:8080/",
     "height": 851
    },
    "colab_type": "code",
    "id": "FXckuzpuxvWW",
    "outputId": "c4bebb92-6829-44b2-df18-2cff11c0058b"
   },
   "outputs": [],
   "source": [
    "dblock.summary(path)"
   ]
  },
  {
   "cell_type": "markdown",
   "metadata": {
    "colab_type": "text",
    "id": "roY-hP7q_XzV"
   },
   "source": [
    "# Use TPU device"
   ]
  },
  {
   "cell_type": "code",
   "execution_count": null,
   "metadata": {
    "colab": {},
    "colab_type": "code",
    "id": "1BxRLBwEH9en"
   },
   "outputs": [],
   "source": [
    "import torch\n",
    "import torch_xla\n",
    "import torch_xla.core.xla_model as xm\n"
   ]
  },
  {
   "cell_type": "markdown",
   "metadata": {
    "colab_type": "text",
    "id": "u-rqfNkUM6qJ"
   },
   "source": [
    "# Aquire a TPU device"
   ]
  },
  {
   "cell_type": "code",
   "execution_count": null,
   "metadata": {
    "colab": {
     "base_uri": "https://localhost:8080/",
     "height": 553
    },
    "colab_type": "code",
    "id": "H9FuvQ7qrEqd",
    "outputId": "d99be2c3-61a5-4802-d68b-8217259b43f6"
   },
   "outputs": [],
   "source": [
    "\n",
    "dede = xm.xla_device()\n",
    "dls_tpu = dblock.dataloaders(path, device=dede)\n",
    "dls_tpu.show_batch(), dls_tpu.vocab"
   ]
  },
  {
   "cell_type": "code",
   "execution_count": null,
   "metadata": {
    "colab": {},
    "colab_type": "code",
    "id": "6edzLFvLxnTs"
   },
   "outputs": [],
   "source": [
    "dls_tpu.show([1])"
   ]
  },
  {
   "cell_type": "code",
   "execution_count": null,
   "metadata": {
    "colab": {},
    "colab_type": "code",
    "id": "-CFvkrNLuWH_"
   },
   "outputs": [],
   "source": [
    "#sgd_xla_opt = XLAOptFuncWrapper(SGD)\n",
    "#adam_xla_opt = XLAOptFuncWrapper(Adam)\n"
   ]
  },
  {
   "cell_type": "markdown",
   "metadata": {
    "colab_type": "text",
    "id": "CaLUPKrpNFD6"
   },
   "source": [
    "## First training on TPU"
   ]
  },
  {
   "cell_type": "code",
   "execution_count": null,
   "metadata": {
    "colab": {
     "base_uri": "https://localhost:8080/",
     "height": 34
    },
    "colab_type": "code",
    "id": "nnNXHVhBukge",
    "outputId": "ab8b7326-f936-430c-8f32-e0975377b47b"
   },
   "outputs": [],
   "source": [
    "# from fastai.callback.all import *\n",
    "from fastai.test_utils import *\n",
    "lenet_tpu = Lenet2()\n",
    "tpu_learner = Learner(dls_tpu,\n",
    "                      lenet_tpu,\n",
    "                      device=dede,\n",
    "                      metrics=accuracy, \n",
    "                      loss_func=F.cross_entropy,\n",
    "                      cbs=[XLAOptCallback()])"
   ]
  },
  {
   "cell_type": "code",
   "execution_count": null,
   "metadata": {
    "colab": {
     "base_uri": "https://localhost:8080/",
     "height": 584
    },
    "colab_type": "code",
    "id": "npau0oogyXRN",
    "outputId": "62201221-7cb3-4b72-d9bc-20ad8cbf7eb0"
   },
   "outputs": [],
   "source": [
    "tpu_learner.summary()"
   ]
  },
  {
   "cell_type": "code",
   "execution_count": null,
   "metadata": {
    "colab": {
     "base_uri": "https://localhost:8080/",
     "height": 590
    },
    "colab_type": "code",
    "id": "-Z-exyB0zrk6",
    "outputId": "a3edd725-e28a-4e6e-e290-eb9a893f22bf"
   },
   "outputs": [],
   "source": [
    "tpu_learner.show_training_loop()"
   ]
  },
  {
   "cell_type": "code",
   "execution_count": null,
   "metadata": {
    "colab": {
     "base_uri": "https://localhost:8080/",
     "height": 34
    },
    "colab_type": "code",
    "id": "8sHdn1JVRSGW",
    "outputId": "ec53d4d1-d539-4ea8-844d-0d0cc9a84569"
   },
   "outputs": [],
   "source": [
    "dls_tpu.device"
   ]
  },
  {
   "cell_type": "markdown",
   "metadata": {
    "colab_type": "text",
    "id": "f_vRFNZts9GB"
   },
   "source": [
    "# Call fit\n",
    "\n",
    "Will fail in `self.loss.backward(); `?"
   ]
  },
  {
   "cell_type": "code",
   "execution_count": null,
   "metadata": {
    "colab": {
     "base_uri": "https://localhost:8080/",
     "height": 1000
    },
    "colab_type": "code",
    "id": "oKrHpX9eu4S_",
    "outputId": "f1c4d66c-7003-4bcf-9597-d422087bc2a4"
   },
   "outputs": [],
   "source": [
    "tpu_learner.fit(1)"
   ]
  },
  {
   "cell_type": "code",
   "execution_count": null,
   "metadata": {
    "colab": {
     "base_uri": "https://localhost:8080/",
     "height": 1000
    },
    "colab_type": "code",
    "id": "59-jZT0-vDcI",
    "outputId": "f984ce27-cd14-46ad-f2a0-281f5f3b00f9"
   },
   "outputs": [],
   "source": [
    "tpu_learner.lr_find()"
   ]
  },
  {
   "cell_type": "markdown",
   "metadata": {
    "colab_type": "text",
    "id": "iIgeMadvAkSi"
   },
   "source": [
    "reference for https://pytorch.org/docs/stable/autograd.html#torch.autograd.backward"
   ]
  },
  {
   "cell_type": "code",
   "execution_count": null,
   "metadata": {
    "colab": {
     "base_uri": "https://localhost:8080/",
     "height": 104
    },
    "colab_type": "code",
    "id": "w4LSsf3k1pj4",
    "outputId": "786116c9-4a98-4bfb-9274-3a80baf78bb4"
   },
   "outputs": [],
   "source": [
    "ob = tpu_learner.dls.train.one_batch()\n",
    "#print(ob)\n",
    "len(ob), ob[0].shape, ob[1].shape, F.cross_entropy, tpu_learner.pred"
   ]
  },
  {
   "cell_type": "code",
   "execution_count": null,
   "metadata": {
    "colab": {
     "base_uri": "https://localhost:8080/",
     "height": 330
    },
    "colab_type": "code",
    "id": "UUiFHiAO6FmI",
    "outputId": "0e62f057-db01-4951-e3a5-184663307fb9"
   },
   "outputs": [],
   "source": [
    "#the_loss = tpu_learner.loss_func(tpu_learner.pred, *tpu_learner.yb)\n",
    "the_loss = tpu_learner.loss_func(tpu_learner.dls, *tpu_learner.yb)"
   ]
  }
 ],
 "metadata": {
  "accelerator": "TPU",
  "colab": {
   "authorship_tag": "ABX9TyORfIqqMNwVl5/SwYVaBPKD",
   "collapsed_sections": [],
   "include_colab_link": true,
   "mount_file_id": "https://github.com/tyoc213/fastai_xla_extensions/blob/explorations1/explore_nbs/Basic_lenet_exploration.ipynb",
   "name": "Basic_lenet_exploration.ipynb",
   "provenance": [],
   "toc_visible": true
  },
  "kernelspec": {
   "display_name": "Python 3",
   "language": "python",
   "name": "python3"
  },
  "language_info": {
   "codemirror_mode": {
    "name": "ipython",
    "version": 3
   },
   "file_extension": ".py",
   "mimetype": "text/x-python",
   "name": "python",
   "nbconvert_exporter": "python",
   "pygments_lexer": "ipython3",
   "version": "3.7.7"
  }
 },
 "nbformat": 4,
 "nbformat_minor": 1
}
