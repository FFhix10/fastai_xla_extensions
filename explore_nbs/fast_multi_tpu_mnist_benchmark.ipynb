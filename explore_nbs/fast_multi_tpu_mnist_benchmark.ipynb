{
  "nbformat": 4,
  "nbformat_minor": 0,
  "metadata": {
    "accelerator": "TPU",
    "colab": {
      "name": "fast-tpu-mnist-wandb.ipynb",
      "provenance": [],
      "collapsed_sections": [],
      "toc_visible": true,
      "machine_shape": "hm",
      "include_colab_link": true
    },
    "kernelspec": {
      "display_name": "Python 3",
      "language": "python",
      "name": "python3"
    },
    "language_info": {
      "codemirror_mode": {
        "name": "ipython",
        "version": 3
      },
      "file_extension": ".py",
      "mimetype": "text/x-python",
      "name": "python",
      "nbconvert_exporter": "python",
      "pygments_lexer": "ipython3",
      "version": "3.7.7"
    },
    "varInspector": {
      "cols": {
        "lenName": 16,
        "lenType": 16,
        "lenVar": 40
      },
      "kernels_config": {
        "python": {
          "delete_cmd_postfix": "",
          "delete_cmd_prefix": "del ",
          "library": "var_list.py",
          "varRefreshCmd": "print(var_dic_list())"
        },
        "r": {
          "delete_cmd_postfix": ") ",
          "delete_cmd_prefix": "rm(",
          "library": "var_list.r",
          "varRefreshCmd": "cat(var_dic_list()) "
        }
      },
      "types_to_exclude": [
        "module",
        "function",
        "builtin_function_or_method",
        "instance",
        "_Feature"
      ],
      "window_display": false
    },
    "widgets": {
      "application/vnd.jupyter.widget-state+json": {
        "28e6f5322de54502a161e726242c7613": {
          "model_module": "@jupyter-widgets/controls",
          "model_name": "HBoxModel",
          "state": {
            "_view_name": "HBoxView",
            "_dom_classes": [],
            "_model_name": "HBoxModel",
            "_view_module": "@jupyter-widgets/controls",
            "_model_module_version": "1.5.0",
            "_view_count": null,
            "_view_module_version": "1.5.0",
            "box_style": "",
            "layout": "IPY_MODEL_b2e09d963252459cbe8ecbb87d6d4922",
            "_model_module": "@jupyter-widgets/controls",
            "children": [
              "IPY_MODEL_2f54a184a0904b3b8a7f66eb280d7690",
              "IPY_MODEL_a3d5214231da41eab37c9e67373625af"
            ]
          }
        },
        "b2e09d963252459cbe8ecbb87d6d4922": {
          "model_module": "@jupyter-widgets/base",
          "model_name": "LayoutModel",
          "state": {
            "_view_name": "LayoutView",
            "grid_template_rows": null,
            "right": null,
            "justify_content": null,
            "_view_module": "@jupyter-widgets/base",
            "overflow": null,
            "_model_module_version": "1.2.0",
            "_view_count": null,
            "flex_flow": null,
            "width": null,
            "min_width": null,
            "border": null,
            "align_items": null,
            "bottom": null,
            "_model_module": "@jupyter-widgets/base",
            "top": null,
            "grid_column": null,
            "overflow_y": null,
            "overflow_x": null,
            "grid_auto_flow": null,
            "grid_area": null,
            "grid_template_columns": null,
            "flex": null,
            "_model_name": "LayoutModel",
            "justify_items": null,
            "grid_row": null,
            "max_height": null,
            "align_content": null,
            "visibility": null,
            "align_self": null,
            "height": null,
            "min_height": null,
            "padding": null,
            "grid_auto_rows": null,
            "grid_gap": null,
            "max_width": null,
            "order": null,
            "_view_module_version": "1.2.0",
            "grid_template_areas": null,
            "object_position": null,
            "object_fit": null,
            "grid_auto_columns": null,
            "margin": null,
            "display": null,
            "left": null
          }
        },
        "2f54a184a0904b3b8a7f66eb280d7690": {
          "model_module": "@jupyter-widgets/controls",
          "model_name": "FloatProgressModel",
          "state": {
            "_view_name": "ProgressView",
            "style": "IPY_MODEL_9754641271cc4e119c1882825a34a80d",
            "_dom_classes": [],
            "description": "100%",
            "_model_name": "FloatProgressModel",
            "bar_style": "success",
            "max": 87306240,
            "_view_module": "@jupyter-widgets/controls",
            "_model_module_version": "1.5.0",
            "value": 87306240,
            "_view_count": null,
            "_view_module_version": "1.5.0",
            "orientation": "horizontal",
            "min": 0,
            "description_tooltip": null,
            "_model_module": "@jupyter-widgets/controls",
            "layout": "IPY_MODEL_38a676cb752c4043b18622eef35e1322"
          }
        },
        "a3d5214231da41eab37c9e67373625af": {
          "model_module": "@jupyter-widgets/controls",
          "model_name": "HTMLModel",
          "state": {
            "_view_name": "HTMLView",
            "style": "IPY_MODEL_54279a9a4719439eace4043edeff6fa1",
            "_dom_classes": [],
            "description": "",
            "_model_name": "HTMLModel",
            "placeholder": "​",
            "_view_module": "@jupyter-widgets/controls",
            "_model_module_version": "1.5.0",
            "value": " 83.3M/83.3M [00:01&lt;00:00, 47.8MB/s]",
            "_view_count": null,
            "_view_module_version": "1.5.0",
            "description_tooltip": null,
            "_model_module": "@jupyter-widgets/controls",
            "layout": "IPY_MODEL_b5314e44351d4011918efa2ae1a8d575"
          }
        },
        "9754641271cc4e119c1882825a34a80d": {
          "model_module": "@jupyter-widgets/controls",
          "model_name": "ProgressStyleModel",
          "state": {
            "_view_name": "StyleView",
            "_model_name": "ProgressStyleModel",
            "description_width": "initial",
            "_view_module": "@jupyter-widgets/base",
            "_model_module_version": "1.5.0",
            "_view_count": null,
            "_view_module_version": "1.2.0",
            "bar_color": null,
            "_model_module": "@jupyter-widgets/controls"
          }
        },
        "38a676cb752c4043b18622eef35e1322": {
          "model_module": "@jupyter-widgets/base",
          "model_name": "LayoutModel",
          "state": {
            "_view_name": "LayoutView",
            "grid_template_rows": null,
            "right": null,
            "justify_content": null,
            "_view_module": "@jupyter-widgets/base",
            "overflow": null,
            "_model_module_version": "1.2.0",
            "_view_count": null,
            "flex_flow": null,
            "width": null,
            "min_width": null,
            "border": null,
            "align_items": null,
            "bottom": null,
            "_model_module": "@jupyter-widgets/base",
            "top": null,
            "grid_column": null,
            "overflow_y": null,
            "overflow_x": null,
            "grid_auto_flow": null,
            "grid_area": null,
            "grid_template_columns": null,
            "flex": null,
            "_model_name": "LayoutModel",
            "justify_items": null,
            "grid_row": null,
            "max_height": null,
            "align_content": null,
            "visibility": null,
            "align_self": null,
            "height": null,
            "min_height": null,
            "padding": null,
            "grid_auto_rows": null,
            "grid_gap": null,
            "max_width": null,
            "order": null,
            "_view_module_version": "1.2.0",
            "grid_template_areas": null,
            "object_position": null,
            "object_fit": null,
            "grid_auto_columns": null,
            "margin": null,
            "display": null,
            "left": null
          }
        },
        "54279a9a4719439eace4043edeff6fa1": {
          "model_module": "@jupyter-widgets/controls",
          "model_name": "DescriptionStyleModel",
          "state": {
            "_view_name": "StyleView",
            "_model_name": "DescriptionStyleModel",
            "description_width": "",
            "_view_module": "@jupyter-widgets/base",
            "_model_module_version": "1.5.0",
            "_view_count": null,
            "_view_module_version": "1.2.0",
            "_model_module": "@jupyter-widgets/controls"
          }
        },
        "b5314e44351d4011918efa2ae1a8d575": {
          "model_module": "@jupyter-widgets/base",
          "model_name": "LayoutModel",
          "state": {
            "_view_name": "LayoutView",
            "grid_template_rows": null,
            "right": null,
            "justify_content": null,
            "_view_module": "@jupyter-widgets/base",
            "overflow": null,
            "_model_module_version": "1.2.0",
            "_view_count": null,
            "flex_flow": null,
            "width": null,
            "min_width": null,
            "border": null,
            "align_items": null,
            "bottom": null,
            "_model_module": "@jupyter-widgets/base",
            "top": null,
            "grid_column": null,
            "overflow_y": null,
            "overflow_x": null,
            "grid_auto_flow": null,
            "grid_area": null,
            "grid_template_columns": null,
            "flex": null,
            "_model_name": "LayoutModel",
            "justify_items": null,
            "grid_row": null,
            "max_height": null,
            "align_content": null,
            "visibility": null,
            "align_self": null,
            "height": null,
            "min_height": null,
            "padding": null,
            "grid_auto_rows": null,
            "grid_gap": null,
            "max_width": null,
            "order": null,
            "_view_module_version": "1.2.0",
            "grid_template_areas": null,
            "object_position": null,
            "object_fit": null,
            "grid_auto_columns": null,
            "margin": null,
            "display": null,
            "left": null
          }
        }
      }
    }
  },
  "cells": [
    {
      "cell_type": "markdown",
      "metadata": {
        "id": "view-in-github",
        "colab_type": "text"
      },
      "source": [
        "<a href=\"https://colab.research.google.com/github/butchland/fastai_xla_extensions/blob/master/explore_nbs/fast_multi_tpu_mnist_benchmark.ipynb\" target=\"_parent\"><img src=\"https://colab.research.google.com/assets/colab-badge.svg\" alt=\"Open In Colab\"/></a>"
      ]
    },
    {
      "cell_type": "markdown",
      "metadata": {
        "id": "C2PC-cDZ3p2e"
      },
      "source": [
        ""
      ]
    },
    {
      "cell_type": "code",
      "metadata": {
        "colab": {
          "base_uri": "https://localhost:8080/"
        },
        "id": "n4xyBxIi9dTK",
        "outputId": "d0697b44-e2f5-4aa1-c928-a5b6b6fedf5f"
      },
      "source": [
        "!pip install -Uqq cloud-tpu-client==0.10 https://storage.googleapis.com/tpu-pytorch/wheels/torch_xla-1.7-cp36-cp36m-linux_x86_64.whl"
      ],
      "execution_count": null,
      "outputs": [
        {
          "output_type": "stream",
          "text": [
            "\u001b[K     |████████████████████████████████| 133.6MB 31kB/s \n",
            "\u001b[K     |████████████████████████████████| 61kB 3.6MB/s \n",
            "\u001b[?25h"
          ],
          "name": "stdout"
        }
      ]
    },
    {
      "cell_type": "code",
      "metadata": {
        "colab": {
          "base_uri": "https://localhost:8080/"
        },
        "id": "lqZuFJ3n9dTN",
        "outputId": "f780ae25-e64f-4b71-9be5-89fb025f880d"
      },
      "source": [
        "# !pip install -Uqq git+https://github.com/fastai/fastai.git \n",
        "!pip install -Uqq fastai --upgrade"
      ],
      "execution_count": null,
      "outputs": [
        {
          "output_type": "stream",
          "text": [
            "\u001b[K     |████████████████████████████████| 194kB 5.9MB/s \n",
            "\u001b[K     |████████████████████████████████| 61kB 5.3MB/s \n",
            "\u001b[?25h"
          ],
          "name": "stdout"
        }
      ]
    },
    {
      "cell_type": "code",
      "metadata": {
        "colab": {
          "base_uri": "https://localhost:8080/"
        },
        "id": "QGUN7cqG9dTO",
        "outputId": "ebeddaf8-f574-447f-df7d-11005acc8c79"
      },
      "source": [
        "!pip install -Uqq git+https://github.com/butchland/fastai_xla_extensions.git"
      ],
      "execution_count": null,
      "outputs": [
        {
          "output_type": "stream",
          "text": [
            "  Building wheel for fastai-xla-extensions (setup.py) ... \u001b[?25l\u001b[?25hdone\n"
          ],
          "name": "stdout"
        }
      ]
    },
    {
      "cell_type": "code",
      "metadata": {
        "colab": {
          "base_uri": "https://localhost:8080/"
        },
        "id": "elUOrJQF9dTP",
        "outputId": "4f8fa945-65aa-49cf-ac24-f9b7a15ec9a4"
      },
      "source": [
        "!pip install -Uqq git+https://github.com/butchland/my_timesaver_utils.git"
      ],
      "execution_count": null,
      "outputs": [
        {
          "output_type": "stream",
          "text": [
            "  Building wheel for my-timesaver-utils (setup.py) ... \u001b[?25l\u001b[?25hdone\n"
          ],
          "name": "stdout"
        }
      ]
    },
    {
      "cell_type": "code",
      "metadata": {
        "colab": {
          "base_uri": "https://localhost:8080/"
        },
        "id": "R4mzJMnU9dTQ",
        "outputId": "cdbb5355-e83a-48de-eb26-b46cdcecd2a5"
      },
      "source": [
        "!curl -s https://course19.fast.ai/setup/colab | bash"
      ],
      "execution_count": null,
      "outputs": [
        {
          "output_type": "stream",
          "text": [
            "Updating fastai...\n",
            "Done.\n"
          ],
          "name": "stdout"
        }
      ]
    },
    {
      "cell_type": "code",
      "metadata": {
        "colab": {
          "base_uri": "https://localhost:8080/"
        },
        "id": "v8vjbWmD9dTQ",
        "outputId": "c8f82414-4f5f-4637-8046-6d3dca038ec0"
      },
      "source": [
        "!pip freeze | grep torch\n",
        "!pip freeze | grep fast"
      ],
      "execution_count": null,
      "outputs": [
        {
          "output_type": "stream",
          "text": [
            "torch==1.7.0+cu101\n",
            "torch-xla==1.7\n",
            "torchsummary==1.5.1\n",
            "torchtext==0.3.1\n",
            "torchvision==0.8.1+cu101\n",
            "fastai==2.2.5\n",
            "fastai-xla-extensions==0.0.7\n",
            "fastcore==1.3.19\n",
            "fastdtw==0.3.4\n",
            "fastprogress==1.0.0\n",
            "fastrlock==0.5\n"
          ],
          "name": "stdout"
        }
      ]
    },
    {
      "cell_type": "markdown",
      "metadata": {
        "id": "MawQvRseK_BS"
      },
      "source": [
        "Start of kernel"
      ]
    },
    {
      "cell_type": "code",
      "metadata": {
        "id": "DAcs6M3pEIDg",
        "colab": {
          "base_uri": "https://localhost:8080/"
        },
        "outputId": "6f7e8000-8438-4201-cc41-014e29856663"
      },
      "source": [
        "from fastai.vision.all import *\n",
        "from fastai_xla_extensions.multi_core import *\n",
        "import torch_xla.core.xla_model as xm\n",
        "import torch_xla.distributed.xla_multiprocessing as xmp\n",
        "from my_timesaver_utils.profiling import *\n",
        "import torch"
      ],
      "execution_count": null,
      "outputs": [
        {
          "output_type": "stream",
          "text": [
            "WARNING:root:Waiting for TPU to be start up with version pytorch-1.7...\n",
            "WARNING:root:Waiting for TPU to be start up with version pytorch-1.7...\n",
            "WARNING:root:TPU has started up successfully with version pytorch-1.7\n"
          ],
          "name": "stderr"
        }
      ]
    },
    {
      "cell_type": "code",
      "metadata": {
        "id": "GR2ErMMVEeuS"
      },
      "source": [
        "FLAGS = {}\n",
        "FLAGS['num_cores'] = 8 if os.environ.get('TPU_NAME', False) else 1\n",
        "FLAGS['sync_valid'] = True\n",
        "FLAGS['batch_size'] = 256\n",
        "FLAGS['image_size'] = 28\n",
        "FLAGS['momentum'] = (0.95,0.85,0.95)\n",
        "FLAGS['weight_decay'] = None\n",
        "FLAGS['learning_rate'] = 2e-3\n",
        "FLAGS['num_epochs'] = 5\n",
        "FLAGS['num_workers'] = 4\n"
      ],
      "execution_count": null,
      "outputs": []
    },
    {
      "cell_type": "code",
      "metadata": {
        "id": "xSoCNoQAv2ZK"
      },
      "source": [
        "ARCH = resnet34"
      ],
      "execution_count": null,
      "outputs": []
    },
    {
      "cell_type": "code",
      "metadata": {
        "id": "zln7Ka_VEQBC",
        "colab": {
          "base_uri": "https://localhost:8080/",
          "height": 17
        },
        "outputId": "9b1802ca-e985-4fac-cde0-b5d12388184c"
      },
      "source": [
        "PATH = untar_data(URLs.MNIST)"
      ],
      "execution_count": null,
      "outputs": [
        {
          "output_type": "display_data",
          "data": {
            "text/html": [
              ""
            ],
            "text/plain": [
              "<IPython.core.display.HTML object>"
            ]
          },
          "metadata": {
            "tags": []
          }
        }
      ]
    },
    {
      "cell_type": "code",
      "metadata": {
        "id": "kfyu_W3YPuEq"
      },
      "source": [
        "fname_labeller = parent_label \n",
        "# fname_labeller(get_image_files(PATH)[0]) # trigger regex compilation of pat\n"
      ],
      "execution_count": null,
      "outputs": []
    },
    {
      "cell_type": "code",
      "metadata": {
        "id": "D7g01L6dtB6_"
      },
      "source": [
        "splitter = GrandparentSplitter(train_name='training', valid_name='testing')"
      ],
      "execution_count": null,
      "outputs": []
    },
    {
      "cell_type": "code",
      "metadata": {
        "id": "tJMnxn-hRkPz"
      },
      "source": [
        "\n",
        "DATA = DataBlock(\n",
        "    blocks=(ImageBlock,CategoryBlock),\n",
        "    get_items=get_image_files,\n",
        "    get_y=fname_labeller,\n",
        "    splitter=splitter,\n",
        "    item_tfms=Resize(FLAGS['image_size']),\n",
        "    batch_tfms=[]\n",
        ")"
      ],
      "execution_count": null,
      "outputs": []
    },
    {
      "cell_type": "code",
      "metadata": {
        "id": "3Uqbu2rUiHWD"
      },
      "source": [
        "DLS = DATA.dataloaders(PATH, bs=FLAGS['batch_size'], device=None)\n",
        "vocab = CategoryMap(get_image_files(PATH).map(fname_labeller))\n",
        "N_OUT = len(vocab)"
      ],
      "execution_count": null,
      "outputs": []
    },
    {
      "cell_type": "code",
      "metadata": {
        "id": "8VRBvZzRz59b"
      },
      "source": [
        "import torchvision as thv\n",
        "pil2tensor = thv.transforms.ToTensor()\n",
        "resize_tfm = thv.transforms.Resize((FLAGS['image_size'],FLAGS['image_size']))\n",
        "norm = thv.transforms.Normalize(mean=(0.4914, 0.4822, 0.4465), std=(0.2023, 0.1994, 0.2010))\n",
        "x_tfms=[resize_tfm,pil2tensor,norm,], \n",
        "y_tfms=[fname_labeller,VocabularyMapper(),],\n",
        "\n",
        "\n",
        "DSET_BUILDER = TorchDatasetBuilder(\n",
        "    PATH, \n",
        "    get_items=get_image_files, \n",
        "    splitter=splitter,\n",
        "    x_tfms=x_tfms,\n",
        "    y_tfms=y_tfms,\n",
        "    x_type_tfms=PILImage.create,\n",
        ")\n"
      ],
      "execution_count": null,
      "outputs": []
    },
    {
      "cell_type": "code",
      "metadata": {
        "id": "nTMoE0Vn5o3c"
      },
      "source": [
        "DSET_BUILDER.x_tfms = DSET_BUILDER.x_tfms[0]"
      ],
      "execution_count": null,
      "outputs": []
    },
    {
      "cell_type": "code",
      "metadata": {
        "id": "ls-PiNnx629u"
      },
      "source": [
        "DSET_BUILDER.y_tfms = DSET_BUILDER.y_tfms[0]"
      ],
      "execution_count": null,
      "outputs": []
    },
    {
      "cell_type": "code",
      "metadata": {
        "id": "EPkx0Brm7DNI"
      },
      "source": [
        "\n",
        "DSET_BUILDER.setup(get_image_files(PATH),do_setup=True)\n",
        "# DSETS = DSET_BUILDER.get_datasets()"
      ],
      "execution_count": null,
      "outputs": []
    },
    {
      "cell_type": "code",
      "metadata": {
        "id": "sJgZAlUD5Sqz"
      },
      "source": [
        "# DSETS = DSET_BUILDER.get_datasets()"
      ],
      "execution_count": null,
      "outputs": []
    },
    {
      "cell_type": "code",
      "metadata": {
        "colab": {
          "base_uri": "https://localhost:8080/"
        },
        "id": "QJGDhh355aas",
        "outputId": "f595ad45-6883-426a-e3ba-4896d42cbaee"
      },
      "source": [
        "DSET_BUILDER.x_tfms"
      ],
      "execution_count": null,
      "outputs": [
        {
          "output_type": "execute_result",
          "data": {
            "text/plain": [
              "[Resize(size=(28, 28), interpolation=PIL.Image.BILINEAR),\n",
              " ToTensor(),\n",
              " Normalize(mean=(0.4914, 0.4822, 0.4465), std=(0.2023, 0.1994, 0.201))]"
            ]
          },
          "metadata": {
            "tags": []
          },
          "execution_count": 20
        }
      ]
    },
    {
      "cell_type": "code",
      "metadata": {
        "colab": {
          "base_uri": "https://localhost:8080/"
        },
        "id": "XjcrvYLb7O7N",
        "outputId": "fc178a33-97c2-4bf9-9be0-94e5ca200cb2"
      },
      "source": [
        "DSET_BUILDER.y_tfms"
      ],
      "execution_count": null,
      "outputs": [
        {
          "output_type": "execute_result",
          "data": {
            "text/plain": [
              "[<function fastai.data.transforms.parent_label>,\n",
              " <fastai_xla_extensions.multi_core.VocabularyMapper at 0x7f886362bba8>]"
            ]
          },
          "metadata": {
            "tags": []
          },
          "execution_count": 21
        }
      ]
    },
    {
      "cell_type": "code",
      "metadata": {
        "colab": {
          "base_uri": "https://localhost:8080/"
        },
        "id": "vSXtzPIK56vd",
        "outputId": "11b6e86e-4d88-4331-8cf6-7c5c3faf187e"
      },
      "source": [
        "len(DSET_BUILDER.y_tfms)"
      ],
      "execution_count": null,
      "outputs": [
        {
          "output_type": "execute_result",
          "data": {
            "text/plain": [
              "2"
            ]
          },
          "metadata": {
            "tags": []
          },
          "execution_count": 22
        }
      ]
    },
    {
      "cell_type": "code",
      "metadata": {
        "colab": {
          "base_uri": "https://localhost:8080/"
        },
        "id": "tins48U57X48",
        "outputId": "c358b6f2-f29a-4fab-a345-a235cc075bd7"
      },
      "source": [
        "DSET_BUILDER.y_tfms[1].vocab"
      ],
      "execution_count": null,
      "outputs": [
        {
          "output_type": "execute_result",
          "data": {
            "text/plain": [
              "['0', '1', '2', '3', '4', '5', '6', '7', '8', '9']"
            ]
          },
          "metadata": {
            "tags": []
          },
          "execution_count": 23
        }
      ]
    },
    {
      "cell_type": "code",
      "metadata": {
        "id": "AePkq-vxvZO3",
        "colab": {
          "base_uri": "https://localhost:8080/",
          "height": 104,
          "referenced_widgets": [
            "28e6f5322de54502a161e726242c7613",
            "b2e09d963252459cbe8ecbb87d6d4922",
            "2f54a184a0904b3b8a7f66eb280d7690",
            "a3d5214231da41eab37c9e67373625af",
            "9754641271cc4e119c1882825a34a80d",
            "38a676cb752c4043b18622eef35e1322",
            "54279a9a4719439eace4043edeff6fa1",
            "b5314e44351d4011918efa2ae1a8d575"
          ]
        },
        "outputId": "4b03283b-ddcd-4697-ae4c-a106e5f5696a"
      },
      "source": [
        "custom_model = create_cnn_model(ARCH, N_OUT, pretrained=True, concat_pool=False)"
      ],
      "execution_count": null,
      "outputs": [
        {
          "output_type": "stream",
          "text": [
            "Downloading: \"https://download.pytorch.org/models/resnet34-333f7ec4.pth\" to /root/.cache/torch/hub/checkpoints/resnet34-333f7ec4.pth\n"
          ],
          "name": "stderr"
        },
        {
          "output_type": "display_data",
          "data": {
            "application/vnd.jupyter.widget-view+json": {
              "model_id": "28e6f5322de54502a161e726242c7613",
              "version_minor": 0,
              "version_major": 2
            },
            "text/plain": [
              "HBox(children=(FloatProgress(value=0.0, max=87306240.0), HTML(value='')))"
            ]
          },
          "metadata": {
            "tags": []
          }
        },
        {
          "output_type": "stream",
          "text": [
            "\n"
          ],
          "name": "stdout"
        }
      ]
    },
    {
      "cell_type": "code",
      "metadata": {
        "id": "0b2Ylrv8vqF3"
      },
      "source": [
        "WRAPPED_MODEL = xmp.MpModelWrapper(custom_model)"
      ],
      "execution_count": null,
      "outputs": []
    },
    {
      "cell_type": "code",
      "metadata": {
        "id": "kGZ1VOZozMzr"
      },
      "source": [
        "LOSS_FUNC = nn.CrossEntropyLoss()\n",
        "OPT_FUNC = Adam"
      ],
      "execution_count": null,
      "outputs": []
    },
    {
      "cell_type": "code",
      "metadata": {
        "id": "ANJKgFOJF_VN"
      },
      "source": [
        "def run_simple(rank, flags):\n",
        "    device = xm.xla_device()\n",
        "    # print(f'xla: {rank} device: {device}')\n",
        "    tlist = []\n",
        "    for i in range(5):\n",
        "        t1 = torch.tensor(rank).float()\n",
        "        t1 = t1.to(device)\n",
        "        tlist.append(t1 * (i+1.))\n",
        "    print(f'xla: {rank} t1 {t1.clone().detach().item()} device: {t1.device}')\n",
        "    tlist2 = xm.all_reduce(xm.REDUCE_SUM,tlist)\n",
        "    ptlist2 = [t.clone().detach().item() for t in tlist2]\n",
        "    print(f'xla:{rank} ptlist2: {ptlist2}')\n"
      ],
      "execution_count": null,
      "outputs": []
    },
    {
      "cell_type": "markdown",
      "metadata": {
        "id": "_4qNcNHwtXZE"
      },
      "source": [
        ""
      ]
    },
    {
      "cell_type": "code",
      "metadata": {
        "id": "TdAhnkIttaj3"
      },
      "source": [
        "def time_train_model(rank, flags):\n",
        "    print(f'xla: {rank} start time train model')\n",
        "    device = xm.xla_device()\n",
        "    world_size = xm.xrt_world_size()\n",
        "    bs = flags['batch_size']\n",
        "    sync_valid = flags['sync_valid']\n",
        "    num_workers = flags['num_workers']\n",
        "    t1 = torch.tensor(rank).float()\n",
        "    t1 = t1.to(device)  \n",
        "    # print(f'xla: {rank} t1 {t1.clone().detach().item()} device: {t1.device}')\n",
        "\n",
        "    dload_rec = f'make_dload{rank}'\n",
        "    start_record(dload_rec)\n",
        "    # dls = DATA.dataloaders(PATH, bs=bs)\n",
        "    dsets = DSET_BUILDER.get_datasets()\n",
        "    dls = make_torch_dataloaders(\n",
        "        *dsets,\n",
        "        rank,\n",
        "        world_size,\n",
        "        bs=bs,\n",
        "        num_workers=num_workers,\n",
        "        sync_valid=sync_valid\n",
        "    )\n",
        "    # dls = make_distributed_dataloaders(DLS, rank, world_size, sync_valid=sync_valid)\n",
        "    # make_distributed_dataloaders(dls, rank, world_size, sync_valid=False):\n",
        "    # dls = make_fastai_dataloaders(DATA,PATH, rank, world_size, bs=bs, sync_valid=FLAGS['sync_valid'])\n",
        "    # make_fastai_dataloaders(datablock, source, rank, world_size, device=None, path='.', sync_valid=False, verbose=False,**kwargs):\n",
        "    end_record(dload_rec)\n",
        "    print_prof_data(dload_rec)\n",
        "\n",
        "    dload_rec2 = f'build_learner{rank}'\n",
        "    start_record(dload_rec2)\n",
        "    model = WRAPPED_MODEL.to(device)\n",
        "    moms = flags['momentum']\n",
        "    wd = flags['weight_decay']\n",
        "    learner = Learner(dls, model, loss_func=LOSS_FUNC, opt_func=OPT_FUNC,\n",
        "                      metrics=accuracy, wd=wd, moms=moms)\n",
        "    learner.to_xla(device, rank, sync_valid=sync_valid)\n",
        "    end_record(dload_rec2)\n",
        "    print_prof_data(dload_rec2)\n",
        "\n",
        "    dload_rec3 = f'fit_learner{rank}'\n",
        "    start_record(dload_rec3)\n",
        "\n",
        "    epochs = flags['num_epochs']\n",
        "    lr_max = flags['learning_rate']\n",
        "    learner.fit_one_cycle(epochs, lr_max=lr_max)\n",
        "\n",
        "    end_record(dload_rec3)\n",
        "    print_prof_data(dload_rec3)\n",
        "\n",
        "    t2 = xm.all_reduce(xm.REDUCE_SUM,t1)\n",
        "    t3 = t2.clone().detach().item()\n",
        "    # print(f'xla:{rank} t2: {t2.clone().detach().item()}')\n",
        "    xm.mark_step()\n",
        "    print(f'xla: {rank} time train model completed')\n"
      ],
      "execution_count": null,
      "outputs": []
    },
    {
      "cell_type": "code",
      "metadata": {
        "id": "Y6NcRIClPgu7"
      },
      "source": [
        "def time_dataloaders(rank, flags):\n",
        "    print(f'xla: {rank} start time dataloaders')\n",
        "    device = xm.xla_device()\n",
        "    world_size = xm.xrt_world_size()\n",
        "    bs = flags['batch_size']\n",
        "    sync_valid = flags['sync_valid']\n",
        "\n",
        "    t1 = torch.tensor(rank).float()\n",
        "    t1 = t1.to(device)  \n",
        "    dload_rec = f'make_dload{rank}'\n",
        "    start_record(dload_rec)\n",
        "    # dls = DATA.dataloaders(PATH, bs=bs)\n",
        "    dls = make_fastai_dataloaders(DATA,PATH, rank, world_size, bs=bs, sync_valid=FLAGS['sync_valid'])\n",
        "    # make_fastai_dataloaders(datablock, source, rank, world_size, device=None, path='.', sync_valid=False, verbose=False,**kwargs):\n",
        "    end_record(dload_rec)\n",
        "    print_prof_data(dload_rec)\n",
        "\n",
        "    # dload_rec2 = f'make_distrib_dload{rank}'\n",
        "    # start_record(dload_rec2)\n",
        "    # dls = make_distributed_dataloaders(DLS, rank, world_size, sync_valid=sync_valid)\n",
        "    # print(f'xla: {rank} t1 {t1.clone().detach().item()} device: {t1.device}')\n",
        "    # end_record(dload_rec2)\n",
        "    # print_prof_data(dload_rec2)\n",
        "    t2 = xm.all_reduce(xm.REDUCE_SUM,t1)\n",
        "    t3 = t2.clone().detach().item()\n",
        "    # print(f'xla:{rank} t2: {t2.clone().detach().item()}')\n",
        "    xm.mark_step()\n",
        "    print(f'xla: {rank} time dataloaders completed')\n"
      ],
      "execution_count": null,
      "outputs": []
    },
    {
      "cell_type": "code",
      "metadata": {
        "id": "ufdzKev9FqS3",
        "colab": {
          "base_uri": "https://localhost:8080/",
          "height": 1000
        },
        "outputId": "c97f69bd-a736-4d4d-e6d8-977d6d4a2018"
      },
      "source": [
        "%%time\n",
        "xmp.spawn(time_train_model, \n",
        "          args=(FLAGS,),\n",
        "          nprocs=FLAGS['num_cores'],\n",
        "          start_method='fork')"
      ],
      "execution_count": null,
      "outputs": [
        {
          "output_type": "stream",
          "text": [
            "xla: 0 start time train model\n",
            "xla: 4 start time train model\n",
            "xla: 5 start time train model\n",
            "Function make_dload0 called 1 times.\n",
            "Execution time max: 1.977, average: 1.977\n",
            "Function make_dload4 called 1 times.\n",
            "Execution time max: 1.962, average: 1.962\n",
            "Function make_dload5 called 1 times.\n",
            "Execution time max: 1.961, average: 1.961\n",
            "Function build_learner0 called 1 times.\n",
            "Execution time max: 1.416, average: 1.416\n",
            "start fit\n"
          ],
          "name": "stdout"
        },
        {
          "output_type": "display_data",
          "data": {
            "text/html": [
              "<table border=\"1\" class=\"dataframe\">\n",
              "  <thead>\n",
              "    <tr style=\"text-align: left;\">\n",
              "      <th>epoch</th>\n",
              "      <th>train_loss</th>\n",
              "      <th>valid_loss</th>\n",
              "      <th>accuracy</th>\n",
              "      <th>time</th>\n",
              "    </tr>\n",
              "  </thead>\n",
              "  <tbody>\n",
              "    <tr>\n",
              "      <td>0</td>\n",
              "      <td>0.327332</td>\n",
              "      <td>0.132322</td>\n",
              "      <td>0.968872</td>\n",
              "      <td>00:44</td>\n",
              "    </tr>\n",
              "    <tr>\n",
              "      <td>1</td>\n",
              "      <td>0.207357</td>\n",
              "      <td>0.026093</td>\n",
              "      <td>0.991943</td>\n",
              "      <td>00:24</td>\n",
              "    </tr>\n",
              "    <tr>\n",
              "      <td>2</td>\n",
              "      <td>0.127972</td>\n",
              "      <td>0.024927</td>\n",
              "      <td>0.991943</td>\n",
              "      <td>00:08</td>\n",
              "    </tr>\n",
              "    <tr>\n",
              "      <td>3</td>\n",
              "      <td>0.076895</td>\n",
              "      <td>0.017891</td>\n",
              "      <td>0.994873</td>\n",
              "      <td>00:08</td>\n",
              "    </tr>\n",
              "    <tr>\n",
              "      <td>4</td>\n",
              "      <td>0.047691</td>\n",
              "      <td>0.017472</td>\n",
              "      <td>0.994507</td>\n",
              "      <td>00:07</td>\n",
              "    </tr>\n",
              "  </tbody>\n",
              "</table>"
            ],
            "text/plain": [
              "<IPython.core.display.HTML object>"
            ]
          },
          "metadata": {
            "tags": []
          }
        },
        {
          "output_type": "stream",
          "text": [
            "Function build_learner4 called 1 times.\n",
            "Execution time max: 2.739, average: 2.739\n",
            "xla: 2 start time train model\n",
            "Function build_learner5 called 1 times.\n",
            "Execution time max: 3.934, average: 3.934\n",
            "xla: 6 start time train model\n",
            "xla: 1 start time train model\n",
            "xla: 3 start time train model\n",
            "xla: 7 start time train model\n",
            "Function make_dload2 called 1 times.\n",
            "Execution time max: 1.991, average: 1.991\n",
            "Function make_dload6 called 1 times.\n",
            "Execution time max: 2.038, average: 2.038\n",
            "Function make_dload1 called 1 times.\n",
            "Execution time max: 2.013, average: 2.013\n",
            "Function make_dload3 called 1 times.\n",
            "Execution time max: 1.984, average: 1.984\n",
            "Function make_dload7 called 1 times.\n",
            "Execution time max: 1.993, average: 1.993\n",
            "Function build_learner2 called 1 times.\n",
            "Execution time max: 1.440, average: 1.440\n",
            "Function build_learner6 called 1 times.\n",
            "Execution time max: 2.452, average: 2.452\n",
            "Function build_learner1 called 1 times.\n",
            "Execution time max: 3.746, average: 3.746\n",
            "Function build_learner3 called 1 times.\n",
            "Execution time max: 5.126, average: 5.126\n",
            "Function build_learner7 called 1 times.\n",
            "Execution time max: 6.168, average: 6.168\n",
            "Function fit_learner2 called 1 times.\n",
            "Function fit_learner3 called 1 times.\n",
            "Function fit_learner4 called 1 times.\n",
            "Function fit_learner1 called 1 times.\n",
            "Function fit_learner6 called 1 times.\n",
            "Function fit_learner5 called 1 times.\n",
            "Function fit_learner7 called 1 times.\n",
            "Execution time max: 83.111, average: 83.111\n",
            "Execution time max: 92.387, average: 92.387\n",
            "Execution time max: 87.750, average: 87.750\n",
            "Execution time max: 84.617, average: 84.617\n",
            "Execution time max: 90.795, average: 90.795\n",
            "Execution time max: 81.619, average: 81.619\n",
            "Execution time max: 86.189, average: 86.189\n",
            "Function fit_learner0 called 1 times.\n",
            "Execution time max: 93.973, average: 93.973\n",
            "xla: 2 time train model completed\n",
            "xla: 6 time train model completed\n",
            "xla: 5 time train model completed\n",
            "xla: 1 time train model completed\n",
            "xla: 4 time train model completed\n",
            "xla: 3 time train model completed\n",
            "xla: 7 time train model completed\n",
            "xla: 0 time train model completed\n",
            "CPU times: user 141 ms, sys: 150 ms, total: 291 ms\n",
            "Wall time: 1min 47s\n"
          ],
          "name": "stdout"
        }
      ]
    },
    {
      "cell_type": "code",
      "metadata": {
        "id": "hbXiIIVFLn6P"
      },
      "source": [
        ""
      ],
      "execution_count": null,
      "outputs": []
    },
    {
      "cell_type": "markdown",
      "metadata": {
        "id": "pXBIb8kF3pYh"
      },
      "source": [
        ""
      ]
    },
    {
      "cell_type": "code",
      "metadata": {
        "id": "NZ1pzDAR3RIo"
      },
      "source": [
        ""
      ],
      "execution_count": null,
      "outputs": []
    }
  ]
}