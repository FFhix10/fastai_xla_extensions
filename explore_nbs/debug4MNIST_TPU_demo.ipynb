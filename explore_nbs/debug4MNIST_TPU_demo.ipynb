{
  "nbformat": 4,
  "nbformat_minor": 0,
  "metadata": {
    "kernelspec": {
      "display_name": "Python 3",
      "language": "python",
      "name": "python3"
    },
    "colab": {
      "name": "debug4MNIST_TPU_demo.ipynb",
      "provenance": [],
      "collapsed_sections": [],
      "toc_visible": true,
      "include_colab_link": true
    },
    "accelerator": "TPU"
  },
  "cells": [
    {
      "cell_type": "markdown",
      "metadata": {
        "id": "view-in-github",
        "colab_type": "text"
      },
      "source": [
        "<a href=\"https://colab.research.google.com/github/butchland/fastai_xla_extensions/blob/master/explore_nbs/debug4MNIST_TPU_demo.ipynb\" target=\"_parent\"><img src=\"https://colab.research.google.com/assets/colab-badge.svg\" alt=\"Open In Colab\"/></a>"
      ]
    },
    {
      "cell_type": "markdown",
      "metadata": {
        "id": "7lDQKIEBHMbN",
        "colab_type": "text"
      },
      "source": [
        "# FastAI XLA Extensions MNIST Demo\n",
        "\n",
        "* updating pytorch xla install to use Pytorch XLA 1.6 release (official)\n",
        "* update to use fastai to 2.0.0 and fastcore 1.0.0\n",
        "since pytorch xla 1.6 install is not working with old version of fastai and fastcore\n",
        "* update to use full MNIST \n",
        "* using `pretrained = False` \n",
        "* using `lr_find` with `lr_max=slice(0.00048, 0.012)`\n",
        "* trained to `accuracy` of `99.54` percent after `10 epochs`"
      ]
    },
    {
      "cell_type": "code",
      "metadata": {
        "id": "d_0If38OHMbr",
        "colab_type": "code",
        "colab": {}
      },
      "source": [
        "#hide_input\n",
        "#colab\n",
        "import os\n",
        "assert os.environ['COLAB_TPU_ADDR'], 'Make sure to select TPU from Edit > Notebook settings > Hardware accelerator'"
      ],
      "execution_count": 1,
      "outputs": []
    },
    {
      "cell_type": "code",
      "metadata": {
        "id": "6UVX0iopHMbx",
        "colab_type": "code",
        "colab": {
          "base_uri": "https://localhost:8080/",
          "height": 52
        },
        "outputId": "c00357b8-98be-462b-8ac7-857dec2d6318"
      },
      "source": [
        "#hide\n",
        "#colab\n",
        "!curl -s https://course19.fast.ai/setup/colab | bash "
      ],
      "execution_count": 2,
      "outputs": [
        {
          "output_type": "stream",
          "text": [
            "Updating fastai...\n",
            "Done.\n"
          ],
          "name": "stdout"
        }
      ]
    },
    {
      "cell_type": "markdown",
      "metadata": {
        "id": "29dsMCEVHMb_",
        "colab_type": "text"
      },
      "source": [
        "Install fastai2 and the fastai_xla_extensions packages"
      ]
    },
    {
      "cell_type": "code",
      "metadata": {
        "id": "ZbPDbj0oaBoO",
        "colab_type": "code",
        "colab": {}
      },
      "source": [
        "!pip install -Uqq fastcore==1.0.0"
      ],
      "execution_count": 3,
      "outputs": []
    },
    {
      "cell_type": "markdown",
      "metadata": {
        "id": "Rbng48pGg3JO",
        "colab_type": "text"
      },
      "source": [
        ""
      ]
    },
    {
      "cell_type": "code",
      "metadata": {
        "id": "SDUSw4PFHMcA",
        "colab_type": "code",
        "colab": {}
      },
      "source": [
        "#hide_output\n",
        "#colab\n",
        "!pip install -Uqq fastai==2.0.0"
      ],
      "execution_count": 4,
      "outputs": []
    },
    {
      "cell_type": "code",
      "metadata": {
        "id": "qsnrEAeiHMcG",
        "colab_type": "code",
        "colab": {
          "base_uri": "https://localhost:8080/",
          "height": 34
        },
        "outputId": "c55ae2c4-2a56-4c0b-84a1-f222b49389dc"
      },
      "source": [
        "#hide_output\n",
        "#ci\n",
        "!pip install -Uqq  git+https://github.com/butchland/fastai_xla_extensions.git"
      ],
      "execution_count": 5,
      "outputs": [
        {
          "output_type": "stream",
          "text": [
            "  Building wheel for fastai-xla-extensions (setup.py) ... \u001b[?25l\u001b[?25hdone\n"
          ],
          "name": "stdout"
        }
      ]
    },
    {
      "cell_type": "code",
      "metadata": {
        "id": "J7qmQZOR3vvH",
        "colab_type": "code",
        "colab": {
          "base_uri": "https://localhost:8080/",
          "height": 52
        },
        "outputId": "c616fba1-1f6e-433d-a2eb-bd5998e83f01"
      },
      "source": [
        "!pip install -Uqq cloud-tpu-client==0.10 https://storage.googleapis.com/tpu-pytorch/wheels/torch_xla-1.6-cp36-cp36m-linux_x86_64.whl"
      ],
      "execution_count": 6,
      "outputs": [
        {
          "output_type": "stream",
          "text": [
            "\u001b[K     |████████████████████████████████| 131.2MB 79kB/s \n",
            "\u001b[K     |████████████████████████████████| 61kB 3.1MB/s \n",
            "\u001b[?25h"
          ],
          "name": "stdout"
        }
      ]
    },
    {
      "cell_type": "code",
      "metadata": {
        "id": "KELFH2r4HMb4",
        "colab_type": "code",
        "colab": {}
      },
      "source": [
        "#hide_output\n",
        "#colab\n",
        "# VERSION = \"20200325\"  #@param [\"1.5\" , \"20200325\", \"nightly\"]\n",
        "# !curl https://raw.githubusercontent.com/pytorch/xla/master/contrib/scripts/env-setup.py -o pytorch-xla-env-setup.py\n",
        "# !python pytorch-xla-env-setup.py --version $VERSION"
      ],
      "execution_count": 7,
      "outputs": []
    },
    {
      "cell_type": "code",
      "metadata": {
        "id": "7TSmVCkWgICi",
        "colab_type": "code",
        "colab": {
          "base_uri": "https://localhost:8080/",
          "height": 173
        },
        "outputId": "f5554897-1699-42e6-d241-d5dda97c263e"
      },
      "source": [
        "!pip freeze | grep torch\n",
        "!pip freeze | grep fastai\n",
        "!pip freeze | grep fastcore\n",
        "!pip freeze | grep fastai-xla-extensions"
      ],
      "execution_count": 8,
      "outputs": [
        {
          "output_type": "stream",
          "text": [
            "torch==1.6.0+cu101\n",
            "torch-xla==1.6\n",
            "torchsummary==1.5.1\n",
            "torchtext==0.3.1\n",
            "torchvision==0.7.0+cu101\n",
            "fastai==2.0.0\n",
            "fastai-xla-extensions==0.0.1\n",
            "fastcore==1.0.0\n",
            "fastai-xla-extensions==0.0.1\n"
          ],
          "name": "stdout"
        }
      ]
    },
    {
      "cell_type": "markdown",
      "metadata": {
        "id": "UcLKp-m0HMcV",
        "colab_type": "text"
      },
      "source": [
        "### Import the libraries\n",
        "Import the fastai2 and fastai_xla_extensions libraries"
      ]
    },
    {
      "cell_type": "code",
      "metadata": {
        "id": "92fL8QUbHMcW",
        "colab_type": "code",
        "colab": {
          "base_uri": "https://localhost:8080/",
          "height": 86
        },
        "outputId": "8c3576ee-e303-4be9-d7a0-cbc9b0b75efa"
      },
      "source": [
        "#colab\n",
        "import fastai_xla_extensions.core"
      ],
      "execution_count": 9,
      "outputs": [
        {
          "output_type": "stream",
          "text": [
            "WARNING:root:Waiting for TPU to be start up with version pytorch-1.6...\n",
            "WARNING:root:Waiting for TPU to be start up with version pytorch-1.6...\n",
            "WARNING:root:Waiting for TPU to be start up with version pytorch-1.6...\n",
            "WARNING:root:TPU has started up successfully with version pytorch-1.6\n"
          ],
          "name": "stderr"
        }
      ]
    },
    {
      "cell_type": "markdown",
      "metadata": {
        "id": "gV8_KGVYHMcc",
        "colab_type": "text"
      },
      "source": [
        "**IMPORTANT: Make sure to import fastai_xla_extensions.core BEFORE importing fastai2 libraries** \n",
        "\n",
        "If you don't, fastai2 will not default to use tpu device but will instead use the cpu."
      ]
    },
    {
      "cell_type": "code",
      "metadata": {
        "id": "XkVauzS0HMcd",
        "colab_type": "code",
        "colab": {}
      },
      "source": [
        "from fastai.vision.all import *"
      ],
      "execution_count": 10,
      "outputs": []
    },
    {
      "cell_type": "markdown",
      "metadata": {
        "id": "O-5CdtT2HMcm",
        "colab_type": "text"
      },
      "source": [
        "### Example\n",
        "Build a MNIST classifier -- adapted from fastai course [Lesson 4 notebook](https://github.com/fastai/course-v4/blob/master/nbs/04_mnist_basics.ipynb)"
      ]
    },
    {
      "cell_type": "markdown",
      "metadata": {
        "id": "OI564wSCHMcq",
        "colab_type": "text"
      },
      "source": [
        "Load MNIST dataset "
      ]
    },
    {
      "cell_type": "code",
      "metadata": {
        "id": "f7V3P4bpHMcs",
        "colab_type": "code",
        "colab": {
          "base_uri": "https://localhost:8080/",
          "height": 17
        },
        "outputId": "1ae38e74-d6a6-4ef1-ee0f-8c7d45fc1e05"
      },
      "source": [
        "path = untar_data(URLs.MNIST)"
      ],
      "execution_count": 11,
      "outputs": [
        {
          "output_type": "display_data",
          "data": {
            "text/html": [
              ""
            ],
            "text/plain": [
              "<IPython.core.display.HTML object>"
            ]
          },
          "metadata": {
            "tags": []
          }
        }
      ]
    },
    {
      "cell_type": "code",
      "metadata": {
        "id": "v8DG9UGJHMcz",
        "colab_type": "code",
        "colab": {}
      },
      "source": [
        "#hide\n",
        "Path.BASE_PATH = path"
      ],
      "execution_count": 12,
      "outputs": []
    },
    {
      "cell_type": "code",
      "metadata": {
        "id": "9Ki0w-i2imL2",
        "colab_type": "code",
        "colab": {
          "base_uri": "https://localhost:8080/",
          "height": 34
        },
        "outputId": "b2d392a3-5dee-4918-8161-b05457cc15f0"
      },
      "source": [
        "path.ls()"
      ],
      "execution_count": 13,
      "outputs": [
        {
          "output_type": "execute_result",
          "data": {
            "text/plain": [
              "(#2) [Path('testing'),Path('training')]"
            ]
          },
          "metadata": {
            "tags": []
          },
          "execution_count": 13
        }
      ]
    },
    {
      "cell_type": "markdown",
      "metadata": {
        "id": "5pXtb0u2HMc3",
        "colab_type": "text"
      },
      "source": [
        "Create Fastai DataBlock\n",
        "\n",
        "\n",
        "_Note that batch transforms are currently\n",
        "set to none as they seem to slow the training\n",
        "on the TPU (for investigation)._"
      ]
    },
    {
      "cell_type": "code",
      "metadata": {
        "id": "YspZqFB4HMc5",
        "colab_type": "code",
        "colab": {}
      },
      "source": [
        "datablock = DataBlock(\n",
        "    blocks=(ImageBlock,CategoryBlock),\n",
        "    get_items=get_image_files,\n",
        "    splitter=GrandparentSplitter(train_name='training', valid_name='testing'),\n",
        "    get_y=parent_label,\n",
        "    item_tfms=Resize(28),\n",
        "    batch_tfms=[]\n",
        ")"
      ],
      "execution_count": 14,
      "outputs": []
    },
    {
      "cell_type": "code",
      "metadata": {
        "id": "ybNFQ98YHMc9",
        "colab_type": "code",
        "colab": {
          "base_uri": "https://localhost:8080/",
          "height": 905
        },
        "outputId": "1b5ef6d2-8629-4813-f3dc-a9fcfc49ac7a"
      },
      "source": [
        "#colab\n",
        "datablock.summary(path)"
      ],
      "execution_count": 15,
      "outputs": [
        {
          "output_type": "stream",
          "text": [
            "Setting-up type transforms pipelines\n",
            "Collecting items from /root/.fastai/data/mnist_png\n",
            "Found 70000 items\n",
            "2 datasets of sizes 60000,10000\n",
            "Setting up Pipeline: PILBase.create\n",
            "Setting up Pipeline: parent_label -> Categorize -- {'vocab': None, 'add_na': False}\n",
            "\n",
            "Building one sample\n",
            "  Pipeline: PILBase.create\n",
            "    starting from\n",
            "      /root/.fastai/data/mnist_png/training/7/22955.png\n",
            "    applying PILBase.create gives\n",
            "      PILImage mode=RGB size=28x28\n",
            "  Pipeline: parent_label -> Categorize -- {'vocab': (#10) ['0','1','2','3','4','5','6','7','8','9'], 'add_na': False}\n",
            "    starting from\n",
            "      /root/.fastai/data/mnist_png/training/7/22955.png\n",
            "    applying parent_label gives\n",
            "      7\n",
            "    applying Categorize -- {'vocab': (#10) ['0','1','2','3','4','5','6','7','8','9'], 'add_na': False} gives\n",
            "      TensorCategory(7)\n",
            "\n",
            "Final sample: (PILImage mode=RGB size=28x28, TensorCategory(7))\n",
            "\n",
            "\n",
            "Setting up after_item: Pipeline: Resize -- {'size': (28, 28), 'method': 'crop', 'pad_mode': 'reflection'} -> ToTensor\n",
            "Setting up before_batch: Pipeline: \n",
            "Setting up after_batch: Pipeline: IntToFloatTensor -- {'div': 255.0, 'div_mask': 1}\n",
            "\n",
            "Building one batch\n",
            "Applying item_tfms to the first sample:\n",
            "  Pipeline: Resize -- {'size': (28, 28), 'method': 'crop', 'pad_mode': 'reflection'} -> ToTensor\n",
            "    starting from\n",
            "      (PILImage mode=RGB size=28x28, TensorCategory(7))\n",
            "    applying Resize -- {'size': (28, 28), 'method': 'crop', 'pad_mode': 'reflection'} gives\n",
            "      (PILImage mode=RGB size=28x28, TensorCategory(7))\n",
            "    applying ToTensor gives\n",
            "      (TensorImage of size 3x28x28, TensorCategory(7))\n",
            "\n",
            "Adding the next 3 samples\n",
            "\n",
            "No before_batch transform to apply\n",
            "\n",
            "Collating items in a batch\n",
            "\n",
            "Applying batch_tfms to the batch built\n",
            "  Pipeline: IntToFloatTensor -- {'div': 255.0, 'div_mask': 1}\n",
            "    starting from\n",
            "      (TensorImage of size 4x3x28x28, TensorCategory([7, 7, 7, 7]))\n",
            "    applying IntToFloatTensor -- {'div': 255.0, 'div_mask': 1} gives\n",
            "      (TensorImage of size 4x3x28x28, TensorCategory([7, 7, 7, 7]))\n"
          ],
          "name": "stdout"
        }
      ]
    },
    {
      "cell_type": "markdown",
      "metadata": {
        "id": "GbjmFmFJHMdB",
        "colab_type": "text"
      },
      "source": [
        "Create the dataloader"
      ]
    },
    {
      "cell_type": "code",
      "metadata": {
        "id": "siIb-eqcHMdC",
        "colab_type": "code",
        "colab": {}
      },
      "source": [
        "dls = datablock.dataloaders(path)"
      ],
      "execution_count": 16,
      "outputs": []
    },
    {
      "cell_type": "code",
      "metadata": {
        "id": "euAYHv4zHMdL",
        "colab_type": "code",
        "colab": {
          "base_uri": "https://localhost:8080/",
          "height": 536
        },
        "outputId": "1177f9cc-b334-44cd-8350-28b196de4ad9"
      },
      "source": [
        "#colab\n",
        "dls.show_batch()"
      ],
      "execution_count": 17,
      "outputs": [
        {
          "output_type": "display_data",
          "data": {
            "image/png": "[encoded data removed]",
            "text/plain": [
              "<Figure size 648x648 with 9 Axes>"
            ]
          },
          "metadata": {
            "tags": [],
            "needs_background": "light"
          }
        }
      ]
    },
    {
      "cell_type": "markdown",
      "metadata": {
        "id": "_09Ilvp5HMdP",
        "colab_type": "text"
      },
      "source": [
        "Create a Fastai CNN Learner"
      ]
    },
    {
      "cell_type": "code",
      "metadata": {
        "id": "BG2ew3YfHMdR",
        "colab_type": "code",
        "colab": {}
      },
      "source": [
        "#colab\n",
        "learner = cnn_learner(dls, resnet18, metrics=accuracy, pretrained=False)\n",
        "                      "
      ],
      "execution_count": 18,
      "outputs": []
    },
    {
      "cell_type": "code",
      "metadata": {
        "id": "9y65hL2-olxf",
        "colab_type": "code",
        "colab": {
          "base_uri": "https://localhost:8080/",
          "height": 34
        },
        "outputId": "23509d90-4d18-4f65-80b3-62ed2f2ff7dd"
      },
      "source": [
        "learner.xla_opt"
      ],
      "execution_count": 19,
      "outputs": [
        {
          "output_type": "execute_result",
          "data": {
            "text/plain": [
              "XLAOptCallback"
            ]
          },
          "metadata": {
            "tags": []
          },
          "execution_count": 19
        }
      ]
    },
    {
      "cell_type": "code",
      "metadata": {
        "id": "ZlwrYrbdeCLX",
        "colab_type": "code",
        "colab": {
          "base_uri": "https://localhost:8080/",
          "height": 1000
        },
        "outputId": "138a7b4f-f4a6-4a4c-e0d0-8d1fcaf95ae9"
      },
      "source": [
        "learner.summary()"
      ],
      "execution_count": 20,
      "outputs": [
        {
          "output_type": "display_data",
          "data": {
            "text/html": [
              "<table border=\"1\" class=\"dataframe\">\n",
              "  <thead>\n",
              "    <tr style=\"text-align: left;\">\n",
              "      <th>epoch</th>\n",
              "      <th>train_loss</th>\n",
              "      <th>valid_loss</th>\n",
              "      <th>accuracy</th>\n",
              "      <th>time</th>\n",
              "    </tr>\n",
              "  </thead>\n",
              "  <tbody>\n",
              "    <tr>\n",
              "      <td>0</td>\n",
              "      <td>None</td>\n",
              "      <td>None</td>\n",
              "      <td>00:01</td>\n",
              "    </tr>\n",
              "  </tbody>\n",
              "</table>"
            ],
            "text/plain": [
              "<IPython.core.display.HTML object>"
            ]
          },
          "metadata": {
            "tags": []
          }
        },
        {
          "output_type": "execute_result",
          "data": {
            "application/vnd.google.colaboratory.intrinsic+json": {
              "type": "string"
            },
            "text/plain": [
              "Sequential (Input shape: ['64 x 3 x 28 x 28'])\n",
              "================================================================\n",
              "Layer (type)         Output Shape         Param #    Trainable \n",
              "================================================================\n",
              "Conv2d               64 x 64 x 14 x 14    9,408      True      \n",
              "________________________________________________________________\n",
              "BatchNorm2d          64 x 64 x 14 x 14    128        True      \n",
              "________________________________________________________________\n",
              "ReLU                 64 x 64 x 14 x 14    0          False     \n",
              "________________________________________________________________\n",
              "MaxPool2d            64 x 64 x 7 x 7      0          False     \n",
              "________________________________________________________________\n",
              "Conv2d               64 x 64 x 7 x 7      36,864     True      \n",
              "________________________________________________________________\n",
              "BatchNorm2d          64 x 64 x 7 x 7      128        True      \n",
              "________________________________________________________________\n",
              "ReLU                 64 x 64 x 7 x 7      0          False     \n",
              "________________________________________________________________\n",
              "Conv2d               64 x 64 x 7 x 7      36,864     True      \n",
              "________________________________________________________________\n",
              "BatchNorm2d          64 x 64 x 7 x 7      128        True      \n",
              "________________________________________________________________\n",
              "Conv2d               64 x 64 x 7 x 7      36,864     True      \n",
              "________________________________________________________________\n",
              "BatchNorm2d          64 x 64 x 7 x 7      128        True      \n",
              "________________________________________________________________\n",
              "ReLU                 64 x 64 x 7 x 7      0          False     \n",
              "________________________________________________________________\n",
              "Conv2d               64 x 64 x 7 x 7      36,864     True      \n",
              "________________________________________________________________\n",
              "BatchNorm2d          64 x 64 x 7 x 7      128        True      \n",
              "________________________________________________________________\n",
              "Conv2d               64 x 128 x 4 x 4     73,728     True      \n",
              "________________________________________________________________\n",
              "BatchNorm2d          64 x 128 x 4 x 4     256        True      \n",
              "________________________________________________________________\n",
              "ReLU                 64 x 128 x 4 x 4     0          False     \n",
              "________________________________________________________________\n",
              "Conv2d               64 x 128 x 4 x 4     147,456    True      \n",
              "________________________________________________________________\n",
              "BatchNorm2d          64 x 128 x 4 x 4     256        True      \n",
              "________________________________________________________________\n",
              "Conv2d               64 x 128 x 4 x 4     8,192      True      \n",
              "________________________________________________________________\n",
              "BatchNorm2d          64 x 128 x 4 x 4     256        True      \n",
              "________________________________________________________________\n",
              "Conv2d               64 x 128 x 4 x 4     147,456    True      \n",
              "________________________________________________________________\n",
              "BatchNorm2d          64 x 128 x 4 x 4     256        True      \n",
              "________________________________________________________________\n",
              "ReLU                 64 x 128 x 4 x 4     0          False     \n",
              "________________________________________________________________\n",
              "Conv2d               64 x 128 x 4 x 4     147,456    True      \n",
              "________________________________________________________________\n",
              "BatchNorm2d          64 x 128 x 4 x 4     256        True      \n",
              "________________________________________________________________\n",
              "Conv2d               64 x 256 x 2 x 2     294,912    True      \n",
              "________________________________________________________________\n",
              "BatchNorm2d          64 x 256 x 2 x 2     512        True      \n",
              "________________________________________________________________\n",
              "ReLU                 64 x 256 x 2 x 2     0          False     \n",
              "________________________________________________________________\n",
              "Conv2d               64 x 256 x 2 x 2     589,824    True      \n",
              "________________________________________________________________\n",
              "BatchNorm2d          64 x 256 x 2 x 2     512        True      \n",
              "________________________________________________________________\n",
              "Conv2d               64 x 256 x 2 x 2     32,768     True      \n",
              "________________________________________________________________\n",
              "BatchNorm2d          64 x 256 x 2 x 2     512        True      \n",
              "________________________________________________________________\n",
              "Conv2d               64 x 256 x 2 x 2     589,824    True      \n",
              "________________________________________________________________\n",
              "BatchNorm2d          64 x 256 x 2 x 2     512        True      \n",
              "________________________________________________________________\n",
              "ReLU                 64 x 256 x 2 x 2     0          False     \n",
              "________________________________________________________________\n",
              "Conv2d               64 x 256 x 2 x 2     589,824    True      \n",
              "________________________________________________________________\n",
              "BatchNorm2d          64 x 256 x 2 x 2     512        True      \n",
              "________________________________________________________________\n",
              "Conv2d               64 x 512 x 1 x 1     1,179,648  True      \n",
              "________________________________________________________________\n",
              "BatchNorm2d          64 x 512 x 1 x 1     1,024      True      \n",
              "________________________________________________________________\n",
              "ReLU                 64 x 512 x 1 x 1     0          False     \n",
              "________________________________________________________________\n",
              "Conv2d               64 x 512 x 1 x 1     2,359,296  True      \n",
              "________________________________________________________________\n",
              "BatchNorm2d          64 x 512 x 1 x 1     1,024      True      \n",
              "________________________________________________________________\n",
              "Conv2d               64 x 512 x 1 x 1     131,072    True      \n",
              "________________________________________________________________\n",
              "BatchNorm2d          64 x 512 x 1 x 1     1,024      True      \n",
              "________________________________________________________________\n",
              "Conv2d               64 x 512 x 1 x 1     2,359,296  True      \n",
              "________________________________________________________________\n",
              "BatchNorm2d          64 x 512 x 1 x 1     1,024      True      \n",
              "________________________________________________________________\n",
              "ReLU                 64 x 512 x 1 x 1     0          False     \n",
              "________________________________________________________________\n",
              "Conv2d               64 x 512 x 1 x 1     2,359,296  True      \n",
              "________________________________________________________________\n",
              "BatchNorm2d          64 x 512 x 1 x 1     1,024      True      \n",
              "________________________________________________________________\n",
              "AdaptiveAvgPool2d    64 x 512 x 1 x 1     0          False     \n",
              "________________________________________________________________\n",
              "AdaptiveMaxPool2d    64 x 512 x 1 x 1     0          False     \n",
              "________________________________________________________________\n",
              "Flatten              64 x 1024            0          False     \n",
              "________________________________________________________________\n",
              "BatchNorm1d          64 x 1024            2,048      True      \n",
              "________________________________________________________________\n",
              "Dropout              64 x 1024            0          False     \n",
              "________________________________________________________________\n",
              "Linear               64 x 512             524,288    True      \n",
              "________________________________________________________________\n",
              "ReLU                 64 x 512             0          False     \n",
              "________________________________________________________________\n",
              "BatchNorm1d          64 x 512             1,024      True      \n",
              "________________________________________________________________\n",
              "Dropout              64 x 512             0          False     \n",
              "________________________________________________________________\n",
              "Linear               64 x 10              5,120      True      \n",
              "________________________________________________________________\n",
              "\n",
              "Total params: 11,708,992\n",
              "Total trainable params: 11,708,992\n",
              "Total non-trainable params: 0\n",
              "\n",
              "Optimizer used: <function Adam at 0x7f31d5537730>\n",
              "Loss function: FlattenedLoss of CrossEntropyLoss()\n",
              "\n",
              "Callbacks:\n",
              "  - TrainEvalCallback\n",
              "  - XLAOptCallback\n",
              "  - Recorder\n",
              "  - ProgressCallback"
            ]
          },
          "metadata": {
            "tags": []
          },
          "execution_count": 20
        }
      ]
    },
    {
      "cell_type": "code",
      "metadata": {
        "id": "aMHsXQP0blwz",
        "colab_type": "code",
        "colab": {
          "base_uri": "https://localhost:8080/",
          "height": 300
        },
        "outputId": "38dd8d91-b94e-4135-eda6-df1dfc3f65c4"
      },
      "source": [
        "learner.lr_find()"
      ],
      "execution_count": 21,
      "outputs": [
        {
          "output_type": "display_data",
          "data": {
            "text/html": [
              ""
            ],
            "text/plain": [
              "<IPython.core.display.HTML object>"
            ]
          },
          "metadata": {
            "tags": []
          }
        },
        {
          "output_type": "execute_result",
          "data": {
            "text/plain": [
              "SuggestedLRs(lr_min=0.012022644281387329, lr_steep=0.0004786300996784121)"
            ]
          },
          "metadata": {
            "tags": []
          },
          "execution_count": 21
        },
        {
          "output_type": "display_data",
          "data": {
            "image/png": "[encoded data removed]",
            "text/plain": [
              "<Figure size 432x288 with 1 Axes>"
            ]
          },
          "metadata": {
            "tags": [],
            "needs_background": "light"
          }
        }
      ]
    },
    {
      "cell_type": "code",
      "metadata": {
        "id": "e7t6krBqp8n7",
        "colab_type": "code",
        "colab": {
          "base_uri": "https://localhost:8080/",
          "height": 363
        },
        "outputId": "e831eda6-6208-47b9-b7c6-5e4defc15670"
      },
      "source": [
        "learner.fit_one_cycle(10, lr_max=slice(0.00048, 0.012))"
      ],
      "execution_count": 22,
      "outputs": [
        {
          "output_type": "display_data",
          "data": {
            "text/html": [
              "<table border=\"1\" class=\"dataframe\">\n",
              "  <thead>\n",
              "    <tr style=\"text-align: left;\">\n",
              "      <th>epoch</th>\n",
              "      <th>train_loss</th>\n",
              "      <th>valid_loss</th>\n",
              "      <th>accuracy</th>\n",
              "      <th>time</th>\n",
              "    </tr>\n",
              "  </thead>\n",
              "  <tbody>\n",
              "    <tr>\n",
              "      <td>0</td>\n",
              "      <td>0.215240</td>\n",
              "      <td>0.141021</td>\n",
              "      <td>0.961700</td>\n",
              "      <td>02:19</td>\n",
              "    </tr>\n",
              "    <tr>\n",
              "      <td>1</td>\n",
              "      <td>0.129458</td>\n",
              "      <td>0.103443</td>\n",
              "      <td>0.972200</td>\n",
              "      <td>02:09</td>\n",
              "    </tr>\n",
              "    <tr>\n",
              "      <td>2</td>\n",
              "      <td>0.110249</td>\n",
              "      <td>0.060403</td>\n",
              "      <td>0.983500</td>\n",
              "      <td>02:04</td>\n",
              "    </tr>\n",
              "    <tr>\n",
              "      <td>3</td>\n",
              "      <td>0.075790</td>\n",
              "      <td>0.042832</td>\n",
              "      <td>0.989100</td>\n",
              "      <td>02:09</td>\n",
              "    </tr>\n",
              "    <tr>\n",
              "      <td>4</td>\n",
              "      <td>0.052464</td>\n",
              "      <td>0.074690</td>\n",
              "      <td>0.982400</td>\n",
              "      <td>02:05</td>\n",
              "    </tr>\n",
              "    <tr>\n",
              "      <td>5</td>\n",
              "      <td>0.032775</td>\n",
              "      <td>0.037915</td>\n",
              "      <td>0.990900</td>\n",
              "      <td>02:07</td>\n",
              "    </tr>\n",
              "    <tr>\n",
              "      <td>6</td>\n",
              "      <td>0.026519</td>\n",
              "      <td>0.028132</td>\n",
              "      <td>0.994200</td>\n",
              "      <td>02:05</td>\n",
              "    </tr>\n",
              "    <tr>\n",
              "      <td>7</td>\n",
              "      <td>0.013035</td>\n",
              "      <td>0.019983</td>\n",
              "      <td>0.994900</td>\n",
              "      <td>02:06</td>\n",
              "    </tr>\n",
              "    <tr>\n",
              "      <td>8</td>\n",
              "      <td>0.008624</td>\n",
              "      <td>0.017849</td>\n",
              "      <td>0.995000</td>\n",
              "      <td>02:09</td>\n",
              "    </tr>\n",
              "    <tr>\n",
              "      <td>9</td>\n",
              "      <td>0.006281</td>\n",
              "      <td>0.016933</td>\n",
              "      <td>0.995400</td>\n",
              "      <td>02:05</td>\n",
              "    </tr>\n",
              "  </tbody>\n",
              "</table>"
            ],
            "text/plain": [
              "<IPython.core.display.HTML object>"
            ]
          },
          "metadata": {
            "tags": []
          }
        }
      ]
    },
    {
      "cell_type": "code",
      "metadata": {
        "id": "CJCsHnThquTu",
        "colab_type": "code",
        "colab": {
          "base_uri": "https://localhost:8080/",
          "height": 34
        },
        "outputId": "ef46fda6-f2c8-418e-da50-3ab7da44938f"
      },
      "source": [
        "learner.save('stage-1')"
      ],
      "execution_count": 23,
      "outputs": [
        {
          "output_type": "execute_result",
          "data": {
            "text/plain": [
              "Path('models/stage-1.pth')"
            ]
          },
          "metadata": {
            "tags": []
          },
          "execution_count": 23
        }
      ]
    },
    {
      "cell_type": "code",
      "metadata": {
        "id": "59tV_jRXGweU",
        "colab_type": "code",
        "colab": {}
      },
      "source": [
        "learner.export('mnist_full_tpu_trained.pkl')"
      ],
      "execution_count": 24,
      "outputs": []
    },
    {
      "cell_type": "code",
      "metadata": {
        "id": "hBg5hdVJG7pQ",
        "colab_type": "code",
        "colab": {
          "base_uri": "https://localhost:8080/",
          "height": 17
        },
        "outputId": "89f572d4-a5b9-4f19-c49d-f7b9161f5d77"
      },
      "source": [
        "preds = learner.get_preds()"
      ],
      "execution_count": 25,
      "outputs": [
        {
          "output_type": "display_data",
          "data": {
            "text/html": [
              ""
            ],
            "text/plain": [
              "<IPython.core.display.HTML object>"
            ]
          },
          "metadata": {
            "tags": []
          }
        }
      ]
    },
    {
      "cell_type": "code",
      "metadata": {
        "id": "n2J0U4h4H0El",
        "colab_type": "code",
        "colab": {
          "base_uri": "https://localhost:8080/",
          "height": 34
        },
        "outputId": "0654b474-efa2-4b2a-a759-3ec59a252a2b"
      },
      "source": [
        "len(preds)"
      ],
      "execution_count": 28,
      "outputs": [
        {
          "output_type": "execute_result",
          "data": {
            "text/plain": [
              "2"
            ]
          },
          "metadata": {
            "tags": []
          },
          "execution_count": 28
        }
      ]
    },
    {
      "cell_type": "code",
      "metadata": {
        "id": "B1xmekYqH6iZ",
        "colab_type": "code",
        "colab": {
          "base_uri": "https://localhost:8080/",
          "height": 34
        },
        "outputId": "838bc9f2-09fe-4630-8b35-45f047dee136"
      },
      "source": [
        "preds[0].shape"
      ],
      "execution_count": 30,
      "outputs": [
        {
          "output_type": "execute_result",
          "data": {
            "text/plain": [
              "torch.Size([10000, 10])"
            ]
          },
          "metadata": {
            "tags": []
          },
          "execution_count": 30
        }
      ]
    },
    {
      "cell_type": "code",
      "metadata": {
        "id": "pveDq8_XIEFb",
        "colab_type": "code",
        "colab": {
          "base_uri": "https://localhost:8080/",
          "height": 34
        },
        "outputId": "c556215d-1a6e-4e16-d65f-dc7fc10c54b9"
      },
      "source": [
        "preds[1].shape"
      ],
      "execution_count": 31,
      "outputs": [
        {
          "output_type": "execute_result",
          "data": {
            "text/plain": [
              "torch.Size([10000])"
            ]
          },
          "metadata": {
            "tags": []
          },
          "execution_count": 31
        }
      ]
    },
    {
      "cell_type": "code",
      "metadata": {
        "id": "ByKRE7JTILUE",
        "colab_type": "code",
        "colab": {
          "base_uri": "https://localhost:8080/",
          "height": 34
        },
        "outputId": "0e10de8c-1875-40f1-dace-86866dbcfded"
      },
      "source": [
        "len(dls.valid)"
      ],
      "execution_count": 32,
      "outputs": [
        {
          "output_type": "execute_result",
          "data": {
            "text/plain": [
              "157"
            ]
          },
          "metadata": {
            "tags": []
          },
          "execution_count": 32
        }
      ]
    },
    {
      "cell_type": "code",
      "metadata": {
        "id": "j2aUr3lSIqAa",
        "colab_type": "code",
        "colab": {
          "base_uri": "https://localhost:8080/",
          "height": 34
        },
        "outputId": "7f30057b-023d-42c1-dab7-4104bacd81e3"
      },
      "source": [
        "len(dls.train)"
      ],
      "execution_count": 33,
      "outputs": [
        {
          "output_type": "execute_result",
          "data": {
            "text/plain": [
              "937"
            ]
          },
          "metadata": {
            "tags": []
          },
          "execution_count": 33
        }
      ]
    },
    {
      "cell_type": "code",
      "metadata": {
        "id": "rmpLRc0uItnE",
        "colab_type": "code",
        "colab": {}
      },
      "source": [
        ""
      ],
      "execution_count": null,
      "outputs": []
    }
  ]
}