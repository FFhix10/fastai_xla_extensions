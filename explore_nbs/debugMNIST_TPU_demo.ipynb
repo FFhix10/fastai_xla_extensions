{
  "nbformat": 4,
  "nbformat_minor": 0,
  "metadata": {
    "kernelspec": {
      "display_name": "Python 3",
      "language": "python",
      "name": "python3"
    },
    "colab": {
      "name": "debugMNIST_TPU_demo.ipynb",
      "provenance": [],
      "collapsed_sections": [],
      "toc_visible": true,
      "include_colab_link": true
    },
    "accelerator": "TPU"
  },
  "cells": [
    {
      "cell_type": "markdown",
      "metadata": {
        "id": "view-in-github",
        "colab_type": "text"
      },
      "source": [
        "<a href=\"https://colab.research.google.com/github/butchland/fastai_xla_extensions/blob/master/explore_nbs/debugMNIST_TPU_demo.ipynb\" target=\"_parent\"><img src=\"https://colab.research.google.com/assets/colab-badge.svg\" alt=\"Open In Colab\"/></a>"
      ]
    },
    {
      "cell_type": "markdown",
      "metadata": {
        "id": "7lDQKIEBHMbN",
        "colab_type": "text"
      },
      "source": [
        "# FastAI XLA Extensions MNIST Demo\n",
        "\n",
        "* updating pytorch xla install to use Pytorch XLA 1.6 release (official)\n",
        "* update to use fastai to 2.0.0 and fastcore 1.0.0\n",
        "since pytorch xla 1.6 install is not working with old version of fastai and fastcore\n",
        "\n",
        "### Results\n",
        "* Not training -- accuracy is no better than random (even with pretrained = False)\n"
      ]
    },
    {
      "cell_type": "markdown",
      "metadata": {
        "id": "yJAjBc_8HMbT",
        "colab_type": "text"
      },
      "source": [
        "## How to use"
      ]
    },
    {
      "cell_type": "markdown",
      "metadata": {
        "id": "xv3xARMbHMbW",
        "colab_type": "text"
      },
      "source": [
        "### Configure the Pytorch XLA package \n",
        "\n",
        "The Pytorch xla package requires an environment supporting TPUs (Kaggle kernels, GCP or Colab environments required)\n",
        "\n",
        "If running on Colab, make sure the Runtime Type is set to TPU.\n"
      ]
    },
    {
      "cell_type": "code",
      "metadata": {
        "id": "d_0If38OHMbr",
        "colab_type": "code",
        "colab": {}
      },
      "source": [
        "#hide_input\n",
        "#colab\n",
        "import os\n",
        "assert os.environ['COLAB_TPU_ADDR'], 'Make sure to select TPU from Edit > Notebook settings > Hardware accelerator'"
      ],
      "execution_count": null,
      "outputs": []
    },
    {
      "cell_type": "code",
      "metadata": {
        "id": "6UVX0iopHMbx",
        "colab_type": "code",
        "colab": {}
      },
      "source": [
        "#hide\n",
        "#colab\n",
        "!curl -s https://course19.fast.ai/setup/colab | bash "
      ],
      "execution_count": null,
      "outputs": []
    },
    {
      "cell_type": "markdown",
      "metadata": {
        "id": "6bf_xdVng-Jv",
        "colab_type": "text"
      },
      "source": [
        ""
      ]
    },
    {
      "cell_type": "markdown",
      "metadata": {
        "id": "29dsMCEVHMb_",
        "colab_type": "text"
      },
      "source": [
        "Install fastai2 and the fastai_xla_extensions packages"
      ]
    },
    {
      "cell_type": "code",
      "metadata": {
        "id": "ZbPDbj0oaBoO",
        "colab_type": "code",
        "colab": {}
      },
      "source": [
        "!pip install -Uqq fastcore==1.0.0"
      ],
      "execution_count": 1,
      "outputs": []
    },
    {
      "cell_type": "markdown",
      "metadata": {
        "id": "Rbng48pGg3JO",
        "colab_type": "text"
      },
      "source": [
        ""
      ]
    },
    {
      "cell_type": "code",
      "metadata": {
        "id": "SDUSw4PFHMcA",
        "colab_type": "code",
        "colab": {}
      },
      "source": [
        "#hide_output\n",
        "#colab\n",
        "!pip install -Uqq fastai==2.0.0"
      ],
      "execution_count": 2,
      "outputs": []
    },
    {
      "cell_type": "code",
      "metadata": {
        "id": "qsnrEAeiHMcG",
        "colab_type": "code",
        "colab": {
          "base_uri": "https://localhost:8080/",
          "height": 34
        },
        "outputId": "8b1c9617-b8f2-407b-92b8-5cb399876140"
      },
      "source": [
        "#hide_output\n",
        "#ci\n",
        "!pip install -Uqq  git+https://github.com/butchland/fastai_xla_extensions.git"
      ],
      "execution_count": 3,
      "outputs": [
        {
          "output_type": "stream",
          "text": [
            "  Building wheel for fastai-xla-extensions (setup.py) ... \u001b[?25l\u001b[?25hdone\n"
          ],
          "name": "stdout"
        }
      ]
    },
    {
      "cell_type": "code",
      "metadata": {
        "id": "J7qmQZOR3vvH",
        "colab_type": "code",
        "colab": {
          "base_uri": "https://localhost:8080/",
          "height": 52
        },
        "outputId": "a85e94a5-4255-48c7-f004-57792eea8280"
      },
      "source": [
        "!pip install -Uqq cloud-tpu-client==0.10 https://storage.googleapis.com/tpu-pytorch/wheels/torch_xla-1.6-cp36-cp36m-linux_x86_64.whl"
      ],
      "execution_count": 4,
      "outputs": [
        {
          "output_type": "stream",
          "text": [
            "\u001b[K     |████████████████████████████████| 131.2MB 66kB/s \n",
            "\u001b[K     |████████████████████████████████| 61kB 2.3MB/s \n",
            "\u001b[?25h"
          ],
          "name": "stdout"
        }
      ]
    },
    {
      "cell_type": "code",
      "metadata": {
        "id": "KELFH2r4HMb4",
        "colab_type": "code",
        "colab": {}
      },
      "source": [
        "#hide_output\n",
        "#colab\n",
        "# VERSION = \"20200325\"  #@param [\"1.5\" , \"20200325\", \"nightly\"]\n",
        "# !curl https://raw.githubusercontent.com/pytorch/xla/master/contrib/scripts/env-setup.py -o pytorch-xla-env-setup.py\n",
        "# !python pytorch-xla-env-setup.py --version $VERSION"
      ],
      "execution_count": 5,
      "outputs": []
    },
    {
      "cell_type": "code",
      "metadata": {
        "id": "7TSmVCkWgICi",
        "colab_type": "code",
        "colab": {
          "base_uri": "https://localhost:8080/",
          "height": 139
        },
        "outputId": "75b758ff-9d27-413c-d04e-06e4b19e517c"
      },
      "source": [
        "!pip freeze | grep torch\n",
        "!pip freeze | grep fastai2\n",
        "!pip freeze | grep fastcore\n",
        "!pip freeze | grep fastai-xla-extensions"
      ],
      "execution_count": 6,
      "outputs": [
        {
          "output_type": "stream",
          "text": [
            "torch==1.6.0+cu101\n",
            "torch-xla==1.6\n",
            "torchsummary==1.5.1\n",
            "torchtext==0.3.1\n",
            "torchvision==0.7.0+cu101\n",
            "fastcore==1.0.0\n",
            "fastai-xla-extensions==0.0.1\n"
          ],
          "name": "stdout"
        }
      ]
    },
    {
      "cell_type": "markdown",
      "metadata": {
        "id": "UcLKp-m0HMcV",
        "colab_type": "text"
      },
      "source": [
        "### Import the libraries\n",
        "Import the fastai2 and fastai_xla_extensions libraries"
      ]
    },
    {
      "cell_type": "code",
      "metadata": {
        "id": "92fL8QUbHMcW",
        "colab_type": "code",
        "colab": {
          "base_uri": "https://localhost:8080/",
          "height": 34
        },
        "outputId": "f17f8d39-18ae-4402-fb63-756a1cd4b0e9"
      },
      "source": [
        "#colab\n",
        "import fastai_xla_extensions.core"
      ],
      "execution_count": 1,
      "outputs": [
        {
          "output_type": "stream",
          "text": [
            "WARNING:root:TPU has started up successfully with version pytorch-1.6\n"
          ],
          "name": "stderr"
        }
      ]
    },
    {
      "cell_type": "markdown",
      "metadata": {
        "id": "gV8_KGVYHMcc",
        "colab_type": "text"
      },
      "source": [
        "**IMPORTANT: Make sure to import fastai_xla_extensions.core BEFORE importing fastai2 libraries** \n",
        "\n",
        "If you don't, fastai2 will not default to use tpu device but will instead use the cpu."
      ]
    },
    {
      "cell_type": "code",
      "metadata": {
        "id": "XkVauzS0HMcd",
        "colab_type": "code",
        "colab": {}
      },
      "source": [
        "from fastai.vision.all import *"
      ],
      "execution_count": 2,
      "outputs": []
    },
    {
      "cell_type": "markdown",
      "metadata": {
        "id": "O-5CdtT2HMcm",
        "colab_type": "text"
      },
      "source": [
        "### Example\n",
        "Build a MNIST classifier -- adapted from fastai course [Lesson 4 notebook](https://github.com/fastai/course-v4/blob/master/nbs/04_mnist_basics.ipynb)"
      ]
    },
    {
      "cell_type": "markdown",
      "metadata": {
        "id": "OI564wSCHMcq",
        "colab_type": "text"
      },
      "source": [
        "Load MNIST dataset "
      ]
    },
    {
      "cell_type": "code",
      "metadata": {
        "id": "f7V3P4bpHMcs",
        "colab_type": "code",
        "colab": {}
      },
      "source": [
        "path = untar_data(URLs.MNIST)"
      ],
      "execution_count": 3,
      "outputs": []
    },
    {
      "cell_type": "code",
      "metadata": {
        "id": "v8DG9UGJHMcz",
        "colab_type": "code",
        "colab": {}
      },
      "source": [
        "#hide\n",
        "Path.BASE_PATH = path"
      ],
      "execution_count": 4,
      "outputs": []
    },
    {
      "cell_type": "code",
      "metadata": {
        "id": "9Ki0w-i2imL2",
        "colab_type": "code",
        "colab": {
          "base_uri": "https://localhost:8080/",
          "height": 34
        },
        "outputId": "354f5b65-ca5c-4119-e312-edf6cebdaca1"
      },
      "source": [
        "path.ls()"
      ],
      "execution_count": 5,
      "outputs": [
        {
          "output_type": "execute_result",
          "data": {
            "text/plain": [
              "(#2) [Path('testing'),Path('training')]"
            ]
          },
          "metadata": {
            "tags": []
          },
          "execution_count": 5
        }
      ]
    },
    {
      "cell_type": "markdown",
      "metadata": {
        "id": "5pXtb0u2HMc3",
        "colab_type": "text"
      },
      "source": [
        "Create Fastai DataBlock\n",
        "\n",
        "\n",
        "_Note that batch transforms are currently\n",
        "set to none as they seem to slow the training\n",
        "on the TPU (for investigation)._"
      ]
    },
    {
      "cell_type": "code",
      "metadata": {
        "id": "YspZqFB4HMc5",
        "colab_type": "code",
        "colab": {}
      },
      "source": [
        "datablock = DataBlock(\n",
        "    blocks=(ImageBlock,CategoryBlock),\n",
        "    get_items=get_image_files,\n",
        "    splitter=GrandparentSplitter(train_name='training',valid_name='testing'),\n",
        "    get_y=parent_label,\n",
        "    item_tfms=Resize(28),\n",
        "    batch_tfms=[]\n",
        ")"
      ],
      "execution_count": 6,
      "outputs": []
    },
    {
      "cell_type": "code",
      "metadata": {
        "id": "ybNFQ98YHMc9",
        "colab_type": "code",
        "colab": {
          "base_uri": "https://localhost:8080/",
          "height": 905
        },
        "outputId": "97b0b5c6-1146-4fdb-fecb-5943f47b0dc8"
      },
      "source": [
        "#colab\n",
        "datablock.summary(path)"
      ],
      "execution_count": 7,
      "outputs": [
        {
          "output_type": "stream",
          "text": [
            "Setting-up type transforms pipelines\n",
            "Collecting items from /root/.fastai/data/mnist_png\n",
            "Found 70000 items\n",
            "2 datasets of sizes 60000,10000\n",
            "Setting up Pipeline: PILBase.create\n",
            "Setting up Pipeline: parent_label -> Categorize -- {'vocab': None, 'add_na': False}\n",
            "\n",
            "Building one sample\n",
            "  Pipeline: PILBase.create\n",
            "    starting from\n",
            "      /root/.fastai/data/mnist_png/training/7/22955.png\n",
            "    applying PILBase.create gives\n",
            "      PILImage mode=RGB size=28x28\n",
            "  Pipeline: parent_label -> Categorize -- {'vocab': (#10) ['0','1','2','3','4','5','6','7','8','9'], 'add_na': False}\n",
            "    starting from\n",
            "      /root/.fastai/data/mnist_png/training/7/22955.png\n",
            "    applying parent_label gives\n",
            "      7\n",
            "    applying Categorize -- {'vocab': (#10) ['0','1','2','3','4','5','6','7','8','9'], 'add_na': False} gives\n",
            "      TensorCategory(7)\n",
            "\n",
            "Final sample: (PILImage mode=RGB size=28x28, TensorCategory(7))\n",
            "\n",
            "\n",
            "Setting up after_item: Pipeline: Resize -- {'size': (28, 28), 'method': 'crop', 'pad_mode': 'reflection'} -> ToTensor\n",
            "Setting up before_batch: Pipeline: \n",
            "Setting up after_batch: Pipeline: IntToFloatTensor -- {'div': 255.0, 'div_mask': 1}\n",
            "\n",
            "Building one batch\n",
            "Applying item_tfms to the first sample:\n",
            "  Pipeline: Resize -- {'size': (28, 28), 'method': 'crop', 'pad_mode': 'reflection'} -> ToTensor\n",
            "    starting from\n",
            "      (PILImage mode=RGB size=28x28, TensorCategory(7))\n",
            "    applying Resize -- {'size': (28, 28), 'method': 'crop', 'pad_mode': 'reflection'} gives\n",
            "      (PILImage mode=RGB size=28x28, TensorCategory(7))\n",
            "    applying ToTensor gives\n",
            "      (TensorImage of size 3x28x28, TensorCategory(7))\n",
            "\n",
            "Adding the next 3 samples\n",
            "\n",
            "No before_batch transform to apply\n",
            "\n",
            "Collating items in a batch\n",
            "\n",
            "Applying batch_tfms to the batch built\n",
            "  Pipeline: IntToFloatTensor -- {'div': 255.0, 'div_mask': 1}\n",
            "    starting from\n",
            "      (TensorImage of size 4x3x28x28, TensorCategory([7, 7, 7, 7]))\n",
            "    applying IntToFloatTensor -- {'div': 255.0, 'div_mask': 1} gives\n",
            "      (TensorImage of size 4x3x28x28, TensorCategory([7, 7, 7, 7]))\n"
          ],
          "name": "stdout"
        }
      ]
    },
    {
      "cell_type": "markdown",
      "metadata": {
        "id": "GbjmFmFJHMdB",
        "colab_type": "text"
      },
      "source": [
        "Create the dataloader"
      ]
    },
    {
      "cell_type": "code",
      "metadata": {
        "id": "siIb-eqcHMdC",
        "colab_type": "code",
        "colab": {}
      },
      "source": [
        "dls = datablock.dataloaders(path,bs=256)"
      ],
      "execution_count": 8,
      "outputs": []
    },
    {
      "cell_type": "code",
      "metadata": {
        "id": "euAYHv4zHMdL",
        "colab_type": "code",
        "colab": {
          "base_uri": "https://localhost:8080/",
          "height": 536
        },
        "outputId": "e3951cc5-d544-4d88-d233-52e6613532ba"
      },
      "source": [
        "#colab\n",
        "dls.show_batch()"
      ],
      "execution_count": 9,
      "outputs": [
        {
          "output_type": "display_data",
          "data": {
            "image/png": "[encoded data removed]",
            "text/plain": [
              "<Figure size 648x648 with 9 Axes>"
            ]
          },
          "metadata": {
            "tags": [],
            "needs_background": "light"
          }
        }
      ]
    },
    {
      "cell_type": "markdown",
      "metadata": {
        "id": "_09Ilvp5HMdP",
        "colab_type": "text"
      },
      "source": [
        "Create a Fastai CNN Learner"
      ]
    },
    {
      "cell_type": "code",
      "metadata": {
        "id": "BG2ew3YfHMdR",
        "colab_type": "code",
        "colab": {}
      },
      "source": [
        "#colab\n",
        "learner = cnn_learner(dls, resnet18, metrics=accuracy, pretrained=False)\n",
        "                      "
      ],
      "execution_count": 14,
      "outputs": []
    },
    {
      "cell_type": "code",
      "metadata": {
        "id": "9y65hL2-olxf",
        "colab_type": "code",
        "colab": {
          "base_uri": "https://localhost:8080/",
          "height": 34
        },
        "outputId": "86d9777d-48bd-484d-c9e6-461a189619ff"
      },
      "source": [
        "learner.xla_opt"
      ],
      "execution_count": 11,
      "outputs": [
        {
          "output_type": "execute_result",
          "data": {
            "text/plain": [
              "XLAOptCallback"
            ]
          },
          "metadata": {
            "tags": []
          },
          "execution_count": 11
        }
      ]
    },
    {
      "cell_type": "code",
      "metadata": {
        "id": "5t0VEz_diyQF",
        "colab_type": "code",
        "colab": {
          "base_uri": "https://localhost:8080/",
          "height": 363
        },
        "outputId": "da59f378-2293-49df-cda7-88a6cf20650e"
      },
      "source": [
        "learner.fit_one_cycle(10)"
      ],
      "execution_count": 15,
      "outputs": [
        {
          "output_type": "display_data",
          "data": {
            "text/html": [
              "<table border=\"1\" class=\"dataframe\">\n",
              "  <thead>\n",
              "    <tr style=\"text-align: left;\">\n",
              "      <th>epoch</th>\n",
              "      <th>train_loss</th>\n",
              "      <th>valid_loss</th>\n",
              "      <th>accuracy</th>\n",
              "      <th>time</th>\n",
              "    </tr>\n",
              "  </thead>\n",
              "  <tbody>\n",
              "    <tr>\n",
              "      <td>0</td>\n",
              "      <td>3.788227</td>\n",
              "      <td>2.982407</td>\n",
              "      <td>0.083800</td>\n",
              "      <td>01:30</td>\n",
              "    </tr>\n",
              "    <tr>\n",
              "      <td>1</td>\n",
              "      <td>3.797401</td>\n",
              "      <td>2.975258</td>\n",
              "      <td>0.084600</td>\n",
              "      <td>01:15</td>\n",
              "    </tr>\n",
              "    <tr>\n",
              "      <td>2</td>\n",
              "      <td>3.805660</td>\n",
              "      <td>2.978183</td>\n",
              "      <td>0.084100</td>\n",
              "      <td>01:14</td>\n",
              "    </tr>\n",
              "    <tr>\n",
              "      <td>3</td>\n",
              "      <td>3.779590</td>\n",
              "      <td>2.977355</td>\n",
              "      <td>0.086000</td>\n",
              "      <td>01:17</td>\n",
              "    </tr>\n",
              "    <tr>\n",
              "      <td>4</td>\n",
              "      <td>3.808261</td>\n",
              "      <td>2.978373</td>\n",
              "      <td>0.085400</td>\n",
              "      <td>01:14</td>\n",
              "    </tr>\n",
              "    <tr>\n",
              "      <td>5</td>\n",
              "      <td>3.797122</td>\n",
              "      <td>2.976011</td>\n",
              "      <td>0.085500</td>\n",
              "      <td>01:14</td>\n",
              "    </tr>\n",
              "    <tr>\n",
              "      <td>6</td>\n",
              "      <td>3.767938</td>\n",
              "      <td>2.971161</td>\n",
              "      <td>0.085900</td>\n",
              "      <td>01:14</td>\n",
              "    </tr>\n",
              "    <tr>\n",
              "      <td>7</td>\n",
              "      <td>3.789902</td>\n",
              "      <td>2.970048</td>\n",
              "      <td>0.085100</td>\n",
              "      <td>01:14</td>\n",
              "    </tr>\n",
              "    <tr>\n",
              "      <td>8</td>\n",
              "      <td>3.796451</td>\n",
              "      <td>2.974871</td>\n",
              "      <td>0.084100</td>\n",
              "      <td>01:15</td>\n",
              "    </tr>\n",
              "    <tr>\n",
              "      <td>9</td>\n",
              "      <td>3.807077</td>\n",
              "      <td>2.978500</td>\n",
              "      <td>0.086200</td>\n",
              "      <td>01:15</td>\n",
              "    </tr>\n",
              "  </tbody>\n",
              "</table>"
            ],
            "text/plain": [
              "<IPython.core.display.HTML object>"
            ]
          },
          "metadata": {
            "tags": []
          }
        }
      ]
    },
    {
      "cell_type": "code",
      "metadata": {
        "id": "j89faqK-K-j7",
        "colab_type": "code",
        "colab": {
          "base_uri": "https://localhost:8080/",
          "height": 265
        },
        "outputId": "441d59a6-0bce-4956-8e77-0f8dde04d5c8"
      },
      "source": [
        "learner.recorder.plot_loss()"
      ],
      "execution_count": 16,
      "outputs": [
        {
          "output_type": "display_data",
          "data": {
            "image/png": "[encoded data removed]",
            "text/plain": [
              "<Figure size 432x288 with 1 Axes>"
            ]
          },
          "metadata": {
            "tags": [],
            "needs_background": "light"
          }
        }
      ]
    },
    {
      "cell_type": "code",
      "metadata": {
        "id": "4k_y2AfMN7LW",
        "colab_type": "code",
        "colab": {}
      },
      "source": [
        ""
      ],
      "execution_count": null,
      "outputs": []
    }
  ]
}