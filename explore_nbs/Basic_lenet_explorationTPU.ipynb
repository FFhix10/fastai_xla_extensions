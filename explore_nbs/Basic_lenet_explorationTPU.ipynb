{
  "nbformat": 4,
  "nbformat_minor": 0,
  "metadata": {
    "accelerator": "TPU",
    "colab": {
      "name": "Basic_lenet_explorationTPU.ipynb",
      "provenance": [],
      "collapsed_sections": [],
      "toc_visible": true,
      "include_colab_link": true
    },
    "kernelspec": {
      "display_name": "Python 3",
      "language": "python",
      "name": "python3"
    },
    "language_info": {
      "codemirror_mode": {
        "name": "ipython",
        "version": 3
      },
      "file_extension": ".py",
      "mimetype": "text/x-python",
      "name": "python",
      "nbconvert_exporter": "python",
      "pygments_lexer": "ipython3",
      "version": "3.7.7"
    }
  },
  "cells": [
    {
      "cell_type": "markdown",
      "metadata": {
        "id": "view-in-github",
        "colab_type": "text"
      },
      "source": [
        "<a href=\"https://colab.research.google.com/github/tyoc213/fastai_xla_extensions/blob/master/explore_nbs/Basic_lenet_explorationTPU.ipynb\" target=\"_parent\"><img src=\"https://colab.research.google.com/assets/colab-badge.svg\" alt=\"Open In Colab\"/></a>"
      ]
    },
    {
      "cell_type": "markdown",
      "metadata": {
        "colab_type": "text",
        "id": "BmnUX_l8lQ6B"
      },
      "source": [
        "# Install fastai2 from github"
      ]
    },
    {
      "cell_type": "code",
      "metadata": {
        "colab_type": "code",
        "id": "Q5DZXcBNJoy1",
        "colab": {
          "base_uri": "https://localhost:8080/",
          "height": 1000
        },
        "outputId": "69e8e9dc-0937-4164-a3b4-0bb5f8d2e1ce"
      },
      "source": [
        "!pip install -U pandas --upgrade\n",
        "!pip install -U fastcore --upgrade\n",
        "!pip install -U fastai --upgrade \n",
        "!pip install -Uqq git+https://github.com/butchland/fastai_xla_extensions"
      ],
      "execution_count": 9,
      "outputs": [
        {
          "output_type": "stream",
          "text": [
            "Requirement already up-to-date: pandas in /usr/local/lib/python3.6/dist-packages (1.1.1)\n",
            "Requirement already satisfied, skipping upgrade: python-dateutil>=2.7.3 in /usr/local/lib/python3.6/dist-packages (from pandas) (2.8.1)\n",
            "Requirement already satisfied, skipping upgrade: pytz>=2017.2 in /usr/local/lib/python3.6/dist-packages (from pandas) (2018.9)\n",
            "Requirement already satisfied, skipping upgrade: numpy>=1.15.4 in /usr/local/lib/python3.6/dist-packages (from pandas) (1.18.5)\n",
            "Requirement already satisfied, skipping upgrade: six>=1.5 in /usr/local/lib/python3.6/dist-packages (from python-dateutil>=2.7.3->pandas) (1.15.0)\n",
            "Requirement already up-to-date: fastcore in /usr/local/lib/python3.6/dist-packages (1.0.0)\n",
            "Requirement already satisfied, skipping upgrade: pip in /usr/local/lib/python3.6/dist-packages (from fastcore) (19.3.1)\n",
            "Requirement already satisfied, skipping upgrade: dataclasses in /usr/local/lib/python3.6/dist-packages (from fastcore) (0.7)\n",
            "Requirement already satisfied, skipping upgrade: packaging in /usr/local/lib/python3.6/dist-packages (from fastcore) (20.4)\n",
            "Requirement already satisfied, skipping upgrade: wheel in /usr/local/lib/python3.6/dist-packages (from fastcore) (0.35.1)\n",
            "Requirement already satisfied, skipping upgrade: numpy in /usr/local/lib/python3.6/dist-packages (from fastcore) (1.18.5)\n",
            "Requirement already satisfied, skipping upgrade: six in /usr/local/lib/python3.6/dist-packages (from packaging->fastcore) (1.15.0)\n",
            "Requirement already satisfied, skipping upgrade: pyparsing>=2.0.2 in /usr/local/lib/python3.6/dist-packages (from packaging->fastcore) (2.4.7)\n",
            "Requirement already up-to-date: fastai in /usr/local/lib/python3.6/dist-packages (2.0.6)\n",
            "Requirement already satisfied, skipping upgrade: spacy in /usr/local/lib/python3.6/dist-packages (from fastai) (2.2.4)\n",
            "Requirement already satisfied, skipping upgrade: pip in /usr/local/lib/python3.6/dist-packages (from fastai) (19.3.1)\n",
            "Requirement already satisfied, skipping upgrade: matplotlib in /usr/local/lib/python3.6/dist-packages (from fastai) (3.2.2)\n",
            "Requirement already satisfied, skipping upgrade: pyyaml in /usr/local/lib/python3.6/dist-packages (from fastai) (3.13)\n",
            "Requirement already satisfied, skipping upgrade: scikit-learn in /usr/local/lib/python3.6/dist-packages (from fastai) (0.22.2.post1)\n",
            "Requirement already satisfied, skipping upgrade: scipy in /usr/local/lib/python3.6/dist-packages (from fastai) (1.4.1)\n",
            "Requirement already satisfied, skipping upgrade: pillow in /usr/local/lib/python3.6/dist-packages (from fastai) (7.0.0)\n",
            "Requirement already satisfied, skipping upgrade: pandas>=1.1.0 in /usr/local/lib/python3.6/dist-packages (from fastai) (1.1.1)\n",
            "Requirement already satisfied, skipping upgrade: torch>=1.6.0 in /usr/local/lib/python3.6/dist-packages (from fastai) (1.7.0a0+12b5bdc)\n",
            "Requirement already satisfied, skipping upgrade: packaging in /usr/local/lib/python3.6/dist-packages (from fastai) (20.4)\n",
            "Requirement already satisfied, skipping upgrade: fastprogress>=0.2.4 in /usr/local/lib/python3.6/dist-packages (from fastai) (1.0.0)\n",
            "Requirement already satisfied, skipping upgrade: torchvision>=0.7 in /usr/local/lib/python3.6/dist-packages (from fastai) (0.8.0a0+86b6c3e)\n",
            "Requirement already satisfied, skipping upgrade: fastcore>=1.0.0 in /usr/local/lib/python3.6/dist-packages (from fastai) (1.0.0)\n",
            "Requirement already satisfied, skipping upgrade: requests in /usr/local/lib/python3.6/dist-packages (from fastai) (2.23.0)\n",
            "Requirement already satisfied, skipping upgrade: murmurhash<1.1.0,>=0.28.0 in /usr/local/lib/python3.6/dist-packages (from spacy->fastai) (1.0.2)\n",
            "Requirement already satisfied, skipping upgrade: srsly<1.1.0,>=1.0.2 in /usr/local/lib/python3.6/dist-packages (from spacy->fastai) (1.0.2)\n",
            "Requirement already satisfied, skipping upgrade: catalogue<1.1.0,>=0.0.7 in /usr/local/lib/python3.6/dist-packages (from spacy->fastai) (1.0.0)\n",
            "Requirement already satisfied, skipping upgrade: wasabi<1.1.0,>=0.4.0 in /usr/local/lib/python3.6/dist-packages (from spacy->fastai) (0.7.1)\n",
            "Requirement already satisfied, skipping upgrade: tqdm<5.0.0,>=4.38.0 in /usr/local/lib/python3.6/dist-packages (from spacy->fastai) (4.41.1)\n",
            "Requirement already satisfied, skipping upgrade: thinc==7.4.0 in /usr/local/lib/python3.6/dist-packages (from spacy->fastai) (7.4.0)\n",
            "Requirement already satisfied, skipping upgrade: blis<0.5.0,>=0.4.0 in /usr/local/lib/python3.6/dist-packages (from spacy->fastai) (0.4.1)\n",
            "Requirement already satisfied, skipping upgrade: setuptools in /usr/local/lib/python3.6/dist-packages (from spacy->fastai) (49.6.0)\n",
            "Requirement already satisfied, skipping upgrade: cymem<2.1.0,>=2.0.2 in /usr/local/lib/python3.6/dist-packages (from spacy->fastai) (2.0.3)\n",
            "Requirement already satisfied, skipping upgrade: plac<1.2.0,>=0.9.6 in /usr/local/lib/python3.6/dist-packages (from spacy->fastai) (1.1.3)\n",
            "Requirement already satisfied, skipping upgrade: numpy>=1.15.0 in /usr/local/lib/python3.6/dist-packages (from spacy->fastai) (1.18.5)\n",
            "Requirement already satisfied, skipping upgrade: preshed<3.1.0,>=3.0.2 in /usr/local/lib/python3.6/dist-packages (from spacy->fastai) (3.0.2)\n",
            "Requirement already satisfied, skipping upgrade: cycler>=0.10 in /usr/local/lib/python3.6/dist-packages (from matplotlib->fastai) (0.10.0)\n",
            "Requirement already satisfied, skipping upgrade: pyparsing!=2.0.4,!=2.1.2,!=2.1.6,>=2.0.1 in /usr/local/lib/python3.6/dist-packages (from matplotlib->fastai) (2.4.7)\n",
            "Requirement already satisfied, skipping upgrade: kiwisolver>=1.0.1 in /usr/local/lib/python3.6/dist-packages (from matplotlib->fastai) (1.2.0)\n",
            "Requirement already satisfied, skipping upgrade: python-dateutil>=2.1 in /usr/local/lib/python3.6/dist-packages (from matplotlib->fastai) (2.8.1)\n",
            "Requirement already satisfied, skipping upgrade: joblib>=0.11 in /usr/local/lib/python3.6/dist-packages (from scikit-learn->fastai) (0.16.0)\n",
            "Requirement already satisfied, skipping upgrade: pytz>=2017.2 in /usr/local/lib/python3.6/dist-packages (from pandas>=1.1.0->fastai) (2018.9)\n",
            "Requirement already satisfied, skipping upgrade: future in /usr/local/lib/python3.6/dist-packages (from torch>=1.6.0->fastai) (0.16.0)\n",
            "Requirement already satisfied, skipping upgrade: six in /usr/local/lib/python3.6/dist-packages (from packaging->fastai) (1.15.0)\n",
            "Requirement already satisfied, skipping upgrade: wheel in /usr/local/lib/python3.6/dist-packages (from fastcore>=1.0.0->fastai) (0.35.1)\n",
            "Requirement already satisfied, skipping upgrade: dataclasses in /usr/local/lib/python3.6/dist-packages (from fastcore>=1.0.0->fastai) (0.7)\n",
            "Requirement already satisfied, skipping upgrade: urllib3!=1.25.0,!=1.25.1,<1.26,>=1.21.1 in /usr/local/lib/python3.6/dist-packages (from requests->fastai) (1.24.3)\n",
            "Requirement already satisfied, skipping upgrade: idna<3,>=2.5 in /usr/local/lib/python3.6/dist-packages (from requests->fastai) (2.10)\n",
            "Requirement already satisfied, skipping upgrade: chardet<4,>=3.0.2 in /usr/local/lib/python3.6/dist-packages (from requests->fastai) (3.0.4)\n",
            "Requirement already satisfied, skipping upgrade: certifi>=2017.4.17 in /usr/local/lib/python3.6/dist-packages (from requests->fastai) (2020.6.20)\n",
            "Requirement already satisfied, skipping upgrade: importlib-metadata>=0.20; python_version < \"3.8\" in /usr/local/lib/python3.6/dist-packages (from catalogue<1.1.0,>=0.0.7->spacy->fastai) (1.7.0)\n",
            "Requirement already satisfied, skipping upgrade: zipp>=0.5 in /usr/local/lib/python3.6/dist-packages (from importlib-metadata>=0.20; python_version < \"3.8\"->catalogue<1.1.0,>=0.0.7->spacy->fastai) (3.1.0)\n",
            "  Building wheel for fastai-xla-extensions (setup.py) ... \u001b[?25l\u001b[?25hdone\n"
          ],
          "name": "stdout"
        }
      ]
    },
    {
      "cell_type": "code",
      "metadata": {
        "colab_type": "code",
        "id": "GucdOzF7r6ch",
        "colab": {
          "base_uri": "https://localhost:8080/",
          "height": 69
        },
        "outputId": "41979a41-1bb4-41d8-de6b-c23e0060902d"
      },
      "source": [
        "VERSION = \"20200707\"  #\"20200515\" @param [\"1.5\" , \"20200325\", \"nightly\"]\n",
        "!curl https://raw.githubusercontent.com/pytorch/xla/master/contrib/scripts/env-setup.py -o pytorch-xla-env-setup.py"
      ],
      "execution_count": 10,
      "outputs": [
        {
          "output_type": "stream",
          "text": [
            "  % Total    % Received % Xferd  Average Speed   Time    Time     Time  Current\n",
            "                                 Dload  Upload   Total   Spent    Left  Speed\n",
            "\r  0     0    0     0    0     0      0      0 --:--:-- --:--:-- --:--:--     0\r100  5115  100  5115    0     0  62378      0 --:--:-- --:--:-- --:--:-- 62378\n"
          ],
          "name": "stdout"
        }
      ]
    },
    {
      "cell_type": "code",
      "metadata": {
        "colab_type": "code",
        "id": "BxoA3fJusV17",
        "colab": {
          "base_uri": "https://localhost:8080/",
          "height": 781
        },
        "outputId": "55956d35-3373-4972-e066-02767e01eac0"
      },
      "source": [
        "#!TORCH_SHOW_CPP_STACKTRACES=1 python pytorch-xla-env-setup.py --apt-packages libomp5 libopenblas-dev\n",
        "!python pytorch-xla-env-setup.py  --version $VERSION --apt-packages libomp5 libopenblas-dev"
      ],
      "execution_count": 11,
      "outputs": [
        {
          "output_type": "stream",
          "text": [
            "Updating... This may take around 2 minutes.\n",
            "Updating TPU runtime to pytorch-dev20200707 ...\n",
            "Uninstalling torch-1.7.0a0+12b5bdc:\n",
            "  Successfully uninstalled torch-1.7.0a0+12b5bdc\n",
            "Uninstalling torchvision-0.8.0a0+86b6c3e:\n",
            "  Successfully uninstalled torchvision-0.8.0a0+86b6c3e\n",
            "Copying gs://tpu-pytorch/wheels/torch-nightly+20200707-cp36-cp36m-linux_x86_64.whl...\n",
            "\\ [1 files][107.5 MiB/107.5 MiB]                                                \n",
            "Operation completed over 1 objects/107.5 MiB.                                    \n",
            "Copying gs://tpu-pytorch/wheels/torch_xla-nightly+20200707-cp36-cp36m-linux_x86_64.whl...\n",
            "- [1 files][123.8 MiB/123.8 MiB]                                                \n",
            "Operation completed over 1 objects/123.8 MiB.                                    \n",
            "Copying gs://tpu-pytorch/wheels/torchvision-nightly+20200707-cp36-cp36m-linux_x86_64.whl...\n",
            "/ [1 files][  2.2 MiB/  2.2 MiB]                                                \n",
            "Operation completed over 1 objects/2.2 MiB.                                      \n",
            "Processing ./torch-nightly+20200707-cp36-cp36m-linux_x86_64.whl\n",
            "Done updating TPU runtime\n",
            "Requirement already satisfied: future in /usr/local/lib/python3.6/dist-packages (from torch==nightly+20200707) (0.16.0)\n",
            "Requirement already satisfied: numpy in /usr/local/lib/python3.6/dist-packages (from torch==nightly+20200707) (1.18.5)\n",
            "\u001b[31mERROR: fastai 2.0.6 requires torchvision>=0.7, which is not installed.\u001b[0m\n",
            "Installing collected packages: torch\n",
            "Successfully installed torch-1.7.0a0+12b5bdc\n",
            "Processing ./torch_xla-nightly+20200707-cp36-cp36m-linux_x86_64.whl\n",
            "Installing collected packages: torch-xla\n",
            "  Found existing installation: torch-xla 1.6+5430aca\n",
            "    Uninstalling torch-xla-1.6+5430aca:\n",
            "      Successfully uninstalled torch-xla-1.6+5430aca\n",
            "Successfully installed torch-xla-1.6+5430aca\n",
            "Processing ./torchvision-nightly+20200707-cp36-cp36m-linux_x86_64.whl\n",
            "Requirement already satisfied: torch in /usr/local/lib/python3.6/dist-packages (from torchvision==nightly+20200707) (1.7.0a0+12b5bdc)\n",
            "Requirement already satisfied: pillow>=4.1.1 in /usr/local/lib/python3.6/dist-packages (from torchvision==nightly+20200707) (7.0.0)\n",
            "Requirement already satisfied: numpy in /usr/local/lib/python3.6/dist-packages (from torchvision==nightly+20200707) (1.18.5)\n",
            "Requirement already satisfied: future in /usr/local/lib/python3.6/dist-packages (from torch->torchvision==nightly+20200707) (0.16.0)\n",
            "Installing collected packages: torchvision\n",
            "Successfully installed torchvision-0.8.0a0+86b6c3e\n",
            "Reading package lists... Done\n",
            "Building dependency tree       \n",
            "Reading state information... Done\n",
            "libomp5 is already the newest version (5.0.1-1).\n",
            "libopenblas-dev is already the newest version (0.2.20+ds-4).\n",
            "The following package was automatically installed and is no longer required:\n",
            "  libnvidia-common-440\n",
            "Use 'apt autoremove' to remove it.\n",
            "0 upgraded, 0 newly installed, 0 to remove and 39 not upgraded.\n"
          ],
          "name": "stdout"
        }
      ]
    },
    {
      "cell_type": "code",
      "metadata": {
        "colab_type": "code",
        "id": "aJMhjxPPaPo8",
        "colab": {
          "base_uri": "https://localhost:8080/",
          "height": 156
        },
        "outputId": "bda3b0eb-4581-436b-c6b3-eeeeb18bc383"
      },
      "source": [
        "!pip freeze | grep torch \n",
        "!pip freeze | grep fastcore\n",
        "!pip freeze | grep fastai"
      ],
      "execution_count": 12,
      "outputs": [
        {
          "output_type": "stream",
          "text": [
            "torch==1.7.0a0+12b5bdc\n",
            "torch-xla==1.6+5430aca\n",
            "torchsummary==1.5.1\n",
            "torchtext==0.3.1\n",
            "torchvision==0.8.0a0+86b6c3e\n",
            "fastcore==1.0.0\n",
            "fastai==2.0.6\n",
            "fastai-xla-extensions==0.0.1\n"
          ],
          "name": "stdout"
        }
      ]
    },
    {
      "cell_type": "code",
      "metadata": {
        "id": "O5vVQw3JM7yA",
        "colab_type": "code",
        "colab": {}
      },
      "source": [
        "import fastai_xla_extensions.core"
      ],
      "execution_count": 13,
      "outputs": []
    },
    {
      "cell_type": "code",
      "metadata": {
        "colab_type": "code",
        "id": "mlAKa0RsbOei",
        "colab": {}
      },
      "source": [
        "from fastai.vision.all import *"
      ],
      "execution_count": 14,
      "outputs": []
    },
    {
      "cell_type": "code",
      "metadata": {
        "id": "rHE_YF1_wHeO",
        "colab_type": "code",
        "colab": {
          "base_uri": "https://localhost:8080/",
          "height": 34
        },
        "outputId": "e9748a0f-8819-4f14-ab3a-4cb51bfd6eb1"
      },
      "source": [
        "default_device()"
      ],
      "execution_count": 18,
      "outputs": [
        {
          "output_type": "execute_result",
          "data": {
            "text/plain": [
              "device(type='cpu')"
            ]
          },
          "metadata": {
            "tags": []
          },
          "execution_count": 18
        }
      ]
    },
    {
      "cell_type": "code",
      "metadata": {
        "colab_type": "code",
        "id": "OD7QTq_ulNZK",
        "colab": {
          "base_uri": "https://localhost:8080/",
          "height": 34
        },
        "outputId": "842a66e2-43c0-436e-9918-769f74724713"
      },
      "source": [
        "path = untar_data(URLs.MNIST_SAMPLE)\n",
        "Path.BASE_PATH = path; path.ls()"
      ],
      "execution_count": 19,
      "outputs": [
        {
          "output_type": "execute_result",
          "data": {
            "text/plain": [
              "(#3) [Path('valid'),Path('train'),Path('labels.csv')]"
            ]
          },
          "metadata": {
            "tags": []
          },
          "execution_count": 19
        }
      ]
    },
    {
      "cell_type": "code",
      "metadata": {
        "id": "jZHPPO8I8RbC",
        "colab_type": "code",
        "colab": {
          "base_uri": "https://localhost:8080/",
          "height": 34
        },
        "outputId": "140f5796-1f4b-462e-fbab-593974db5f4b"
      },
      "source": [
        "(path/'train').ls()"
      ],
      "execution_count": 20,
      "outputs": [
        {
          "output_type": "execute_result",
          "data": {
            "text/plain": [
              "(#2) [Path('train/3'),Path('train/7')]"
            ]
          },
          "metadata": {
            "tags": []
          },
          "execution_count": 20
        }
      ]
    },
    {
      "cell_type": "markdown",
      "metadata": {
        "colab_type": "text",
        "id": "PoJrJqx8BO30"
      },
      "source": [
        "# Lenet with convs and F.max_pool2d"
      ]
    },
    {
      "cell_type": "code",
      "metadata": {
        "colab_type": "code",
        "id": "sfJVAsAerFku",
        "colab": {}
      },
      "source": [
        "class MyLenet(nn.Module):\n",
        "    def __init__(self):\n",
        "        super(MyLenet, self).__init__()\n",
        "        self.conv1 = nn.Conv2d(3, 6, 3)\n",
        "        self.conv2 = nn.Conv2d(6,16,3)\n",
        "        self.hiden4 = nn.Linear(400, 2) # 2 outputs instead of 10\n",
        "    def forward(self, x):\n",
        "        x = F.max_pool2d(F.relu(self.conv1(x)), (2, 2))\n",
        "        x = F.max_pool2d(F.relu(self.conv2(x)), 2)\n",
        "        x = x.view(-1, self.num_flat_features(x))\n",
        "        x = self.hiden4(x)\n",
        "        return x\n",
        "    \n",
        "    def num_flat_features(self, x):\n",
        "        size = x.size()[1:]  # all dimensions except the batch dimension\n",
        "        num_features = 1\n",
        "        for s in size:\n",
        "            num_features *= s\n",
        "        return num_features\n"
      ],
      "execution_count": 21,
      "outputs": []
    },
    {
      "cell_type": "markdown",
      "metadata": {
        "colab_type": "text",
        "id": "YujM_GLxBW4_"
      },
      "source": [
        "# Lenet with layers"
      ]
    },
    {
      "cell_type": "code",
      "metadata": {
        "colab_type": "code",
        "id": "RETI5TWYyn6C",
        "colab": {}
      },
      "source": [
        "class Lenet2(nn.Module):\n",
        "    def __init__(self):\n",
        "        super(Lenet2, self).__init__()\n",
        "        self.conv1 = nn.Conv2d(3, 6, 3)\n",
        "        self.conv2 = nn.Conv2d(6, 16, 3)\n",
        "        self.fc1 = nn.Linear(400, 120)\n",
        "        self.fc2 = nn.Linear(120, 84)\n",
        "        self.fc3 = nn.Linear(84, 2) # Only 2 outputs instead of 10\n",
        "    def forward(self, x):\n",
        "        # Max pooling over a (2, 2) window\n",
        "        x = F.max_pool2d(F.relu(self.conv1(x)), (2, 2))\n",
        "        # If the size is a square you can only specify a single number\n",
        "        x = F.max_pool2d(F.relu(self.conv2(x)), 2)\n",
        "        x = x.view(-1, self.num_flat_features(x))\n",
        "        x = F.relu(self.fc1(x))\n",
        "        x = F.relu(self.fc2(x))\n",
        "        x = self.fc3(x)\n",
        "        return x\n",
        "\n",
        "    def num_flat_features(self, x):\n",
        "        size = x.size()[1:]  # all dimensions except the batch dimension\n",
        "        num_features = 1\n",
        "        for s in size:\n",
        "            num_features *= s\n",
        "        return num_features\n",
        "\n",
        "\n"
      ],
      "execution_count": 22,
      "outputs": []
    },
    {
      "cell_type": "markdown",
      "metadata": {
        "colab_type": "text",
        "id": "p1MkLSk4rGXa"
      },
      "source": [
        "# Load in TPU"
      ]
    },
    {
      "cell_type": "code",
      "metadata": {
        "id": "TlvKjwj8xcK2",
        "colab_type": "code",
        "colab": {}
      },
      "source": [
        "import torch\n",
        "import torch_xla\n",
        "import torch_xla.core.xla_model as xm\n",
        "dede = xm.xla_device()"
      ],
      "execution_count": 24,
      "outputs": []
    },
    {
      "cell_type": "code",
      "metadata": {
        "colab_type": "code",
        "id": "xEERTzNRN5qh",
        "colab": {}
      },
      "source": [
        "dblock = DataBlock(\n",
        "    splitter = GrandparentSplitter(),\n",
        "    item_tfms = Resize(28),\n",
        "    blocks = (ImageBlock, CategoryBlock),\n",
        "    get_items = get_image_files,\n",
        "    get_y = parent_label,\n",
        "    batch_tfms = []\n",
        ")\n"
      ],
      "execution_count": 26,
      "outputs": []
    },
    {
      "cell_type": "code",
      "metadata": {
        "colab_type": "code",
        "id": "FXckuzpuxvWW",
        "colab": {
          "base_uri": "https://localhost:8080/",
          "height": 885
        },
        "outputId": "9bb46097-e5c3-4393-fe4a-e7a5150726aa"
      },
      "source": [
        "dblock.summary(path)"
      ],
      "execution_count": 27,
      "outputs": [
        {
          "output_type": "stream",
          "text": [
            "Setting-up type transforms pipelines\n",
            "Collecting items from /root/.fastai/data/mnist_sample\n",
            "Found 14434 items\n",
            "2 datasets of sizes 12396,2038\n",
            "Setting up Pipeline: PILBase.create\n",
            "Setting up Pipeline: parent_label -> Categorize -- {'vocab': None, 'add_na': False}\n",
            "\n",
            "Building one sample\n",
            "  Pipeline: PILBase.create\n",
            "    starting from\n",
            "      /root/.fastai/data/mnist_sample/train/3/11377.png\n",
            "    applying PILBase.create gives\n",
            "      PILImage mode=RGB size=28x28\n",
            "  Pipeline: parent_label -> Categorize -- {'vocab': (#2) ['3','7'], 'add_na': False}\n",
            "    starting from\n",
            "      /root/.fastai/data/mnist_sample/train/3/11377.png\n",
            "    applying parent_label gives\n",
            "      3\n",
            "    applying Categorize -- {'vocab': (#2) ['3','7'], 'add_na': False} gives\n",
            "      TensorCategory(0)\n",
            "\n",
            "Final sample: (PILImage mode=RGB size=28x28, TensorCategory(0))\n",
            "\n",
            "\n",
            "Setting up after_item: Pipeline: Resize -- {'size': (28, 28), 'method': 'crop', 'pad_mode': 'reflection'} -> ToTensor\n",
            "Setting up before_batch: Pipeline: \n",
            "Setting up after_batch: Pipeline: IntToFloatTensor -- {'div': 255.0, 'div_mask': 1}\n",
            "\n",
            "Building one batch\n",
            "Applying item_tfms to the first sample:\n",
            "  Pipeline: Resize -- {'size': (28, 28), 'method': 'crop', 'pad_mode': 'reflection'} -> ToTensor\n",
            "    starting from\n",
            "      (PILImage mode=RGB size=28x28, TensorCategory(0))\n",
            "    applying Resize -- {'size': (28, 28), 'method': 'crop', 'pad_mode': 'reflection'} gives\n",
            "      (PILImage mode=RGB size=28x28, TensorCategory(0))\n",
            "    applying ToTensor gives\n",
            "      (TensorImage of size 3x28x28, TensorCategory(0))\n",
            "\n",
            "Adding the next 3 samples\n",
            "\n",
            "No before_batch transform to apply\n",
            "\n",
            "Collating items in a batch\n",
            "\n",
            "Applying batch_tfms to the batch built\n",
            "  Pipeline: IntToFloatTensor -- {'div': 255.0, 'div_mask': 1}\n",
            "    starting from\n",
            "      (TensorImage of size 4x3x28x28, TensorCategory([0, 0, 0, 0]))\n",
            "    applying IntToFloatTensor -- {'div': 255.0, 'div_mask': 1} gives\n",
            "      (TensorImage of size 4x3x28x28, TensorCategory([0, 0, 0, 0]))\n"
          ],
          "name": "stdout"
        }
      ]
    },
    {
      "cell_type": "markdown",
      "metadata": {
        "colab_type": "text",
        "id": "roY-hP7q_XzV"
      },
      "source": [
        "# Use TPU device"
      ]
    },
    {
      "cell_type": "markdown",
      "metadata": {
        "colab_type": "text",
        "id": "u-rqfNkUM6qJ"
      },
      "source": [
        "# Aquire a TPU device"
      ]
    },
    {
      "cell_type": "code",
      "metadata": {
        "colab_type": "code",
        "id": "H9FuvQ7qrEqd",
        "colab": {
          "base_uri": "https://localhost:8080/",
          "height": 34
        },
        "outputId": "e2f8fdfe-32ab-4f8a-f4cd-17cc28064b8c"
      },
      "source": [
        "dls_tpu = dblock.dataloaders(path, device=dede)\n",
        "dls_tpu.vocab"
      ],
      "execution_count": 39,
      "outputs": [
        {
          "output_type": "execute_result",
          "data": {
            "text/plain": [
              "(#2) ['3','7']"
            ]
          },
          "metadata": {
            "tags": []
          },
          "execution_count": 39
        }
      ]
    },
    {
      "cell_type": "code",
      "metadata": {
        "id": "9w0_Wi3g1Gog",
        "colab_type": "code",
        "colab": {}
      },
      "source": [
        "xb, yb = dls_tpu.one_batch()"
      ],
      "execution_count": 40,
      "outputs": []
    },
    {
      "cell_type": "code",
      "metadata": {
        "id": "IUYdHYPf1NZf",
        "colab_type": "code",
        "colab": {
          "base_uri": "https://localhost:8080/",
          "height": 34
        },
        "outputId": "f59dca35-7cc4-48b2-9de3-e8fc73e8daa3"
      },
      "source": [
        "(type(xb), xb.shape, xb.dtype)"
      ],
      "execution_count": 41,
      "outputs": [
        {
          "output_type": "execute_result",
          "data": {
            "text/plain": [
              "(fastai.torch_core.TensorImage, torch.Size([64, 3, 28, 28]), torch.float32)"
            ]
          },
          "metadata": {
            "tags": []
          },
          "execution_count": 41
        }
      ]
    },
    {
      "cell_type": "code",
      "metadata": {
        "id": "42gKRROQ1fTN",
        "colab_type": "code",
        "colab": {
          "base_uri": "https://localhost:8080/",
          "height": 86
        },
        "outputId": "87cfc943-71b6-45d9-967c-6b9f969372ab"
      },
      "source": [
        "(type(yb), yb.shape, yb.dtype, yb.device)"
      ],
      "execution_count": 43,
      "outputs": [
        {
          "output_type": "execute_result",
          "data": {
            "text/plain": [
              "(fastai.torch_core.TensorCategory,\n",
              " torch.Size([64]),\n",
              " torch.int64,\n",
              " device(type='xla', index=1))"
            ]
          },
          "metadata": {
            "tags": []
          },
          "execution_count": 43
        }
      ]
    },
    {
      "cell_type": "markdown",
      "metadata": {
        "colab_type": "text",
        "id": "CaLUPKrpNFD6"
      },
      "source": [
        "## First training on TPU"
      ]
    },
    {
      "cell_type": "code",
      "metadata": {
        "colab_type": "code",
        "id": "nnNXHVhBukge",
        "colab": {}
      },
      "source": [
        "# from fastai.callback.all import *\n",
        "from fastai.test_utils import *\n",
        "lenet_tpu = Lenet2()\n",
        "tpu_learner = Learner(dls_tpu,\n",
        "                      lenet_tpu,\n",
        "                      metrics=accuracy, \n",
        "                      loss_func=F.cross_entropy,\n",
        "                      device=dede,\n",
        "                      cbs=[])"
      ],
      "execution_count": 44,
      "outputs": []
    },
    {
      "cell_type": "code",
      "metadata": {
        "colab_type": "code",
        "id": "npau0oogyXRN",
        "colab": {
          "base_uri": "https://localhost:8080/",
          "height": 550
        },
        "outputId": "2907326b-d7f0-4731-80ef-45e78bd19fbc"
      },
      "source": [
        "tpu_learner.summary()"
      ],
      "execution_count": 45,
      "outputs": [
        {
          "output_type": "display_data",
          "data": {
            "text/html": [
              "<table border=\"1\" class=\"dataframe\">\n",
              "  <thead>\n",
              "    <tr style=\"text-align: left;\">\n",
              "      <th>epoch</th>\n",
              "      <th>train_loss</th>\n",
              "      <th>valid_loss</th>\n",
              "      <th>accuracy</th>\n",
              "      <th>time</th>\n",
              "    </tr>\n",
              "  </thead>\n",
              "  <tbody>\n",
              "    <tr>\n",
              "      <td>0</td>\n",
              "      <td>None</td>\n",
              "      <td>None</td>\n",
              "      <td>00:00</td>\n",
              "    </tr>\n",
              "  </tbody>\n",
              "</table>"
            ],
            "text/plain": [
              "<IPython.core.display.HTML object>"
            ]
          },
          "metadata": {
            "tags": []
          }
        },
        {
          "output_type": "execute_result",
          "data": {
            "application/vnd.google.colaboratory.intrinsic+json": {
              "type": "string"
            },
            "text/plain": [
              "Lenet2 (Input shape: ['64 x 3 x 28 x 28'])\n",
              "================================================================\n",
              "Layer (type)         Output Shape         Param #    Trainable \n",
              "================================================================\n",
              "Conv2d               64 x 6 x 26 x 26     168        True      \n",
              "________________________________________________________________\n",
              "Conv2d               64 x 16 x 11 x 11    880        True      \n",
              "________________________________________________________________\n",
              "Linear               64 x 120             48,120     True      \n",
              "________________________________________________________________\n",
              "Linear               64 x 84              10,164     True      \n",
              "________________________________________________________________\n",
              "Linear               64 x 2               170        True      \n",
              "________________________________________________________________\n",
              "\n",
              "Total params: 59,502\n",
              "Total trainable params: 59,502\n",
              "Total non-trainable params: 0\n",
              "\n",
              "Optimizer used: <function Adam at 0x7fdccb720b70>\n",
              "Loss function: <function cross_entropy at 0x7fdce96749d8>\n",
              "\n",
              "Callbacks:\n",
              "  - TrainEvalCallback\n",
              "  - XLAOptCallback\n",
              "  - Recorder\n",
              "  - ProgressCallback"
            ]
          },
          "metadata": {
            "tags": []
          },
          "execution_count": 45
        }
      ]
    },
    {
      "cell_type": "code",
      "metadata": {
        "colab_type": "code",
        "id": "-Z-exyB0zrk6",
        "colab": {
          "base_uri": "https://localhost:8080/",
          "height": 590
        },
        "outputId": "2d51e3ee-24d8-4645-d9dd-579d6f8b6ede"
      },
      "source": [
        "tpu_learner.show_training_loop()"
      ],
      "execution_count": 46,
      "outputs": [
        {
          "output_type": "stream",
          "text": [
            "Start Fit\n",
            "   - before_fit     : [TrainEvalCallback, XLAOptCallback, Recorder, ProgressCallback]\n",
            "  Start Epoch Loop\n",
            "     - before_epoch   : [Recorder, ProgressCallback]\n",
            "    Start Train\n",
            "       - before_train   : [TrainEvalCallback, Recorder, ProgressCallback]\n",
            "      Start Batch Loop\n",
            "         - before_batch   : []\n",
            "         - after_pred     : []\n",
            "         - after_loss     : []\n",
            "         - before_backward: []\n",
            "         - after_backward : []\n",
            "         - after_step     : []\n",
            "         - after_cancel_batch: []\n",
            "         - after_batch    : [TrainEvalCallback, Recorder, ProgressCallback]\n",
            "      End Batch Loop\n",
            "    End Train\n",
            "     - after_cancel_train: [Recorder]\n",
            "     - after_train    : [Recorder, ProgressCallback]\n",
            "    Start Valid\n",
            "       - before_validate: [TrainEvalCallback, Recorder, ProgressCallback]\n",
            "      Start Batch Loop\n",
            "         - **CBs same as train batch**: []\n",
            "      End Batch Loop\n",
            "    End Valid\n",
            "     - after_cancel_validate: [Recorder]\n",
            "     - after_validate : [Recorder, ProgressCallback]\n",
            "  End Epoch Loop\n",
            "   - after_cancel_epoch: []\n",
            "   - after_epoch    : [Recorder]\n",
            "End Fit\n",
            " - after_cancel_fit: []\n",
            " - after_fit      : [XLAOptCallback, ProgressCallback]\n"
          ],
          "name": "stdout"
        }
      ]
    },
    {
      "cell_type": "code",
      "metadata": {
        "colab_type": "code",
        "id": "8sHdn1JVRSGW",
        "colab": {
          "base_uri": "https://localhost:8080/",
          "height": 34
        },
        "outputId": "365b25fd-b47b-4e50-8905-561c08805123"
      },
      "source": [
        "dls_tpu.device"
      ],
      "execution_count": 47,
      "outputs": [
        {
          "output_type": "execute_result",
          "data": {
            "text/plain": [
              "device(type='xla', index=1)"
            ]
          },
          "metadata": {
            "tags": []
          },
          "execution_count": 47
        }
      ]
    },
    {
      "cell_type": "markdown",
      "metadata": {
        "colab_type": "text",
        "id": "f_vRFNZts9GB"
      },
      "source": [
        "# Call fit\n",
        "\n",
        "Will fail in `self.loss.backward(); `?"
      ]
    },
    {
      "cell_type": "code",
      "metadata": {
        "colab_type": "code",
        "id": "oKrHpX9eu4S_",
        "colab": {
          "base_uri": "https://localhost:8080/",
          "height": 81
        },
        "outputId": "8f8410b7-f3c1-4e99-9f38-b70ce637817a"
      },
      "source": [
        "tpu_learner.fit(1)"
      ],
      "execution_count": 48,
      "outputs": [
        {
          "output_type": "display_data",
          "data": {
            "text/html": [
              "<table border=\"1\" class=\"dataframe\">\n",
              "  <thead>\n",
              "    <tr style=\"text-align: left;\">\n",
              "      <th>epoch</th>\n",
              "      <th>train_loss</th>\n",
              "      <th>valid_loss</th>\n",
              "      <th>accuracy</th>\n",
              "      <th>time</th>\n",
              "    </tr>\n",
              "  </thead>\n",
              "  <tbody>\n",
              "    <tr>\n",
              "      <td>0</td>\n",
              "      <td>0.047323</td>\n",
              "      <td>0.051018</td>\n",
              "      <td>0.983317</td>\n",
              "      <td>00:23</td>\n",
              "    </tr>\n",
              "  </tbody>\n",
              "</table>"
            ],
            "text/plain": [
              "<IPython.core.display.HTML object>"
            ]
          },
          "metadata": {
            "tags": []
          }
        }
      ]
    },
    {
      "cell_type": "code",
      "metadata": {
        "colab_type": "code",
        "id": "59-jZT0-vDcI",
        "colab": {
          "base_uri": "https://localhost:8080/",
          "height": 303
        },
        "outputId": "963cb2c8-1f80-4827-9ddd-192669247719"
      },
      "source": [
        "tpu_learner.lr_find()"
      ],
      "execution_count": 49,
      "outputs": [
        {
          "output_type": "display_data",
          "data": {
            "text/html": [
              ""
            ],
            "text/plain": [
              "<IPython.core.display.HTML object>"
            ]
          },
          "metadata": {
            "tags": []
          }
        },
        {
          "output_type": "execute_result",
          "data": {
            "text/plain": [
              "SuggestedLRs(lr_min=0.0003019951749593019, lr_steep=2.2908675418875646e-06)"
            ]
          },
          "metadata": {
            "tags": []
          },
          "execution_count": 49
        },
        {
          "output_type": "display_data",
          "data": {
            "image/png": "[encoded data removed]",
            "text/plain": [
              "<Figure size 432x288 with 1 Axes>"
            ]
          },
          "metadata": {
            "tags": [],
            "needs_background": "light"
          }
        }
      ]
    },
    {
      "cell_type": "code",
      "metadata": {
        "id": "d4afo3XOZzFD",
        "colab_type": "code",
        "colab": {
          "base_uri": "https://localhost:8080/",
          "height": 115
        },
        "outputId": "aa5dc9a5-8d85-43d6-b711-169092b1370a"
      },
      "source": [
        "%%time\n",
        "tpu_learner.fit_one_cycle(1)\n",
        "tpu_learner.validate()"
      ],
      "execution_count": 50,
      "outputs": [
        {
          "output_type": "display_data",
          "data": {
            "text/html": [
              "<table border=\"1\" class=\"dataframe\">\n",
              "  <thead>\n",
              "    <tr style=\"text-align: left;\">\n",
              "      <th>epoch</th>\n",
              "      <th>train_loss</th>\n",
              "      <th>valid_loss</th>\n",
              "      <th>accuracy</th>\n",
              "      <th>time</th>\n",
              "    </tr>\n",
              "  </thead>\n",
              "  <tbody>\n",
              "    <tr>\n",
              "      <td>0</td>\n",
              "      <td>0.028140</td>\n",
              "      <td>0.029203</td>\n",
              "      <td>0.990677</td>\n",
              "      <td>00:21</td>\n",
              "    </tr>\n",
              "  </tbody>\n",
              "</table>"
            ],
            "text/plain": [
              "<IPython.core.display.HTML object>"
            ]
          },
          "metadata": {
            "tags": []
          }
        },
        {
          "output_type": "display_data",
          "data": {
            "text/html": [
              ""
            ],
            "text/plain": [
              "<IPython.core.display.HTML object>"
            ]
          },
          "metadata": {
            "tags": []
          }
        },
        {
          "output_type": "stream",
          "text": [
            "CPU times: user 4.96 s, sys: 801 ms, total: 5.77 s\n",
            "Wall time: 24.1 s\n"
          ],
          "name": "stdout"
        }
      ]
    },
    {
      "cell_type": "code",
      "metadata": {
        "id": "kJ0U9lv0gNX9",
        "colab_type": "code",
        "colab": {}
      },
      "source": [
        "class DeviceCheckCallback(Callback):\n",
        "    \n",
        "    def after_pred(self):\n",
        "        print(f'xb device: {first(self.learn.xb).device}')\n",
        "        print(f'model device: {one_param(self.learn.model).device}')\n"
      ],
      "execution_count": 51,
      "outputs": []
    },
    {
      "cell_type": "code",
      "metadata": {
        "id": "2vv__tRKAyqI",
        "colab_type": "code",
        "colab": {
          "base_uri": "https://localhost:8080/",
          "height": 1000
        },
        "outputId": "432251b1-d8a7-4787-ee1c-8e1fb261f75b"
      },
      "source": [
        "tpu_learner.fit_one_cycle(1, cbs=[DeviceCheckCallback()])"
      ],
      "execution_count": 52,
      "outputs": [
        {
          "output_type": "display_data",
          "data": {
            "text/html": [
              "<table border=\"1\" class=\"dataframe\">\n",
              "  <thead>\n",
              "    <tr style=\"text-align: left;\">\n",
              "      <th>epoch</th>\n",
              "      <th>train_loss</th>\n",
              "      <th>valid_loss</th>\n",
              "      <th>accuracy</th>\n",
              "      <th>time</th>\n",
              "    </tr>\n",
              "  </thead>\n",
              "  <tbody>\n",
              "    <tr>\n",
              "      <td>0</td>\n",
              "      <td>0.018192</td>\n",
              "      <td>0.024327</td>\n",
              "      <td>0.991659</td>\n",
              "      <td>00:21</td>\n",
              "    </tr>\n",
              "  </tbody>\n",
              "</table>"
            ],
            "text/plain": [
              "<IPython.core.display.HTML object>"
            ]
          },
          "metadata": {
            "tags": []
          }
        },
        {
          "output_type": "stream",
          "text": [
            "xb device: xla:1\n",
            "model device: xla:1\n",
            "xb device: xla:1\n",
            "model device: xla:1\n",
            "xb device: xla:1\n",
            "model device: xla:1\n",
            "xb device: xla:1\n",
            "model device: xla:1\n",
            "xb device: xla:1\n",
            "model device: xla:1\n",
            "xb device: xla:1\n",
            "model device: xla:1\n",
            "xb device: xla:1\n",
            "model device: xla:1\n",
            "xb device: xla:1\n",
            "model device: xla:1\n",
            "xb device: xla:1\n",
            "model device: xla:1\n",
            "xb device: xla:1\n",
            "model device: xla:1\n",
            "xb device: xla:1\n",
            "model device: xla:1\n",
            "xb device: xla:1\n",
            "model device: xla:1\n",
            "xb device: xla:1\n",
            "model device: xla:1\n",
            "xb device: xla:1\n",
            "model device: xla:1\n",
            "xb device: xla:1\n",
            "model device: xla:1\n",
            "xb device: xla:1\n",
            "model device: xla:1\n",
            "xb device: xla:1\n",
            "model device: xla:1\n",
            "xb device: xla:1\n",
            "model device: xla:1\n",
            "xb device: xla:1\n",
            "model device: xla:1\n",
            "xb device: xla:1\n",
            "model device: xla:1\n",
            "xb device: xla:1\n",
            "model device: xla:1\n",
            "xb device: xla:1\n",
            "model device: xla:1\n",
            "xb device: xla:1\n",
            "model device: xla:1\n",
            "xb device: xla:1\n",
            "model device: xla:1\n",
            "xb device: xla:1\n",
            "model device: xla:1\n",
            "xb device: xla:1\n",
            "model device: xla:1\n",
            "xb device: xla:1\n",
            "model device: xla:1\n",
            "xb device: xla:1\n",
            "model device: xla:1\n",
            "xb device: xla:1\n",
            "model device: xla:1\n",
            "xb device: xla:1\n",
            "model device: xla:1\n",
            "xb device: xla:1\n",
            "model device: xla:1\n",
            "xb device: xla:1\n",
            "model device: xla:1\n",
            "xb device: xla:1\n",
            "model device: xla:1\n",
            "xb device: xla:1\n",
            "model device: xla:1\n",
            "xb device: xla:1\n",
            "model device: xla:1\n",
            "xb device: xla:1\n",
            "model device: xla:1\n",
            "xb device: xla:1\n",
            "model device: xla:1\n",
            "xb device: xla:1\n",
            "model device: xla:1\n",
            "xb device: xla:1\n",
            "model device: xla:1\n",
            "xb device: xla:1\n",
            "model device: xla:1\n",
            "xb device: xla:1\n",
            "model device: xla:1\n",
            "xb device: xla:1\n",
            "model device: xla:1\n",
            "xb device: xla:1\n",
            "model device: xla:1\n",
            "xb device: xla:1\n",
            "model device: xla:1\n",
            "xb device: xla:1\n",
            "model device: xla:1\n",
            "xb device: xla:1\n",
            "model device: xla:1\n",
            "xb device: xla:1\n",
            "model device: xla:1\n",
            "xb device: xla:1\n",
            "model device: xla:1\n",
            "xb device: xla:1\n",
            "model device: xla:1\n",
            "xb device: xla:1\n",
            "model device: xla:1\n",
            "xb device: xla:1\n",
            "model device: xla:1\n",
            "xb device: xla:1\n",
            "model device: xla:1\n",
            "xb device: xla:1\n",
            "model device: xla:1\n",
            "xb device: xla:1\n",
            "model device: xla:1\n",
            "xb device: xla:1\n",
            "model device: xla:1\n",
            "xb device: xla:1\n",
            "model device: xla:1\n",
            "xb device: xla:1\n",
            "model device: xla:1\n",
            "xb device: xla:1\n",
            "model device: xla:1\n",
            "xb device: xla:1\n",
            "model device: xla:1\n",
            "xb device: xla:1\n",
            "model device: xla:1\n",
            "xb device: xla:1\n",
            "model device: xla:1\n",
            "xb device: xla:1\n",
            "model device: xla:1\n",
            "xb device: xla:1\n",
            "model device: xla:1\n",
            "xb device: xla:1\n",
            "model device: xla:1\n",
            "xb device: xla:1\n",
            "model device: xla:1\n",
            "xb device: xla:1\n",
            "model device: xla:1\n",
            "xb device: xla:1\n",
            "model device: xla:1\n",
            "xb device: xla:1\n",
            "model device: xla:1\n",
            "xb device: xla:1\n",
            "model device: xla:1\n",
            "xb device: xla:1\n",
            "model device: xla:1\n",
            "xb device: xla:1\n",
            "model device: xla:1\n",
            "xb device: xla:1\n",
            "model device: xla:1\n",
            "xb device: xla:1\n",
            "model device: xla:1\n",
            "xb device: xla:1\n",
            "model device: xla:1\n",
            "xb device: xla:1\n",
            "model device: xla:1\n",
            "xb device: xla:1\n",
            "model device: xla:1\n",
            "xb device: xla:1\n",
            "model device: xla:1\n",
            "xb device: xla:1\n",
            "model device: xla:1\n",
            "xb device: xla:1\n",
            "model device: xla:1\n",
            "xb device: xla:1\n",
            "model device: xla:1\n",
            "xb device: xla:1\n",
            "model device: xla:1\n",
            "xb device: xla:1\n",
            "model device: xla:1\n",
            "xb device: xla:1\n",
            "model device: xla:1\n",
            "xb device: xla:1\n",
            "model device: xla:1\n",
            "xb device: xla:1\n",
            "model device: xla:1\n",
            "xb device: xla:1\n",
            "model device: xla:1\n",
            "xb device: xla:1\n",
            "model device: xla:1\n",
            "xb device: xla:1\n",
            "model device: xla:1\n",
            "xb device: xla:1\n",
            "model device: xla:1\n",
            "xb device: xla:1\n",
            "model device: xla:1\n",
            "xb device: xla:1\n",
            "model device: xla:1\n",
            "xb device: xla:1\n",
            "model device: xla:1\n",
            "xb device: xla:1\n",
            "model device: xla:1\n",
            "xb device: xla:1\n",
            "model device: xla:1\n",
            "xb device: xla:1\n",
            "model device: xla:1\n",
            "xb device: xla:1\n",
            "model device: xla:1\n",
            "xb device: xla:1\n",
            "model device: xla:1\n",
            "xb device: xla:1\n",
            "model device: xla:1\n",
            "xb device: xla:1\n",
            "model device: xla:1\n",
            "xb device: xla:1\n",
            "model device: xla:1\n",
            "xb device: xla:1\n",
            "model device: xla:1\n",
            "xb device: xla:1\n",
            "model device: xla:1\n",
            "xb device: xla:1\n",
            "model device: xla:1\n",
            "xb device: xla:1\n",
            "model device: xla:1\n",
            "xb device: xla:1\n",
            "model device: xla:1\n",
            "xb device: xla:1\n",
            "model device: xla:1\n",
            "xb device: xla:1\n",
            "model device: xla:1\n",
            "xb device: xla:1\n",
            "model device: xla:1\n",
            "xb device: xla:1\n",
            "model device: xla:1\n",
            "xb device: xla:1\n",
            "model device: xla:1\n",
            "xb device: xla:1\n",
            "model device: xla:1\n",
            "xb device: xla:1\n",
            "model device: xla:1\n",
            "xb device: xla:1\n",
            "model device: xla:1\n",
            "xb device: xla:1\n",
            "model device: xla:1\n",
            "xb device: xla:1\n",
            "model device: xla:1\n",
            "xb device: xla:1\n",
            "model device: xla:1\n",
            "xb device: xla:1\n",
            "model device: xla:1\n",
            "xb device: xla:1\n",
            "model device: xla:1\n",
            "xb device: xla:1\n",
            "model device: xla:1\n",
            "xb device: xla:1\n",
            "model device: xla:1\n",
            "xb device: xla:1\n",
            "model device: xla:1\n",
            "xb device: xla:1\n",
            "model device: xla:1\n",
            "xb device: xla:1\n",
            "model device: xla:1\n",
            "xb device: xla:1\n",
            "model device: xla:1\n",
            "xb device: xla:1\n",
            "model device: xla:1\n",
            "xb device: xla:1\n",
            "model device: xla:1\n",
            "xb device: xla:1\n",
            "model device: xla:1\n",
            "xb device: xla:1\n",
            "model device: xla:1\n",
            "xb device: xla:1\n",
            "model device: xla:1\n",
            "xb device: xla:1\n",
            "model device: xla:1\n",
            "xb device: xla:1\n",
            "model device: xla:1\n",
            "xb device: xla:1\n",
            "model device: xla:1\n",
            "xb device: xla:1\n",
            "model device: xla:1\n",
            "xb device: xla:1\n",
            "model device: xla:1\n",
            "xb device: xla:1\n",
            "model device: xla:1\n",
            "xb device: xla:1\n",
            "model device: xla:1\n",
            "xb device: xla:1\n",
            "model device: xla:1\n",
            "xb device: xla:1\n",
            "model device: xla:1\n",
            "xb device: xla:1\n",
            "model device: xla:1\n",
            "xb device: xla:1\n",
            "model device: xla:1\n",
            "xb device: xla:1\n",
            "model device: xla:1\n",
            "xb device: xla:1\n",
            "model device: xla:1\n",
            "xb device: xla:1\n",
            "model device: xla:1\n",
            "xb device: xla:1\n",
            "model device: xla:1\n",
            "xb device: xla:1\n",
            "model device: xla:1\n",
            "xb device: xla:1\n",
            "model device: xla:1\n",
            "xb device: xla:1\n",
            "model device: xla:1\n",
            "xb device: xla:1\n",
            "model device: xla:1\n",
            "xb device: xla:1\n",
            "model device: xla:1\n",
            "xb device: xla:1\n",
            "model device: xla:1\n",
            "xb device: xla:1\n",
            "model device: xla:1\n",
            "xb device: xla:1\n",
            "model device: xla:1\n",
            "xb device: xla:1\n",
            "model device: xla:1\n",
            "xb device: xla:1\n",
            "model device: xla:1\n",
            "xb device: xla:1\n",
            "model device: xla:1\n",
            "xb device: xla:1\n",
            "model device: xla:1\n",
            "xb device: xla:1\n",
            "model device: xla:1\n",
            "xb device: xla:1\n",
            "model device: xla:1\n",
            "xb device: xla:1\n",
            "model device: xla:1\n",
            "xb device: xla:1\n",
            "model device: xla:1\n",
            "xb device: xla:1\n",
            "model device: xla:1\n",
            "xb device: xla:1\n",
            "model device: xla:1\n",
            "xb device: xla:1\n",
            "model device: xla:1\n",
            "xb device: xla:1\n",
            "model device: xla:1\n",
            "xb device: xla:1\n",
            "model device: xla:1\n",
            "xb device: xla:1\n",
            "model device: xla:1\n",
            "xb device: xla:1\n",
            "model device: xla:1\n",
            "xb device: xla:1\n",
            "model device: xla:1\n",
            "xb device: xla:1\n",
            "model device: xla:1\n",
            "xb device: xla:1\n",
            "model device: xla:1\n",
            "xb device: xla:1\n",
            "model device: xla:1\n",
            "xb device: xla:1\n",
            "model device: xla:1\n",
            "xb device: xla:1\n",
            "model device: xla:1\n",
            "xb device: xla:1\n",
            "model device: xla:1\n",
            "xb device: xla:1\n",
            "model device: xla:1\n",
            "xb device: xla:1\n",
            "model device: xla:1\n",
            "xb device: xla:1\n",
            "model device: xla:1\n",
            "xb device: xla:1\n",
            "model device: xla:1\n",
            "xb device: xla:1\n",
            "model device: xla:1\n",
            "xb device: xla:1\n",
            "model device: xla:1\n",
            "xb device: xla:1\n",
            "model device: xla:1\n",
            "xb device: xla:1\n",
            "model device: xla:1\n",
            "xb device: xla:1\n",
            "model device: xla:1\n",
            "xb device: xla:1\n",
            "model device: xla:1\n",
            "xb device: xla:1\n",
            "model device: xla:1\n",
            "xb device: xla:1\n",
            "model device: xla:1\n",
            "xb device: xla:1\n",
            "model device: xla:1\n",
            "xb device: xla:1\n",
            "model device: xla:1\n",
            "xb device: xla:1\n",
            "model device: xla:1\n",
            "xb device: xla:1\n",
            "model device: xla:1\n",
            "xb device: xla:1\n",
            "model device: xla:1\n",
            "xb device: xla:1\n",
            "model device: xla:1\n",
            "xb device: xla:1\n",
            "model device: xla:1\n",
            "xb device: xla:1\n",
            "model device: xla:1\n",
            "xb device: xla:1\n",
            "model device: xla:1\n",
            "xb device: xla:1\n",
            "model device: xla:1\n",
            "xb device: xla:1\n",
            "model device: xla:1\n",
            "xb device: xla:1\n",
            "model device: xla:1\n",
            "xb device: xla:1\n",
            "model device: xla:1\n",
            "xb device: xla:1\n",
            "model device: xla:1\n",
            "xb device: xla:1\n",
            "model device: xla:1\n",
            "xb device: xla:1\n",
            "model device: xla:1\n",
            "xb device: xla:1\n",
            "model device: xla:1\n",
            "xb device: xla:1\n",
            "model device: xla:1\n",
            "xb device: xla:1\n",
            "model device: xla:1\n",
            "xb device: xla:1\n",
            "model device: xla:1\n",
            "xb device: xla:1\n",
            "model device: xla:1\n",
            "xb device: xla:1\n",
            "model device: xla:1\n",
            "xb device: xla:1\n",
            "model device: xla:1\n",
            "xb device: xla:1\n",
            "model device: xla:1\n",
            "xb device: xla:1\n",
            "model device: xla:1\n",
            "xb device: xla:1\n",
            "model device: xla:1\n",
            "xb device: xla:1\n",
            "model device: xla:1\n",
            "xb device: xla:1\n",
            "model device: xla:1\n",
            "xb device: xla:1\n",
            "model device: xla:1\n",
            "xb device: xla:1\n",
            "model device: xla:1\n",
            "xb device: xla:1\n",
            "model device: xla:1\n",
            "xb device: xla:1\n",
            "model device: xla:1\n",
            "xb device: xla:1\n",
            "model device: xla:1\n",
            "xb device: xla:1\n",
            "model device: xla:1\n",
            "xb device: xla:1\n",
            "model device: xla:1\n",
            "xb device: xla:1\n",
            "model device: xla:1\n",
            "xb device: xla:1\n",
            "model device: xla:1\n",
            "xb device: xla:1\n",
            "model device: xla:1\n",
            "xb device: xla:1\n",
            "model device: xla:1\n"
          ],
          "name": "stdout"
        }
      ]
    },
    {
      "cell_type": "code",
      "metadata": {
        "id": "FwqEIE9aA9ZT",
        "colab_type": "code",
        "colab": {}
      },
      "source": [
        ""
      ],
      "execution_count": null,
      "outputs": []
    }
  ]
}