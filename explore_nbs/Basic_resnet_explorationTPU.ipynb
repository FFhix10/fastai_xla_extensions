{
  "nbformat": 4,
  "nbformat_minor": 0,
  "metadata": {
    "accelerator": "TPU",
    "colab": {
      "name": "Basic_resnet_explorationTPU.ipynb",
      "provenance": [],
      "collapsed_sections": [],
      "toc_visible": true,
      "include_colab_link": true
    },
    "kernelspec": {
      "display_name": "Python 3",
      "language": "python",
      "name": "python3"
    },
    "language_info": {
      "codemirror_mode": {
        "name": "ipython",
        "version": 3
      },
      "file_extension": ".py",
      "mimetype": "text/x-python",
      "name": "python",
      "nbconvert_exporter": "python",
      "pygments_lexer": "ipython3",
      "version": "3.7.7"
    }
  },
  "cells": [
    {
      "cell_type": "markdown",
      "metadata": {
        "id": "view-in-github",
        "colab_type": "text"
      },
      "source": [
        "<a href=\"https://colab.research.google.com/github/butchland/fastai_xla_extensions/blob/master/explore_nbs/Basic_resnet_explorationTPU.ipynb\" target=\"_parent\"><img src=\"https://colab.research.google.com/assets/colab-badge.svg\" alt=\"Open In Colab\"/></a>"
      ]
    },
    {
      "cell_type": "markdown",
      "metadata": {
        "colab_type": "text",
        "id": "BmnUX_l8lQ6B"
      },
      "source": [
        "# Install fastai2 from github"
      ]
    },
    {
      "cell_type": "code",
      "metadata": {
        "colab_type": "code",
        "id": "Q5DZXcBNJoy1",
        "colab": {
          "base_uri": "https://localhost:8080/",
          "height": 52
        },
        "outputId": "2a72744f-175d-4bed-bfa7-7513ba8c389e"
      },
      "source": [
        "!pip install -Uqq fastcore --upgrade\n",
        "!pip install -Uqq fastai --upgrade \n",
        "!pip install -Uqq git+https://github.com/butchland/fastai_xla_extensions"
      ],
      "execution_count": 1,
      "outputs": [
        {
          "output_type": "stream",
          "text": [
            "\u001b[?25l\r\u001b[K     |█                               | 10kB 19.4MB/s eta 0:00:01\r\u001b[K     |█▉                              | 20kB 2.0MB/s eta 0:00:01\r\u001b[K     |██▉                             | 30kB 2.5MB/s eta 0:00:01\r\u001b[K     |███▊                            | 40kB 3.0MB/s eta 0:00:01\r\u001b[K     |████▊                           | 51kB 2.3MB/s eta 0:00:01\r\u001b[K     |█████▋                          | 61kB 2.6MB/s eta 0:00:01\r\u001b[K     |██████▌                         | 71kB 2.8MB/s eta 0:00:01\r\u001b[K     |███████▌                        | 81kB 3.1MB/s eta 0:00:01\r\u001b[K     |████████▍                       | 92kB 3.4MB/s eta 0:00:01\r\u001b[K     |█████████▍                      | 102kB 3.3MB/s eta 0:00:01\r\u001b[K     |██████████▎                     | 112kB 3.3MB/s eta 0:00:01\r\u001b[K     |███████████▏                    | 122kB 3.3MB/s eta 0:00:01\r\u001b[K     |████████████▏                   | 133kB 3.3MB/s eta 0:00:01\r\u001b[K     |█████████████                   | 143kB 3.3MB/s eta 0:00:01\r\u001b[K     |██████████████                  | 153kB 3.3MB/s eta 0:00:01\r\u001b[K     |███████████████                 | 163kB 3.3MB/s eta 0:00:01\r\u001b[K     |███████████████▉                | 174kB 3.3MB/s eta 0:00:01\r\u001b[K     |████████████████▉               | 184kB 3.3MB/s eta 0:00:01\r\u001b[K     |█████████████████▊              | 194kB 3.3MB/s eta 0:00:01\r\u001b[K     |██████████████████▊             | 204kB 3.3MB/s eta 0:00:01\r\u001b[K     |███████████████████▋            | 215kB 3.3MB/s eta 0:00:01\r\u001b[K     |████████████████████▌           | 225kB 3.3MB/s eta 0:00:01\r\u001b[K     |█████████████████████▌          | 235kB 3.3MB/s eta 0:00:01\r\u001b[K     |██████████████████████▍         | 245kB 3.3MB/s eta 0:00:01\r\u001b[K     |███████████████████████▍        | 256kB 3.3MB/s eta 0:00:01\r\u001b[K     |████████████████████████▎       | 266kB 3.3MB/s eta 0:00:01\r\u001b[K     |█████████████████████████▏      | 276kB 3.3MB/s eta 0:00:01\r\u001b[K     |██████████████████████████▏     | 286kB 3.3MB/s eta 0:00:01\r\u001b[K     |███████████████████████████     | 296kB 3.3MB/s eta 0:00:01\r\u001b[K     |████████████████████████████    | 307kB 3.3MB/s eta 0:00:01\r\u001b[K     |█████████████████████████████   | 317kB 3.3MB/s eta 0:00:01\r\u001b[K     |██████████████████████████████  | 327kB 3.3MB/s eta 0:00:01\r\u001b[K     |██████████████████████████████▉ | 337kB 3.3MB/s eta 0:00:01\r\u001b[K     |███████████████████████████████▊| 348kB 3.3MB/s eta 0:00:01\r\u001b[K     |████████████████████████████████| 358kB 3.3MB/s \n",
            "\u001b[?25h  Building wheel for fastai-xla-extensions (setup.py) ... \u001b[?25l\u001b[?25hdone\n"
          ],
          "name": "stdout"
        }
      ]
    },
    {
      "cell_type": "code",
      "metadata": {
        "colab_type": "code",
        "id": "GucdOzF7r6ch",
        "colab": {
          "base_uri": "https://localhost:8080/",
          "height": 69
        },
        "outputId": "05f45541-b138-4fc2-ef7b-432c7df202ea"
      },
      "source": [
        "VERSION = \"20200707\"  #\"20200515\" @param [\"1.5\" , \"20200325\", \"nightly\"]\n",
        "!curl https://raw.githubusercontent.com/pytorch/xla/master/contrib/scripts/env-setup.py -o pytorch-xla-env-setup.py"
      ],
      "execution_count": 2,
      "outputs": [
        {
          "output_type": "stream",
          "text": [
            "  % Total    % Received % Xferd  Average Speed   Time    Time     Time  Current\n",
            "                                 Dload  Upload   Total   Spent    Left  Speed\n",
            "\r  0     0    0     0    0     0      0      0 --:--:-- --:--:-- --:--:--     0\r100  5115  100  5115    0     0  32169      0 --:--:-- --:--:-- --:--:-- 32169\n"
          ],
          "name": "stdout"
        }
      ]
    },
    {
      "cell_type": "code",
      "metadata": {
        "colab_type": "code",
        "id": "BxoA3fJusV17",
        "colab": {
          "base_uri": "https://localhost:8080/",
          "height": 1000
        },
        "outputId": "6ebb13df-569d-4b5c-c111-2d8657fae916"
      },
      "source": [
        "#!TORCH_SHOW_CPP_STACKTRACES=1 python pytorch-xla-env-setup.py --apt-packages libomp5 libopenblas-dev\n",
        "!python pytorch-xla-env-setup.py  --version $VERSION --apt-packages libomp5 libopenblas-dev"
      ],
      "execution_count": 3,
      "outputs": [
        {
          "output_type": "stream",
          "text": [
            "Updating... This may take around 2 minutes.\n",
            "Updating TPU runtime to pytorch-dev20200707 ...\n",
            "Collecting cloud-tpu-client\n",
            "  Downloading https://files.pythonhosted.org/packages/56/9f/7b1958c2886db06feb5de5b2c191096f9e619914b6c31fdf93999fdbbd8b/cloud_tpu_client-0.10-py3-none-any.whl\n",
            "Collecting google-api-python-client==1.8.0\n",
            "\u001b[?25l  Downloading https://files.pythonhosted.org/packages/9a/b4/a955f393b838bc47cbb6ae4643b9d0f90333d3b4db4dc1e819f36aad18cc/google_api_python_client-1.8.0-py3-none-any.whl (57kB)\n",
            "\u001b[K     |████████████████████████████████| 61kB 2.5MB/s \n",
            "\u001b[?25hRequirement already satisfied: oauth2client in /usr/local/lib/python3.6/dist-packages (from cloud-tpu-client) (4.1.3)\n",
            "Requirement already satisfied: six<2dev,>=1.6.1 in /usr/local/lib/python3.6/dist-packages (from google-api-python-client==1.8.0->cloud-tpu-client) (1.15.0)\n",
            "Requirement already satisfied: google-auth-httplib2>=0.0.3 in /usr/local/lib/python3.6/dist-packages (from google-api-python-client==1.8.0->cloud-tpu-client) (0.0.4)\n",
            "Requirement already satisfied: httplib2<1dev,>=0.9.2 in /usr/local/lib/python3.6/dist-packages (from google-api-python-client==1.8.0->cloud-tpu-client) (0.17.4)\n",
            "Requirement already satisfied: google-api-core<2dev,>=1.13.0 in /usr/local/lib/python3.6/dist-packages (from google-api-python-client==1.8.0->cloud-tpu-client) (1.16.0)\n",
            "Requirement already satisfied: uritemplate<4dev,>=3.0.0 in /usr/local/lib/python3.6/dist-packages (from google-api-python-client==1.8.0->cloud-tpu-client) (3.0.1)\n",
            "Requirement already satisfied: google-auth>=1.4.1 in /usr/local/lib/python3.6/dist-packages (from google-api-python-client==1.8.0->cloud-tpu-client) (1.17.2)\n",
            "Requirement already satisfied: pyasn1-modules>=0.0.5 in /usr/local/lib/python3.6/dist-packages (from oauth2client->cloud-tpu-client) (0.2.8)\n",
            "Requirement already satisfied: rsa>=3.1.4 in /usr/local/lib/python3.6/dist-packages (from oauth2client->cloud-tpu-client) (4.6)\n",
            "Requirement already satisfied: pyasn1>=0.1.7 in /usr/local/lib/python3.6/dist-packages (from oauth2client->cloud-tpu-client) (0.4.8)\n",
            "Requirement already satisfied: googleapis-common-protos<2.0dev,>=1.6.0 in /usr/local/lib/python3.6/dist-packages (from google-api-core<2dev,>=1.13.0->google-api-python-client==1.8.0->cloud-tpu-client) (1.52.0)\n",
            "Requirement already satisfied: pytz in /usr/local/lib/python3.6/dist-packages (from google-api-core<2dev,>=1.13.0->google-api-python-client==1.8.0->cloud-tpu-client) (2018.9)\n",
            "Requirement already satisfied: protobuf>=3.4.0 in /usr/local/lib/python3.6/dist-packages (from google-api-core<2dev,>=1.13.0->google-api-python-client==1.8.0->cloud-tpu-client) (3.12.4)\n",
            "Requirement already satisfied: requests<3.0.0dev,>=2.18.0 in /usr/local/lib/python3.6/dist-packages (from google-api-core<2dev,>=1.13.0->google-api-python-client==1.8.0->cloud-tpu-client) (2.23.0)\n",
            "Requirement already satisfied: setuptools>=34.0.0 in /usr/local/lib/python3.6/dist-packages (from google-api-core<2dev,>=1.13.0->google-api-python-client==1.8.0->cloud-tpu-client) (49.6.0)\n",
            "Uninstalling torch-1.6.0+cu101:\n",
            "Requirement already satisfied: cachetools<5.0,>=2.0.0 in /usr/local/lib/python3.6/dist-packages (from google-auth>=1.4.1->google-api-python-client==1.8.0->cloud-tpu-client) (4.1.1)\n",
            "Requirement already satisfied: idna<3,>=2.5 in /usr/local/lib/python3.6/dist-packages (from requests<3.0.0dev,>=2.18.0->google-api-core<2dev,>=1.13.0->google-api-python-client==1.8.0->cloud-tpu-client) (2.10)\n",
            "Requirement already satisfied: urllib3!=1.25.0,!=1.25.1,<1.26,>=1.21.1 in /usr/local/lib/python3.6/dist-packages (from requests<3.0.0dev,>=2.18.0->google-api-core<2dev,>=1.13.0->google-api-python-client==1.8.0->cloud-tpu-client) (1.24.3)\n",
            "Requirement already satisfied: certifi>=2017.4.17 in /usr/local/lib/python3.6/dist-packages (from requests<3.0.0dev,>=2.18.0->google-api-core<2dev,>=1.13.0->google-api-python-client==1.8.0->cloud-tpu-client) (2020.6.20)\n",
            "Requirement already satisfied: chardet<4,>=3.0.2 in /usr/local/lib/python3.6/dist-packages (from requests<3.0.0dev,>=2.18.0->google-api-core<2dev,>=1.13.0->google-api-python-client==1.8.0->cloud-tpu-client) (3.0.4)\n",
            "Installing collected packages: google-api-python-client, cloud-tpu-client\n",
            "  Found existing installation: google-api-python-client 1.7.12\n",
            "    Uninstalling google-api-python-client-1.7.12:\n",
            "      Successfully uninstalled google-api-python-client-1.7.12\n",
            "Successfully installed cloud-tpu-client-0.10 google-api-python-client-1.8.0\n",
            "Done updating TPU runtime\n",
            "  Successfully uninstalled torch-1.6.0+cu101\n",
            "Uninstalling torchvision-0.7.0+cu101:\n",
            "  Successfully uninstalled torchvision-0.7.0+cu101\n",
            "Copying gs://tpu-pytorch/wheels/torch-nightly+20200707-cp36-cp36m-linux_x86_64.whl...\n",
            "- [1 files][107.5 MiB/107.5 MiB]                                                \n",
            "Operation completed over 1 objects/107.5 MiB.                                    \n",
            "Copying gs://tpu-pytorch/wheels/torch_xla-nightly+20200707-cp36-cp36m-linux_x86_64.whl...\n",
            "\\ [1 files][123.8 MiB/123.8 MiB]                                                \n",
            "Operation completed over 1 objects/123.8 MiB.                                    \n",
            "Copying gs://tpu-pytorch/wheels/torchvision-nightly+20200707-cp36-cp36m-linux_x86_64.whl...\n",
            "/ [1 files][  2.2 MiB/  2.2 MiB]                                                \n",
            "Operation completed over 1 objects/2.2 MiB.                                      \n",
            "Processing ./torch-nightly+20200707-cp36-cp36m-linux_x86_64.whl\n",
            "Requirement already satisfied: future in /usr/local/lib/python3.6/dist-packages (from torch==nightly+20200707) (0.16.0)\n",
            "Requirement already satisfied: numpy in /usr/local/lib/python3.6/dist-packages (from torch==nightly+20200707) (1.18.5)\n",
            "\u001b[31mERROR: fastai 2.0.0 requires torchvision>=0.7, which is not installed.\u001b[0m\n",
            "Installing collected packages: torch\n",
            "Successfully installed torch-1.7.0a0+12b5bdc\n",
            "Processing ./torch_xla-nightly+20200707-cp36-cp36m-linux_x86_64.whl\n",
            "Installing collected packages: torch-xla\n",
            "Successfully installed torch-xla-1.6+5430aca\n",
            "Processing ./torchvision-nightly+20200707-cp36-cp36m-linux_x86_64.whl\n",
            "Requirement already satisfied: pillow>=4.1.1 in /usr/local/lib/python3.6/dist-packages (from torchvision==nightly+20200707) (7.0.0)\n",
            "Requirement already satisfied: torch in /usr/local/lib/python3.6/dist-packages (from torchvision==nightly+20200707) (1.7.0a0+12b5bdc)\n",
            "Requirement already satisfied: numpy in /usr/local/lib/python3.6/dist-packages (from torchvision==nightly+20200707) (1.18.5)\n",
            "Requirement already satisfied: future in /usr/local/lib/python3.6/dist-packages (from torch->torchvision==nightly+20200707) (0.16.0)\n",
            "Installing collected packages: torchvision\n",
            "Successfully installed torchvision-0.8.0a0+86b6c3e\n",
            "Reading package lists... Done\n",
            "Building dependency tree       \n",
            "Reading state information... Done\n",
            "libopenblas-dev is already the newest version (0.2.20+ds-4).\n",
            "The following package was automatically installed and is no longer required:\n",
            "  libnvidia-common-440\n",
            "Use 'apt autoremove' to remove it.\n",
            "The following NEW packages will be installed:\n",
            "  libomp5\n",
            "0 upgraded, 1 newly installed, 0 to remove and 39 not upgraded.\n",
            "Need to get 234 kB of archives.\n",
            "After this operation, 774 kB of additional disk space will be used.\n",
            "Get:1 http://archive.ubuntu.com/ubuntu bionic/universe amd64 libomp5 amd64 5.0.1-1 [234 kB]\n",
            "Fetched 234 kB in 1s (393 kB/s)\n",
            "Selecting previously unselected package libomp5:amd64.\n",
            "(Reading database ... 144579 files and directories currently installed.)\n",
            "Preparing to unpack .../libomp5_5.0.1-1_amd64.deb ...\n",
            "Unpacking libomp5:amd64 (5.0.1-1) ...\n",
            "Setting up libomp5:amd64 (5.0.1-1) ...\n",
            "Processing triggers for libc-bin (2.27-3ubuntu1) ...\n",
            "/sbin/ldconfig.real: /usr/local/lib/python3.6/dist-packages/ideep4py/lib/libmkldnn.so.0 is not a symbolic link\n",
            "\n"
          ],
          "name": "stdout"
        }
      ]
    },
    {
      "cell_type": "code",
      "metadata": {
        "colab_type": "code",
        "id": "aJMhjxPPaPo8",
        "colab": {
          "base_uri": "https://localhost:8080/",
          "height": 156
        },
        "outputId": "e8c617ea-92fd-4134-ba8c-8a0e4a5263c5"
      },
      "source": [
        "!pip freeze | grep torch \n",
        "!pip freeze | grep fastcore\n",
        "!pip freeze | grep fastai"
      ],
      "execution_count": 4,
      "outputs": [
        {
          "output_type": "stream",
          "text": [
            "torch==1.7.0a0+12b5bdc\n",
            "torch-xla==1.6+5430aca\n",
            "torchsummary==1.5.1\n",
            "torchtext==0.3.1\n",
            "torchvision==0.8.0a0+86b6c3e\n",
            "fastcore==1.0.0\n",
            "fastai==2.0.0\n",
            "fastai-xla-extensions==0.0.1\n"
          ],
          "name": "stdout"
        }
      ]
    },
    {
      "cell_type": "code",
      "metadata": {
        "id": "O5vVQw3JM7yA",
        "colab_type": "code",
        "colab": {}
      },
      "source": [
        "import fastai_xla_extensions.core"
      ],
      "execution_count": 1,
      "outputs": []
    },
    {
      "cell_type": "code",
      "metadata": {
        "colab_type": "code",
        "id": "mlAKa0RsbOei",
        "colab": {}
      },
      "source": [
        "from fastai.vision.all import *"
      ],
      "execution_count": 2,
      "outputs": []
    },
    {
      "cell_type": "code",
      "metadata": {
        "id": "yP0SuTY0xBrb",
        "colab_type": "code",
        "colab": {}
      },
      "source": [
        "from fastai_xla_extensions.core import default_device, to_device"
      ],
      "execution_count": 3,
      "outputs": []
    },
    {
      "cell_type": "code",
      "metadata": {
        "id": "rHE_YF1_wHeO",
        "colab_type": "code",
        "colab": {
          "base_uri": "https://localhost:8080/",
          "height": 34
        },
        "outputId": "a24f3722-5f2a-428f-dc9a-3e39097d5f13"
      },
      "source": [
        "default_device"
      ],
      "execution_count": 4,
      "outputs": [
        {
          "output_type": "execute_result",
          "data": {
            "text/plain": [
              "<function fastai_xla_extensions.core.default_device>"
            ]
          },
          "metadata": {
            "tags": []
          },
          "execution_count": 4
        }
      ]
    },
    {
      "cell_type": "code",
      "metadata": {
        "colab_type": "code",
        "id": "OD7QTq_ulNZK",
        "colab": {
          "base_uri": "https://localhost:8080/",
          "height": 34
        },
        "outputId": "bdd8d7ab-5208-4703-c291-59634a8b70b9"
      },
      "source": [
        "path = untar_data(URLs.MNIST_SAMPLE)\n",
        "Path.BASE_PATH = path; path.ls()"
      ],
      "execution_count": 5,
      "outputs": [
        {
          "output_type": "execute_result",
          "data": {
            "text/plain": [
              "(#3) [Path('valid'),Path('train'),Path('labels.csv')]"
            ]
          },
          "metadata": {
            "tags": []
          },
          "execution_count": 5
        }
      ]
    },
    {
      "cell_type": "code",
      "metadata": {
        "id": "jZHPPO8I8RbC",
        "colab_type": "code",
        "colab": {
          "base_uri": "https://localhost:8080/",
          "height": 34
        },
        "outputId": "45b5e67c-f5ab-48cf-af37-340dba9e620b"
      },
      "source": [
        "(path/'train').ls()"
      ],
      "execution_count": 6,
      "outputs": [
        {
          "output_type": "execute_result",
          "data": {
            "text/plain": [
              "(#2) [Path('train/7'),Path('train/3')]"
            ]
          },
          "metadata": {
            "tags": []
          },
          "execution_count": 6
        }
      ]
    },
    {
      "cell_type": "markdown",
      "metadata": {
        "colab_type": "text",
        "id": "PoJrJqx8BO30"
      },
      "source": [
        "# Lenet with convs and F.max_pool2d"
      ]
    },
    {
      "cell_type": "code",
      "metadata": {
        "colab_type": "code",
        "id": "sfJVAsAerFku",
        "colab": {}
      },
      "source": [
        "# class MyLenet(nn.Module):\n",
        "#     def __init__(self):\n",
        "#         super(MyLenet, self).__init__()\n",
        "#         self.conv1 = nn.Conv2d(3, 6, 3)\n",
        "#         self.conv2 = nn.Conv2d(6,16,3)\n",
        "#         self.hiden4 = nn.Linear(400, 2) # 2 outputs instead of 10\n",
        "#     def forward(self, x):\n",
        "#         x = F.max_pool2d(F.relu(self.conv1(x)), (2, 2))\n",
        "#         x = F.max_pool2d(F.relu(self.conv2(x)), 2)\n",
        "#         x = x.view(-1, self.num_flat_features(x))\n",
        "#         x = self.hiden4(x)\n",
        "#         return x\n",
        "    \n",
        "#     def num_flat_features(self, x):\n",
        "#         size = x.size()[1:]  # all dimensions except the batch dimension\n",
        "#         num_features = 1\n",
        "#         for s in size:\n",
        "#             num_features *= s\n",
        "#         return num_features\n"
      ],
      "execution_count": null,
      "outputs": []
    },
    {
      "cell_type": "markdown",
      "metadata": {
        "colab_type": "text",
        "id": "YujM_GLxBW4_"
      },
      "source": [
        "# Lenet with layers"
      ]
    },
    {
      "cell_type": "code",
      "metadata": {
        "colab_type": "code",
        "id": "RETI5TWYyn6C",
        "colab": {}
      },
      "source": [
        "# class Lenet2(nn.Module):\n",
        "#     def __init__(self):\n",
        "#         super(Lenet2, self).__init__()\n",
        "#         self.conv1 = nn.Conv2d(3, 6, 3)\n",
        "#         self.conv2 = nn.Conv2d(6, 16, 3)\n",
        "#         self.fc1 = nn.Linear(400, 120)\n",
        "#         self.fc2 = nn.Linear(120, 84)\n",
        "#         self.fc3 = nn.Linear(84, 2) # Only 2 outputs instead of 10\n",
        "#     def forward(self, x):\n",
        "#         # Max pooling over a (2, 2) window\n",
        "#         x = F.max_pool2d(F.relu(self.conv1(x)), (2, 2))\n",
        "#         # If the size is a square you can only specify a single number\n",
        "#         x = F.max_pool2d(F.relu(self.conv2(x)), 2)\n",
        "#         x = x.view(-1, self.num_flat_features(x))\n",
        "#         x = F.relu(self.fc1(x))\n",
        "#         x = F.relu(self.fc2(x))\n",
        "#         x = self.fc3(x)\n",
        "#         return x\n",
        "\n",
        "#     def num_flat_features(self, x):\n",
        "#         size = x.size()[1:]  # all dimensions except the batch dimension\n",
        "#         num_features = 1\n",
        "#         for s in size:\n",
        "#             num_features *= s\n",
        "#         return num_features\n",
        "\n",
        "\n"
      ],
      "execution_count": null,
      "outputs": []
    },
    {
      "cell_type": "markdown",
      "metadata": {
        "colab_type": "text",
        "id": "esGnoThVr5sm"
      },
      "source": [
        "# Current TPU implementation callbacks"
      ]
    },
    {
      "cell_type": "markdown",
      "metadata": {
        "colab_type": "text",
        "id": "p1MkLSk4rGXa"
      },
      "source": [
        "# Load in TPU"
      ]
    },
    {
      "cell_type": "markdown",
      "metadata": {
        "id": "iGGltCFpN0Gs",
        "colab_type": "text"
      },
      "source": [
        ""
      ]
    },
    {
      "cell_type": "code",
      "metadata": {
        "colab_type": "code",
        "id": "xEERTzNRN5qh",
        "colab": {}
      },
      "source": [
        "dblock = DataBlock(\n",
        "    splitter = GrandparentSplitter(),\n",
        "    item_tfms = Resize(28),\n",
        "    blocks = (ImageBlock, CategoryBlock),\n",
        "    get_items = get_image_files,\n",
        "    get_y = parent_label,\n",
        "    batch_tfms = []\n",
        ")\n"
      ],
      "execution_count": 8,
      "outputs": []
    },
    {
      "cell_type": "code",
      "metadata": {
        "colab_type": "code",
        "id": "FXckuzpuxvWW",
        "colab": {
          "base_uri": "https://localhost:8080/",
          "height": 905
        },
        "outputId": "b681eaa8-0792-4c39-9ecb-3941321207e4"
      },
      "source": [
        "dblock.summary(path)"
      ],
      "execution_count": 9,
      "outputs": [
        {
          "output_type": "stream",
          "text": [
            "Setting-up type transforms pipelines\n",
            "Collecting items from /root/.fastai/data/mnist_sample\n",
            "Found 14434 items\n",
            "2 datasets of sizes 12396,2038\n",
            "Setting up Pipeline: PILBase.create\n",
            "Setting up Pipeline: parent_label -> Categorize -- {'vocab': None, 'add_na': False}\n",
            "\n",
            "Building one sample\n",
            "  Pipeline: PILBase.create\n",
            "    starting from\n",
            "      /root/.fastai/data/mnist_sample/train/7/22955.png\n",
            "    applying PILBase.create gives\n",
            "      PILImage mode=RGB size=28x28\n",
            "  Pipeline: parent_label -> Categorize -- {'vocab': (#2) ['3','7'], 'add_na': False}\n",
            "    starting from\n",
            "      /root/.fastai/data/mnist_sample/train/7/22955.png\n",
            "    applying parent_label gives\n",
            "      7\n",
            "    applying Categorize -- {'vocab': (#2) ['3','7'], 'add_na': False} gives\n",
            "      TensorCategory(1)\n",
            "\n",
            "Final sample: (PILImage mode=RGB size=28x28, TensorCategory(1))\n",
            "\n",
            "\n",
            "Setting up after_item: Pipeline: Resize -- {'size': (28, 28), 'method': 'crop', 'pad_mode': 'reflection'} -> ToTensor\n",
            "Setting up before_batch: Pipeline: \n",
            "Setting up after_batch: Pipeline: IntToFloatTensor -- {'div': 255.0, 'div_mask': 1}\n",
            "\n",
            "Building one batch\n",
            "Applying item_tfms to the first sample:\n",
            "  Pipeline: Resize -- {'size': (28, 28), 'method': 'crop', 'pad_mode': 'reflection'} -> ToTensor\n",
            "    starting from\n",
            "      (PILImage mode=RGB size=28x28, TensorCategory(1))\n",
            "    applying Resize -- {'size': (28, 28), 'method': 'crop', 'pad_mode': 'reflection'} gives\n",
            "      (PILImage mode=RGB size=28x28, TensorCategory(1))\n",
            "    applying ToTensor gives\n",
            "      (TensorImage of size 3x28x28, TensorCategory(1))\n",
            "\n",
            "Adding the next 3 samples\n",
            "\n",
            "No before_batch transform to apply\n",
            "\n",
            "Collating items in a batch\n",
            "\n",
            "Applying batch_tfms to the batch built\n",
            "  Pipeline: IntToFloatTensor -- {'div': 255.0, 'div_mask': 1}\n",
            "    starting from\n",
            "      (TensorImage of size 4x3x28x28, TensorCategory([1, 1, 1, 1]))\n",
            "    applying IntToFloatTensor -- {'div': 255.0, 'div_mask': 1} gives\n",
            "      (TensorImage of size 4x3x28x28, TensorCategory([1, 1, 1, 1]))\n"
          ],
          "name": "stdout"
        }
      ]
    },
    {
      "cell_type": "markdown",
      "metadata": {
        "colab_type": "text",
        "id": "roY-hP7q_XzV"
      },
      "source": [
        "# Use TPU device"
      ]
    },
    {
      "cell_type": "markdown",
      "metadata": {
        "colab_type": "text",
        "id": "u-rqfNkUM6qJ"
      },
      "source": [
        "# Aquire a TPU device"
      ]
    },
    {
      "cell_type": "code",
      "metadata": {
        "colab_type": "code",
        "id": "H9FuvQ7qrEqd",
        "colab": {
          "base_uri": "https://localhost:8080/",
          "height": 34
        },
        "outputId": "89be52ac-429a-4214-a2f4-df5e3ad32a5e"
      },
      "source": [
        "dls_tpu = dblock.dataloaders(path, device=default_device())\n",
        "dls_tpu.vocab"
      ],
      "execution_count": 10,
      "outputs": [
        {
          "output_type": "execute_result",
          "data": {
            "text/plain": [
              "(#2) ['3','7']"
            ]
          },
          "metadata": {
            "tags": []
          },
          "execution_count": 10
        }
      ]
    },
    {
      "cell_type": "code",
      "metadata": {
        "id": "9w0_Wi3g1Gog",
        "colab_type": "code",
        "colab": {}
      },
      "source": [
        "xb, yb = dls_tpu.one_batch()"
      ],
      "execution_count": 11,
      "outputs": []
    },
    {
      "cell_type": "code",
      "metadata": {
        "id": "IUYdHYPf1NZf",
        "colab_type": "code",
        "colab": {
          "base_uri": "https://localhost:8080/",
          "height": 34
        },
        "outputId": "ad2ea72a-5e66-475e-cd36-3a10078fabfe"
      },
      "source": [
        "(type(xb), xb.shape, xb.dtype)"
      ],
      "execution_count": 12,
      "outputs": [
        {
          "output_type": "execute_result",
          "data": {
            "text/plain": [
              "(fastai.torch_core.TensorImage, torch.Size([64, 3, 28, 28]), torch.float32)"
            ]
          },
          "metadata": {
            "tags": []
          },
          "execution_count": 12
        }
      ]
    },
    {
      "cell_type": "code",
      "metadata": {
        "id": "42gKRROQ1fTN",
        "colab_type": "code",
        "colab": {
          "base_uri": "https://localhost:8080/",
          "height": 34
        },
        "outputId": "5f03e1b8-8bd9-49bd-d973-89e172bb2367"
      },
      "source": [
        "(type(yb), yb.shape, yb.dtype)"
      ],
      "execution_count": 13,
      "outputs": [
        {
          "output_type": "execute_result",
          "data": {
            "text/plain": [
              "(fastai.torch_core.TensorCategory, torch.Size([64]), torch.int64)"
            ]
          },
          "metadata": {
            "tags": []
          },
          "execution_count": 13
        }
      ]
    },
    {
      "cell_type": "code",
      "metadata": {
        "id": "qt7590TGAdGz",
        "colab_type": "code",
        "colab": {
          "base_uri": "https://localhost:8080/",
          "height": 34
        },
        "outputId": "ab4e490a-2adf-4f7e-a0b4-1dfa7543cc5b"
      },
      "source": [
        "dls_tpu.after_batch"
      ],
      "execution_count": 14,
      "outputs": [
        {
          "output_type": "execute_result",
          "data": {
            "text/plain": [
              "Pipeline: IntToFloatTensor -- {'div': 255.0, 'div_mask': 1}"
            ]
          },
          "metadata": {
            "tags": []
          },
          "execution_count": 14
        }
      ]
    },
    {
      "cell_type": "markdown",
      "metadata": {
        "colab_type": "text",
        "id": "CaLUPKrpNFD6"
      },
      "source": [
        "## First training on TPU"
      ]
    },
    {
      "cell_type": "code",
      "metadata": {
        "colab_type": "code",
        "id": "nnNXHVhBukge",
        "colab": {}
      },
      "source": [
        "# from fastai.callback.all import *\n",
        "# from fastai.test_utils import *\n",
        "# lenet_tpu = Lenet2()\n",
        "# tpu_learner = Learner(dls_tpu,\n",
        "#                       lenet_tpu,\n",
        "#                       metrics=accuracy, \n",
        "#                       loss_func=F.cross_entropy,\n",
        "#                       cbs=[])"
      ],
      "execution_count": null,
      "outputs": []
    },
    {
      "cell_type": "code",
      "metadata": {
        "id": "i6V8S-tq40vS",
        "colab_type": "code",
        "colab": {}
      },
      "source": [
        "tpu_learner = cnn_learner(dls_tpu, resnet18, pretrained=False, metrics=accuracy)"
      ],
      "execution_count": 15,
      "outputs": []
    },
    {
      "cell_type": "code",
      "metadata": {
        "id": "uZpV0czs90U9",
        "colab_type": "code",
        "colab": {}
      },
      "source": [
        "# tpu_learner.unfreeze()"
      ],
      "execution_count": 36,
      "outputs": []
    },
    {
      "cell_type": "code",
      "metadata": {
        "colab_type": "code",
        "id": "npau0oogyXRN",
        "colab": {
          "base_uri": "https://localhost:8080/",
          "height": 1000
        },
        "outputId": "a6aaa99a-cf80-464e-fdf2-1ce4e9a89620"
      },
      "source": [
        "tpu_learner.summary()"
      ],
      "execution_count": 16,
      "outputs": [
        {
          "output_type": "display_data",
          "data": {
            "text/html": [
              "<table border=\"1\" class=\"dataframe\">\n",
              "  <thead>\n",
              "    <tr style=\"text-align: left;\">\n",
              "      <th>epoch</th>\n",
              "      <th>train_loss</th>\n",
              "      <th>valid_loss</th>\n",
              "      <th>accuracy</th>\n",
              "      <th>time</th>\n",
              "    </tr>\n",
              "  </thead>\n",
              "  <tbody>\n",
              "    <tr>\n",
              "      <td>0</td>\n",
              "      <td>None</td>\n",
              "      <td>None</td>\n",
              "      <td>00:01</td>\n",
              "    </tr>\n",
              "  </tbody>\n",
              "</table>"
            ],
            "text/plain": [
              "<IPython.core.display.HTML object>"
            ]
          },
          "metadata": {
            "tags": []
          }
        },
        {
          "output_type": "execute_result",
          "data": {
            "application/vnd.google.colaboratory.intrinsic+json": {
              "type": "string"
            },
            "text/plain": [
              "Sequential (Input shape: ['64 x 3 x 28 x 28'])\n",
              "================================================================\n",
              "Layer (type)         Output Shape         Param #    Trainable \n",
              "================================================================\n",
              "Conv2d               64 x 64 x 14 x 14    9,408      True      \n",
              "________________________________________________________________\n",
              "BatchNorm2d          64 x 64 x 14 x 14    128        True      \n",
              "________________________________________________________________\n",
              "ReLU                 64 x 64 x 14 x 14    0          False     \n",
              "________________________________________________________________\n",
              "MaxPool2d            64 x 64 x 7 x 7      0          False     \n",
              "________________________________________________________________\n",
              "Conv2d               64 x 64 x 7 x 7      36,864     True      \n",
              "________________________________________________________________\n",
              "BatchNorm2d          64 x 64 x 7 x 7      128        True      \n",
              "________________________________________________________________\n",
              "ReLU                 64 x 64 x 7 x 7      0          False     \n",
              "________________________________________________________________\n",
              "Conv2d               64 x 64 x 7 x 7      36,864     True      \n",
              "________________________________________________________________\n",
              "BatchNorm2d          64 x 64 x 7 x 7      128        True      \n",
              "________________________________________________________________\n",
              "Conv2d               64 x 64 x 7 x 7      36,864     True      \n",
              "________________________________________________________________\n",
              "BatchNorm2d          64 x 64 x 7 x 7      128        True      \n",
              "________________________________________________________________\n",
              "ReLU                 64 x 64 x 7 x 7      0          False     \n",
              "________________________________________________________________\n",
              "Conv2d               64 x 64 x 7 x 7      36,864     True      \n",
              "________________________________________________________________\n",
              "BatchNorm2d          64 x 64 x 7 x 7      128        True      \n",
              "________________________________________________________________\n",
              "Conv2d               64 x 128 x 4 x 4     73,728     True      \n",
              "________________________________________________________________\n",
              "BatchNorm2d          64 x 128 x 4 x 4     256        True      \n",
              "________________________________________________________________\n",
              "ReLU                 64 x 128 x 4 x 4     0          False     \n",
              "________________________________________________________________\n",
              "Conv2d               64 x 128 x 4 x 4     147,456    True      \n",
              "________________________________________________________________\n",
              "BatchNorm2d          64 x 128 x 4 x 4     256        True      \n",
              "________________________________________________________________\n",
              "Conv2d               64 x 128 x 4 x 4     8,192      True      \n",
              "________________________________________________________________\n",
              "BatchNorm2d          64 x 128 x 4 x 4     256        True      \n",
              "________________________________________________________________\n",
              "Conv2d               64 x 128 x 4 x 4     147,456    True      \n",
              "________________________________________________________________\n",
              "BatchNorm2d          64 x 128 x 4 x 4     256        True      \n",
              "________________________________________________________________\n",
              "ReLU                 64 x 128 x 4 x 4     0          False     \n",
              "________________________________________________________________\n",
              "Conv2d               64 x 128 x 4 x 4     147,456    True      \n",
              "________________________________________________________________\n",
              "BatchNorm2d          64 x 128 x 4 x 4     256        True      \n",
              "________________________________________________________________\n",
              "Conv2d               64 x 256 x 2 x 2     294,912    True      \n",
              "________________________________________________________________\n",
              "BatchNorm2d          64 x 256 x 2 x 2     512        True      \n",
              "________________________________________________________________\n",
              "ReLU                 64 x 256 x 2 x 2     0          False     \n",
              "________________________________________________________________\n",
              "Conv2d               64 x 256 x 2 x 2     589,824    True      \n",
              "________________________________________________________________\n",
              "BatchNorm2d          64 x 256 x 2 x 2     512        True      \n",
              "________________________________________________________________\n",
              "Conv2d               64 x 256 x 2 x 2     32,768     True      \n",
              "________________________________________________________________\n",
              "BatchNorm2d          64 x 256 x 2 x 2     512        True      \n",
              "________________________________________________________________\n",
              "Conv2d               64 x 256 x 2 x 2     589,824    True      \n",
              "________________________________________________________________\n",
              "BatchNorm2d          64 x 256 x 2 x 2     512        True      \n",
              "________________________________________________________________\n",
              "ReLU                 64 x 256 x 2 x 2     0          False     \n",
              "________________________________________________________________\n",
              "Conv2d               64 x 256 x 2 x 2     589,824    True      \n",
              "________________________________________________________________\n",
              "BatchNorm2d          64 x 256 x 2 x 2     512        True      \n",
              "________________________________________________________________\n",
              "Conv2d               64 x 512 x 1 x 1     1,179,648  True      \n",
              "________________________________________________________________\n",
              "BatchNorm2d          64 x 512 x 1 x 1     1,024      True      \n",
              "________________________________________________________________\n",
              "ReLU                 64 x 512 x 1 x 1     0          False     \n",
              "________________________________________________________________\n",
              "Conv2d               64 x 512 x 1 x 1     2,359,296  True      \n",
              "________________________________________________________________\n",
              "BatchNorm2d          64 x 512 x 1 x 1     1,024      True      \n",
              "________________________________________________________________\n",
              "Conv2d               64 x 512 x 1 x 1     131,072    True      \n",
              "________________________________________________________________\n",
              "BatchNorm2d          64 x 512 x 1 x 1     1,024      True      \n",
              "________________________________________________________________\n",
              "Conv2d               64 x 512 x 1 x 1     2,359,296  True      \n",
              "________________________________________________________________\n",
              "BatchNorm2d          64 x 512 x 1 x 1     1,024      True      \n",
              "________________________________________________________________\n",
              "ReLU                 64 x 512 x 1 x 1     0          False     \n",
              "________________________________________________________________\n",
              "Conv2d               64 x 512 x 1 x 1     2,359,296  True      \n",
              "________________________________________________________________\n",
              "BatchNorm2d          64 x 512 x 1 x 1     1,024      True      \n",
              "________________________________________________________________\n",
              "AdaptiveAvgPool2d    64 x 512 x 1 x 1     0          False     \n",
              "________________________________________________________________\n",
              "AdaptiveMaxPool2d    64 x 512 x 1 x 1     0          False     \n",
              "________________________________________________________________\n",
              "Flatten              64 x 1024            0          False     \n",
              "________________________________________________________________\n",
              "BatchNorm1d          64 x 1024            2,048      True      \n",
              "________________________________________________________________\n",
              "Dropout              64 x 1024            0          False     \n",
              "________________________________________________________________\n",
              "Linear               64 x 512             524,288    True      \n",
              "________________________________________________________________\n",
              "ReLU                 64 x 512             0          False     \n",
              "________________________________________________________________\n",
              "BatchNorm1d          64 x 512             1,024      True      \n",
              "________________________________________________________________\n",
              "Dropout              64 x 512             0          False     \n",
              "________________________________________________________________\n",
              "Linear               64 x 2               1,024      True      \n",
              "________________________________________________________________\n",
              "\n",
              "Total params: 11,704,896\n",
              "Total trainable params: 11,704,896\n",
              "Total non-trainable params: 0\n",
              "\n",
              "Optimizer used: <function Adam at 0x7f2a18762ae8>\n",
              "Loss function: FlattenedLoss of CrossEntropyLoss()\n",
              "\n",
              "Callbacks:\n",
              "  - TrainEvalCallback\n",
              "  - XLAOptCallback\n",
              "  - Recorder\n",
              "  - ProgressCallback"
            ]
          },
          "metadata": {
            "tags": []
          },
          "execution_count": 16
        }
      ]
    },
    {
      "cell_type": "code",
      "metadata": {
        "colab_type": "code",
        "id": "-Z-exyB0zrk6",
        "colab": {
          "base_uri": "https://localhost:8080/",
          "height": 590
        },
        "outputId": "643f06fd-22e6-4372-df77-253833159cc8"
      },
      "source": [
        "tpu_learner.show_training_loop()"
      ],
      "execution_count": 17,
      "outputs": [
        {
          "output_type": "stream",
          "text": [
            "Start Fit\n",
            "   - before_fit     : [TrainEvalCallback, XLAOptCallback, Recorder, ProgressCallback]\n",
            "  Start Epoch Loop\n",
            "     - before_epoch   : [Recorder, ProgressCallback]\n",
            "    Start Train\n",
            "       - before_train   : [TrainEvalCallback, Recorder, ProgressCallback]\n",
            "      Start Batch Loop\n",
            "         - before_batch   : []\n",
            "         - after_pred     : []\n",
            "         - after_loss     : []\n",
            "         - before_backward: []\n",
            "         - after_backward : []\n",
            "         - after_step     : []\n",
            "         - after_cancel_batch: []\n",
            "         - after_batch    : [TrainEvalCallback, Recorder, ProgressCallback]\n",
            "      End Batch Loop\n",
            "    End Train\n",
            "     - after_cancel_train: [Recorder]\n",
            "     - after_train    : [Recorder, ProgressCallback]\n",
            "    Start Valid\n",
            "       - before_validate: [TrainEvalCallback, Recorder, ProgressCallback]\n",
            "      Start Batch Loop\n",
            "         - **CBs same as train batch**: []\n",
            "      End Batch Loop\n",
            "    End Valid\n",
            "     - after_cancel_validate: [Recorder]\n",
            "     - after_validate : [Recorder, ProgressCallback]\n",
            "  End Epoch Loop\n",
            "   - after_cancel_epoch: []\n",
            "   - after_epoch    : [Recorder]\n",
            "End Fit\n",
            " - after_cancel_fit: []\n",
            " - after_fit      : [XLAOptCallback, ProgressCallback]\n"
          ],
          "name": "stdout"
        }
      ]
    },
    {
      "cell_type": "code",
      "metadata": {
        "colab_type": "code",
        "id": "8sHdn1JVRSGW",
        "colab": {
          "base_uri": "https://localhost:8080/",
          "height": 34
        },
        "outputId": "e0ff9bc9-2ee0-4f26-cbee-805530080d0d"
      },
      "source": [
        "dls_tpu.device"
      ],
      "execution_count": 18,
      "outputs": [
        {
          "output_type": "execute_result",
          "data": {
            "text/plain": [
              "device(type='xla', index=1)"
            ]
          },
          "metadata": {
            "tags": []
          },
          "execution_count": 18
        }
      ]
    },
    {
      "cell_type": "markdown",
      "metadata": {
        "colab_type": "text",
        "id": "f_vRFNZts9GB"
      },
      "source": [
        "# Call fit\n",
        "\n",
        "Will fail in `self.loss.backward(); `?"
      ]
    },
    {
      "cell_type": "code",
      "metadata": {
        "colab_type": "code",
        "id": "oKrHpX9eu4S_",
        "colab": {
          "base_uri": "https://localhost:8080/",
          "height": 81
        },
        "outputId": "ac503598-1289-4b2a-d31d-c39d014f0217"
      },
      "source": [
        "tpu_learner.fit(1)"
      ],
      "execution_count": 19,
      "outputs": [
        {
          "output_type": "display_data",
          "data": {
            "text/html": [
              "<table border=\"1\" class=\"dataframe\">\n",
              "  <thead>\n",
              "    <tr style=\"text-align: left;\">\n",
              "      <th>epoch</th>\n",
              "      <th>train_loss</th>\n",
              "      <th>valid_loss</th>\n",
              "      <th>accuracy</th>\n",
              "      <th>time</th>\n",
              "    </tr>\n",
              "  </thead>\n",
              "  <tbody>\n",
              "    <tr>\n",
              "      <td>0</td>\n",
              "      <td>0.053117</td>\n",
              "      <td>0.009278</td>\n",
              "      <td>0.996565</td>\n",
              "      <td>00:40</td>\n",
              "    </tr>\n",
              "  </tbody>\n",
              "</table>"
            ],
            "text/plain": [
              "<IPython.core.display.HTML object>"
            ]
          },
          "metadata": {
            "tags": []
          }
        }
      ]
    },
    {
      "cell_type": "code",
      "metadata": {
        "colab_type": "code",
        "id": "59-jZT0-vDcI",
        "colab": {
          "base_uri": "https://localhost:8080/",
          "height": 283
        },
        "outputId": "49feb982-6696-4f9f-a0e4-52d2db49e6ec"
      },
      "source": [
        "tpu_learner.lr_find()"
      ],
      "execution_count": 20,
      "outputs": [
        {
          "output_type": "display_data",
          "data": {
            "text/html": [
              ""
            ],
            "text/plain": [
              "<IPython.core.display.HTML object>"
            ]
          },
          "metadata": {
            "tags": []
          }
        },
        {
          "output_type": "display_data",
          "data": {
            "image/png": "[encoded data removed]",
            "text/plain": [
              "<Figure size 432x288 with 1 Axes>"
            ]
          },
          "metadata": {
            "tags": [],
            "needs_background": "light"
          }
        }
      ]
    },
    {
      "cell_type": "code",
      "metadata": {
        "id": "d4afo3XOZzFD",
        "colab_type": "code",
        "colab": {
          "base_uri": "https://localhost:8080/",
          "height": 115
        },
        "outputId": "560eaacc-6ab6-4035-ec9a-573b51091653"
      },
      "source": [
        "%%time\n",
        "tpu_learner.fit_one_cycle(1)\n",
        "tpu_learner.validate()"
      ],
      "execution_count": 21,
      "outputs": [
        {
          "output_type": "display_data",
          "data": {
            "text/html": [
              "<table border=\"1\" class=\"dataframe\">\n",
              "  <thead>\n",
              "    <tr style=\"text-align: left;\">\n",
              "      <th>epoch</th>\n",
              "      <th>train_loss</th>\n",
              "      <th>valid_loss</th>\n",
              "      <th>accuracy</th>\n",
              "      <th>time</th>\n",
              "    </tr>\n",
              "  </thead>\n",
              "  <tbody>\n",
              "    <tr>\n",
              "      <td>0</td>\n",
              "      <td>0.013210</td>\n",
              "      <td>0.009502</td>\n",
              "      <td>0.997056</td>\n",
              "      <td>00:28</td>\n",
              "    </tr>\n",
              "  </tbody>\n",
              "</table>"
            ],
            "text/plain": [
              "<IPython.core.display.HTML object>"
            ]
          },
          "metadata": {
            "tags": []
          }
        },
        {
          "output_type": "display_data",
          "data": {
            "text/html": [
              ""
            ],
            "text/plain": [
              "<IPython.core.display.HTML object>"
            ]
          },
          "metadata": {
            "tags": []
          }
        },
        {
          "output_type": "stream",
          "text": [
            "CPU times: user 12 s, sys: 1.21 s, total: 13.2 s\n",
            "Wall time: 31.6 s\n"
          ],
          "name": "stdout"
        }
      ]
    },
    {
      "cell_type": "code",
      "metadata": {
        "id": "kJ0U9lv0gNX9",
        "colab_type": "code",
        "colab": {}
      },
      "source": [
        "class DeviceCheckCallback(Callback):\n",
        "    \n",
        "    def after_pred(self):\n",
        "        print(f'xb device: {first(self.learn.xb).device}')\n",
        "        print(f'model device: {one_param(self.learn.model).device}')\n"
      ],
      "execution_count": 22,
      "outputs": []
    },
    {
      "cell_type": "code",
      "metadata": {
        "id": "2vv__tRKAyqI",
        "colab_type": "code",
        "colab": {
          "base_uri": "https://localhost:8080/",
          "height": 1000
        },
        "outputId": "d133cc20-e86f-41cd-d6ab-87cab8403d7c"
      },
      "source": [
        "tpu_learner.fit_one_cycle(1, cbs=[DeviceCheckCallback()])"
      ],
      "execution_count": 23,
      "outputs": [
        {
          "output_type": "display_data",
          "data": {
            "text/html": [
              "<table border=\"1\" class=\"dataframe\">\n",
              "  <thead>\n",
              "    <tr style=\"text-align: left;\">\n",
              "      <th>epoch</th>\n",
              "      <th>train_loss</th>\n",
              "      <th>valid_loss</th>\n",
              "      <th>accuracy</th>\n",
              "      <th>time</th>\n",
              "    </tr>\n",
              "  </thead>\n",
              "  <tbody>\n",
              "    <tr>\n",
              "      <td>0</td>\n",
              "      <td>0.019918</td>\n",
              "      <td>0.005847</td>\n",
              "      <td>0.998037</td>\n",
              "      <td>00:26</td>\n",
              "    </tr>\n",
              "  </tbody>\n",
              "</table>"
            ],
            "text/plain": [
              "<IPython.core.display.HTML object>"
            ]
          },
          "metadata": {
            "tags": []
          }
        },
        {
          "output_type": "stream",
          "text": [
            "xb device: xla:1\n",
            "model device: xla:1\n",
            "xb device: xla:1\n",
            "model device: xla:1\n",
            "xb device: xla:1\n",
            "model device: xla:1\n",
            "xb device: xla:1\n",
            "model device: xla:1\n",
            "xb device: xla:1\n",
            "model device: xla:1\n",
            "xb device: xla:1\n",
            "model device: xla:1\n",
            "xb device: xla:1\n",
            "model device: xla:1\n",
            "xb device: xla:1\n",
            "model device: xla:1\n",
            "xb device: xla:1\n",
            "model device: xla:1\n",
            "xb device: xla:1\n",
            "model device: xla:1\n",
            "xb device: xla:1\n",
            "model device: xla:1\n",
            "xb device: xla:1\n",
            "model device: xla:1\n",
            "xb device: xla:1\n",
            "model device: xla:1\n",
            "xb device: xla:1\n",
            "model device: xla:1\n",
            "xb device: xla:1\n",
            "model device: xla:1\n",
            "xb device: xla:1\n",
            "model device: xla:1\n",
            "xb device: xla:1\n",
            "model device: xla:1\n",
            "xb device: xla:1\n",
            "model device: xla:1\n",
            "xb device: xla:1\n",
            "model device: xla:1\n",
            "xb device: xla:1\n",
            "model device: xla:1\n",
            "xb device: xla:1\n",
            "model device: xla:1\n",
            "xb device: xla:1\n",
            "model device: xla:1\n",
            "xb device: xla:1\n",
            "model device: xla:1\n",
            "xb device: xla:1\n",
            "model device: xla:1\n",
            "xb device: xla:1\n",
            "model device: xla:1\n",
            "xb device: xla:1\n",
            "model device: xla:1\n",
            "xb device: xla:1\n",
            "model device: xla:1\n",
            "xb device: xla:1\n",
            "model device: xla:1\n",
            "xb device: xla:1\n",
            "model device: xla:1\n",
            "xb device: xla:1\n",
            "model device: xla:1\n",
            "xb device: xla:1\n",
            "model device: xla:1\n",
            "xb device: xla:1\n",
            "model device: xla:1\n",
            "xb device: xla:1\n",
            "model device: xla:1\n",
            "xb device: xla:1\n",
            "model device: xla:1\n",
            "xb device: xla:1\n",
            "model device: xla:1\n",
            "xb device: xla:1\n",
            "model device: xla:1\n",
            "xb device: xla:1\n",
            "model device: xla:1\n",
            "xb device: xla:1\n",
            "model device: xla:1\n",
            "xb device: xla:1\n",
            "model device: xla:1\n",
            "xb device: xla:1\n",
            "model device: xla:1\n",
            "xb device: xla:1\n",
            "model device: xla:1\n",
            "xb device: xla:1\n",
            "model device: xla:1\n",
            "xb device: xla:1\n",
            "model device: xla:1\n",
            "xb device: xla:1\n",
            "model device: xla:1\n",
            "xb device: xla:1\n",
            "model device: xla:1\n",
            "xb device: xla:1\n",
            "model device: xla:1\n",
            "xb device: xla:1\n",
            "model device: xla:1\n",
            "xb device: xla:1\n",
            "model device: xla:1\n",
            "xb device: xla:1\n",
            "model device: xla:1\n",
            "xb device: xla:1\n",
            "model device: xla:1\n",
            "xb device: xla:1\n",
            "model device: xla:1\n",
            "xb device: xla:1\n",
            "model device: xla:1\n",
            "xb device: xla:1\n",
            "model device: xla:1\n",
            "xb device: xla:1\n",
            "model device: xla:1\n",
            "xb device: xla:1\n",
            "model device: xla:1\n",
            "xb device: xla:1\n",
            "model device: xla:1\n",
            "xb device: xla:1\n",
            "model device: xla:1\n",
            "xb device: xla:1\n",
            "model device: xla:1\n",
            "xb device: xla:1\n",
            "model device: xla:1\n",
            "xb device: xla:1\n",
            "model device: xla:1\n",
            "xb device: xla:1\n",
            "model device: xla:1\n",
            "xb device: xla:1\n",
            "model device: xla:1\n",
            "xb device: xla:1\n",
            "model device: xla:1\n",
            "xb device: xla:1\n",
            "model device: xla:1\n",
            "xb device: xla:1\n",
            "model device: xla:1\n",
            "xb device: xla:1\n",
            "model device: xla:1\n",
            "xb device: xla:1\n",
            "model device: xla:1\n",
            "xb device: xla:1\n",
            "model device: xla:1\n",
            "xb device: xla:1\n",
            "model device: xla:1\n",
            "xb device: xla:1\n",
            "model device: xla:1\n",
            "xb device: xla:1\n",
            "model device: xla:1\n",
            "xb device: xla:1\n",
            "model device: xla:1\n",
            "xb device: xla:1\n",
            "model device: xla:1\n",
            "xb device: xla:1\n",
            "model device: xla:1\n",
            "xb device: xla:1\n",
            "model device: xla:1\n",
            "xb device: xla:1\n",
            "model device: xla:1\n",
            "xb device: xla:1\n",
            "model device: xla:1\n",
            "xb device: xla:1\n",
            "model device: xla:1\n",
            "xb device: xla:1\n",
            "model device: xla:1\n",
            "xb device: xla:1\n",
            "model device: xla:1\n",
            "xb device: xla:1\n",
            "model device: xla:1\n",
            "xb device: xla:1\n",
            "model device: xla:1\n",
            "xb device: xla:1\n",
            "model device: xla:1\n",
            "xb device: xla:1\n",
            "model device: xla:1\n",
            "xb device: xla:1\n",
            "model device: xla:1\n",
            "xb device: xla:1\n",
            "model device: xla:1\n",
            "xb device: xla:1\n",
            "model device: xla:1\n",
            "xb device: xla:1\n",
            "model device: xla:1\n",
            "xb device: xla:1\n",
            "model device: xla:1\n",
            "xb device: xla:1\n",
            "model device: xla:1\n",
            "xb device: xla:1\n",
            "model device: xla:1\n",
            "xb device: xla:1\n",
            "model device: xla:1\n",
            "xb device: xla:1\n",
            "model device: xla:1\n",
            "xb device: xla:1\n",
            "model device: xla:1\n",
            "xb device: xla:1\n",
            "model device: xla:1\n",
            "xb device: xla:1\n",
            "model device: xla:1\n",
            "xb device: xla:1\n",
            "model device: xla:1\n",
            "xb device: xla:1\n",
            "model device: xla:1\n",
            "xb device: xla:1\n",
            "model device: xla:1\n",
            "xb device: xla:1\n",
            "model device: xla:1\n",
            "xb device: xla:1\n",
            "model device: xla:1\n",
            "xb device: xla:1\n",
            "model device: xla:1\n",
            "xb device: xla:1\n",
            "model device: xla:1\n",
            "xb device: xla:1\n",
            "model device: xla:1\n",
            "xb device: xla:1\n",
            "model device: xla:1\n",
            "xb device: xla:1\n",
            "model device: xla:1\n",
            "xb device: xla:1\n",
            "model device: xla:1\n",
            "xb device: xla:1\n",
            "model device: xla:1\n",
            "xb device: xla:1\n",
            "model device: xla:1\n",
            "xb device: xla:1\n",
            "model device: xla:1\n",
            "xb device: xla:1\n",
            "model device: xla:1\n",
            "xb device: xla:1\n",
            "model device: xla:1\n",
            "xb device: xla:1\n",
            "model device: xla:1\n",
            "xb device: xla:1\n",
            "model device: xla:1\n",
            "xb device: xla:1\n",
            "model device: xla:1\n",
            "xb device: xla:1\n",
            "model device: xla:1\n",
            "xb device: xla:1\n",
            "model device: xla:1\n",
            "xb device: xla:1\n",
            "model device: xla:1\n",
            "xb device: xla:1\n",
            "model device: xla:1\n",
            "xb device: xla:1\n",
            "model device: xla:1\n",
            "xb device: xla:1\n",
            "model device: xla:1\n",
            "xb device: xla:1\n",
            "model device: xla:1\n",
            "xb device: xla:1\n",
            "model device: xla:1\n",
            "xb device: xla:1\n",
            "model device: xla:1\n",
            "xb device: xla:1\n",
            "model device: xla:1\n",
            "xb device: xla:1\n",
            "model device: xla:1\n",
            "xb device: xla:1\n",
            "model device: xla:1\n",
            "xb device: xla:1\n",
            "model device: xla:1\n",
            "xb device: xla:1\n",
            "model device: xla:1\n",
            "xb device: xla:1\n",
            "model device: xla:1\n",
            "xb device: xla:1\n",
            "model device: xla:1\n",
            "xb device: xla:1\n",
            "model device: xla:1\n",
            "xb device: xla:1\n",
            "model device: xla:1\n",
            "xb device: xla:1\n",
            "model device: xla:1\n",
            "xb device: xla:1\n",
            "model device: xla:1\n",
            "xb device: xla:1\n",
            "model device: xla:1\n",
            "xb device: xla:1\n",
            "model device: xla:1\n",
            "xb device: xla:1\n",
            "model device: xla:1\n",
            "xb device: xla:1\n",
            "model device: xla:1\n",
            "xb device: xla:1\n",
            "model device: xla:1\n",
            "xb device: xla:1\n",
            "model device: xla:1\n",
            "xb device: xla:1\n",
            "model device: xla:1\n",
            "xb device: xla:1\n",
            "model device: xla:1\n",
            "xb device: xla:1\n",
            "model device: xla:1\n",
            "xb device: xla:1\n",
            "model device: xla:1\n",
            "xb device: xla:1\n",
            "model device: xla:1\n",
            "xb device: xla:1\n",
            "model device: xla:1\n",
            "xb device: xla:1\n",
            "model device: xla:1\n",
            "xb device: xla:1\n",
            "model device: xla:1\n",
            "xb device: xla:1\n",
            "model device: xla:1\n",
            "xb device: xla:1\n",
            "model device: xla:1\n",
            "xb device: xla:1\n",
            "model device: xla:1\n",
            "xb device: xla:1\n",
            "model device: xla:1\n",
            "xb device: xla:1\n",
            "model device: xla:1\n",
            "xb device: xla:1\n",
            "model device: xla:1\n",
            "xb device: xla:1\n",
            "model device: xla:1\n",
            "xb device: xla:1\n",
            "model device: xla:1\n",
            "xb device: xla:1\n",
            "model device: xla:1\n",
            "xb device: xla:1\n",
            "model device: xla:1\n",
            "xb device: xla:1\n",
            "model device: xla:1\n",
            "xb device: xla:1\n",
            "model device: xla:1\n",
            "xb device: xla:1\n",
            "model device: xla:1\n",
            "xb device: xla:1\n",
            "model device: xla:1\n",
            "xb device: xla:1\n",
            "model device: xla:1\n",
            "xb device: xla:1\n",
            "model device: xla:1\n",
            "xb device: xla:1\n",
            "model device: xla:1\n",
            "xb device: xla:1\n",
            "model device: xla:1\n",
            "xb device: xla:1\n",
            "model device: xla:1\n",
            "xb device: xla:1\n",
            "model device: xla:1\n",
            "xb device: xla:1\n",
            "model device: xla:1\n",
            "xb device: xla:1\n",
            "model device: xla:1\n",
            "xb device: xla:1\n",
            "model device: xla:1\n",
            "xb device: xla:1\n",
            "model device: xla:1\n",
            "xb device: xla:1\n",
            "model device: xla:1\n",
            "xb device: xla:1\n",
            "model device: xla:1\n",
            "xb device: xla:1\n",
            "model device: xla:1\n",
            "xb device: xla:1\n",
            "model device: xla:1\n",
            "xb device: xla:1\n",
            "model device: xla:1\n",
            "xb device: xla:1\n",
            "model device: xla:1\n",
            "xb device: xla:1\n",
            "model device: xla:1\n",
            "xb device: xla:1\n",
            "model device: xla:1\n",
            "xb device: xla:1\n",
            "model device: xla:1\n",
            "xb device: xla:1\n",
            "model device: xla:1\n",
            "xb device: xla:1\n",
            "model device: xla:1\n",
            "xb device: xla:1\n",
            "model device: xla:1\n",
            "xb device: xla:1\n",
            "model device: xla:1\n",
            "xb device: xla:1\n",
            "model device: xla:1\n",
            "xb device: xla:1\n",
            "model device: xla:1\n",
            "xb device: xla:1\n",
            "model device: xla:1\n",
            "xb device: xla:1\n",
            "model device: xla:1\n",
            "xb device: xla:1\n",
            "model device: xla:1\n",
            "xb device: xla:1\n",
            "model device: xla:1\n",
            "xb device: xla:1\n",
            "model device: xla:1\n",
            "xb device: xla:1\n",
            "model device: xla:1\n",
            "xb device: xla:1\n",
            "model device: xla:1\n",
            "xb device: xla:1\n",
            "model device: xla:1\n",
            "xb device: xla:1\n",
            "model device: xla:1\n",
            "xb device: xla:1\n",
            "model device: xla:1\n",
            "xb device: xla:1\n",
            "model device: xla:1\n",
            "xb device: xla:1\n",
            "model device: xla:1\n",
            "xb device: xla:1\n",
            "model device: xla:1\n",
            "xb device: xla:1\n",
            "model device: xla:1\n",
            "xb device: xla:1\n",
            "model device: xla:1\n",
            "xb device: xla:1\n",
            "model device: xla:1\n",
            "xb device: xla:1\n",
            "model device: xla:1\n",
            "xb device: xla:1\n",
            "model device: xla:1\n",
            "xb device: xla:1\n",
            "model device: xla:1\n",
            "xb device: xla:1\n",
            "model device: xla:1\n",
            "xb device: xla:1\n",
            "model device: xla:1\n",
            "xb device: xla:1\n",
            "model device: xla:1\n",
            "xb device: xla:1\n",
            "model device: xla:1\n",
            "xb device: xla:1\n",
            "model device: xla:1\n",
            "xb device: xla:1\n",
            "model device: xla:1\n",
            "xb device: xla:1\n",
            "model device: xla:1\n",
            "xb device: xla:1\n",
            "model device: xla:1\n",
            "xb device: xla:1\n",
            "model device: xla:1\n",
            "xb device: xla:1\n",
            "model device: xla:1\n",
            "xb device: xla:1\n",
            "model device: xla:1\n",
            "xb device: xla:1\n",
            "model device: xla:1\n",
            "xb device: xla:1\n",
            "model device: xla:1\n",
            "xb device: xla:1\n",
            "model device: xla:1\n",
            "xb device: xla:1\n",
            "model device: xla:1\n",
            "xb device: xla:1\n",
            "model device: xla:1\n",
            "xb device: xla:1\n",
            "model device: xla:1\n",
            "xb device: xla:1\n",
            "model device: xla:1\n"
          ],
          "name": "stdout"
        }
      ]
    },
    {
      "cell_type": "code",
      "metadata": {
        "id": "FwqEIE9aA9ZT",
        "colab_type": "code",
        "colab": {}
      },
      "source": [
        ""
      ],
      "execution_count": null,
      "outputs": []
    }
  ]
}