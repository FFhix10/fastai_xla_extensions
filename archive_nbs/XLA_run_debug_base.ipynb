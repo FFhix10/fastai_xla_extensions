{
  "nbformat": 4,
  "nbformat_minor": 0,
  "metadata": {
    "kernelspec": {
      "display_name": "Python 3",
      "language": "python",
      "name": "python3"
    },
    "language_info": {
      "codemirror_mode": {
        "name": "ipython",
        "version": 3
      },
      "file_extension": ".py",
      "mimetype": "text/x-python",
      "name": "python",
      "nbconvert_exporter": "python",
      "pygments_lexer": "ipython3",
      "version": "3.7.7"
    },
    "varInspector": {
      "cols": {
        "lenName": 16,
        "lenType": 16,
        "lenVar": 40
      },
      "kernels_config": {
        "python": {
          "delete_cmd_postfix": "",
          "delete_cmd_prefix": "del ",
          "library": "var_list.py",
          "varRefreshCmd": "print(var_dic_list())"
        },
        "r": {
          "delete_cmd_postfix": ") ",
          "delete_cmd_prefix": "rm(",
          "library": "var_list.r",
          "varRefreshCmd": "cat(var_dic_list()) "
        }
      },
      "types_to_exclude": [
        "module",
        "function",
        "builtin_function_or_method",
        "instance",
        "_Feature"
      ],
      "window_display": false
    },
    "colab": {
      "name": "XLA-run_debug-base",
      "provenance": [],
      "collapsed_sections": [],
      "toc_visible": true,
      "include_colab_link": true
    },
    "accelerator": "TPU"
  },
  "cells": [
    {
      "cell_type": "markdown",
      "metadata": {
        "id": "view-in-github",
        "colab_type": "text"
      },
      "source": [
        "<a href=\"https://colab.research.google.com/github/tyoc213/fastai_xla_extensions/blob/XLA-run_debug/explore_nbs/XLA_run_debug_base.ipynb\" target=\"_parent\"><img src=\"https://colab.research.google.com/assets/colab-badge.svg\" alt=\"Open In Colab\"/></a>"
      ]
    },
    {
      "cell_type": "markdown",
      "metadata": {
        "id": "iMuZ97eQUU3l",
        "colab_type": "text"
      },
      "source": [
        "# Install things to have them available in the environment"
      ]
    },
    {
      "cell_type": "code",
      "metadata": {
        "id": "ikqUIGIMaw_9",
        "colab_type": "code",
        "colab": {}
      },
      "source": [
        "#colab\n",
        "%%bash\n",
        "pip install fastai2 --upgrade > /dev/null"
      ],
      "execution_count": 1,
      "outputs": []
    },
    {
      "cell_type": "code",
      "metadata": {
        "id": "xfDBmIS6axAJ",
        "colab_type": "code",
        "colab": {
          "base_uri": "https://localhost:8080/",
          "height": 34
        },
        "outputId": "bb216090-f26c-4080-cce9-52a9be2d78b3"
      },
      "source": [
        "#colab\n",
        "%%bash\n",
        "pip install git+https://github.com/butchland/fastai_xla_extensions > /dev/null"
      ],
      "execution_count": 2,
      "outputs": [
        {
          "output_type": "stream",
          "text": [
            "  Running command git clone -q https://github.com/butchland/fastai_xla_extensions /tmp/pip-req-build-tbfmo6g_\n"
          ],
          "name": "stderr"
        }
      ]
    },
    {
      "cell_type": "code",
      "metadata": {
        "id": "yDbv4w3UaxAg",
        "colab_type": "code",
        "colab": {
          "base_uri": "https://localhost:8080/",
          "height": 34
        },
        "outputId": "74586b9e-3144-46bd-de82-e9eb8ffc731a"
      },
      "source": [
        "#colab\n",
        "%%bash\n",
        "pip install git+https://github.com/butchland/my_timesaver_utils > /dev/null"
      ],
      "execution_count": 3,
      "outputs": [
        {
          "output_type": "stream",
          "text": [
            "  Running command git clone -q https://github.com/butchland/my_timesaver_utils /tmp/pip-req-build-sivydzf6\n"
          ],
          "name": "stderr"
        }
      ]
    },
    {
      "cell_type": "code",
      "metadata": {
        "id": "tQ4fEm30axAm",
        "colab_type": "code",
        "colab": {
          "base_uri": "https://localhost:8080/",
          "height": 255
        },
        "outputId": "0645a987-7f04-4f94-ddcc-3a64119fe869"
      },
      "source": [
        "#colab\n",
        "# install pytorch xla\n",
        "VERSION = \"20200707\"  #@param [\"1.5\" , \"20200516\",\"20200707\", \"nightly\"]\n",
        "!curl https://raw.githubusercontent.com/pytorch/xla/master/contrib/scripts/env-setup.py -o pytorch-xla-env-setup.py\n",
        "!python pytorch-xla-env-setup.py --version $VERSION > /dev/null"
      ],
      "execution_count": 4,
      "outputs": [
        {
          "output_type": "stream",
          "text": [
            "  % Total    % Received % Xferd  Average Speed   Time    Time     Time  Current\n",
            "                                 Dload  Upload   Total   Spent    Left  Speed\n",
            "100  5115  100  5115    0     0  29912      0 --:--:-- --:--:-- --:--:-- 30088\n",
            "Copying gs://tpu-pytorch/wheels/torch-nightly+20200707-cp36-cp36m-linux_x86_64.whl...\n",
            "\\ [1 files][107.5 MiB/107.5 MiB]                                                \n",
            "Operation completed over 1 objects/107.5 MiB.                                    \n",
            "Copying gs://tpu-pytorch/wheels/torch_xla-nightly+20200707-cp36-cp36m-linux_x86_64.whl...\n",
            "\\ [1 files][123.8 MiB/123.8 MiB]                                                \n",
            "Operation completed over 1 objects/123.8 MiB.                                    \n",
            "Copying gs://tpu-pytorch/wheels/torchvision-nightly+20200707-cp36-cp36m-linux_x86_64.whl...\n",
            "/ [1 files][  2.2 MiB/  2.2 MiB]                                                \n",
            "Operation completed over 1 objects/2.2 MiB.                                      \n",
            "\u001b[31mERROR: fastai2 0.0.21 requires torchvision>=0.7, which is not installed.\u001b[0m\n",
            "\u001b[31mERROR: fastai 1.0.61 requires torchvision, which is not installed.\u001b[0m\n"
          ],
          "name": "stdout"
        }
      ]
    },
    {
      "cell_type": "code",
      "metadata": {
        "id": "kpHgWzP3axAt",
        "colab_type": "code",
        "colab": {}
      },
      "source": [
        "import os\n",
        "assert os.environ['COLAB_TPU_ADDR'], 'Make sure to select TPU from Edit > Notebook settings > Hardware accelerator'"
      ],
      "execution_count": 5,
      "outputs": []
    },
    {
      "cell_type": "code",
      "metadata": {
        "id": "dNGLC--9bg2S",
        "colab_type": "code",
        "colab": {
          "base_uri": "https://localhost:8080/",
          "height": 119
        },
        "outputId": "8297326e-69cf-47c4-f814-4ac4d5f1b8f9"
      },
      "source": [
        "%%bash\n",
        "pip freeze | grep torch\n",
        "pip freeze | grep fastai2"
      ],
      "execution_count": 6,
      "outputs": [
        {
          "output_type": "stream",
          "text": [
            "torch==1.7.0a0+12b5bdc\n",
            "torch-xla==1.6+5430aca\n",
            "torchsummary==1.5.1\n",
            "torchtext==0.3.1\n",
            "torchvision==0.8.0a0+86b6c3e\n",
            "fastai2==0.0.21\n"
          ],
          "name": "stdout"
        }
      ]
    },
    {
      "cell_type": "code",
      "metadata": {
        "id": "Y6HtxzrLaxAz",
        "colab_type": "code",
        "colab": {}
      },
      "source": [
        "import fastai_xla_extensions.core"
      ],
      "execution_count": 7,
      "outputs": []
    },
    {
      "cell_type": "markdown",
      "metadata": {
        "id": "hYoWAY5oUZfr",
        "colab_type": "text"
      },
      "source": [
        "# We will work on /tmp (output files)\n",
        "\n",
        "But script could be in google drive..."
      ]
    },
    {
      "cell_type": "code",
      "metadata": {
        "id": "MDBqf6fCTN57",
        "colab_type": "code",
        "colab": {
          "base_uri": "https://localhost:8080/",
          "height": 34
        },
        "outputId": "0aa28fa9-5f73-42c3-b66c-005b5bceee15"
      },
      "source": [
        "%cd /tmp"
      ],
      "execution_count": 8,
      "outputs": [
        {
          "output_type": "stream",
          "text": [
            "/tmp\n"
          ],
          "name": "stdout"
        }
      ]
    },
    {
      "cell_type": "markdown",
      "metadata": {
        "id": "ApyJrnmqUO79",
        "colab_type": "text"
      },
      "source": [
        "# Download important scripts from xla"
      ]
    },
    {
      "cell_type": "code",
      "metadata": {
        "id": "ah6TSxgxTThu",
        "colab_type": "code",
        "colab": {
          "base_uri": "https://localhost:8080/",
          "height": 578
        },
        "outputId": "f7819cf9-e041-434d-bbc7-fe0cb9ca2c83"
      },
      "source": [
        "!wget https://raw.githubusercontent.com/pytorch/xla/master/scripts/debug_run.py > /dev/null\n",
        "!wget https://raw.githubusercontent.com/pytorch/xla/master/scripts/grab_graphs.py > /dev/null\n",
        "!wget https://raw.githubusercontent.com/pytorch/xla/master/scripts/grab_metrics.py > /dev/null\n",
        "\n",
        "!chmod +x /tmp/*.py\n",
        "%mkdir -p /tmp/out_debug_run"
      ],
      "execution_count": 16,
      "outputs": [
        {
          "output_type": "stream",
          "text": [
            "--2020-08-05 23:26:41--  https://raw.githubusercontent.com/pytorch/xla/master/scripts/debug_run.py\n",
            "Resolving raw.githubusercontent.com (raw.githubusercontent.com)... 151.101.0.133, 151.101.64.133, 151.101.128.133, ...\n",
            "Connecting to raw.githubusercontent.com (raw.githubusercontent.com)|151.101.0.133|:443... connected.\n",
            "HTTP request sent, awaiting response... 200 OK\n",
            "Length: 6176 (6.0K) [text/plain]\n",
            "Saving to: ‘debug_run.py.3’\n",
            "\n",
            "\rdebug_run.py.3        0%[                    ]       0  --.-KB/s               \rdebug_run.py.3      100%[===================>]   6.03K  --.-KB/s    in 0s      \n",
            "\n",
            "2020-08-05 23:26:41 (57.7 MB/s) - ‘debug_run.py.3’ saved [6176/6176]\n",
            "\n",
            "--2020-08-05 23:26:41--  https://raw.githubusercontent.com/pytorch/xla/master/scripts/grab_graphs.py\n",
            "Resolving raw.githubusercontent.com (raw.githubusercontent.com)... 151.101.0.133, 151.101.64.133, 151.101.128.133, ...\n",
            "Connecting to raw.githubusercontent.com (raw.githubusercontent.com)|151.101.0.133|:443... connected.\n",
            "HTTP request sent, awaiting response... 200 OK\n",
            "Length: 5216 (5.1K) [text/plain]\n",
            "Saving to: ‘grab_graphs.py.3’\n",
            "\n",
            "grab_graphs.py.3    100%[===================>]   5.09K  --.-KB/s    in 0s      \n",
            "\n",
            "2020-08-05 23:26:41 (59.5 MB/s) - ‘grab_graphs.py.3’ saved [5216/5216]\n",
            "\n",
            "--2020-08-05 23:26:42--  https://raw.githubusercontent.com/pytorch/xla/master/scripts/grab_metrics.py\n",
            "Resolving raw.githubusercontent.com (raw.githubusercontent.com)... 151.101.0.133, 151.101.64.133, 151.101.128.133, ...\n",
            "Connecting to raw.githubusercontent.com (raw.githubusercontent.com)|151.101.0.133|:443... connected.\n",
            "HTTP request sent, awaiting response... 200 OK\n",
            "Length: 4614 (4.5K) [text/plain]\n",
            "Saving to: ‘grab_metrics.py.3’\n",
            "\n",
            "grab_metrics.py.3   100%[===================>]   4.51K  --.-KB/s    in 0s      \n",
            "\n",
            "2020-08-05 23:26:42 (61.4 MB/s) - ‘grab_metrics.py.3’ saved [4614/4614]\n",
            "\n"
          ],
          "name": "stdout"
        }
      ]
    },
    {
      "cell_type": "markdown",
      "metadata": {
        "id": "A_JHfMuOT9f2",
        "colab_type": "text"
      },
      "source": [
        "# Generate debug just change target single_profile.py\n",
        "\n",
        "---\n",
        "\n",
        "In this case code to be tested is /content/drive/My\\ Drive/single_profile.py"
      ]
    },
    {
      "cell_type": "code",
      "metadata": {
        "id": "XdIv-6YU5K74",
        "colab_type": "code",
        "colab": {
          "base_uri": "https://localhost:8080/",
          "height": 122
        },
        "outputId": "35fa861b-d111-4802-cb23-c1a546719c10"
      },
      "source": [
        "from google.colab import drive\n",
        "drive.mount('/content/drive')"
      ],
      "execution_count": 10,
      "outputs": [
        {
          "output_type": "stream",
          "text": [
            "Go to this URL in a browser: https://accounts.google.com/o/oauth2/auth?client_id=947318989803-6bn6qk8qdgf4n4g3pfee6491hc0brc4i.apps.googleusercontent.com&redirect_uri=urn%3aietf%3awg%3aoauth%3a2.0%3aoob&response_type=code&scope=email%20https%3a%2f%2fwww.googleapis.com%2fauth%2fdocs.test%20https%3a%2f%2fwww.googleapis.com%2fauth%2fdrive%20https%3a%2f%2fwww.googleapis.com%2fauth%2fdrive.photos.readonly%20https%3a%2f%2fwww.googleapis.com%2fauth%2fpeopleapi.readonly\n",
            "\n",
            "Enter your authorization code:\n",
            "··········\n",
            "Mounted at /content/drive\n"
          ],
          "name": "stdout"
        }
      ]
    },
    {
      "cell_type": "code",
      "metadata": {
        "id": "H-BUFH39FQnK",
        "colab_type": "code",
        "colab": {
          "base_uri": "https://localhost:8080/",
          "height": 1000
        },
        "outputId": "1064aa89-cdda-4fe6-b634-aada197cb890"
      },
      "source": [
        "!python debug_run.py --outfile /tmp/out_debug_run/debug_run.tar.gz -- python -u /content/drive/My\\ Drive/single_profile.py"
      ],
      "execution_count": 17,
      "outputs": [
        {
          "output_type": "stream",
          "text": [
            "Writing run results to /tmp/debug_run-85bc6767fd51-root-0\n",
            "XLA Environment:\n",
            "  XRT_TPU_CONFIG=tpu_worker;0;10.0.146.210:8470\n",
            "  TF_FORCE_GPU_ALLOW_GROWTH=true\n",
            "  TF_CPP_MIN_LOG_LEVEL=0\n",
            "  TF_GRPC_DEFAULT_OPTIONS=grpc.keepalive_time_ms=60000,grpc.keepalive_timeout_ms=14400000,grpc.http2.max_pings_without_data=0,grpc.http2.min_ping_interval_without_data_ms=300000\n",
            "  XLA_FLAGS= --xla_cpu_enable_fast_math=false\n",
            "  XLA_IR_DEBUG=1\n",
            "  XLA_HLO_DEBUG=1\n",
            "  TF_CPP_LOG_THREAD_ID=1\n",
            "  XLA_DUMP_FATAL_STACK=1\n",
            "  TF_CPP_VMODULE=tensor=5,computation_client=5,xrt_computation_client=5,aten_xla_type=1\n",
            "  XLA_SAVE_TENSORS_FILE=/tmp/debug_run-85bc6767fd51-root-0/graphs\n",
            "  XLA_METRICS_FILE=/tmp/debug_run-85bc6767fd51-root-0/metrics\n",
            "2020-08-05 23:27:13.328677: I    1601 torch_xla/csrc/aten_xla_type.cpp:119] PyTorch GIT revision: 12b5bdc60194b4991d699a42a9ee5e56efa6e2f6\n",
            "2020-08-05 23:27:13.328782: I    1601 torch_xla/csrc/aten_xla_type.cpp:120] XLA GIT revision: 5430aca79ffdd1e0084c151a0d0302d40e5f55b3\n",
            "2020-08-05 23:27:13.613467: I    1601 tensorflow/compiler/xla/xla_client/xrt_computation_client.cc:257] XRT device (LOCAL) CPU:0 -> /job:tpu_worker/replica:0/task:0/device:XLA_CPU:0\n",
            "2020-08-05 23:27:13.613535: I    1601 tensorflow/compiler/xla/xla_client/xrt_computation_client.cc:257] XRT device (LOCAL) TPU:0 -> /job:tpu_worker/replica:0/task:0/device:TPU:0\n",
            "2020-08-05 23:27:13.613545: I    1601 tensorflow/compiler/xla/xla_client/xrt_computation_client.cc:257] XRT device (LOCAL) TPU:1 -> /job:tpu_worker/replica:0/task:0/device:TPU:1\n",
            "2020-08-05 23:27:13.613552: I    1601 tensorflow/compiler/xla/xla_client/xrt_computation_client.cc:257] XRT device (LOCAL) TPU:2 -> /job:tpu_worker/replica:0/task:0/device:TPU:2\n",
            "2020-08-05 23:27:13.613559: I    1601 tensorflow/compiler/xla/xla_client/xrt_computation_client.cc:257] XRT device (LOCAL) TPU:3 -> /job:tpu_worker/replica:0/task:0/device:TPU:3\n",
            "2020-08-05 23:27:13.613566: I    1601 tensorflow/compiler/xla/xla_client/xrt_computation_client.cc:257] XRT device (LOCAL) TPU:4 -> /job:tpu_worker/replica:0/task:0/device:TPU:4\n",
            "2020-08-05 23:27:13.613573: I    1601 tensorflow/compiler/xla/xla_client/xrt_computation_client.cc:257] XRT device (LOCAL) TPU:5 -> /job:tpu_worker/replica:0/task:0/device:TPU:5\n",
            "2020-08-05 23:27:13.613580: I    1601 tensorflow/compiler/xla/xla_client/xrt_computation_client.cc:257] XRT device (LOCAL) TPU:6 -> /job:tpu_worker/replica:0/task:0/device:TPU:6\n",
            "2020-08-05 23:27:13.613586: I    1601 tensorflow/compiler/xla/xla_client/xrt_computation_client.cc:257] XRT device (LOCAL) TPU:7 -> /job:tpu_worker/replica:0/task:0/device:TPU:7\n",
            "2020-08-05 23:27:13.613602: I    1601 tensorflow/compiler/xla/xla_client/xrt_computation_client.cc:261] Worker grpc://10.0.146.210:8470 for /job:tpu_worker/replica:0/task:0\n",
            "2020-08-05 23:27:13.613609: I    1601 tensorflow/compiler/xla/xla_client/xrt_computation_client.cc:265] XRT default device: TPU:0\n",
            "2020-08-05 23:27:13.613626: I    1601 tensorflow/compiler/xla/xla_client/xrt_computation_client.cc:1247] Configuring TPU for master worker tpu_worker:0 at grpc://10.0.146.210:8470\n",
            "2020-08-05 23:27:42.272422: I    1601 tensorflow/compiler/xla/xla_client/xrt_computation_client.cc:1258] TPU topology: mesh_shape: 2\n",
            "mesh_shape: 2\n",
            "mesh_shape: 1\n",
            "mesh_shape: 2\n",
            "num_tasks: 1\n",
            "num_tpu_devices_per_task: 8\n",
            "device_coordinates: 0\n",
            "device_coordinates: 0\n",
            "device_coordinates: 0\n",
            "device_coordinates: 0\n",
            "device_coordinates: 0\n",
            "device_coordinates: 0\n",
            "device_coordinates: 0\n",
            "device_coordinates: 1\n",
            "device_coordinates: 1\n",
            "device_coordinates: 0\n",
            "device_coordinates: 0\n",
            "device_coordinates: 0\n",
            "device_coordinates: 1\n",
            "device_coordinates: 0\n",
            "device_coordinates: 0\n",
            "device_coordinates: 1\n",
            "device_coordinates: 0\n",
            "device_coordinates: 1\n",
            "device_coordinates: 0\n",
            "device_coordinates: 0\n",
            "device_coordinates: 0\n",
            "device_coordinates: 1\n",
            "device_coordinates: 0\n",
            "device_coordinates: 1\n",
            "device_coordinates: 1\n",
            "device_coordinates: 1\n",
            "device_coordinates: 0\n",
            "device_coordinates: 0\n",
            "device_coordinates: 1\n",
            "device_coordinates: 1\n",
            "device_coordinates: 0\n",
            "device_coordinates: 1\n",
            "\n",
            "running on default_device() & cuda is False\n",
            "--- 10 image tensor loops:\n",
            "--- ---------------------------------\n",
            "2020-08-05 23:27:43.184394: I    1601 torch_xla/csrc/tensor.cpp:1099] Waiting on device barrier for device TPU:0 ...\n",
            "2020-08-05 23:27:43.184494: I    1601 torch_xla/csrc/tensor.cpp:1105] Waiting on device barrier for device TPU:0 done!\n",
            "2020-08-05 23:27:43.184631: I    1601 torch_xla/csrc/tensor.cpp:1144] Tensors graph hash ead09f49d3f2b8988eb6afa28530acab on device TPU:0\n",
            "2020-08-05 23:27:43.200364: I    1601 torch_xla/csrc/tensor.cpp:1553] Parameter sequence graph hash 65ea72ab4886f228ccadbc69c4405861\n",
            "2020-08-05 23:27:43.201364: I    1601 torch_xla/csrc/tensor.cpp:1519] Compiling IR graph hash 65ea72ab4886f228ccadbc69c4405861 on device TPU:0 ...\n",
            "2020-08-05 23:27:43.277824: I    1601 torch_xla/csrc/tensor.cpp:1524] Compiling IR graph hash 65ea72ab4886f228ccadbc69c4405861 on device TPU:0 done!\n",
            "2020-08-05 23:27:43.278112: I    1601 torch_xla/csrc/tensor.cpp:1526] Graph hash 65ea72ab4886f228ccadbc69c4405861 is computation hash 77560bcba9b4e8c28f12e69c6674fe56\n",
            "2020-08-05 23:27:43.278248: I    1601 torch_xla/csrc/tensor.cpp:1563] TensorsGraphSize=111\n",
            "2020-08-05 23:27:43.278340: I    1632 torch_xla/csrc/tensor.cpp:1272] Executing IR graph hash 65ea72ab4886f228ccadbc69c4405861 on device TPU:0 ...\n",
            "2020-08-05 23:27:43.292697: I    1632 torch_xla/csrc/tensor.cpp:1277] Executing IR graph hash 65ea72ab4886f228ccadbc69c4405861 on device TPU:0 done!\n",
            "2020-08-05 23:27:46.793859: I    1601 torch_xla/csrc/tensor.cpp:1099] Waiting on device barrier for device TPU:0 ...\n",
            "2020-08-05 23:27:46.793962: I    1601 torch_xla/csrc/tensor.cpp:1105] Waiting on device barrier for device TPU:0 done!\n",
            "2020-08-05 23:27:46.793988: I    1601 torch_xla/csrc/tensor.cpp:1144] Tensors graph hash 92ee0b6731da74167dbbecd68e5f097b on device TPU:0\n",
            "2020-08-05 23:27:46.794734: I    1601 torch_xla/csrc/tensor.cpp:1553] Parameter sequence graph hash 12735b265d076d1d02905ccc010cb685\n",
            "2020-08-05 23:27:46.795048: I    1601 torch_xla/csrc/tensor.cpp:1519] Compiling IR graph hash 12735b265d076d1d02905ccc010cb685 on device TPU:0 ...\n",
            "2020-08-05 23:27:46.797138: I    1601 torch_xla/csrc/tensor.cpp:1524] Compiling IR graph hash 12735b265d076d1d02905ccc010cb685 on device TPU:0 done!\n",
            "2020-08-05 23:27:46.797229: I    1601 torch_xla/csrc/tensor.cpp:1526] Graph hash 12735b265d076d1d02905ccc010cb685 is computation hash 98039ba7b72767e42dd81dd3b9912a7f\n",
            "2020-08-05 23:27:46.797254: I    1601 torch_xla/csrc/tensor.cpp:1563] TensorsGraphSize=6\n",
            "2020-08-05 23:27:46.797313: I    1632 torch_xla/csrc/tensor.cpp:1272] Executing IR graph hash 12735b265d076d1d02905ccc010cb685 on device TPU:0 ...\n",
            "2020-08-05 23:27:46.801034: I    1632 torch_xla/csrc/tensor.cpp:1277] Executing IR graph hash 12735b265d076d1d02905ccc010cb685 on device TPU:0 done!\n",
            "2020-08-05 23:27:46.803267: I    1601 torch_xla/csrc/tensor.cpp:1099] Waiting on device barrier for device TPU:0 ...\n",
            "2020-08-05 23:27:46.803315: I    1601 torch_xla/csrc/tensor.cpp:1105] Waiting on device barrier for device TPU:0 done!\n",
            "2020-08-05 23:27:46.803335: I    1601 torch_xla/csrc/tensor.cpp:1144] Tensors graph hash e2cc4e2f7e25d22ab252ba0959dda7bc on device TPU:0\n",
            "2020-08-05 23:27:46.804628: I    1601 torch_xla/csrc/tensor.cpp:1553] Parameter sequence graph hash 65848e37c86dd174133d82d35ab13da0\n",
            "2020-08-05 23:27:46.804899: I    1601 torch_xla/csrc/tensor.cpp:1519] Compiling IR graph hash 65848e37c86dd174133d82d35ab13da0 on device TPU:0 ...\n",
            "2020-08-05 23:27:46.806403: I    1601 torch_xla/csrc/tensor.cpp:1524] Compiling IR graph hash 65848e37c86dd174133d82d35ab13da0 on device TPU:0 done!\n",
            "2020-08-05 23:27:46.806502: I    1601 torch_xla/csrc/tensor.cpp:1526] Graph hash 65848e37c86dd174133d82d35ab13da0 is computation hash e057c8bb2dd64f075c38d2e4770ca7d\n",
            "2020-08-05 23:27:46.806525: I    1601 torch_xla/csrc/tensor.cpp:1563] TensorsGraphSize=7\n",
            "2020-08-05 23:27:46.806577: I    1633 torch_xla/csrc/tensor.cpp:1272] Executing IR graph hash 65848e37c86dd174133d82d35ab13da0 on device TPU:0 ...\n",
            "2020-08-05 23:27:46.810672: I    1633 torch_xla/csrc/tensor.cpp:1277] Executing IR graph hash 65848e37c86dd174133d82d35ab13da0 on device TPU:0 done!\n",
            "--- ---------------------------------\n",
            "2020-08-05 23:27:51.623665: I    1601 torch_xla/csrc/tensor.cpp:1099] Waiting on device barrier for device TPU:0 ...\n",
            "2020-08-05 23:27:51.623750: I    1601 torch_xla/csrc/tensor.cpp:1105] Waiting on device barrier for device TPU:0 done!\n",
            "2020-08-05 23:27:51.623844: I    1601 torch_xla/csrc/tensor.cpp:1144] Tensors graph hash ead09f49d3f2b8988eb6afa28530acab on device TPU:0\n",
            "2020-08-05 23:27:51.639527: I    1601 torch_xla/csrc/tensor.cpp:1553] Parameter sequence graph hash 65ea72ab4886f228ccadbc69c4405861\n",
            "2020-08-05 23:27:51.639686: I    1601 torch_xla/csrc/tensor.cpp:1157] Graph hash 65ea72ab4886f228ccadbc69c4405861 is computation hash 77560bcba9b4e8c28f12e69c6674fe56\n",
            "2020-08-05 23:27:51.639708: I    1601 torch_xla/csrc/tensor.cpp:1176] TensorsGraphSize=111\n",
            "2020-08-05 23:27:51.639826: I    1633 torch_xla/csrc/tensor.cpp:1272] Executing IR graph hash 65ea72ab4886f228ccadbc69c4405861 on device TPU:0 ...\n",
            "2020-08-05 23:27:51.644445: I    1633 torch_xla/csrc/tensor.cpp:1277] Executing IR graph hash 65ea72ab4886f228ccadbc69c4405861 on device TPU:0 done!\n",
            "2020-08-05 23:27:54.685986: I    1601 torch_xla/csrc/tensor.cpp:1099] Waiting on device barrier for device TPU:0 ...\n",
            "2020-08-05 23:27:54.686085: I    1601 torch_xla/csrc/tensor.cpp:1105] Waiting on device barrier for device TPU:0 done!\n",
            "2020-08-05 23:27:54.686110: I    1601 torch_xla/csrc/tensor.cpp:1144] Tensors graph hash 92ee0b6731da74167dbbecd68e5f097b on device TPU:0\n",
            "2020-08-05 23:27:54.686816: I    1601 torch_xla/csrc/tensor.cpp:1553] Parameter sequence graph hash 12735b265d076d1d02905ccc010cb685\n",
            "2020-08-05 23:27:54.686906: I    1601 torch_xla/csrc/tensor.cpp:1157] Graph hash 12735b265d076d1d02905ccc010cb685 is computation hash 98039ba7b72767e42dd81dd3b9912a7f\n",
            "2020-08-05 23:27:54.686920: I    1601 torch_xla/csrc/tensor.cpp:1176] TensorsGraphSize=6\n",
            "2020-08-05 23:27:54.686997: I    1632 torch_xla/csrc/tensor.cpp:1272] Executing IR graph hash 12735b265d076d1d02905ccc010cb685 on device TPU:0 ...\n",
            "2020-08-05 23:27:54.691821: I    1632 torch_xla/csrc/tensor.cpp:1277] Executing IR graph hash 12735b265d076d1d02905ccc010cb685 on device TPU:0 done!\n",
            "2020-08-05 23:27:54.693957: I    1601 torch_xla/csrc/tensor.cpp:1099] Waiting on device barrier for device TPU:0 ...\n",
            "2020-08-05 23:27:54.694017: I    1601 torch_xla/csrc/tensor.cpp:1105] Waiting on device barrier for device TPU:0 done!\n",
            "2020-08-05 23:27:54.694035: I    1601 torch_xla/csrc/tensor.cpp:1144] Tensors graph hash e2cc4e2f7e25d22ab252ba0959dda7bc on device TPU:0\n",
            "2020-08-05 23:27:54.695421: I    1601 torch_xla/csrc/tensor.cpp:1553] Parameter sequence graph hash 65848e37c86dd174133d82d35ab13da0\n",
            "2020-08-05 23:27:54.695503: I    1601 torch_xla/csrc/tensor.cpp:1157] Graph hash 65848e37c86dd174133d82d35ab13da0 is computation hash e057c8bb2dd64f075c38d2e4770ca7d\n",
            "2020-08-05 23:27:54.695514: I    1601 torch_xla/csrc/tensor.cpp:1176] TensorsGraphSize=7\n",
            "2020-08-05 23:27:54.695566: I    1632 torch_xla/csrc/tensor.cpp:1272] Executing IR graph hash 65848e37c86dd174133d82d35ab13da0 on device TPU:0 ...\n",
            "2020-08-05 23:27:54.699926: I    1632 torch_xla/csrc/tensor.cpp:1277] Executing IR graph hash 65848e37c86dd174133d82d35ab13da0 on device TPU:0 done!\n",
            "--- ---------------------------------\n",
            "2020-08-05 23:27:59.272664: I    1601 torch_xla/csrc/tensor.cpp:1099] Waiting on device barrier for device TPU:0 ...\n",
            "2020-08-05 23:27:59.272751: I    1601 torch_xla/csrc/tensor.cpp:1105] Waiting on device barrier for device TPU:0 done!\n",
            "2020-08-05 23:27:59.272843: I    1601 torch_xla/csrc/tensor.cpp:1144] Tensors graph hash ead09f49d3f2b8988eb6afa28530acab on device TPU:0\n",
            "2020-08-05 23:27:59.288676: I    1601 torch_xla/csrc/tensor.cpp:1553] Parameter sequence graph hash 65ea72ab4886f228ccadbc69c4405861\n",
            "2020-08-05 23:27:59.288854: I    1601 torch_xla/csrc/tensor.cpp:1157] Graph hash 65ea72ab4886f228ccadbc69c4405861 is computation hash 77560bcba9b4e8c28f12e69c6674fe56\n",
            "2020-08-05 23:27:59.288891: I    1601 torch_xla/csrc/tensor.cpp:1176] TensorsGraphSize=111\n",
            "2020-08-05 23:27:59.288951: I    1632 torch_xla/csrc/tensor.cpp:1272] Executing IR graph hash 65ea72ab4886f228ccadbc69c4405861 on device TPU:0 ...\n",
            "2020-08-05 23:27:59.293099: I    1632 torch_xla/csrc/tensor.cpp:1277] Executing IR graph hash 65ea72ab4886f228ccadbc69c4405861 on device TPU:0 done!\n",
            "2020-08-05 23:28:02.330610: I    1601 torch_xla/csrc/tensor.cpp:1099] Waiting on device barrier for device TPU:0 ...\n",
            "2020-08-05 23:28:02.330731: I    1601 torch_xla/csrc/tensor.cpp:1105] Waiting on device barrier for device TPU:0 done!\n",
            "2020-08-05 23:28:02.330757: I    1601 torch_xla/csrc/tensor.cpp:1144] Tensors graph hash 92ee0b6731da74167dbbecd68e5f097b on device TPU:0\n",
            "2020-08-05 23:28:02.331502: I    1601 torch_xla/csrc/tensor.cpp:1553] Parameter sequence graph hash 12735b265d076d1d02905ccc010cb685\n",
            "2020-08-05 23:28:02.331573: I    1601 torch_xla/csrc/tensor.cpp:1157] Graph hash 12735b265d076d1d02905ccc010cb685 is computation hash 98039ba7b72767e42dd81dd3b9912a7f\n",
            "2020-08-05 23:28:02.331589: I    1601 torch_xla/csrc/tensor.cpp:1176] TensorsGraphSize=6\n",
            "2020-08-05 23:28:02.331665: I    1633 torch_xla/csrc/tensor.cpp:1272] Executing IR graph hash 12735b265d076d1d02905ccc010cb685 on device TPU:0 ...\n",
            "2020-08-05 23:28:02.335766: I    1633 torch_xla/csrc/tensor.cpp:1277] Executing IR graph hash 12735b265d076d1d02905ccc010cb685 on device TPU:0 done!\n",
            "2020-08-05 23:28:02.338106: I    1601 torch_xla/csrc/tensor.cpp:1099] Waiting on device barrier for device TPU:0 ...\n",
            "2020-08-05 23:28:02.338178: I    1601 torch_xla/csrc/tensor.cpp:1105] Waiting on device barrier for device TPU:0 done!\n",
            "2020-08-05 23:28:02.338200: I    1601 torch_xla/csrc/tensor.cpp:1144] Tensors graph hash e2cc4e2f7e25d22ab252ba0959dda7bc on device TPU:0\n",
            "2020-08-05 23:28:02.339647: I    1601 torch_xla/csrc/tensor.cpp:1553] Parameter sequence graph hash 65848e37c86dd174133d82d35ab13da0\n",
            "2020-08-05 23:28:02.339725: I    1601 torch_xla/csrc/tensor.cpp:1157] Graph hash 65848e37c86dd174133d82d35ab13da0 is computation hash e057c8bb2dd64f075c38d2e4770ca7d\n",
            "2020-08-05 23:28:02.339738: I    1601 torch_xla/csrc/tensor.cpp:1176] TensorsGraphSize=7\n",
            "2020-08-05 23:28:02.339795: I    1633 torch_xla/csrc/tensor.cpp:1272] Executing IR graph hash 65848e37c86dd174133d82d35ab13da0 on device TPU:0 ...\n",
            "2020-08-05 23:28:02.344124: I    1633 torch_xla/csrc/tensor.cpp:1277] Executing IR graph hash 65848e37c86dd174133d82d35ab13da0 on device TPU:0 done!\n",
            "--- ---------------------------------\n",
            "2020-08-05 23:28:06.725770: I    1601 torch_xla/csrc/tensor.cpp:1099] Waiting on device barrier for device TPU:0 ...\n",
            "2020-08-05 23:28:06.725856: I    1601 torch_xla/csrc/tensor.cpp:1105] Waiting on device barrier for device TPU:0 done!\n",
            "2020-08-05 23:28:06.725970: I    1601 torch_xla/csrc/tensor.cpp:1144] Tensors graph hash ead09f49d3f2b8988eb6afa28530acab on device TPU:0\n",
            "2020-08-05 23:28:06.741410: I    1601 torch_xla/csrc/tensor.cpp:1553] Parameter sequence graph hash 65ea72ab4886f228ccadbc69c4405861\n",
            "2020-08-05 23:28:06.741562: I    1601 torch_xla/csrc/tensor.cpp:1157] Graph hash 65ea72ab4886f228ccadbc69c4405861 is computation hash 77560bcba9b4e8c28f12e69c6674fe56\n",
            "2020-08-05 23:28:06.741576: I    1601 torch_xla/csrc/tensor.cpp:1176] TensorsGraphSize=111\n",
            "2020-08-05 23:28:06.741684: I    1633 torch_xla/csrc/tensor.cpp:1272] Executing IR graph hash 65ea72ab4886f228ccadbc69c4405861 on device TPU:0 ...\n",
            "2020-08-05 23:28:06.746143: I    1633 torch_xla/csrc/tensor.cpp:1277] Executing IR graph hash 65ea72ab4886f228ccadbc69c4405861 on device TPU:0 done!\n",
            "2020-08-05 23:28:09.774489: I    1601 torch_xla/csrc/tensor.cpp:1099] Waiting on device barrier for device TPU:0 ...\n",
            "2020-08-05 23:28:09.774592: I    1601 torch_xla/csrc/tensor.cpp:1105] Waiting on device barrier for device TPU:0 done!\n",
            "2020-08-05 23:28:09.774617: I    1601 torch_xla/csrc/tensor.cpp:1144] Tensors graph hash 92ee0b6731da74167dbbecd68e5f097b on device TPU:0\n",
            "2020-08-05 23:28:09.775414: I    1601 torch_xla/csrc/tensor.cpp:1553] Parameter sequence graph hash 12735b265d076d1d02905ccc010cb685\n",
            "2020-08-05 23:28:09.775486: I    1601 torch_xla/csrc/tensor.cpp:1157] Graph hash 12735b265d076d1d02905ccc010cb685 is computation hash 98039ba7b72767e42dd81dd3b9912a7f\n",
            "2020-08-05 23:28:09.775501: I    1601 torch_xla/csrc/tensor.cpp:1176] TensorsGraphSize=6\n",
            "2020-08-05 23:28:09.775561: I    1632 torch_xla/csrc/tensor.cpp:1272] Executing IR graph hash 12735b265d076d1d02905ccc010cb685 on device TPU:0 ...\n",
            "2020-08-05 23:28:09.779827: I    1632 torch_xla/csrc/tensor.cpp:1277] Executing IR graph hash 12735b265d076d1d02905ccc010cb685 on device TPU:0 done!\n",
            "2020-08-05 23:28:09.782013: I    1601 torch_xla/csrc/tensor.cpp:1099] Waiting on device barrier for device TPU:0 ...\n",
            "2020-08-05 23:28:09.782071: I    1601 torch_xla/csrc/tensor.cpp:1105] Waiting on device barrier for device TPU:0 done!\n",
            "2020-08-05 23:28:09.782089: I    1601 torch_xla/csrc/tensor.cpp:1144] Tensors graph hash e2cc4e2f7e25d22ab252ba0959dda7bc on device TPU:0\n",
            "2020-08-05 23:28:09.783393: I    1601 torch_xla/csrc/tensor.cpp:1553] Parameter sequence graph hash 65848e37c86dd174133d82d35ab13da0\n",
            "2020-08-05 23:28:09.783454: I    1601 torch_xla/csrc/tensor.cpp:1157] Graph hash 65848e37c86dd174133d82d35ab13da0 is computation hash e057c8bb2dd64f075c38d2e4770ca7d\n",
            "2020-08-05 23:28:09.783465: I    1601 torch_xla/csrc/tensor.cpp:1176] TensorsGraphSize=7\n",
            "2020-08-05 23:28:09.783517: I    1632 torch_xla/csrc/tensor.cpp:1272] Executing IR graph hash 65848e37c86dd174133d82d35ab13da0 on device TPU:0 ...\n",
            "2020-08-05 23:28:09.787405: I    1632 torch_xla/csrc/tensor.cpp:1277] Executing IR graph hash 65848e37c86dd174133d82d35ab13da0 on device TPU:0 done!\n",
            "--- ---------------------------------\n",
            "2020-08-05 23:28:14.147218: I    1601 torch_xla/csrc/tensor.cpp:1099] Waiting on device barrier for device TPU:0 ...\n",
            "2020-08-05 23:28:14.147309: I    1601 torch_xla/csrc/tensor.cpp:1105] Waiting on device barrier for device TPU:0 done!\n",
            "2020-08-05 23:28:14.147400: I    1601 torch_xla/csrc/tensor.cpp:1144] Tensors graph hash ead09f49d3f2b8988eb6afa28530acab on device TPU:0\n",
            "2020-08-05 23:28:14.162949: I    1601 torch_xla/csrc/tensor.cpp:1553] Parameter sequence graph hash 65ea72ab4886f228ccadbc69c4405861\n",
            "2020-08-05 23:28:14.163114: I    1601 torch_xla/csrc/tensor.cpp:1157] Graph hash 65ea72ab4886f228ccadbc69c4405861 is computation hash 77560bcba9b4e8c28f12e69c6674fe56\n",
            "2020-08-05 23:28:14.163135: I    1601 torch_xla/csrc/tensor.cpp:1176] TensorsGraphSize=111\n",
            "2020-08-05 23:28:14.163223: I    1632 torch_xla/csrc/tensor.cpp:1272] Executing IR graph hash 65ea72ab4886f228ccadbc69c4405861 on device TPU:0 ...\n",
            "2020-08-05 23:28:14.167600: I    1632 torch_xla/csrc/tensor.cpp:1277] Executing IR graph hash 65ea72ab4886f228ccadbc69c4405861 on device TPU:0 done!\n",
            "2020-08-05 23:28:17.209387: I    1601 torch_xla/csrc/tensor.cpp:1099] Waiting on device barrier for device TPU:0 ...\n",
            "2020-08-05 23:28:17.209487: I    1601 torch_xla/csrc/tensor.cpp:1105] Waiting on device barrier for device TPU:0 done!\n",
            "2020-08-05 23:28:17.209512: I    1601 torch_xla/csrc/tensor.cpp:1144] Tensors graph hash 92ee0b6731da74167dbbecd68e5f097b on device TPU:0\n",
            "2020-08-05 23:28:17.210245: I    1601 torch_xla/csrc/tensor.cpp:1553] Parameter sequence graph hash 12735b265d076d1d02905ccc010cb685\n",
            "2020-08-05 23:28:17.210311: I    1601 torch_xla/csrc/tensor.cpp:1157] Graph hash 12735b265d076d1d02905ccc010cb685 is computation hash 98039ba7b72767e42dd81dd3b9912a7f\n",
            "2020-08-05 23:28:17.210322: I    1601 torch_xla/csrc/tensor.cpp:1176] TensorsGraphSize=6\n",
            "2020-08-05 23:28:17.210402: I    1633 torch_xla/csrc/tensor.cpp:1272] Executing IR graph hash 12735b265d076d1d02905ccc010cb685 on device TPU:0 ...\n",
            "2020-08-05 23:28:17.214617: I    1633 torch_xla/csrc/tensor.cpp:1277] Executing IR graph hash 12735b265d076d1d02905ccc010cb685 on device TPU:0 done!\n",
            "2020-08-05 23:28:17.217341: I    1601 torch_xla/csrc/tensor.cpp:1099] Waiting on device barrier for device TPU:0 ...\n",
            "2020-08-05 23:28:17.217404: I    1601 torch_xla/csrc/tensor.cpp:1105] Waiting on device barrier for device TPU:0 done!\n",
            "2020-08-05 23:28:17.217424: I    1601 torch_xla/csrc/tensor.cpp:1144] Tensors graph hash e2cc4e2f7e25d22ab252ba0959dda7bc on device TPU:0\n",
            "2020-08-05 23:28:17.218747: I    1601 torch_xla/csrc/tensor.cpp:1553] Parameter sequence graph hash 65848e37c86dd174133d82d35ab13da0\n",
            "2020-08-05 23:28:17.218810: I    1601 torch_xla/csrc/tensor.cpp:1157] Graph hash 65848e37c86dd174133d82d35ab13da0 is computation hash e057c8bb2dd64f075c38d2e4770ca7d\n",
            "2020-08-05 23:28:17.218821: I    1601 torch_xla/csrc/tensor.cpp:1176] TensorsGraphSize=7\n",
            "2020-08-05 23:28:17.218904: I    1633 torch_xla/csrc/tensor.cpp:1272] Executing IR graph hash 65848e37c86dd174133d82d35ab13da0 on device TPU:0 ...\n",
            "2020-08-05 23:28:17.222933: I    1633 torch_xla/csrc/tensor.cpp:1277] Executing IR graph hash 65848e37c86dd174133d82d35ab13da0 on device TPU:0 done!\n",
            "--- ---------------------------------\n",
            "2020-08-05 23:28:21.414526: I    1601 torch_xla/csrc/tensor.cpp:1099] Waiting on device barrier for device TPU:0 ...\n",
            "2020-08-05 23:28:21.414632: I    1601 torch_xla/csrc/tensor.cpp:1105] Waiting on device barrier for device TPU:0 done!\n",
            "2020-08-05 23:28:21.414763: I    1601 torch_xla/csrc/tensor.cpp:1144] Tensors graph hash ead09f49d3f2b8988eb6afa28530acab on device TPU:0\n",
            "2020-08-05 23:28:21.430598: I    1601 torch_xla/csrc/tensor.cpp:1553] Parameter sequence graph hash 65ea72ab4886f228ccadbc69c4405861\n",
            "2020-08-05 23:28:21.430770: I    1601 torch_xla/csrc/tensor.cpp:1157] Graph hash 65ea72ab4886f228ccadbc69c4405861 is computation hash 77560bcba9b4e8c28f12e69c6674fe56\n",
            "2020-08-05 23:28:21.430785: I    1601 torch_xla/csrc/tensor.cpp:1176] TensorsGraphSize=111\n",
            "2020-08-05 23:28:21.430924: I    1633 torch_xla/csrc/tensor.cpp:1272] Executing IR graph hash 65ea72ab4886f228ccadbc69c4405861 on device TPU:0 ...\n",
            "2020-08-05 23:28:21.435994: I    1633 torch_xla/csrc/tensor.cpp:1277] Executing IR graph hash 65ea72ab4886f228ccadbc69c4405861 on device TPU:0 done!\n",
            "2020-08-05 23:28:24.503841: I    1601 torch_xla/csrc/tensor.cpp:1099] Waiting on device barrier for device TPU:0 ...\n",
            "2020-08-05 23:28:24.503979: I    1601 torch_xla/csrc/tensor.cpp:1105] Waiting on device barrier for device TPU:0 done!\n",
            "2020-08-05 23:28:24.504009: I    1601 torch_xla/csrc/tensor.cpp:1144] Tensors graph hash 92ee0b6731da74167dbbecd68e5f097b on device TPU:0\n",
            "2020-08-05 23:28:24.504709: I    1601 torch_xla/csrc/tensor.cpp:1553] Parameter sequence graph hash 12735b265d076d1d02905ccc010cb685\n",
            "2020-08-05 23:28:24.504775: I    1601 torch_xla/csrc/tensor.cpp:1157] Graph hash 12735b265d076d1d02905ccc010cb685 is computation hash 98039ba7b72767e42dd81dd3b9912a7f\n",
            "2020-08-05 23:28:24.504786: I    1601 torch_xla/csrc/tensor.cpp:1176] TensorsGraphSize=6\n",
            "2020-08-05 23:28:24.504852: I    1632 torch_xla/csrc/tensor.cpp:1272] Executing IR graph hash 12735b265d076d1d02905ccc010cb685 on device TPU:0 ...\n",
            "2020-08-05 23:28:24.510135: I    1632 torch_xla/csrc/tensor.cpp:1277] Executing IR graph hash 12735b265d076d1d02905ccc010cb685 on device TPU:0 done!\n",
            "2020-08-05 23:28:24.512470: I    1601 torch_xla/csrc/tensor.cpp:1099] Waiting on device barrier for device TPU:0 ...\n",
            "2020-08-05 23:28:24.512542: I    1601 torch_xla/csrc/tensor.cpp:1105] Waiting on device barrier for device TPU:0 done!\n",
            "2020-08-05 23:28:24.512562: I    1601 torch_xla/csrc/tensor.cpp:1144] Tensors graph hash e2cc4e2f7e25d22ab252ba0959dda7bc on device TPU:0\n",
            "2020-08-05 23:28:24.513928: I    1601 torch_xla/csrc/tensor.cpp:1553] Parameter sequence graph hash 65848e37c86dd174133d82d35ab13da0\n",
            "2020-08-05 23:28:24.514007: I    1601 torch_xla/csrc/tensor.cpp:1157] Graph hash 65848e37c86dd174133d82d35ab13da0 is computation hash e057c8bb2dd64f075c38d2e4770ca7d\n",
            "2020-08-05 23:28:24.514021: I    1601 torch_xla/csrc/tensor.cpp:1176] TensorsGraphSize=7\n",
            "2020-08-05 23:28:24.514075: I    1632 torch_xla/csrc/tensor.cpp:1272] Executing IR graph hash 65848e37c86dd174133d82d35ab13da0 on device TPU:0 ...\n",
            "2020-08-05 23:28:24.519570: I    1632 torch_xla/csrc/tensor.cpp:1277] Executing IR graph hash 65848e37c86dd174133d82d35ab13da0 on device TPU:0 done!\n",
            "--- ---------------------------------\n",
            "2020-08-05 23:28:29.102790: I    1601 torch_xla/csrc/tensor.cpp:1099] Waiting on device barrier for device TPU:0 ...\n",
            "2020-08-05 23:28:29.102894: I    1601 torch_xla/csrc/tensor.cpp:1105] Waiting on device barrier for device TPU:0 done!\n",
            "2020-08-05 23:28:29.102995: I    1601 torch_xla/csrc/tensor.cpp:1144] Tensors graph hash ead09f49d3f2b8988eb6afa28530acab on device TPU:0\n",
            "2020-08-05 23:28:29.118778: I    1601 torch_xla/csrc/tensor.cpp:1553] Parameter sequence graph hash 65ea72ab4886f228ccadbc69c4405861\n",
            "2020-08-05 23:28:29.118989: I    1601 torch_xla/csrc/tensor.cpp:1157] Graph hash 65ea72ab4886f228ccadbc69c4405861 is computation hash 77560bcba9b4e8c28f12e69c6674fe56\n",
            "2020-08-05 23:28:29.119016: I    1601 torch_xla/csrc/tensor.cpp:1176] TensorsGraphSize=111\n",
            "2020-08-05 23:28:29.119081: I    1632 torch_xla/csrc/tensor.cpp:1272] Executing IR graph hash 65ea72ab4886f228ccadbc69c4405861 on device TPU:0 ...\n",
            "2020-08-05 23:28:29.123391: I    1632 torch_xla/csrc/tensor.cpp:1277] Executing IR graph hash 65ea72ab4886f228ccadbc69c4405861 on device TPU:0 done!\n",
            "2020-08-05 23:28:32.161772: I    1601 torch_xla/csrc/tensor.cpp:1099] Waiting on device barrier for device TPU:0 ...\n",
            "2020-08-05 23:28:32.161909: I    1601 torch_xla/csrc/tensor.cpp:1105] Waiting on device barrier for device TPU:0 done!\n",
            "2020-08-05 23:28:32.161939: I    1601 torch_xla/csrc/tensor.cpp:1144] Tensors graph hash 92ee0b6731da74167dbbecd68e5f097b on device TPU:0\n",
            "2020-08-05 23:28:32.162637: I    1601 torch_xla/csrc/tensor.cpp:1553] Parameter sequence graph hash 12735b265d076d1d02905ccc010cb685\n",
            "2020-08-05 23:28:32.162705: I    1601 torch_xla/csrc/tensor.cpp:1157] Graph hash 12735b265d076d1d02905ccc010cb685 is computation hash 98039ba7b72767e42dd81dd3b9912a7f\n",
            "2020-08-05 23:28:32.162715: I    1601 torch_xla/csrc/tensor.cpp:1176] TensorsGraphSize=6\n",
            "2020-08-05 23:28:32.162785: I    1633 torch_xla/csrc/tensor.cpp:1272] Executing IR graph hash 12735b265d076d1d02905ccc010cb685 on device TPU:0 ...\n",
            "2020-08-05 23:28:32.167256: I    1633 torch_xla/csrc/tensor.cpp:1277] Executing IR graph hash 12735b265d076d1d02905ccc010cb685 on device TPU:0 done!\n",
            "2020-08-05 23:28:32.169438: I    1601 torch_xla/csrc/tensor.cpp:1099] Waiting on device barrier for device TPU:0 ...\n",
            "2020-08-05 23:28:32.169489: I    1601 torch_xla/csrc/tensor.cpp:1105] Waiting on device barrier for device TPU:0 done!\n",
            "2020-08-05 23:28:32.169508: I    1601 torch_xla/csrc/tensor.cpp:1144] Tensors graph hash e2cc4e2f7e25d22ab252ba0959dda7bc on device TPU:0\n",
            "2020-08-05 23:28:32.170781: I    1601 torch_xla/csrc/tensor.cpp:1553] Parameter sequence graph hash 65848e37c86dd174133d82d35ab13da0\n",
            "2020-08-05 23:28:32.170864: I    1601 torch_xla/csrc/tensor.cpp:1157] Graph hash 65848e37c86dd174133d82d35ab13da0 is computation hash e057c8bb2dd64f075c38d2e4770ca7d\n",
            "2020-08-05 23:28:32.170903: I    1601 torch_xla/csrc/tensor.cpp:1176] TensorsGraphSize=7\n",
            "2020-08-05 23:28:32.170955: I    1633 torch_xla/csrc/tensor.cpp:1272] Executing IR graph hash 65848e37c86dd174133d82d35ab13da0 on device TPU:0 ...\n",
            "2020-08-05 23:28:32.174791: I    1633 torch_xla/csrc/tensor.cpp:1277] Executing IR graph hash 65848e37c86dd174133d82d35ab13da0 on device TPU:0 done!\n",
            "--- ---------------------------------\n",
            "2020-08-05 23:28:36.512599: I    1601 torch_xla/csrc/tensor.cpp:1099] Waiting on device barrier for device TPU:0 ...\n",
            "2020-08-05 23:28:36.512687: I    1601 torch_xla/csrc/tensor.cpp:1105] Waiting on device barrier for device TPU:0 done!\n",
            "2020-08-05 23:28:36.512789: I    1601 torch_xla/csrc/tensor.cpp:1144] Tensors graph hash ead09f49d3f2b8988eb6afa28530acab on device TPU:0\n",
            "2020-08-05 23:28:36.528310: I    1601 torch_xla/csrc/tensor.cpp:1553] Parameter sequence graph hash 65ea72ab4886f228ccadbc69c4405861\n",
            "2020-08-05 23:28:36.528466: I    1601 torch_xla/csrc/tensor.cpp:1157] Graph hash 65ea72ab4886f228ccadbc69c4405861 is computation hash 77560bcba9b4e8c28f12e69c6674fe56\n",
            "2020-08-05 23:28:36.528479: I    1601 torch_xla/csrc/tensor.cpp:1176] TensorsGraphSize=111\n",
            "2020-08-05 23:28:36.528586: I    1633 torch_xla/csrc/tensor.cpp:1272] Executing IR graph hash 65ea72ab4886f228ccadbc69c4405861 on device TPU:0 ...\n",
            "2020-08-05 23:28:36.532977: I    1633 torch_xla/csrc/tensor.cpp:1277] Executing IR graph hash 65ea72ab4886f228ccadbc69c4405861 on device TPU:0 done!\n",
            "2020-08-05 23:28:39.568460: I    1601 torch_xla/csrc/tensor.cpp:1099] Waiting on device barrier for device TPU:0 ...\n",
            "2020-08-05 23:28:39.568587: I    1601 torch_xla/csrc/tensor.cpp:1105] Waiting on device barrier for device TPU:0 done!\n",
            "2020-08-05 23:28:39.568615: I    1601 torch_xla/csrc/tensor.cpp:1144] Tensors graph hash 92ee0b6731da74167dbbecd68e5f097b on device TPU:0\n",
            "2020-08-05 23:28:39.569340: I    1601 torch_xla/csrc/tensor.cpp:1553] Parameter sequence graph hash 12735b265d076d1d02905ccc010cb685\n",
            "2020-08-05 23:28:39.569405: I    1601 torch_xla/csrc/tensor.cpp:1157] Graph hash 12735b265d076d1d02905ccc010cb685 is computation hash 98039ba7b72767e42dd81dd3b9912a7f\n",
            "2020-08-05 23:28:39.569416: I    1601 torch_xla/csrc/tensor.cpp:1176] TensorsGraphSize=6\n",
            "2020-08-05 23:28:39.569489: I    1632 torch_xla/csrc/tensor.cpp:1272] Executing IR graph hash 12735b265d076d1d02905ccc010cb685 on device TPU:0 ...\n",
            "2020-08-05 23:28:39.575309: I    1632 torch_xla/csrc/tensor.cpp:1277] Executing IR graph hash 12735b265d076d1d02905ccc010cb685 on device TPU:0 done!\n",
            "2020-08-05 23:28:39.578391: I    1601 torch_xla/csrc/tensor.cpp:1099] Waiting on device barrier for device TPU:0 ...\n",
            "2020-08-05 23:28:39.578486: I    1601 torch_xla/csrc/tensor.cpp:1105] Waiting on device barrier for device TPU:0 done!\n",
            "2020-08-05 23:28:39.578510: I    1601 torch_xla/csrc/tensor.cpp:1144] Tensors graph hash e2cc4e2f7e25d22ab252ba0959dda7bc on device TPU:0\n",
            "2020-08-05 23:28:39.579930: I    1601 torch_xla/csrc/tensor.cpp:1553] Parameter sequence graph hash 65848e37c86dd174133d82d35ab13da0\n",
            "2020-08-05 23:28:39.580009: I    1601 torch_xla/csrc/tensor.cpp:1157] Graph hash 65848e37c86dd174133d82d35ab13da0 is computation hash e057c8bb2dd64f075c38d2e4770ca7d\n",
            "2020-08-05 23:28:39.580020: I    1601 torch_xla/csrc/tensor.cpp:1176] TensorsGraphSize=7\n",
            "2020-08-05 23:28:39.580086: I    1632 torch_xla/csrc/tensor.cpp:1272] Executing IR graph hash 65848e37c86dd174133d82d35ab13da0 on device TPU:0 ...\n",
            "2020-08-05 23:28:39.585600: I    1632 torch_xla/csrc/tensor.cpp:1277] Executing IR graph hash 65848e37c86dd174133d82d35ab13da0 on device TPU:0 done!\n",
            "--- ---------------------------------\n",
            "2020-08-05 23:28:43.908221: I    1601 torch_xla/csrc/tensor.cpp:1099] Waiting on device barrier for device TPU:0 ...\n",
            "2020-08-05 23:28:43.908314: I    1601 torch_xla/csrc/tensor.cpp:1105] Waiting on device barrier for device TPU:0 done!\n",
            "2020-08-05 23:28:43.908417: I    1601 torch_xla/csrc/tensor.cpp:1144] Tensors graph hash ead09f49d3f2b8988eb6afa28530acab on device TPU:0\n",
            "2020-08-05 23:28:43.926196: I    1601 torch_xla/csrc/tensor.cpp:1553] Parameter sequence graph hash 65ea72ab4886f228ccadbc69c4405861\n",
            "2020-08-05 23:28:43.926431: I    1601 torch_xla/csrc/tensor.cpp:1157] Graph hash 65ea72ab4886f228ccadbc69c4405861 is computation hash 77560bcba9b4e8c28f12e69c6674fe56\n",
            "2020-08-05 23:28:43.926463: I    1601 torch_xla/csrc/tensor.cpp:1176] TensorsGraphSize=111\n",
            "2020-08-05 23:28:43.926520: I    1632 torch_xla/csrc/tensor.cpp:1272] Executing IR graph hash 65ea72ab4886f228ccadbc69c4405861 on device TPU:0 ...\n",
            "2020-08-05 23:28:43.931022: I    1632 torch_xla/csrc/tensor.cpp:1277] Executing IR graph hash 65ea72ab4886f228ccadbc69c4405861 on device TPU:0 done!\n",
            "2020-08-05 23:28:46.971210: I    1601 torch_xla/csrc/tensor.cpp:1099] Waiting on device barrier for device TPU:0 ...\n",
            "2020-08-05 23:28:46.971297: I    1601 torch_xla/csrc/tensor.cpp:1105] Waiting on device barrier for device TPU:0 done!\n",
            "2020-08-05 23:28:46.971323: I    1601 torch_xla/csrc/tensor.cpp:1144] Tensors graph hash 92ee0b6731da74167dbbecd68e5f097b on device TPU:0\n",
            "2020-08-05 23:28:46.972062: I    1601 torch_xla/csrc/tensor.cpp:1553] Parameter sequence graph hash 12735b265d076d1d02905ccc010cb685\n",
            "2020-08-05 23:28:46.972131: I    1601 torch_xla/csrc/tensor.cpp:1157] Graph hash 12735b265d076d1d02905ccc010cb685 is computation hash 98039ba7b72767e42dd81dd3b9912a7f\n",
            "2020-08-05 23:28:46.972142: I    1601 torch_xla/csrc/tensor.cpp:1176] TensorsGraphSize=6\n",
            "2020-08-05 23:28:46.972199: I    1633 torch_xla/csrc/tensor.cpp:1272] Executing IR graph hash 12735b265d076d1d02905ccc010cb685 on device TPU:0 ...\n",
            "2020-08-05 23:28:46.976531: I    1633 torch_xla/csrc/tensor.cpp:1277] Executing IR graph hash 12735b265d076d1d02905ccc010cb685 on device TPU:0 done!\n",
            "2020-08-05 23:28:46.978977: I    1601 torch_xla/csrc/tensor.cpp:1099] Waiting on device barrier for device TPU:0 ...\n",
            "2020-08-05 23:28:46.979050: I    1601 torch_xla/csrc/tensor.cpp:1105] Waiting on device barrier for device TPU:0 done!\n",
            "2020-08-05 23:28:46.979072: I    1601 torch_xla/csrc/tensor.cpp:1144] Tensors graph hash e2cc4e2f7e25d22ab252ba0959dda7bc on device TPU:0\n",
            "2020-08-05 23:28:46.980418: I    1601 torch_xla/csrc/tensor.cpp:1553] Parameter sequence graph hash 65848e37c86dd174133d82d35ab13da0\n",
            "2020-08-05 23:28:46.980484: I    1601 torch_xla/csrc/tensor.cpp:1157] Graph hash 65848e37c86dd174133d82d35ab13da0 is computation hash e057c8bb2dd64f075c38d2e4770ca7d\n",
            "2020-08-05 23:28:46.980500: I    1601 torch_xla/csrc/tensor.cpp:1176] TensorsGraphSize=7\n",
            "2020-08-05 23:28:46.980560: I    1633 torch_xla/csrc/tensor.cpp:1272] Executing IR graph hash 65848e37c86dd174133d82d35ab13da0 on device TPU:0 ...\n",
            "2020-08-05 23:28:46.984915: I    1633 torch_xla/csrc/tensor.cpp:1277] Executing IR graph hash 65848e37c86dd174133d82d35ab13da0 on device TPU:0 done!\n",
            "--- ---------------------------------\n",
            "2020-08-05 23:28:51.314334: I    1601 torch_xla/csrc/tensor.cpp:1099] Waiting on device barrier for device TPU:0 ...\n",
            "2020-08-05 23:28:51.314432: I    1601 torch_xla/csrc/tensor.cpp:1105] Waiting on device barrier for device TPU:0 done!\n",
            "2020-08-05 23:28:51.314544: I    1601 torch_xla/csrc/tensor.cpp:1144] Tensors graph hash ead09f49d3f2b8988eb6afa28530acab on device TPU:0\n",
            "2020-08-05 23:28:51.330325: I    1601 torch_xla/csrc/tensor.cpp:1553] Parameter sequence graph hash 65ea72ab4886f228ccadbc69c4405861\n",
            "2020-08-05 23:28:51.330502: I    1601 torch_xla/csrc/tensor.cpp:1157] Graph hash 65ea72ab4886f228ccadbc69c4405861 is computation hash 77560bcba9b4e8c28f12e69c6674fe56\n",
            "2020-08-05 23:28:51.330518: I    1601 torch_xla/csrc/tensor.cpp:1176] TensorsGraphSize=111\n",
            "2020-08-05 23:28:51.330599: I    1633 torch_xla/csrc/tensor.cpp:1272] Executing IR graph hash 65ea72ab4886f228ccadbc69c4405861 on device TPU:0 ...\n",
            "2020-08-05 23:28:51.334946: I    1633 torch_xla/csrc/tensor.cpp:1277] Executing IR graph hash 65ea72ab4886f228ccadbc69c4405861 on device TPU:0 done!\n",
            "2020-08-05 23:28:54.423495: I    1601 torch_xla/csrc/tensor.cpp:1099] Waiting on device barrier for device TPU:0 ...\n",
            "2020-08-05 23:28:54.423601: I    1601 torch_xla/csrc/tensor.cpp:1105] Waiting on device barrier for device TPU:0 done!\n",
            "2020-08-05 23:28:54.423632: I    1601 torch_xla/csrc/tensor.cpp:1144] Tensors graph hash 92ee0b6731da74167dbbecd68e5f097b on device TPU:0\n",
            "2020-08-05 23:28:54.424357: I    1601 torch_xla/csrc/tensor.cpp:1553] Parameter sequence graph hash 12735b265d076d1d02905ccc010cb685\n",
            "2020-08-05 23:28:54.424425: I    1601 torch_xla/csrc/tensor.cpp:1157] Graph hash 12735b265d076d1d02905ccc010cb685 is computation hash 98039ba7b72767e42dd81dd3b9912a7f\n",
            "2020-08-05 23:28:54.424436: I    1601 torch_xla/csrc/tensor.cpp:1176] TensorsGraphSize=6\n",
            "2020-08-05 23:28:54.424571: I    1632 torch_xla/csrc/tensor.cpp:1272] Executing IR graph hash 12735b265d076d1d02905ccc010cb685 on device TPU:0 ...\n",
            "2020-08-05 23:28:54.430358: I    1632 torch_xla/csrc/tensor.cpp:1277] Executing IR graph hash 12735b265d076d1d02905ccc010cb685 on device TPU:0 done!\n",
            "2020-08-05 23:28:54.432329: I    1601 torch_xla/csrc/tensor.cpp:1099] Waiting on device barrier for device TPU:0 ...\n",
            "2020-08-05 23:28:54.432399: I    1601 torch_xla/csrc/tensor.cpp:1105] Waiting on device barrier for device TPU:0 done!\n",
            "2020-08-05 23:28:54.432420: I    1601 torch_xla/csrc/tensor.cpp:1144] Tensors graph hash e2cc4e2f7e25d22ab252ba0959dda7bc on device TPU:0\n",
            "2020-08-05 23:28:54.433758: I    1601 torch_xla/csrc/tensor.cpp:1553] Parameter sequence graph hash 65848e37c86dd174133d82d35ab13da0\n",
            "2020-08-05 23:28:54.433823: I    1601 torch_xla/csrc/tensor.cpp:1157] Graph hash 65848e37c86dd174133d82d35ab13da0 is computation hash e057c8bb2dd64f075c38d2e4770ca7d\n",
            "2020-08-05 23:28:54.433834: I    1601 torch_xla/csrc/tensor.cpp:1176] TensorsGraphSize=7\n",
            "2020-08-05 23:28:54.433921: I    1632 torch_xla/csrc/tensor.cpp:1272] Executing IR graph hash 65848e37c86dd174133d82d35ab13da0 on device TPU:0 ...\n",
            "2020-08-05 23:28:54.438023: I    1632 torch_xla/csrc/tensor.cpp:1277] Executing IR graph hash 65848e37c86dd174133d82d35ab13da0 on device TPU:0 done!\n",
            "--- \n",
            "Function grid_sample called 10 times.\n",
            "Execution time max: 4.802, average: 4.416\n",
            "Function mtest called 10 times.\n",
            "Execution time max: 8.445, average: 7.554\n",
            "Metric: CompileTime\n",
            "  TotalSamples: 3\n",
            "  Accumulator: 080ms889.153us\n",
            "  ValueRate: 023ms640.443us / second\n",
            "  Rate: 0.850195 / second\n",
            "  Percentiles: 1%=001ms470.051us; 5%=001ms470.051us; 10%=001ms470.051us; 20%=001ms470.051us; 50%=002ms043.367us; 80%=076ms375.735us; 90%=076ms375.735us; 95%=076ms375.735us; 99%=076ms375.735us\n",
            "Metric: DeviceLockWait\n",
            "  TotalSamples: 30\n",
            "  Accumulator: 110.018us\n",
            "  ValueRate: 001.544us / second\n",
            "  Rate: 0.421065 / second\n",
            "  Percentiles: 1%=002.641us; 5%=002.804us; 10%=002.995us; 20%=003.345us; 50%=003.696us; 80%=004.034us; 90%=004.313us; 95%=004.444us; 99%=004.720us\n",
            "Metric: ExecuteTime\n",
            "  TotalSamples: 30\n",
            "  Accumulator: 144ms860.135us\n",
            "  ValueRate: 002ms022.060us / second\n",
            "  Rate: 0.421672 / second\n",
            "  Percentiles: 1%=004ms684.420us; 5%=004ms804.685us; 10%=004ms990.352us; 20%=004ms059.415us; 50%=004ms321.206us; 80%=005ms188.785us; 90%=006ms731.962us; 95%=006ms751.937us; 99%=014ms290.021us\n",
            "Metric: InboundData\n",
            "  TotalSamples: 30\n",
            "  Accumulator: 5.72GB\n",
            "  ValueRate: 79.86MB / second\n",
            "  Rate: 0.408884 / second\n",
            "  Percentiles: 1%=4.00B; 5%=4.00B; 10%=4.00B; 20%=4.00B; 50%=18.00KB; 80%=585.94MB; 90%=585.94MB; 95%=585.94MB; 99%=585.94MB\n",
            "Metric: InputOutputAliasCount\n",
            "  TotalSamples: 3\n",
            "  Accumulator: 4.00\n",
            "  ValueRate: 1.11 / second\n",
            "  Rate: 0.832494 / second\n",
            "  Percentiles: 1%=1.00; 5%=1.00; 10%=1.00; 20%=1.00; 50%=1.00; 80%=2.00; 90%=2.00; 95%=2.00; 99%=2.00\n",
            "Metric: IrValueTensorToXlaData\n",
            "  TotalSamples: 11\n",
            "  Accumulator: 27s286ms468.813us\n",
            "  ValueRate: 383ms974.932us / second\n",
            "  Rate: 0.154389 / second\n",
            "  Percentiles: 1%=013ms411.829us; 5%=013ms411.829us; 10%=03s692ms562.238us; 20%=03s698ms484.003us; 50%=03s704ms931.993us; 80%=03s722ms232.143us; 90%=03s747ms499.384us; 95%=03s892ms985.589us; 99%=03s892ms985.589us\n",
            "Metric: OutboundData\n",
            "  TotalSamples: 12\n",
            "  Accumulator: 2.29GB\n",
            "  ValueRate: 34.14MB / second\n",
            "  Rate: 0.174753 / second\n",
            "  Percentiles: 1%=4.00B; 5%=4.00B; 10%=468.75KB; 20%=234.38MB; 50%=234.38MB; 80%=234.38MB; 90%=234.38MB; 95%=234.38MB; 99%=234.38MB\n",
            "Metric: ReleaseDataHandlesTime\n",
            "  TotalSamples: 40\n",
            "  Accumulator: 055ms085.723us\n",
            "  ValueRate: 729.912us / second\n",
            "  Rate: 0.530019 / second\n",
            "  Percentiles: 1%=825.846us; 5%=871.087us; 10%=919.319us; 20%=001ms003.855us; 50%=001ms245.934us; 80%=001ms487.124us; 90%=002ms690.842us; 95%=002ms792.958us; 99%=006ms439.178us\n",
            "Metric: TensorsGraphSize\n",
            "  TotalSamples: 30\n",
            "  Accumulator: 1240.00\n",
            "  ValueRate: 17.43 / second\n",
            "  Rate: 0.421611 / second\n",
            "  Percentiles: 1%=6.00; 5%=6.00; 10%=6.00; 20%=6.00; 50%=7.00; 80%=111.00; 90%=111.00; 95%=111.00; 99%=111.00\n",
            "Metric: TransferFromServerTime\n",
            "  TotalSamples: 30\n",
            "  Accumulator: 23s267ms565.925us\n",
            "  ValueRate: 317ms111.014us / second\n",
            "  Rate: 0.408884 / second\n",
            "  Percentiles: 1%=002ms539.662us; 5%=002ms715.088us; 10%=002ms791.804us; 20%=002ms911.716us; 50%=002ms426.336us; 80%=02s233ms482.537us; 90%=02s442ms820.499us; 95%=02s451ms288.960us; 99%=03s693ms161.356us\n",
            "Metric: TransferToServerTime\n",
            "  TotalSamples: 12\n",
            "  Accumulator: 27s291ms199.087us\n",
            "  ValueRate: 383ms041.303us / second\n",
            "  Rate: 0.168424 / second\n",
            "  Percentiles: 1%=005ms136.093us; 5%=005ms136.093us; 10%=013ms387.148us; 20%=03s692ms525.937us; 50%=03s704ms887.505us; 80%=03s722ms195.956us; 90%=03s747ms462.496us; 95%=03s892ms950.715us; 99%=03s892ms950.715us\n",
            "Metric: TransferToServerTransformTime\n",
            "  TotalSamples: 12\n",
            "  Accumulator: 02s591ms620.463us\n",
            "  ValueRate: 023ms163.768us / second\n",
            "  Rate: 0.174753 / second\n",
            "  Percentiles: 1%=266.763us; 5%=266.763us; 10%=002ms657.648us; 20%=153ms342.954us; 50%=155ms207.085us; 80%=157ms369.900us; 90%=169ms719.726us; 95%=179ms124.522us; 99%=179ms124.522us\n",
            "Counter: CachedCompile\n",
            "  Value: 27\n",
            "Counter: CreateCompileHandles\n",
            "  Value: 3\n",
            "Counter: CreateDataHandles\n",
            "  Value: 52\n",
            "Counter: CreateXlaTensor\n",
            "  Value: 573\n",
            "Counter: DestroyDataHandles\n",
            "  Value: 50\n",
            "Counter: DestroyXlaTensor\n",
            "  Value: 568\n",
            "Counter: DeviceDataCacheMiss\n",
            "  Value: 1\n",
            "Counter: ReleaseDataHandles\n",
            "  Value: 50\n",
            "Counter: UncachedCompile\n",
            "  Value: 3\n",
            "Counter: XRTAllocateFromTensor_Empty\n",
            "  Value: 3\n",
            "Counter: XrtCompile_Empty\n",
            "  Value: 128\n",
            "Counter: XrtExecuteChained_Empty\n",
            "  Value: 128\n",
            "Counter: XrtExecute_Empty\n",
            "  Value: 128\n",
            "Counter: XrtMemoryInfo_Empty\n",
            "  Value: 128\n",
            "Counter: XrtRead_Empty\n",
            "  Value: 128\n",
            "Counter: XrtReleaseAllocationHandle_Empty\n",
            "  Value: 128\n",
            "Counter: XrtReleaseCompileHandle_Empty\n",
            "  Value: 128\n",
            "Counter: XrtSessionCount\n",
            "  Value: 2\n",
            "Counter: XrtSubTuple_Empty\n",
            "  Value: 128\n",
            "Counter: aten::_local_scalar_dense\n",
            "  Value: 10\n",
            "Counter: aten::affine_grid_generator\n",
            "  Value: 10\n",
            "Counter: aten::grid_sampler_2d\n",
            "  Value: 10\n",
            "Counter: xla::_unsafe_view\n",
            "  Value: 10\n",
            "Counter: xla::alias\n",
            "  Value: 51\n",
            "Counter: xla::as_strided\n",
            "  Value: 1\n",
            "Counter: xla::bmm\n",
            "  Value: 10\n",
            "Counter: xla::copy_\n",
            "  Value: 21\n",
            "Counter: xla::empty\n",
            "  Value: 111\n",
            "Counter: xla::empty_strided\n",
            "  Value: 1\n",
            "Counter: xla::expand\n",
            "  Value: 31\n",
            "Counter: xla::eye_out\n",
            "  Value: 10\n",
            "Counter: xla::fill_\n",
            "  Value: 40\n",
            "Counter: xla::max\n",
            "  Value: 10\n",
            "Counter: xla::min\n",
            "  Value: 10\n",
            "Counter: xla::mul\n",
            "  Value: 10\n",
            "Counter: xla::mul_\n",
            "  Value: 20\n",
            "Counter: xla::select\n",
            "  Value: 80\n",
            "Counter: xla::slice\n",
            "  Value: 60\n",
            "Counter: xla::stack\n",
            "  Value: 40\n",
            "Counter: xla::sub\n",
            "  Value: 20\n",
            "Counter: xla::unsqueeze\n",
            "  Value: 10\n",
            "Counter: xla::view\n",
            "  Value: 50\n",
            "Counter: xla::zero_\n",
            "  Value: 60\n",
            "Metric: XrtAllocateFromTensor\n",
            "  TotalSamples: 36\n",
            "  Accumulator: 03s419ms971.443us\n",
            "  Mean: 095ms971.429us\n",
            "  StdDev: 042ms160.168us\n",
            "  Rate: 0.049571 / second\n",
            "  Percentiles: 25%=110ms979.928us; 50%=113ms166.738us; 80%=116ms995.639us; 90%=118ms643.486us; 95%=118ms130.618us; 99%=119ms113.011us\n",
            "Metric: XrtCompile\n",
            "  TotalSamples: 9\n",
            "  Accumulator: 377ms574.564us\n",
            "  Mean: 042ms841.618us\n",
            "  StdDev: 059ms855.336us\n",
            "  Rate: 0.0136695 / second\n",
            "  Percentiles: 25%=219.010us; 50%=565.584us; 80%=128ms525.515us; 90%=132ms852.571us; 95%=132ms852.571us; 99%=132ms852.571us\n",
            "Metric: XrtExecute\n",
            "  TotalSamples: 90\n",
            "  Accumulator: 229ms506.668us\n",
            "  Mean: 003ms538.963us\n",
            "  StdDev: 384.194us\n",
            "  Rate: 0.123964 / second\n",
            "  Percentiles: 25%=002ms302.256us; 50%=003ms507.309us; 80%=003ms769.513us; 90%=003ms016.229us; 95%=003ms195.768us; 99%=004ms955.394us\n",
            "Metric: XrtExecutorEvict\n",
            "  TotalSamples: 0\n",
            "  Accumulator: nanB\n",
            "  Mean: nanB\n",
            "  StdDev: nanB\n",
            "  Percentiles: \n",
            "Metric: XrtReadLiteral\n",
            "  TotalSamples: 120\n",
            "  Accumulator: 32s147ms033.331us\n",
            "  Mean: 268ms891.944us\n",
            "  StdDev: 278ms723.734us\n",
            "  Rate: 0.16513 / second\n",
            "  Percentiles: 25%=673.516us; 50%=350ms822.352us; 80%=571ms803.489us; 90%=653ms954.284us; 95%=672ms576.158us; 99%=683ms618.969us\n",
            "Metric: XrtReleaseAllocation\n",
            "  TotalSamples: 122\n",
            "  Accumulator: 004ms386.473us\n",
            "  Mean: 035.955us\n",
            "  StdDev: 018.770us\n",
            "  Rate: 0.167046 / second\n",
            "  Percentiles: 25%=021.883us; 50%=027.383us; 80%=057.055us; 90%=063.239us; 95%=073.554us; 99%=086.529us\n",
            "\n",
            "2020-08-05 23:28:58.786506: I    1601 tensorflow/compiler/xla/xla_client/xrt_computation_client.cc:1539] Waiting XRT handle releaser thread ...\n",
            "2020-08-05 23:28:58.786643: I    1601 tensorflow/compiler/xla/xla_client/xrt_computation_client.cc:1542] Waiting XRT handle releaser thread ... done!\n"
          ],
          "name": "stdout"
        }
      ]
    },
    {
      "cell_type": "code",
      "metadata": {
        "id": "cb8y0ieyMAsz",
        "colab_type": "code",
        "colab": {}
      },
      "source": [
        "!cp /tmp/out_debug_run/debug_run.tar.gz /content/drive/My\\ Drive/"
      ],
      "execution_count": 18,
      "outputs": []
    },
    {
      "cell_type": "code",
      "metadata": {
        "id": "TSwraZ3WN9kg",
        "colab_type": "code",
        "colab": {}
      },
      "source": [
        ""
      ],
      "execution_count": null,
      "outputs": []
    }
  ]
}