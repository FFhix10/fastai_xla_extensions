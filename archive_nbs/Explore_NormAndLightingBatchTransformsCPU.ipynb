{
  "nbformat": 4,
  "nbformat_minor": 0,
  "metadata": {
    "colab": {
      "name": "Explore_NormAndLightingBatchTransformsCPU.ipynb",
      "provenance": [],
      "collapsed_sections": [],
      "toc_visible": true,
      "include_colab_link": true
    },
    "kernelspec": {
      "display_name": "Python 3",
      "language": "python",
      "name": "python3"
    },
    "language_info": {
      "codemirror_mode": {
        "name": "ipython",
        "version": 3
      },
      "file_extension": ".py",
      "mimetype": "text/x-python",
      "name": "python",
      "nbconvert_exporter": "python",
      "pygments_lexer": "ipython3",
      "version": "3.7.7"
    },
    "varInspector": {
      "cols": {
        "lenName": 16,
        "lenType": 16,
        "lenVar": 40
      },
      "kernels_config": {
        "python": {
          "delete_cmd_postfix": "",
          "delete_cmd_prefix": "del ",
          "library": "var_list.py",
          "varRefreshCmd": "print(var_dic_list())"
        },
        "r": {
          "delete_cmd_postfix": ") ",
          "delete_cmd_prefix": "rm(",
          "library": "var_list.r",
          "varRefreshCmd": "cat(var_dic_list()) "
        }
      },
      "types_to_exclude": [
        "module",
        "function",
        "builtin_function_or_method",
        "instance",
        "_Feature"
      ],
      "window_display": false
    }
  },
  "cells": [
    {
      "cell_type": "markdown",
      "metadata": {
        "id": "view-in-github",
        "colab_type": "text"
      },
      "source": [
        "<a href=\"https://colab.research.google.com/github/butchland/fastai_xla_extensions/blob/master/explore_nbs/Explore_NormAndLightingBatchTransformsCPU.ipynb\" target=\"_parent\"><img src=\"https://colab.research.google.com/assets/colab-badge.svg\" alt=\"Open In Colab\"/></a>"
      ]
    },
    {
      "cell_type": "code",
      "metadata": {
        "colab_type": "code",
        "id": "YM703MEF1orN",
        "colab": {
          "base_uri": "https://localhost:8080/",
          "height": 52
        },
        "outputId": "b215ae3d-0ae3-4523-b247-55229ddc53c1"
      },
      "source": [
        "# colab\n",
        "!curl -s https://course.fast.ai/setup/colab | bash"
      ],
      "execution_count": null,
      "outputs": [
        {
          "output_type": "stream",
          "text": [
            "Updating fastai...\n",
            "Done.\n"
          ],
          "name": "stdout"
        }
      ]
    },
    {
      "cell_type": "code",
      "metadata": {
        "colab_type": "code",
        "id": "UzDnzKRe2sp-",
        "colab": {}
      },
      "source": [
        "# colab\n",
        "# from google.colab import drive\n",
        "# drive.mount('/content/drive')"
      ],
      "execution_count": null,
      "outputs": []
    },
    {
      "cell_type": "code",
      "metadata": {
        "colab_type": "code",
        "id": "a9fDYfqv3Cj7",
        "colab": {}
      },
      "source": [
        "#colab\n",
        "# import os\n",
        "# assert os.environ['COLAB_TPU_ADDR'], 'Make sure to select TPU from Edit > Notebook settings > Hardware accelerator'"
      ],
      "execution_count": null,
      "outputs": []
    },
    {
      "cell_type": "code",
      "metadata": {
        "colab_type": "code",
        "id": "hATs2eDr3RTW",
        "colab": {}
      },
      "source": [
        "#colab\n",
        "# VERSION = \"20200325\"  #@param [\"1.5\" , \"20200325\", \"nightly\"]\n",
        "# !curl https://raw.githubusercontent.com/pytorch/xla/master/contrib/scripts/env-setup.py -o pytorch-xla-env-setup.py\n",
        "# !python pytorch-xla-env-setup.py --version $VERSION"
      ],
      "execution_count": null,
      "outputs": []
    },
    {
      "cell_type": "code",
      "metadata": {
        "colab_type": "code",
        "id": "HbNXNmzw3daU",
        "colab": {
          "base_uri": "https://localhost:8080/",
          "height": 34
        },
        "outputId": "8e030acf-5152-4194-a283-92967e0a157e"
      },
      "source": [
        "# colab\n",
        "!pip install fastai2 --upgrade > /dev/null\n",
        "!pip freeze | grep fastai2"
      ],
      "execution_count": null,
      "outputs": [
        {
          "output_type": "stream",
          "text": [
            "fastai2==0.0.18\n"
          ],
          "name": "stdout"
        }
      ]
    },
    {
      "cell_type": "code",
      "metadata": {
        "colab_type": "code",
        "id": "Gy-t6zpR3gu0",
        "colab": {
          "base_uri": "https://localhost:8080/",
          "height": 34
        },
        "outputId": "f087790b-7efb-4bbf-cc79-55d9190dbe87"
      },
      "source": [
        "#colab\n",
        "!pip install git+https://github.com/butchland/fastai_xla_extensions > /dev/null\n",
        "!pip freeze | grep fastai_xla_extensions"
      ],
      "execution_count": null,
      "outputs": [
        {
          "output_type": "stream",
          "text": [
            "  Running command git clone -q https://github.com/butchland/fastai_xla_extensions /tmp/pip-req-build-ha5vbe09\n"
          ],
          "name": "stdout"
        }
      ]
    },
    {
      "cell_type": "code",
      "metadata": {
        "id": "6XNQkm7JFy19",
        "colab_type": "code",
        "colab": {
          "base_uri": "https://localhost:8080/",
          "height": 34
        },
        "outputId": "78e26b13-6f26-4185-81ef-ea554f578580"
      },
      "source": [
        "#colab\n",
        "!pip install git+https://github.com/butchland/my_timesaver_utils > /dev/null\n",
        "!pip freeze | grep my_timesaver_utils"
      ],
      "execution_count": null,
      "outputs": [
        {
          "output_type": "stream",
          "text": [
            "  Running command git clone -q https://github.com/butchland/my_timesaver_utils /tmp/pip-req-build-e43uj05b\n"
          ],
          "name": "stdout"
        }
      ]
    },
    {
      "cell_type": "markdown",
      "metadata": {
        "colab_type": "text",
        "id": "kZzGjv7B5dJf"
      },
      "source": [
        "### Import Libraries"
      ]
    },
    {
      "cell_type": "code",
      "metadata": {
        "id": "gICdj40zFy2B",
        "colab_type": "code",
        "colab": {}
      },
      "source": [
        "%load_ext autoreload\n",
        "%autoreload 2"
      ],
      "execution_count": null,
      "outputs": []
    },
    {
      "cell_type": "code",
      "metadata": {
        "colab_type": "code",
        "id": "W-mNGiOC5yKi",
        "colab": {}
      },
      "source": [
        "from fastai_xla_extensions.core import *"
      ],
      "execution_count": null,
      "outputs": []
    },
    {
      "cell_type": "code",
      "metadata": {
        "colab_type": "code",
        "id": "_QpyaqUC5ibo",
        "colab": {}
      },
      "source": [
        "from fastai2.vision.all import *"
      ],
      "execution_count": null,
      "outputs": []
    },
    {
      "cell_type": "code",
      "metadata": {
        "id": "SW3ttsDiFy2J",
        "colab_type": "code",
        "colab": {}
      },
      "source": [
        "from my_timesaver_utils.profiling import *"
      ],
      "execution_count": null,
      "outputs": []
    },
    {
      "cell_type": "markdown",
      "metadata": {
        "colab_type": "text",
        "id": "4THQ3Hk056iJ"
      },
      "source": [
        "### Setup data"
      ]
    },
    {
      "cell_type": "code",
      "metadata": {
        "colab_type": "code",
        "id": "GMPe61C25_33",
        "colab": {
          "base_uri": "https://localhost:8080/",
          "height": 16
        },
        "outputId": "840a2bc3-68a0-44fc-8dea-43d364a9b275"
      },
      "source": [
        "path = untar_data(URLs.PETS)/'images'"
      ],
      "execution_count": null,
      "outputs": [
        {
          "output_type": "display_data",
          "data": {
            "text/html": [
              ""
            ],
            "text/plain": [
              "<IPython.core.display.HTML object>"
            ]
          },
          "metadata": {
            "tags": []
          }
        }
      ]
    },
    {
      "cell_type": "markdown",
      "metadata": {
        "id": "MWwLWywjFy2O",
        "colab_type": "text"
      },
      "source": [
        "### Loop through batch and walk through batch transforms"
      ]
    },
    {
      "cell_type": "code",
      "metadata": {
        "id": "p4pvMbVaFy2P",
        "colab_type": "code",
        "colab": {}
      },
      "source": [
        "# from IPython.core.debugger import set_trace"
      ],
      "execution_count": null,
      "outputs": []
    },
    {
      "cell_type": "code",
      "metadata": {
        "id": "8qRwYwodFy2R",
        "colab_type": "code",
        "colab": {}
      },
      "source": [
        "# TRACE = True"
      ],
      "execution_count": null,
      "outputs": []
    },
    {
      "cell_type": "code",
      "metadata": {
        "id": "0O8wbkVtFy2U",
        "colab_type": "code",
        "colab": {}
      },
      "source": [
        "orig_randtransform_call = RandTransform.__call__\n",
        "def __call__(self, b, split_idx=None, **kwargs):\n",
        "    is_lighting_tfm = isinstance(self, LightingTfm) \n",
        "    if is_lighting_tfm:\n",
        "#         print(f'applying AffineCoordTfm call {self}')\n",
        "#         if TRACE: set_trace()\n",
        "        start_record('lighting_tfm_call')\n",
        "    results = orig_randtransform_call(self, b, split_idx, **kwargs)\n",
        "    if is_lighting_tfm:\n",
        "        end_record('lighting_tfm_call')\n",
        "    return results"
      ],
      "execution_count": null,
      "outputs": []
    },
    {
      "cell_type": "code",
      "metadata": {
        "id": "AtPlkOysFy2X",
        "colab_type": "code",
        "colab": {}
      },
      "source": [
        "setattr(RandTransform,'__call__', __call__)"
      ],
      "execution_count": null,
      "outputs": []
    },
    {
      "cell_type": "code",
      "metadata": {
        "id": "HPZbE5B1gSQ0",
        "colab_type": "code",
        "colab": {}
      },
      "source": [
        "# orig_normalize_encodes = Normalize.encodes\n",
        "\n",
        "# def encodes(self, x:TensorImage):\n",
        "#     start_record('normalize_encodes')\n",
        "#     results = orig_normalize_encodes(self,x)\n",
        "#     end_record('normalize_encodes')\n",
        "#     return results"
      ],
      "execution_count": null,
      "outputs": []
    },
    {
      "cell_type": "code",
      "metadata": {
        "id": "dgxoNPCbgt33",
        "colab_type": "code",
        "colab": {}
      },
      "source": [
        "# setattr(Normalize,'encodes', encodes)"
      ],
      "execution_count": null,
      "outputs": []
    },
    {
      "cell_type": "code",
      "metadata": {
        "id": "jMvquAfXFy2Z",
        "colab_type": "code",
        "colab": {}
      },
      "source": [
        "# def mycompose_tfms(x, tfms, is_enc=True, reverse=False, **kwargs):\n",
        "#     \"Apply all `func_nm` attribute of `tfms` on `x`, maybe in `reverse` order\"\n",
        "#     if reverse: tfms = reversed(tfms)\n",
        "#     for f in tfms:\n",
        "#         if not is_enc: f = f.decode\n",
        "#         if isinstance(f,AffineCoordTfm): \n",
        "#             print(f'applying {type(f)} {f} to {type(x)}')\n",
        "#             if TRACE:\n",
        "#                 set_trace()\n",
        "#         x = f(x, **kwargs)\n",
        "#     return x\n"
      ],
      "execution_count": null,
      "outputs": []
    },
    {
      "cell_type": "code",
      "metadata": {
        "id": "tNkupUBDFy2c",
        "colab_type": "code",
        "colab": {}
      },
      "source": [
        "# @patch_to(Pipeline)\n",
        "# def __call__(self, o): return mycompose_tfms(o, tfms=self.fs, split_idx=self.split_idx)"
      ],
      "execution_count": null,
      "outputs": []
    },
    {
      "cell_type": "code",
      "metadata": {
        "id": "czKSn6FvFy2e",
        "colab_type": "code",
        "colab": {}
      },
      "source": [
        "# TRACE = False"
      ],
      "execution_count": null,
      "outputs": []
    },
    {
      "cell_type": "code",
      "metadata": {
        "id": "kekOoetVFy2h",
        "colab_type": "code",
        "colab": {
          "base_uri": "https://localhost:8080/",
          "height": 34
        },
        "outputId": "7145204b-46b6-4e72-ff4e-c3e82609a43d"
      },
      "source": [
        "batch_tfms = [*aug_transforms(max_zoom=1.0, max_warp=0., max_rotate=0., max_lighting=0.2,do_flip=False)]\n",
        "batch_tfms"
      ],
      "execution_count": null,
      "outputs": [
        {
          "output_type": "execute_result",
          "data": {
            "text/plain": [
              "[LightingTfm: (TensorImage,object) -> encodes ]"
            ]
          },
          "metadata": {
            "tags": []
          },
          "execution_count": 22
        }
      ]
    },
    {
      "cell_type": "code",
      "metadata": {
        "id": "Sg6l66QlFy2k",
        "colab_type": "code",
        "colab": {
          "base_uri": "https://localhost:8080/",
          "height": 34
        },
        "outputId": "9857a747-f2cb-42bc-d2fd-7e0ff8b81ae3"
      },
      "source": [
        "batch_tfms[0].fs"
      ],
      "execution_count": null,
      "outputs": [
        {
          "output_type": "execute_result",
          "data": {
            "text/plain": [
              "(#2) [<fastai2.vision.augment._BrightnessLogit object at 0x7f42731cd748>,<fastai2.vision.augment._ContrastLogit object at 0x7f42731cd7b8>]"
            ]
          },
          "metadata": {
            "tags": []
          },
          "execution_count": 23
        }
      ]
    },
    {
      "cell_type": "markdown",
      "metadata": {
        "id": "OASDtAUuepHF",
        "colab_type": "text"
      },
      "source": [
        ""
      ]
    },
    {
      "cell_type": "code",
      "metadata": {
        "id": "gzE8FPUnbBDM",
        "colab_type": "code",
        "colab": {}
      },
      "source": [
        "pat = r'(.+)_\\d+.jpg$'"
      ],
      "execution_count": null,
      "outputs": []
    },
    {
      "cell_type": "markdown",
      "metadata": {
        "id": "ED2B48gibBDP",
        "colab_type": "text"
      },
      "source": [
        "Create Fastai DataBlock\n",
        "\n",
        "\n",
        "_Note that batch transforms are currently\n",
        "set to none as they seem to slow the training\n",
        "on the TPU (for investigation)._"
      ]
    },
    {
      "cell_type": "code",
      "metadata": {
        "id": "6iY70GyibBDP",
        "colab_type": "code",
        "colab": {}
      },
      "source": [
        "datablock = DataBlock(\n",
        "    blocks=(ImageBlock,CategoryBlock),\n",
        "    get_items=get_image_files,\n",
        "    splitter=RandomSplitter(seed=42),\n",
        "    get_y=using_attr(RegexLabeller(pat),'name'),\n",
        "    item_tfms=Resize(224),\n",
        "    batch_tfms=batch_tfms\n",
        "   \n",
        ")"
      ],
      "execution_count": null,
      "outputs": []
    },
    {
      "cell_type": "code",
      "metadata": {
        "id": "ZyyD8e_uFy2t",
        "colab_type": "code",
        "colab": {}
      },
      "source": [
        "print_prof_data()"
      ],
      "execution_count": null,
      "outputs": []
    },
    {
      "cell_type": "code",
      "metadata": {
        "colab_type": "code",
        "id": "W6wBIWOB6WGA",
        "colab": {
          "base_uri": "https://localhost:8080/",
          "height": 941
        },
        "outputId": "04cd9ab3-3e9d-4bde-f9bf-3c4140568c9d"
      },
      "source": [
        "datablock.summary(path)"
      ],
      "execution_count": null,
      "outputs": [
        {
          "output_type": "stream",
          "text": [
            "Setting-up type transforms pipelines\n",
            "Collecting items from /root/.fastai/data/oxford-iiit-pet/images\n",
            "Found 7390 items\n",
            "2 datasets of sizes 5912,1478\n",
            "Setting up Pipeline: PILBase.create\n",
            "Setting up Pipeline: partial -> Categorize\n",
            "\n",
            "Building one sample\n",
            "  Pipeline: PILBase.create\n",
            "    starting from\n",
            "      /root/.fastai/data/oxford-iiit-pet/images/saint_bernard_36.jpg\n",
            "    applying PILBase.create gives\n",
            "      PILImage mode=RGB size=500x333\n",
            "  Pipeline: partial -> Categorize\n",
            "    starting from\n",
            "      /root/.fastai/data/oxford-iiit-pet/images/saint_bernard_36.jpg\n",
            "    applying partial gives\n",
            "      saint_bernard\n",
            "    applying Categorize gives\n",
            "      TensorCategory(30)\n",
            "\n",
            "Final sample: (PILImage mode=RGB size=500x333, TensorCategory(30))\n",
            "\n",
            "\n",
            "Setting up after_item: Pipeline: Resize -> ToTensor\n",
            "Setting up before_batch: Pipeline: \n",
            "Setting up after_batch: Pipeline: IntToFloatTensor -> LightingTfm\n",
            "\n",
            "Building one batch\n",
            "Applying item_tfms to the first sample:\n",
            "  Pipeline: Resize -> ToTensor\n",
            "    starting from\n",
            "      (PILImage mode=RGB size=500x333, TensorCategory(30))\n",
            "    applying Resize gives\n",
            "      (PILImage mode=RGB size=224x224, TensorCategory(30))\n",
            "    applying ToTensor gives\n",
            "      (TensorImage of size 3x224x224, TensorCategory(30))\n",
            "\n",
            "Adding the next 3 samples\n",
            "\n",
            "No before_batch transform to apply\n",
            "\n",
            "Collating items in a batch\n",
            "\n",
            "Applying batch_tfms to the batch built\n",
            "  Pipeline: IntToFloatTensor -> LightingTfm\n",
            "    starting from\n",
            "      (TensorImage of size 4x3x224x224, TensorCategory([30, 21, 35, 14]))\n",
            "    applying IntToFloatTensor gives\n",
            "      (TensorImage of size 4x3x224x224, TensorCategory([30, 21, 35, 14]))\n",
            "    applying LightingTfm gives\n",
            "      (TensorImage of size 4x3x224x224, TensorCategory([30, 21, 35, 14]))\n"
          ],
          "name": "stdout"
        }
      ]
    },
    {
      "cell_type": "code",
      "metadata": {
        "id": "nsuFC7FtFy2x",
        "colab_type": "code",
        "colab": {
          "base_uri": "https://localhost:8080/",
          "height": 52
        },
        "outputId": "5d95830e-76c2-452c-be38-f5b0f6d913ff"
      },
      "source": [
        "print_prof_data()"
      ],
      "execution_count": null,
      "outputs": [
        {
          "output_type": "stream",
          "text": [
            "Function lighting_tfm_call called 2 times.\n",
            "Execution time max: 0.072, average: 0.037\n"
          ],
          "name": "stdout"
        }
      ]
    },
    {
      "cell_type": "markdown",
      "metadata": {
        "colab_type": "text",
        "id": "34YlwcCt7kcK"
      },
      "source": [
        "### Setup DataLoaders"
      ]
    },
    {
      "cell_type": "code",
      "metadata": {
        "id": "TA69ozq2LE3A",
        "colab_type": "code",
        "colab": {}
      },
      "source": [
        "bs=256"
      ],
      "execution_count": null,
      "outputs": []
    },
    {
      "cell_type": "code",
      "metadata": {
        "colab_type": "code",
        "id": "TyuC8el56a73",
        "colab": {}
      },
      "source": [
        "dls = datablock.dataloaders(path,bs=bs)"
      ],
      "execution_count": null,
      "outputs": []
    },
    {
      "cell_type": "code",
      "metadata": {
        "id": "9DSZXnWSOqIJ",
        "colab_type": "code",
        "colab": {
          "base_uri": "https://localhost:8080/",
          "height": 34
        },
        "outputId": "ce8bd667-83be-489b-9900-b3267beaa4ed"
      },
      "source": [
        "dls.device"
      ],
      "execution_count": null,
      "outputs": [
        {
          "output_type": "execute_result",
          "data": {
            "text/plain": [
              "device(type='cpu')"
            ]
          },
          "metadata": {
            "tags": []
          },
          "execution_count": 31
        }
      ]
    },
    {
      "cell_type": "code",
      "metadata": {
        "id": "8NgBg-29Fy22",
        "colab_type": "code",
        "colab": {
          "base_uri": "https://localhost:8080/",
          "height": 34
        },
        "outputId": "f214d7d9-b486-4fc7-9174-ea5b8acae3d6"
      },
      "source": [
        "dls.train"
      ],
      "execution_count": null,
      "outputs": [
        {
          "output_type": "execute_result",
          "data": {
            "text/plain": [
              "<fastai2.data.core.TfmdDL at 0x7f4272ae06a0>"
            ]
          },
          "metadata": {
            "tags": []
          },
          "execution_count": 32
        }
      ]
    },
    {
      "cell_type": "code",
      "metadata": {
        "id": "D9MJTtWlFy25",
        "colab_type": "code",
        "colab": {}
      },
      "source": [
        "train_dl = dls.train"
      ],
      "execution_count": null,
      "outputs": []
    },
    {
      "cell_type": "code",
      "metadata": {
        "id": "7WcRzvmiPWlF",
        "colab_type": "code",
        "colab": {
          "base_uri": "https://localhost:8080/",
          "height": 34
        },
        "outputId": "e8125b69-af22-402e-c411-ce944bad17cf"
      },
      "source": [
        "train_dl.device"
      ],
      "execution_count": null,
      "outputs": [
        {
          "output_type": "execute_result",
          "data": {
            "text/plain": [
              "device(type='cpu')"
            ]
          },
          "metadata": {
            "tags": []
          },
          "execution_count": 34
        }
      ]
    },
    {
      "cell_type": "code",
      "metadata": {
        "id": "p-c1hoZdFy28",
        "colab_type": "code",
        "colab": {}
      },
      "source": [
        "# def fetch_one_batch():\n",
        "#     if TRACE: set_trace()\n",
        "#     dl_iter = train_dl.__iter__()\n",
        "#     b = dl_iter.__next__()"
      ],
      "execution_count": null,
      "outputs": []
    },
    {
      "cell_type": "code",
      "metadata": {
        "id": "hFFGsM8uFy2-",
        "colab_type": "code",
        "colab": {}
      },
      "source": [
        "# TRACE = False"
      ],
      "execution_count": null,
      "outputs": []
    },
    {
      "cell_type": "code",
      "metadata": {
        "id": "wtZO1uEdFy3A",
        "colab_type": "code",
        "colab": {}
      },
      "source": [
        "clear_prof_data();print_prof_data()"
      ],
      "execution_count": null,
      "outputs": []
    },
    {
      "cell_type": "code",
      "metadata": {
        "scrolled": true,
        "id": "2UCVvR7BFy3C",
        "colab_type": "code",
        "colab": {}
      },
      "source": [
        "# fetch_one_batch()"
      ],
      "execution_count": null,
      "outputs": []
    },
    {
      "cell_type": "code",
      "metadata": {
        "id": "HFusL2hMFy3H",
        "colab_type": "code",
        "colab": {}
      },
      "source": [
        "# print_prof_data()"
      ],
      "execution_count": null,
      "outputs": []
    },
    {
      "cell_type": "code",
      "metadata": {
        "id": "28uI3AH_Fy3L",
        "colab_type": "code",
        "colab": {}
      },
      "source": [
        "clear_prof_data(); print_prof_data()"
      ],
      "execution_count": null,
      "outputs": []
    },
    {
      "cell_type": "code",
      "metadata": {
        "id": "j3PFlgx8Fy3N",
        "colab_type": "code",
        "colab": {}
      },
      "source": [
        "def fetch_all_batches():\n",
        "    for b in train_dl:\n",
        "        pass"
      ],
      "execution_count": null,
      "outputs": []
    },
    {
      "cell_type": "code",
      "metadata": {
        "id": "67_1DV-nFy3Q",
        "colab_type": "code",
        "colab": {}
      },
      "source": [
        "fetch_all_batches()"
      ],
      "execution_count": null,
      "outputs": []
    },
    {
      "cell_type": "code",
      "metadata": {
        "id": "AUw7h7PzFy3T",
        "colab_type": "code",
        "colab": {
          "base_uri": "https://localhost:8080/",
          "height": 52
        },
        "outputId": "c986199a-2398-44e6-fe71-a05a2bd77f0f"
      },
      "source": [
        "print_prof_data()"
      ],
      "execution_count": null,
      "outputs": [
        {
          "output_type": "stream",
          "text": [
            "Function lighting_tfm_call called 23 times.\n",
            "Execution time max: 1.313, average: 0.676\n"
          ],
          "name": "stdout"
        }
      ]
    },
    {
      "cell_type": "code",
      "metadata": {
        "id": "kZ8mcTQuFy3W",
        "colab_type": "code",
        "colab": {}
      },
      "source": [
        "times = get_prof_data('lighting_tfm_call')"
      ],
      "execution_count": null,
      "outputs": []
    },
    {
      "cell_type": "code",
      "metadata": {
        "id": "AfNSKU1GjDSZ",
        "colab_type": "code",
        "colab": {}
      },
      "source": [
        "# times2 = get_prof_data('normalize_encodes')"
      ],
      "execution_count": null,
      "outputs": []
    },
    {
      "cell_type": "code",
      "metadata": {
        "id": "7gFqeFI-LzlO",
        "colab_type": "code",
        "colab": {}
      },
      "source": [
        "import matplotlib.pyplot as plt"
      ],
      "execution_count": null,
      "outputs": []
    },
    {
      "cell_type": "code",
      "metadata": {
        "id": "lEc3dhc7L342",
        "colab_type": "code",
        "colab": {
          "base_uri": "https://localhost:8080/",
          "height": 425
        },
        "outputId": "5da43363-adf0-41cc-943a-7634682eeb82"
      },
      "source": [
        "times"
      ],
      "execution_count": null,
      "outputs": [
        {
          "output_type": "execute_result",
          "data": {
            "text/plain": [
              "[1.312922716140747,\n",
              " 0.7254865169525146,\n",
              " 0.5502560138702393,\n",
              " 0.6936094760894775,\n",
              " 0.5870380401611328,\n",
              " 0.5664598941802979,\n",
              " 0.8293423652648926,\n",
              " 0.7417974472045898,\n",
              " 0.6956570148468018,\n",
              " 0.597170352935791,\n",
              " 0.7398011684417725,\n",
              " 0.606464147567749,\n",
              " 0.7865958213806152,\n",
              " 0.6803274154663086,\n",
              " 0.6039526462554932,\n",
              " 0.719200611114502,\n",
              " 0.6418707370758057,\n",
              " 0.6978912353515625,\n",
              " 0.6025621891021729,\n",
              " 0.6672351360321045,\n",
              " 0.5570170879364014,\n",
              " 0.6070263385772705,\n",
              " 0.3453962802886963]"
            ]
          },
          "metadata": {
            "tags": []
          },
          "execution_count": 47
        }
      ]
    },
    {
      "cell_type": "code",
      "metadata": {
        "id": "rfhue7F-L8Te",
        "colab_type": "code",
        "colab": {
          "base_uri": "https://localhost:8080/",
          "height": 264
        },
        "outputId": "1b53ac30-46fa-44ac-f379-d81cb25b476b"
      },
      "source": [
        "plt.plot(times);"
      ],
      "execution_count": null,
      "outputs": [
        {
          "output_type": "display_data",
          "data": {
            "image/png": "[encoded data removed]",
            "text/plain": [
              "<Figure size 432x288 with 1 Axes>"
            ]
          },
          "metadata": {
            "tags": [],
            "needs_background": "light"
          }
        }
      ]
    },
    {
      "cell_type": "code",
      "metadata": {
        "id": "sGjWCDM3jLWS",
        "colab_type": "code",
        "colab": {}
      },
      "source": [
        "# times2"
      ],
      "execution_count": null,
      "outputs": []
    },
    {
      "cell_type": "code",
      "metadata": {
        "id": "hontRyTuL_zF",
        "colab_type": "code",
        "colab": {}
      },
      "source": [
        "# plt.plot(times2);"
      ],
      "execution_count": null,
      "outputs": []
    }
  ]
}