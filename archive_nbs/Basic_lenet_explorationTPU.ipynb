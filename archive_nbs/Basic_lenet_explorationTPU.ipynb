{
  "nbformat": 4,
  "nbformat_minor": 0,
  "metadata": {
    "accelerator": "TPU",
    "colab": {
      "name": "Basic_lenet_explorationTPU.ipynb",
      "provenance": [],
      "collapsed_sections": [],
      "toc_visible": true,
      "include_colab_link": true
    },
    "kernelspec": {
      "display_name": "Python 3",
      "language": "python",
      "name": "python3"
    },
    "language_info": {
      "codemirror_mode": {
        "name": "ipython",
        "version": 3
      },
      "file_extension": ".py",
      "mimetype": "text/x-python",
      "name": "python",
      "nbconvert_exporter": "python",
      "pygments_lexer": "ipython3",
      "version": "3.7.7"
    }
  },
  "cells": [
    {
      "cell_type": "markdown",
      "metadata": {
        "id": "view-in-github",
        "colab_type": "text"
      },
      "source": [
        "<a href=\"https://colab.research.google.com/github/butchland/fastai_xla_extensions/blob/master/Basic_lenet_explorationTPU.ipynb\" target=\"_parent\"><img src=\"https://colab.research.google.com/assets/colab-badge.svg\" alt=\"Open In Colab\"/></a>"
      ]
    },
    {
      "cell_type": "markdown",
      "metadata": {
        "colab_type": "text",
        "id": "BmnUX_l8lQ6B"
      },
      "source": [
        "# Install fastai2 from github"
      ]
    },
    {
      "cell_type": "code",
      "metadata": {
        "colab_type": "code",
        "id": "Q5DZXcBNJoy1",
        "colab": {}
      },
      "source": [
        "!pip install -Uqq fastcore --upgrade\n",
        "!pip install -Uqq fastai --upgrade \n",
        "!pip install -Uqq git+https://github.com/butchland/fastai_xla_extensions"
      ],
      "execution_count": null,
      "outputs": []
    },
    {
      "cell_type": "code",
      "metadata": {
        "colab_type": "code",
        "id": "GucdOzF7r6ch",
        "colab": {}
      },
      "source": [
        "VERSION = \"20200707\"  #\"20200515\" @param [\"1.5\" , \"20200325\", \"nightly\"]\n",
        "!curl https://raw.githubusercontent.com/pytorch/xla/master/contrib/scripts/env-setup.py -o pytorch-xla-env-setup.py"
      ],
      "execution_count": null,
      "outputs": []
    },
    {
      "cell_type": "code",
      "metadata": {
        "colab_type": "code",
        "id": "BxoA3fJusV17",
        "colab": {}
      },
      "source": [
        "#!TORCH_SHOW_CPP_STACKTRACES=1 python pytorch-xla-env-setup.py --apt-packages libomp5 libopenblas-dev\n",
        "!python pytorch-xla-env-setup.py  --version $VERSION --apt-packages libomp5 libopenblas-dev"
      ],
      "execution_count": null,
      "outputs": []
    },
    {
      "cell_type": "code",
      "metadata": {
        "colab_type": "code",
        "id": "aJMhjxPPaPo8",
        "colab": {
          "base_uri": "https://localhost:8080/",
          "height": 156
        },
        "outputId": "c43a7f41-82d1-4ebf-d293-5f7620b0b9fa"
      },
      "source": [
        "!pip freeze | grep torch \n",
        "!pip freeze | grep fastcore\n",
        "!pip freeze | grep fastai"
      ],
      "execution_count": 1,
      "outputs": [
        {
          "output_type": "stream",
          "text": [
            "torch==1.7.0a0+12b5bdc\n",
            "torch-xla==1.6+5430aca\n",
            "torchsummary==1.5.1\n",
            "torchtext==0.3.1\n",
            "torchvision==0.8.0a0+86b6c3e\n",
            "fastcore==1.0.0\n",
            "fastai==2.0.0\n",
            "fastai-xla-extensions==0.0.1\n"
          ],
          "name": "stdout"
        }
      ]
    },
    {
      "cell_type": "code",
      "metadata": {
        "id": "O5vVQw3JM7yA",
        "colab_type": "code",
        "colab": {}
      },
      "source": [
        "import fastai_xla_extensions.core"
      ],
      "execution_count": 1,
      "outputs": []
    },
    {
      "cell_type": "code",
      "metadata": {
        "colab_type": "code",
        "id": "mlAKa0RsbOei",
        "colab": {}
      },
      "source": [
        "from fastai.vision.all import *"
      ],
      "execution_count": 2,
      "outputs": []
    },
    {
      "cell_type": "code",
      "metadata": {
        "id": "yP0SuTY0xBrb",
        "colab_type": "code",
        "colab": {}
      },
      "source": [
        "from fastai_xla_extensions.core import default_device, to_device"
      ],
      "execution_count": 3,
      "outputs": []
    },
    {
      "cell_type": "code",
      "metadata": {
        "id": "rHE_YF1_wHeO",
        "colab_type": "code",
        "colab": {
          "base_uri": "https://localhost:8080/",
          "height": 34
        },
        "outputId": "7626f392-3f42-4f6d-ab8c-84da6f9027c5"
      },
      "source": [
        "default_device"
      ],
      "execution_count": 4,
      "outputs": [
        {
          "output_type": "execute_result",
          "data": {
            "text/plain": [
              "<function fastai_xla_extensions.core.default_device>"
            ]
          },
          "metadata": {
            "tags": []
          },
          "execution_count": 4
        }
      ]
    },
    {
      "cell_type": "code",
      "metadata": {
        "colab_type": "code",
        "id": "OD7QTq_ulNZK",
        "colab": {
          "base_uri": "https://localhost:8080/",
          "height": 34
        },
        "outputId": "616dd372-4e61-46fa-ceef-89c6fbaf4d45"
      },
      "source": [
        "path = untar_data(URLs.MNIST_SAMPLE)\n",
        "Path.BASE_PATH = path; path.ls()"
      ],
      "execution_count": 5,
      "outputs": [
        {
          "output_type": "execute_result",
          "data": {
            "text/plain": [
              "(#3) [Path('valid'),Path('train'),Path('labels.csv')]"
            ]
          },
          "metadata": {
            "tags": []
          },
          "execution_count": 5
        }
      ]
    },
    {
      "cell_type": "code",
      "metadata": {
        "id": "jZHPPO8I8RbC",
        "colab_type": "code",
        "colab": {
          "base_uri": "https://localhost:8080/",
          "height": 34
        },
        "outputId": "b78fd2c0-f3b5-489c-c827-b7f2a5bb02da"
      },
      "source": [
        "(path/'train').ls()"
      ],
      "execution_count": 6,
      "outputs": [
        {
          "output_type": "execute_result",
          "data": {
            "text/plain": [
              "(#2) [Path('train/7'),Path('train/3')]"
            ]
          },
          "metadata": {
            "tags": []
          },
          "execution_count": 6
        }
      ]
    },
    {
      "cell_type": "markdown",
      "metadata": {
        "colab_type": "text",
        "id": "PoJrJqx8BO30"
      },
      "source": [
        "# Lenet with convs and F.max_pool2d"
      ]
    },
    {
      "cell_type": "code",
      "metadata": {
        "colab_type": "code",
        "id": "sfJVAsAerFku",
        "colab": {}
      },
      "source": [
        "class MyLenet(nn.Module):\n",
        "    def __init__(self):\n",
        "        super(MyLenet, self).__init__()\n",
        "        self.conv1 = nn.Conv2d(3, 6, 3)\n",
        "        self.conv2 = nn.Conv2d(6,16,3)\n",
        "        self.hiden4 = nn.Linear(400, 2) # 2 outputs instead of 10\n",
        "    def forward(self, x):\n",
        "        x = F.max_pool2d(F.relu(self.conv1(x)), (2, 2))\n",
        "        x = F.max_pool2d(F.relu(self.conv2(x)), 2)\n",
        "        x = x.view(-1, self.num_flat_features(x))\n",
        "        x = self.hiden4(x)\n",
        "        return x\n",
        "    \n",
        "    def num_flat_features(self, x):\n",
        "        size = x.size()[1:]  # all dimensions except the batch dimension\n",
        "        num_features = 1\n",
        "        for s in size:\n",
        "            num_features *= s\n",
        "        return num_features\n"
      ],
      "execution_count": 7,
      "outputs": []
    },
    {
      "cell_type": "markdown",
      "metadata": {
        "colab_type": "text",
        "id": "YujM_GLxBW4_"
      },
      "source": [
        "# Lenet with layers"
      ]
    },
    {
      "cell_type": "code",
      "metadata": {
        "colab_type": "code",
        "id": "RETI5TWYyn6C",
        "colab": {}
      },
      "source": [
        "class Lenet2(nn.Module):\n",
        "    def __init__(self):\n",
        "        super(Lenet2, self).__init__()\n",
        "        self.conv1 = nn.Conv2d(3, 6, 3)\n",
        "        self.conv2 = nn.Conv2d(6, 16, 3)\n",
        "        self.fc1 = nn.Linear(400, 120)\n",
        "        self.fc2 = nn.Linear(120, 84)\n",
        "        self.fc3 = nn.Linear(84, 2) # Only 2 outputs instead of 10\n",
        "    def forward(self, x):\n",
        "        # Max pooling over a (2, 2) window\n",
        "        x = F.max_pool2d(F.relu(self.conv1(x)), (2, 2))\n",
        "        # If the size is a square you can only specify a single number\n",
        "        x = F.max_pool2d(F.relu(self.conv2(x)), 2)\n",
        "        x = x.view(-1, self.num_flat_features(x))\n",
        "        x = F.relu(self.fc1(x))\n",
        "        x = F.relu(self.fc2(x))\n",
        "        x = self.fc3(x)\n",
        "        return x\n",
        "\n",
        "    def num_flat_features(self, x):\n",
        "        size = x.size()[1:]  # all dimensions except the batch dimension\n",
        "        num_features = 1\n",
        "        for s in size:\n",
        "            num_features *= s\n",
        "        return num_features\n",
        "\n",
        "\n"
      ],
      "execution_count": 8,
      "outputs": []
    },
    {
      "cell_type": "markdown",
      "metadata": {
        "colab_type": "text",
        "id": "esGnoThVr5sm"
      },
      "source": [
        "# Current TPU implementation callbacks"
      ]
    },
    {
      "cell_type": "markdown",
      "metadata": {
        "colab_type": "text",
        "id": "p1MkLSk4rGXa"
      },
      "source": [
        "# Load in TPU"
      ]
    },
    {
      "cell_type": "markdown",
      "metadata": {
        "id": "iGGltCFpN0Gs",
        "colab_type": "text"
      },
      "source": [
        ""
      ]
    },
    {
      "cell_type": "code",
      "metadata": {
        "colab_type": "code",
        "id": "xEERTzNRN5qh",
        "colab": {}
      },
      "source": [
        "dblock = DataBlock(\n",
        "    splitter = GrandparentSplitter(),\n",
        "    item_tfms = Resize(28),\n",
        "    blocks = (ImageBlock, CategoryBlock),\n",
        "    get_items = get_image_files,\n",
        "    get_y = parent_label,\n",
        "    batch_tfms = []\n",
        ")\n"
      ],
      "execution_count": 9,
      "outputs": []
    },
    {
      "cell_type": "code",
      "metadata": {
        "colab_type": "code",
        "id": "FXckuzpuxvWW",
        "colab": {
          "base_uri": "https://localhost:8080/",
          "height": 905
        },
        "outputId": "f8c3511f-b9c8-4a19-d471-73567cf1e54c"
      },
      "source": [
        "dblock.summary(path)"
      ],
      "execution_count": 10,
      "outputs": [
        {
          "output_type": "stream",
          "text": [
            "Setting-up type transforms pipelines\n",
            "Collecting items from /root/.fastai/data/mnist_sample\n",
            "Found 14434 items\n",
            "2 datasets of sizes 12396,2038\n",
            "Setting up Pipeline: PILBase.create\n",
            "Setting up Pipeline: parent_label -> Categorize -- {'vocab': None, 'add_na': False}\n",
            "\n",
            "Building one sample\n",
            "  Pipeline: PILBase.create\n",
            "    starting from\n",
            "      /root/.fastai/data/mnist_sample/train/7/22955.png\n",
            "    applying PILBase.create gives\n",
            "      PILImage mode=RGB size=28x28\n",
            "  Pipeline: parent_label -> Categorize -- {'vocab': (#2) ['3','7'], 'add_na': False}\n",
            "    starting from\n",
            "      /root/.fastai/data/mnist_sample/train/7/22955.png\n",
            "    applying parent_label gives\n",
            "      7\n",
            "    applying Categorize -- {'vocab': (#2) ['3','7'], 'add_na': False} gives\n",
            "      TensorCategory(1)\n",
            "\n",
            "Final sample: (PILImage mode=RGB size=28x28, TensorCategory(1))\n",
            "\n",
            "\n",
            "Setting up after_item: Pipeline: Resize -- {'size': (28, 28), 'method': 'crop', 'pad_mode': 'reflection'} -> ToTensor\n",
            "Setting up before_batch: Pipeline: \n",
            "Setting up after_batch: Pipeline: IntToFloatTensor -- {'div': 255.0, 'div_mask': 1}\n",
            "\n",
            "Building one batch\n",
            "Applying item_tfms to the first sample:\n",
            "  Pipeline: Resize -- {'size': (28, 28), 'method': 'crop', 'pad_mode': 'reflection'} -> ToTensor\n",
            "    starting from\n",
            "      (PILImage mode=RGB size=28x28, TensorCategory(1))\n",
            "    applying Resize -- {'size': (28, 28), 'method': 'crop', 'pad_mode': 'reflection'} gives\n",
            "      (PILImage mode=RGB size=28x28, TensorCategory(1))\n",
            "    applying ToTensor gives\n",
            "      (TensorImage of size 3x28x28, TensorCategory(1))\n",
            "\n",
            "Adding the next 3 samples\n",
            "\n",
            "No before_batch transform to apply\n",
            "\n",
            "Collating items in a batch\n",
            "\n",
            "Applying batch_tfms to the batch built\n",
            "  Pipeline: IntToFloatTensor -- {'div': 255.0, 'div_mask': 1}\n",
            "    starting from\n",
            "      (TensorImage of size 4x3x28x28, TensorCategory([1, 1, 1, 1]))\n",
            "    applying IntToFloatTensor -- {'div': 255.0, 'div_mask': 1} gives\n",
            "      (TensorImage of size 4x3x28x28, TensorCategory([1, 1, 1, 1]))\n"
          ],
          "name": "stdout"
        }
      ]
    },
    {
      "cell_type": "markdown",
      "metadata": {
        "colab_type": "text",
        "id": "roY-hP7q_XzV"
      },
      "source": [
        "# Use TPU device"
      ]
    },
    {
      "cell_type": "markdown",
      "metadata": {
        "colab_type": "text",
        "id": "u-rqfNkUM6qJ"
      },
      "source": [
        "# Aquire a TPU device"
      ]
    },
    {
      "cell_type": "code",
      "metadata": {
        "colab_type": "code",
        "id": "H9FuvQ7qrEqd",
        "colab": {
          "base_uri": "https://localhost:8080/",
          "height": 34
        },
        "outputId": "3e7b4f87-9f7f-4150-f5bc-a8e88106d10f"
      },
      "source": [
        "dls_tpu = dblock.dataloaders(path, device=default_device())\n",
        "dls_tpu.vocab"
      ],
      "execution_count": 11,
      "outputs": [
        {
          "output_type": "execute_result",
          "data": {
            "text/plain": [
              "(#2) ['3','7']"
            ]
          },
          "metadata": {
            "tags": []
          },
          "execution_count": 11
        }
      ]
    },
    {
      "cell_type": "code",
      "metadata": {
        "id": "9w0_Wi3g1Gog",
        "colab_type": "code",
        "colab": {}
      },
      "source": [
        "xb, yb = dls_tpu.one_batch()"
      ],
      "execution_count": 12,
      "outputs": []
    },
    {
      "cell_type": "code",
      "metadata": {
        "id": "IUYdHYPf1NZf",
        "colab_type": "code",
        "colab": {
          "base_uri": "https://localhost:8080/",
          "height": 34
        },
        "outputId": "4a2e32d6-4096-48f9-bbfe-5eb5b27e43b7"
      },
      "source": [
        "(type(xb), xb.shape, xb.dtype)"
      ],
      "execution_count": 13,
      "outputs": [
        {
          "output_type": "execute_result",
          "data": {
            "text/plain": [
              "(fastai.torch_core.TensorImage, torch.Size([64, 3, 28, 28]), torch.float32)"
            ]
          },
          "metadata": {
            "tags": []
          },
          "execution_count": 13
        }
      ]
    },
    {
      "cell_type": "code",
      "metadata": {
        "id": "42gKRROQ1fTN",
        "colab_type": "code",
        "colab": {
          "base_uri": "https://localhost:8080/",
          "height": 34
        },
        "outputId": "059f7b88-183f-4cfc-986e-a18eda722d42"
      },
      "source": [
        "(type(yb), yb.shape, yb.dtype)"
      ],
      "execution_count": 14,
      "outputs": [
        {
          "output_type": "execute_result",
          "data": {
            "text/plain": [
              "(fastai.torch_core.TensorCategory, torch.Size([64]), torch.int64)"
            ]
          },
          "metadata": {
            "tags": []
          },
          "execution_count": 14
        }
      ]
    },
    {
      "cell_type": "markdown",
      "metadata": {
        "colab_type": "text",
        "id": "CaLUPKrpNFD6"
      },
      "source": [
        "## First training on TPU"
      ]
    },
    {
      "cell_type": "code",
      "metadata": {
        "colab_type": "code",
        "id": "nnNXHVhBukge",
        "colab": {}
      },
      "source": [
        "# from fastai.callback.all import *\n",
        "from fastai.test_utils import *\n",
        "lenet_tpu = Lenet2()\n",
        "tpu_learner = Learner(dls_tpu,\n",
        "                      lenet_tpu,\n",
        "                      metrics=accuracy, \n",
        "                      loss_func=F.cross_entropy,\n",
        "                      cbs=[])"
      ],
      "execution_count": 15,
      "outputs": []
    },
    {
      "cell_type": "code",
      "metadata": {
        "colab_type": "code",
        "id": "npau0oogyXRN",
        "colab": {
          "base_uri": "https://localhost:8080/",
          "height": 550
        },
        "outputId": "23f9836d-76d5-4f61-f77d-93a225aa42ad"
      },
      "source": [
        "tpu_learner.summary()"
      ],
      "execution_count": 16,
      "outputs": [
        {
          "output_type": "display_data",
          "data": {
            "text/html": [
              "<table border=\"1\" class=\"dataframe\">\n",
              "  <thead>\n",
              "    <tr style=\"text-align: left;\">\n",
              "      <th>epoch</th>\n",
              "      <th>train_loss</th>\n",
              "      <th>valid_loss</th>\n",
              "      <th>accuracy</th>\n",
              "      <th>time</th>\n",
              "    </tr>\n",
              "  </thead>\n",
              "  <tbody>\n",
              "    <tr>\n",
              "      <td>0</td>\n",
              "      <td>None</td>\n",
              "      <td>None</td>\n",
              "      <td>00:00</td>\n",
              "    </tr>\n",
              "  </tbody>\n",
              "</table>"
            ],
            "text/plain": [
              "<IPython.core.display.HTML object>"
            ]
          },
          "metadata": {
            "tags": []
          }
        },
        {
          "output_type": "execute_result",
          "data": {
            "application/vnd.google.colaboratory.intrinsic+json": {
              "type": "string"
            },
            "text/plain": [
              "Lenet2 (Input shape: ['64 x 3 x 28 x 28'])\n",
              "================================================================\n",
              "Layer (type)         Output Shape         Param #    Trainable \n",
              "================================================================\n",
              "Conv2d               64 x 6 x 26 x 26     168        True      \n",
              "________________________________________________________________\n",
              "Conv2d               64 x 16 x 11 x 11    880        True      \n",
              "________________________________________________________________\n",
              "Linear               64 x 120             48,120     True      \n",
              "________________________________________________________________\n",
              "Linear               64 x 84              10,164     True      \n",
              "________________________________________________________________\n",
              "Linear               64 x 2               170        True      \n",
              "________________________________________________________________\n",
              "\n",
              "Total params: 59,502\n",
              "Total trainable params: 59,502\n",
              "Total non-trainable params: 0\n",
              "\n",
              "Optimizer used: <function Adam at 0x7fa8bfaff840>\n",
              "Loss function: <function cross_entropy at 0x7fa8dd82ba60>\n",
              "\n",
              "Callbacks:\n",
              "  - TrainEvalCallback\n",
              "  - XLAOptCallback\n",
              "  - Recorder\n",
              "  - ProgressCallback"
            ]
          },
          "metadata": {
            "tags": []
          },
          "execution_count": 16
        }
      ]
    },
    {
      "cell_type": "code",
      "metadata": {
        "colab_type": "code",
        "id": "-Z-exyB0zrk6",
        "colab": {
          "base_uri": "https://localhost:8080/",
          "height": 590
        },
        "outputId": "ae5ea527-38fe-4f8d-d96a-8d8c6186ce6f"
      },
      "source": [
        "tpu_learner.show_training_loop()"
      ],
      "execution_count": 17,
      "outputs": [
        {
          "output_type": "stream",
          "text": [
            "Start Fit\n",
            "   - before_fit     : [TrainEvalCallback, XLAOptCallback, Recorder, ProgressCallback]\n",
            "  Start Epoch Loop\n",
            "     - before_epoch   : [Recorder, ProgressCallback]\n",
            "    Start Train\n",
            "       - before_train   : [TrainEvalCallback, Recorder, ProgressCallback]\n",
            "      Start Batch Loop\n",
            "         - before_batch   : []\n",
            "         - after_pred     : []\n",
            "         - after_loss     : []\n",
            "         - before_backward: []\n",
            "         - after_backward : []\n",
            "         - after_step     : []\n",
            "         - after_cancel_batch: []\n",
            "         - after_batch    : [TrainEvalCallback, Recorder, ProgressCallback]\n",
            "      End Batch Loop\n",
            "    End Train\n",
            "     - after_cancel_train: [Recorder]\n",
            "     - after_train    : [Recorder, ProgressCallback]\n",
            "    Start Valid\n",
            "       - before_validate: [TrainEvalCallback, Recorder, ProgressCallback]\n",
            "      Start Batch Loop\n",
            "         - **CBs same as train batch**: []\n",
            "      End Batch Loop\n",
            "    End Valid\n",
            "     - after_cancel_validate: [Recorder]\n",
            "     - after_validate : [Recorder, ProgressCallback]\n",
            "  End Epoch Loop\n",
            "   - after_cancel_epoch: []\n",
            "   - after_epoch    : [Recorder]\n",
            "End Fit\n",
            " - after_cancel_fit: []\n",
            " - after_fit      : [XLAOptCallback, ProgressCallback]\n"
          ],
          "name": "stdout"
        }
      ]
    },
    {
      "cell_type": "code",
      "metadata": {
        "colab_type": "code",
        "id": "8sHdn1JVRSGW",
        "colab": {
          "base_uri": "https://localhost:8080/",
          "height": 34
        },
        "outputId": "9647d2f7-7730-4c6c-f313-a6fabb1d9128"
      },
      "source": [
        "dls_tpu.device"
      ],
      "execution_count": 18,
      "outputs": [
        {
          "output_type": "execute_result",
          "data": {
            "text/plain": [
              "device(type='xla', index=1)"
            ]
          },
          "metadata": {
            "tags": []
          },
          "execution_count": 18
        }
      ]
    },
    {
      "cell_type": "markdown",
      "metadata": {
        "colab_type": "text",
        "id": "f_vRFNZts9GB"
      },
      "source": [
        "# Call fit\n",
        "\n",
        "Will fail in `self.loss.backward(); `?"
      ]
    },
    {
      "cell_type": "code",
      "metadata": {
        "colab_type": "code",
        "id": "oKrHpX9eu4S_",
        "colab": {
          "base_uri": "https://localhost:8080/",
          "height": 81
        },
        "outputId": "b05ef311-f204-4212-ab00-81ef21a8fb7e"
      },
      "source": [
        "tpu_learner.fit(1)"
      ],
      "execution_count": 19,
      "outputs": [
        {
          "output_type": "display_data",
          "data": {
            "text/html": [
              "<table border=\"1\" class=\"dataframe\">\n",
              "  <thead>\n",
              "    <tr style=\"text-align: left;\">\n",
              "      <th>epoch</th>\n",
              "      <th>train_loss</th>\n",
              "      <th>valid_loss</th>\n",
              "      <th>accuracy</th>\n",
              "      <th>time</th>\n",
              "    </tr>\n",
              "  </thead>\n",
              "  <tbody>\n",
              "    <tr>\n",
              "      <td>0</td>\n",
              "      <td>0.049054</td>\n",
              "      <td>0.043074</td>\n",
              "      <td>0.985770</td>\n",
              "      <td>00:19</td>\n",
              "    </tr>\n",
              "  </tbody>\n",
              "</table>"
            ],
            "text/plain": [
              "<IPython.core.display.HTML object>"
            ]
          },
          "metadata": {
            "tags": []
          }
        }
      ]
    },
    {
      "cell_type": "code",
      "metadata": {
        "colab_type": "code",
        "id": "59-jZT0-vDcI",
        "colab": {
          "base_uri": "https://localhost:8080/",
          "height": 300
        },
        "outputId": "92fefa60-a10d-48be-cd27-2f7b16bc2b6a"
      },
      "source": [
        "tpu_learner.lr_find()"
      ],
      "execution_count": 20,
      "outputs": [
        {
          "output_type": "display_data",
          "data": {
            "text/html": [
              ""
            ],
            "text/plain": [
              "<IPython.core.display.HTML object>"
            ]
          },
          "metadata": {
            "tags": []
          }
        },
        {
          "output_type": "execute_result",
          "data": {
            "text/plain": [
              "SuggestedLRs(lr_min=9.12010818865383e-08, lr_steep=2.2908675418875646e-06)"
            ]
          },
          "metadata": {
            "tags": []
          },
          "execution_count": 20
        },
        {
          "output_type": "display_data",
          "data": {
            "image/png": "[encoded data removed]",
            "text/plain": [
              "<Figure size 432x288 with 1 Axes>"
            ]
          },
          "metadata": {
            "tags": [],
            "needs_background": "light"
          }
        }
      ]
    },
    {
      "cell_type": "code",
      "metadata": {
        "id": "d4afo3XOZzFD",
        "colab_type": "code",
        "colab": {
          "base_uri": "https://localhost:8080/",
          "height": 115
        },
        "outputId": "641e5e37-92a3-410d-be3d-44267d667b3a"
      },
      "source": [
        "%%time\n",
        "tpu_learner.fit_one_cycle(1)\n",
        "tpu_learner.validate()"
      ],
      "execution_count": 21,
      "outputs": [
        {
          "output_type": "display_data",
          "data": {
            "text/html": [
              "<table border=\"1\" class=\"dataframe\">\n",
              "  <thead>\n",
              "    <tr style=\"text-align: left;\">\n",
              "      <th>epoch</th>\n",
              "      <th>train_loss</th>\n",
              "      <th>valid_loss</th>\n",
              "      <th>accuracy</th>\n",
              "      <th>time</th>\n",
              "    </tr>\n",
              "  </thead>\n",
              "  <tbody>\n",
              "    <tr>\n",
              "      <td>0</td>\n",
              "      <td>0.021084</td>\n",
              "      <td>0.024175</td>\n",
              "      <td>0.992149</td>\n",
              "      <td>00:17</td>\n",
              "    </tr>\n",
              "  </tbody>\n",
              "</table>"
            ],
            "text/plain": [
              "<IPython.core.display.HTML object>"
            ]
          },
          "metadata": {
            "tags": []
          }
        },
        {
          "output_type": "display_data",
          "data": {
            "text/html": [
              ""
            ],
            "text/plain": [
              "<IPython.core.display.HTML object>"
            ]
          },
          "metadata": {
            "tags": []
          }
        },
        {
          "output_type": "stream",
          "text": [
            "CPU times: user 4.31 s, sys: 657 ms, total: 4.97 s\n",
            "Wall time: 20.9 s\n"
          ],
          "name": "stdout"
        }
      ]
    },
    {
      "cell_type": "code",
      "metadata": {
        "id": "kJ0U9lv0gNX9",
        "colab_type": "code",
        "colab": {}
      },
      "source": [
        "class DeviceCheckCallback(Callback):\n",
        "    \n",
        "    def after_pred(self):\n",
        "        print(f'xb device: {first(self.learn.xb).device}')\n",
        "        print(f'model device: {one_param(self.learn.model).device}')\n"
      ],
      "execution_count": 22,
      "outputs": []
    },
    {
      "cell_type": "code",
      "metadata": {
        "id": "2vv__tRKAyqI",
        "colab_type": "code",
        "colab": {
          "base_uri": "https://localhost:8080/",
          "height": 1000
        },
        "outputId": "71cbae25-c548-46e4-dfd1-a53bbd09ba51"
      },
      "source": [
        "tpu_learner.fit_one_cycle(1, cbs=[DeviceCheckCallback()])"
      ],
      "execution_count": 23,
      "outputs": [
        {
          "output_type": "display_data",
          "data": {
            "text/html": [
              "<table border=\"1\" class=\"dataframe\">\n",
              "  <thead>\n",
              "    <tr style=\"text-align: left;\">\n",
              "      <th>epoch</th>\n",
              "      <th>train_loss</th>\n",
              "      <th>valid_loss</th>\n",
              "      <th>accuracy</th>\n",
              "      <th>time</th>\n",
              "    </tr>\n",
              "  </thead>\n",
              "  <tbody>\n",
              "    <tr>\n",
              "      <td>0</td>\n",
              "      <td>0.016716</td>\n",
              "      <td>0.019041</td>\n",
              "      <td>0.993621</td>\n",
              "      <td>00:18</td>\n",
              "    </tr>\n",
              "  </tbody>\n",
              "</table>"
            ],
            "text/plain": [
              "<IPython.core.display.HTML object>"
            ]
          },
          "metadata": {
            "tags": []
          }
        },
        {
          "output_type": "stream",
          "text": [
            "xb device: xla:1\n",
            "model device: xla:1\n",
            "xb device: xla:1\n",
            "model device: xla:1\n",
            "xb device: xla:1\n",
            "model device: xla:1\n",
            "xb device: xla:1\n",
            "model device: xla:1\n",
            "xb device: xla:1\n",
            "model device: xla:1\n",
            "xb device: xla:1\n",
            "model device: xla:1\n",
            "xb device: xla:1\n",
            "model device: xla:1\n",
            "xb device: xla:1\n",
            "model device: xla:1\n",
            "xb device: xla:1\n",
            "model device: xla:1\n",
            "xb device: xla:1\n",
            "model device: xla:1\n",
            "xb device: xla:1\n",
            "model device: xla:1\n",
            "xb device: xla:1\n",
            "model device: xla:1\n",
            "xb device: xla:1\n",
            "model device: xla:1\n",
            "xb device: xla:1\n",
            "model device: xla:1\n",
            "xb device: xla:1\n",
            "model device: xla:1\n",
            "xb device: xla:1\n",
            "model device: xla:1\n",
            "xb device: xla:1\n",
            "model device: xla:1\n",
            "xb device: xla:1\n",
            "model device: xla:1\n",
            "xb device: xla:1\n",
            "model device: xla:1\n",
            "xb device: xla:1\n",
            "model device: xla:1\n",
            "xb device: xla:1\n",
            "model device: xla:1\n",
            "xb device: xla:1\n",
            "model device: xla:1\n",
            "xb device: xla:1\n",
            "model device: xla:1\n",
            "xb device: xla:1\n",
            "model device: xla:1\n",
            "xb device: xla:1\n",
            "model device: xla:1\n",
            "xb device: xla:1\n",
            "model device: xla:1\n",
            "xb device: xla:1\n",
            "model device: xla:1\n",
            "xb device: xla:1\n",
            "model device: xla:1\n",
            "xb device: xla:1\n",
            "model device: xla:1\n",
            "xb device: xla:1\n",
            "model device: xla:1\n",
            "xb device: xla:1\n",
            "model device: xla:1\n",
            "xb device: xla:1\n",
            "model device: xla:1\n",
            "xb device: xla:1\n",
            "model device: xla:1\n",
            "xb device: xla:1\n",
            "model device: xla:1\n",
            "xb device: xla:1\n",
            "model device: xla:1\n",
            "xb device: xla:1\n",
            "model device: xla:1\n",
            "xb device: xla:1\n",
            "model device: xla:1\n",
            "xb device: xla:1\n",
            "model device: xla:1\n",
            "xb device: xla:1\n",
            "model device: xla:1\n",
            "xb device: xla:1\n",
            "model device: xla:1\n",
            "xb device: xla:1\n",
            "model device: xla:1\n",
            "xb device: xla:1\n",
            "model device: xla:1\n",
            "xb device: xla:1\n",
            "model device: xla:1\n",
            "xb device: xla:1\n",
            "model device: xla:1\n",
            "xb device: xla:1\n",
            "model device: xla:1\n",
            "xb device: xla:1\n",
            "model device: xla:1\n",
            "xb device: xla:1\n",
            "model device: xla:1\n",
            "xb device: xla:1\n",
            "model device: xla:1\n",
            "xb device: xla:1\n",
            "model device: xla:1\n",
            "xb device: xla:1\n",
            "model device: xla:1\n",
            "xb device: xla:1\n",
            "model device: xla:1\n",
            "xb device: xla:1\n",
            "model device: xla:1\n",
            "xb device: xla:1\n",
            "model device: xla:1\n",
            "xb device: xla:1\n",
            "model device: xla:1\n",
            "xb device: xla:1\n",
            "model device: xla:1\n",
            "xb device: xla:1\n",
            "model device: xla:1\n",
            "xb device: xla:1\n",
            "model device: xla:1\n",
            "xb device: xla:1\n",
            "model device: xla:1\n",
            "xb device: xla:1\n",
            "model device: xla:1\n",
            "xb device: xla:1\n",
            "model device: xla:1\n",
            "xb device: xla:1\n",
            "model device: xla:1\n",
            "xb device: xla:1\n",
            "model device: xla:1\n",
            "xb device: xla:1\n",
            "model device: xla:1\n",
            "xb device: xla:1\n",
            "model device: xla:1\n",
            "xb device: xla:1\n",
            "model device: xla:1\n",
            "xb device: xla:1\n",
            "model device: xla:1\n",
            "xb device: xla:1\n",
            "model device: xla:1\n",
            "xb device: xla:1\n",
            "model device: xla:1\n",
            "xb device: xla:1\n",
            "model device: xla:1\n",
            "xb device: xla:1\n",
            "model device: xla:1\n",
            "xb device: xla:1\n",
            "model device: xla:1\n",
            "xb device: xla:1\n",
            "model device: xla:1\n",
            "xb device: xla:1\n",
            "model device: xla:1\n",
            "xb device: xla:1\n",
            "model device: xla:1\n",
            "xb device: xla:1\n",
            "model device: xla:1\n",
            "xb device: xla:1\n",
            "model device: xla:1\n",
            "xb device: xla:1\n",
            "model device: xla:1\n",
            "xb device: xla:1\n",
            "model device: xla:1\n",
            "xb device: xla:1\n",
            "model device: xla:1\n",
            "xb device: xla:1\n",
            "model device: xla:1\n",
            "xb device: xla:1\n",
            "model device: xla:1\n",
            "xb device: xla:1\n",
            "model device: xla:1\n",
            "xb device: xla:1\n",
            "model device: xla:1\n",
            "xb device: xla:1\n",
            "model device: xla:1\n",
            "xb device: xla:1\n",
            "model device: xla:1\n",
            "xb device: xla:1\n",
            "model device: xla:1\n",
            "xb device: xla:1\n",
            "model device: xla:1\n",
            "xb device: xla:1\n",
            "model device: xla:1\n",
            "xb device: xla:1\n",
            "model device: xla:1\n",
            "xb device: xla:1\n",
            "model device: xla:1\n",
            "xb device: xla:1\n",
            "model device: xla:1\n",
            "xb device: xla:1\n",
            "model device: xla:1\n",
            "xb device: xla:1\n",
            "model device: xla:1\n",
            "xb device: xla:1\n",
            "model device: xla:1\n",
            "xb device: xla:1\n",
            "model device: xla:1\n",
            "xb device: xla:1\n",
            "model device: xla:1\n",
            "xb device: xla:1\n",
            "model device: xla:1\n",
            "xb device: xla:1\n",
            "model device: xla:1\n",
            "xb device: xla:1\n",
            "model device: xla:1\n",
            "xb device: xla:1\n",
            "model device: xla:1\n",
            "xb device: xla:1\n",
            "model device: xla:1\n",
            "xb device: xla:1\n",
            "model device: xla:1\n",
            "xb device: xla:1\n",
            "model device: xla:1\n",
            "xb device: xla:1\n",
            "model device: xla:1\n",
            "xb device: xla:1\n",
            "model device: xla:1\n",
            "xb device: xla:1\n",
            "model device: xla:1\n",
            "xb device: xla:1\n",
            "model device: xla:1\n",
            "xb device: xla:1\n",
            "model device: xla:1\n",
            "xb device: xla:1\n",
            "model device: xla:1\n",
            "xb device: xla:1\n",
            "model device: xla:1\n",
            "xb device: xla:1\n",
            "model device: xla:1\n",
            "xb device: xla:1\n",
            "model device: xla:1\n",
            "xb device: xla:1\n",
            "model device: xla:1\n",
            "xb device: xla:1\n",
            "model device: xla:1\n",
            "xb device: xla:1\n",
            "model device: xla:1\n",
            "xb device: xla:1\n",
            "model device: xla:1\n",
            "xb device: xla:1\n",
            "model device: xla:1\n",
            "xb device: xla:1\n",
            "model device: xla:1\n",
            "xb device: xla:1\n",
            "model device: xla:1\n",
            "xb device: xla:1\n",
            "model device: xla:1\n",
            "xb device: xla:1\n",
            "model device: xla:1\n",
            "xb device: xla:1\n",
            "model device: xla:1\n",
            "xb device: xla:1\n",
            "model device: xla:1\n",
            "xb device: xla:1\n",
            "model device: xla:1\n",
            "xb device: xla:1\n",
            "model device: xla:1\n",
            "xb device: xla:1\n",
            "model device: xla:1\n",
            "xb device: xla:1\n",
            "model device: xla:1\n",
            "xb device: xla:1\n",
            "model device: xla:1\n",
            "xb device: xla:1\n",
            "model device: xla:1\n",
            "xb device: xla:1\n",
            "model device: xla:1\n",
            "xb device: xla:1\n",
            "model device: xla:1\n",
            "xb device: xla:1\n",
            "model device: xla:1\n",
            "xb device: xla:1\n",
            "model device: xla:1\n",
            "xb device: xla:1\n",
            "model device: xla:1\n",
            "xb device: xla:1\n",
            "model device: xla:1\n",
            "xb device: xla:1\n",
            "model device: xla:1\n",
            "xb device: xla:1\n",
            "model device: xla:1\n",
            "xb device: xla:1\n",
            "model device: xla:1\n",
            "xb device: xla:1\n",
            "model device: xla:1\n",
            "xb device: xla:1\n",
            "model device: xla:1\n",
            "xb device: xla:1\n",
            "model device: xla:1\n",
            "xb device: xla:1\n",
            "model device: xla:1\n",
            "xb device: xla:1\n",
            "model device: xla:1\n",
            "xb device: xla:1\n",
            "model device: xla:1\n",
            "xb device: xla:1\n",
            "model device: xla:1\n",
            "xb device: xla:1\n",
            "model device: xla:1\n",
            "xb device: xla:1\n",
            "model device: xla:1\n",
            "xb device: xla:1\n",
            "model device: xla:1\n",
            "xb device: xla:1\n",
            "model device: xla:1\n",
            "xb device: xla:1\n",
            "model device: xla:1\n",
            "xb device: xla:1\n",
            "model device: xla:1\n",
            "xb device: xla:1\n",
            "model device: xla:1\n",
            "xb device: xla:1\n",
            "model device: xla:1\n",
            "xb device: xla:1\n",
            "model device: xla:1\n",
            "xb device: xla:1\n",
            "model device: xla:1\n",
            "xb device: xla:1\n",
            "model device: xla:1\n",
            "xb device: xla:1\n",
            "model device: xla:1\n",
            "xb device: xla:1\n",
            "model device: xla:1\n",
            "xb device: xla:1\n",
            "model device: xla:1\n",
            "xb device: xla:1\n",
            "model device: xla:1\n",
            "xb device: xla:1\n",
            "model device: xla:1\n",
            "xb device: xla:1\n",
            "model device: xla:1\n",
            "xb device: xla:1\n",
            "model device: xla:1\n",
            "xb device: xla:1\n",
            "model device: xla:1\n",
            "xb device: xla:1\n",
            "model device: xla:1\n",
            "xb device: xla:1\n",
            "model device: xla:1\n",
            "xb device: xla:1\n",
            "model device: xla:1\n",
            "xb device: xla:1\n",
            "model device: xla:1\n",
            "xb device: xla:1\n",
            "model device: xla:1\n",
            "xb device: xla:1\n",
            "model device: xla:1\n",
            "xb device: xla:1\n",
            "model device: xla:1\n",
            "xb device: xla:1\n",
            "model device: xla:1\n",
            "xb device: xla:1\n",
            "model device: xla:1\n",
            "xb device: xla:1\n",
            "model device: xla:1\n",
            "xb device: xla:1\n",
            "model device: xla:1\n",
            "xb device: xla:1\n",
            "model device: xla:1\n",
            "xb device: xla:1\n",
            "model device: xla:1\n",
            "xb device: xla:1\n",
            "model device: xla:1\n",
            "xb device: xla:1\n",
            "model device: xla:1\n",
            "xb device: xla:1\n",
            "model device: xla:1\n",
            "xb device: xla:1\n",
            "model device: xla:1\n",
            "xb device: xla:1\n",
            "model device: xla:1\n",
            "xb device: xla:1\n",
            "model device: xla:1\n",
            "xb device: xla:1\n",
            "model device: xla:1\n",
            "xb device: xla:1\n",
            "model device: xla:1\n",
            "xb device: xla:1\n",
            "model device: xla:1\n",
            "xb device: xla:1\n",
            "model device: xla:1\n",
            "xb device: xla:1\n",
            "model device: xla:1\n",
            "xb device: xla:1\n",
            "model device: xla:1\n",
            "xb device: xla:1\n",
            "model device: xla:1\n",
            "xb device: xla:1\n",
            "model device: xla:1\n",
            "xb device: xla:1\n",
            "model device: xla:1\n",
            "xb device: xla:1\n",
            "model device: xla:1\n",
            "xb device: xla:1\n",
            "model device: xla:1\n",
            "xb device: xla:1\n",
            "model device: xla:1\n",
            "xb device: xla:1\n",
            "model device: xla:1\n",
            "xb device: xla:1\n",
            "model device: xla:1\n",
            "xb device: xla:1\n",
            "model device: xla:1\n",
            "xb device: xla:1\n",
            "model device: xla:1\n",
            "xb device: xla:1\n",
            "model device: xla:1\n",
            "xb device: xla:1\n",
            "model device: xla:1\n",
            "xb device: xla:1\n",
            "model device: xla:1\n",
            "xb device: xla:1\n",
            "model device: xla:1\n",
            "xb device: xla:1\n",
            "model device: xla:1\n",
            "xb device: xla:1\n",
            "model device: xla:1\n",
            "xb device: xla:1\n",
            "model device: xla:1\n",
            "xb device: xla:1\n",
            "model device: xla:1\n",
            "xb device: xla:1\n",
            "model device: xla:1\n",
            "xb device: xla:1\n",
            "model device: xla:1\n",
            "xb device: xla:1\n",
            "model device: xla:1\n",
            "xb device: xla:1\n",
            "model device: xla:1\n",
            "xb device: xla:1\n",
            "model device: xla:1\n",
            "xb device: xla:1\n",
            "model device: xla:1\n",
            "xb device: xla:1\n",
            "model device: xla:1\n",
            "xb device: xla:1\n",
            "model device: xla:1\n",
            "xb device: xla:1\n",
            "model device: xla:1\n",
            "xb device: xla:1\n",
            "model device: xla:1\n",
            "xb device: xla:1\n",
            "model device: xla:1\n",
            "xb device: xla:1\n",
            "model device: xla:1\n",
            "xb device: xla:1\n",
            "model device: xla:1\n",
            "xb device: xla:1\n",
            "model device: xla:1\n",
            "xb device: xla:1\n",
            "model device: xla:1\n",
            "xb device: xla:1\n",
            "model device: xla:1\n",
            "xb device: xla:1\n",
            "model device: xla:1\n",
            "xb device: xla:1\n",
            "model device: xla:1\n"
          ],
          "name": "stdout"
        }
      ]
    },
    {
      "cell_type": "code",
      "metadata": {
        "id": "FwqEIE9aA9ZT",
        "colab_type": "code",
        "colab": {}
      },
      "source": [
        ""
      ],
      "execution_count": null,
      "outputs": []
    }
  ]
}