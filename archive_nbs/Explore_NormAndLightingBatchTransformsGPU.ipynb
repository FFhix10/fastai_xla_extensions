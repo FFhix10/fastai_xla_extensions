{
  "nbformat": 4,
  "nbformat_minor": 0,
  "metadata": {
    "accelerator": "GPU",
    "colab": {
      "name": "Explore_NormAndLightingBatchTransformsGPU.ipynb",
      "provenance": [],
      "collapsed_sections": [],
      "toc_visible": true,
      "include_colab_link": true
    },
    "kernelspec": {
      "display_name": "Python 3",
      "language": "python",
      "name": "python3"
    },
    "language_info": {
      "codemirror_mode": {
        "name": "ipython",
        "version": 3
      },
      "file_extension": ".py",
      "mimetype": "text/x-python",
      "name": "python",
      "nbconvert_exporter": "python",
      "pygments_lexer": "ipython3",
      "version": "3.7.7"
    },
    "varInspector": {
      "cols": {
        "lenName": 16,
        "lenType": 16,
        "lenVar": 40
      },
      "kernels_config": {
        "python": {
          "delete_cmd_postfix": "",
          "delete_cmd_prefix": "del ",
          "library": "var_list.py",
          "varRefreshCmd": "print(var_dic_list())"
        },
        "r": {
          "delete_cmd_postfix": ") ",
          "delete_cmd_prefix": "rm(",
          "library": "var_list.r",
          "varRefreshCmd": "cat(var_dic_list()) "
        }
      },
      "types_to_exclude": [
        "module",
        "function",
        "builtin_function_or_method",
        "instance",
        "_Feature"
      ],
      "window_display": false
    }
  },
  "cells": [
    {
      "cell_type": "markdown",
      "metadata": {
        "id": "view-in-github",
        "colab_type": "text"
      },
      "source": [
        "<a href=\"https://colab.research.google.com/github/butchland/fastai_xla_extensions/blob/master/explore_nbs/Explore_NormAndLightingBatchTransformsGPU.ipynb\" target=\"_parent\"><img src=\"https://colab.research.google.com/assets/colab-badge.svg\" alt=\"Open In Colab\"/></a>"
      ]
    },
    {
      "cell_type": "code",
      "metadata": {
        "colab_type": "code",
        "id": "YM703MEF1orN",
        "colab": {
          "base_uri": "https://localhost:8080/",
          "height": 52
        },
        "outputId": "2f249162-9f49-49e8-f873-f28257bbc387"
      },
      "source": [
        "# colab\n",
        "!curl -s https://course.fast.ai/setup/colab | bash"
      ],
      "execution_count": 1,
      "outputs": [
        {
          "output_type": "stream",
          "text": [
            "Updating fastai...\n",
            "Done.\n"
          ],
          "name": "stdout"
        }
      ]
    },
    {
      "cell_type": "code",
      "metadata": {
        "colab_type": "code",
        "id": "UzDnzKRe2sp-",
        "colab": {}
      },
      "source": [
        "# colab\n",
        "# from google.colab import drive\n",
        "# drive.mount('/content/drive')"
      ],
      "execution_count": 2,
      "outputs": []
    },
    {
      "cell_type": "code",
      "metadata": {
        "colab_type": "code",
        "id": "a9fDYfqv3Cj7",
        "colab": {}
      },
      "source": [
        "#colab\n",
        "# import os\n",
        "# assert os.environ['COLAB_TPU_ADDR'], 'Make sure to select TPU from Edit > Notebook settings > Hardware accelerator'"
      ],
      "execution_count": 3,
      "outputs": []
    },
    {
      "cell_type": "code",
      "metadata": {
        "colab_type": "code",
        "id": "hATs2eDr3RTW",
        "colab": {}
      },
      "source": [
        "#colab\n",
        "# VERSION = \"20200325\"  #@param [\"1.5\" , \"20200325\", \"nightly\"]\n",
        "# !curl https://raw.githubusercontent.com/pytorch/xla/master/contrib/scripts/env-setup.py -o pytorch-xla-env-setup.py\n",
        "# !python pytorch-xla-env-setup.py --version $VERSION"
      ],
      "execution_count": 4,
      "outputs": []
    },
    {
      "cell_type": "code",
      "metadata": {
        "colab_type": "code",
        "id": "HbNXNmzw3daU",
        "colab": {
          "base_uri": "https://localhost:8080/",
          "height": 34
        },
        "outputId": "ce747316-a787-4493-d365-e756b52b8733"
      },
      "source": [
        "# colab\n",
        "!pip install fastai2 --upgrade > /dev/null\n",
        "!pip freeze | grep fastai2"
      ],
      "execution_count": 5,
      "outputs": [
        {
          "output_type": "stream",
          "text": [
            "fastai2==0.0.18\n"
          ],
          "name": "stdout"
        }
      ]
    },
    {
      "cell_type": "code",
      "metadata": {
        "colab_type": "code",
        "id": "Gy-t6zpR3gu0",
        "colab": {
          "base_uri": "https://localhost:8080/",
          "height": 34
        },
        "outputId": "8134ec7e-acb1-41af-a66d-767e073e9a09"
      },
      "source": [
        "#colab\n",
        "!pip install git+https://github.com/butchland/fastai_xla_extensions > /dev/null\n",
        "!pip freeze | grep fastai_xla_extensions"
      ],
      "execution_count": 6,
      "outputs": [
        {
          "output_type": "stream",
          "text": [
            "  Running command git clone -q https://github.com/butchland/fastai_xla_extensions /tmp/pip-req-build-9kxd1ru7\n"
          ],
          "name": "stdout"
        }
      ]
    },
    {
      "cell_type": "code",
      "metadata": {
        "id": "6XNQkm7JFy19",
        "colab_type": "code",
        "colab": {
          "base_uri": "https://localhost:8080/",
          "height": 34
        },
        "outputId": "c9c8efba-1354-4fbd-ae36-a9c0e973415d"
      },
      "source": [
        "#colab\n",
        "!pip install git+https://github.com/butchland/my_timesaver_utils > /dev/null\n",
        "!pip freeze | grep my_timesaver_utils"
      ],
      "execution_count": 7,
      "outputs": [
        {
          "output_type": "stream",
          "text": [
            "  Running command git clone -q https://github.com/butchland/my_timesaver_utils /tmp/pip-req-build-wo9czjfq\n"
          ],
          "name": "stdout"
        }
      ]
    },
    {
      "cell_type": "markdown",
      "metadata": {
        "colab_type": "text",
        "id": "kZzGjv7B5dJf"
      },
      "source": [
        "### Import Libraries"
      ]
    },
    {
      "cell_type": "code",
      "metadata": {
        "id": "gICdj40zFy2B",
        "colab_type": "code",
        "colab": {}
      },
      "source": [
        "%load_ext autoreload\n",
        "%autoreload 2"
      ],
      "execution_count": 8,
      "outputs": []
    },
    {
      "cell_type": "code",
      "metadata": {
        "colab_type": "code",
        "id": "W-mNGiOC5yKi",
        "colab": {}
      },
      "source": [
        "from fastai_xla_extensions.core import *"
      ],
      "execution_count": 9,
      "outputs": []
    },
    {
      "cell_type": "code",
      "metadata": {
        "colab_type": "code",
        "id": "_QpyaqUC5ibo",
        "colab": {}
      },
      "source": [
        "from fastai2.vision.all import *"
      ],
      "execution_count": 10,
      "outputs": []
    },
    {
      "cell_type": "code",
      "metadata": {
        "id": "SW3ttsDiFy2J",
        "colab_type": "code",
        "colab": {}
      },
      "source": [
        "from my_timesaver_utils.profiling import *"
      ],
      "execution_count": 11,
      "outputs": []
    },
    {
      "cell_type": "markdown",
      "metadata": {
        "colab_type": "text",
        "id": "4THQ3Hk056iJ"
      },
      "source": [
        "### Setup data"
      ]
    },
    {
      "cell_type": "code",
      "metadata": {
        "colab_type": "code",
        "id": "GMPe61C25_33",
        "colab": {
          "base_uri": "https://localhost:8080/",
          "height": 16
        },
        "outputId": "853b4e1c-e190-469c-9689-dbdbe5c86df6"
      },
      "source": [
        "path = untar_data(URLs.PETS)/'images'"
      ],
      "execution_count": 12,
      "outputs": [
        {
          "output_type": "display_data",
          "data": {
            "text/html": [
              ""
            ],
            "text/plain": [
              "<IPython.core.display.HTML object>"
            ]
          },
          "metadata": {
            "tags": []
          }
        }
      ]
    },
    {
      "cell_type": "markdown",
      "metadata": {
        "id": "MWwLWywjFy2O",
        "colab_type": "text"
      },
      "source": [
        "### Loop through batch and walk through batch transforms"
      ]
    },
    {
      "cell_type": "code",
      "metadata": {
        "id": "p4pvMbVaFy2P",
        "colab_type": "code",
        "colab": {}
      },
      "source": [
        "# from IPython.core.debugger import set_trace"
      ],
      "execution_count": 13,
      "outputs": []
    },
    {
      "cell_type": "code",
      "metadata": {
        "id": "8qRwYwodFy2R",
        "colab_type": "code",
        "colab": {}
      },
      "source": [
        "# TRACE = True"
      ],
      "execution_count": 14,
      "outputs": []
    },
    {
      "cell_type": "code",
      "metadata": {
        "id": "0O8wbkVtFy2U",
        "colab_type": "code",
        "colab": {}
      },
      "source": [
        "orig_randtransform_call = RandTransform.__call__\n",
        "def __call__(self, b, split_idx=None, **kwargs):\n",
        "    is_lighting_tfm = isinstance(self, LightingTfm) \n",
        "    if is_lighting_tfm:\n",
        "#         print(f'applying AffineCoordTfm call {self}')\n",
        "#         if TRACE: set_trace()\n",
        "        start_record('lighting_tfm_call')\n",
        "    results = orig_randtransform_call(self, b, split_idx, **kwargs)\n",
        "    if is_lighting_tfm:\n",
        "        end_record('lighting_tfm_call')\n",
        "    return results"
      ],
      "execution_count": 15,
      "outputs": []
    },
    {
      "cell_type": "code",
      "metadata": {
        "id": "AtPlkOysFy2X",
        "colab_type": "code",
        "colab": {}
      },
      "source": [
        "setattr(RandTransform,'__call__', __call__)"
      ],
      "execution_count": 16,
      "outputs": []
    },
    {
      "cell_type": "code",
      "metadata": {
        "id": "HPZbE5B1gSQ0",
        "colab_type": "code",
        "colab": {}
      },
      "source": [
        "# orig_normalize_encodes = Normalize.encodes\n",
        "\n",
        "# def encodes(self, x:TensorImage):\n",
        "#     start_record('normalize_encodes')\n",
        "#     results = orig_normalize_encodes(self,x)\n",
        "#     end_record('normalize_encodes')\n",
        "#     return results"
      ],
      "execution_count": 17,
      "outputs": []
    },
    {
      "cell_type": "code",
      "metadata": {
        "id": "dgxoNPCbgt33",
        "colab_type": "code",
        "colab": {}
      },
      "source": [
        "# setattr(Normalize,'encodes', encodes)"
      ],
      "execution_count": 18,
      "outputs": []
    },
    {
      "cell_type": "code",
      "metadata": {
        "id": "jMvquAfXFy2Z",
        "colab_type": "code",
        "colab": {}
      },
      "source": [
        "# def mycompose_tfms(x, tfms, is_enc=True, reverse=False, **kwargs):\n",
        "#     \"Apply all `func_nm` attribute of `tfms` on `x`, maybe in `reverse` order\"\n",
        "#     if reverse: tfms = reversed(tfms)\n",
        "#     for f in tfms:\n",
        "#         if not is_enc: f = f.decode\n",
        "#         if isinstance(f,AffineCoordTfm): \n",
        "#             print(f'applying {type(f)} {f} to {type(x)}')\n",
        "#             if TRACE:\n",
        "#                 set_trace()\n",
        "#         x = f(x, **kwargs)\n",
        "#     return x\n"
      ],
      "execution_count": 19,
      "outputs": []
    },
    {
      "cell_type": "code",
      "metadata": {
        "id": "tNkupUBDFy2c",
        "colab_type": "code",
        "colab": {}
      },
      "source": [
        "# @patch_to(Pipeline)\n",
        "# def __call__(self, o): return mycompose_tfms(o, tfms=self.fs, split_idx=self.split_idx)"
      ],
      "execution_count": 20,
      "outputs": []
    },
    {
      "cell_type": "code",
      "metadata": {
        "id": "czKSn6FvFy2e",
        "colab_type": "code",
        "colab": {}
      },
      "source": [
        "# TRACE = False"
      ],
      "execution_count": 21,
      "outputs": []
    },
    {
      "cell_type": "code",
      "metadata": {
        "id": "kekOoetVFy2h",
        "colab_type": "code",
        "colab": {
          "base_uri": "https://localhost:8080/",
          "height": 34
        },
        "outputId": "7d5c9a5f-0633-418d-fb9c-1d079aaa519a"
      },
      "source": [
        "batch_tfms = [*aug_transforms(max_zoom=1.0, max_warp=0., max_rotate=0., max_lighting=0.2,do_flip=False)]\n",
        "batch_tfms"
      ],
      "execution_count": 22,
      "outputs": [
        {
          "output_type": "execute_result",
          "data": {
            "text/plain": [
              "[LightingTfm: (TensorImage,object) -> encodes ]"
            ]
          },
          "metadata": {
            "tags": []
          },
          "execution_count": 22
        }
      ]
    },
    {
      "cell_type": "code",
      "metadata": {
        "id": "Sg6l66QlFy2k",
        "colab_type": "code",
        "colab": {
          "base_uri": "https://localhost:8080/",
          "height": 34
        },
        "outputId": "c5b2cd1b-4a13-4e61-ea89-b914bda273a9"
      },
      "source": [
        "batch_tfms[0].fs"
      ],
      "execution_count": 23,
      "outputs": [
        {
          "output_type": "execute_result",
          "data": {
            "text/plain": [
              "(#2) [<fastai2.vision.augment._BrightnessLogit object at 0x7f24239b1978>,<fastai2.vision.augment._ContrastLogit object at 0x7f24239b19e8>]"
            ]
          },
          "metadata": {
            "tags": []
          },
          "execution_count": 23
        }
      ]
    },
    {
      "cell_type": "markdown",
      "metadata": {
        "id": "OASDtAUuepHF",
        "colab_type": "text"
      },
      "source": [
        ""
      ]
    },
    {
      "cell_type": "code",
      "metadata": {
        "id": "gzE8FPUnbBDM",
        "colab_type": "code",
        "colab": {}
      },
      "source": [
        "pat = r'(.+)_\\d+.jpg$'"
      ],
      "execution_count": 24,
      "outputs": []
    },
    {
      "cell_type": "markdown",
      "metadata": {
        "id": "ED2B48gibBDP",
        "colab_type": "text"
      },
      "source": [
        "Create Fastai DataBlock\n",
        "\n",
        "\n",
        "_Note that batch transforms are currently\n",
        "set to none as they seem to slow the training\n",
        "on the TPU (for investigation)._"
      ]
    },
    {
      "cell_type": "code",
      "metadata": {
        "id": "6iY70GyibBDP",
        "colab_type": "code",
        "colab": {}
      },
      "source": [
        "datablock = DataBlock(\n",
        "    blocks=(ImageBlock,CategoryBlock),\n",
        "    get_items=get_image_files,\n",
        "    splitter=RandomSplitter(seed=42),\n",
        "    get_y=using_attr(RegexLabeller(pat),'name'),\n",
        "    item_tfms=Resize(224),\n",
        "    batch_tfms=batch_tfms\n",
        "   \n",
        ")"
      ],
      "execution_count": 25,
      "outputs": []
    },
    {
      "cell_type": "code",
      "metadata": {
        "id": "ZyyD8e_uFy2t",
        "colab_type": "code",
        "colab": {}
      },
      "source": [
        "print_prof_data()"
      ],
      "execution_count": 26,
      "outputs": []
    },
    {
      "cell_type": "code",
      "metadata": {
        "colab_type": "code",
        "id": "W6wBIWOB6WGA",
        "colab": {
          "base_uri": "https://localhost:8080/",
          "height": 941
        },
        "outputId": "da12bd36-8661-43cd-fb14-e927aaa6411a"
      },
      "source": [
        "datablock.summary(path)"
      ],
      "execution_count": 27,
      "outputs": [
        {
          "output_type": "stream",
          "text": [
            "Setting-up type transforms pipelines\n",
            "Collecting items from /root/.fastai/data/oxford-iiit-pet/images\n",
            "Found 7390 items\n",
            "2 datasets of sizes 5912,1478\n",
            "Setting up Pipeline: PILBase.create\n",
            "Setting up Pipeline: partial -> Categorize\n",
            "\n",
            "Building one sample\n",
            "  Pipeline: PILBase.create\n",
            "    starting from\n",
            "      /root/.fastai/data/oxford-iiit-pet/images/keeshond_181.jpg\n",
            "    applying PILBase.create gives\n",
            "      PILImage mode=RGB size=333x500\n",
            "  Pipeline: partial -> Categorize\n",
            "    starting from\n",
            "      /root/.fastai/data/oxford-iiit-pet/images/keeshond_181.jpg\n",
            "    applying partial gives\n",
            "      keeshond\n",
            "    applying Categorize gives\n",
            "      TensorCategory(24)\n",
            "\n",
            "Final sample: (PILImage mode=RGB size=333x500, TensorCategory(24))\n",
            "\n",
            "\n",
            "Setting up after_item: Pipeline: Resize -> ToTensor\n",
            "Setting up before_batch: Pipeline: \n",
            "Setting up after_batch: Pipeline: IntToFloatTensor -> LightingTfm\n",
            "\n",
            "Building one batch\n",
            "Applying item_tfms to the first sample:\n",
            "  Pipeline: Resize -> ToTensor\n",
            "    starting from\n",
            "      (PILImage mode=RGB size=333x500, TensorCategory(24))\n",
            "    applying Resize gives\n",
            "      (PILImage mode=RGB size=224x224, TensorCategory(24))\n",
            "    applying ToTensor gives\n",
            "      (TensorImage of size 3x224x224, TensorCategory(24))\n",
            "\n",
            "Adding the next 3 samples\n",
            "\n",
            "No before_batch transform to apply\n",
            "\n",
            "Collating items in a batch\n",
            "\n",
            "Applying batch_tfms to the batch built\n",
            "  Pipeline: IntToFloatTensor -> LightingTfm\n",
            "    starting from\n",
            "      (TensorImage of size 4x3x224x224, TensorCategory([24, 30, 30,  1], device='cuda:0'))\n",
            "    applying IntToFloatTensor gives\n",
            "      (TensorImage of size 4x3x224x224, TensorCategory([24, 30, 30,  1], device='cuda:0'))\n",
            "    applying LightingTfm gives\n",
            "      (TensorImage of size 4x3x224x224, TensorCategory([24, 30, 30,  1], device='cuda:0'))\n"
          ],
          "name": "stdout"
        }
      ]
    },
    {
      "cell_type": "code",
      "metadata": {
        "id": "nsuFC7FtFy2x",
        "colab_type": "code",
        "colab": {
          "base_uri": "https://localhost:8080/",
          "height": 52
        },
        "outputId": "8dc872b6-9380-4c9f-b3ef-8e420bac3169"
      },
      "source": [
        "print_prof_data()"
      ],
      "execution_count": 28,
      "outputs": [
        {
          "output_type": "stream",
          "text": [
            "Function lighting_tfm_call called 2 times.\n",
            "Execution time max: 0.065, average: 0.033\n"
          ],
          "name": "stdout"
        }
      ]
    },
    {
      "cell_type": "markdown",
      "metadata": {
        "colab_type": "text",
        "id": "34YlwcCt7kcK"
      },
      "source": [
        "### Setup DataLoaders"
      ]
    },
    {
      "cell_type": "code",
      "metadata": {
        "id": "TA69ozq2LE3A",
        "colab_type": "code",
        "colab": {}
      },
      "source": [
        "bs=256"
      ],
      "execution_count": 29,
      "outputs": []
    },
    {
      "cell_type": "code",
      "metadata": {
        "colab_type": "code",
        "id": "TyuC8el56a73",
        "colab": {}
      },
      "source": [
        "dls = datablock.dataloaders(path,bs=bs)"
      ],
      "execution_count": 30,
      "outputs": []
    },
    {
      "cell_type": "code",
      "metadata": {
        "id": "9DSZXnWSOqIJ",
        "colab_type": "code",
        "colab": {
          "base_uri": "https://localhost:8080/",
          "height": 34
        },
        "outputId": "1be59b72-78cf-4f5f-bf43-acb8fa86b575"
      },
      "source": [
        "dls.device"
      ],
      "execution_count": 31,
      "outputs": [
        {
          "output_type": "execute_result",
          "data": {
            "text/plain": [
              "device(type='cuda', index=0)"
            ]
          },
          "metadata": {
            "tags": []
          },
          "execution_count": 31
        }
      ]
    },
    {
      "cell_type": "code",
      "metadata": {
        "id": "8NgBg-29Fy22",
        "colab_type": "code",
        "colab": {
          "base_uri": "https://localhost:8080/",
          "height": 34
        },
        "outputId": "a14e8692-4687-4415-8158-2377aa6bf6f1"
      },
      "source": [
        "dls.train"
      ],
      "execution_count": 32,
      "outputs": [
        {
          "output_type": "execute_result",
          "data": {
            "text/plain": [
              "<fastai2.data.core.TfmdDL at 0x7f2423107240>"
            ]
          },
          "metadata": {
            "tags": []
          },
          "execution_count": 32
        }
      ]
    },
    {
      "cell_type": "code",
      "metadata": {
        "id": "D9MJTtWlFy25",
        "colab_type": "code",
        "colab": {}
      },
      "source": [
        "train_dl = dls.train"
      ],
      "execution_count": 33,
      "outputs": []
    },
    {
      "cell_type": "code",
      "metadata": {
        "id": "7WcRzvmiPWlF",
        "colab_type": "code",
        "colab": {
          "base_uri": "https://localhost:8080/",
          "height": 34
        },
        "outputId": "985a8853-905f-4b91-d344-8c99a9dec85e"
      },
      "source": [
        "train_dl.device"
      ],
      "execution_count": 34,
      "outputs": [
        {
          "output_type": "execute_result",
          "data": {
            "text/plain": [
              "device(type='cuda', index=0)"
            ]
          },
          "metadata": {
            "tags": []
          },
          "execution_count": 34
        }
      ]
    },
    {
      "cell_type": "code",
      "metadata": {
        "id": "p-c1hoZdFy28",
        "colab_type": "code",
        "colab": {}
      },
      "source": [
        "# def fetch_one_batch():\n",
        "#     if TRACE: set_trace()\n",
        "#     dl_iter = train_dl.__iter__()\n",
        "#     b = dl_iter.__next__()"
      ],
      "execution_count": 35,
      "outputs": []
    },
    {
      "cell_type": "code",
      "metadata": {
        "id": "hFFGsM8uFy2-",
        "colab_type": "code",
        "colab": {}
      },
      "source": [
        "# TRACE = False"
      ],
      "execution_count": 36,
      "outputs": []
    },
    {
      "cell_type": "code",
      "metadata": {
        "id": "wtZO1uEdFy3A",
        "colab_type": "code",
        "colab": {}
      },
      "source": [
        "clear_prof_data();print_prof_data()"
      ],
      "execution_count": 37,
      "outputs": []
    },
    {
      "cell_type": "code",
      "metadata": {
        "scrolled": true,
        "id": "2UCVvR7BFy3C",
        "colab_type": "code",
        "colab": {}
      },
      "source": [
        "# fetch_one_batch()"
      ],
      "execution_count": 38,
      "outputs": []
    },
    {
      "cell_type": "code",
      "metadata": {
        "id": "HFusL2hMFy3H",
        "colab_type": "code",
        "colab": {}
      },
      "source": [
        "# print_prof_data()"
      ],
      "execution_count": 39,
      "outputs": []
    },
    {
      "cell_type": "code",
      "metadata": {
        "id": "28uI3AH_Fy3L",
        "colab_type": "code",
        "colab": {}
      },
      "source": [
        "clear_prof_data(); print_prof_data()"
      ],
      "execution_count": 40,
      "outputs": []
    },
    {
      "cell_type": "code",
      "metadata": {
        "id": "j3PFlgx8Fy3N",
        "colab_type": "code",
        "colab": {}
      },
      "source": [
        "def fetch_all_batches():\n",
        "    for b in train_dl:\n",
        "        pass"
      ],
      "execution_count": 41,
      "outputs": []
    },
    {
      "cell_type": "code",
      "metadata": {
        "id": "67_1DV-nFy3Q",
        "colab_type": "code",
        "colab": {}
      },
      "source": [
        "fetch_all_batches()"
      ],
      "execution_count": 42,
      "outputs": []
    },
    {
      "cell_type": "code",
      "metadata": {
        "id": "AUw7h7PzFy3T",
        "colab_type": "code",
        "colab": {
          "base_uri": "https://localhost:8080/",
          "height": 52
        },
        "outputId": "162b5baf-67c4-42e0-e1c3-63b81a94df16"
      },
      "source": [
        "print_prof_data()"
      ],
      "execution_count": 43,
      "outputs": [
        {
          "output_type": "stream",
          "text": [
            "Function lighting_tfm_call called 23 times.\n",
            "Execution time max: 0.034, average: 0.007\n"
          ],
          "name": "stdout"
        }
      ]
    },
    {
      "cell_type": "code",
      "metadata": {
        "id": "kZ8mcTQuFy3W",
        "colab_type": "code",
        "colab": {}
      },
      "source": [
        "times = get_prof_data('lighting_tfm_call')"
      ],
      "execution_count": 44,
      "outputs": []
    },
    {
      "cell_type": "code",
      "metadata": {
        "id": "AfNSKU1GjDSZ",
        "colab_type": "code",
        "colab": {}
      },
      "source": [
        "# times2 = get_prof_data('normalize_encodes')"
      ],
      "execution_count": 45,
      "outputs": []
    },
    {
      "cell_type": "code",
      "metadata": {
        "id": "7gFqeFI-LzlO",
        "colab_type": "code",
        "colab": {}
      },
      "source": [
        "import matplotlib.pyplot as plt"
      ],
      "execution_count": 46,
      "outputs": []
    },
    {
      "cell_type": "code",
      "metadata": {
        "id": "lEc3dhc7L342",
        "colab_type": "code",
        "colab": {
          "base_uri": "https://localhost:8080/",
          "height": 425
        },
        "outputId": "2b90449b-ddd8-49bc-b0c3-36c33fdcb32a"
      },
      "source": [
        "times"
      ],
      "execution_count": 47,
      "outputs": [
        {
          "output_type": "execute_result",
          "data": {
            "text/plain": [
              "[0.03354525566101074,\n",
              " 0.010464191436767578,\n",
              " 0.003337860107421875,\n",
              " 0.0029904842376708984,\n",
              " 0.0027785301208496094,\n",
              " 0.0031538009643554688,\n",
              " 0.003044605255126953,\n",
              " 0.0029404163360595703,\n",
              " 0.0027670860290527344,\n",
              " 0.006046772003173828,\n",
              " 0.0038373470306396484,\n",
              " 0.0027108192443847656,\n",
              " 0.0028047561645507812,\n",
              " 0.012087345123291016,\n",
              " 0.002945423126220703,\n",
              " 0.007991552352905273,\n",
              " 0.015125513076782227,\n",
              " 0.003338336944580078,\n",
              " 0.0031206607818603516,\n",
              " 0.013948678970336914,\n",
              " 0.009888172149658203,\n",
              " 0.0031495094299316406,\n",
              " 0.001965045928955078]"
            ]
          },
          "metadata": {
            "tags": []
          },
          "execution_count": 47
        }
      ]
    },
    {
      "cell_type": "code",
      "metadata": {
        "id": "rfhue7F-L8Te",
        "colab_type": "code",
        "colab": {
          "base_uri": "https://localhost:8080/",
          "height": 268
        },
        "outputId": "54608cbd-c1f6-4767-980a-b15afcbb4ec4"
      },
      "source": [
        "plt.plot(times);"
      ],
      "execution_count": 48,
      "outputs": [
        {
          "output_type": "display_data",
          "data": {
            "image/png": "[encoded data removed]",
            "text/plain": [
              "<Figure size 432x288 with 1 Axes>"
            ]
          },
          "metadata": {
            "tags": [],
            "needs_background": "light"
          }
        }
      ]
    },
    {
      "cell_type": "code",
      "metadata": {
        "id": "sGjWCDM3jLWS",
        "colab_type": "code",
        "colab": {}
      },
      "source": [
        "# times2"
      ],
      "execution_count": 49,
      "outputs": []
    },
    {
      "cell_type": "code",
      "metadata": {
        "id": "hontRyTuL_zF",
        "colab_type": "code",
        "colab": {}
      },
      "source": [
        "# plt.plot(times2);"
      ],
      "execution_count": 50,
      "outputs": []
    }
  ]
}