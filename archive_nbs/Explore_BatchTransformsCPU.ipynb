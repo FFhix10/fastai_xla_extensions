{
  "nbformat": 4,
  "nbformat_minor": 0,
  "metadata": {
    "colab": {
      "name": "Explore_BatchTransformsCPU.ipynb",
      "provenance": [],
      "collapsed_sections": [],
      "toc_visible": true,
      "include_colab_link": true
    },
    "kernelspec": {
      "display_name": "Python 3",
      "language": "python",
      "name": "python3"
    },
    "language_info": {
      "codemirror_mode": {
        "name": "ipython",
        "version": 3
      },
      "file_extension": ".py",
      "mimetype": "text/x-python",
      "name": "python",
      "nbconvert_exporter": "python",
      "pygments_lexer": "ipython3",
      "version": "3.7.7"
    },
    "varInspector": {
      "cols": {
        "lenName": 16,
        "lenType": 16,
        "lenVar": 40
      },
      "kernels_config": {
        "python": {
          "delete_cmd_postfix": "",
          "delete_cmd_prefix": "del ",
          "library": "var_list.py",
          "varRefreshCmd": "print(var_dic_list())"
        },
        "r": {
          "delete_cmd_postfix": ") ",
          "delete_cmd_prefix": "rm(",
          "library": "var_list.r",
          "varRefreshCmd": "cat(var_dic_list()) "
        }
      },
      "types_to_exclude": [
        "module",
        "function",
        "builtin_function_or_method",
        "instance",
        "_Feature"
      ],
      "window_display": false
    }
  },
  "cells": [
    {
      "cell_type": "markdown",
      "metadata": {
        "id": "view-in-github",
        "colab_type": "text"
      },
      "source": [
        "<a href=\"https://colab.research.google.com/github/butchland/fastai_xla_extensions/blob/master/explore_nbs/Explore_BatchTransformsCPU.ipynb\" target=\"_parent\"><img src=\"https://colab.research.google.com/assets/colab-badge.svg\" alt=\"Open In Colab\"/></a>"
      ]
    },
    {
      "cell_type": "code",
      "metadata": {
        "colab_type": "code",
        "id": "YM703MEF1orN",
        "colab": {
          "base_uri": "https://localhost:8080/",
          "height": 52
        },
        "outputId": "d451be77-2076-4a14-eadf-764b7139f3c2"
      },
      "source": [
        "# colab\n",
        "!curl -s https://course.fast.ai/setup/colab | bash"
      ],
      "execution_count": 1,
      "outputs": [
        {
          "output_type": "stream",
          "text": [
            "Updating fastai...\n",
            "Done.\n"
          ],
          "name": "stdout"
        }
      ]
    },
    {
      "cell_type": "code",
      "metadata": {
        "colab_type": "code",
        "id": "UzDnzKRe2sp-",
        "colab": {
          "base_uri": "https://localhost:8080/",
          "height": 125
        },
        "outputId": "5feac9d8-e539-472f-897b-0317c950af8b"
      },
      "source": [
        "# colab\n",
        "from google.colab import drive\n",
        "drive.mount('/content/drive')"
      ],
      "execution_count": 2,
      "outputs": [
        {
          "output_type": "stream",
          "text": [
            "Go to this URL in a browser: https://accounts.google.com/o/oauth2/auth?client_id=947318989803-6bn6qk8qdgf4n4g3pfee6491hc0brc4i.apps.googleusercontent.com&redirect_uri=urn%3aietf%3awg%3aoauth%3a2.0%3aoob&response_type=code&scope=email%20https%3a%2f%2fwww.googleapis.com%2fauth%2fdocs.test%20https%3a%2f%2fwww.googleapis.com%2fauth%2fdrive%20https%3a%2f%2fwww.googleapis.com%2fauth%2fdrive.photos.readonly%20https%3a%2f%2fwww.googleapis.com%2fauth%2fpeopleapi.readonly\n",
            "\n",
            "Enter your authorization code:\n",
            "··········\n",
            "Mounted at /content/drive\n"
          ],
          "name": "stdout"
        }
      ]
    },
    {
      "cell_type": "code",
      "metadata": {
        "colab_type": "code",
        "id": "a9fDYfqv3Cj7",
        "colab": {}
      },
      "source": [
        "#colab\n",
        "# import os\n",
        "# assert os.environ['COLAB_TPU_ADDR'], 'Make sure to select TPU from Edit > Notebook settings > Hardware accelerator'"
      ],
      "execution_count": 3,
      "outputs": []
    },
    {
      "cell_type": "code",
      "metadata": {
        "colab_type": "code",
        "id": "hATs2eDr3RTW",
        "colab": {}
      },
      "source": [
        "#colab\n",
        "# VERSION = \"20200325\"  #@param [\"1.5\" , \"20200325\", \"nightly\"]\n",
        "# !curl https://raw.githubusercontent.com/pytorch/xla/master/contrib/scripts/env-setup.py -o pytorch-xla-env-setup.py\n",
        "# !python pytorch-xla-env-setup.py --version $VERSION"
      ],
      "execution_count": 4,
      "outputs": []
    },
    {
      "cell_type": "code",
      "metadata": {
        "colab_type": "code",
        "id": "HbNXNmzw3daU",
        "colab": {
          "base_uri": "https://localhost:8080/",
          "height": 34
        },
        "outputId": "d8dde09b-c631-48a6-8fe2-0d1e012295ec"
      },
      "source": [
        "# colab\n",
        "!pip install fastai2 --upgrade > /dev/null\n",
        "!pip freeze | grep fastai2"
      ],
      "execution_count": 5,
      "outputs": [
        {
          "output_type": "stream",
          "text": [
            "fastai2==0.0.18\n"
          ],
          "name": "stdout"
        }
      ]
    },
    {
      "cell_type": "code",
      "metadata": {
        "colab_type": "code",
        "id": "Gy-t6zpR3gu0",
        "colab": {
          "base_uri": "https://localhost:8080/",
          "height": 34
        },
        "outputId": "197d78fd-01ae-4d23-c583-c952dc88fd61"
      },
      "source": [
        "#colab\n",
        "!pip install git+https://github.com/butchland/fastai_xla_extensions > /dev/null\n",
        "!pip freeze | grep fastai_xla_extensions"
      ],
      "execution_count": 6,
      "outputs": [
        {
          "output_type": "stream",
          "text": [
            "  Running command git clone -q https://github.com/butchland/fastai_xla_extensions /tmp/pip-req-build-q7oaou2g\n"
          ],
          "name": "stdout"
        }
      ]
    },
    {
      "cell_type": "code",
      "metadata": {
        "id": "6XNQkm7JFy19",
        "colab_type": "code",
        "colab": {
          "base_uri": "https://localhost:8080/",
          "height": 34
        },
        "outputId": "f69898e3-0c9b-406e-ee7b-7aa63f1f86a1"
      },
      "source": [
        "#colab\n",
        "!pip install git+https://github.com/butchland/my_timesaver_utils > /dev/null\n",
        "!pip freeze | grep my_timesaver_utils"
      ],
      "execution_count": 7,
      "outputs": [
        {
          "output_type": "stream",
          "text": [
            "  Running command git clone -q https://github.com/butchland/my_timesaver_utils /tmp/pip-req-build-d55rak__\n"
          ],
          "name": "stdout"
        }
      ]
    },
    {
      "cell_type": "markdown",
      "metadata": {
        "colab_type": "text",
        "id": "kZzGjv7B5dJf"
      },
      "source": [
        "### Import Libraries"
      ]
    },
    {
      "cell_type": "code",
      "metadata": {
        "id": "gICdj40zFy2B",
        "colab_type": "code",
        "colab": {}
      },
      "source": [
        "%load_ext autoreload\n",
        "%autoreload 2"
      ],
      "execution_count": 8,
      "outputs": []
    },
    {
      "cell_type": "code",
      "metadata": {
        "colab_type": "code",
        "id": "_QpyaqUC5ibo",
        "colab": {}
      },
      "source": [
        "from fastai2.vision.all import *"
      ],
      "execution_count": 9,
      "outputs": []
    },
    {
      "cell_type": "code",
      "metadata": {
        "colab_type": "code",
        "id": "W-mNGiOC5yKi",
        "colab": {}
      },
      "source": [
        "from fastai_xla_extensions.core import *"
      ],
      "execution_count": 10,
      "outputs": []
    },
    {
      "cell_type": "code",
      "metadata": {
        "id": "SW3ttsDiFy2J",
        "colab_type": "code",
        "colab": {}
      },
      "source": [
        "from my_timesaver_utils.profiling import *"
      ],
      "execution_count": 11,
      "outputs": []
    },
    {
      "cell_type": "markdown",
      "metadata": {
        "colab_type": "text",
        "id": "4THQ3Hk056iJ"
      },
      "source": [
        "### Setup data"
      ]
    },
    {
      "cell_type": "code",
      "metadata": {
        "colab_type": "code",
        "id": "GMPe61C25_33",
        "colab": {
          "base_uri": "https://localhost:8080/",
          "height": 16
        },
        "outputId": "e0465855-8d69-4693-d07d-3f3e2d65b76d"
      },
      "source": [
        "path = untar_data(URLs.PETS)/'images'"
      ],
      "execution_count": 12,
      "outputs": [
        {
          "output_type": "display_data",
          "data": {
            "text/html": [
              ""
            ],
            "text/plain": [
              "<IPython.core.display.HTML object>"
            ]
          },
          "metadata": {
            "tags": []
          }
        }
      ]
    },
    {
      "cell_type": "markdown",
      "metadata": {
        "id": "MWwLWywjFy2O",
        "colab_type": "text"
      },
      "source": [
        "### Loop through batch and walk through batch transforms"
      ]
    },
    {
      "cell_type": "code",
      "metadata": {
        "id": "p4pvMbVaFy2P",
        "colab_type": "code",
        "colab": {}
      },
      "source": [
        "# from IPython.core.debugger import set_trace"
      ],
      "execution_count": 13,
      "outputs": []
    },
    {
      "cell_type": "code",
      "metadata": {
        "id": "8qRwYwodFy2R",
        "colab_type": "code",
        "colab": {}
      },
      "source": [
        "# TRACE = True"
      ],
      "execution_count": 14,
      "outputs": []
    },
    {
      "cell_type": "code",
      "metadata": {
        "id": "0O8wbkVtFy2U",
        "colab_type": "code",
        "colab": {}
      },
      "source": [
        "orig_randtransform_call = RandTransform.__call__\n",
        "def __call__(self, b, split_idx=None, **kwargs):\n",
        "    is_affine_tfm = isinstance(self, AffineCoordTfm)\n",
        "    if is_affine_tfm:\n",
        "#         print(f'applying AffineCoordTfm call {self}')\n",
        "#         if TRACE: set_trace()\n",
        "        start_record('affine_tfm_call')\n",
        "    results = orig_randtransform_call(self, b, split_idx, **kwargs)\n",
        "    if is_affine_tfm:\n",
        "        end_record('affine_tfm_call')\n",
        "    return results"
      ],
      "execution_count": 15,
      "outputs": []
    },
    {
      "cell_type": "code",
      "metadata": {
        "id": "AtPlkOysFy2X",
        "colab_type": "code",
        "colab": {}
      },
      "source": [
        "setattr(RandTransform,'__call__', __call__)"
      ],
      "execution_count": 16,
      "outputs": []
    },
    {
      "cell_type": "code",
      "metadata": {
        "id": "jMvquAfXFy2Z",
        "colab_type": "code",
        "colab": {}
      },
      "source": [
        "# def mycompose_tfms(x, tfms, is_enc=True, reverse=False, **kwargs):\n",
        "#     \"Apply all `func_nm` attribute of `tfms` on `x`, maybe in `reverse` order\"\n",
        "#     if reverse: tfms = reversed(tfms)\n",
        "#     for f in tfms:\n",
        "#         if not is_enc: f = f.decode\n",
        "#         if isinstance(f,AffineCoordTfm): \n",
        "#             print(f'applying {type(f)} {f} to {type(x)}')\n",
        "#             if TRACE:\n",
        "#                 set_trace()\n",
        "#         x = f(x, **kwargs)\n",
        "#     return x\n"
      ],
      "execution_count": 17,
      "outputs": []
    },
    {
      "cell_type": "code",
      "metadata": {
        "id": "tNkupUBDFy2c",
        "colab_type": "code",
        "colab": {}
      },
      "source": [
        "# @patch_to(Pipeline)\n",
        "# def __call__(self, o): return mycompose_tfms(o, tfms=self.fs, split_idx=self.split_idx)"
      ],
      "execution_count": 18,
      "outputs": []
    },
    {
      "cell_type": "code",
      "metadata": {
        "id": "czKSn6FvFy2e",
        "colab_type": "code",
        "colab": {}
      },
      "source": [
        "# TRACE = False"
      ],
      "execution_count": 19,
      "outputs": []
    },
    {
      "cell_type": "code",
      "metadata": {
        "id": "kekOoetVFy2h",
        "colab_type": "code",
        "colab": {
          "base_uri": "https://localhost:8080/",
          "height": 87
        },
        "outputId": "c868e1d8-fb51-4d85-b23f-97308ec25b06"
      },
      "source": [
        "batch_tfms = aug_transforms(max_zoom=1.1, max_warp=0., max_rotate=0., max_lighting=0.0,do_flip=False)\n",
        "batch_tfms"
      ],
      "execution_count": 20,
      "outputs": [
        {
          "output_type": "execute_result",
          "data": {
            "text/plain": [
              "[AffineCoordTfm: (TensorBBox,object) -> encodes\n",
              " (TensorPoint,object) -> encodes\n",
              " (TensorImage,object) -> encodes\n",
              " (TensorMask,object) -> encodes ]"
            ]
          },
          "metadata": {
            "tags": []
          },
          "execution_count": 20
        }
      ]
    },
    {
      "cell_type": "code",
      "metadata": {
        "id": "Sg6l66QlFy2k",
        "colab_type": "code",
        "colab": {
          "base_uri": "https://localhost:8080/",
          "height": 54
        },
        "outputId": "30ca7bb5-fdc6-48b7-e3ac-f6b8c1d2a5fb"
      },
      "source": [
        "batch_tfms[0].aff_fs"
      ],
      "execution_count": 21,
      "outputs": [
        {
          "output_type": "execute_result",
          "data": {
            "text/plain": [
              "(#1) [functools.partial(<function zoom_mat at 0x7f2c661e01e0>, min_zoom=1.0, max_zoom=1.1, p=0.75, draw=None, draw_x=None, draw_y=None, batch=False)]"
            ]
          },
          "metadata": {
            "tags": []
          },
          "execution_count": 21
        }
      ]
    },
    {
      "cell_type": "code",
      "metadata": {
        "id": "eszuIcqEFy2n",
        "colab_type": "code",
        "colab": {
          "base_uri": "https://localhost:8080/",
          "height": 34
        },
        "outputId": "e4796817-2c69-4552-edcc-a5f3bc4714ed"
      },
      "source": [
        "batch_tfms[0].coord_fs"
      ],
      "execution_count": 22,
      "outputs": [
        {
          "output_type": "execute_result",
          "data": {
            "text/plain": [
              "(#0) []"
            ]
          },
          "metadata": {
            "tags": []
          },
          "execution_count": 22
        }
      ]
    },
    {
      "cell_type": "code",
      "metadata": {
        "id": "gzE8FPUnbBDM",
        "colab_type": "code",
        "colab": {}
      },
      "source": [
        "pat = r'(.+)_\\d+.jpg$'"
      ],
      "execution_count": 23,
      "outputs": []
    },
    {
      "cell_type": "markdown",
      "metadata": {
        "id": "ED2B48gibBDP",
        "colab_type": "text"
      },
      "source": [
        "Create Fastai DataBlock\n",
        "\n",
        "\n",
        "_Note that batch transforms are currently\n",
        "set to none as they seem to slow the training\n",
        "on the TPU (for investigation)._"
      ]
    },
    {
      "cell_type": "code",
      "metadata": {
        "id": "6iY70GyibBDP",
        "colab_type": "code",
        "colab": {}
      },
      "source": [
        "datablock = DataBlock(\n",
        "    blocks=(ImageBlock,CategoryBlock),\n",
        "    get_items=get_image_files,\n",
        "    splitter=RandomSplitter(seed=42),\n",
        "    get_y=using_attr(RegexLabeller(pat),'name'),\n",
        "    item_tfms=Resize(224),\n",
        "    batch_tfms=batch_tfms\n",
        "   \n",
        ")"
      ],
      "execution_count": 24,
      "outputs": []
    },
    {
      "cell_type": "code",
      "metadata": {
        "id": "ZyyD8e_uFy2t",
        "colab_type": "code",
        "colab": {}
      },
      "source": [
        "print_prof_data()"
      ],
      "execution_count": 25,
      "outputs": []
    },
    {
      "cell_type": "code",
      "metadata": {
        "colab_type": "code",
        "id": "W6wBIWOB6WGA",
        "colab": {
          "base_uri": "https://localhost:8080/",
          "height": 941
        },
        "outputId": "3e359343-224d-4052-bc1b-53d47ee8a1f4"
      },
      "source": [
        "datablock.summary(path)"
      ],
      "execution_count": 26,
      "outputs": [
        {
          "output_type": "stream",
          "text": [
            "Setting-up type transforms pipelines\n",
            "Collecting items from /root/.fastai/data/oxford-iiit-pet/images\n",
            "Found 7390 items\n",
            "2 datasets of sizes 5912,1478\n",
            "Setting up Pipeline: PILBase.create\n",
            "Setting up Pipeline: partial -> Categorize\n",
            "\n",
            "Building one sample\n",
            "  Pipeline: PILBase.create\n",
            "    starting from\n",
            "      /root/.fastai/data/oxford-iiit-pet/images/saint_bernard_36.jpg\n",
            "    applying PILBase.create gives\n",
            "      PILImage mode=RGB size=500x333\n",
            "  Pipeline: partial -> Categorize\n",
            "    starting from\n",
            "      /root/.fastai/data/oxford-iiit-pet/images/saint_bernard_36.jpg\n",
            "    applying partial gives\n",
            "      saint_bernard\n",
            "    applying Categorize gives\n",
            "      TensorCategory(30)\n",
            "\n",
            "Final sample: (PILImage mode=RGB size=500x333, TensorCategory(30))\n",
            "\n",
            "\n",
            "Setting up after_item: Pipeline: Resize -> ToTensor\n",
            "Setting up before_batch: Pipeline: \n",
            "Setting up after_batch: Pipeline: IntToFloatTensor -> AffineCoordTfm\n",
            "\n",
            "Building one batch\n",
            "Applying item_tfms to the first sample:\n",
            "  Pipeline: Resize -> ToTensor\n",
            "    starting from\n",
            "      (PILImage mode=RGB size=500x333, TensorCategory(30))\n",
            "    applying Resize gives\n",
            "      (PILImage mode=RGB size=224x224, TensorCategory(30))\n",
            "    applying ToTensor gives\n",
            "      (TensorImage of size 3x224x224, TensorCategory(30))\n",
            "\n",
            "Adding the next 3 samples\n",
            "\n",
            "No before_batch transform to apply\n",
            "\n",
            "Collating items in a batch\n",
            "\n",
            "Applying batch_tfms to the batch built\n",
            "  Pipeline: IntToFloatTensor -> AffineCoordTfm\n",
            "    starting from\n",
            "      (TensorImage of size 4x3x224x224, TensorCategory([30, 21, 35, 14]))\n",
            "    applying IntToFloatTensor gives\n",
            "      (TensorImage of size 4x3x224x224, TensorCategory([30, 21, 35, 14]))\n",
            "    applying AffineCoordTfm gives\n",
            "      (TensorImage of size 4x3x224x224, TensorCategory([30, 21, 35, 14]))\n"
          ],
          "name": "stdout"
        }
      ]
    },
    {
      "cell_type": "code",
      "metadata": {
        "id": "nsuFC7FtFy2x",
        "colab_type": "code",
        "colab": {
          "base_uri": "https://localhost:8080/",
          "height": 52
        },
        "outputId": "22e62450-d945-4aac-8158-0c7edca4149f"
      },
      "source": [
        "print_prof_data()"
      ],
      "execution_count": 27,
      "outputs": [
        {
          "output_type": "stream",
          "text": [
            "Function affine_tfm_call called 2 times.\n",
            "Execution time max: 0.088, average: 0.052\n"
          ],
          "name": "stdout"
        }
      ]
    },
    {
      "cell_type": "markdown",
      "metadata": {
        "colab_type": "text",
        "id": "34YlwcCt7kcK"
      },
      "source": [
        "### Setup DataLoaders"
      ]
    },
    {
      "cell_type": "code",
      "metadata": {
        "id": "TA69ozq2LE3A",
        "colab_type": "code",
        "colab": {}
      },
      "source": [
        "bs=256"
      ],
      "execution_count": 28,
      "outputs": []
    },
    {
      "cell_type": "code",
      "metadata": {
        "colab_type": "code",
        "id": "TyuC8el56a73",
        "colab": {}
      },
      "source": [
        "dls = datablock.dataloaders(path,bs=bs)"
      ],
      "execution_count": 29,
      "outputs": []
    },
    {
      "cell_type": "code",
      "metadata": {
        "id": "8NgBg-29Fy22",
        "colab_type": "code",
        "colab": {
          "base_uri": "https://localhost:8080/",
          "height": 34
        },
        "outputId": "ea96ea6a-45c2-4c56-ef62-050ca46d2898"
      },
      "source": [
        "dls.train"
      ],
      "execution_count": 30,
      "outputs": [
        {
          "output_type": "execute_result",
          "data": {
            "text/plain": [
              "<fastai2.data.core.TfmdDL at 0x7f2c6553da20>"
            ]
          },
          "metadata": {
            "tags": []
          },
          "execution_count": 30
        }
      ]
    },
    {
      "cell_type": "code",
      "metadata": {
        "id": "D9MJTtWlFy25",
        "colab_type": "code",
        "colab": {}
      },
      "source": [
        "train_dl = dls.train"
      ],
      "execution_count": 31,
      "outputs": []
    },
    {
      "cell_type": "code",
      "metadata": {
        "id": "p-c1hoZdFy28",
        "colab_type": "code",
        "colab": {}
      },
      "source": [
        "# def fetch_one_batch():\n",
        "#     if TRACE: set_trace()\n",
        "#     dl_iter = train_dl.__iter__()\n",
        "#     b = dl_iter.__next__()"
      ],
      "execution_count": 32,
      "outputs": []
    },
    {
      "cell_type": "code",
      "metadata": {
        "id": "hFFGsM8uFy2-",
        "colab_type": "code",
        "colab": {}
      },
      "source": [
        "# TRACE = False"
      ],
      "execution_count": 33,
      "outputs": []
    },
    {
      "cell_type": "code",
      "metadata": {
        "id": "wtZO1uEdFy3A",
        "colab_type": "code",
        "colab": {}
      },
      "source": [
        "clear_prof_data();print_prof_data()"
      ],
      "execution_count": 34,
      "outputs": []
    },
    {
      "cell_type": "code",
      "metadata": {
        "scrolled": true,
        "id": "2UCVvR7BFy3C",
        "colab_type": "code",
        "colab": {}
      },
      "source": [
        "# fetch_one_batch()"
      ],
      "execution_count": 35,
      "outputs": []
    },
    {
      "cell_type": "code",
      "metadata": {
        "id": "HFusL2hMFy3H",
        "colab_type": "code",
        "colab": {}
      },
      "source": [
        "# print_prof_data()"
      ],
      "execution_count": 36,
      "outputs": []
    },
    {
      "cell_type": "code",
      "metadata": {
        "id": "28uI3AH_Fy3L",
        "colab_type": "code",
        "colab": {}
      },
      "source": [
        "clear_prof_data(); print_prof_data()"
      ],
      "execution_count": 37,
      "outputs": []
    },
    {
      "cell_type": "code",
      "metadata": {
        "id": "j3PFlgx8Fy3N",
        "colab_type": "code",
        "colab": {}
      },
      "source": [
        "def fetch_all_batches():\n",
        "    for b in train_dl:\n",
        "        pass"
      ],
      "execution_count": 38,
      "outputs": []
    },
    {
      "cell_type": "code",
      "metadata": {
        "id": "67_1DV-nFy3Q",
        "colab_type": "code",
        "colab": {}
      },
      "source": [
        "fetch_all_batches()"
      ],
      "execution_count": 39,
      "outputs": []
    },
    {
      "cell_type": "code",
      "metadata": {
        "id": "AUw7h7PzFy3T",
        "colab_type": "code",
        "colab": {
          "base_uri": "https://localhost:8080/",
          "height": 52
        },
        "outputId": "18a52e7d-092b-40ae-f4f3-4e0d8d16c595"
      },
      "source": [
        "print_prof_data()"
      ],
      "execution_count": 40,
      "outputs": [
        {
          "output_type": "stream",
          "text": [
            "Function affine_tfm_call called 23 times.\n",
            "Execution time max: 1.414, average: 1.119\n"
          ],
          "name": "stdout"
        }
      ]
    },
    {
      "cell_type": "code",
      "metadata": {
        "id": "kZ8mcTQuFy3W",
        "colab_type": "code",
        "colab": {}
      },
      "source": [
        "times = get_prof_data('affine_tfm_call')"
      ],
      "execution_count": 41,
      "outputs": []
    },
    {
      "cell_type": "code",
      "metadata": {
        "id": "7gFqeFI-LzlO",
        "colab_type": "code",
        "colab": {}
      },
      "source": [
        "import matplotlib.pyplot as plt"
      ],
      "execution_count": 42,
      "outputs": []
    },
    {
      "cell_type": "code",
      "metadata": {
        "id": "lEc3dhc7L342",
        "colab_type": "code",
        "colab": {
          "base_uri": "https://localhost:8080/",
          "height": 425
        },
        "outputId": "32e325f7-e539-43dd-f2cc-67241cf767aa"
      },
      "source": [
        "times"
      ],
      "execution_count": 43,
      "outputs": [
        {
          "output_type": "execute_result",
          "data": {
            "text/plain": [
              "[1.413808822631836,\n",
              " 1.3836376667022705,\n",
              " 1.1409990787506104,\n",
              " 1.0434458255767822,\n",
              " 1.3221657276153564,\n",
              " 1.2539639472961426,\n",
              " 1.1456718444824219,\n",
              " 1.1149804592132568,\n",
              " 1.3068101406097412,\n",
              " 0.963508129119873,\n",
              " 1.3023273944854736,\n",
              " 1.0504908561706543,\n",
              " 1.0850541591644287,\n",
              " 1.0421676635742188,\n",
              " 1.1639914512634277,\n",
              " 1.1500401496887207,\n",
              " 1.1603760719299316,\n",
              " 1.2860610485076904,\n",
              " 1.1756978034973145,\n",
              " 1.1091728210449219,\n",
              " 0.7916491031646729,\n",
              " 0.8026056289672852,\n",
              " 0.5393807888031006]"
            ]
          },
          "metadata": {
            "tags": []
          },
          "execution_count": 43
        }
      ]
    },
    {
      "cell_type": "code",
      "metadata": {
        "id": "rfhue7F-L8Te",
        "colab_type": "code",
        "colab": {
          "base_uri": "https://localhost:8080/",
          "height": 264
        },
        "outputId": "564bcbba-5dbd-43fd-ceae-8bd8e7121138"
      },
      "source": [
        "plt.plot(times);"
      ],
      "execution_count": 44,
      "outputs": [
        {
          "output_type": "display_data",
          "data": {
            "image/png": "[encoded data removed]",
            "text/plain": [
              "<Figure size 432x288 with 1 Axes>"
            ]
          },
          "metadata": {
            "tags": [],
            "needs_background": "light"
          }
        }
      ]
    },
    {
      "cell_type": "code",
      "metadata": {
        "id": "hontRyTuL_zF",
        "colab_type": "code",
        "colab": {
          "base_uri": "https://localhost:8080/",
          "height": 34
        },
        "outputId": "575f77f9-f998-4e0e-a13f-a7f96ec7752a"
      },
      "source": [
        "dls.device"
      ],
      "execution_count": 45,
      "outputs": [
        {
          "output_type": "execute_result",
          "data": {
            "text/plain": [
              "device(type='cpu')"
            ]
          },
          "metadata": {
            "tags": []
          },
          "execution_count": 45
        }
      ]
    },
    {
      "cell_type": "code",
      "metadata": {
        "id": "84FDPMozMSgC",
        "colab_type": "code",
        "colab": {
          "base_uri": "https://localhost:8080/",
          "height": 34
        },
        "outputId": "16757529-e487-4a8b-8eaf-9631f13f29f8"
      },
      "source": [
        "train_dl.device"
      ],
      "execution_count": 46,
      "outputs": [
        {
          "output_type": "execute_result",
          "data": {
            "text/plain": [
              "device(type='cpu')"
            ]
          },
          "metadata": {
            "tags": []
          },
          "execution_count": 46
        }
      ]
    },
    {
      "cell_type": "code",
      "metadata": {
        "id": "f-rwEuRkMaC3",
        "colab_type": "code",
        "colab": {}
      },
      "source": [
        ""
      ],
      "execution_count": 46,
      "outputs": []
    }
  ]
}