{
 "cells": [
  {
   "cell_type": "markdown",
   "metadata": {},
   "source": [
    "# FastAI XLA Extensions Library\n",
    "\n",
    "> The FastAI XLA Extensions library package allows your fastai/Pytorch models to run on TPUs using the Pytorch-XLA library."
   ]
  },
  {
   "cell_type": "markdown",
   "metadata": {},
   "source": [
    "## Install"
   ]
  },
  {
   "cell_type": "markdown",
   "metadata": {},
   "source": [
    "`pip install git+https://github.com/butchland/fastai_xla_extensions`"
   ]
  },
  {
   "cell_type": "markdown",
   "metadata": {},
   "source": [
    "## How to use"
   ]
  },
  {
   "cell_type": "markdown",
   "metadata": {},
   "source": [
    "### Configure the Pytorch XLA package \n",
    "\n",
    "The Pytorch xla package requires an environment supporting TPUs (Kaggle kernels, GCP or Colab environments required)\n",
    "\n",
    "If running on Colab, make sure the Runtime Type is set to TPU.\n"
   ]
  },
  {
   "cell_type": "code",
   "execution_count": null,
   "metadata": {},
   "outputs": [],
   "source": [
    "#hide\n",
    "#colab\n",
    "from google.colab import drive\n",
    "drive.mount('/content/drive')"
   ]
  },
  {
   "cell_type": "code",
   "execution_count": null,
   "metadata": {},
   "outputs": [],
   "source": [
    "#hide_input\n",
    "#colab\n",
    "import os\n",
    "assert os.environ['COLAB_TPU_ADDR'], 'Make sure to select TPU from Edit > Notebook settings > Hardware accelerator'"
   ]
  },
  {
   "cell_type": "code",
   "execution_count": null,
   "metadata": {},
   "outputs": [],
   "source": [
    "#hide\n",
    "#colab\n",
    "!curl -s https://course.fast.ai/setup/colab | bash "
   ]
  },
  {
   "cell_type": "markdown",
   "metadata": {},
   "source": [
    "Install fastai2 and the fastai_xla_extensions packages"
   ]
  },
  {
   "cell_type": "code",
   "execution_count": null,
   "metadata": {},
   "outputs": [],
   "source": [
    "#hide_output\n",
    "#colab\n",
    "!pip install fastai2  > /dev/null"
   ]
  },
  {
   "cell_type": "markdown",
   "metadata": {},
   "source": [
    "```\n",
    "!pip install git+https://github.com/butchland/fastai_xla_extensions\n",
    "```"
   ]
  },
  {
   "cell_type": "markdown",
   "metadata": {},
   "source": [
    "Install Pytorch-XLA"
   ]
  },
  {
   "cell_type": "code",
   "execution_count": null,
   "metadata": {},
   "outputs": [],
   "source": [
    "#hide_output\n",
    "#colab\n",
    "VERSION = \"20200707\"  #@param [\"1.5\" , \"20200325\",\"20200707\", \"nightly\"]\n",
    "!curl https://raw.githubusercontent.com/pytorch/xla/master/contrib/scripts/env-setup.py -o pytorch-xla-env-setup.py\n",
    "!python pytorch-xla-env-setup.py --version $VERSION"
   ]
  },
  {
   "cell_type": "code",
   "execution_count": null,
   "metadata": {},
   "outputs": [
    {
     "name": "stdout",
     "output_type": "stream",
     "text": [
      "torch==1.7.0a0+12b5bdc\n",
      "torch-xla==1.6+5430aca\n",
      "torchsummary==1.5.1\n",
      "torchtext==0.3.1\n",
      "torchvision==0.8.0a0+86b6c3e\n",
      "fastai2==0.0.23\n"
     ]
    }
   ],
   "source": [
    "#hide\n",
    "!pip freeze | grep torch\n",
    "!pip freeze | grep fastai2"
   ]
  },
  {
   "cell_type": "code",
   "execution_count": null,
   "metadata": {},
   "outputs": [
    {
     "name": "stdout",
     "output_type": "stream",
     "text": [
      "/content/drive/My Drive/fastai_xla_extensions\n",
      "/content\n"
     ]
    }
   ],
   "source": [
    "#hide\n",
    "#colab\n",
    "%cd /content/drive/My\\ Drive/fastai_xla_extensions/\n",
    "import fastai_xla_extensions.core\n",
    "%cd /content"
   ]
  },
  {
   "cell_type": "code",
   "execution_count": null,
   "metadata": {},
   "outputs": [
    {
     "name": "stdout",
     "output_type": "stream",
     "text": [
      "/Users/butch/Google Drive/fastai_xla_extensions\n",
      "/Users/butch/Google Drive/fastai_xla_extensions/nbs\n"
     ]
    }
   ],
   "source": [
    "#hide\n",
    "#local\n",
    "%cd ..\n",
    "import fastai_xla_extensions.core\n",
    "%cd nbs"
   ]
  },
  {
   "cell_type": "markdown",
   "metadata": {},
   "source": [
    "### Import the libraries\n",
    "Import the fastai2 and fastai_xla_extensions libraries"
   ]
  },
  {
   "cell_type": "code",
   "execution_count": null,
   "metadata": {},
   "outputs": [],
   "source": [
    "#colab\n",
    "import fastai_xla_extensions.core"
   ]
  },
  {
   "cell_type": "markdown",
   "metadata": {},
   "source": [
    "**IMPORTANT: Make sure to import fastai_xla_extensions.core BEFORE importing fastai2 libraries** \n",
    "\n",
    "If you don't, fastai2 will not default to use tpu device but will instead use the cpu."
   ]
  },
  {
   "cell_type": "code",
   "execution_count": null,
   "metadata": {},
   "outputs": [],
   "source": [
    "from fastai2.vision.all import *"
   ]
  },
  {
   "cell_type": "markdown",
   "metadata": {},
   "source": [
    "### Example\n",
    "Build a MNIST classifier -- adapted from fastai course [Lesson 4 notebook](https://github.com/fastai/course-v4/blob/master/nbs/04_mnist_basics.ipynb)"
   ]
  },
  {
   "cell_type": "code",
   "execution_count": null,
   "metadata": {},
   "outputs": [
    {
     "name": "stdout",
     "output_type": "stream",
     "text": [
      "/content\n"
     ]
    }
   ],
   "source": [
    "#hide\n",
    "#colab\n",
    "%cd /content"
   ]
  },
  {
   "cell_type": "markdown",
   "metadata": {},
   "source": [
    "Load MNIST dataset "
   ]
  },
  {
   "cell_type": "code",
   "execution_count": null,
   "metadata": {},
   "outputs": [],
   "source": [
    "path = untar_data(URLs.MNIST_TINY)"
   ]
  },
  {
   "cell_type": "code",
   "execution_count": null,
   "metadata": {},
   "outputs": [],
   "source": [
    "#hide\n",
    "Path.BASE_PATH = path"
   ]
  },
  {
   "cell_type": "markdown",
   "metadata": {},
   "source": [
    "Create Fastai DataBlock\n",
    "\n",
    "\n",
    "_Note that batch transforms are currently\n",
    "set to none as they seem to slow the training\n",
    "on the TPU (for investigation)._"
   ]
  },
  {
   "cell_type": "code",
   "execution_count": null,
   "metadata": {},
   "outputs": [],
   "source": [
    "datablock = DataBlock(\n",
    "    blocks=(ImageBlock,CategoryBlock),\n",
    "    get_items=get_image_files,\n",
    "    splitter=GrandparentSplitter(),\n",
    "    get_y=parent_label,\n",
    "    item_tfms=Resize(28),\n",
    "    batch_tfms=[]\n",
    ")"
   ]
  },
  {
   "cell_type": "code",
   "execution_count": null,
   "metadata": {},
   "outputs": [
    {
     "name": "stdout",
     "output_type": "stream",
     "text": [
      "Setting-up type transforms pipelines\n",
      "Collecting items from /Users/butch/.fastai/data/mnist_tiny\n",
      "Found 1428 items\n",
      "2 datasets of sizes 709,699\n",
      "Setting up Pipeline: PILBase.create\n",
      "Setting up Pipeline: parent_label -> Categorize -- {'vocab': None, 'add_na': False}\n",
      "\n",
      "Building one sample\n",
      "  Pipeline: PILBase.create\n",
      "    starting from\n",
      "      /Users/butch/.fastai/data/mnist_tiny/train/7/9243.png\n",
      "    applying PILBase.create gives\n",
      "      PILImage mode=RGB size=28x28\n",
      "  Pipeline: parent_label -> Categorize -- {'vocab': (#2) ['3','7'], 'add_na': False}\n",
      "    starting from\n",
      "      /Users/butch/.fastai/data/mnist_tiny/train/7/9243.png\n",
      "    applying parent_label gives\n",
      "      7\n",
      "    applying Categorize -- {'vocab': (#2) ['3','7'], 'add_na': False} gives\n",
      "      TensorCategory(1)\n",
      "\n",
      "Final sample: (PILImage mode=RGB size=28x28, TensorCategory(1))\n",
      "\n",
      "\n",
      "Setting up after_item: Pipeline: Resize -- {'size': (28, 28), 'method': 'crop', 'pad_mode': 'reflection'} -> ToTensor\n",
      "Setting up before_batch: Pipeline: \n",
      "Setting up after_batch: Pipeline: IntToFloatTensor -- {'div': 255.0, 'div_mask': 1}\n",
      "\n",
      "Building one batch\n",
      "Applying item_tfms to the first sample:\n",
      "  Pipeline: Resize -- {'size': (28, 28), 'method': 'crop', 'pad_mode': 'reflection'} -> ToTensor\n",
      "    starting from\n",
      "      (PILImage mode=RGB size=28x28, TensorCategory(1))\n",
      "    applying Resize -- {'size': (28, 28), 'method': 'crop', 'pad_mode': 'reflection'} gives\n",
      "      (PILImage mode=RGB size=28x28, TensorCategory(1))\n",
      "    applying ToTensor gives\n",
      "      (TensorImage of size 3x28x28, TensorCategory(1))\n",
      "\n",
      "Adding the next 3 samples\n",
      "\n",
      "No before_batch transform to apply\n",
      "\n",
      "Collating items in a batch\n",
      "\n",
      "Applying batch_tfms to the batch built\n",
      "  Pipeline: IntToFloatTensor -- {'div': 255.0, 'div_mask': 1}\n",
      "    starting from\n",
      "      (TensorImage of size 4x3x28x28, TensorCategory([1, 1, 1, 1]))\n",
      "    applying IntToFloatTensor -- {'div': 255.0, 'div_mask': 1} gives\n",
      "      (TensorImage of size 4x3x28x28, TensorCategory([1, 1, 1, 1]))\n"
     ]
    }
   ],
   "source": [
    "#colab\n",
    "datablock.summary(path)"
   ]
  },
  {
   "cell_type": "markdown",
   "metadata": {},
   "source": [
    "Create the dataloader"
   ]
  },
  {
   "cell_type": "code",
   "execution_count": null,
   "metadata": {},
   "outputs": [],
   "source": [
    "dls = datablock.dataloaders(path)"
   ]
  },
  {
   "cell_type": "code",
   "execution_count": null,
   "metadata": {},
   "outputs": [
    {
     "data": {
      "text/plain": [
       "device(type='cpu')"
      ]
     },
     "execution_count": null,
     "metadata": {},
     "output_type": "execute_result"
    }
   ],
   "source": [
    "#colab\n",
    "dls.device"
   ]
  },
  {
   "cell_type": "code",
   "execution_count": null,
   "metadata": {},
   "outputs": [
    {
     "data": {
      "image/png": "[encoded data removed]",
      "text/plain": [
       "<Figure size 648x648 with 9 Axes>"
      ]
     },
     "metadata": {
      "needs_background": "light"
     },
     "output_type": "display_data"
    }
   ],
   "source": [
    "#colab\n",
    "dls.show_batch()"
   ]
  },
  {
   "cell_type": "markdown",
   "metadata": {},
   "source": [
    "Create a Fastai CNN Learner"
   ]
  },
  {
   "cell_type": "code",
   "execution_count": null,
   "metadata": {},
   "outputs": [],
   "source": [
    "#colab\n",
    "learner = cnn_learner(dls, resnet18, metrics=accuracy)\n",
    "                      "
   ]
  },
  {
   "cell_type": "code",
   "execution_count": null,
   "metadata": {},
   "outputs": [
    {
     "data": {
      "text/plain": [
       "Sequential (Input shape: ['64 x 3 x 28 x 28'])\n",
       "================================================================\n",
       "Layer (type)         Output Shape         Param #    Trainable \n",
       "================================================================\n",
       "Conv2d               64 x 64 x 14 x 14    9,408      False     \n",
       "________________________________________________________________\n",
       "BatchNorm2d          64 x 64 x 14 x 14    128        True      \n",
       "________________________________________________________________\n",
       "ReLU                 64 x 64 x 14 x 14    0          False     \n",
       "________________________________________________________________\n",
       "MaxPool2d            64 x 64 x 7 x 7      0          False     \n",
       "________________________________________________________________\n",
       "Conv2d               64 x 64 x 7 x 7      36,864     False     \n",
       "________________________________________________________________\n",
       "BatchNorm2d          64 x 64 x 7 x 7      128        True      \n",
       "________________________________________________________________\n",
       "ReLU                 64 x 64 x 7 x 7      0          False     \n",
       "________________________________________________________________\n",
       "Conv2d               64 x 64 x 7 x 7      36,864     False     \n",
       "________________________________________________________________\n",
       "BatchNorm2d          64 x 64 x 7 x 7      128        True      \n",
       "________________________________________________________________\n",
       "Conv2d               64 x 64 x 7 x 7      36,864     False     \n",
       "________________________________________________________________\n",
       "BatchNorm2d          64 x 64 x 7 x 7      128        True      \n",
       "________________________________________________________________\n",
       "ReLU                 64 x 64 x 7 x 7      0          False     \n",
       "________________________________________________________________\n",
       "Conv2d               64 x 64 x 7 x 7      36,864     False     \n",
       "________________________________________________________________\n",
       "BatchNorm2d          64 x 64 x 7 x 7      128        True      \n",
       "________________________________________________________________\n",
       "Conv2d               64 x 128 x 4 x 4     73,728     False     \n",
       "________________________________________________________________\n",
       "BatchNorm2d          64 x 128 x 4 x 4     256        True      \n",
       "________________________________________________________________\n",
       "ReLU                 64 x 128 x 4 x 4     0          False     \n",
       "________________________________________________________________\n",
       "Conv2d               64 x 128 x 4 x 4     147,456    False     \n",
       "________________________________________________________________\n",
       "BatchNorm2d          64 x 128 x 4 x 4     256        True      \n",
       "________________________________________________________________\n",
       "Conv2d               64 x 128 x 4 x 4     8,192      False     \n",
       "________________________________________________________________\n",
       "BatchNorm2d          64 x 128 x 4 x 4     256        True      \n",
       "________________________________________________________________\n",
       "Conv2d               64 x 128 x 4 x 4     147,456    False     \n",
       "________________________________________________________________\n",
       "BatchNorm2d          64 x 128 x 4 x 4     256        True      \n",
       "________________________________________________________________\n",
       "ReLU                 64 x 128 x 4 x 4     0          False     \n",
       "________________________________________________________________\n",
       "Conv2d               64 x 128 x 4 x 4     147,456    False     \n",
       "________________________________________________________________\n",
       "BatchNorm2d          64 x 128 x 4 x 4     256        True      \n",
       "________________________________________________________________\n",
       "Conv2d               64 x 256 x 2 x 2     294,912    False     \n",
       "________________________________________________________________\n",
       "BatchNorm2d          64 x 256 x 2 x 2     512        True      \n",
       "________________________________________________________________\n",
       "ReLU                 64 x 256 x 2 x 2     0          False     \n",
       "________________________________________________________________\n",
       "Conv2d               64 x 256 x 2 x 2     589,824    False     \n",
       "________________________________________________________________\n",
       "BatchNorm2d          64 x 256 x 2 x 2     512        True      \n",
       "________________________________________________________________\n",
       "Conv2d               64 x 256 x 2 x 2     32,768     False     \n",
       "________________________________________________________________\n",
       "BatchNorm2d          64 x 256 x 2 x 2     512        True      \n",
       "________________________________________________________________\n",
       "Conv2d               64 x 256 x 2 x 2     589,824    False     \n",
       "________________________________________________________________\n",
       "BatchNorm2d          64 x 256 x 2 x 2     512        True      \n",
       "________________________________________________________________\n",
       "ReLU                 64 x 256 x 2 x 2     0          False     \n",
       "________________________________________________________________\n",
       "Conv2d               64 x 256 x 2 x 2     589,824    False     \n",
       "________________________________________________________________\n",
       "BatchNorm2d          64 x 256 x 2 x 2     512        True      \n",
       "________________________________________________________________\n",
       "Conv2d               64 x 512 x 1 x 1     1,179,648  False     \n",
       "________________________________________________________________\n",
       "BatchNorm2d          64 x 512 x 1 x 1     1,024      True      \n",
       "________________________________________________________________\n",
       "ReLU                 64 x 512 x 1 x 1     0          False     \n",
       "________________________________________________________________\n",
       "Conv2d               64 x 512 x 1 x 1     2,359,296  False     \n",
       "________________________________________________________________\n",
       "BatchNorm2d          64 x 512 x 1 x 1     1,024      True      \n",
       "________________________________________________________________\n",
       "Conv2d               64 x 512 x 1 x 1     131,072    False     \n",
       "________________________________________________________________\n",
       "BatchNorm2d          64 x 512 x 1 x 1     1,024      True      \n",
       "________________________________________________________________\n",
       "Conv2d               64 x 512 x 1 x 1     2,359,296  False     \n",
       "________________________________________________________________\n",
       "BatchNorm2d          64 x 512 x 1 x 1     1,024      True      \n",
       "________________________________________________________________\n",
       "ReLU                 64 x 512 x 1 x 1     0          False     \n",
       "________________________________________________________________\n",
       "Conv2d               64 x 512 x 1 x 1     2,359,296  False     \n",
       "________________________________________________________________\n",
       "BatchNorm2d          64 x 512 x 1 x 1     1,024      True      \n",
       "________________________________________________________________\n",
       "AdaptiveAvgPool2d    64 x 512 x 1 x 1     0          False     \n",
       "________________________________________________________________\n",
       "AdaptiveMaxPool2d    64 x 512 x 1 x 1     0          False     \n",
       "________________________________________________________________\n",
       "Flatten              64 x 1024            0          False     \n",
       "________________________________________________________________\n",
       "BatchNorm1d          64 x 1024            2,048      True      \n",
       "________________________________________________________________\n",
       "Dropout              64 x 1024            0          False     \n",
       "________________________________________________________________\n",
       "Linear               64 x 512             524,288    True      \n",
       "________________________________________________________________\n",
       "ReLU                 64 x 512             0          False     \n",
       "________________________________________________________________\n",
       "BatchNorm1d          64 x 512             1,024      True      \n",
       "________________________________________________________________\n",
       "Dropout              64 x 512             0          False     \n",
       "________________________________________________________________\n",
       "Linear               64 x 2               1,024      True      \n",
       "________________________________________________________________\n",
       "\n",
       "Total params: 11,704,896\n",
       "Total trainable params: 537,984\n",
       "Total non-trainable params: 11,166,912\n",
       "\n",
       "Optimizer used: <function Adam at 0x13937b4d0>\n",
       "Loss function: FlattenedLoss of CrossEntropyLoss()\n",
       "\n",
       "Model frozen up to parameter group number 2\n",
       "\n",
       "Callbacks:\n",
       "  - TrainEvalCallback\n",
       "  - Recorder\n",
       "  - ProgressCallback\n",
       "  - XLAOptCallback"
      ]
     },
     "execution_count": null,
     "metadata": {},
     "output_type": "execute_result"
    }
   ],
   "source": [
    "#colab\n",
    "learner.summary()"
   ]
  },
  {
   "cell_type": "markdown",
   "metadata": {},
   "source": [
    "Using the `lr_find` works "
   ]
  },
  {
   "cell_type": "code",
   "execution_count": null,
   "metadata": {},
   "outputs": [
    {
     "data": {
      "text/html": [],
      "text/plain": [
       "<IPython.core.display.HTML object>"
      ]
     },
     "metadata": {},
     "output_type": "display_data"
    },
    {
     "data": {
      "text/plain": [
       "SuggestedLRs(lr_min=0.03019951581954956, lr_steep=0.0030199517495930195)"
      ]
     },
     "execution_count": null,
     "metadata": {},
     "output_type": "execute_result"
    },
    {
     "data": {
      "image/png": "[encoded data removed]",
      "text/plain": [
       "<Figure size 432x288 with 1 Axes>"
      ]
     },
     "metadata": {
      "needs_background": "light"
     },
     "output_type": "display_data"
    }
   ],
   "source": [
    "#colab\n",
    "learner.lr_find()"
   ]
  },
  {
   "cell_type": "markdown",
   "metadata": {},
   "source": [
    "Fine tune model\n"
   ]
  },
  {
   "cell_type": "code",
   "execution_count": null,
   "metadata": {},
   "outputs": [
    {
     "data": {
      "text/html": [
       "<table border=\"1\" class=\"dataframe\">\n",
       "  <thead>\n",
       "    <tr style=\"text-align: left;\">\n",
       "      <th>epoch</th>\n",
       "      <th>train_loss</th>\n",
       "      <th>valid_loss</th>\n",
       "      <th>accuracy</th>\n",
       "      <th>time</th>\n",
       "    </tr>\n",
       "  </thead>\n",
       "  <tbody>\n",
       "    <tr>\n",
       "      <td>0</td>\n",
       "      <td>0.708790</td>\n",
       "      <td>0.326555</td>\n",
       "      <td>0.876967</td>\n",
       "      <td>00:02</td>\n",
       "    </tr>\n",
       "  </tbody>\n",
       "</table>"
      ],
      "text/plain": [
       "<IPython.core.display.HTML object>"
      ]
     },
     "metadata": {
      "tags": []
     },
     "output_type": "display_data"
    },
    {
     "data": {
      "text/html": [
       "<table border=\"1\" class=\"dataframe\">\n",
       "  <thead>\n",
       "    <tr style=\"text-align: left;\">\n",
       "      <th>epoch</th>\n",
       "      <th>train_loss</th>\n",
       "      <th>valid_loss</th>\n",
       "      <th>accuracy</th>\n",
       "      <th>time</th>\n",
       "    </tr>\n",
       "  </thead>\n",
       "  <tbody>\n",
       "    <tr>\n",
       "      <td>0</td>\n",
       "      <td>0.247014</td>\n",
       "      <td>0.165803</td>\n",
       "      <td>0.942775</td>\n",
       "      <td>00:02</td>\n",
       "    </tr>\n",
       "  </tbody>\n",
       "</table>"
      ],
      "text/plain": [
       "<IPython.core.display.HTML object>"
      ]
     },
     "metadata": {
      "tags": []
     },
     "output_type": "display_data"
    }
   ],
   "source": [
    "#colab\n",
    "learner.fine_tune(1, base_lr=1e-2)"
   ]
  },
  {
   "cell_type": "markdown",
   "metadata": {},
   "source": [
    "Unfreeze the model"
   ]
  },
  {
   "cell_type": "code",
   "execution_count": null,
   "metadata": {},
   "outputs": [],
   "source": [
    "#colab\n",
    "learner.unfreeze()"
   ]
  },
  {
   "cell_type": "markdown",
   "metadata": {},
   "source": [
    "Run the LR Finder again. "
   ]
  },
  {
   "cell_type": "code",
   "execution_count": null,
   "metadata": {},
   "outputs": [
    {
     "data": {
      "text/html": [],
      "text/plain": [
       "<IPython.core.display.HTML object>"
      ]
     },
     "metadata": {
      "tags": []
     },
     "output_type": "display_data"
    },
    {
     "data": {
      "text/plain": [
       "SuggestedLRs(lr_min=5.754399462603033e-05, lr_steep=9.12010818865383e-07)"
      ]
     },
     "execution_count": null,
     "metadata": {
      "tags": []
     },
     "output_type": "execute_result"
    },
    {
     "data": {
      "image/png": "[encoded data removed]",
      "text/plain": [
       "<Figure size 432x288 with 1 Axes>"
      ]
     },
     "metadata": {
      "needs_background": "light",
      "tags": []
     },
     "output_type": "display_data"
    }
   ],
   "source": [
    "#colab\n",
    "learner.lr_find()"
   ]
  },
  {
   "cell_type": "markdown",
   "metadata": {},
   "source": [
    "Further fine-tuning"
   ]
  },
  {
   "cell_type": "code",
   "execution_count": null,
   "metadata": {},
   "outputs": [
    {
     "data": {
      "text/html": [
       "<table border=\"1\" class=\"dataframe\">\n",
       "  <thead>\n",
       "    <tr style=\"text-align: left;\">\n",
       "      <th>epoch</th>\n",
       "      <th>train_loss</th>\n",
       "      <th>valid_loss</th>\n",
       "      <th>accuracy</th>\n",
       "      <th>time</th>\n",
       "    </tr>\n",
       "  </thead>\n",
       "  <tbody>\n",
       "    <tr>\n",
       "      <td>0</td>\n",
       "      <td>0.171358</td>\n",
       "      <td>0.097837</td>\n",
       "      <td>0.965665</td>\n",
       "      <td>00:02</td>\n",
       "    </tr>\n",
       "  </tbody>\n",
       "</table>"
      ],
      "text/plain": [
       "<IPython.core.display.HTML object>"
      ]
     },
     "metadata": {
      "tags": []
     },
     "output_type": "display_data"
    }
   ],
   "source": [
    "#colab\n",
    "learner.fit_one_cycle(1,slice(7e-4),pct_start=0.99)"
   ]
  },
  {
   "cell_type": "code",
   "execution_count": null,
   "metadata": {},
   "outputs": [],
   "source": [
    "#hide\n",
    "#colab\n",
    "learner.save('stage-1')"
   ]
  },
  {
   "cell_type": "code",
   "execution_count": null,
   "metadata": {},
   "outputs": [
    {
     "data": {
      "text/plain": [
       "<fastai2.learner.Learner at 0x7f00dc24f710>"
      ]
     },
     "execution_count": null,
     "metadata": {
      "tags": []
     },
     "output_type": "execute_result"
    }
   ],
   "source": [
    "#hide\n",
    "#colab\n",
    "learner.load('stage-1')"
   ]
  },
  {
   "cell_type": "markdown",
   "metadata": {},
   "source": [
    "Model params are using TPU"
   ]
  },
  {
   "cell_type": "code",
   "execution_count": null,
   "metadata": {},
   "outputs": [
    {
     "data": {
      "text/plain": [
       "device(type='xla', index=1)"
      ]
     },
     "execution_count": null,
     "metadata": {
      "tags": []
     },
     "output_type": "execute_result"
    }
   ],
   "source": [
    "#colab\n",
    "list(learner.model.parameters())[0].device"
   ]
  },
  {
   "cell_type": "code",
   "execution_count": null,
   "metadata": {},
   "outputs": [],
   "source": [
    "#colab\n",
    "learner.unfreeze()"
   ]
  },
  {
   "cell_type": "code",
   "execution_count": null,
   "metadata": {},
   "outputs": [
    {
     "data": {
      "text/html": [
       "<table border=\"1\" class=\"dataframe\">\n",
       "  <thead>\n",
       "    <tr style=\"text-align: left;\">\n",
       "      <th>epoch</th>\n",
       "      <th>train_loss</th>\n",
       "      <th>valid_loss</th>\n",
       "      <th>accuracy</th>\n",
       "      <th>time</th>\n",
       "    </tr>\n",
       "  </thead>\n",
       "  <tbody>\n",
       "    <tr>\n",
       "      <td>0</td>\n",
       "      <td>0.116033</td>\n",
       "      <td>0.096761</td>\n",
       "      <td>0.972818</td>\n",
       "      <td>00:02</td>\n",
       "    </tr>\n",
       "    <tr>\n",
       "      <td>1</td>\n",
       "      <td>0.073788</td>\n",
       "      <td>0.108734</td>\n",
       "      <td>0.965665</td>\n",
       "      <td>00:02</td>\n",
       "    </tr>\n",
       "    <tr>\n",
       "      <td>2</td>\n",
       "      <td>0.051391</td>\n",
       "      <td>0.103474</td>\n",
       "      <td>0.971388</td>\n",
       "      <td>00:02</td>\n",
       "    </tr>\n",
       "    <tr>\n",
       "      <td>3</td>\n",
       "      <td>0.044378</td>\n",
       "      <td>0.100450</td>\n",
       "      <td>0.975680</td>\n",
       "      <td>00:02</td>\n",
       "    </tr>\n",
       "  </tbody>\n",
       "</table>"
      ],
      "text/plain": [
       "<IPython.core.display.HTML object>"
      ]
     },
     "metadata": {
      "tags": []
     },
     "output_type": "display_data"
    }
   ],
   "source": [
    "#colab\n",
    "learner.fit_one_cycle(4,lr_max=slice(1e-6,1e-4))"
   ]
  },
  {
   "cell_type": "code",
   "execution_count": null,
   "metadata": {},
   "outputs": [
    {
     "data": {
      "text/html": [
       "<table border=\"1\" class=\"dataframe\">\n",
       "  <thead>\n",
       "    <tr style=\"text-align: left;\">\n",
       "      <th>epoch</th>\n",
       "      <th>train_loss</th>\n",
       "      <th>valid_loss</th>\n",
       "      <th>accuracy</th>\n",
       "      <th>time</th>\n",
       "    </tr>\n",
       "  </thead>\n",
       "  <tbody>\n",
       "    <tr>\n",
       "      <td>0</td>\n",
       "      <td>0.029393</td>\n",
       "      <td>0.109663</td>\n",
       "      <td>0.977110</td>\n",
       "      <td>00:02</td>\n",
       "    </tr>\n",
       "    <tr>\n",
       "      <td>1</td>\n",
       "      <td>0.031327</td>\n",
       "      <td>0.080128</td>\n",
       "      <td>0.981402</td>\n",
       "      <td>00:02</td>\n",
       "    </tr>\n",
       "    <tr>\n",
       "      <td>2</td>\n",
       "      <td>0.027084</td>\n",
       "      <td>0.072100</td>\n",
       "      <td>0.982833</td>\n",
       "      <td>00:02</td>\n",
       "    </tr>\n",
       "    <tr>\n",
       "      <td>3</td>\n",
       "      <td>0.019011</td>\n",
       "      <td>0.068235</td>\n",
       "      <td>0.981402</td>\n",
       "      <td>00:02</td>\n",
       "    </tr>\n",
       "  </tbody>\n",
       "</table>"
      ],
      "text/plain": [
       "<IPython.core.display.HTML object>"
      ]
     },
     "metadata": {
      "tags": []
     },
     "output_type": "display_data"
    }
   ],
   "source": [
    "#colab\n",
    "learner.fit_one_cycle(4,lr_max=slice(4e-6,5e-4))"
   ]
  },
  {
   "cell_type": "markdown",
   "metadata": {},
   "source": [
    "Plot loss seems to be working fine."
   ]
  },
  {
   "cell_type": "code",
   "execution_count": null,
   "metadata": {},
   "outputs": [
    {
     "data": {
      "image/png": "[encoded data removed]",
      "text/plain": [
       "<Figure size 432x288 with 1 Axes>"
      ]
     },
     "metadata": {
      "needs_background": "light",
      "tags": []
     },
     "output_type": "display_data"
    }
   ],
   "source": [
    "#colab\n",
    "learner.recorder.plot_loss()"
   ]
  },
  {
   "cell_type": "markdown",
   "metadata": {},
   "source": [
    "## Status\n",
    "The fastai XLA extensions library is still in very early development phase (not even alpha) which means there's still a lot of things not working. \n",
    "\n",
    "Use it at your own risk.\n",
    "\n",
    "If you wish to contribute to the project, fork it and make pull request. \n",
    "\n",
    "This project uses [nbdev](https://nbdev.fast.ai/) -- a jupyter notebook first development environment and is being developed on [Colab](https://colab.research.google.com).\n"
   ]
  }
 ],
 "metadata": {
  "kernelspec": {
   "display_name": "Python 3",
   "language": "python",
   "name": "python3"
  }
 },
 "nbformat": 4,
 "nbformat_minor": 1
}
