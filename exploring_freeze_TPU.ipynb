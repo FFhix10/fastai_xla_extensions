{
  "nbformat": 4,
  "nbformat_minor": 0,
  "metadata": {
    "accelerator": "TPU",
    "colab": {
      "name": "exploring_freeze_TPU.ipynb",
      "provenance": [],
      "collapsed_sections": [],
      "include_colab_link": true
    },
    "kernelspec": {
      "display_name": "Python 3",
      "language": "python",
      "name": "python3"
    },
    "language_info": {
      "codemirror_mode": {
        "name": "ipython",
        "version": 3
      },
      "file_extension": ".py",
      "mimetype": "text/x-python",
      "name": "python",
      "nbconvert_exporter": "python",
      "pygments_lexer": "ipython3",
      "version": "3.7.7"
    }
  },
  "cells": [
    {
      "cell_type": "markdown",
      "metadata": {
        "id": "view-in-github",
        "colab_type": "text"
      },
      "source": [
        "<a href=\"https://colab.research.google.com/github/tyoc213/fastai_xla_extensions/blob/fix_prev_lenet/exploring_freeze_TPU.ipynb\" target=\"_parent\"><img src=\"https://colab.research.google.com/assets/colab-badge.svg\" alt=\"Open In Colab\"/></a>"
      ]
    },
    {
      "cell_type": "markdown",
      "metadata": {
        "colab_type": "text",
        "id": "BmnUX_l8lQ6B"
      },
      "source": [
        "# Install fastai2 from github"
      ]
    },
    {
      "cell_type": "code",
      "metadata": {
        "colab_type": "code",
        "id": "Q5DZXcBNJoy1",
        "colab": {
          "base_uri": "https://localhost:8080/",
          "height": 990
        },
        "outputId": "deb30bbd-7742-422f-d4ff-eaeb21429bff"
      },
      "source": [
        "!pip install -U pandas --upgrade\n",
        "!pip install -U fastcore --upgrade\n",
        "!pip install -U fastai --upgrade "
      ],
      "execution_count": 1,
      "outputs": [
        {
          "output_type": "stream",
          "text": [
            "Requirement already up-to-date: pandas in /usr/local/lib/python3.6/dist-packages (1.1.1)\n",
            "Requirement already satisfied, skipping upgrade: numpy>=1.15.4 in /usr/local/lib/python3.6/dist-packages (from pandas) (1.18.5)\n",
            "Requirement already satisfied, skipping upgrade: pytz>=2017.2 in /usr/local/lib/python3.6/dist-packages (from pandas) (2018.9)\n",
            "Requirement already satisfied, skipping upgrade: python-dateutil>=2.7.3 in /usr/local/lib/python3.6/dist-packages (from pandas) (2.8.1)\n",
            "Requirement already satisfied, skipping upgrade: six>=1.5 in /usr/local/lib/python3.6/dist-packages (from python-dateutil>=2.7.3->pandas) (1.15.0)\n",
            "Requirement already up-to-date: fastcore in /usr/local/lib/python3.6/dist-packages (1.0.0)\n",
            "Requirement already satisfied, skipping upgrade: dataclasses in /usr/local/lib/python3.6/dist-packages (from fastcore) (0.7)\n",
            "Requirement already satisfied, skipping upgrade: packaging in /usr/local/lib/python3.6/dist-packages (from fastcore) (20.4)\n",
            "Requirement already satisfied, skipping upgrade: numpy in /usr/local/lib/python3.6/dist-packages (from fastcore) (1.18.5)\n",
            "Requirement already satisfied, skipping upgrade: pip in /usr/local/lib/python3.6/dist-packages (from fastcore) (19.3.1)\n",
            "Requirement already satisfied, skipping upgrade: wheel in /usr/local/lib/python3.6/dist-packages (from fastcore) (0.35.1)\n",
            "Requirement already satisfied, skipping upgrade: six in /usr/local/lib/python3.6/dist-packages (from packaging->fastcore) (1.15.0)\n",
            "Requirement already satisfied, skipping upgrade: pyparsing>=2.0.2 in /usr/local/lib/python3.6/dist-packages (from packaging->fastcore) (2.4.7)\n",
            "Requirement already up-to-date: fastai in /usr/local/lib/python3.6/dist-packages (2.0.7)\n",
            "Requirement already satisfied, skipping upgrade: scikit-learn in /usr/local/lib/python3.6/dist-packages (from fastai) (0.22.2.post1)\n",
            "Requirement already satisfied, skipping upgrade: fastprogress>=0.2.4 in /usr/local/lib/python3.6/dist-packages (from fastai) (1.0.0)\n",
            "Requirement already satisfied, skipping upgrade: packaging in /usr/local/lib/python3.6/dist-packages (from fastai) (20.4)\n",
            "Requirement already satisfied, skipping upgrade: pip in /usr/local/lib/python3.6/dist-packages (from fastai) (19.3.1)\n",
            "Requirement already satisfied, skipping upgrade: torchvision>=0.7 in /usr/local/lib/python3.6/dist-packages (from fastai) (0.8.0a0+86b6c3e)\n",
            "Requirement already satisfied, skipping upgrade: spacy in /usr/local/lib/python3.6/dist-packages (from fastai) (2.2.4)\n",
            "Requirement already satisfied, skipping upgrade: pandas>=1.1.0 in /usr/local/lib/python3.6/dist-packages (from fastai) (1.1.1)\n",
            "Requirement already satisfied, skipping upgrade: pyyaml in /usr/local/lib/python3.6/dist-packages (from fastai) (3.13)\n",
            "Requirement already satisfied, skipping upgrade: fastcore>=1.0.0 in /usr/local/lib/python3.6/dist-packages (from fastai) (1.0.0)\n",
            "Requirement already satisfied, skipping upgrade: requests in /usr/local/lib/python3.6/dist-packages (from fastai) (2.23.0)\n",
            "Requirement already satisfied, skipping upgrade: pillow in /usr/local/lib/python3.6/dist-packages (from fastai) (7.0.0)\n",
            "Requirement already satisfied, skipping upgrade: torch>=1.6.0 in /usr/local/lib/python3.6/dist-packages (from fastai) (1.7.0a0+12b5bdc)\n",
            "Requirement already satisfied, skipping upgrade: matplotlib in /usr/local/lib/python3.6/dist-packages (from fastai) (3.2.2)\n",
            "Requirement already satisfied, skipping upgrade: scipy in /usr/local/lib/python3.6/dist-packages (from fastai) (1.4.1)\n",
            "Requirement already satisfied, skipping upgrade: numpy>=1.11.0 in /usr/local/lib/python3.6/dist-packages (from scikit-learn->fastai) (1.18.5)\n",
            "Requirement already satisfied, skipping upgrade: joblib>=0.11 in /usr/local/lib/python3.6/dist-packages (from scikit-learn->fastai) (0.16.0)\n",
            "Requirement already satisfied, skipping upgrade: six in /usr/local/lib/python3.6/dist-packages (from packaging->fastai) (1.15.0)\n",
            "Requirement already satisfied, skipping upgrade: pyparsing>=2.0.2 in /usr/local/lib/python3.6/dist-packages (from packaging->fastai) (2.4.7)\n",
            "Requirement already satisfied, skipping upgrade: wasabi<1.1.0,>=0.4.0 in /usr/local/lib/python3.6/dist-packages (from spacy->fastai) (0.7.1)\n",
            "Requirement already satisfied, skipping upgrade: blis<0.5.0,>=0.4.0 in /usr/local/lib/python3.6/dist-packages (from spacy->fastai) (0.4.1)\n",
            "Requirement already satisfied, skipping upgrade: murmurhash<1.1.0,>=0.28.0 in /usr/local/lib/python3.6/dist-packages (from spacy->fastai) (1.0.2)\n",
            "Requirement already satisfied, skipping upgrade: cymem<2.1.0,>=2.0.2 in /usr/local/lib/python3.6/dist-packages (from spacy->fastai) (2.0.3)\n",
            "Requirement already satisfied, skipping upgrade: preshed<3.1.0,>=3.0.2 in /usr/local/lib/python3.6/dist-packages (from spacy->fastai) (3.0.2)\n",
            "Requirement already satisfied, skipping upgrade: thinc==7.4.0 in /usr/local/lib/python3.6/dist-packages (from spacy->fastai) (7.4.0)\n",
            "Requirement already satisfied, skipping upgrade: tqdm<5.0.0,>=4.38.0 in /usr/local/lib/python3.6/dist-packages (from spacy->fastai) (4.41.1)\n",
            "Requirement already satisfied, skipping upgrade: catalogue<1.1.0,>=0.0.7 in /usr/local/lib/python3.6/dist-packages (from spacy->fastai) (1.0.0)\n",
            "Requirement already satisfied, skipping upgrade: srsly<1.1.0,>=1.0.2 in /usr/local/lib/python3.6/dist-packages (from spacy->fastai) (1.0.2)\n",
            "Requirement already satisfied, skipping upgrade: setuptools in /usr/local/lib/python3.6/dist-packages (from spacy->fastai) (49.6.0)\n",
            "Requirement already satisfied, skipping upgrade: plac<1.2.0,>=0.9.6 in /usr/local/lib/python3.6/dist-packages (from spacy->fastai) (1.1.3)\n",
            "Requirement already satisfied, skipping upgrade: pytz>=2017.2 in /usr/local/lib/python3.6/dist-packages (from pandas>=1.1.0->fastai) (2018.9)\n",
            "Requirement already satisfied, skipping upgrade: python-dateutil>=2.7.3 in /usr/local/lib/python3.6/dist-packages (from pandas>=1.1.0->fastai) (2.8.1)\n",
            "Requirement already satisfied, skipping upgrade: wheel in /usr/local/lib/python3.6/dist-packages (from fastcore>=1.0.0->fastai) (0.35.1)\n",
            "Requirement already satisfied, skipping upgrade: dataclasses in /usr/local/lib/python3.6/dist-packages (from fastcore>=1.0.0->fastai) (0.7)\n",
            "Requirement already satisfied, skipping upgrade: idna<3,>=2.5 in /usr/local/lib/python3.6/dist-packages (from requests->fastai) (2.10)\n",
            "Requirement already satisfied, skipping upgrade: urllib3!=1.25.0,!=1.25.1,<1.26,>=1.21.1 in /usr/local/lib/python3.6/dist-packages (from requests->fastai) (1.24.3)\n",
            "Requirement already satisfied, skipping upgrade: chardet<4,>=3.0.2 in /usr/local/lib/python3.6/dist-packages (from requests->fastai) (3.0.4)\n",
            "Requirement already satisfied, skipping upgrade: certifi>=2017.4.17 in /usr/local/lib/python3.6/dist-packages (from requests->fastai) (2020.6.20)\n",
            "Requirement already satisfied, skipping upgrade: future in /usr/local/lib/python3.6/dist-packages (from torch>=1.6.0->fastai) (0.16.0)\n",
            "Requirement already satisfied, skipping upgrade: cycler>=0.10 in /usr/local/lib/python3.6/dist-packages (from matplotlib->fastai) (0.10.0)\n",
            "Requirement already satisfied, skipping upgrade: kiwisolver>=1.0.1 in /usr/local/lib/python3.6/dist-packages (from matplotlib->fastai) (1.2.0)\n",
            "Requirement already satisfied, skipping upgrade: importlib-metadata>=0.20; python_version < \"3.8\" in /usr/local/lib/python3.6/dist-packages (from catalogue<1.1.0,>=0.0.7->spacy->fastai) (1.7.0)\n",
            "Requirement already satisfied, skipping upgrade: zipp>=0.5 in /usr/local/lib/python3.6/dist-packages (from importlib-metadata>=0.20; python_version < \"3.8\"->catalogue<1.1.0,>=0.0.7->spacy->fastai) (3.1.0)\n"
          ],
          "name": "stdout"
        }
      ]
    },
    {
      "cell_type": "code",
      "metadata": {
        "colab_type": "code",
        "id": "GucdOzF7r6ch",
        "colab": {
          "base_uri": "https://localhost:8080/",
          "height": 69
        },
        "outputId": "7e3c5f1d-b0f5-4027-8447-662fda474ca3"
      },
      "source": [
        "VERSION = \"20200707\"  #\"20200515\" @param [\"1.5\" , \"20200325\", \"nightly\"]\n",
        "!curl https://raw.githubusercontent.com/pytorch/xla/master/contrib/scripts/env-setup.py -o pytorch-xla-env-setup.py"
      ],
      "execution_count": 2,
      "outputs": [
        {
          "output_type": "stream",
          "text": [
            "  % Total    % Received % Xferd  Average Speed   Time    Time     Time  Current\n",
            "                                 Dload  Upload   Total   Spent    Left  Speed\n",
            "\r  0     0    0     0    0     0      0      0 --:--:-- --:--:-- --:--:--     0\r100  5115  100  5115    0     0  43347      0 --:--:-- --:--:-- --:--:-- 43347\n"
          ],
          "name": "stdout"
        }
      ]
    },
    {
      "cell_type": "code",
      "metadata": {
        "colab_type": "code",
        "id": "BxoA3fJusV17",
        "colab": {
          "base_uri": "https://localhost:8080/",
          "height": 781
        },
        "outputId": "66fef49d-6e2d-4683-c8e9-bde1645d06fb"
      },
      "source": [
        "#!TORCH_SHOW_CPP_STACKTRACES=1 python pytorch-xla-env-setup.py --apt-packages libomp5 libopenblas-dev\n",
        "!python pytorch-xla-env-setup.py  --version $VERSION --apt-packages libomp5 libopenblas-dev"
      ],
      "execution_count": 3,
      "outputs": [
        {
          "output_type": "stream",
          "text": [
            "Updating... This may take around 2 minutes.\n",
            "Updating TPU runtime to pytorch-dev20200707 ...\n",
            "Uninstalling torch-1.7.0a0+12b5bdc:\n",
            "  Successfully uninstalled torch-1.7.0a0+12b5bdc\n",
            "Uninstalling torchvision-0.8.0a0+86b6c3e:\n",
            "  Successfully uninstalled torchvision-0.8.0a0+86b6c3e\n",
            "Copying gs://tpu-pytorch/wheels/torch-nightly+20200707-cp36-cp36m-linux_x86_64.whl...\n",
            "- [1 files][107.5 MiB/107.5 MiB]                                                \n",
            "Operation completed over 1 objects/107.5 MiB.                                    \n",
            "Copying gs://tpu-pytorch/wheels/torch_xla-nightly+20200707-cp36-cp36m-linux_x86_64.whl...\n",
            "| [1 files][123.8 MiB/123.8 MiB]                                                \n",
            "Operation completed over 1 objects/123.8 MiB.                                    \n",
            "Copying gs://tpu-pytorch/wheels/torchvision-nightly+20200707-cp36-cp36m-linux_x86_64.whl...\n",
            "/ [1 files][  2.2 MiB/  2.2 MiB]                                                \n",
            "Operation completed over 1 objects/2.2 MiB.                                      \n",
            "Processing ./torch-nightly+20200707-cp36-cp36m-linux_x86_64.whl\n",
            "Done updating TPU runtime\n",
            "Requirement already satisfied: numpy in /usr/local/lib/python3.6/dist-packages (from torch==nightly+20200707) (1.18.5)\n",
            "Requirement already satisfied: future in /usr/local/lib/python3.6/dist-packages (from torch==nightly+20200707) (0.16.0)\n",
            "\u001b[31mERROR: fastai 2.0.7 requires torchvision>=0.7, which is not installed.\u001b[0m\n",
            "Installing collected packages: torch\n",
            "Successfully installed torch-1.7.0a0+12b5bdc\n",
            "Processing ./torch_xla-nightly+20200707-cp36-cp36m-linux_x86_64.whl\n",
            "Installing collected packages: torch-xla\n",
            "  Found existing installation: torch-xla 1.6+5430aca\n",
            "    Uninstalling torch-xla-1.6+5430aca:\n",
            "      Successfully uninstalled torch-xla-1.6+5430aca\n",
            "Successfully installed torch-xla-1.6+5430aca\n",
            "Processing ./torchvision-nightly+20200707-cp36-cp36m-linux_x86_64.whl\n",
            "Requirement already satisfied: torch in /usr/local/lib/python3.6/dist-packages (from torchvision==nightly+20200707) (1.7.0a0+12b5bdc)\n",
            "Requirement already satisfied: pillow>=4.1.1 in /usr/local/lib/python3.6/dist-packages (from torchvision==nightly+20200707) (7.0.0)\n",
            "Requirement already satisfied: numpy in /usr/local/lib/python3.6/dist-packages (from torchvision==nightly+20200707) (1.18.5)\n",
            "Requirement already satisfied: future in /usr/local/lib/python3.6/dist-packages (from torch->torchvision==nightly+20200707) (0.16.0)\n",
            "Installing collected packages: torchvision\n",
            "Successfully installed torchvision-0.8.0a0+86b6c3e\n",
            "Reading package lists... Done\n",
            "Building dependency tree       \n",
            "Reading state information... Done\n",
            "libomp5 is already the newest version (5.0.1-1).\n",
            "libopenblas-dev is already the newest version (0.2.20+ds-4).\n",
            "The following package was automatically installed and is no longer required:\n",
            "  libnvidia-common-440\n",
            "Use 'apt autoremove' to remove it.\n",
            "0 upgraded, 0 newly installed, 0 to remove and 39 not upgraded.\n"
          ],
          "name": "stdout"
        }
      ]
    },
    {
      "cell_type": "code",
      "metadata": {
        "id": "mcQ_GrMw5YEn",
        "colab_type": "code",
        "colab": {}
      },
      "source": [
        "#export\n",
        "from fastai.callback.core import Callback\n",
        "from fastai.data.core import DataLoaders\n",
        "from fastai.vision.all import to_device\n",
        "from fastai.vision.all import *\n",
        "\n",
        "#export\n",
        "class MyXLAOptimProxy:\n",
        "    \"Proxy optimizer to override `opt.step` with Pytorch XLA sync method `xm.optimizer_step` \"  \n",
        "    def __init__(self,opt, barrier=True):\n",
        "        self.opt = opt\n",
        "        self._barrier = barrier\n",
        "        \n",
        "    def xla_step(self):\n",
        "        xm.optimizer_step(self.opt,barrier=self._barrier) # sync on gradient update\n",
        "        \n",
        "    def __getattr__(self,name):\n",
        "        if name == 'step': # override proxying for step\n",
        "            return getattr(self,'xla_step')\n",
        "        if name in ('barrier','_barrier'):\n",
        "            return getattr(self,name)\n",
        "\n",
        "        #print(f'MyXLAOptimProxy#{name}')\n",
        "        return getattr(self.opt,name)\n",
        "    @property\n",
        "    def barrier(self): return self._barrier\n",
        "    @barrier.setter\n",
        "    def barrier(self,v): self._barrier = v \n",
        "  \n",
        "class XLAOptCallback(Callback):\n",
        "    'Callback to replace `opt.step` with `xm.optimizer_step(opt)` as required to run on TPU'\n",
        "    def __init__(self, barrier=True):\n",
        "        self._barrier = barrier\n",
        "\n",
        "    def before_fit(self):\n",
        "        'replace opt with proxy which calls `xm.optimizer_step` instead of `opt.step` and set `dls.device` and model to `xla_device`'\n",
        "        to_device(self.dls, device=xm.xla_device())\n",
        "        self.model.to(self.dls.device)\n",
        "        if self.learn.opt is not None:\n",
        "            if not isinstance(self.learn.opt, MyXLAOptimProxy):\n",
        "                print(\"MyXLAOptimProxy asign in before_fit from XLAOptCallback\\n\"*10)\n",
        "                opt = self.learn.opt\n",
        "                self.learn.opt = MyXLAOptimProxy(opt, barrier=self._barrier)\n",
        "                \n",
        "    def after_fit(self):\n",
        "        'restore original opt '\n",
        "        if isinstance(self.learn.opt, MyXLAOptimProxy):\n",
        "            opt = self.learn.opt.opt\n",
        "            self.learn.opt = opt\n",
        "    @property\n",
        "    def barrier(self): return self._barrier\n",
        "    @barrier.setter\n",
        "    def barrier(self,v): self._barrier = v\n"
      ],
      "execution_count": 4,
      "outputs": []
    },
    {
      "cell_type": "code",
      "metadata": {
        "id": "SbRLI6NVqPKi",
        "colab_type": "code",
        "colab": {}
      },
      "source": [
        "\n",
        "import torch_xla.core.xla_model as xm\n",
        "dede = xm.xla_device()"
      ],
      "execution_count": 5,
      "outputs": []
    },
    {
      "cell_type": "code",
      "metadata": {
        "id": "FwqEIE9aA9ZT",
        "colab_type": "code",
        "colab": {}
      },
      "source": [
        "path = untar_data(URLs.MNIST_SAMPLE)\n",
        "dblock = DataBlock(\n",
        "    splitter = GrandparentSplitter(),\n",
        "    item_tfms = Resize(56),\n",
        "    blocks = (ImageBlock, CategoryBlock),\n",
        "    get_items = get_image_files,\n",
        "    get_y = parent_label,\n",
        "    batch_tfms = []\n",
        ")\n",
        "dls_tpu = dblock.dataloaders(path, device=dede)\n",
        "tpu_learner = cnn_learner(dls_tpu, resnet18, metrics=accuracy, cbs=[XLAOptCallback()])\n",
        "#tpu_learner.summary()\n",
        "#tpu_learner.show_training_loop()\n",
        "#tpu_learner.lr_find()\n",
        "#tpu_learner.dls.device#,tpu_learner.model.parameters().device"
      ],
      "execution_count": 6,
      "outputs": []
    },
    {
      "cell_type": "code",
      "metadata": {
        "id": "FwpugaGoJwDx",
        "colab_type": "code",
        "colab": {
          "base_uri": "https://localhost:8080/",
          "height": 491
        },
        "outputId": "a4c92d76-a9c7-40ca-df36-427992305bc4"
      },
      "source": [
        "tpu_learner.lr_find()"
      ],
      "execution_count": 7,
      "outputs": [
        {
          "output_type": "stream",
          "text": [
            "MyXLAOptimProxy asign in before_fit from XLAOptCallback\n",
            "MyXLAOptimProxy asign in before_fit from XLAOptCallback\n",
            "MyXLAOptimProxy asign in before_fit from XLAOptCallback\n",
            "MyXLAOptimProxy asign in before_fit from XLAOptCallback\n",
            "MyXLAOptimProxy asign in before_fit from XLAOptCallback\n",
            "MyXLAOptimProxy asign in before_fit from XLAOptCallback\n",
            "MyXLAOptimProxy asign in before_fit from XLAOptCallback\n",
            "MyXLAOptimProxy asign in before_fit from XLAOptCallback\n",
            "MyXLAOptimProxy asign in before_fit from XLAOptCallback\n",
            "MyXLAOptimProxy asign in before_fit from XLAOptCallback\n",
            "\n"
          ],
          "name": "stdout"
        },
        {
          "output_type": "display_data",
          "data": {
            "text/html": [
              ""
            ],
            "text/plain": [
              "<IPython.core.display.HTML object>"
            ]
          },
          "metadata": {
            "tags": []
          }
        },
        {
          "output_type": "execute_result",
          "data": {
            "text/plain": [
              "SuggestedLRs(lr_min=2.511886486900039e-06, lr_steep=4.786300905834651e-06)"
            ]
          },
          "metadata": {
            "tags": []
          },
          "execution_count": 7
        },
        {
          "output_type": "display_data",
          "data": {
            "image/png": "[encoded data removed]",
            "text/plain": [
              "<Figure size 432x288 with 1 Axes>"
            ]
          },
          "metadata": {
            "tags": [],
            "needs_background": "light"
          }
        }
      ]
    },
    {
      "cell_type": "code",
      "metadata": {
        "id": "O8y8-6KIwZBz",
        "colab_type": "code",
        "colab": {
          "base_uri": "https://localhost:8080/",
          "height": 366
        },
        "outputId": "f05deffa-5af5-4684-97ec-916ea11a6b05"
      },
      "source": [
        "tpu_learner.fit(4, lr=9.12010818865383e-07)"
      ],
      "execution_count": 8,
      "outputs": [
        {
          "output_type": "stream",
          "text": [
            "MyXLAOptimProxy asign in before_fit from XLAOptCallback\n",
            "MyXLAOptimProxy asign in before_fit from XLAOptCallback\n",
            "MyXLAOptimProxy asign in before_fit from XLAOptCallback\n",
            "MyXLAOptimProxy asign in before_fit from XLAOptCallback\n",
            "MyXLAOptimProxy asign in before_fit from XLAOptCallback\n",
            "MyXLAOptimProxy asign in before_fit from XLAOptCallback\n",
            "MyXLAOptimProxy asign in before_fit from XLAOptCallback\n",
            "MyXLAOptimProxy asign in before_fit from XLAOptCallback\n",
            "MyXLAOptimProxy asign in before_fit from XLAOptCallback\n",
            "MyXLAOptimProxy asign in before_fit from XLAOptCallback\n",
            "\n"
          ],
          "name": "stdout"
        },
        {
          "output_type": "display_data",
          "data": {
            "text/html": [
              "<table border=\"1\" class=\"dataframe\">\n",
              "  <thead>\n",
              "    <tr style=\"text-align: left;\">\n",
              "      <th>epoch</th>\n",
              "      <th>train_loss</th>\n",
              "      <th>valid_loss</th>\n",
              "      <th>accuracy</th>\n",
              "      <th>time</th>\n",
              "    </tr>\n",
              "  </thead>\n",
              "  <tbody>\n",
              "    <tr>\n",
              "      <td>0</td>\n",
              "      <td>1.283183</td>\n",
              "      <td>0.988838</td>\n",
              "      <td>0.498037</td>\n",
              "      <td>00:45</td>\n",
              "    </tr>\n",
              "    <tr>\n",
              "      <td>1</td>\n",
              "      <td>1.292144</td>\n",
              "      <td>1.002386</td>\n",
              "      <td>0.474975</td>\n",
              "      <td>00:24</td>\n",
              "    </tr>\n",
              "    <tr>\n",
              "      <td>2</td>\n",
              "      <td>1.287234</td>\n",
              "      <td>0.998904</td>\n",
              "      <td>0.485280</td>\n",
              "      <td>00:22</td>\n",
              "    </tr>\n",
              "    <tr>\n",
              "      <td>3</td>\n",
              "      <td>1.298177</td>\n",
              "      <td>0.980130</td>\n",
              "      <td>0.495584</td>\n",
              "      <td>00:23</td>\n",
              "    </tr>\n",
              "  </tbody>\n",
              "</table>"
            ],
            "text/plain": [
              "<IPython.core.display.HTML object>"
            ]
          },
          "metadata": {
            "tags": []
          }
        }
      ]
    },
    {
      "cell_type": "code",
      "metadata": {
        "id": "JQcRqct0vbBk",
        "colab_type": "code",
        "colab": {
          "base_uri": "https://localhost:8080/",
          "height": 823
        },
        "outputId": "9c84bb3e-0106-4ce7-fc0a-47253e32777e"
      },
      "source": [
        "path = untar_data(URLs.MNIST_SAMPLE)\n",
        "dblock = DataBlock(\n",
        "    splitter = GrandparentSplitter(),\n",
        "    item_tfms = Resize(28),\n",
        "    blocks = (ImageBlock, CategoryBlock),\n",
        "    get_items = get_image_files,\n",
        "    get_y = parent_label,\n",
        "    batch_tfms = []\n",
        ")\n",
        "dls_tpu2 = dblock.dataloaders(path, device=dede)\n",
        "tpu_learner2 = cnn_learner(dls_tpu2, resnet18, pretrained=False, metrics=accuracy, cbs=[XLAOptCallback()])\n",
        "tpu_learner2.lr_find()\n",
        "tpu_learner2.fit(4, lr=1e-7)"
      ],
      "execution_count": 9,
      "outputs": [
        {
          "output_type": "stream",
          "text": [
            "MyXLAOptimProxy asign in before_fit from XLAOptCallback\n",
            "MyXLAOptimProxy asign in before_fit from XLAOptCallback\n",
            "MyXLAOptimProxy asign in before_fit from XLAOptCallback\n",
            "MyXLAOptimProxy asign in before_fit from XLAOptCallback\n",
            "MyXLAOptimProxy asign in before_fit from XLAOptCallback\n",
            "MyXLAOptimProxy asign in before_fit from XLAOptCallback\n",
            "MyXLAOptimProxy asign in before_fit from XLAOptCallback\n",
            "MyXLAOptimProxy asign in before_fit from XLAOptCallback\n",
            "MyXLAOptimProxy asign in before_fit from XLAOptCallback\n",
            "MyXLAOptimProxy asign in before_fit from XLAOptCallback\n",
            "\n"
          ],
          "name": "stdout"
        },
        {
          "output_type": "display_data",
          "data": {
            "text/html": [
              ""
            ],
            "text/plain": [
              "<IPython.core.display.HTML object>"
            ]
          },
          "metadata": {
            "tags": []
          }
        },
        {
          "output_type": "stream",
          "text": [
            "MyXLAOptimProxy asign in before_fit from XLAOptCallback\n",
            "MyXLAOptimProxy asign in before_fit from XLAOptCallback\n",
            "MyXLAOptimProxy asign in before_fit from XLAOptCallback\n",
            "MyXLAOptimProxy asign in before_fit from XLAOptCallback\n",
            "MyXLAOptimProxy asign in before_fit from XLAOptCallback\n",
            "MyXLAOptimProxy asign in before_fit from XLAOptCallback\n",
            "MyXLAOptimProxy asign in before_fit from XLAOptCallback\n",
            "MyXLAOptimProxy asign in before_fit from XLAOptCallback\n",
            "MyXLAOptimProxy asign in before_fit from XLAOptCallback\n",
            "MyXLAOptimProxy asign in before_fit from XLAOptCallback\n",
            "\n"
          ],
          "name": "stdout"
        },
        {
          "output_type": "display_data",
          "data": {
            "text/html": [
              "<table border=\"1\" class=\"dataframe\">\n",
              "  <thead>\n",
              "    <tr style=\"text-align: left;\">\n",
              "      <th>epoch</th>\n",
              "      <th>train_loss</th>\n",
              "      <th>valid_loss</th>\n",
              "      <th>accuracy</th>\n",
              "      <th>time</th>\n",
              "    </tr>\n",
              "  </thead>\n",
              "  <tbody>\n",
              "    <tr>\n",
              "      <td>0</td>\n",
              "      <td>1.471159</td>\n",
              "      <td>1.163848</td>\n",
              "      <td>0.454367</td>\n",
              "      <td>00:33</td>\n",
              "    </tr>\n",
              "    <tr>\n",
              "      <td>1</td>\n",
              "      <td>1.472113</td>\n",
              "      <td>1.145205</td>\n",
              "      <td>0.457311</td>\n",
              "      <td>00:19</td>\n",
              "    </tr>\n",
              "    <tr>\n",
              "      <td>2</td>\n",
              "      <td>1.484353</td>\n",
              "      <td>1.157756</td>\n",
              "      <td>0.452404</td>\n",
              "      <td>00:19</td>\n",
              "    </tr>\n",
              "    <tr>\n",
              "      <td>3</td>\n",
              "      <td>1.495891</td>\n",
              "      <td>1.161738</td>\n",
              "      <td>0.453876</td>\n",
              "      <td>00:19</td>\n",
              "    </tr>\n",
              "  </tbody>\n",
              "</table>"
            ],
            "text/plain": [
              "<IPython.core.display.HTML object>"
            ]
          },
          "metadata": {
            "tags": []
          }
        },
        {
          "output_type": "display_data",
          "data": {
            "image/png": "[encoded data removed]",
            "text/plain": [
              "<Figure size 432x288 with 1 Axes>"
            ]
          },
          "metadata": {
            "tags": [],
            "needs_background": "light"
          }
        }
      ]
    },
    {
      "cell_type": "code",
      "metadata": {
        "id": "jNEqh6stvkeK",
        "colab_type": "code",
        "colab": {
          "base_uri": "https://localhost:8080/",
          "height": 823
        },
        "outputId": "d25ae4cd-a844-41d3-8a70-77a23f06dc2f"
      },
      "source": [
        "path = untar_data(URLs.MNIST_SAMPLE)\n",
        "dblock = DataBlock(\n",
        "    splitter = GrandparentSplitter(),\n",
        "    item_tfms = Resize(28),\n",
        "    blocks = (ImageBlock, CategoryBlock),\n",
        "    get_items = get_image_files,\n",
        "    get_y = parent_label,\n",
        "    batch_tfms = []\n",
        ")\n",
        "dls_tpu3 = dblock.dataloaders(path, device=dede)\n",
        "tpu_learner3 = cnn_learner(dls_tpu3, resnet18, pretrained=True, metrics=accuracy, cbs=[XLAOptCallback()])\n",
        "tpu_learner3.lr_find()\n",
        "tpu_learner3.fit(4, lr=1e-3)"
      ],
      "execution_count": 10,
      "outputs": [
        {
          "output_type": "stream",
          "text": [
            "MyXLAOptimProxy asign in before_fit from XLAOptCallback\n",
            "MyXLAOptimProxy asign in before_fit from XLAOptCallback\n",
            "MyXLAOptimProxy asign in before_fit from XLAOptCallback\n",
            "MyXLAOptimProxy asign in before_fit from XLAOptCallback\n",
            "MyXLAOptimProxy asign in before_fit from XLAOptCallback\n",
            "MyXLAOptimProxy asign in before_fit from XLAOptCallback\n",
            "MyXLAOptimProxy asign in before_fit from XLAOptCallback\n",
            "MyXLAOptimProxy asign in before_fit from XLAOptCallback\n",
            "MyXLAOptimProxy asign in before_fit from XLAOptCallback\n",
            "MyXLAOptimProxy asign in before_fit from XLAOptCallback\n",
            "\n"
          ],
          "name": "stdout"
        },
        {
          "output_type": "display_data",
          "data": {
            "text/html": [
              ""
            ],
            "text/plain": [
              "<IPython.core.display.HTML object>"
            ]
          },
          "metadata": {
            "tags": []
          }
        },
        {
          "output_type": "stream",
          "text": [
            "MyXLAOptimProxy asign in before_fit from XLAOptCallback\n",
            "MyXLAOptimProxy asign in before_fit from XLAOptCallback\n",
            "MyXLAOptimProxy asign in before_fit from XLAOptCallback\n",
            "MyXLAOptimProxy asign in before_fit from XLAOptCallback\n",
            "MyXLAOptimProxy asign in before_fit from XLAOptCallback\n",
            "MyXLAOptimProxy asign in before_fit from XLAOptCallback\n",
            "MyXLAOptimProxy asign in before_fit from XLAOptCallback\n",
            "MyXLAOptimProxy asign in before_fit from XLAOptCallback\n",
            "MyXLAOptimProxy asign in before_fit from XLAOptCallback\n",
            "MyXLAOptimProxy asign in before_fit from XLAOptCallback\n",
            "\n"
          ],
          "name": "stdout"
        },
        {
          "output_type": "display_data",
          "data": {
            "text/html": [
              "<table border=\"1\" class=\"dataframe\">\n",
              "  <thead>\n",
              "    <tr style=\"text-align: left;\">\n",
              "      <th>epoch</th>\n",
              "      <th>train_loss</th>\n",
              "      <th>valid_loss</th>\n",
              "      <th>accuracy</th>\n",
              "      <th>time</th>\n",
              "    </tr>\n",
              "  </thead>\n",
              "  <tbody>\n",
              "    <tr>\n",
              "      <td>0</td>\n",
              "      <td>1.360293</td>\n",
              "      <td>0.929623</td>\n",
              "      <td>0.511286</td>\n",
              "      <td>00:33</td>\n",
              "    </tr>\n",
              "    <tr>\n",
              "      <td>1</td>\n",
              "      <td>1.312755</td>\n",
              "      <td>0.951045</td>\n",
              "      <td>0.503435</td>\n",
              "      <td>00:19</td>\n",
              "    </tr>\n",
              "    <tr>\n",
              "      <td>2</td>\n",
              "      <td>1.335082</td>\n",
              "      <td>0.927400</td>\n",
              "      <td>0.512267</td>\n",
              "      <td>00:19</td>\n",
              "    </tr>\n",
              "    <tr>\n",
              "      <td>3</td>\n",
              "      <td>1.333127</td>\n",
              "      <td>0.949498</td>\n",
              "      <td>0.502944</td>\n",
              "      <td>00:19</td>\n",
              "    </tr>\n",
              "  </tbody>\n",
              "</table>"
            ],
            "text/plain": [
              "<IPython.core.display.HTML object>"
            ]
          },
          "metadata": {
            "tags": []
          }
        },
        {
          "output_type": "display_data",
          "data": {
            "image/png": "[encoded data removed]",
            "text/plain": [
              "<Figure size 432x288 with 1 Axes>"
            ]
          },
          "metadata": {
            "tags": [],
            "needs_background": "light"
          }
        }
      ]
    },
    {
      "cell_type": "markdown",
      "metadata": {
        "id": "DI9qS4iXpcGK",
        "colab_type": "text"
      },
      "source": [
        "# Manual freeze"
      ]
    },
    {
      "cell_type": "code",
      "metadata": {
        "id": "mcNmIhhXpWl8",
        "colab_type": "code",
        "colab": {}
      },
      "source": [
        "#export\n",
        "from fastai.callback.core import Callback\n",
        "from fastai.data.core import DataLoaders\n",
        "from fastai.vision.all import to_device\n",
        "from fastai.vision.all import *\n",
        "\n",
        "#export\n",
        "class MyXLAOptimProxy:\n",
        "    \"Proxy optimizer to override `opt.step` with Pytorch XLA sync method `xm.optimizer_step` \"  \n",
        "    def __init__(self,opt, barrier=True):\n",
        "        self.opt = opt\n",
        "        self._barrier = barrier\n",
        "        \n",
        "    def xla_step(self):\n",
        "        xm.optimizer_step(self.opt,barrier=self._barrier) # sync on gradient update\n",
        "        \n",
        "    def __getattr__(self,name):\n",
        "        if name == 'step': # override proxying for step\n",
        "            return getattr(self,'xla_step')\n",
        "        if name in ('barrier','_barrier'):\n",
        "            return getattr(self,name)\n",
        "\n",
        "        return getattr(self.opt,name)\n",
        "    @property\n",
        "    def barrier(self): return self._barrier\n",
        "    @barrier.setter\n",
        "    def barrier(self,v): self._barrier = v \n",
        "  \n",
        "class MyXLAOptCallback(Callback):\n",
        "    'Callback to replace `opt.step` with `xm.optimizer_step(opt)` as required to run on TPU'\n",
        "    def __init__(self, barrier=True):\n",
        "        self._barrier = barrier\n",
        "\n",
        "    def before_fit(self):\n",
        "        'replace opt with proxy which calls `xm.optimizer_step` instead of `opt.step` and set `dls.device` and model to `xla_device`'\n",
        "        to_device(self.dls, device=xm.xla_device())\n",
        "        self.model.to(self.dls.device)\n",
        "        if self.learn.opt is not None:\n",
        "            if not isinstance(self.learn.opt, MyXLAOptimProxy):\n",
        "                print(\"MyXLAOptimProxy asign in before_fit from MyXLAOptCallback\\n\"*10)\n",
        "                opt = self.learn.opt\n",
        "                self.learn.opt = MyXLAOptimProxy(opt, barrier=self._barrier)\n",
        "                \n",
        "    def after_fit(self):\n",
        "        'restore original opt '\n",
        "        if isinstance(self.learn.opt, MyXLAOptimProxy):\n",
        "            opt = self.learn.opt.opt\n",
        "            self.learn.opt = opt\n",
        "    @property\n",
        "    def barrier(self): return self._barrier\n",
        "    @barrier.setter\n",
        "    def barrier(self,v): self._barrier = v\n",
        "\n",
        "path = untar_data(URLs.MNIST_SAMPLE)\n",
        "dblock = DataBlock(\n",
        "    splitter = GrandparentSplitter(),\n",
        "    item_tfms = Resize(28),\n",
        "    blocks = (ImageBlock, CategoryBlock),\n",
        "    get_items = get_image_files,\n",
        "    get_y = parent_label,\n",
        "    batch_tfms = []\n",
        ")\n",
        "dls_tpu_manual = dblock.dataloaders(path, device=dede)\n",
        "# pass false so that we unfreeze manually as in the cnn_learner\n",
        "tpu_learner_manual = cnn_learner(dls_tpu_manual, resnet18, pretrained=False, metrics=accuracy, cbs=[MyXLAOptCallback()])\n",
        "\n"
      ],
      "execution_count": 11,
      "outputs": []
    },
    {
      "cell_type": "markdown",
      "metadata": {
        "id": "eS8K2B0S0UCE",
        "colab_type": "text"
      },
      "source": [
        "# manual freezing!"
      ]
    },
    {
      "cell_type": "code",
      "metadata": {
        "id": "vQ2dL6zn0SyN",
        "colab_type": "code",
        "colab": {
          "base_uri": "https://localhost:8080/",
          "height": 52
        },
        "outputId": "f219bbcc-9ebf-4185-cc15-51dd00013c7d"
      },
      "source": [
        "\n",
        "#####################################################\n",
        "#####################################################\n",
        "#####################################################\n",
        "#####################################################\n",
        "#####################################################\n",
        "#####################################################\n",
        "#####################################################\n",
        "# like call to learn.freeze() that does freeze_to(-1)\n",
        "#####################################################\n",
        "#####################################################\n",
        "#####################################################\n",
        "n = -1\n",
        "if tpu_learner_manual.opt is None:\n",
        "    print(\"create opttttttttttttttttttttttttttttttttttttttttt\")\n",
        "    tpu_learner_manual.create_opt()\n",
        "    print(f'create_opt {tpu_learner_manual.opt}')\n",
        "    tpu_learner_manual.opt = MyXLAOptimProxy(tpu_learner_manual.opt)\n",
        "tpu_learner_manual.opt.freeze_to(n)\n",
        "tpu_learner_manual.opt.clear_state()\n"
      ],
      "execution_count": 12,
      "outputs": [
        {
          "output_type": "stream",
          "text": [
            "create opttttttttttttttttttttttttttttttttttttttttt\n",
            "create_opt <fastai.optimizer.Optimizer object at 0x7f0344ca7d68>\n"
          ],
          "name": "stdout"
        }
      ]
    },
    {
      "cell_type": "code",
      "metadata": {
        "id": "NL892P7btRI1",
        "colab_type": "code",
        "colab": {
          "base_uri": "https://localhost:8080/",
          "height": 34
        },
        "outputId": "85656151-afab-4e34-c9e6-baf0e9472436"
      },
      "source": [
        "tpu_learner_manual.dls.device"
      ],
      "execution_count": 13,
      "outputs": [
        {
          "output_type": "execute_result",
          "data": {
            "text/plain": [
              "device(type='xla', index=1)"
            ]
          },
          "metadata": {
            "tags": []
          },
          "execution_count": 13
        }
      ]
    },
    {
      "cell_type": "code",
      "metadata": {
        "id": "VWXn3LWUphMa",
        "colab_type": "code",
        "colab": {
          "base_uri": "https://localhost:8080/",
          "height": 300
        },
        "outputId": "0648e015-532b-426d-9728-ef4ba24d54ef"
      },
      "source": [
        "tpu_learner_manual.lr_find()"
      ],
      "execution_count": 14,
      "outputs": [
        {
          "output_type": "display_data",
          "data": {
            "text/html": [
              ""
            ],
            "text/plain": [
              "<IPython.core.display.HTML object>"
            ]
          },
          "metadata": {
            "tags": []
          }
        },
        {
          "output_type": "execute_result",
          "data": {
            "text/plain": [
              "SuggestedLRs(lr_min=0.017378008365631102, lr_steep=2.0892961401841603e-05)"
            ]
          },
          "metadata": {
            "tags": []
          },
          "execution_count": 14
        },
        {
          "output_type": "display_data",
          "data": {
            "image/png": "[encoded data removed]",
            "text/plain": [
              "<Figure size 432x288 with 1 Axes>"
            ]
          },
          "metadata": {
            "tags": [],
            "needs_background": "light"
          }
        }
      ]
    },
    {
      "cell_type": "code",
      "metadata": {
        "id": "WkoVnQS4rz0h",
        "colab_type": "code",
        "colab": {
          "base_uri": "https://localhost:8080/",
          "height": 1000
        },
        "outputId": "f33d6cb2-afa7-487f-927e-00b6283da038"
      },
      "source": [
        "init = [p.clone() for p in tpu_learner_manual.model.parameters()]\n",
        "\n",
        "tpu_learner_manual.fit(4, lr=2e-06)\n",
        "end = [p.clone() for p in tpu_learner_manual.model.parameters()]\n",
        "for i in range(len(tpu_learner_manual.model)):\n",
        "  # they seem to print the same!!!!\n",
        "  print(end[i][:1], end[i][-1:])\n",
        "  print(init[i][:1], init[i][-1:])"
      ],
      "execution_count": 15,
      "outputs": [
        {
          "output_type": "stream",
          "text": [
            "MyXLAOptimProxy asign in before_fit from MyXLAOptCallback\n",
            "MyXLAOptimProxy asign in before_fit from MyXLAOptCallback\n",
            "MyXLAOptimProxy asign in before_fit from MyXLAOptCallback\n",
            "MyXLAOptimProxy asign in before_fit from MyXLAOptCallback\n",
            "MyXLAOptimProxy asign in before_fit from MyXLAOptCallback\n",
            "MyXLAOptimProxy asign in before_fit from MyXLAOptCallback\n",
            "MyXLAOptimProxy asign in before_fit from MyXLAOptCallback\n",
            "MyXLAOptimProxy asign in before_fit from MyXLAOptCallback\n",
            "MyXLAOptimProxy asign in before_fit from MyXLAOptCallback\n",
            "MyXLAOptimProxy asign in before_fit from MyXLAOptCallback\n",
            "\n"
          ],
          "name": "stdout"
        },
        {
          "output_type": "display_data",
          "data": {
            "text/html": [
              "<table border=\"1\" class=\"dataframe\">\n",
              "  <thead>\n",
              "    <tr style=\"text-align: left;\">\n",
              "      <th>epoch</th>\n",
              "      <th>train_loss</th>\n",
              "      <th>valid_loss</th>\n",
              "      <th>accuracy</th>\n",
              "      <th>time</th>\n",
              "    </tr>\n",
              "  </thead>\n",
              "  <tbody>\n",
              "    <tr>\n",
              "      <td>0</td>\n",
              "      <td>1.261775</td>\n",
              "      <td>0.891863</td>\n",
              "      <td>0.565260</td>\n",
              "      <td>00:24</td>\n",
              "    </tr>\n",
              "    <tr>\n",
              "      <td>1</td>\n",
              "      <td>1.284016</td>\n",
              "      <td>0.892756</td>\n",
              "      <td>0.570167</td>\n",
              "      <td>00:19</td>\n",
              "    </tr>\n",
              "    <tr>\n",
              "      <td>2</td>\n",
              "      <td>1.286610</td>\n",
              "      <td>0.896700</td>\n",
              "      <td>0.572130</td>\n",
              "      <td>00:19</td>\n",
              "    </tr>\n",
              "    <tr>\n",
              "      <td>3</td>\n",
              "      <td>1.250977</td>\n",
              "      <td>0.889644</td>\n",
              "      <td>0.567713</td>\n",
              "      <td>00:19</td>\n",
              "    </tr>\n",
              "  </tbody>\n",
              "</table>"
            ],
            "text/plain": [
              "<IPython.core.display.HTML object>"
            ]
          },
          "metadata": {
            "tags": []
          }
        },
        {
          "output_type": "stream",
          "text": [
            "tensor([[[[ 3.0274e-02,  2.3662e-02,  6.1625e-03, -7.1819e-03,  3.1178e-03,\n",
            "            2.2259e-02, -1.0388e-02],\n",
            "          [ 1.0376e-02,  1.4021e-02, -1.2906e-02,  7.1755e-03, -2.3020e-02,\n",
            "            1.3535e-02,  3.1787e-03],\n",
            "          [-1.4288e-02,  4.7340e-03,  1.5202e-03,  9.1876e-03,  2.4330e-02,\n",
            "           -2.4263e-03, -3.0829e-02],\n",
            "          [-6.9291e-04, -4.4151e-03, -3.2582e-02, -2.0012e-02,  5.8064e-03,\n",
            "            4.4624e-03,  1.9771e-02],\n",
            "          [-4.3801e-02,  2.1965e-03, -6.5123e-03, -2.3140e-02,  4.2441e-02,\n",
            "            6.6365e-03, -1.5309e-02],\n",
            "          [ 3.4548e-02,  1.8234e-02,  2.7112e-02, -2.9858e-02, -1.4513e-03,\n",
            "           -1.0586e-02,  2.8342e-02],\n",
            "          [-1.0626e-02,  2.3720e-03, -2.3262e-02,  2.1117e-02, -1.5652e-02,\n",
            "            1.3295e-02, -3.4441e-02]],\n",
            "\n",
            "         [[-1.2875e-02,  4.9325e-02,  2.3618e-02,  1.3809e-02, -3.8302e-02,\n",
            "           -2.1558e-02,  5.1943e-03],\n",
            "          [-1.0454e-02, -2.8992e-03, -2.4339e-02, -1.9426e-02, -2.7581e-02,\n",
            "           -1.8337e-02,  1.5333e-02],\n",
            "          [ 1.0802e-02, -4.5692e-02,  1.1894e-02,  1.0988e-02,  2.8538e-02,\n",
            "            7.6264e-03,  3.9697e-02],\n",
            "          [ 1.6902e-03, -1.6591e-02,  4.4858e-02,  5.6392e-02,  1.7781e-02,\n",
            "           -2.3666e-02,  5.1637e-02],\n",
            "          [-1.4032e-03,  7.5662e-03, -1.2418e-02, -4.4958e-04, -5.2050e-03,\n",
            "            8.7229e-03, -3.0373e-05],\n",
            "          [ 3.2369e-02, -1.7233e-02, -3.2771e-02,  2.6321e-02, -1.5246e-02,\n",
            "           -5.7646e-03,  1.4936e-02],\n",
            "          [-2.3548e-02,  1.8427e-03,  2.7924e-03,  5.1150e-02, -6.6686e-03,\n",
            "            3.2273e-02,  1.3658e-02]],\n",
            "\n",
            "         [[-1.8773e-02, -1.7448e-02, -5.2981e-03, -3.7912e-02,  4.7619e-02,\n",
            "           -3.9764e-02,  2.8575e-02],\n",
            "          [ 1.9414e-02, -1.8775e-02, -2.9292e-03,  4.7013e-03, -2.4906e-02,\n",
            "           -8.7041e-03, -6.7490e-03],\n",
            "          [-1.8370e-02,  6.8542e-03,  3.8032e-02,  3.0945e-02, -3.6384e-02,\n",
            "           -5.1456e-02,  4.6821e-02],\n",
            "          [-1.9758e-02, -1.3604e-02,  7.7846e-03,  1.3351e-02, -2.4081e-03,\n",
            "            5.2793e-03,  1.0777e-02],\n",
            "          [ 5.3182e-02,  1.4733e-02, -7.9221e-03,  9.9705e-03,  5.0101e-03,\n",
            "           -3.7912e-02,  1.6330e-02],\n",
            "          [ 4.5609e-02, -2.8446e-02,  2.6842e-02, -5.2357e-02, -3.3444e-02,\n",
            "           -4.4832e-02, -1.1663e-02],\n",
            "          [-5.1541e-03, -1.7783e-02, -2.3183e-02,  5.5753e-03, -5.1988e-03,\n",
            "           -1.6579e-04,  3.9397e-03]]]], device='xla:1') tensor([[[[-0.0135,  0.0244, -0.0268, -0.0072, -0.0181,  0.0127, -0.0228],\n",
            "          [ 0.0035,  0.0650, -0.0228,  0.0286,  0.0273,  0.0038,  0.0173],\n",
            "          [ 0.0191,  0.0053,  0.0166, -0.0225, -0.0272,  0.0202, -0.0036],\n",
            "          [-0.0099, -0.0020, -0.0066,  0.0296,  0.0122,  0.0171, -0.0124],\n",
            "          [ 0.0283,  0.0041, -0.0120, -0.0223, -0.0120,  0.0303,  0.0057],\n",
            "          [-0.0058,  0.0072,  0.0154,  0.0411,  0.0272,  0.0250, -0.0064],\n",
            "          [ 0.0223, -0.0192,  0.0093,  0.0235, -0.0525,  0.0385, -0.0049]],\n",
            "\n",
            "         [[-0.0244,  0.0066, -0.0002,  0.0407,  0.0096,  0.0043,  0.0141],\n",
            "          [-0.0323, -0.0118, -0.0329, -0.0217,  0.0222, -0.0571, -0.0003],\n",
            "          [-0.0006, -0.0225, -0.0111,  0.0047,  0.0096,  0.0148,  0.0342],\n",
            "          [ 0.0054, -0.0314, -0.0179, -0.0301,  0.0031,  0.0165, -0.0043],\n",
            "          [ 0.0046, -0.0022, -0.0086, -0.0052,  0.0028, -0.0042, -0.0050],\n",
            "          [-0.0198, -0.0257, -0.0096,  0.0170, -0.0003,  0.0051, -0.0201],\n",
            "          [ 0.0157,  0.0014, -0.0109, -0.0111, -0.0089, -0.0269, -0.0068]],\n",
            "\n",
            "         [[ 0.0011,  0.0107,  0.0210,  0.0219, -0.0043,  0.0049, -0.0363],\n",
            "          [-0.0017,  0.0397,  0.0226, -0.0068, -0.0488,  0.0045, -0.0450],\n",
            "          [-0.0302, -0.0194, -0.0292,  0.0284,  0.0232,  0.0001,  0.0050],\n",
            "          [-0.0352, -0.0127,  0.0257, -0.0327, -0.0007, -0.0588,  0.0195],\n",
            "          [-0.0203, -0.0110, -0.0032,  0.0313,  0.0155,  0.0146,  0.0061],\n",
            "          [-0.0633, -0.0304, -0.0012, -0.0020, -0.0351, -0.0113, -0.0438],\n",
            "          [-0.0171,  0.0206,  0.0400, -0.0064, -0.0058, -0.0295, -0.0120]]]],\n",
            "       device='xla:1')\n",
            "tensor([[[[ 3.0274e-02,  2.3662e-02,  6.1625e-03, -7.1819e-03,  3.1178e-03,\n",
            "            2.2259e-02, -1.0388e-02],\n",
            "          [ 1.0376e-02,  1.4021e-02, -1.2906e-02,  7.1755e-03, -2.3020e-02,\n",
            "            1.3535e-02,  3.1787e-03],\n",
            "          [-1.4288e-02,  4.7340e-03,  1.5202e-03,  9.1876e-03,  2.4330e-02,\n",
            "           -2.4263e-03, -3.0829e-02],\n",
            "          [-6.9291e-04, -4.4151e-03, -3.2582e-02, -2.0012e-02,  5.8064e-03,\n",
            "            4.4624e-03,  1.9771e-02],\n",
            "          [-4.3801e-02,  2.1965e-03, -6.5123e-03, -2.3140e-02,  4.2441e-02,\n",
            "            6.6365e-03, -1.5309e-02],\n",
            "          [ 3.4548e-02,  1.8234e-02,  2.7112e-02, -2.9858e-02, -1.4513e-03,\n",
            "           -1.0586e-02,  2.8342e-02],\n",
            "          [-1.0626e-02,  2.3720e-03, -2.3262e-02,  2.1117e-02, -1.5652e-02,\n",
            "            1.3295e-02, -3.4441e-02]],\n",
            "\n",
            "         [[-1.2875e-02,  4.9325e-02,  2.3618e-02,  1.3809e-02, -3.8302e-02,\n",
            "           -2.1558e-02,  5.1943e-03],\n",
            "          [-1.0454e-02, -2.8992e-03, -2.4339e-02, -1.9426e-02, -2.7581e-02,\n",
            "           -1.8337e-02,  1.5333e-02],\n",
            "          [ 1.0802e-02, -4.5692e-02,  1.1894e-02,  1.0988e-02,  2.8538e-02,\n",
            "            7.6264e-03,  3.9697e-02],\n",
            "          [ 1.6902e-03, -1.6591e-02,  4.4858e-02,  5.6392e-02,  1.7781e-02,\n",
            "           -2.3666e-02,  5.1637e-02],\n",
            "          [-1.4032e-03,  7.5662e-03, -1.2418e-02, -4.4958e-04, -5.2050e-03,\n",
            "            8.7229e-03, -3.0373e-05],\n",
            "          [ 3.2369e-02, -1.7233e-02, -3.2771e-02,  2.6321e-02, -1.5246e-02,\n",
            "           -5.7646e-03,  1.4936e-02],\n",
            "          [-2.3548e-02,  1.8427e-03,  2.7924e-03,  5.1150e-02, -6.6686e-03,\n",
            "            3.2273e-02,  1.3658e-02]],\n",
            "\n",
            "         [[-1.8773e-02, -1.7448e-02, -5.2981e-03, -3.7912e-02,  4.7619e-02,\n",
            "           -3.9764e-02,  2.8575e-02],\n",
            "          [ 1.9414e-02, -1.8775e-02, -2.9292e-03,  4.7013e-03, -2.4906e-02,\n",
            "           -8.7041e-03, -6.7490e-03],\n",
            "          [-1.8370e-02,  6.8542e-03,  3.8032e-02,  3.0945e-02, -3.6384e-02,\n",
            "           -5.1456e-02,  4.6821e-02],\n",
            "          [-1.9758e-02, -1.3604e-02,  7.7846e-03,  1.3351e-02, -2.4081e-03,\n",
            "            5.2793e-03,  1.0777e-02],\n",
            "          [ 5.3182e-02,  1.4733e-02, -7.9221e-03,  9.9705e-03,  5.0101e-03,\n",
            "           -3.7912e-02,  1.6330e-02],\n",
            "          [ 4.5609e-02, -2.8446e-02,  2.6842e-02, -5.2357e-02, -3.3444e-02,\n",
            "           -4.4832e-02, -1.1663e-02],\n",
            "          [-5.1541e-03, -1.7783e-02, -2.3183e-02,  5.5753e-03, -5.1988e-03,\n",
            "           -1.6579e-04,  3.9397e-03]]]], device='xla:1') tensor([[[[-0.0135,  0.0244, -0.0268, -0.0072, -0.0181,  0.0127, -0.0228],\n",
            "          [ 0.0035,  0.0650, -0.0228,  0.0286,  0.0273,  0.0038,  0.0173],\n",
            "          [ 0.0191,  0.0053,  0.0166, -0.0225, -0.0272,  0.0202, -0.0036],\n",
            "          [-0.0099, -0.0020, -0.0066,  0.0296,  0.0122,  0.0171, -0.0124],\n",
            "          [ 0.0283,  0.0041, -0.0120, -0.0223, -0.0120,  0.0303,  0.0057],\n",
            "          [-0.0058,  0.0072,  0.0154,  0.0411,  0.0272,  0.0250, -0.0064],\n",
            "          [ 0.0223, -0.0192,  0.0093,  0.0235, -0.0525,  0.0385, -0.0049]],\n",
            "\n",
            "         [[-0.0244,  0.0066, -0.0002,  0.0407,  0.0096,  0.0043,  0.0141],\n",
            "          [-0.0323, -0.0118, -0.0329, -0.0217,  0.0222, -0.0571, -0.0003],\n",
            "          [-0.0006, -0.0225, -0.0111,  0.0047,  0.0096,  0.0148,  0.0342],\n",
            "          [ 0.0054, -0.0314, -0.0179, -0.0301,  0.0031,  0.0165, -0.0043],\n",
            "          [ 0.0046, -0.0022, -0.0086, -0.0052,  0.0028, -0.0042, -0.0050],\n",
            "          [-0.0198, -0.0257, -0.0096,  0.0170, -0.0003,  0.0051, -0.0201],\n",
            "          [ 0.0157,  0.0014, -0.0109, -0.0111, -0.0089, -0.0269, -0.0068]],\n",
            "\n",
            "         [[ 0.0011,  0.0107,  0.0210,  0.0219, -0.0043,  0.0049, -0.0363],\n",
            "          [-0.0017,  0.0397,  0.0226, -0.0068, -0.0488,  0.0045, -0.0450],\n",
            "          [-0.0302, -0.0194, -0.0292,  0.0284,  0.0232,  0.0001,  0.0050],\n",
            "          [-0.0352, -0.0127,  0.0257, -0.0327, -0.0007, -0.0588,  0.0195],\n",
            "          [-0.0203, -0.0110, -0.0032,  0.0313,  0.0155,  0.0146,  0.0061],\n",
            "          [-0.0633, -0.0304, -0.0012, -0.0020, -0.0351, -0.0113, -0.0438],\n",
            "          [-0.0171,  0.0206,  0.0400, -0.0064, -0.0058, -0.0295, -0.0120]]]],\n",
            "       device='xla:1')\n",
            "tensor([1.], device='xla:1', grad_fn=<SliceBackward>) tensor([1.], device='xla:1', grad_fn=<SliceBackward>)\n",
            "tensor([1.], device='xla:1', grad_fn=<SliceBackward>) tensor([1.], device='xla:1', grad_fn=<SliceBackward>)\n"
          ],
          "name": "stdout"
        }
      ]
    },
    {
      "cell_type": "code",
      "metadata": {
        "id": "MELsjbyFBx1f",
        "colab_type": "code",
        "colab": {
          "base_uri": "https://localhost:8080/",
          "height": 1000
        },
        "outputId": "12a89fa0-bc4d-4e0a-ce90-fa263b8371c5"
      },
      "source": [
        "l = zip(init, end)\n",
        "for x, y in l:\n",
        "  eq = torch.eq(x==y, torch.ones_like(y)).byte().all()\n",
        "  print(eq)"
      ],
      "execution_count": 16,
      "outputs": [
        {
          "output_type": "stream",
          "text": [
            "tensor(1, device='xla:1', dtype=torch.uint8)\n",
            "tensor(1, device='xla:1', dtype=torch.uint8)\n",
            "tensor(1, device='xla:1', dtype=torch.uint8)\n",
            "tensor(1, device='xla:1', dtype=torch.uint8)\n",
            "tensor(1, device='xla:1', dtype=torch.uint8)\n",
            "tensor(1, device='xla:1', dtype=torch.uint8)\n",
            "tensor(1, device='xla:1', dtype=torch.uint8)\n",
            "tensor(1, device='xla:1', dtype=torch.uint8)\n",
            "tensor(1, device='xla:1', dtype=torch.uint8)\n",
            "tensor(1, device='xla:1', dtype=torch.uint8)\n",
            "tensor(1, device='xla:1', dtype=torch.uint8)\n",
            "tensor(1, device='xla:1', dtype=torch.uint8)\n",
            "tensor(1, device='xla:1', dtype=torch.uint8)\n",
            "tensor(1, device='xla:1', dtype=torch.uint8)\n",
            "tensor(1, device='xla:1', dtype=torch.uint8)\n",
            "tensor(1, device='xla:1', dtype=torch.uint8)\n",
            "tensor(1, device='xla:1', dtype=torch.uint8)\n",
            "tensor(1, device='xla:1', dtype=torch.uint8)\n",
            "tensor(1, device='xla:1', dtype=torch.uint8)\n",
            "tensor(1, device='xla:1', dtype=torch.uint8)\n",
            "tensor(1, device='xla:1', dtype=torch.uint8)\n",
            "tensor(1, device='xla:1', dtype=torch.uint8)\n",
            "tensor(1, device='xla:1', dtype=torch.uint8)\n",
            "tensor(1, device='xla:1', dtype=torch.uint8)\n",
            "tensor(1, device='xla:1', dtype=torch.uint8)\n",
            "tensor(1, device='xla:1', dtype=torch.uint8)\n",
            "tensor(1, device='xla:1', dtype=torch.uint8)\n",
            "tensor(1, device='xla:1', dtype=torch.uint8)\n",
            "tensor(1, device='xla:1', dtype=torch.uint8)\n",
            "tensor(1, device='xla:1', dtype=torch.uint8)\n",
            "tensor(1, device='xla:1', dtype=torch.uint8)\n",
            "tensor(1, device='xla:1', dtype=torch.uint8)\n",
            "tensor(1, device='xla:1', dtype=torch.uint8)\n",
            "tensor(1, device='xla:1', dtype=torch.uint8)\n",
            "tensor(1, device='xla:1', dtype=torch.uint8)\n",
            "tensor(1, device='xla:1', dtype=torch.uint8)\n",
            "tensor(1, device='xla:1', dtype=torch.uint8)\n",
            "tensor(1, device='xla:1', dtype=torch.uint8)\n",
            "tensor(1, device='xla:1', dtype=torch.uint8)\n",
            "tensor(1, device='xla:1', dtype=torch.uint8)\n",
            "tensor(1, device='xla:1', dtype=torch.uint8)\n",
            "tensor(1, device='xla:1', dtype=torch.uint8)\n",
            "tensor(1, device='xla:1', dtype=torch.uint8)\n",
            "tensor(1, device='xla:1', dtype=torch.uint8)\n",
            "tensor(1, device='xla:1', dtype=torch.uint8)\n",
            "tensor(1, device='xla:1', dtype=torch.uint8)\n",
            "tensor(1, device='xla:1', dtype=torch.uint8)\n",
            "tensor(1, device='xla:1', dtype=torch.uint8)\n",
            "tensor(1, device='xla:1', dtype=torch.uint8)\n",
            "tensor(1, device='xla:1', dtype=torch.uint8)\n",
            "tensor(1, device='xla:1', dtype=torch.uint8)\n",
            "tensor(1, device='xla:1', dtype=torch.uint8)\n",
            "tensor(1, device='xla:1', dtype=torch.uint8)\n",
            "tensor(1, device='xla:1', dtype=torch.uint8)\n",
            "tensor(1, device='xla:1', dtype=torch.uint8)\n",
            "tensor(1, device='xla:1', dtype=torch.uint8)\n",
            "tensor(1, device='xla:1', dtype=torch.uint8)\n",
            "tensor(1, device='xla:1', dtype=torch.uint8)\n",
            "tensor(1, device='xla:1', dtype=torch.uint8)\n",
            "tensor(1, device='xla:1', dtype=torch.uint8)\n",
            "tensor(1, device='xla:1', dtype=torch.uint8)\n",
            "tensor(1, device='xla:1', dtype=torch.uint8)\n",
            "tensor(1, device='xla:1', dtype=torch.uint8)\n",
            "tensor(1, device='xla:1', dtype=torch.uint8)\n",
            "tensor(1, device='xla:1', dtype=torch.uint8)\n",
            "tensor(1, device='xla:1', dtype=torch.uint8)\n"
          ],
          "name": "stdout"
        }
      ]
    },
    {
      "cell_type": "code",
      "metadata": {
        "id": "-hshBTckDhls",
        "colab_type": "code",
        "colab": {
          "base_uri": "https://localhost:8080/",
          "height": 1000
        },
        "outputId": "ea5fdab7-b8b7-4303-c5b0-ad4691c8a8f5"
      },
      "source": [
        "# code from https://forums.fast.ai/t/how-can-we-see-what-layers-are-frozen/29318/5?u=tyoc213\n",
        "\n",
        "def summary_trainable(learner):\n",
        "  result = []\n",
        "  total_params_element = 0\n",
        "  def check_trainable(module):\n",
        "    nonlocal total_params_element\n",
        "    if len(list(module.children())) == 0:\n",
        "      num_param = 0\n",
        "      num_trainable_param = 0\n",
        "      num_param_numel = 0\n",
        "      for parameter in module.parameters():\n",
        "        num_param += 1\n",
        "        if parameter.requires_grad:\n",
        "          num_param_numel += parameter.numel()\n",
        "          total_params_element += parameter.numel()\n",
        "          num_trainable_param += 1\n",
        "\n",
        "      result.append({'module': module, 'num_param': num_param , 'num_trainable_param' : num_trainable_param, 'num_param_numel': num_param_numel})\n",
        "  learner.model.apply(check_trainable)\n",
        "  \n",
        "  print(\"{: <85} {: <17} {: <20} {: <40}\".format('Module Name', 'Total Parameters', 'Trainable Parameters', '# Elements in Trainable Parametrs'))\n",
        "  for row in result:\n",
        "    print(\"{: <85} {: <17} {: <20} {: <40,}\".format(row['module'].__str__(), row['num_param'], row['num_trainable_param'], row['num_param_numel']))\n",
        "  print('Total number of parameters elements {:,}'.format(total_params_element))\n",
        "print(summary_trainable(tpu_learner_manual))"
      ],
      "execution_count": 17,
      "outputs": [
        {
          "output_type": "stream",
          "text": [
            "Module Name                                                                           Total Parameters  Trainable Parameters # Elements in Trainable Parametrs       \n",
            "Conv2d(3, 64, kernel_size=(7, 7), stride=(2, 2), padding=(3, 3), bias=False)          1                 0                    0                                       \n",
            "BatchNorm2d(64, eps=1e-05, momentum=0.1, affine=True, track_running_stats=True)       2                 2                    128                                     \n",
            "ReLU(inplace=True)                                                                    0                 0                    0                                       \n",
            "MaxPool2d(kernel_size=3, stride=2, padding=1, dilation=1, ceil_mode=False)            0                 0                    0                                       \n",
            "Conv2d(64, 64, kernel_size=(3, 3), stride=(1, 1), padding=(1, 1), bias=False)         1                 0                    0                                       \n",
            "BatchNorm2d(64, eps=1e-05, momentum=0.1, affine=True, track_running_stats=True)       2                 2                    128                                     \n",
            "ReLU(inplace=True)                                                                    0                 0                    0                                       \n",
            "Conv2d(64, 64, kernel_size=(3, 3), stride=(1, 1), padding=(1, 1), bias=False)         1                 0                    0                                       \n",
            "BatchNorm2d(64, eps=1e-05, momentum=0.1, affine=True, track_running_stats=True)       2                 2                    128                                     \n",
            "Conv2d(64, 64, kernel_size=(3, 3), stride=(1, 1), padding=(1, 1), bias=False)         1                 0                    0                                       \n",
            "BatchNorm2d(64, eps=1e-05, momentum=0.1, affine=True, track_running_stats=True)       2                 2                    128                                     \n",
            "ReLU(inplace=True)                                                                    0                 0                    0                                       \n",
            "Conv2d(64, 64, kernel_size=(3, 3), stride=(1, 1), padding=(1, 1), bias=False)         1                 0                    0                                       \n",
            "BatchNorm2d(64, eps=1e-05, momentum=0.1, affine=True, track_running_stats=True)       2                 2                    128                                     \n",
            "Conv2d(64, 128, kernel_size=(3, 3), stride=(2, 2), padding=(1, 1), bias=False)        1                 0                    0                                       \n",
            "BatchNorm2d(128, eps=1e-05, momentum=0.1, affine=True, track_running_stats=True)      2                 2                    256                                     \n",
            "ReLU(inplace=True)                                                                    0                 0                    0                                       \n",
            "Conv2d(128, 128, kernel_size=(3, 3), stride=(1, 1), padding=(1, 1), bias=False)       1                 0                    0                                       \n",
            "BatchNorm2d(128, eps=1e-05, momentum=0.1, affine=True, track_running_stats=True)      2                 2                    256                                     \n",
            "Conv2d(64, 128, kernel_size=(1, 1), stride=(2, 2), bias=False)                        1                 0                    0                                       \n",
            "BatchNorm2d(128, eps=1e-05, momentum=0.1, affine=True, track_running_stats=True)      2                 2                    256                                     \n",
            "Conv2d(128, 128, kernel_size=(3, 3), stride=(1, 1), padding=(1, 1), bias=False)       1                 0                    0                                       \n",
            "BatchNorm2d(128, eps=1e-05, momentum=0.1, affine=True, track_running_stats=True)      2                 2                    256                                     \n",
            "ReLU(inplace=True)                                                                    0                 0                    0                                       \n",
            "Conv2d(128, 128, kernel_size=(3, 3), stride=(1, 1), padding=(1, 1), bias=False)       1                 0                    0                                       \n",
            "BatchNorm2d(128, eps=1e-05, momentum=0.1, affine=True, track_running_stats=True)      2                 2                    256                                     \n",
            "Conv2d(128, 256, kernel_size=(3, 3), stride=(2, 2), padding=(1, 1), bias=False)       1                 0                    0                                       \n",
            "BatchNorm2d(256, eps=1e-05, momentum=0.1, affine=True, track_running_stats=True)      2                 2                    512                                     \n",
            "ReLU(inplace=True)                                                                    0                 0                    0                                       \n",
            "Conv2d(256, 256, kernel_size=(3, 3), stride=(1, 1), padding=(1, 1), bias=False)       1                 0                    0                                       \n",
            "BatchNorm2d(256, eps=1e-05, momentum=0.1, affine=True, track_running_stats=True)      2                 2                    512                                     \n",
            "Conv2d(128, 256, kernel_size=(1, 1), stride=(2, 2), bias=False)                       1                 0                    0                                       \n",
            "BatchNorm2d(256, eps=1e-05, momentum=0.1, affine=True, track_running_stats=True)      2                 2                    512                                     \n",
            "Conv2d(256, 256, kernel_size=(3, 3), stride=(1, 1), padding=(1, 1), bias=False)       1                 0                    0                                       \n",
            "BatchNorm2d(256, eps=1e-05, momentum=0.1, affine=True, track_running_stats=True)      2                 2                    512                                     \n",
            "ReLU(inplace=True)                                                                    0                 0                    0                                       \n",
            "Conv2d(256, 256, kernel_size=(3, 3), stride=(1, 1), padding=(1, 1), bias=False)       1                 0                    0                                       \n",
            "BatchNorm2d(256, eps=1e-05, momentum=0.1, affine=True, track_running_stats=True)      2                 2                    512                                     \n",
            "Conv2d(256, 512, kernel_size=(3, 3), stride=(2, 2), padding=(1, 1), bias=False)       1                 0                    0                                       \n",
            "BatchNorm2d(512, eps=1e-05, momentum=0.1, affine=True, track_running_stats=True)      2                 2                    1,024                                   \n",
            "ReLU(inplace=True)                                                                    0                 0                    0                                       \n",
            "Conv2d(512, 512, kernel_size=(3, 3), stride=(1, 1), padding=(1, 1), bias=False)       1                 0                    0                                       \n",
            "BatchNorm2d(512, eps=1e-05, momentum=0.1, affine=True, track_running_stats=True)      2                 2                    1,024                                   \n",
            "Conv2d(256, 512, kernel_size=(1, 1), stride=(2, 2), bias=False)                       1                 0                    0                                       \n",
            "BatchNorm2d(512, eps=1e-05, momentum=0.1, affine=True, track_running_stats=True)      2                 2                    1,024                                   \n",
            "Conv2d(512, 512, kernel_size=(3, 3), stride=(1, 1), padding=(1, 1), bias=False)       1                 0                    0                                       \n",
            "BatchNorm2d(512, eps=1e-05, momentum=0.1, affine=True, track_running_stats=True)      2                 2                    1,024                                   \n",
            "ReLU(inplace=True)                                                                    0                 0                    0                                       \n",
            "Conv2d(512, 512, kernel_size=(3, 3), stride=(1, 1), padding=(1, 1), bias=False)       1                 0                    0                                       \n",
            "BatchNorm2d(512, eps=1e-05, momentum=0.1, affine=True, track_running_stats=True)      2                 2                    1,024                                   \n",
            "AdaptiveAvgPool2d(output_size=1)                                                      0                 0                    0                                       \n",
            "AdaptiveMaxPool2d(output_size=1)                                                      0                 0                    0                                       \n",
            "Flatten(full=False)                                                                   0                 0                    0                                       \n",
            "BatchNorm1d(1024, eps=1e-05, momentum=0.1, affine=True, track_running_stats=True)     2                 2                    2,048                                   \n",
            "Dropout(p=0.25, inplace=False)                                                        0                 0                    0                                       \n",
            "Linear(in_features=1024, out_features=512, bias=False)                                1                 1                    524,288                                 \n",
            "ReLU(inplace=True)                                                                    0                 0                    0                                       \n",
            "BatchNorm1d(512, eps=1e-05, momentum=0.1, affine=True, track_running_stats=True)      2                 2                    1,024                                   \n",
            "Dropout(p=0.5, inplace=False)                                                         0                 0                    0                                       \n",
            "Linear(in_features=512, out_features=2, bias=False)                                   1                 1                    1,024                                   \n",
            "Total number of parameters elements 537,984\n",
            "None\n"
          ],
          "name": "stdout"
        }
      ]
    },
    {
      "cell_type": "code",
      "metadata": {
        "id": "tEDK83KGuV2N",
        "colab_type": "code",
        "colab": {
          "base_uri": "https://localhost:8080/",
          "height": 1000
        },
        "outputId": "6e979737-0704-46df-cf89-77528e00d8fe"
      },
      "source": [
        "path = untar_data(URLs.MNIST_SAMPLE)\n",
        "dblock = DataBlock(\n",
        "    splitter = GrandparentSplitter(),\n",
        "    item_tfms = Resize(28),\n",
        "    blocks = (ImageBlock, CategoryBlock),\n",
        "    get_items = get_image_files,\n",
        "    get_y = parent_label,\n",
        "    batch_tfms = []\n",
        ")\n",
        "dlsss = dblock.dataloaders(path, device=dede)\n",
        "# pass false so that we unfreeze manually as in the cnn_learner\n",
        "l = cnn_learner(dlsss, resnet18, pretrained=True, metrics=accuracy, cbs=[MyXLAOptCallback()])\n",
        "print(summary_trainable(l))"
      ],
      "execution_count": 18,
      "outputs": [
        {
          "output_type": "stream",
          "text": [
            "Module Name                                                                           Total Parameters  Trainable Parameters # Elements in Trainable Parametrs       \n",
            "Conv2d(3, 64, kernel_size=(7, 7), stride=(2, 2), padding=(3, 3), bias=False)          1                 0                    0                                       \n",
            "BatchNorm2d(64, eps=1e-05, momentum=0.1, affine=True, track_running_stats=True)       2                 2                    128                                     \n",
            "ReLU(inplace=True)                                                                    0                 0                    0                                       \n",
            "MaxPool2d(kernel_size=3, stride=2, padding=1, dilation=1, ceil_mode=False)            0                 0                    0                                       \n",
            "Conv2d(64, 64, kernel_size=(3, 3), stride=(1, 1), padding=(1, 1), bias=False)         1                 0                    0                                       \n",
            "BatchNorm2d(64, eps=1e-05, momentum=0.1, affine=True, track_running_stats=True)       2                 2                    128                                     \n",
            "ReLU(inplace=True)                                                                    0                 0                    0                                       \n",
            "Conv2d(64, 64, kernel_size=(3, 3), stride=(1, 1), padding=(1, 1), bias=False)         1                 0                    0                                       \n",
            "BatchNorm2d(64, eps=1e-05, momentum=0.1, affine=True, track_running_stats=True)       2                 2                    128                                     \n",
            "Conv2d(64, 64, kernel_size=(3, 3), stride=(1, 1), padding=(1, 1), bias=False)         1                 0                    0                                       \n",
            "BatchNorm2d(64, eps=1e-05, momentum=0.1, affine=True, track_running_stats=True)       2                 2                    128                                     \n",
            "ReLU(inplace=True)                                                                    0                 0                    0                                       \n",
            "Conv2d(64, 64, kernel_size=(3, 3), stride=(1, 1), padding=(1, 1), bias=False)         1                 0                    0                                       \n",
            "BatchNorm2d(64, eps=1e-05, momentum=0.1, affine=True, track_running_stats=True)       2                 2                    128                                     \n",
            "Conv2d(64, 128, kernel_size=(3, 3), stride=(2, 2), padding=(1, 1), bias=False)        1                 0                    0                                       \n",
            "BatchNorm2d(128, eps=1e-05, momentum=0.1, affine=True, track_running_stats=True)      2                 2                    256                                     \n",
            "ReLU(inplace=True)                                                                    0                 0                    0                                       \n",
            "Conv2d(128, 128, kernel_size=(3, 3), stride=(1, 1), padding=(1, 1), bias=False)       1                 0                    0                                       \n",
            "BatchNorm2d(128, eps=1e-05, momentum=0.1, affine=True, track_running_stats=True)      2                 2                    256                                     \n",
            "Conv2d(64, 128, kernel_size=(1, 1), stride=(2, 2), bias=False)                        1                 0                    0                                       \n",
            "BatchNorm2d(128, eps=1e-05, momentum=0.1, affine=True, track_running_stats=True)      2                 2                    256                                     \n",
            "Conv2d(128, 128, kernel_size=(3, 3), stride=(1, 1), padding=(1, 1), bias=False)       1                 0                    0                                       \n",
            "BatchNorm2d(128, eps=1e-05, momentum=0.1, affine=True, track_running_stats=True)      2                 2                    256                                     \n",
            "ReLU(inplace=True)                                                                    0                 0                    0                                       \n",
            "Conv2d(128, 128, kernel_size=(3, 3), stride=(1, 1), padding=(1, 1), bias=False)       1                 0                    0                                       \n",
            "BatchNorm2d(128, eps=1e-05, momentum=0.1, affine=True, track_running_stats=True)      2                 2                    256                                     \n",
            "Conv2d(128, 256, kernel_size=(3, 3), stride=(2, 2), padding=(1, 1), bias=False)       1                 0                    0                                       \n",
            "BatchNorm2d(256, eps=1e-05, momentum=0.1, affine=True, track_running_stats=True)      2                 2                    512                                     \n",
            "ReLU(inplace=True)                                                                    0                 0                    0                                       \n",
            "Conv2d(256, 256, kernel_size=(3, 3), stride=(1, 1), padding=(1, 1), bias=False)       1                 0                    0                                       \n",
            "BatchNorm2d(256, eps=1e-05, momentum=0.1, affine=True, track_running_stats=True)      2                 2                    512                                     \n",
            "Conv2d(128, 256, kernel_size=(1, 1), stride=(2, 2), bias=False)                       1                 0                    0                                       \n",
            "BatchNorm2d(256, eps=1e-05, momentum=0.1, affine=True, track_running_stats=True)      2                 2                    512                                     \n",
            "Conv2d(256, 256, kernel_size=(3, 3), stride=(1, 1), padding=(1, 1), bias=False)       1                 0                    0                                       \n",
            "BatchNorm2d(256, eps=1e-05, momentum=0.1, affine=True, track_running_stats=True)      2                 2                    512                                     \n",
            "ReLU(inplace=True)                                                                    0                 0                    0                                       \n",
            "Conv2d(256, 256, kernel_size=(3, 3), stride=(1, 1), padding=(1, 1), bias=False)       1                 0                    0                                       \n",
            "BatchNorm2d(256, eps=1e-05, momentum=0.1, affine=True, track_running_stats=True)      2                 2                    512                                     \n",
            "Conv2d(256, 512, kernel_size=(3, 3), stride=(2, 2), padding=(1, 1), bias=False)       1                 0                    0                                       \n",
            "BatchNorm2d(512, eps=1e-05, momentum=0.1, affine=True, track_running_stats=True)      2                 2                    1,024                                   \n",
            "ReLU(inplace=True)                                                                    0                 0                    0                                       \n",
            "Conv2d(512, 512, kernel_size=(3, 3), stride=(1, 1), padding=(1, 1), bias=False)       1                 0                    0                                       \n",
            "BatchNorm2d(512, eps=1e-05, momentum=0.1, affine=True, track_running_stats=True)      2                 2                    1,024                                   \n",
            "Conv2d(256, 512, kernel_size=(1, 1), stride=(2, 2), bias=False)                       1                 0                    0                                       \n",
            "BatchNorm2d(512, eps=1e-05, momentum=0.1, affine=True, track_running_stats=True)      2                 2                    1,024                                   \n",
            "Conv2d(512, 512, kernel_size=(3, 3), stride=(1, 1), padding=(1, 1), bias=False)       1                 0                    0                                       \n",
            "BatchNorm2d(512, eps=1e-05, momentum=0.1, affine=True, track_running_stats=True)      2                 2                    1,024                                   \n",
            "ReLU(inplace=True)                                                                    0                 0                    0                                       \n",
            "Conv2d(512, 512, kernel_size=(3, 3), stride=(1, 1), padding=(1, 1), bias=False)       1                 0                    0                                       \n",
            "BatchNorm2d(512, eps=1e-05, momentum=0.1, affine=True, track_running_stats=True)      2                 2                    1,024                                   \n",
            "AdaptiveAvgPool2d(output_size=1)                                                      0                 0                    0                                       \n",
            "AdaptiveMaxPool2d(output_size=1)                                                      0                 0                    0                                       \n",
            "Flatten(full=False)                                                                   0                 0                    0                                       \n",
            "BatchNorm1d(1024, eps=1e-05, momentum=0.1, affine=True, track_running_stats=True)     2                 2                    2,048                                   \n",
            "Dropout(p=0.25, inplace=False)                                                        0                 0                    0                                       \n",
            "Linear(in_features=1024, out_features=512, bias=False)                                1                 1                    524,288                                 \n",
            "ReLU(inplace=True)                                                                    0                 0                    0                                       \n",
            "BatchNorm1d(512, eps=1e-05, momentum=0.1, affine=True, track_running_stats=True)      2                 2                    1,024                                   \n",
            "Dropout(p=0.5, inplace=False)                                                         0                 0                    0                                       \n",
            "Linear(in_features=512, out_features=2, bias=False)                                   1                 1                    1,024                                   \n",
            "Total number of parameters elements 537,984\n",
            "None\n"
          ],
          "name": "stdout"
        }
      ]
    },
    {
      "cell_type": "markdown",
      "metadata": {
        "id": "oYeWQtXn1e_A",
        "colab_type": "text"
      },
      "source": [
        "# Comparing output\n",
        "\n",
        "You can compare output of this 2 summaries of trainable with https://text-compare.com/ the 2 text are identical!!!!\n",
        "\n",
        "Or save them to var1 and var2 and compare with var1==var2"
      ]
    },
    {
      "cell_type": "code",
      "metadata": {
        "id": "VkNnKxzpvG3L",
        "colab_type": "code",
        "colab": {}
      },
      "source": [
        ""
      ],
      "execution_count": 18,
      "outputs": []
    }
  ]
}