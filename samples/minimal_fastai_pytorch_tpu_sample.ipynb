{
 "cells": [
  {
   "cell_type": "markdown",
   "metadata": {
    "id": "view-in-github"
   },
   "source": [
    "<a href=\"https://colab.research.google.com/github/butchland/fastai_xla_extensions/blob/master/samples/minimal_fastai_pytorch_tpu_sample.ipynb\" target=\"_parent\"><img src=\"https://colab.research.google.com/assets/colab-badge.svg\" alt=\"Open In Colab\"/></a>"
   ]
  },
  {
   "cell_type": "markdown",
   "metadata": {
    "id": "j_ZrLFo_ay71"
   },
   "source": [
    "# Minimal fastai torch tpu training example\n",
    "\n",
    "> Train models using plain pytorch models, datasets and dataloaders using the fastai training loop on TPUs.\n",
    "\n",
    "Using pytorch datasets and dataloaders, we train plain pytorch models using fastai's training loop on TPUs using `torch-xla` and the `fastai_xla_extensions` package.\n",
    "\n",
    "Inspired by Zach Mueller's minimal fastai example\n",
    "from the [fastai-minima package](https://pypi.org/project/fastai-minima/) and [Pytorchtofastai blog post](https://muellerzr.github.io/fastblog/2021/02/14/Pytorchtofastai.html) \n",
    "\n"
   ]
  },
  {
   "cell_type": "markdown",
   "metadata": {
    "id": "7YDh4iGsaY8L"
   },
   "source": [
    "Assumptions:\n",
    " * python 3.7 install (Google Colab default)"
   ]
  },
  {
   "cell_type": "markdown",
   "metadata": {
    "id": "KwTOM4iacHI5"
   },
   "source": [
    "## Installation and Setup"
   ]
  },
  {
   "cell_type": "markdown",
   "metadata": {
    "id": "F5a94zblabdT"
   },
   "source": [
    "Install torch 1.7.1"
   ]
  },
  {
   "cell_type": "code",
   "execution_count": 1,
   "metadata": {
    "colab": {
     "base_uri": "https://localhost:8080/"
    },
    "executionInfo": {
     "elapsed": 103630,
     "status": "ok",
     "timestamp": 1617803272657,
     "user": {
      "displayName": "Butch Landingin",
      "photoUrl": "https://lh3.googleusercontent.com/a-/AOh14Gh6hxH8XsmO-D_xEWQfgLPP3712rG2YZXMG9j7Z5A=s64",
      "userId": "11910892068509052005"
     },
     "user_tz": -480
    },
    "id": "p2g1lEnkOXg5",
    "outputId": "01310ba9-16fd-4e83-c511-bff1a59200f5"
   },
   "outputs": [
    {
     "name": "stdout",
     "output_type": "stream",
     "text": [
      "\u001b[K     |████████████████████████████████| 735.4MB 1.1MB/s \n",
      "\u001b[K     |████████████████████████████████| 12.8MB 77.8MB/s \n",
      "\u001b[K     |████████████████████████████████| 7.0MB 5.9MB/s \n",
      "\u001b[?25h"
     ]
    }
   ],
   "source": [
    "!pip install -qqq --no-cache-dir torch==1.7.1+cu101 torchvision==0.8.2+cu101 torchtext==0.8.0 -f https://download.pytorch.org/whl/torch_stable.html"
   ]
  },
  {
   "cell_type": "markdown",
   "metadata": {
    "id": "ureS9yUvbdiq"
   },
   "source": [
    "(Optional) Link fastai data and model dirs to content dir"
   ]
  },
  {
   "cell_type": "code",
   "execution_count": 3,
   "metadata": {
    "colab": {
     "base_uri": "https://localhost:8080/"
    },
    "executionInfo": {
     "elapsed": 110897,
     "status": "ok",
     "timestamp": 1617803279971,
     "user": {
      "displayName": "Butch Landingin",
      "photoUrl": "https://lh3.googleusercontent.com/a-/AOh14Gh6hxH8XsmO-D_xEWQfgLPP3712rG2YZXMG9j7Z5A=s64",
      "userId": "11910892068509052005"
     },
     "user_tz": -480
    },
    "id": "-maBHnlmDPVw",
    "outputId": "610629bb-3121-4e7b-da38-dad6a359aae0"
   },
   "outputs": [
    {
     "name": "stdout",
     "output_type": "stream",
     "text": [
      "Updating fastai...\n",
      "Done.\n"
     ]
    }
   ],
   "source": [
    "!curl -s https://course19.fast.ai/setup/colab | bash"
   ]
  },
  {
   "cell_type": "markdown",
   "metadata": {
    "id": "ZeiNT5NsbQM0"
   },
   "source": [
    "Install fastai  "
   ]
  },
  {
   "cell_type": "code",
   "execution_count": 2,
   "metadata": {
    "colab": {
     "base_uri": "https://localhost:8080/"
    },
    "executionInfo": {
     "elapsed": 107533,
     "status": "ok",
     "timestamp": 1617803276572,
     "user": {
      "displayName": "Butch Landingin",
      "photoUrl": "https://lh3.googleusercontent.com/a-/AOh14Gh6hxH8XsmO-D_xEWQfgLPP3712rG2YZXMG9j7Z5A=s64",
      "userId": "11910892068509052005"
     },
     "user_tz": -480
    },
    "id": "n5brhMy3uzfS",
    "outputId": "dcbec8d2-7623-4363-e131-9de1db82013a"
   },
   "outputs": [
    {
     "name": "stdout",
     "output_type": "stream",
     "text": [
      "\u001b[K     |████████████████████████████████| 194kB 4.7MB/s \n",
      "\u001b[K     |████████████████████████████████| 61kB 3.8MB/s \n",
      "\u001b[?25h"
     ]
    }
   ],
   "source": [
    "!pip install -Uqq fastai==2.3.0"
   ]
  },
  {
   "cell_type": "markdown",
   "metadata": {
    "id": "QE_jBC6cbXTm"
   },
   "source": [
    "Install fastai_xla_extensions"
   ]
  },
  {
   "cell_type": "code",
   "execution_count": 4,
   "metadata": {
    "executionInfo": {
     "elapsed": 113885,
     "status": "ok",
     "timestamp": 1617803282965,
     "user": {
      "displayName": "Butch Landingin",
      "photoUrl": "https://lh3.googleusercontent.com/a-/AOh14Gh6hxH8XsmO-D_xEWQfgLPP3712rG2YZXMG9j7Z5A=s64",
      "userId": "11910892068509052005"
     },
     "user_tz": -480
    },
    "id": "hrVR2QGNFj9-"
   },
   "outputs": [],
   "source": [
    "!pip install -Uqq fastai_xla_extensions\n",
    "# !pip install -Uqq git+https://github.com/butchland/fastai_xla_extensions.git\n"
   ]
  },
  {
   "cell_type": "markdown",
   "metadata": {
    "id": "a-13iUm5bK2v"
   },
   "source": [
    "Install torch-xla 1.7"
   ]
  },
  {
   "cell_type": "code",
   "execution_count": 5,
   "metadata": {
    "colab": {
     "base_uri": "https://localhost:8080/"
    },
    "executionInfo": {
     "elapsed": 131217,
     "status": "ok",
     "timestamp": 1617803300302,
     "user": {
      "displayName": "Butch Landingin",
      "photoUrl": "https://lh3.googleusercontent.com/a-/AOh14Gh6hxH8XsmO-D_xEWQfgLPP3712rG2YZXMG9j7Z5A=s64",
      "userId": "11910892068509052005"
     },
     "user_tz": -480
    },
    "id": "O53lrJMDn9Rd",
    "outputId": "eaa7958b-77ac-46b8-dbf8-ca98a9f093c0"
   },
   "outputs": [
    {
     "name": "stdout",
     "output_type": "stream",
     "text": [
      "\u001b[K     |████████████████████████████████| 133.6MB 32kB/s \n",
      "\u001b[33mWARNING: Retrying (Retry(total=4, connect=None, read=None, redirect=None, status=None)) after connection broken by 'ProtocolError('Connection aborted.', ConnectionResetError(104, 'Connection reset by peer'))': /simple/google-api-python-client/\u001b[0m\n",
      "\u001b[K     |████████████████████████████████| 61kB 3.2MB/s \n",
      "\u001b[31mERROR: earthengine-api 0.1.258 has requirement google-api-python-client<2,>=1.12.1, but you'll have google-api-python-client 1.8.0 which is incompatible.\u001b[0m\n",
      "\u001b[?25h"
     ]
    }
   ],
   "source": [
    "!pip install -Uqq cloud-tpu-client==0.10 https://storage.googleapis.com/tpu-pytorch/wheels/torch_xla-1.7-cp37-cp37m-linux_x86_64.whl\n",
    "# VERSION = \"1.7\" #@param [\"1.5\" , \"20200707\", \"20200325\", \"nightly\", \"1.7\"]\n",
    "# !curl https://raw.githubusercontent.com/pytorch/xla/master/contrib/scripts/env-setup.py -o pytorch-xla-env-setup.py > /dev/null\n",
    "# !python pytorch-xla-env-setup.py --version $VERSION > /dev/null"
   ]
  },
  {
   "cell_type": "markdown",
   "metadata": {
    "id": "fjjpMkDQbspu"
   },
   "source": [
    "Document package versions"
   ]
  },
  {
   "cell_type": "code",
   "execution_count": 6,
   "metadata": {
    "colab": {
     "base_uri": "https://localhost:8080/"
    },
    "executionInfo": {
     "elapsed": 132416,
     "status": "ok",
     "timestamp": 1617803301514,
     "user": {
      "displayName": "Butch Landingin",
      "photoUrl": "https://lh3.googleusercontent.com/a-/AOh14Gh6hxH8XsmO-D_xEWQfgLPP3712rG2YZXMG9j7Z5A=s64",
      "userId": "11910892068509052005"
     },
     "user_tz": -480
    },
    "id": "cfLJEMVZFS2d",
    "outputId": "c9790bf9-f79f-4c78-f8dc-c8d2de3da1d7"
   },
   "outputs": [
    {
     "name": "stdout",
     "output_type": "stream",
     "text": [
      "torch==1.7.1+cu101\n",
      "torch-xla==1.7\n",
      "torchsummary==1.5.1\n",
      "torchtext==0.8.0\n",
      "torchvision==0.8.2+cu101\n",
      "fastai==2.3.0\n",
      "fastai-xla-extensions==0.0.11\n",
      "fastcore==1.3.19\n",
      "fastdtw==0.3.4\n",
      "fastprogress==1.0.0\n",
      "fastrlock==0.6\n"
     ]
    }
   ],
   "source": [
    "!pip freeze | grep torch\n",
    "!pip freeze | grep fast"
   ]
  },
  {
   "cell_type": "markdown",
   "metadata": {
    "id": "mC6tkQ3abzWU"
   },
   "source": [
    "## Model Training\n",
    "\n",
    "Import `fastai` and `fastai_xla_extensions` packages"
   ]
  },
  {
   "cell_type": "code",
   "execution_count": 1,
   "metadata": {
    "colab": {
     "base_uri": "https://localhost:8080/"
    },
    "executionInfo": {
     "elapsed": 2047,
     "status": "ok",
     "timestamp": 1617803818594,
     "user": {
      "displayName": "Butch Landingin",
      "photoUrl": "https://lh3.googleusercontent.com/a-/AOh14Gh6hxH8XsmO-D_xEWQfgLPP3712rG2YZXMG9j7Z5A=s64",
      "userId": "11910892068509052005"
     },
     "user_tz": -480
    },
    "id": "GBSZSW_rcojV",
    "outputId": "8472d143-5216-4a5a-902a-c22bdf316681"
   },
   "outputs": [
    {
     "name": "stderr",
     "output_type": "stream",
     "text": [
      "WARNING:root:TPU has started up successfully with version pytorch-1.7\n"
     ]
    }
   ],
   "source": [
    "from fastai.vision.all import *\n",
    "from fastai_xla_extensions.all import *"
   ]
  },
  {
   "cell_type": "markdown",
   "metadata": {
    "id": "osgVf37JXD-v"
   },
   "source": [
    "Use plain pytorch datasets and dataloaders"
   ]
  },
  {
   "cell_type": "code",
   "execution_count": 2,
   "metadata": {
    "colab": {
     "base_uri": "https://localhost:8080/"
    },
    "executionInfo": {
     "elapsed": 4296,
     "status": "ok",
     "timestamp": 1617803820863,
     "user": {
      "displayName": "Butch Landingin",
      "photoUrl": "https://lh3.googleusercontent.com/a-/AOh14Gh6hxH8XsmO-D_xEWQfgLPP3712rG2YZXMG9j7Z5A=s64",
      "userId": "11910892068509052005"
     },
     "user_tz": -480
    },
    "id": "wZjfh3YAfZFC",
    "outputId": "d9abdd11-4b03-4630-aba1-85334f601563"
   },
   "outputs": [
    {
     "name": "stdout",
     "output_type": "stream",
     "text": [
      "Files already downloaded and verified\n",
      "Files already downloaded and verified\n"
     ]
    }
   ],
   "source": [
    "import torch\n",
    "import torchvision\n",
    "import torchvision.transforms as transforms\n",
    "norm = transforms.Normalize(\n",
    "    mean=(0.4914, 0.4822, 0.4465), std=(0.2023, 0.1994, 0.2010))\n",
    "\n",
    "transform = transforms.Compose(\n",
    "    [transforms.ToTensor(),\n",
    "     norm])\n",
    "\n",
    "dset_train = torchvision.datasets.CIFAR10(root='/content/data', train=True,\n",
    "                                        download=True, transform=transform)\n",
    "\n",
    "dset_test = torchvision.datasets.CIFAR10(root='/content/data', train=False,\n",
    "                                       download=True, transform=transform)\n",
    "\n",
    "trainloader = torch.utils.data.DataLoader(dset_train, batch_size=64,\n",
    "                                          shuffle=True, num_workers=4)\n",
    "testloader = torch.utils.data.DataLoader(dset_test, batch_size=64,\n",
    "                                         shuffle=False, num_workers=4)"
   ]
  },
  {
   "cell_type": "markdown",
   "metadata": {
    "id": "nIyEaohiXOyc"
   },
   "source": [
    "Use plain pytorch model"
   ]
  },
  {
   "cell_type": "code",
   "execution_count": 3,
   "metadata": {
    "executionInfo": {
     "elapsed": 4296,
     "status": "ok",
     "timestamp": 1617803820882,
     "user": {
      "displayName": "Butch Landingin",
      "photoUrl": "https://lh3.googleusercontent.com/a-/AOh14Gh6hxH8XsmO-D_xEWQfgLPP3712rG2YZXMG9j7Z5A=s64",
      "userId": "11910892068509052005"
     },
     "user_tz": -480
    },
    "id": "UJOcMZaQfZFD"
   },
   "outputs": [],
   "source": [
    "import torch.nn as nn\n",
    "import torch.nn.functional as F\n",
    "\n",
    "class Net(nn.Module):\n",
    "    def __init__(self):\n",
    "        super(Net, self).__init__()\n",
    "        self.conv1 = nn.Conv2d(3, 6, 5)\n",
    "        self.pool = nn.MaxPool2d(2, 2)\n",
    "        self.conv2 = nn.Conv2d(6, 16, 5)\n",
    "        self.fc1 = nn.Linear(16 * 5 * 5, 120)\n",
    "        self.fc2 = nn.Linear(120, 84)\n",
    "        self.fc3 = nn.Linear(84, 10)\n",
    "\n",
    "    def forward(self, x):\n",
    "        x = self.pool(F.relu(self.conv1(x)))\n",
    "        x = self.pool(F.relu(self.conv2(x)))\n",
    "        x = x.view(-1, 16 * 5 * 5)\n",
    "        x = F.relu(self.fc1(x))\n",
    "        x = F.relu(self.fc2(x))\n",
    "        x = self.fc3(x)\n",
    "        return x"
   ]
  },
  {
   "cell_type": "markdown",
   "metadata": {
    "id": "5T8bZRlCXVID"
   },
   "source": [
    "Use plain pytorch loss functions"
   ]
  },
  {
   "cell_type": "code",
   "execution_count": 4,
   "metadata": {
    "executionInfo": {
     "elapsed": 4285,
     "status": "ok",
     "timestamp": 1617803820884,
     "user": {
      "displayName": "Butch Landingin",
      "photoUrl": "https://lh3.googleusercontent.com/a-/AOh14Gh6hxH8XsmO-D_xEWQfgLPP3712rG2YZXMG9j7Z5A=s64",
      "userId": "11910892068509052005"
     },
     "user_tz": -480
    },
    "id": "XSjlUupFfZFE"
   },
   "outputs": [],
   "source": [
    "criterion = nn.CrossEntropyLoss()"
   ]
  },
  {
   "cell_type": "markdown",
   "metadata": {
    "id": "V4o7n9V8XlXl"
   },
   "source": [
    "Comment out fastai-minima code, as this example relies on fastai code directly."
   ]
  },
  {
   "cell_type": "code",
   "execution_count": 5,
   "metadata": {
    "executionInfo": {
     "elapsed": 4274,
     "status": "ok",
     "timestamp": 1617803820886,
     "user": {
      "displayName": "Butch Landingin",
      "photoUrl": "https://lh3.googleusercontent.com/a-/AOh14Gh6hxH8XsmO-D_xEWQfgLPP3712rG2YZXMG9j7Z5A=s64",
      "userId": "11910892068509052005"
     },
     "user_tz": -480
    },
    "id": "5_BtPmnmfZFE"
   },
   "outputs": [],
   "source": [
    "# from torch import optim\n",
    "# from fastai_minima.optimizer import OptimWrapper\n",
    "# # from fastai_minima.learner import Learner, DataLoaders\n",
    "# from fastai_minima.callback.training import CudaCallback, ProgressCallback"
   ]
  },
  {
   "cell_type": "markdown",
   "metadata": {
    "id": "61NclRy6X49p"
   },
   "source": [
    "Wrap the pytorch SGD optimizer with fastai's `OptimWrapper`. "
   ]
  },
  {
   "cell_type": "code",
   "execution_count": 6,
   "metadata": {
    "executionInfo": {
     "elapsed": 4263,
     "status": "ok",
     "timestamp": 1617803820888,
     "user": {
      "displayName": "Butch Landingin",
      "photoUrl": "https://lh3.googleusercontent.com/a-/AOh14Gh6hxH8XsmO-D_xEWQfgLPP3712rG2YZXMG9j7Z5A=s64",
      "userId": "11910892068509052005"
     },
     "user_tz": -480
    },
    "id": "Qie8oiIEolor"
   },
   "outputs": [],
   "source": [
    "from torch import optim\n",
    "\n",
    "# def opt_func(params, **kwargs): \n",
    "#     return OptimWrapper(optim.SGD,params, **kwargs)\n",
    "opt_func = partial(OptimWrapper, opt=optim.SGD)"
   ]
  },
  {
   "cell_type": "markdown",
   "metadata": {
    "id": "zC5ZhWCMYrbg"
   },
   "source": [
    "Wrap the pytorch train and test dataloaders with fastai's `DataLoaders` class."
   ]
  },
  {
   "cell_type": "code",
   "execution_count": 7,
   "metadata": {
    "executionInfo": {
     "elapsed": 4250,
     "status": "ok",
     "timestamp": 1617803820889,
     "user": {
      "displayName": "Butch Landingin",
      "photoUrl": "https://lh3.googleusercontent.com/a-/AOh14Gh6hxH8XsmO-D_xEWQfgLPP3712rG2YZXMG9j7Z5A=s64",
      "userId": "11910892068509052005"
     },
     "user_tz": -480
    },
    "id": "VzQEYsmCXgL_"
   },
   "outputs": [],
   "source": [
    "dls = DataLoaders(trainloader, testloader)"
   ]
  },
  {
   "cell_type": "markdown",
   "metadata": {
    "id": "RN45xLT2Y4F1"
   },
   "source": [
    "Create a fastai `Learner` which ties together the dataloaders, model, loss function and optimizer.\n",
    "\n",
    "Also add in a fastai metrics function to monitor performance during training.\n"
   ]
  },
  {
   "cell_type": "code",
   "execution_count": 8,
   "metadata": {
    "executionInfo": {
     "elapsed": 4239,
     "status": "ok",
     "timestamp": 1617803820891,
     "user": {
      "displayName": "Butch Landingin",
      "photoUrl": "https://lh3.googleusercontent.com/a-/AOh14Gh6hxH8XsmO-D_xEWQfgLPP3712rG2YZXMG9j7Z5A=s64",
      "userId": "11910892068509052005"
     },
     "user_tz": -480
    },
    "id": "QGbj_MDAfZFF"
   },
   "outputs": [],
   "source": [
    "learn = Learner(dls, Net(), loss_func=criterion, opt_func=opt_func, metrics=accuracy)\n",
    "\n",
    "# To use the GPU, do \n",
    "# learn = Learner(dls, Net(), loss_func=criterion, opt_func=opt_func, cbs=[CudaCallback()])"
   ]
  },
  {
   "cell_type": "markdown",
   "metadata": {
    "id": "7H4qKdjQZV9c"
   },
   "source": [
    "You can use the fastai_xla_extensions `xla_` functions to train it on the TPU (by default it uses 8 TPU cores for multi tpu training).\n",
    "\n",
    "Notice the number of batches per epoch is divided by 8 (as the batches shown are per TPU core). \n",
    "\n",
    "Instead of using the fastai's plain `fit` method, we opt to use `fit_one_cycle` for cyclic training, which improves convergence by varying the learning rate during training.\n"
   ]
  },
  {
   "cell_type": "code",
   "execution_count": 9,
   "metadata": {
    "executionInfo": {
     "elapsed": 4227,
     "status": "ok",
     "timestamp": 1617803820893,
     "user": {
      "displayName": "Butch Landingin",
      "photoUrl": "https://lh3.googleusercontent.com/a-/AOh14Gh6hxH8XsmO-D_xEWQfgLPP3712rG2YZXMG9j7Z5A=s64",
      "userId": "11910892068509052005"
     },
     "user_tz": -480
    },
    "id": "cQmGk76FfZFF"
   },
   "outputs": [],
   "source": [
    "# learn.fit(2, lr=0.001)\n",
    "# learn.xla_fit(20, lr=0.02)"
   ]
  },
  {
   "cell_type": "markdown",
   "metadata": {
    "id": "krf8PAd9aR5x"
   },
   "source": [
    "We also include fastai's `SaveModelCallback` which will save the best performing model during training.\n",
    "\n",
    "Note that the `SaveModelCallback` is set to run only on the master ordinal process because running save model callback will overwrite each other if run on multiple processes at the same time."
   ]
  },
  {
   "cell_type": "code",
   "execution_count": 10,
   "metadata": {
    "colab": {
     "base_uri": "https://localhost:8080/",
     "height": 1000
    },
    "executionInfo": {
     "elapsed": 400580,
     "status": "ok",
     "timestamp": 1617804217288,
     "user": {
      "displayName": "Butch Landingin",
      "photoUrl": "https://lh3.googleusercontent.com/a-/AOh14Gh6hxH8XsmO-D_xEWQfgLPP3712rG2YZXMG9j7Z5A=s64",
      "userId": "11910892068509052005"
     },
     "user_tz": -480
    },
    "id": "OuliXss4qT7Y",
    "outputId": "f55d16ab-1302-4031-a9c0-91f95e83283c"
   },
   "outputs": [
    {
     "name": "stdout",
     "output_type": "stream",
     "text": [
      "start fit\n"
     ]
    },
    {
     "data": {
      "text/html": [
       "<table border=\"1\" class=\"dataframe\">\n",
       "  <thead>\n",
       "    <tr style=\"text-align: left;\">\n",
       "      <th>epoch</th>\n",
       "      <th>train_loss</th>\n",
       "      <th>valid_loss</th>\n",
       "      <th>accuracy</th>\n",
       "      <th>time</th>\n",
       "    </tr>\n",
       "  </thead>\n",
       "  <tbody>\n",
       "    <tr>\n",
       "      <td>0</td>\n",
       "      <td>1.968986</td>\n",
       "      <td>2.249635</td>\n",
       "      <td>0.181500</td>\n",
       "      <td>00:24</td>\n",
       "    </tr>\n",
       "    <tr>\n",
       "      <td>1</td>\n",
       "      <td>2.031315</td>\n",
       "      <td>1.932846</td>\n",
       "      <td>0.303700</td>\n",
       "      <td>00:19</td>\n",
       "    </tr>\n",
       "    <tr>\n",
       "      <td>2</td>\n",
       "      <td>1.799929</td>\n",
       "      <td>1.664288</td>\n",
       "      <td>0.394700</td>\n",
       "      <td>00:18</td>\n",
       "    </tr>\n",
       "    <tr>\n",
       "      <td>3</td>\n",
       "      <td>1.624380</td>\n",
       "      <td>1.545714</td>\n",
       "      <td>0.440300</td>\n",
       "      <td>00:18</td>\n",
       "    </tr>\n",
       "    <tr>\n",
       "      <td>4</td>\n",
       "      <td>1.492614</td>\n",
       "      <td>1.428614</td>\n",
       "      <td>0.485500</td>\n",
       "      <td>00:18</td>\n",
       "    </tr>\n",
       "    <tr>\n",
       "      <td>5</td>\n",
       "      <td>1.397967</td>\n",
       "      <td>1.369284</td>\n",
       "      <td>0.517500</td>\n",
       "      <td>00:19</td>\n",
       "    </tr>\n",
       "    <tr>\n",
       "      <td>6</td>\n",
       "      <td>1.325682</td>\n",
       "      <td>1.306306</td>\n",
       "      <td>0.533000</td>\n",
       "      <td>00:19</td>\n",
       "    </tr>\n",
       "    <tr>\n",
       "      <td>7</td>\n",
       "      <td>1.270271</td>\n",
       "      <td>1.303401</td>\n",
       "      <td>0.537000</td>\n",
       "      <td>00:18</td>\n",
       "    </tr>\n",
       "    <tr>\n",
       "      <td>8</td>\n",
       "      <td>1.223189</td>\n",
       "      <td>1.248857</td>\n",
       "      <td>0.555600</td>\n",
       "      <td>00:18</td>\n",
       "    </tr>\n",
       "    <tr>\n",
       "      <td>9</td>\n",
       "      <td>1.167863</td>\n",
       "      <td>1.229344</td>\n",
       "      <td>0.566500</td>\n",
       "      <td>00:18</td>\n",
       "    </tr>\n",
       "    <tr>\n",
       "      <td>10</td>\n",
       "      <td>1.121936</td>\n",
       "      <td>1.219093</td>\n",
       "      <td>0.574600</td>\n",
       "      <td>00:19</td>\n",
       "    </tr>\n",
       "    <tr>\n",
       "      <td>11</td>\n",
       "      <td>1.094122</td>\n",
       "      <td>1.184901</td>\n",
       "      <td>0.586100</td>\n",
       "      <td>00:18</td>\n",
       "    </tr>\n",
       "    <tr>\n",
       "      <td>12</td>\n",
       "      <td>1.058527</td>\n",
       "      <td>1.143893</td>\n",
       "      <td>0.602100</td>\n",
       "      <td>00:18</td>\n",
       "    </tr>\n",
       "    <tr>\n",
       "      <td>13</td>\n",
       "      <td>1.020007</td>\n",
       "      <td>1.132009</td>\n",
       "      <td>0.607300</td>\n",
       "      <td>00:18</td>\n",
       "    </tr>\n",
       "    <tr>\n",
       "      <td>14</td>\n",
       "      <td>0.978258</td>\n",
       "      <td>1.128606</td>\n",
       "      <td>0.612100</td>\n",
       "      <td>00:18</td>\n",
       "    </tr>\n",
       "    <tr>\n",
       "      <td>15</td>\n",
       "      <td>0.952473</td>\n",
       "      <td>1.103380</td>\n",
       "      <td>0.620800</td>\n",
       "      <td>00:18</td>\n",
       "    </tr>\n",
       "    <tr>\n",
       "      <td>16</td>\n",
       "      <td>0.924950</td>\n",
       "      <td>1.101228</td>\n",
       "      <td>0.620200</td>\n",
       "      <td>00:18</td>\n",
       "    </tr>\n",
       "    <tr>\n",
       "      <td>17</td>\n",
       "      <td>0.900059</td>\n",
       "      <td>1.096605</td>\n",
       "      <td>0.626500</td>\n",
       "      <td>00:19</td>\n",
       "    </tr>\n",
       "    <tr>\n",
       "      <td>18</td>\n",
       "      <td>0.882730</td>\n",
       "      <td>1.090944</td>\n",
       "      <td>0.626900</td>\n",
       "      <td>00:20</td>\n",
       "    </tr>\n",
       "    <tr>\n",
       "      <td>19</td>\n",
       "      <td>0.870799</td>\n",
       "      <td>1.089726</td>\n",
       "      <td>0.627300</td>\n",
       "      <td>00:19</td>\n",
       "    </tr>\n",
       "  </tbody>\n",
       "</table>"
      ],
      "text/plain": [
       "<IPython.core.display.HTML object>"
      ]
     },
     "metadata": {
      "tags": []
     },
     "output_type": "display_data"
    },
    {
     "name": "stdout",
     "output_type": "stream",
     "text": [
      "Better model found at epoch 0 with valid_loss value: 2.2496345043182373.\n",
      "Better model found at epoch 1 with valid_loss value: 1.9328464269638062.\n",
      "Better model found at epoch 2 with valid_loss value: 1.6642876863479614.\n",
      "Better model found at epoch 3 with valid_loss value: 1.5457141399383545.\n",
      "Better model found at epoch 4 with valid_loss value: 1.428613543510437.\n",
      "Better model found at epoch 5 with valid_loss value: 1.3692837953567505.\n",
      "Better model found at epoch 6 with valid_loss value: 1.3063063621520996.\n",
      "Better model found at epoch 7 with valid_loss value: 1.3034014701843262.\n",
      "Better model found at epoch 8 with valid_loss value: 1.2488573789596558.\n",
      "Better model found at epoch 9 with valid_loss value: 1.2293442487716675.\n",
      "Better model found at epoch 10 with valid_loss value: 1.2190930843353271.\n",
      "Better model found at epoch 11 with valid_loss value: 1.1849007606506348.\n",
      "Better model found at epoch 12 with valid_loss value: 1.143892526626587.\n",
      "Better model found at epoch 13 with valid_loss value: 1.1320089101791382.\n",
      "Better model found at epoch 14 with valid_loss value: 1.1286062002182007.\n",
      "Better model found at epoch 15 with valid_loss value: 1.1033802032470703.\n",
      "Better model found at epoch 16 with valid_loss value: 1.1012282371520996.\n",
      "Better model found at epoch 17 with valid_loss value: 1.096604585647583.\n",
      "Better model found at epoch 18 with valid_loss value: 1.0909438133239746.\n",
      "Better model found at epoch 19 with valid_loss value: 1.0897258520126343.\n"
     ]
    }
   ],
   "source": [
    "# learn.fit(2, lr=0.001)\n",
    "learn.xla_fit_one_cycle(20, lr_max=slice(2e-1), master_cbs=[SaveModelCallback()])"
   ]
  },
  {
   "cell_type": "markdown",
   "metadata": {
    "id": "jVFhk9Y_a-nv"
   },
   "source": [
    "## Model Checkpointing and Performance Evaluation\n",
    "\n",
    "We can check that the best performing model has been saved to the learner by comparing the best performing model (stored in `model.pth` by the `SaveModelCallback`) is also the one loaded in the learner even though it is not the last one made during training.\n"
   ]
  },
  {
   "cell_type": "code",
   "execution_count": 11,
   "metadata": {
    "colab": {
     "base_uri": "https://localhost:8080/",
     "height": 34
    },
    "executionInfo": {
     "elapsed": 402511,
     "status": "ok",
     "timestamp": 1617804219238,
     "user": {
      "displayName": "Butch Landingin",
      "photoUrl": "https://lh3.googleusercontent.com/a-/AOh14Gh6hxH8XsmO-D_xEWQfgLPP3712rG2YZXMG9j7Z5A=s64",
      "userId": "11910892068509052005"
     },
     "user_tz": -480
    },
    "id": "OIYqa5Zztz1j",
    "outputId": "139eea86-1b52-4dc9-bd77-566e5b81f27c"
   },
   "outputs": [
    {
     "data": {
      "text/html": [],
      "text/plain": [
       "<IPython.core.display.HTML object>"
      ]
     },
     "metadata": {
      "tags": []
     },
     "output_type": "display_data"
    },
    {
     "data": {
      "text/plain": [
       "(#2) [1.0895700454711914,0.6273000240325928]"
      ]
     },
     "execution_count": 11,
     "metadata": {
      "tags": []
     },
     "output_type": "execute_result"
    }
   ],
   "source": [
    "learn.validate()"
   ]
  },
  {
   "cell_type": "code",
   "execution_count": 12,
   "metadata": {
    "colab": {
     "base_uri": "https://localhost:8080/"
    },
    "executionInfo": {
     "elapsed": 402495,
     "status": "ok",
     "timestamp": 1617804219240,
     "user": {
      "displayName": "Butch Landingin",
      "photoUrl": "https://lh3.googleusercontent.com/a-/AOh14Gh6hxH8XsmO-D_xEWQfgLPP3712rG2YZXMG9j7Z5A=s64",
      "userId": "11910892068509052005"
     },
     "user_tz": -480
    },
    "id": "Byi8vKNVxq-X",
    "outputId": "110371cb-45e6-4a62-96cc-20c8e7c058a3"
   },
   "outputs": [
    {
     "data": {
      "text/plain": [
       "Path('models/stage-1.pth')"
      ]
     },
     "execution_count": 12,
     "metadata": {
      "tags": []
     },
     "output_type": "execute_result"
    }
   ],
   "source": [
    "learn.save('stage-1')"
   ]
  },
  {
   "cell_type": "code",
   "execution_count": 13,
   "metadata": {
    "colab": {
     "base_uri": "https://localhost:8080/"
    },
    "executionInfo": {
     "elapsed": 402484,
     "status": "ok",
     "timestamp": 1617804219242,
     "user": {
      "displayName": "Butch Landingin",
      "photoUrl": "https://lh3.googleusercontent.com/a-/AOh14Gh6hxH8XsmO-D_xEWQfgLPP3712rG2YZXMG9j7Z5A=s64",
      "userId": "11910892068509052005"
     },
     "user_tz": -480
    },
    "id": "TwRIuQTvxwRj",
    "outputId": "f49f1dba-1311-478d-f5d5-fc4dab4e19b9"
   },
   "outputs": [
    {
     "name": "stderr",
     "output_type": "stream",
     "text": [
      "/usr/local/lib/python3.7/dist-packages/fastai/learner.py:56: UserWarning: Saved filed doesn't contain an optimizer state.\n",
      "  elif with_opt: warn(\"Saved filed doesn't contain an optimizer state.\")\n"
     ]
    },
    {
     "data": {
      "text/plain": [
       "<fastai.learner.Learner at 0x7f311809be50>"
      ]
     },
     "execution_count": 13,
     "metadata": {
      "tags": []
     },
     "output_type": "execute_result"
    }
   ],
   "source": [
    "learn.load('model')"
   ]
  },
  {
   "cell_type": "markdown",
   "metadata": {
    "id": "TR7vrA-MbeDu"
   },
   "source": [
    "The validation performance of the best model should be the same as the validation performance of the model after training.\n"
   ]
  },
  {
   "cell_type": "code",
   "execution_count": 14,
   "metadata": {
    "colab": {
     "base_uri": "https://localhost:8080/",
     "height": 34
    },
    "executionInfo": {
     "elapsed": 404030,
     "status": "ok",
     "timestamp": 1617804220802,
     "user": {
      "displayName": "Butch Landingin",
      "photoUrl": "https://lh3.googleusercontent.com/a-/AOh14Gh6hxH8XsmO-D_xEWQfgLPP3712rG2YZXMG9j7Z5A=s64",
      "userId": "11910892068509052005"
     },
     "user_tz": -480
    },
    "id": "bcdB02MZxzH7",
    "outputId": "8c9d79cb-156e-45f6-d9b1-47eaf0aea148"
   },
   "outputs": [
    {
     "data": {
      "text/html": [],
      "text/plain": [
       "<IPython.core.display.HTML object>"
      ]
     },
     "metadata": {
      "tags": []
     },
     "output_type": "display_data"
    },
    {
     "data": {
      "text/plain": [
       "(#2) [1.0895700454711914,0.6273000240325928]"
      ]
     },
     "execution_count": 14,
     "metadata": {
      "tags": []
     },
     "output_type": "execute_result"
    }
   ],
   "source": [
    "learn.validate()"
   ]
  },
  {
   "cell_type": "code",
   "execution_count": 14,
   "metadata": {
    "executionInfo": {
     "elapsed": 404018,
     "status": "ok",
     "timestamp": 1617804220803,
     "user": {
      "displayName": "Butch Landingin",
      "photoUrl": "https://lh3.googleusercontent.com/a-/AOh14Gh6hxH8XsmO-D_xEWQfgLPP3712rG2YZXMG9j7Z5A=s64",
      "userId": "11910892068509052005"
     },
     "user_tz": -480
    },
    "id": "GsVJPKtRx10Q"
   },
   "outputs": [],
   "source": []
  }
 ],
 "metadata": {
  "accelerator": "TPU",
  "colab": {
   "collapsed_sections": [],
   "machine_shape": "hm",
   "name": "minimal_fastai_pytorch_tpu_sample.ipynb",
   "provenance": [],
   "toc_visible": true
  },
  "kernelspec": {
   "display_name": "Python 3 (ipykernel)",
   "language": "python",
   "name": "python3"
  },
  "language_info": {
   "codemirror_mode": {
    "name": "ipython",
    "version": 3
   },
   "file_extension": ".py",
   "mimetype": "text/x-python",
   "name": "python",
   "nbconvert_exporter": "python",
   "pygments_lexer": "ipython3",
   "version": "3.9.5"
  },
  "varInspector": {
   "cols": {
    "lenName": 16,
    "lenType": 16,
    "lenVar": 40
   },
   "kernels_config": {
    "python": {
     "delete_cmd_postfix": "",
     "delete_cmd_prefix": "del ",
     "library": "var_list.py",
     "varRefreshCmd": "print(var_dic_list())"
    },
    "r": {
     "delete_cmd_postfix": ") ",
     "delete_cmd_prefix": "rm(",
     "library": "var_list.r",
     "varRefreshCmd": "cat(var_dic_list()) "
    }
   },
   "types_to_exclude": [
    "module",
    "function",
    "builtin_function_or_method",
    "instance",
    "_Feature"
   ],
   "window_display": false
  }
 },
 "nbformat": 4,
 "nbformat_minor": 4
}
