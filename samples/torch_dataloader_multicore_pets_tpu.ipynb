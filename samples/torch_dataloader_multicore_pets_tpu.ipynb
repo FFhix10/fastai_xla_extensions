{
 "cells": [
  {
   "cell_type": "markdown",
   "metadata": {
    "colab_type": "text",
    "id": "view-in-github"
   },
   "source": [
    "<a href=\"https://colab.research.google.com/github/butchland/fastai_xla_extensions/blob/master/samples/torch_dataloader_multicore_pets_tpu.ipynb\" target=\"_parent\"><img src=\"https://colab.research.google.com/assets/colab-badge.svg\" alt=\"Open In Colab\"/></a>"
   ]
  },
  {
   "cell_type": "code",
   "execution_count": 1,
   "metadata": {
    "colab": {
     "base_uri": "https://localhost:8080/"
    },
    "id": "O53lrJMDn9Rd",
    "outputId": "1770c84f-5b16-4466-f40c-50e178412c22"
   },
   "outputs": [
    {
     "name": "stdout",
     "output_type": "stream",
     "text": [
      "\u001b[K     |████████████████████████████████| 133.6MB 32kB/s \n",
      "\u001b[K     |████████████████████████████████| 61kB 3.7MB/s \n",
      "\u001b[?25h"
     ]
    }
   ],
   "source": [
    "!pip install -Uqq cloud-tpu-client==0.10 https://storage.googleapis.com/tpu-pytorch/wheels/torch_xla-1.7-cp36-cp36m-linux_x86_64.whl"
   ]
  },
  {
   "cell_type": "code",
   "execution_count": 5,
   "metadata": {
    "colab": {
     "base_uri": "https://localhost:8080/"
    },
    "id": "-maBHnlmDPVw",
    "outputId": "fb40b366-5f95-4687-9381-f7be279a70db"
   },
   "outputs": [
    {
     "name": "stdout",
     "output_type": "stream",
     "text": [
      "Updating fastai...\n",
      "Done.\n"
     ]
    }
   ],
   "source": [
    "!curl -s https://course19.fast.ai/setup/colab | bash"
   ]
  },
  {
   "cell_type": "code",
   "execution_count": 2,
   "metadata": {
    "colab": {
     "base_uri": "https://localhost:8080/"
    },
    "id": "n5brhMy3uzfS",
    "outputId": "25d2ea8a-c67d-4b72-ea23-152be1079c11"
   },
   "outputs": [
    {
     "name": "stdout",
     "output_type": "stream",
     "text": [
      "\u001b[K     |████████████████████████████████| 194kB 5.1MB/s \n",
      "\u001b[K     |████████████████████████████████| 61kB 5.7MB/s \n",
      "\u001b[?25h"
     ]
    }
   ],
   "source": [
    "# !pip install -Uqq git+https://github.com/fastai/fastai.git \n",
    "!pip install -Uqq fastai==2.3.0"
   ]
  },
  {
   "cell_type": "code",
   "execution_count": 3,
   "metadata": {
    "colab": {
     "base_uri": "https://localhost:8080/"
    },
    "id": "hrVR2QGNFj9-",
    "outputId": "a6c69e19-6a89-4c05-cd43-9107b4ba8c70"
   },
   "outputs": [
    {
     "name": "stdout",
     "output_type": "stream",
     "text": [
      "  Building wheel for fastai-xla-extensions (setup.py) ... \u001b[?25l\u001b[?25hdone\n"
     ]
    }
   ],
   "source": [
    "!pip install -Uqq git+https://github.com/butchland/fastai_xla_extensions.git"
   ]
  },
  {
   "cell_type": "code",
   "execution_count": 4,
   "metadata": {
    "colab": {
     "base_uri": "https://localhost:8080/"
    },
    "id": "8HYizmSonC3r",
    "outputId": "a7189e1c-1df6-4c81-ad7a-878feb9a0523"
   },
   "outputs": [
    {
     "name": "stdout",
     "output_type": "stream",
     "text": [
      "  Building wheel for my-timesaver-utils (setup.py) ... \u001b[?25l\u001b[?25hdone\n"
     ]
    }
   ],
   "source": [
    "!pip install -Uqq git+https://github.com/butchland/my_timesaver_utils.git"
   ]
  },
  {
   "cell_type": "code",
   "execution_count": 6,
   "metadata": {
    "colab": {
     "base_uri": "https://localhost:8080/"
    },
    "id": "cfLJEMVZFS2d",
    "outputId": "7fa8e7cb-71d0-4d7c-9052-694cb6288901"
   },
   "outputs": [
    {
     "name": "stdout",
     "output_type": "stream",
     "text": [
      "torch==1.7.0+cu101\n",
      "torch-xla==1.7\n",
      "torchsummary==1.5.1\n",
      "torchtext==0.3.1\n",
      "torchvision==0.8.1+cu101\n",
      "fastai==2.2.5\n",
      "fastai-xla-extensions==0.0.7\n",
      "fastcore==1.3.19\n",
      "fastdtw==0.3.4\n",
      "fastprogress==1.0.0\n",
      "fastrlock==0.5\n"
     ]
    }
   ],
   "source": [
    "!pip freeze | grep torch\n",
    "!pip freeze | grep fast"
   ]
  },
  {
   "cell_type": "code",
   "execution_count": 7,
   "metadata": {
    "id": "oymSyPRqC8WN"
   },
   "outputs": [],
   "source": [
    "# a = []\n",
    "# while(1):\n",
    "#     a.append('1')"
   ]
  },
  {
   "cell_type": "markdown",
   "metadata": {
    "id": "9ocI5r3XzwpW"
   },
   "source": [
    "Start of kernel"
   ]
  },
  {
   "cell_type": "code",
   "execution_count": 8,
   "metadata": {
    "colab": {
     "base_uri": "https://localhost:8080/"
    },
    "id": "e-8b7AzXwPKL",
    "outputId": "9ae6313b-d392-4349-f2e4-b60e3dbf3c8f"
   },
   "outputs": [
    {
     "name": "stderr",
     "output_type": "stream",
     "text": [
      "WARNING:root:Waiting for TPU to be start up with version pytorch-1.7...\n",
      "WARNING:root:Waiting for TPU to be start up with version pytorch-1.7...\n",
      "WARNING:root:TPU has started up successfully with version pytorch-1.7\n"
     ]
    }
   ],
   "source": [
    "from fastai.vision.all import *\n",
    "from fastai_xla_extensions.multi_core import *\n",
    "import torch_xla.core.xla_model as xm\n",
    "import torch_xla.distributed.xla_multiprocessing as xmp\n",
    "import torchvision as thv"
   ]
  },
  {
   "cell_type": "code",
   "execution_count": 9,
   "metadata": {
    "id": "H_jP6yfYIDWg"
   },
   "outputs": [],
   "source": [
    "FLAGS = {}\n",
    "FLAGS['image_size'] = 224\n",
    "FLAGS['batch_size'] = 16\n",
    "FLAGS['freeze_epochs'] = 1\n",
    "FLAGS['epochs'] = 9\n",
    "FLAGS['moms'] = (0.9,0.95,0.9)\n",
    "FLAGS['weight_decay'] = 5e-4\n",
    "FLAGS['learning_rate'] = 2e-3\n",
    "FLAGS['num_workers'] = 4\n",
    "FLAGS['nprocs'] = 8\n",
    "FLAGS['sync_valid'] = True"
   ]
  },
  {
   "cell_type": "code",
   "execution_count": 10,
   "metadata": {
    "colab": {
     "base_uri": "https://localhost:8080/",
     "height": 17
    },
    "id": "BGKqZJw60egC",
    "outputId": "c82e72b7-ee21-4f37-b84b-3dcfe3914413"
   },
   "outputs": [
    {
     "data": {
      "text/html": [],
      "text/plain": [
       "<IPython.core.display.HTML object>"
      ]
     },
     "metadata": {
      "tags": []
     },
     "output_type": "display_data"
    }
   ],
   "source": [
    "path = untar_data(URLs.PETS)/'images'"
   ]
  },
  {
   "cell_type": "code",
   "execution_count": 11,
   "metadata": {
    "colab": {
     "base_uri": "https://localhost:8080/",
     "height": 104,
     "referenced_widgets": [
      "c5ef0f57294e46c09f2c6e19b1d92f57",
      "3a93cd7b4a3b440a96b67addb96b0e09",
      "143b6b1900674e8ca71c00d5d6db39e7",
      "290d5e99ae78401f9d009dafc2dd995d",
      "39ef1ac4ef48497caad01b6bf627ed24",
      "0eaaf4361ef0489eb2a3c16edd818533",
      "df956c5ffa194930bbaeb074ed92c0b2",
      "754040d3cb5444778328da7b9c3b8773"
     ]
    },
    "id": "gR3Vtvmm0nu_",
    "outputId": "575b3be8-548f-413a-dc42-350e1f607964"
   },
   "outputs": [
    {
     "name": "stderr",
     "output_type": "stream",
     "text": [
      "Downloading: \"https://download.pytorch.org/models/resnet34-333f7ec4.pth\" to /root/.cache/torch/hub/checkpoints/resnet34-333f7ec4.pth\n"
     ]
    },
    {
     "data": {
      "application/vnd.jupyter.widget-view+json": {
       "model_id": "c5ef0f57294e46c09f2c6e19b1d92f57",
       "version_major": 2,
       "version_minor": 0
      },
      "text/plain": [
       "HBox(children=(FloatProgress(value=0.0, max=87306240.0), HTML(value='')))"
      ]
     },
     "metadata": {
      "tags": []
     },
     "output_type": "display_data"
    },
    {
     "name": "stdout",
     "output_type": "stream",
     "text": [
      "\n"
     ]
    }
   ],
   "source": [
    "imagenet_norm = thv.transforms.Normalize(\n",
    "    mean=(0.485, 0.456, 0.406), \n",
    "    std=(0.229, 0.224, 0.225))\n",
    "\n",
    "image_size = FLAGS['image_size']\n",
    "splitter = RandomSplitter(seed=42)\n",
    "pat = r'(.+)_\\d+.jpg$'\n",
    "fname_labeller = FileNamePatternLabeller(pat)\n",
    "\n",
    "dset_builder = TorchDatasetBuilder(\n",
    "    path, \n",
    "    get_items=get_image_files,\n",
    "    splitter=splitter,\n",
    "    x_tfms=[thv.transforms.Resize((image_size,image_size)), thv.transforms.ToTensor(), imagenet_norm],\n",
    "    y_tfms=[fname_labeller, VocabularyMapper(),],\n",
    "    x_type_tfms=PILImage.create,\n",
    ") \n",
    "\n",
    "dset_builder.setup(get_image_files(path),do_setup=True)\n",
    "n_out = dset_builder.y_tfms[1].c     \n",
    "\n",
    "custom_model = create_cnn_model(resnet34, n_out,\n",
    "                                pretrained=True,\n",
    "                                concat_pool=False)\n",
    "\n",
    "wrapped_model = xmp.MpModelWrapper(custom_model)"
   ]
  },
  {
   "cell_type": "code",
   "execution_count": 12,
   "metadata": {
    "id": "xWI-aX9f3ERI"
   },
   "outputs": [],
   "source": [
    "def train_torch_model(rank, flags):\n",
    "    xm.master_print('start training')\n",
    "    world_size = xm.xrt_world_size()\n",
    "    device = xm.xla_device()\n",
    "    dsets = dset_builder.get_datasets()\n",
    "    sync_valid = flags['sync_valid']\n",
    "    dls = make_torch_dataloaders(\n",
    "            *dsets, \n",
    "            rank=rank, \n",
    "            world_size=world_size,\n",
    "            sync_valid=sync_valid,\n",
    "            bs=flags['batch_size'],\n",
    "            num_workers=flags['num_workers'])\n",
    "    model = wrapped_model.to(device)\n",
    "    learner = Learner(\n",
    "            dls,\n",
    "            model,\n",
    "            loss_func=nn.CrossEntropyLoss(),\n",
    "            opt_func=Adam,\n",
    "            wd=flags['weight_decay'],\n",
    "            moms=flags['moms'],\n",
    "            metrics=accuracy\n",
    "            )\n",
    "    learner.to_xla(device,rank=rank, sync_valid=sync_valid)\n",
    "    lr = flags['learning_rate'] * world_size\n",
    "    learner.freeze()\n",
    "    freeze_epochs = flags['freeze_epochs']\n",
    "    learner.fit_one_cycle(freeze_epochs,lr_max=slice(lr/10.))\n",
    "    learner.unfreeze()\n",
    "    epochs = flags['epochs']\n",
    "    learner.fit_one_cycle(epochs, lr_max=slice(lr/50, lr/20.))\n",
    "    learner.save('stage-1')\n",
    "    xm.mark_step()\n",
    "    xm.rendezvous('end training')"
   ]
  },
  {
   "cell_type": "code",
   "execution_count": 13,
   "metadata": {
    "colab": {
     "base_uri": "https://localhost:8080/",
     "height": 482
    },
    "id": "0A0O2S2C_PT9",
    "outputId": "0b28ebe7-7305-48ba-99fb-8105f2b059b2"
   },
   "outputs": [
    {
     "name": "stdout",
     "output_type": "stream",
     "text": [
      "start training\n",
      "start fit\n"
     ]
    },
    {
     "data": {
      "text/html": [
       "<table border=\"1\" class=\"dataframe\">\n",
       "  <thead>\n",
       "    <tr style=\"text-align: left;\">\n",
       "      <th>epoch</th>\n",
       "      <th>train_loss</th>\n",
       "      <th>valid_loss</th>\n",
       "      <th>accuracy</th>\n",
       "      <th>time</th>\n",
       "    </tr>\n",
       "  </thead>\n",
       "  <tbody>\n",
       "    <tr>\n",
       "      <td>0</td>\n",
       "      <td>2.863358</td>\n",
       "      <td>1.573918</td>\n",
       "      <td>0.527699</td>\n",
       "      <td>01:23</td>\n",
       "    </tr>\n",
       "  </tbody>\n",
       "</table>"
      ],
      "text/plain": [
       "<IPython.core.display.HTML object>"
      ]
     },
     "metadata": {
      "tags": []
     },
     "output_type": "display_data"
    },
    {
     "name": "stdout",
     "output_type": "stream",
     "text": [
      "start fit\n"
     ]
    },
    {
     "data": {
      "text/html": [
       "<table border=\"1\" class=\"dataframe\">\n",
       "  <thead>\n",
       "    <tr style=\"text-align: left;\">\n",
       "      <th>epoch</th>\n",
       "      <th>train_loss</th>\n",
       "      <th>valid_loss</th>\n",
       "      <th>accuracy</th>\n",
       "      <th>time</th>\n",
       "    </tr>\n",
       "  </thead>\n",
       "  <tbody>\n",
       "    <tr>\n",
       "      <td>0</td>\n",
       "      <td>1.841882</td>\n",
       "      <td>1.737729</td>\n",
       "      <td>0.492188</td>\n",
       "      <td>00:55</td>\n",
       "    </tr>\n",
       "    <tr>\n",
       "      <td>1</td>\n",
       "      <td>1.549578</td>\n",
       "      <td>1.458188</td>\n",
       "      <td>0.600852</td>\n",
       "      <td>00:39</td>\n",
       "    </tr>\n",
       "    <tr>\n",
       "      <td>2</td>\n",
       "      <td>1.323139</td>\n",
       "      <td>1.163835</td>\n",
       "      <td>0.659091</td>\n",
       "      <td>00:39</td>\n",
       "    </tr>\n",
       "    <tr>\n",
       "      <td>3</td>\n",
       "      <td>0.999466</td>\n",
       "      <td>1.197091</td>\n",
       "      <td>0.668324</td>\n",
       "      <td>00:39</td>\n",
       "    </tr>\n",
       "    <tr>\n",
       "      <td>4</td>\n",
       "      <td>0.725341</td>\n",
       "      <td>0.714214</td>\n",
       "      <td>0.790483</td>\n",
       "      <td>00:39</td>\n",
       "    </tr>\n",
       "    <tr>\n",
       "      <td>5</td>\n",
       "      <td>0.504270</td>\n",
       "      <td>0.608165</td>\n",
       "      <td>0.825994</td>\n",
       "      <td>00:39</td>\n",
       "    </tr>\n",
       "    <tr>\n",
       "      <td>6</td>\n",
       "      <td>0.300993</td>\n",
       "      <td>0.524123</td>\n",
       "      <td>0.848011</td>\n",
       "      <td>00:39</td>\n",
       "    </tr>\n",
       "    <tr>\n",
       "      <td>7</td>\n",
       "      <td>0.167280</td>\n",
       "      <td>0.465080</td>\n",
       "      <td>0.868608</td>\n",
       "      <td>00:39</td>\n",
       "    </tr>\n",
       "    <tr>\n",
       "      <td>8</td>\n",
       "      <td>0.110655</td>\n",
       "      <td>0.460137</td>\n",
       "      <td>0.870739</td>\n",
       "      <td>00:39</td>\n",
       "    </tr>\n",
       "  </tbody>\n",
       "</table>"
      ],
      "text/plain": [
       "<IPython.core.display.HTML object>"
      ]
     },
     "metadata": {
      "tags": []
     },
     "output_type": "display_data"
    },
    {
     "name": "stdout",
     "output_type": "stream",
     "text": [
      "CPU times: user 431 ms, sys: 310 ms, total: 741 ms\n",
      "Wall time: 7min 50s\n"
     ]
    }
   ],
   "source": [
    "%%time\n",
    "xmp.spawn(train_torch_model, args=(FLAGS,), nprocs=FLAGS['nprocs'],start_method='fork')"
   ]
  },
  {
   "cell_type": "code",
   "execution_count": 13,
   "metadata": {
    "id": "y85hrEheGigz"
   },
   "outputs": [],
   "source": []
  }
 ],
 "metadata": {
  "accelerator": "TPU",
  "colab": {
   "collapsed_sections": [],
   "include_colab_link": true,
   "machine_shape": "hm",
   "name": "sample_torch_dataloader_multicore_pets_tpu.ipynb",
   "provenance": [],
   "toc_visible": true
  },
  "kernelspec": {
   "display_name": "Python 3 (ipykernel)",
   "language": "python",
   "name": "python3"
  },
  "language_info": {
   "codemirror_mode": {
    "name": "ipython",
    "version": 3
   },
   "file_extension": ".py",
   "mimetype": "text/x-python",
   "name": "python",
   "nbconvert_exporter": "python",
   "pygments_lexer": "ipython3",
   "version": "3.9.5"
  },
  "varInspector": {
   "cols": {
    "lenName": 16,
    "lenType": 16,
    "lenVar": 40
   },
   "kernels_config": {
    "python": {
     "delete_cmd_postfix": "",
     "delete_cmd_prefix": "del ",
     "library": "var_list.py",
     "varRefreshCmd": "print(var_dic_list())"
    },
    "r": {
     "delete_cmd_postfix": ") ",
     "delete_cmd_prefix": "rm(",
     "library": "var_list.r",
     "varRefreshCmd": "cat(var_dic_list()) "
    }
   },
   "types_to_exclude": [
    "module",
    "function",
    "builtin_function_or_method",
    "instance",
    "_Feature"
   ],
   "window_display": false
  },
  "widgets": {
   "application/vnd.jupyter.widget-state+json": {
    "0eaaf4361ef0489eb2a3c16edd818533": {
     "model_module": "@jupyter-widgets/base",
     "model_name": "LayoutModel",
     "state": {
      "_model_module": "@jupyter-widgets/base",
      "_model_module_version": "1.2.0",
      "_model_name": "LayoutModel",
      "_view_count": null,
      "_view_module": "@jupyter-widgets/base",
      "_view_module_version": "1.2.0",
      "_view_name": "LayoutView",
      "align_content": null,
      "align_items": null,
      "align_self": null,
      "border": null,
      "bottom": null,
      "display": null,
      "flex": null,
      "flex_flow": null,
      "grid_area": null,
      "grid_auto_columns": null,
      "grid_auto_flow": null,
      "grid_auto_rows": null,
      "grid_column": null,
      "grid_gap": null,
      "grid_row": null,
      "grid_template_areas": null,
      "grid_template_columns": null,
      "grid_template_rows": null,
      "height": null,
      "justify_content": null,
      "justify_items": null,
      "left": null,
      "margin": null,
      "max_height": null,
      "max_width": null,
      "min_height": null,
      "min_width": null,
      "object_fit": null,
      "object_position": null,
      "order": null,
      "overflow": null,
      "overflow_x": null,
      "overflow_y": null,
      "padding": null,
      "right": null,
      "top": null,
      "visibility": null,
      "width": null
     }
    },
    "143b6b1900674e8ca71c00d5d6db39e7": {
     "model_module": "@jupyter-widgets/controls",
     "model_name": "FloatProgressModel",
     "state": {
      "_dom_classes": [],
      "_model_module": "@jupyter-widgets/controls",
      "_model_module_version": "1.5.0",
      "_model_name": "FloatProgressModel",
      "_view_count": null,
      "_view_module": "@jupyter-widgets/controls",
      "_view_module_version": "1.5.0",
      "_view_name": "ProgressView",
      "bar_style": "success",
      "description": "100%",
      "description_tooltip": null,
      "layout": "IPY_MODEL_0eaaf4361ef0489eb2a3c16edd818533",
      "max": 87306240,
      "min": 0,
      "orientation": "horizontal",
      "style": "IPY_MODEL_39ef1ac4ef48497caad01b6bf627ed24",
      "value": 87306240
     }
    },
    "290d5e99ae78401f9d009dafc2dd995d": {
     "model_module": "@jupyter-widgets/controls",
     "model_name": "HTMLModel",
     "state": {
      "_dom_classes": [],
      "_model_module": "@jupyter-widgets/controls",
      "_model_module_version": "1.5.0",
      "_model_name": "HTMLModel",
      "_view_count": null,
      "_view_module": "@jupyter-widgets/controls",
      "_view_module_version": "1.5.0",
      "_view_name": "HTMLView",
      "description": "",
      "description_tooltip": null,
      "layout": "IPY_MODEL_754040d3cb5444778328da7b9c3b8773",
      "placeholder": "​",
      "style": "IPY_MODEL_df956c5ffa194930bbaeb074ed92c0b2",
      "value": " 83.3M/83.3M [00:14&lt;00:00, 5.99MB/s]"
     }
    },
    "39ef1ac4ef48497caad01b6bf627ed24": {
     "model_module": "@jupyter-widgets/controls",
     "model_name": "ProgressStyleModel",
     "state": {
      "_model_module": "@jupyter-widgets/controls",
      "_model_module_version": "1.5.0",
      "_model_name": "ProgressStyleModel",
      "_view_count": null,
      "_view_module": "@jupyter-widgets/base",
      "_view_module_version": "1.2.0",
      "_view_name": "StyleView",
      "bar_color": null,
      "description_width": "initial"
     }
    },
    "3a93cd7b4a3b440a96b67addb96b0e09": {
     "model_module": "@jupyter-widgets/base",
     "model_name": "LayoutModel",
     "state": {
      "_model_module": "@jupyter-widgets/base",
      "_model_module_version": "1.2.0",
      "_model_name": "LayoutModel",
      "_view_count": null,
      "_view_module": "@jupyter-widgets/base",
      "_view_module_version": "1.2.0",
      "_view_name": "LayoutView",
      "align_content": null,
      "align_items": null,
      "align_self": null,
      "border": null,
      "bottom": null,
      "display": null,
      "flex": null,
      "flex_flow": null,
      "grid_area": null,
      "grid_auto_columns": null,
      "grid_auto_flow": null,
      "grid_auto_rows": null,
      "grid_column": null,
      "grid_gap": null,
      "grid_row": null,
      "grid_template_areas": null,
      "grid_template_columns": null,
      "grid_template_rows": null,
      "height": null,
      "justify_content": null,
      "justify_items": null,
      "left": null,
      "margin": null,
      "max_height": null,
      "max_width": null,
      "min_height": null,
      "min_width": null,
      "object_fit": null,
      "object_position": null,
      "order": null,
      "overflow": null,
      "overflow_x": null,
      "overflow_y": null,
      "padding": null,
      "right": null,
      "top": null,
      "visibility": null,
      "width": null
     }
    },
    "754040d3cb5444778328da7b9c3b8773": {
     "model_module": "@jupyter-widgets/base",
     "model_name": "LayoutModel",
     "state": {
      "_model_module": "@jupyter-widgets/base",
      "_model_module_version": "1.2.0",
      "_model_name": "LayoutModel",
      "_view_count": null,
      "_view_module": "@jupyter-widgets/base",
      "_view_module_version": "1.2.0",
      "_view_name": "LayoutView",
      "align_content": null,
      "align_items": null,
      "align_self": null,
      "border": null,
      "bottom": null,
      "display": null,
      "flex": null,
      "flex_flow": null,
      "grid_area": null,
      "grid_auto_columns": null,
      "grid_auto_flow": null,
      "grid_auto_rows": null,
      "grid_column": null,
      "grid_gap": null,
      "grid_row": null,
      "grid_template_areas": null,
      "grid_template_columns": null,
      "grid_template_rows": null,
      "height": null,
      "justify_content": null,
      "justify_items": null,
      "left": null,
      "margin": null,
      "max_height": null,
      "max_width": null,
      "min_height": null,
      "min_width": null,
      "object_fit": null,
      "object_position": null,
      "order": null,
      "overflow": null,
      "overflow_x": null,
      "overflow_y": null,
      "padding": null,
      "right": null,
      "top": null,
      "visibility": null,
      "width": null
     }
    },
    "c5ef0f57294e46c09f2c6e19b1d92f57": {
     "model_module": "@jupyter-widgets/controls",
     "model_name": "HBoxModel",
     "state": {
      "_dom_classes": [],
      "_model_module": "@jupyter-widgets/controls",
      "_model_module_version": "1.5.0",
      "_model_name": "HBoxModel",
      "_view_count": null,
      "_view_module": "@jupyter-widgets/controls",
      "_view_module_version": "1.5.0",
      "_view_name": "HBoxView",
      "box_style": "",
      "children": [
       "IPY_MODEL_143b6b1900674e8ca71c00d5d6db39e7",
       "IPY_MODEL_290d5e99ae78401f9d009dafc2dd995d"
      ],
      "layout": "IPY_MODEL_3a93cd7b4a3b440a96b67addb96b0e09"
     }
    },
    "df956c5ffa194930bbaeb074ed92c0b2": {
     "model_module": "@jupyter-widgets/controls",
     "model_name": "DescriptionStyleModel",
     "state": {
      "_model_module": "@jupyter-widgets/controls",
      "_model_module_version": "1.5.0",
      "_model_name": "DescriptionStyleModel",
      "_view_count": null,
      "_view_module": "@jupyter-widgets/base",
      "_view_module_version": "1.2.0",
      "_view_name": "StyleView",
      "description_width": ""
     }
    }
   }
  }
 },
 "nbformat": 4,
 "nbformat_minor": 4
}
