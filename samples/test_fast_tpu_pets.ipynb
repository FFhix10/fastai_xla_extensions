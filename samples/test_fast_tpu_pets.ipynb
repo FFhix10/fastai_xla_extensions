{
 "cells": [
  {
   "cell_type": "markdown",
   "metadata": {
    "id": "mr8GkWu87SQ-"
   },
   "source": [
    "# Pets Sample (Multi Core TPU Sample)"
   ]
  },
  {
   "cell_type": "markdown",
   "metadata": {
    "id": "view-in-github"
   },
   "source": [
    "<a href=\"https://colab.research.google.com/github/butchland/fastai_xla_extensions/blob/master/samples/test_fast_tpu_pets.ipynb\" target=\"_parent\"><img src=\"https://colab.research.google.com/assets/colab-badge.svg\" alt=\"Open In Colab\"/></a>"
   ]
  },
  {
   "cell_type": "code",
   "execution_count": 1,
   "metadata": {
    "colab": {
     "base_uri": "https://localhost:8080/"
    },
    "executionInfo": {
     "elapsed": 104780,
     "status": "ok",
     "timestamp": 1615477274895,
     "user": {
      "displayName": "Butch Landingin",
      "photoUrl": "https://lh3.googleusercontent.com/a-/AOh14Gh6hxH8XsmO-D_xEWQfgLPP3712rG2YZXMG9j7Z5A=s64",
      "userId": "11910892068509052005"
     },
     "user_tz": -480
    },
    "id": "p2g1lEnkOXg5",
    "outputId": "08168aff-a927-4232-c3b4-0ae64f2b0d39"
   },
   "outputs": [
    {
     "name": "stdout",
     "output_type": "stream",
     "text": [
      "\u001b[K     |████████████████████████████████| 735.4MB 1.1MB/s \n",
      "\u001b[K     |████████████████████████████████| 12.8MB 42.3MB/s \n",
      "\u001b[K     |████████████████████████████████| 7.0MB 6.6MB/s \n",
      "\u001b[?25h"
     ]
    }
   ],
   "source": [
    "!pip install -qqq --no-cache-dir torch==1.7.1+cu101 torchvision==0.8.2+cu101 torchtext==0.8.0 -f https://download.pytorch.org/whl/torch_stable.html"
   ]
  },
  {
   "cell_type": "code",
   "execution_count": 5,
   "metadata": {
    "colab": {
     "base_uri": "https://localhost:8080/"
    },
    "executionInfo": {
     "elapsed": 133269,
     "status": "ok",
     "timestamp": 1615477303428,
     "user": {
      "displayName": "Butch Landingin",
      "photoUrl": "https://lh3.googleusercontent.com/a-/AOh14Gh6hxH8XsmO-D_xEWQfgLPP3712rG2YZXMG9j7Z5A=s64",
      "userId": "11910892068509052005"
     },
     "user_tz": -480
    },
    "id": "-maBHnlmDPVw",
    "outputId": "12201380-e642-4aee-c7b4-d77f0737aa3b"
   },
   "outputs": [
    {
     "name": "stdout",
     "output_type": "stream",
     "text": [
      "Updating fastai...\n",
      "Done.\n"
     ]
    }
   ],
   "source": [
    "!curl -s https://course19.fast.ai/setup/colab | bash"
   ]
  },
  {
   "cell_type": "code",
   "execution_count": 2,
   "metadata": {
    "colab": {
     "base_uri": "https://localhost:8080/"
    },
    "executionInfo": {
     "elapsed": 108493,
     "status": "ok",
     "timestamp": 1615477278621,
     "user": {
      "displayName": "Butch Landingin",
      "photoUrl": "https://lh3.googleusercontent.com/a-/AOh14Gh6hxH8XsmO-D_xEWQfgLPP3712rG2YZXMG9j7Z5A=s64",
      "userId": "11910892068509052005"
     },
     "user_tz": -480
    },
    "id": "n5brhMy3uzfS",
    "outputId": "b2de6e37-08c4-4855-83ee-c244e3042dd6"
   },
   "outputs": [
    {
     "name": "stdout",
     "output_type": "stream",
     "text": [
      "\u001b[K     |████████████████████████████████| 194kB 6.3MB/s \n",
      "\u001b[K     |████████████████████████████████| 61kB 5.0MB/s \n",
      "\u001b[?25h"
     ]
    }
   ],
   "source": [
    "# !pip install -Uqq git+https://github.com/fastai/fastai.git \n",
    "!pip install -Uqq fastai==2.3.0"
   ]
  },
  {
   "cell_type": "code",
   "execution_count": 3,
   "metadata": {
    "colab": {
     "base_uri": "https://localhost:8080/"
    },
    "executionInfo": {
     "elapsed": 123681,
     "status": "ok",
     "timestamp": 1615477293819,
     "user": {
      "displayName": "Butch Landingin",
      "photoUrl": "https://lh3.googleusercontent.com/a-/AOh14Gh6hxH8XsmO-D_xEWQfgLPP3712rG2YZXMG9j7Z5A=s64",
      "userId": "11910892068509052005"
     },
     "user_tz": -480
    },
    "id": "O53lrJMDn9Rd",
    "outputId": "63c248dc-440a-4e5f-dc91-bf080f0641b2"
   },
   "outputs": [
    {
     "name": "stdout",
     "output_type": "stream",
     "text": [
      "\u001b[K     |████████████████████████████████| 133.6MB 31kB/s \n",
      "\u001b[K     |████████████████████████████████| 61kB 3.0MB/s \n",
      "\u001b[31mERROR: earthengine-api 0.1.254 has requirement google-api-python-client>=1.12.1, but you'll have google-api-python-client 1.8.0 which is incompatible.\u001b[0m\n",
      "\u001b[?25h"
     ]
    }
   ],
   "source": [
    "!pip install -Uqq cloud-tpu-client==0.10 https://storage.googleapis.com/tpu-pytorch/wheels/torch_xla-1.7-cp37-cp37m-linux_x86_64.whl"
   ]
  },
  {
   "cell_type": "code",
   "execution_count": 4,
   "metadata": {
    "colab": {
     "base_uri": "https://localhost:8080/"
    },
    "executionInfo": {
     "elapsed": 130522,
     "status": "ok",
     "timestamp": 1615477300669,
     "user": {
      "displayName": "Butch Landingin",
      "photoUrl": "https://lh3.googleusercontent.com/a-/AOh14Gh6hxH8XsmO-D_xEWQfgLPP3712rG2YZXMG9j7Z5A=s64",
      "userId": "11910892068509052005"
     },
     "user_tz": -480
    },
    "id": "hrVR2QGNFj9-",
    "outputId": "bc8d66fe-06fa-4588-9186-d57022df9a0b"
   },
   "outputs": [
    {
     "name": "stdout",
     "output_type": "stream",
     "text": [
      "  Building wheel for fastai-xla-extensions (setup.py) ... \u001b[?25l\u001b[?25hdone\n"
     ]
    }
   ],
   "source": [
    "# !pip install -Uqq fastai_xla_extensions\n",
    "!pip install -Uqq git+https://github.com/butchland/fastai_xla_extensions.git"
   ]
  },
  {
   "cell_type": "code",
   "execution_count": 6,
   "metadata": {
    "colab": {
     "base_uri": "https://localhost:8080/"
    },
    "executionInfo": {
     "elapsed": 134681,
     "status": "ok",
     "timestamp": 1615477304850,
     "user": {
      "displayName": "Butch Landingin",
      "photoUrl": "https://lh3.googleusercontent.com/a-/AOh14Gh6hxH8XsmO-D_xEWQfgLPP3712rG2YZXMG9j7Z5A=s64",
      "userId": "11910892068509052005"
     },
     "user_tz": -480
    },
    "id": "cfLJEMVZFS2d",
    "outputId": "3858d8da-f38e-48ab-83fb-1984b3ab2b4b"
   },
   "outputs": [
    {
     "name": "stdout",
     "output_type": "stream",
     "text": [
      "torch==1.7.1+cu101\n",
      "torch-xla==1.7\n",
      "torchsummary==1.5.1\n",
      "torchtext==0.8.0\n",
      "torchvision==0.8.2+cu101\n",
      "fastai==2.2.7\n",
      "fastai-xla-extensions==0.0.8\n",
      "fastcore==1.3.19\n",
      "fastdtw==0.3.4\n",
      "fastprogress==1.0.0\n",
      "fastrlock==0.5\n"
     ]
    }
   ],
   "source": [
    "!pip freeze | grep torch\n",
    "!pip freeze | grep fast"
   ]
  },
  {
   "cell_type": "markdown",
   "metadata": {
    "id": "gJiPz2ogMOmj"
   },
   "source": [
    "Start of kernel restart"
   ]
  },
  {
   "cell_type": "code",
   "execution_count": 7,
   "metadata": {
    "colab": {
     "base_uri": "https://localhost:8080/"
    },
    "executionInfo": {
     "elapsed": 176770,
     "status": "ok",
     "timestamp": 1615477346949,
     "user": {
      "displayName": "Butch Landingin",
      "photoUrl": "https://lh3.googleusercontent.com/a-/AOh14Gh6hxH8XsmO-D_xEWQfgLPP3712rG2YZXMG9j7Z5A=s64",
      "userId": "11910892068509052005"
     },
     "user_tz": -480
    },
    "id": "GBSZSW_rcojV",
    "outputId": "17c8f380-564c-4e28-baaf-1119e0c81ba6"
   },
   "outputs": [
    {
     "name": "stderr",
     "output_type": "stream",
     "text": [
      "WARNING:root:Waiting for TPU to be start up with version pytorch-1.7...\n",
      "WARNING:root:Waiting for TPU to be start up with version pytorch-1.7...\n",
      "WARNING:root:TPU has started up successfully with version pytorch-1.7\n"
     ]
    }
   ],
   "source": [
    "from fastai.vision.all import *\n",
    "from fastai_xla_extensions.all import *"
   ]
  },
  {
   "cell_type": "code",
   "execution_count": 8,
   "metadata": {
    "colab": {
     "base_uri": "https://localhost:8080/",
     "height": 54
    },
    "executionInfo": {
     "elapsed": 198892,
     "status": "ok",
     "timestamp": 1615477369080,
     "user": {
      "displayName": "Butch Landingin",
      "photoUrl": "https://lh3.googleusercontent.com/a-/AOh14Gh6hxH8XsmO-D_xEWQfgLPP3712rG2YZXMG9j7Z5A=s64",
      "userId": "11910892068509052005"
     },
     "user_tz": -480
    },
    "id": "KXWkUjTVJf-J",
    "outputId": "e1e65f0b-3751-4fa2-b719-718e5e90403f"
   },
   "outputs": [
    {
     "data": {
      "text/html": [],
      "text/plain": [
       "<IPython.core.display.HTML object>"
      ]
     },
     "metadata": {
      "tags": []
     },
     "output_type": "display_data"
    },
    {
     "data": {
      "text/plain": [
       "(#7393) [Path('boxer_41.jpg'),Path('american_pit_bull_terrier_72.jpg'),Path('yorkshire_terrier_185.jpg'),Path('german_shorthaired_197.jpg'),Path('Egyptian_Mau_96.jpg'),Path('shiba_inu_172.jpg'),Path('Russian_Blue_104.jpg'),Path('basset_hound_52.jpg'),Path('British_Shorthair_96.jpg'),Path('Maine_Coon_100.jpg')...]"
      ]
     },
     "execution_count": 8,
     "metadata": {
      "tags": []
     },
     "output_type": "execute_result"
    }
   ],
   "source": [
    "# path = untar_data(URLs.MNIST_TINY)\n",
    "# path = untar_data(URLs.MNIST); Path.BASE_PATH = path; path.ls()\n",
    "path = untar_data(URLs.PETS)/'images'; Path.BASE_PATH = path; path.ls()"
   ]
  },
  {
   "cell_type": "code",
   "execution_count": 9,
   "metadata": {
    "executionInfo": {
     "elapsed": 198890,
     "status": "ok",
     "timestamp": 1615477369081,
     "user": {
      "displayName": "Butch Landingin",
      "photoUrl": "https://lh3.googleusercontent.com/a-/AOh14Gh6hxH8XsmO-D_xEWQfgLPP3712rG2YZXMG9j7Z5A=s64",
      "userId": "11910892068509052005"
     },
     "user_tz": -480
    },
    "id": "CQiRK5mHJlx-"
   },
   "outputs": [],
   "source": [
    "bs = 64\n",
    "arch = resnet34"
   ]
  },
  {
   "cell_type": "code",
   "execution_count": 10,
   "metadata": {
    "executionInfo": {
     "elapsed": 198887,
     "status": "ok",
     "timestamp": 1615477369082,
     "user": {
      "displayName": "Butch Landingin",
      "photoUrl": "https://lh3.googleusercontent.com/a-/AOh14Gh6hxH8XsmO-D_xEWQfgLPP3712rG2YZXMG9j7Z5A=s64",
      "userId": "11910892068509052005"
     },
     "user_tz": -480
    },
    "id": "A7zn-cN6JvTB"
   },
   "outputs": [],
   "source": [
    "pat = r'(.+)_\\d+.jpg'\n",
    "data = DataBlock(\n",
    "    blocks=(ImageBlock,CategoryBlock),\n",
    "    get_items=get_image_files,\n",
    "    get_y=using_attr(RegexLabeller(pat),'name'),\n",
    "    splitter=RandomSplitter(seed=42),\n",
    "    item_tfms=Resize(112),\n",
    "    batch_tfms=[Normalize.from_stats(*imagenet_stats)]\n",
    ")"
   ]
  },
  {
   "cell_type": "code",
   "execution_count": 11,
   "metadata": {
    "executionInfo": {
     "elapsed": 199116,
     "status": "ok",
     "timestamp": 1615477369314,
     "user": {
      "displayName": "Butch Landingin",
      "photoUrl": "https://lh3.googleusercontent.com/a-/AOh14Gh6hxH8XsmO-D_xEWQfgLPP3712rG2YZXMG9j7Z5A=s64",
      "userId": "11910892068509052005"
     },
     "user_tz": -480
    },
    "id": "UTRZYoQTLS5w"
   },
   "outputs": [],
   "source": [
    "dls = data.dataloaders(path, bs=bs)"
   ]
  },
  {
   "cell_type": "code",
   "execution_count": 12,
   "metadata": {
    "colab": {
     "base_uri": "https://localhost:8080/",
     "height": 83,
     "referenced_widgets": [
      "f169e4c864a94701aa61afab68343320",
      "8c6679dfff274a3ea26711b47ab06fb0",
      "3323678e220a4efcb5600b6e816ed7ad",
      "13dcff0904934da59bd078c5b35bdde8",
      "89ce643db4904c3c83ee72fd9bed167d",
      "9f6929b0ce324caeb641208c50fc5a01",
      "42380cda2db4461d9c7ef2060b12762e",
      "3eec77c31c8f44ca93d25bdf6fd09d4d"
     ]
    },
    "executionInfo": {
     "elapsed": 201319,
     "status": "ok",
     "timestamp": 1615477371526,
     "user": {
      "displayName": "Butch Landingin",
      "photoUrl": "https://lh3.googleusercontent.com/a-/AOh14Gh6hxH8XsmO-D_xEWQfgLPP3712rG2YZXMG9j7Z5A=s64",
      "userId": "11910892068509052005"
     },
     "user_tz": -480
    },
    "id": "YMX0KJa3LXPx",
    "outputId": "c853f4f2-5e36-45cc-903b-4d26a9c1eb27"
   },
   "outputs": [
    {
     "name": "stderr",
     "output_type": "stream",
     "text": [
      "Downloading: \"https://download.pytorch.org/models/resnet34-333f7ec4.pth\" to /root/.cache/torch/hub/checkpoints/resnet34-333f7ec4.pth\n"
     ]
    },
    {
     "data": {
      "application/vnd.jupyter.widget-view+json": {
       "model_id": "f169e4c864a94701aa61afab68343320",
       "version_major": 2,
       "version_minor": 0
      },
      "text/plain": [
       "HBox(children=(FloatProgress(value=0.0, max=87306240.0), HTML(value='')))"
      ]
     },
     "metadata": {
      "tags": []
     },
     "output_type": "display_data"
    },
    {
     "name": "stdout",
     "output_type": "stream",
     "text": [
      "\n"
     ]
    }
   ],
   "source": [
    "learner = cnn_learner(dls, arch, metrics=accuracy, concat_pool=False)"
   ]
  },
  {
   "cell_type": "code",
   "execution_count": 13,
   "metadata": {
    "colab": {
     "base_uri": "https://localhost:8080/",
     "height": 255
    },
    "executionInfo": {
     "elapsed": 311280,
     "status": "ok",
     "timestamp": 1615477481495,
     "user": {
      "displayName": "Butch Landingin",
      "photoUrl": "https://lh3.googleusercontent.com/a-/AOh14Gh6hxH8XsmO-D_xEWQfgLPP3712rG2YZXMG9j7Z5A=s64",
      "userId": "11910892068509052005"
     },
     "user_tz": -480
    },
    "id": "aGdZje7OLfNd",
    "outputId": "80d29d03-4771-4042-a38e-46519d3bce57"
   },
   "outputs": [
    {
     "name": "stdout",
     "output_type": "stream",
     "text": [
      "start fit\n"
     ]
    },
    {
     "data": {
      "text/html": [
       "<table border=\"1\" class=\"dataframe\">\n",
       "  <thead>\n",
       "    <tr style=\"text-align: left;\">\n",
       "      <th>epoch</th>\n",
       "      <th>train_loss</th>\n",
       "      <th>valid_loss</th>\n",
       "      <th>accuracy</th>\n",
       "      <th>time</th>\n",
       "    </tr>\n",
       "  </thead>\n",
       "  <tbody>\n",
       "    <tr>\n",
       "      <td>0</td>\n",
       "      <td>0.613771</td>\n",
       "      <td>1.544855</td>\n",
       "      <td>0.662838</td>\n",
       "      <td>00:40</td>\n",
       "    </tr>\n",
       "    <tr>\n",
       "      <td>1</td>\n",
       "      <td>0.613933</td>\n",
       "      <td>0.755649</td>\n",
       "      <td>0.791216</td>\n",
       "      <td>00:14</td>\n",
       "    </tr>\n",
       "    <tr>\n",
       "      <td>2</td>\n",
       "      <td>0.631475</td>\n",
       "      <td>0.633968</td>\n",
       "      <td>0.810135</td>\n",
       "      <td>00:13</td>\n",
       "    </tr>\n",
       "    <tr>\n",
       "      <td>3</td>\n",
       "      <td>0.622203</td>\n",
       "      <td>0.600104</td>\n",
       "      <td>0.822297</td>\n",
       "      <td>00:12</td>\n",
       "    </tr>\n",
       "    <tr>\n",
       "      <td>4</td>\n",
       "      <td>0.605481</td>\n",
       "      <td>0.566854</td>\n",
       "      <td>0.825000</td>\n",
       "      <td>00:13</td>\n",
       "    </tr>\n",
       "  </tbody>\n",
       "</table>"
      ],
      "text/plain": [
       "<IPython.core.display.HTML object>"
      ]
     },
     "metadata": {
      "tags": []
     },
     "output_type": "display_data"
    },
    {
     "name": "stdout",
     "output_type": "stream",
     "text": [
      "CPU times: user 591 ms, sys: 302 ms, total: 893 ms\n",
      "Wall time: 1min 49s\n"
     ]
    }
   ],
   "source": [
    "%%time\n",
    "learner.xla_fit(5, lr=4e-3)"
   ]
  },
  {
   "cell_type": "code",
   "execution_count": 14,
   "metadata": {
    "colab": {
     "base_uri": "https://localhost:8080/",
     "height": 34
    },
    "executionInfo": {
     "elapsed": 319456,
     "status": "ok",
     "timestamp": 1615477489678,
     "user": {
      "displayName": "Butch Landingin",
      "photoUrl": "https://lh3.googleusercontent.com/a-/AOh14Gh6hxH8XsmO-D_xEWQfgLPP3712rG2YZXMG9j7Z5A=s64",
      "userId": "11910892068509052005"
     },
     "user_tz": -480
    },
    "id": "6blvh9BevyCc",
    "outputId": "8c1e38c5-eb9e-4129-de92-dedfa088bf62"
   },
   "outputs": [
    {
     "data": {
      "text/html": [],
      "text/plain": [
       "<IPython.core.display.HTML object>"
      ]
     },
     "metadata": {
      "tags": []
     },
     "output_type": "display_data"
    },
    {
     "data": {
      "text/plain": [
       "(#2) [0.5695473551750183,0.8267929553985596]"
      ]
     },
     "execution_count": 14,
     "metadata": {
      "tags": []
     },
     "output_type": "execute_result"
    }
   ],
   "source": [
    "learner.validate()"
   ]
  },
  {
   "cell_type": "code",
   "execution_count": 15,
   "metadata": {
    "executionInfo": {
     "elapsed": 319454,
     "status": "ok",
     "timestamp": 1615477489679,
     "user": {
      "displayName": "Butch Landingin",
      "photoUrl": "https://lh3.googleusercontent.com/a-/AOh14Gh6hxH8XsmO-D_xEWQfgLPP3712rG2YZXMG9j7Z5A=s64",
      "userId": "11910892068509052005"
     },
     "user_tz": -480
    },
    "id": "tN7F0e4LvstP"
   },
   "outputs": [],
   "source": [
    "data2 = data.new(item_tfms=Resize(224), batch_tfms=[Normalize.from_stats(*imagenet_stats)])"
   ]
  },
  {
   "cell_type": "code",
   "execution_count": 16,
   "metadata": {
    "executionInfo": {
     "elapsed": 319451,
     "status": "ok",
     "timestamp": 1615477489679,
     "user": {
      "displayName": "Butch Landingin",
      "photoUrl": "https://lh3.googleusercontent.com/a-/AOh14Gh6hxH8XsmO-D_xEWQfgLPP3712rG2YZXMG9j7Z5A=s64",
      "userId": "11910892068509052005"
     },
     "user_tz": -480
    },
    "id": "FMlK_jpbv4-U"
   },
   "outputs": [],
   "source": [
    "dls2 = data2.dataloaders(path, bs=64)"
   ]
  },
  {
   "cell_type": "code",
   "execution_count": 17,
   "metadata": {
    "executionInfo": {
     "elapsed": 319449,
     "status": "ok",
     "timestamp": 1615477489680,
     "user": {
      "displayName": "Butch Landingin",
      "photoUrl": "https://lh3.googleusercontent.com/a-/AOh14Gh6hxH8XsmO-D_xEWQfgLPP3712rG2YZXMG9j7Z5A=s64",
      "userId": "11910892068509052005"
     },
     "user_tz": -480
    },
    "id": "UOTmuqS9wDJe"
   },
   "outputs": [],
   "source": [
    "learner.dls = dls2 # replace with size 224 sized"
   ]
  },
  {
   "cell_type": "code",
   "execution_count": 18,
   "metadata": {
    "colab": {
     "base_uri": "https://localhost:8080/",
     "height": 221
    },
    "executionInfo": {
     "elapsed": 629770,
     "status": "ok",
     "timestamp": 1615477800010,
     "user": {
      "displayName": "Butch Landingin",
      "photoUrl": "https://lh3.googleusercontent.com/a-/AOh14Gh6hxH8XsmO-D_xEWQfgLPP3712rG2YZXMG9j7Z5A=s64",
      "userId": "11910892068509052005"
     },
     "user_tz": -480
    },
    "id": "5gBpy2V-wJ9b",
    "outputId": "dde9e65a-0983-4cc1-94b2-6532398f1adc"
   },
   "outputs": [
    {
     "name": "stdout",
     "output_type": "stream",
     "text": [
      "start fit\n"
     ]
    },
    {
     "data": {
      "text/html": [
       "<table border=\"1\" class=\"dataframe\">\n",
       "  <thead>\n",
       "    <tr style=\"text-align: left;\">\n",
       "      <th>epoch</th>\n",
       "      <th>train_loss</th>\n",
       "      <th>valid_loss</th>\n",
       "      <th>accuracy</th>\n",
       "      <th>time</th>\n",
       "    </tr>\n",
       "  </thead>\n",
       "  <tbody>\n",
       "    <tr>\n",
       "      <td>0</td>\n",
       "      <td>0.092213</td>\n",
       "      <td>0.433083</td>\n",
       "      <td>0.870946</td>\n",
       "      <td>01:22</td>\n",
       "    </tr>\n",
       "    <tr>\n",
       "      <td>1</td>\n",
       "      <td>0.119729</td>\n",
       "      <td>0.373423</td>\n",
       "      <td>0.886486</td>\n",
       "      <td>00:46</td>\n",
       "    </tr>\n",
       "    <tr>\n",
       "      <td>2</td>\n",
       "      <td>0.137076</td>\n",
       "      <td>0.275434</td>\n",
       "      <td>0.906757</td>\n",
       "      <td>00:42</td>\n",
       "    </tr>\n",
       "    <tr>\n",
       "      <td>3</td>\n",
       "      <td>0.145733</td>\n",
       "      <td>0.283003</td>\n",
       "      <td>0.914189</td>\n",
       "      <td>00:41</td>\n",
       "    </tr>\n",
       "    <tr>\n",
       "      <td>4</td>\n",
       "      <td>0.151304</td>\n",
       "      <td>0.306933</td>\n",
       "      <td>0.911486</td>\n",
       "      <td>00:40</td>\n",
       "    </tr>\n",
       "  </tbody>\n",
       "</table>"
      ],
      "text/plain": [
       "<IPython.core.display.HTML object>"
      ]
     },
     "metadata": {
      "tags": []
     },
     "output_type": "display_data"
    }
   ],
   "source": [
    "learner.xla_fit(5, lr=6e-3)"
   ]
  },
  {
   "cell_type": "code",
   "execution_count": 18,
   "metadata": {
    "executionInfo": {
     "elapsed": 629773,
     "status": "ok",
     "timestamp": 1615477800017,
     "user": {
      "displayName": "Butch Landingin",
      "photoUrl": "https://lh3.googleusercontent.com/a-/AOh14Gh6hxH8XsmO-D_xEWQfgLPP3712rG2YZXMG9j7Z5A=s64",
      "userId": "11910892068509052005"
     },
     "user_tz": -480
    },
    "id": "x8e2r7nJwVE9"
   },
   "outputs": [],
   "source": []
  }
 ],
 "metadata": {
  "accelerator": "TPU",
  "colab": {
   "collapsed_sections": [],
   "machine_shape": "hm",
   "name": "test_fast_tpu_pets.ipynb",
   "provenance": [],
   "toc_visible": true
  },
  "kernelspec": {
   "display_name": "Python 3 (ipykernel)",
   "language": "python",
   "name": "python3"
  },
  "language_info": {
   "codemirror_mode": {
    "name": "ipython",
    "version": 3
   },
   "file_extension": ".py",
   "mimetype": "text/x-python",
   "name": "python",
   "nbconvert_exporter": "python",
   "pygments_lexer": "ipython3",
   "version": "3.9.5"
  },
  "varInspector": {
   "cols": {
    "lenName": 16,
    "lenType": 16,
    "lenVar": 40
   },
   "kernels_config": {
    "python": {
     "delete_cmd_postfix": "",
     "delete_cmd_prefix": "del ",
     "library": "var_list.py",
     "varRefreshCmd": "print(var_dic_list())"
    },
    "r": {
     "delete_cmd_postfix": ") ",
     "delete_cmd_prefix": "rm(",
     "library": "var_list.r",
     "varRefreshCmd": "cat(var_dic_list()) "
    }
   },
   "types_to_exclude": [
    "module",
    "function",
    "builtin_function_or_method",
    "instance",
    "_Feature"
   ],
   "window_display": false
  },
  "widgets": {
   "application/vnd.jupyter.widget-state+json": {
    "13dcff0904934da59bd078c5b35bdde8": {
     "model_module": "@jupyter-widgets/controls",
     "model_name": "HTMLModel",
     "state": {
      "_dom_classes": [],
      "_model_module": "@jupyter-widgets/controls",
      "_model_module_version": "1.5.0",
      "_model_name": "HTMLModel",
      "_view_count": null,
      "_view_module": "@jupyter-widgets/controls",
      "_view_module_version": "1.5.0",
      "_view_name": "HTMLView",
      "description": "",
      "description_tooltip": null,
      "layout": "IPY_MODEL_3eec77c31c8f44ca93d25bdf6fd09d4d",
      "placeholder": "​",
      "style": "IPY_MODEL_42380cda2db4461d9c7ef2060b12762e",
      "value": " 83.3M/83.3M [00:01&lt;00:00, 53.4MB/s]"
     }
    },
    "3323678e220a4efcb5600b6e816ed7ad": {
     "model_module": "@jupyter-widgets/controls",
     "model_name": "FloatProgressModel",
     "state": {
      "_dom_classes": [],
      "_model_module": "@jupyter-widgets/controls",
      "_model_module_version": "1.5.0",
      "_model_name": "FloatProgressModel",
      "_view_count": null,
      "_view_module": "@jupyter-widgets/controls",
      "_view_module_version": "1.5.0",
      "_view_name": "ProgressView",
      "bar_style": "success",
      "description": "100%",
      "description_tooltip": null,
      "layout": "IPY_MODEL_9f6929b0ce324caeb641208c50fc5a01",
      "max": 87306240,
      "min": 0,
      "orientation": "horizontal",
      "style": "IPY_MODEL_89ce643db4904c3c83ee72fd9bed167d",
      "value": 87306240
     }
    },
    "3eec77c31c8f44ca93d25bdf6fd09d4d": {
     "model_module": "@jupyter-widgets/base",
     "model_name": "LayoutModel",
     "state": {
      "_model_module": "@jupyter-widgets/base",
      "_model_module_version": "1.2.0",
      "_model_name": "LayoutModel",
      "_view_count": null,
      "_view_module": "@jupyter-widgets/base",
      "_view_module_version": "1.2.0",
      "_view_name": "LayoutView",
      "align_content": null,
      "align_items": null,
      "align_self": null,
      "border": null,
      "bottom": null,
      "display": null,
      "flex": null,
      "flex_flow": null,
      "grid_area": null,
      "grid_auto_columns": null,
      "grid_auto_flow": null,
      "grid_auto_rows": null,
      "grid_column": null,
      "grid_gap": null,
      "grid_row": null,
      "grid_template_areas": null,
      "grid_template_columns": null,
      "grid_template_rows": null,
      "height": null,
      "justify_content": null,
      "justify_items": null,
      "left": null,
      "margin": null,
      "max_height": null,
      "max_width": null,
      "min_height": null,
      "min_width": null,
      "object_fit": null,
      "object_position": null,
      "order": null,
      "overflow": null,
      "overflow_x": null,
      "overflow_y": null,
      "padding": null,
      "right": null,
      "top": null,
      "visibility": null,
      "width": null
     }
    },
    "42380cda2db4461d9c7ef2060b12762e": {
     "model_module": "@jupyter-widgets/controls",
     "model_name": "DescriptionStyleModel",
     "state": {
      "_model_module": "@jupyter-widgets/controls",
      "_model_module_version": "1.5.0",
      "_model_name": "DescriptionStyleModel",
      "_view_count": null,
      "_view_module": "@jupyter-widgets/base",
      "_view_module_version": "1.2.0",
      "_view_name": "StyleView",
      "description_width": ""
     }
    },
    "89ce643db4904c3c83ee72fd9bed167d": {
     "model_module": "@jupyter-widgets/controls",
     "model_name": "ProgressStyleModel",
     "state": {
      "_model_module": "@jupyter-widgets/controls",
      "_model_module_version": "1.5.0",
      "_model_name": "ProgressStyleModel",
      "_view_count": null,
      "_view_module": "@jupyter-widgets/base",
      "_view_module_version": "1.2.0",
      "_view_name": "StyleView",
      "bar_color": null,
      "description_width": "initial"
     }
    },
    "8c6679dfff274a3ea26711b47ab06fb0": {
     "model_module": "@jupyter-widgets/base",
     "model_name": "LayoutModel",
     "state": {
      "_model_module": "@jupyter-widgets/base",
      "_model_module_version": "1.2.0",
      "_model_name": "LayoutModel",
      "_view_count": null,
      "_view_module": "@jupyter-widgets/base",
      "_view_module_version": "1.2.0",
      "_view_name": "LayoutView",
      "align_content": null,
      "align_items": null,
      "align_self": null,
      "border": null,
      "bottom": null,
      "display": null,
      "flex": null,
      "flex_flow": null,
      "grid_area": null,
      "grid_auto_columns": null,
      "grid_auto_flow": null,
      "grid_auto_rows": null,
      "grid_column": null,
      "grid_gap": null,
      "grid_row": null,
      "grid_template_areas": null,
      "grid_template_columns": null,
      "grid_template_rows": null,
      "height": null,
      "justify_content": null,
      "justify_items": null,
      "left": null,
      "margin": null,
      "max_height": null,
      "max_width": null,
      "min_height": null,
      "min_width": null,
      "object_fit": null,
      "object_position": null,
      "order": null,
      "overflow": null,
      "overflow_x": null,
      "overflow_y": null,
      "padding": null,
      "right": null,
      "top": null,
      "visibility": null,
      "width": null
     }
    },
    "9f6929b0ce324caeb641208c50fc5a01": {
     "model_module": "@jupyter-widgets/base",
     "model_name": "LayoutModel",
     "state": {
      "_model_module": "@jupyter-widgets/base",
      "_model_module_version": "1.2.0",
      "_model_name": "LayoutModel",
      "_view_count": null,
      "_view_module": "@jupyter-widgets/base",
      "_view_module_version": "1.2.0",
      "_view_name": "LayoutView",
      "align_content": null,
      "align_items": null,
      "align_self": null,
      "border": null,
      "bottom": null,
      "display": null,
      "flex": null,
      "flex_flow": null,
      "grid_area": null,
      "grid_auto_columns": null,
      "grid_auto_flow": null,
      "grid_auto_rows": null,
      "grid_column": null,
      "grid_gap": null,
      "grid_row": null,
      "grid_template_areas": null,
      "grid_template_columns": null,
      "grid_template_rows": null,
      "height": null,
      "justify_content": null,
      "justify_items": null,
      "left": null,
      "margin": null,
      "max_height": null,
      "max_width": null,
      "min_height": null,
      "min_width": null,
      "object_fit": null,
      "object_position": null,
      "order": null,
      "overflow": null,
      "overflow_x": null,
      "overflow_y": null,
      "padding": null,
      "right": null,
      "top": null,
      "visibility": null,
      "width": null
     }
    },
    "f169e4c864a94701aa61afab68343320": {
     "model_module": "@jupyter-widgets/controls",
     "model_name": "HBoxModel",
     "state": {
      "_dom_classes": [],
      "_model_module": "@jupyter-widgets/controls",
      "_model_module_version": "1.5.0",
      "_model_name": "HBoxModel",
      "_view_count": null,
      "_view_module": "@jupyter-widgets/controls",
      "_view_module_version": "1.5.0",
      "_view_name": "HBoxView",
      "box_style": "",
      "children": [
       "IPY_MODEL_3323678e220a4efcb5600b6e816ed7ad",
       "IPY_MODEL_13dcff0904934da59bd078c5b35bdde8"
      ],
      "layout": "IPY_MODEL_8c6679dfff274a3ea26711b47ab06fb0"
     }
    }
   }
  }
 },
 "nbformat": 4,
 "nbformat_minor": 4
}
