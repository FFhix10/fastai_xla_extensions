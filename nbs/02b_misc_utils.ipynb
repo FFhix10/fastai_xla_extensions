{
  "nbformat": 4,
  "nbformat_minor": 0,
  "metadata": {
    "kernelspec": {
      "display_name": "Python 3",
      "language": "python",
      "name": "python3"
    },
    "colab": {
      "name": "02b_misc_utils.ipynb",
      "provenance": [],
      "collapsed_sections": [],
      "include_colab_link": true
    }
  },
  "cells": [
    {
      "cell_type": "markdown",
      "metadata": {
        "id": "view-in-github",
        "colab_type": "text"
      },
      "source": [
        "<a href=\"https://colab.research.google.com/github/butchland/fastai_xla_extensions/blob/master/nbs/02b_misc_utils.ipynb\" target=\"_parent\"><img src=\"https://colab.research.google.com/assets/colab-badge.svg\" alt=\"Open In Colab\"/></a>"
      ]
    },
    {
      "cell_type": "code",
      "metadata": {
        "id": "UTRJdtPYEyjJ"
      },
      "source": [
        "#default_exp misc_utils"
      ],
      "execution_count": null,
      "outputs": []
    },
    {
      "cell_type": "markdown",
      "metadata": {
        "id": "LM6xTsoCEyjR"
      },
      "source": [
        "# Miscellaneneous Utilities"
      ]
    },
    {
      "cell_type": "markdown",
      "metadata": {
        "id": "Fu1SG5MeEyjW"
      },
      "source": [
        "## Install fastai\n",
        "\n",
        "Use latest fastai and fastcore versions"
      ]
    },
    {
      "cell_type": "code",
      "metadata": {
        "id": "3vuf4bEDEyjX",
        "outputId": "b555c802-94e6-460d-dccb-954fb54a124b"
      },
      "source": [
        "#colab\n",
        "# !pip install -Uqq git+https://github.com/fastai/fastai.git \n",
        "!pip install -Uqq fastai --upgrade"
      ],
      "execution_count": null,
      "outputs": [
        {
          "output_type": "stream",
          "text": [
            "\u001b[K     |████████████████████████████████| 194kB 5.8MB/s \n",
            "\u001b[K     |████████████████████████████████| 61kB 5.2MB/s \n",
            "\u001b[?25h"
          ],
          "name": "stdout"
        }
      ]
    },
    {
      "cell_type": "code",
      "metadata": {
        "id": "VkQvNYzlEyjZ",
        "outputId": "61294962-4180-486c-e394-d485280e1839"
      },
      "source": [
        "#hide\n",
        "#colab\n",
        "!curl -s https://course19.fast.ai/setup/colab | bash"
      ],
      "execution_count": null,
      "outputs": [
        {
          "output_type": "stream",
          "text": [
            "Updating fastai...\n",
            "Done.\n"
          ],
          "name": "stdout"
        }
      ]
    },
    {
      "cell_type": "code",
      "metadata": {
        "id": "0lDWjiiuEyja",
        "outputId": "c96d3799-2b14-41ef-9831-80684fd758c2"
      },
      "source": [
        "#hide\n",
        "!pip freeze | grep torch\n",
        "!pip freeze | grep fast"
      ],
      "execution_count": null,
      "outputs": [
        {
          "output_type": "stream",
          "text": [
            "torch==1.7.0+cu101\n",
            "torch-xla==1.7\n",
            "torchsummary==1.5.1\n",
            "torchtext==0.3.1\n",
            "torchvision==0.8.1+cu101\n",
            "fastai==2.2.5\n",
            "fastcore==1.3.19\n",
            "fastdtw==0.3.4\n",
            "fastprogress==1.0.0\n",
            "fastrlock==0.5\n"
          ],
          "name": "stdout"
        }
      ]
    },
    {
      "cell_type": "markdown",
      "metadata": {
        "id": "OHoHuGRDEyjf"
      },
      "source": [
        "## Patching BaseOptimizer to be Pickable\n",
        "Patching Base Optimizer `__getstate__` and `__setstate__` whichi is used in pickling\n",
        "the optimizer which should fix the bug in running the learner in multiple TPU cores\n",
        "in XLA by which the  `def _fetch_gradients(optimizer)` in `for param_group in optimizer.__getstate__()['param_groups']:` fails, and this patch fixes the \"copy constructor\" to include the param_groups."
      ]
    },
    {
      "cell_type": "code",
      "metadata": {
        "id": "hfYsFzweEyjg"
      },
      "source": [
        "#export\n",
        "from fastai.optimizer import _BaseOptimizer\n",
        "from fastcore.basics import patch\n",
        "@patch\n",
        "def __getstate__(self:_BaseOptimizer):\n",
        "    d = {\n",
        "            'state': self.state_dict(),\n",
        "            'param_groups': self.param_groups,\n",
        "        }\n",
        "    if hasattr(self,'defaults'):\n",
        "        d['defaults'] = self.defaults\n",
        "    return d\n",
        "\n",
        "@patch\n",
        "def __setstate__(self:BaseOptimizer, data):\n",
        "    if 'defaults' in data:\n",
        "        self.defaults = data['defaults']\n",
        "    self.load_state_dict(data['state'])\n",
        "    self.param_groups = data['param_groups']"
      ],
      "execution_count": null,
      "outputs": []
    },
    {
      "cell_type": "code",
      "metadata": {
        "id": "uLstS8le_VpR"
      },
      "source": [
        "#TODO add tests for pickling optimizers"
      ],
      "execution_count": null,
      "outputs": []
    }
  ]
}