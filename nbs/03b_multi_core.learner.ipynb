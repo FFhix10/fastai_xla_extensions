{
  "nbformat": 4,
  "nbformat_minor": 0,
  "metadata": {
    "kernelspec": {
      "display_name": "Python 3",
      "language": "python",
      "name": "python3"
    },
    "colab": {
      "name": "03b_multi_core.learner.ipynb",
      "provenance": [],
      "collapsed_sections": [],
      "include_colab_link": true
    }
  },
  "cells": [
    {
      "cell_type": "markdown",
      "metadata": {
        "id": "view-in-github",
        "colab_type": "text"
      },
      "source": [
        "<a href=\"https://colab.research.google.com/github/butchland/fastai_xla_extensions/blob/master/nbs/03b_multi_core.learner.ipynb\" target=\"_parent\"><img src=\"https://colab.research.google.com/assets/colab-badge.svg\" alt=\"Open In Colab\"/></a>"
      ]
    },
    {
      "cell_type": "code",
      "metadata": {
        "id": "UTRJdtPYEyjJ"
      },
      "source": [
        "#default_exp multi_core.learner"
      ],
      "execution_count": null,
      "outputs": []
    },
    {
      "cell_type": "markdown",
      "metadata": {
        "id": "LM6xTsoCEyjR"
      },
      "source": [
        "# Multi Core XLA Learner extensions"
      ]
    },
    {
      "cell_type": "markdown",
      "metadata": {
        "id": "2V7-_R3REyjS"
      },
      "source": [
        "## Setup torch XLA\n"
      ]
    },
    {
      "cell_type": "markdown",
      "metadata": {
        "id": "lVk3wtU4EyjU"
      },
      "source": [
        "This is the official way to install Pytorch-XLA 1.7 [instructions here](https://colab.research.google.com/github/pytorch/xla/blob/master/contrib/colab/getting-started.ipynb#scrollTo=CHzziBW5AoZH)"
      ]
    },
    {
      "cell_type": "code",
      "metadata": {
        "id": "UvwrHRsCEyjU",
        "outputId": "b30d8859-5ac5-42de-caa9-9b1d85b538e7"
      },
      "source": [
        "#colab\n",
        "!pip install -Uqq cloud-tpu-client==0.10 https://storage.googleapis.com/tpu-pytorch/wheels/torch_xla-1.7-cp36-cp36m-linux_x86_64.whl"
      ],
      "execution_count": null,
      "outputs": [
        {
          "output_type": "stream",
          "text": [
            "\u001b[K     |████████████████████████████████| 133.6MB 78kB/s \n",
            "\u001b[K     |████████████████████████████████| 61kB 3.6MB/s \n",
            "\u001b[?25h"
          ],
          "name": "stdout"
        }
      ]
    },
    {
      "cell_type": "markdown",
      "metadata": {
        "id": "Fu1SG5MeEyjW"
      },
      "source": [
        "## Install fastai\n",
        "\n",
        "Use latest fastai and fastcore versions"
      ]
    },
    {
      "cell_type": "code",
      "metadata": {
        "id": "3vuf4bEDEyjX",
        "outputId": "b555c802-94e6-460d-dccb-954fb54a124b"
      },
      "source": [
        "#colab\n",
        "# !pip install -Uqq git+https://github.com/fastai/fastai.git \n",
        "!pip install -Uqq fastai --upgrade"
      ],
      "execution_count": null,
      "outputs": [
        {
          "output_type": "stream",
          "text": [
            "\u001b[K     |████████████████████████████████| 194kB 5.8MB/s \n",
            "\u001b[K     |████████████████████████████████| 61kB 5.2MB/s \n",
            "\u001b[?25h"
          ],
          "name": "stdout"
        }
      ]
    },
    {
      "cell_type": "code",
      "metadata": {
        "id": "RzPwpje6EyjY",
        "outputId": "16acf665-b9aa-4e4e-abaf-70e5479b3763"
      },
      "source": [
        "#hide\n",
        "#colab\n",
        "!pip install -Uqq git+https://github.com/butchland/my_timesaver_utils.git"
      ],
      "execution_count": null,
      "outputs": [
        {
          "output_type": "stream",
          "text": [
            "  Building wheel for my-timesaver-utils (setup.py) ... \u001b[?25l\u001b[?25hdone\n"
          ],
          "name": "stdout"
        }
      ]
    },
    {
      "cell_type": "code",
      "metadata": {
        "id": "VkQvNYzlEyjZ",
        "outputId": "61294962-4180-486c-e394-d485280e1839"
      },
      "source": [
        "#hide\n",
        "#colab\n",
        "!curl -s https://course19.fast.ai/setup/colab | bash"
      ],
      "execution_count": null,
      "outputs": [
        {
          "output_type": "stream",
          "text": [
            "Updating fastai...\n",
            "Done.\n"
          ],
          "name": "stdout"
        }
      ]
    },
    {
      "cell_type": "code",
      "metadata": {
        "id": "0lDWjiiuEyja",
        "outputId": "c96d3799-2b14-41ef-9831-80684fd758c2"
      },
      "source": [
        "#hide\n",
        "!pip freeze | grep torch\n",
        "!pip freeze | grep fast"
      ],
      "execution_count": null,
      "outputs": [
        {
          "output_type": "stream",
          "text": [
            "torch==1.7.0+cu101\n",
            "torch-xla==1.7\n",
            "torchsummary==1.5.1\n",
            "torchtext==0.3.1\n",
            "torchvision==0.8.1+cu101\n",
            "fastai==2.2.5\n",
            "fastcore==1.3.19\n",
            "fastdtw==0.3.4\n",
            "fastprogress==1.0.0\n",
            "fastrlock==0.5\n"
          ],
          "name": "stdout"
        }
      ]
    },
    {
      "cell_type": "code",
      "metadata": {
        "id": "abjAiQrwEu4k",
        "outputId": "1f41f57c-c3c2-42f9-80e0-459f7f4cb080"
      },
      "source": [
        "#hide\n",
        "#colab\n",
        "from google.colab import drive\n",
        "drive.mount('/content/drive')"
      ],
      "execution_count": null,
      "outputs": [
        {
          "output_type": "stream",
          "text": [
            "Mounted at /content/drive\n"
          ],
          "name": "stdout"
        }
      ]
    },
    {
      "cell_type": "code",
      "metadata": {
        "id": "-dyiSwj06V9I"
      },
      "source": [
        "#hide\n",
        "#colab\n",
        "%cd /content\n",
        "!ln -s /content/drive/MyDrive/fastai_xla_extensions fastai_xla_extensions"
      ],
      "execution_count": null,
      "outputs": []
    },
    {
      "cell_type": "code",
      "metadata": {
        "id": "FA0Ennpy51I0"
      },
      "source": [
        "%cd /content/fastai_xla_extensions/fastai_xla_extensions"
      ],
      "execution_count": null,
      "outputs": []
    },
    {
      "cell_type": "markdown",
      "metadata": {
        "id": "7nIAxK0zIZXk"
      },
      "source": [
        "Start of kernel"
      ]
    },
    {
      "cell_type": "code",
      "metadata": {
        "id": "aTyr9U_OIZXk"
      },
      "source": [
        "#exporti\n",
        "from fastai_xla_extensions.utils import xla_imported"
      ],
      "execution_count": null,
      "outputs": []
    },
    {
      "cell_type": "code",
      "metadata": {
        "id": "HK38cPLnEyjc"
      },
      "source": [
        "#exporti\n",
        "# import sys\n",
        "# def xla_imported():\n",
        "#     return 'torch_xla' in sys.modules"
      ],
      "execution_count": null,
      "outputs": []
    },
    {
      "cell_type": "code",
      "metadata": {
        "id": "AdI6xIfcEyjd",
        "outputId": "b10daf4e-dc65-4490-edf3-0b4cdbe34044"
      },
      "source": [
        "#exporti\n",
        "try:\n",
        "    import torch_xla\n",
        "except ImportError:\n",
        "    pass"
      ],
      "execution_count": null,
      "outputs": [
        {
          "output_type": "stream",
          "text": [
            "WARNING:root:TPU has started up successfully with version pytorch-1.7\n"
          ],
          "name": "stderr"
        }
      ]
    },
    {
      "cell_type": "markdown",
      "metadata": {
        "id": "u8IgMRFAEyjd"
      },
      "source": [
        ""
      ]
    },
    {
      "cell_type": "code",
      "metadata": {
        "id": "T8lEURzvEyjd"
      },
      "source": [
        "#hide\n",
        "#local\n",
        "if not xla_imported():\n",
        "    # replace torch xla modules with fake equivalents\n",
        "    from types import SimpleNamespace\n",
        "    torch_xla = SimpleNamespace (\n",
        "    )\n",
        "    from typing import Union,BinaryIO\n",
        "    import os\n",
        "    import pickle\n",
        "    import torch.cuda\n",
        "\n",
        "    def fake_opt_step(opt,barrier=False):\n",
        "        opt.step()\n",
        "        \n",
        "    def fake_device(n=None, devkind=None):\n",
        "        gpu_available = torch.cuda.is_available()\n",
        "        if gpu_available:\n",
        "            return torch.device(torch.cuda.current_device()) \n",
        "        return torch.device('cpu')\n",
        "\n",
        "    def fake_save(obj, f: Union[str, os.PathLike, BinaryIO], \n",
        "                master_only=True, global_master=False): \n",
        "        return torch.save(obj,f,pickle_module=pickle, \n",
        "                        pickle_protocol=2, \n",
        "                        _use_new_zipfile_serialization=True)\n",
        "    def fake_rate():\n",
        "        return 230.20\n",
        "\n",
        "    def fake_global_rate():\n",
        "        return 830.10\n",
        "\n",
        "    def fake_add(*args,**kwargs):\n",
        "        pass\n",
        "\n",
        "    def fake_RateTracker():\n",
        "        return SimpleNamespace(\n",
        "            rate = fake_rate,\n",
        "            global_rate = fake_global_rate,\n",
        "            add = fake_add\n",
        "        )\n",
        "    def fake_xrt_world_size():\n",
        "        return 1\n",
        "    def fake_get_ordinal():\n",
        "        return 0\n",
        "    xm = SimpleNamespace(\n",
        "        optimizer_step = fake_opt_step,\n",
        "        xla_device = fake_device,\n",
        "        save = fake_save,\n",
        "        RateTracker = fake_RateTracker,\n",
        "        master_print = print,\n",
        "        xrt_world_size = fake_xrt_world_size,\n",
        "        get_ordinal = fake_get_ordinal\n",
        "    )\n",
        "\n",
        "    def fake_metrics_report():\n",
        "        return \"Fake Metrics Report \\n\\n\\n\\n\"\n",
        "    met = SimpleNamespace (\n",
        "        metrics_report = fake_metrics_report\n",
        "    )\n",
        "\n",
        "    class FakeParallelLoader:\n",
        "        def __init__(self, loader, *args):\n",
        "            self.loader = loader\n",
        "        def per_device_loader(self,device):\n",
        "            return self.loader\n",
        "        \n",
        "    pl = SimpleNamespace(\n",
        "        ParallelLoader = FakeParallelLoader\n",
        "    )\n",
        "\n",
        "    def fake_MpModelWrapper(o):\n",
        "        return o\n",
        "\n",
        "    def fake_run(f,*args, **kwargs):\n",
        "            return f(*args,**kwargs)\n",
        "        \n",
        "    def fake_MpSerialExecutor():\n",
        "        return SimpleNamespace(\n",
        "            run = fake_run\n",
        "        )\n",
        "    def fake_spawn(f, args=None, nprocs=0, start_method=None):\n",
        "        return f(0,*args)\n",
        "\n",
        "    xmp = SimpleNamespace (\n",
        "        MpModelWrapper = fake_MpModelWrapper,\n",
        "        MpSerialExecutor = fake_MpSerialExecutor,\n",
        "        spawn = fake_spawn\n",
        "    )\n",
        "\n",
        "    xu = SimpleNamespace (\n",
        "    )\n"
      ],
      "execution_count": null,
      "outputs": []
    },
    {
      "cell_type": "markdown",
      "metadata": {
        "id": "dbhq6CflEyj2"
      },
      "source": [
        "## Expose xla fit methods on learner to simplify usage"
      ]
    },
    {
      "cell_type": "code",
      "metadata": {
        "id": "BaNkZmbpEyj2"
      },
      "source": [
        "#exporti\n",
        "from fastai_xla_extensions.multi_core import *\n",
        "from fastai_xla_extensions.misc_utils import *"
      ],
      "execution_count": null,
      "outputs": []
    },
    {
      "cell_type": "code",
      "metadata": {
        "id": "FeQVZA56Eyj2"
      },
      "source": [
        "#export\n",
        "def _make_xla_child_learner(rank, sync_valid,learner_args):\n",
        "    sync_valid = True\n",
        "    device = xm.xla_device()\n",
        "    world_size = xm.xrt_world_size()\n",
        "    dls = make_distributed_dataloaders(learner_args.pop('base_dls'), \n",
        "                                       rank, world_size, sync_valid=sync_valid)\n",
        "    \n",
        "    model = learner_args.pop('wrapped_model').to(device)\n",
        "\n",
        "    learner = Learner(dls, model,**learner_args)\n",
        "    learner.to_xla(device, rank, sync_valid=sync_valid)\n",
        "    return learner\n",
        "    \n"
      ],
      "execution_count": null,
      "outputs": []
    },
    {
      "cell_type": "code",
      "metadata": {
        "id": "Ob8QsxzbEyj2"
      },
      "source": [
        "#export\n",
        "def _xla_run_fit(rank, learner_args, fit_args):\n",
        "    sync_valid = True\n",
        "    learner = _make_xla_child_learner(rank, sync_valid, learner_args)    \n",
        "    learner.fit(**fit_args)\n",
        "    learner.save('_xla_tmp_model')\n",
        "    xm.mark_step()"
      ],
      "execution_count": null,
      "outputs": []
    },
    {
      "cell_type": "code",
      "metadata": {
        "id": "MYjIrV40Eyj3"
      },
      "source": [
        "#export\n",
        "def _xla_run_fit_one_cycle(rank, learner_args, fit_args):\n",
        "    sync_valid = True\n",
        "    learner = _make_xla_child_learner(rank, sync_valid, learner_args)      \n",
        "    learner.fit_one_cycle(**fit_args)\n",
        "    learner.save('_xla_tmp_model')\n",
        "    xm.mark_step()"
      ],
      "execution_count": null,
      "outputs": []
    },
    {
      "cell_type": "code",
      "metadata": {
        "id": "NxvD1o_SEyj3"
      },
      "source": [
        "#export\n",
        "from fastcore.basics import defaults, patch_to, patch\n",
        "from fastai.learner import Learner\n",
        "from fastai.callback.progress import ProgressCallback\n",
        "@patch_to(Learner)\n",
        "def pack_learner_args(self):\n",
        "    learner_args = {}\n",
        "    learner_args['wrapped_model'] =  xmp.MpModelWrapper(self.model)\n",
        "    learner_args['base_dls'] = self.dls\n",
        "    learner_args['opt_func'] = self.opt_func\n",
        "    learner_args['loss_func'] = self.loss_func\n",
        "    learner_args['metrics'] = self.metrics\n",
        "    # fetch only cbs not in defaults\n",
        "    if ProgressCallback not in defaults.callbacks:\n",
        "        defaults.callbacks.append(ProgressCallback)\n",
        "    learner_args['cbs'] = [cb for cb in self.cbs \n",
        "                      if cb.name not in L(defaults.callbacks).attrgot('name')]\n",
        "\n",
        "    learner_args['wd'] = self.wd\n",
        "    learner_args['moms'] = self.moms\n",
        "    learner_args['lr'] = self.lr\n",
        "    learner_args['splitter'] = self.splitter\n",
        "    learner_args['path'] = self.path\n",
        "    learner_args['model_dir'] = self.model_dir\n",
        "    learner_args['wd_bn_bias'] = self.wd_bn_bias\n",
        "    learner_args['train_bn'] = self.train_bn\n",
        "    return learner_args"
      ],
      "execution_count": null,
      "outputs": []
    },
    {
      "cell_type": "code",
      "metadata": {
        "id": "JiE3S3kzEyj4"
      },
      "source": [
        "#export\n",
        "@patch_to(Learner)\n",
        "def reload_child_model(self):\n",
        "    # blatantly stolen from fastai LRFinder after_fit :)\n",
        "    tmp_f = self.path/self.model_dir/'_xla_tmp_model.pth'\n",
        "    if tmp_f.exists():\n",
        "        self.opt.zero_grad() \n",
        "        self.load('_xla_tmp_model', with_opt=False)\n",
        "        os.remove(tmp_f)  \n",
        "        self.create_opt()  "
      ],
      "execution_count": null,
      "outputs": []
    },
    {
      "cell_type": "code",
      "metadata": {
        "id": "FJG2cNkjEyj4"
      },
      "source": [
        "#export\n",
        "\n",
        "from fastcore.meta import delegates\n",
        "@patch\n",
        "@delegates(Learner.fit, but='num_cores')\n",
        "def xla_fit(self:Learner, n_epoch, num_cores=8, **kwargs):\n",
        "    \"\"\"call fit in multicore tpu environment\"\"\"\n",
        "    self.remove_cbs(ProgressCallback)\n",
        "    learner_args = self.pack_learner_args()\n",
        "    fit_args={**kwargs}\n",
        "    fit_args['n_epoch'] = n_epoch\n",
        "    xmp.spawn(_xla_run_fit,\n",
        "              args=(learner_args, fit_args,),\n",
        "              nprocs=num_cores,\n",
        "              start_method='fork')\n",
        "    self.reload_child_model()\n",
        "    self.add_cbs(ProgressCallback)\n"
      ],
      "execution_count": null,
      "outputs": []
    },
    {
      "cell_type": "code",
      "metadata": {
        "id": "gyKXJaNGEyj5"
      },
      "source": [
        "#export\n",
        "from fastai.learner import Learner\n",
        "from fastai.callback.schedule import *\n",
        "@patch\n",
        "@delegates(Learner.fit_one_cycle, but='num_cores')\n",
        "def xla_fit_one_cycle(self:Learner, n_epoch, num_cores=8, **kwargs):\n",
        "    \"\"\"call fit_one_cycle in multicore tpu environment\"\"\"\n",
        "    self.remove_cbs(ProgressCallback)\n",
        "    learner_args = self.pack_learner_args()\n",
        "    fit_args={**kwargs}\n",
        "    fit_args['n_epoch'] = n_epoch\n",
        "    xmp.spawn(_xla_run_fit_one_cycle,\n",
        "              args=(learner_args, fit_args,),\n",
        "              nprocs=num_cores,\n",
        "              start_method='fork')\n",
        "    self.reload_child_model()\n",
        "    self.add_cbs(ProgressCallback)"
      ],
      "execution_count": null,
      "outputs": []
    },
    {
      "cell_type": "code",
      "metadata": {
        "id": "uxPR_KhyEyj5"
      },
      "source": [
        "#colab\n",
        "path = untar_data(URLs.MNIST_TINY)"
      ],
      "execution_count": null,
      "outputs": []
    },
    {
      "cell_type": "code",
      "metadata": {
        "id": "jBVamW2wEyj7"
      },
      "source": [
        "#colab\n",
        "data = DataBlock(\n",
        "    blocks=(ImageBlock,CategoryBlock),\n",
        "    get_items=get_image_files,\n",
        "    get_y=parent_label,\n",
        "    splitter=GrandparentSplitter(),\n",
        "    item_tfms=Resize(28),\n",
        "    batch_tfms=[]\n",
        ")"
      ],
      "execution_count": null,
      "outputs": []
    },
    {
      "cell_type": "code",
      "metadata": {
        "id": "CW3xVgKtEyj7"
      },
      "source": [
        "#colab\n",
        "dls = data.dataloaders(path, bs=16)"
      ],
      "execution_count": null,
      "outputs": []
    },
    {
      "cell_type": "code",
      "metadata": {
        "id": "mcm9UnlUEyj7"
      },
      "source": [
        "#colab\n",
        "# concat_pool must be false due to a TPU bug that is triggered if using fastai AdaptivePool\n",
        "from fastai.vision.learner import cnn_learner\n",
        "from torchvision.models.resnet import resnet18\n",
        "learner = cnn_learner(dls, resnet18, metrics=accuracy, concat_pool=False)"
      ],
      "execution_count": null,
      "outputs": []
    },
    {
      "cell_type": "code",
      "metadata": {
        "id": "5vYaE1mTEyj8"
      },
      "source": [
        "#colab\n",
        "#hide\n",
        "assert hasattr(learner,'xla_fit')"
      ],
      "execution_count": null,
      "outputs": []
    },
    {
      "cell_type": "code",
      "metadata": {
        "id": "TVqkfGBsEyj8",
        "outputId": "2b4465f5-b66c-419a-feeb-eeaf997079d7"
      },
      "source": [
        "#colab\n",
        "%%time\n",
        "learner.xla_fit_one_cycle(5,lr_max=slice(2e-3))\n"
      ],
      "execution_count": null,
      "outputs": [
        {
          "output_type": "stream",
          "text": [
            "start fit\n"
          ],
          "name": "stdout"
        },
        {
          "output_type": "display_data",
          "data": {
            "text/html": [
              "<table border=\"1\" class=\"dataframe\">\n",
              "  <thead>\n",
              "    <tr style=\"text-align: left;\">\n",
              "      <th>epoch</th>\n",
              "      <th>train_loss</th>\n",
              "      <th>valid_loss</th>\n",
              "      <th>accuracy</th>\n",
              "      <th>time</th>\n",
              "    </tr>\n",
              "  </thead>\n",
              "  <tbody>\n",
              "  </tbody>\n",
              "</table>"
            ],
            "text/plain": [
              "<IPython.core.display.HTML object>"
            ]
          },
          "metadata": {
            "tags": []
          }
        },
        {
          "output_type": "display_data",
          "data": {
            "text/html": [
              "<table border=\"1\" class=\"dataframe\">\n",
              "  <thead>\n",
              "    <tr style=\"text-align: left;\">\n",
              "      <th>epoch</th>\n",
              "      <th>train_loss</th>\n",
              "      <th>valid_loss</th>\n",
              "      <th>accuracy</th>\n",
              "      <th>time</th>\n",
              "    </tr>\n",
              "  </thead>\n",
              "  <tbody>\n",
              "    <tr>\n",
              "      <td>0</td>\n",
              "      <td>0.204781</td>\n",
              "      <td>0.384089</td>\n",
              "      <td>0.927557</td>\n",
              "      <td>00:14</td>\n",
              "    </tr>\n",
              "    <tr>\n",
              "      <td>1</td>\n",
              "      <td>0.184112</td>\n",
              "      <td>0.361853</td>\n",
              "      <td>0.828125</td>\n",
              "      <td>00:05</td>\n",
              "    </tr>\n",
              "    <tr>\n",
              "      <td>2</td>\n",
              "      <td>0.212741</td>\n",
              "      <td>0.367217</td>\n",
              "      <td>0.846591</td>\n",
              "      <td>00:05</td>\n",
              "    </tr>\n",
              "    <tr>\n",
              "      <td>3</td>\n",
              "      <td>0.243097</td>\n",
              "      <td>0.301363</td>\n",
              "      <td>0.879261</td>\n",
              "      <td>00:05</td>\n",
              "    </tr>\n",
              "    <tr>\n",
              "      <td>4</td>\n",
              "      <td>0.253019</td>\n",
              "      <td>0.289174</td>\n",
              "      <td>0.901989</td>\n",
              "      <td>00:05</td>\n",
              "    </tr>\n",
              "  </tbody>\n",
              "</table>"
            ],
            "text/plain": [
              "<IPython.core.display.HTML object>"
            ]
          },
          "metadata": {
            "tags": []
          }
        },
        {
          "output_type": "stream",
          "text": [
            "CPU times: user 164 ms, sys: 229 ms, total: 392 ms\n",
            "Wall time: 59.6 s\n"
          ],
          "name": "stdout"
        }
      ]
    },
    {
      "cell_type": "code",
      "metadata": {
        "id": "UFU_x920Eyj8",
        "outputId": "e1309cef-3b87-4b34-8576-01ddb8811c08"
      },
      "source": [
        "#colab\n",
        "res = learner.get_preds()\n",
        "print(accuracy(*res))"
      ],
      "execution_count": null,
      "outputs": [
        {
          "output_type": "display_data",
          "data": {
            "text/html": [
              ""
            ],
            "text/plain": [
              "<IPython.core.display.HTML object>"
            ]
          },
          "metadata": {
            "tags": []
          }
        },
        {
          "output_type": "stream",
          "text": [
            "TensorBase(0.8984)\n"
          ],
          "name": "stdout"
        }
      ]
    },
    {
      "cell_type": "code",
      "metadata": {
        "id": "SOdsm6rREyj9",
        "outputId": "abda4249-6ee0-4ba0-b7e4-c60456823c91"
      },
      "source": [
        "#colab\n",
        "#hide\n",
        "learner.summary()"
      ],
      "execution_count": null,
      "outputs": [
        {
          "output_type": "display_data",
          "data": {
            "text/html": [
              ""
            ],
            "text/plain": [
              "<IPython.core.display.HTML object>"
            ]
          },
          "metadata": {
            "tags": []
          }
        },
        {
          "output_type": "execute_result",
          "data": {
            "text/plain": [
              "Sequential (Input shape: 16)\n",
              "============================================================================\n",
              "Layer (type)         Output Shape         Param #    Trainable \n",
              "============================================================================\n",
              "                     16 x 64 x 14 x 14   \n",
              "Conv2d                                    9408       False     \n",
              "BatchNorm2d                               128        True      \n",
              "ReLU                                                           \n",
              "MaxPool2d                                                      \n",
              "Conv2d                                    36864      False     \n",
              "BatchNorm2d                               128        True      \n",
              "ReLU                                                           \n",
              "Conv2d                                    36864      False     \n",
              "BatchNorm2d                               128        True      \n",
              "Conv2d                                    36864      False     \n",
              "BatchNorm2d                               128        True      \n",
              "ReLU                                                           \n",
              "Conv2d                                    36864      False     \n",
              "BatchNorm2d                               128        True      \n",
              "____________________________________________________________________________\n",
              "                     16 x 128 x 4 x 4    \n",
              "Conv2d                                    73728      False     \n",
              "BatchNorm2d                               256        True      \n",
              "ReLU                                                           \n",
              "Conv2d                                    147456     False     \n",
              "BatchNorm2d                               256        True      \n",
              "Conv2d                                    8192       False     \n",
              "BatchNorm2d                               256        True      \n",
              "Conv2d                                    147456     False     \n",
              "BatchNorm2d                               256        True      \n",
              "ReLU                                                           \n",
              "Conv2d                                    147456     False     \n",
              "BatchNorm2d                               256        True      \n",
              "____________________________________________________________________________\n",
              "                     16 x 256 x 2 x 2    \n",
              "Conv2d                                    294912     False     \n",
              "BatchNorm2d                               512        True      \n",
              "ReLU                                                           \n",
              "Conv2d                                    589824     False     \n",
              "BatchNorm2d                               512        True      \n",
              "Conv2d                                    32768      False     \n",
              "BatchNorm2d                               512        True      \n",
              "Conv2d                                    589824     False     \n",
              "BatchNorm2d                               512        True      \n",
              "ReLU                                                           \n",
              "Conv2d                                    589824     False     \n",
              "BatchNorm2d                               512        True      \n",
              "____________________________________________________________________________\n",
              "                     16 x 512 x 1 x 1    \n",
              "Conv2d                                    1179648    False     \n",
              "BatchNorm2d                               1024       True      \n",
              "ReLU                                                           \n",
              "Conv2d                                    2359296    False     \n",
              "BatchNorm2d                               1024       True      \n",
              "Conv2d                                    131072     False     \n",
              "BatchNorm2d                               1024       True      \n",
              "Conv2d                                    2359296    False     \n",
              "BatchNorm2d                               1024       True      \n",
              "ReLU                                                           \n",
              "Conv2d                                    2359296    False     \n",
              "BatchNorm2d                               1024       True      \n",
              "AdaptiveAvgPool2d                                              \n",
              "Flatten                                                        \n",
              "BatchNorm1d                               1024       True      \n",
              "Dropout                                                        \n",
              "Linear                                    262144     True      \n",
              "ReLU                                                           \n",
              "BatchNorm1d                               1024       True      \n",
              "Dropout                                                        \n",
              "____________________________________________________________________________\n",
              "                     16 x 2              \n",
              "Linear                                    1024       True      \n",
              "____________________________________________________________________________\n",
              "\n",
              "Total params: 11,441,728\n",
              "Total trainable params: 274,816\n",
              "Total non-trainable params: 11,166,912\n",
              "\n",
              "Optimizer used: <function Adam at 0x7f0e888a87b8>\n",
              "Loss function: FlattenedLoss of CrossEntropyLoss()\n",
              "\n",
              "Model unfrozen\n",
              "\n",
              "Callbacks:\n",
              "  - TrainEvalCallback\n",
              "  - Recorder\n",
              "  - ProgressCallback"
            ]
          },
          "metadata": {
            "tags": []
          },
          "execution_count": 0
        }
      ]
    },
    {
      "cell_type": "code",
      "metadata": {
        "id": "E4uK3JtMEyj9"
      },
      "source": [
        "#colab\n",
        "learner.unfreeze()"
      ],
      "execution_count": null,
      "outputs": []
    },
    {
      "cell_type": "code",
      "metadata": {
        "id": "RezWuWBAEyj9",
        "outputId": "f92faa84-967f-40c1-b5b0-3be819d626dd"
      },
      "source": [
        "#colab\n",
        "#hide\n",
        "learner.summary()"
      ],
      "execution_count": null,
      "outputs": [
        {
          "output_type": "display_data",
          "data": {
            "text/html": [
              ""
            ],
            "text/plain": [
              "<IPython.core.display.HTML object>"
            ]
          },
          "metadata": {
            "tags": []
          }
        },
        {
          "output_type": "execute_result",
          "data": {
            "text/plain": [
              "Sequential (Input shape: 16)\n",
              "============================================================================\n",
              "Layer (type)         Output Shape         Param #    Trainable \n",
              "============================================================================\n",
              "                     16 x 64 x 14 x 14   \n",
              "Conv2d                                    9408       True      \n",
              "BatchNorm2d                               128        True      \n",
              "ReLU                                                           \n",
              "MaxPool2d                                                      \n",
              "Conv2d                                    36864      True      \n",
              "BatchNorm2d                               128        True      \n",
              "ReLU                                                           \n",
              "Conv2d                                    36864      True      \n",
              "BatchNorm2d                               128        True      \n",
              "Conv2d                                    36864      True      \n",
              "BatchNorm2d                               128        True      \n",
              "ReLU                                                           \n",
              "Conv2d                                    36864      True      \n",
              "BatchNorm2d                               128        True      \n",
              "____________________________________________________________________________\n",
              "                     16 x 128 x 4 x 4    \n",
              "Conv2d                                    73728      True      \n",
              "BatchNorm2d                               256        True      \n",
              "ReLU                                                           \n",
              "Conv2d                                    147456     True      \n",
              "BatchNorm2d                               256        True      \n",
              "Conv2d                                    8192       True      \n",
              "BatchNorm2d                               256        True      \n",
              "Conv2d                                    147456     True      \n",
              "BatchNorm2d                               256        True      \n",
              "ReLU                                                           \n",
              "Conv2d                                    147456     True      \n",
              "BatchNorm2d                               256        True      \n",
              "____________________________________________________________________________\n",
              "                     16 x 256 x 2 x 2    \n",
              "Conv2d                                    294912     True      \n",
              "BatchNorm2d                               512        True      \n",
              "ReLU                                                           \n",
              "Conv2d                                    589824     True      \n",
              "BatchNorm2d                               512        True      \n",
              "Conv2d                                    32768      True      \n",
              "BatchNorm2d                               512        True      \n",
              "Conv2d                                    589824     True      \n",
              "BatchNorm2d                               512        True      \n",
              "ReLU                                                           \n",
              "Conv2d                                    589824     True      \n",
              "BatchNorm2d                               512        True      \n",
              "____________________________________________________________________________\n",
              "                     16 x 512 x 1 x 1    \n",
              "Conv2d                                    1179648    True      \n",
              "BatchNorm2d                               1024       True      \n",
              "ReLU                                                           \n",
              "Conv2d                                    2359296    True      \n",
              "BatchNorm2d                               1024       True      \n",
              "Conv2d                                    131072     True      \n",
              "BatchNorm2d                               1024       True      \n",
              "Conv2d                                    2359296    True      \n",
              "BatchNorm2d                               1024       True      \n",
              "ReLU                                                           \n",
              "Conv2d                                    2359296    True      \n",
              "BatchNorm2d                               1024       True      \n",
              "AdaptiveAvgPool2d                                              \n",
              "Flatten                                                        \n",
              "BatchNorm1d                               1024       True      \n",
              "Dropout                                                        \n",
              "Linear                                    262144     True      \n",
              "ReLU                                                           \n",
              "BatchNorm1d                               1024       True      \n",
              "Dropout                                                        \n",
              "____________________________________________________________________________\n",
              "                     16 x 2              \n",
              "Linear                                    1024       True      \n",
              "____________________________________________________________________________\n",
              "\n",
              "Total params: 11,441,728\n",
              "Total trainable params: 11,441,728\n",
              "Total non-trainable params: 0\n",
              "\n",
              "Optimizer used: <function Adam at 0x7f0e888a87b8>\n",
              "Loss function: FlattenedLoss of CrossEntropyLoss()\n",
              "\n",
              "Model unfrozen\n",
              "\n",
              "Callbacks:\n",
              "  - TrainEvalCallback\n",
              "  - Recorder\n",
              "  - ProgressCallback"
            ]
          },
          "metadata": {
            "tags": []
          },
          "execution_count": 0
        }
      ]
    },
    {
      "cell_type": "code",
      "metadata": {
        "id": "QWyBUEENEyj9",
        "outputId": "c23ae230-5414-46e1-d7bd-db2ef634f478"
      },
      "source": [
        "#colab\n",
        "learner.xla_fit(n_epoch=5, lr=2e-3)"
      ],
      "execution_count": null,
      "outputs": [
        {
          "output_type": "stream",
          "text": [
            "start fit\n"
          ],
          "name": "stdout"
        },
        {
          "output_type": "display_data",
          "data": {
            "text/html": [
              "<table border=\"1\" class=\"dataframe\">\n",
              "  <thead>\n",
              "    <tr style=\"text-align: left;\">\n",
              "      <th>epoch</th>\n",
              "      <th>train_loss</th>\n",
              "      <th>valid_loss</th>\n",
              "      <th>accuracy</th>\n",
              "      <th>time</th>\n",
              "    </tr>\n",
              "  </thead>\n",
              "  <tbody>\n",
              "  </tbody>\n",
              "</table>"
            ],
            "text/plain": [
              "<IPython.core.display.HTML object>"
            ]
          },
          "metadata": {
            "tags": []
          }
        },
        {
          "output_type": "display_data",
          "data": {
            "text/html": [
              "<table border=\"1\" class=\"dataframe\">\n",
              "  <thead>\n",
              "    <tr style=\"text-align: left;\">\n",
              "      <th>epoch</th>\n",
              "      <th>train_loss</th>\n",
              "      <th>valid_loss</th>\n",
              "      <th>accuracy</th>\n",
              "      <th>time</th>\n",
              "    </tr>\n",
              "  </thead>\n",
              "  <tbody>\n",
              "    <tr>\n",
              "      <td>0</td>\n",
              "      <td>0.073536</td>\n",
              "      <td>0.028147</td>\n",
              "      <td>0.990057</td>\n",
              "      <td>00:22</td>\n",
              "    </tr>\n",
              "    <tr>\n",
              "      <td>1</td>\n",
              "      <td>0.082206</td>\n",
              "      <td>0.767614</td>\n",
              "      <td>0.946023</td>\n",
              "      <td>00:05</td>\n",
              "    </tr>\n",
              "    <tr>\n",
              "      <td>2</td>\n",
              "      <td>0.073394</td>\n",
              "      <td>1.637862</td>\n",
              "      <td>0.843750</td>\n",
              "      <td>00:05</td>\n",
              "    </tr>\n",
              "    <tr>\n",
              "      <td>3</td>\n",
              "      <td>0.071335</td>\n",
              "      <td>0.842607</td>\n",
              "      <td>0.901989</td>\n",
              "      <td>00:05</td>\n",
              "    </tr>\n",
              "    <tr>\n",
              "      <td>4</td>\n",
              "      <td>0.075052</td>\n",
              "      <td>0.100458</td>\n",
              "      <td>0.974432</td>\n",
              "      <td>00:05</td>\n",
              "    </tr>\n",
              "  </tbody>\n",
              "</table>"
            ],
            "text/plain": [
              "<IPython.core.display.HTML object>"
            ]
          },
          "metadata": {
            "tags": []
          }
        }
      ]
    },
    {
      "cell_type": "code",
      "metadata": {
        "id": "tCScvATOEyj-",
        "outputId": "39860955-5df4-4366-e79b-fafe6912d91d"
      },
      "source": [
        "#colab\n",
        "learner.validate()"
      ],
      "execution_count": null,
      "outputs": [
        {
          "output_type": "display_data",
          "data": {
            "text/html": [
              ""
            ],
            "text/plain": [
              "<IPython.core.display.HTML object>"
            ]
          },
          "metadata": {
            "tags": []
          }
        },
        {
          "output_type": "execute_result",
          "data": {
            "text/plain": [
              "(#2) [0.04073491320014,0.9871244430541992]"
            ]
          },
          "metadata": {
            "tags": []
          },
          "execution_count": 0
        }
      ]
    },
    {
      "cell_type": "code",
      "metadata": {
        "id": "_cBWdKcxEyj-"
      },
      "source": [
        ""
      ],
      "execution_count": null,
      "outputs": []
    }
  ]
}